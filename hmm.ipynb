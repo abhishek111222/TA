{
  "nbformat": 4,
  "nbformat_minor": 0,
  "metadata": {
    "colab": {
      "name": "hmm.ipynb",
      "provenance": []
    },
    "kernelspec": {
      "name": "python3",
      "display_name": "Python 3"
    },
    "language_info": {
      "name": "python"
    }
  },
  "cells": [
    {
      "cell_type": "code",
      "metadata": {
        "id": "km4JiaxWCNHe"
      },
      "source": [
        "import os\n",
        "import pandas as pd\n",
        "import numpy as np"
      ],
      "execution_count": 1,
      "outputs": []
    },
    {
      "cell_type": "code",
      "metadata": {
        "colab": {
          "base_uri": "https://localhost:8080/"
        },
        "id": "OObgP1TKC5Oo",
        "outputId": "9c8f401d-d95b-4955-ddd5-d26685d17c16"
      },
      "source": [
        "import nltk\n",
        "nltk.download('averaged_perceptron_tagger')"
      ],
      "execution_count": 2,
      "outputs": [
        {
          "output_type": "stream",
          "text": [
            "[nltk_data] Downloading package averaged_perceptron_tagger to\n",
            "[nltk_data]     /root/nltk_data...\n",
            "[nltk_data]   Package averaged_perceptron_tagger is already up-to-\n",
            "[nltk_data]       date!\n"
          ],
          "name": "stdout"
        },
        {
          "output_type": "execute_result",
          "data": {
            "text/plain": [
              "True"
            ]
          },
          "metadata": {
            "tags": []
          },
          "execution_count": 2
        }
      ]
    },
    {
      "cell_type": "code",
      "metadata": {
        "colab": {
          "base_uri": "https://localhost:8080/"
        },
        "id": "K9CWBTdjB6kb",
        "outputId": "8049928d-5dd0-4d8b-93b2-1bcdc0b1cb99"
      },
      "source": [
        "from google.colab import drive\n",
        "drive.mount(\"/content/gdrive/\")"
      ],
      "execution_count": 3,
      "outputs": [
        {
          "output_type": "stream",
          "text": [
            "Drive already mounted at /content/gdrive/; to attempt to forcibly remount, call drive.mount(\"/content/gdrive/\", force_remount=True).\n"
          ],
          "name": "stdout"
        }
      ]
    },
    {
      "cell_type": "code",
      "metadata": {
        "colab": {
          "base_uri": "https://localhost:8080/"
        },
        "id": "r18yT_R4CA7N",
        "outputId": "c89198fa-ce3c-475c-e0b5-b5b08d9a9a28"
      },
      "source": [
        "cd gdrive/MyDrive/coursework"
      ],
      "execution_count": 4,
      "outputs": [
        {
          "output_type": "stream",
          "text": [
            "/content/gdrive/MyDrive/coursework\n"
          ],
          "name": "stdout"
        }
      ]
    },
    {
      "cell_type": "code",
      "metadata": {
        "id": "vlAEdTkXCJvM"
      },
      "source": [
        "from scienceie_loader import load_tokenized_data, load_data_with_char_offsets, get_entity_span_from_B_index"
      ],
      "execution_count": 5,
      "outputs": []
    },
    {
      "cell_type": "code",
      "metadata": {
        "id": "WgMPIfFcCLHz"
      },
      "source": [
        "data_root = os.path.join(os.getcwd(), 'original_datasets')\n",
        "data_train = os.path.join(data_root, 'scienceie2017_train/train2')\n",
        "data_dev = os.path.join(data_root, 'scienceie2017_dev/dev')\n",
        "data_test = os.path.join(data_root, 'semeval_articles_test')"
      ],
      "execution_count": 6,
      "outputs": []
    },
    {
      "cell_type": "code",
      "metadata": {
        "id": "UaETu9VaCMGl"
      },
      "source": [
        "train_docs, train_rels, _ = load_tokenized_data(data_train)\n",
        "test_docs, test_rels, _ = load_tokenized_data(data_test)\n",
        "#dev_docs, dev_rels, _ = load_tokenized_data(data_dev)"
      ],
      "execution_count": 7,
      "outputs": []
    },
    {
      "cell_type": "code",
      "metadata": {
        "id": "vnSV1ydCE-zd"
      },
      "source": [
        "train_tagged_words = [ tup for sent in train_docs for tup in sent ]\n",
        "test_tagged_words = [ tup for sent in test_docs for tup in sent ]"
      ],
      "execution_count": 8,
      "outputs": []
    },
    {
      "cell_type": "code",
      "metadata": {
        "colab": {
          "base_uri": "https://localhost:8080/"
        },
        "id": "RemnLxpkE7MV",
        "outputId": "27de9c90-6537-45a7-bb48-f695110d0212"
      },
      "source": [
        "ne_tags = {tag for word, tag in train_tagged_words} \n",
        "print(ne_tags)"
      ],
      "execution_count": 9,
      "outputs": [
        {
          "output_type": "stream",
          "text": [
            "{'I-Task', 'B-Task', 'B-Process', 'O', 'B-Material', 'I-Process', 'I-Material'}\n"
          ],
          "name": "stdout"
        }
      ]
    },
    {
      "cell_type": "code",
      "metadata": {
        "id": "XqN8qZGJCTAd"
      },
      "source": [
        "def train_HMM_POS_tagger(train_set):\n",
        "    tagger = nltk.tag.hmm.HiddenMarkovModelTagger.train(train_set)\n",
        "    return tagger"
      ],
      "execution_count": 10,
      "outputs": []
    },
    {
      "cell_type": "code",
      "metadata": {
        "id": "QMv1aN3JC_7Q"
      },
      "source": [
        "tagger = train_HMM_POS_tagger(train_docs)"
      ],
      "execution_count": 11,
      "outputs": []
    },
    {
      "cell_type": "code",
      "metadata": {
        "id": "XS5i52ZFDML_"
      },
      "source": [
        "def tag_test_set(test_set, tagger):\n",
        "    test_sents = [[token for token,tag in sent] for sent in test_set]\n",
        "    predicted_tags = tagger.tag_sents(test_sents)\n",
        "    return predicted_tags"
      ],
      "execution_count": 12,
      "outputs": []
    },
    {
      "cell_type": "code",
      "metadata": {
        "id": "ZGIU2aN2F6OY"
      },
      "source": [
        "predicted_tags = tag_test_set(test_docs,tagger)"
      ],
      "execution_count": 13,
      "outputs": []
    },
    {
      "cell_type": "code",
      "metadata": {
        "id": "TG30Co4dEa9x"
      },
      "source": [
        "test_sents_with_predicted_tags = tag_test_set(test_docs, tagger)"
      ],
      "execution_count": 14,
      "outputs": []
    },
    {
      "cell_type": "code",
      "metadata": {
        "colab": {
          "base_uri": "https://localhost:8080/"
        },
        "id": "VPqk7TCkEgsz",
        "outputId": "76750ad0-945d-41c9-af79-86561757790f"
      },
      "source": [
        "test_sents_with_predicted_tags[ : 2]"
      ],
      "execution_count": 15,
      "outputs": [
        {
          "output_type": "execute_result",
          "data": {
            "text/plain": [
              "[[('Three-dimensional', 'B-Task'),\n",
              "  ('digital', 'I-Task'),\n",
              "  ('subtraction', 'I-Task'),\n",
              "  ('angiographic', 'I-Task'),\n",
              "  ('(', 'O'),\n",
              "  ('3D-DSA', 'B-Material'),\n",
              "  (')', 'I-Material'),\n",
              "  ('images', 'I-Material'),\n",
              "  ('from', 'I-Material'),\n",
              "  ('diagnostic', 'I-Material'),\n",
              "  ('cerebral', 'I-Material'),\n",
              "  ('angiography', 'I-Material'),\n",
              "  ('were', 'O'),\n",
              "  ('obtained', 'O'),\n",
              "  ('at', 'O'),\n",
              "  ('least', 'O'),\n",
              "  ('one', 'O'),\n",
              "  ('day', 'O'),\n",
              "  ('prior', 'O'),\n",
              "  ('to', 'O'),\n",
              "  ('embolization', 'O'),\n",
              "  ('in', 'O'),\n",
              "  ('all', 'O'),\n",
              "  ('patients.', 'O'),\n",
              "  ('The', 'O'),\n",
              "  ('raw', 'B-Material'),\n",
              "  ('data', 'I-Material'),\n",
              "  ('of', 'I-Material'),\n",
              "  ('3D-DSA', 'I-Material'),\n",
              "  ('in', 'O'),\n",
              "  ('a', 'O'),\n",
              "  ('DICOM', 'B-Material'),\n",
              "  ('file', 'I-Material'),\n",
              "  ('were', 'O'),\n",
              "  ('used', 'O'),\n",
              "  ('for', 'O'),\n",
              "  ('creating', 'B-Task'),\n",
              "  ('a', 'I-Task'),\n",
              "  ('3D', 'I-Task'),\n",
              "  ('model', 'I-Task'),\n",
              "  ('of', 'I-Task'),\n",
              "  ('the', 'I-Task'),\n",
              "  ('target', 'I-Task'),\n",
              "  ('vessel', 'I-Task'),\n",
              "  ('segment.', 'I-Task'),\n",
              "  ('These', 'O'),\n",
              "  ('data', 'O'),\n",
              "  ('were', 'O'),\n",
              "  ('converted', 'O'),\n",
              "  ('to', 'O'),\n",
              "  ('standard', 'B-Material'),\n",
              "  ('triangulation', 'I-Material'),\n",
              "  ('language', 'I-Material'),\n",
              "  ('(', 'I-Material'),\n",
              "  ('STL', 'I-Material'),\n",
              "  (')', 'I-Material'),\n",
              "  ('surface', 'I-Material'),\n",
              "  ('data', 'I-Material'),\n",
              "  ('as', 'O'),\n",
              "  ('an', 'O'),\n",
              "  ('aggregation', 'B-Process'),\n",
              "  ('of', 'O'),\n",
              "  ('fine', 'B-Material'),\n",
              "  ('triangular', 'I-Material'),\n",
              "  ('meshes', 'I-Material'),\n",
              "  ('using', 'O'),\n",
              "  ('3D', 'O'),\n",
              "  ('visualization', 'B-Task'),\n",
              "  ('and', 'I-Task'),\n",
              "  ('measurement', 'I-Task'),\n",
              "  ('software', 'I-Task'),\n",
              "  ('(', 'I-Task'),\n",
              "  ('Amira', 'I-Task'),\n",
              "  ('version', 'I-Task'),\n",
              "  ('X', 'I-Task'),\n",
              "  (',', 'O'),\n",
              "  ('FEI', 'O'),\n",
              "  (',', 'O'),\n",
              "  ('Burlington', 'O'),\n",
              "  (',', 'O'),\n",
              "  ('MA', 'O'),\n",
              "  (',', 'O'),\n",
              "  ('USA', 'O'),\n",
              "  (')', 'O'),\n",
              "  ('.', 'O'),\n",
              "  ('An', 'O'),\n",
              "  ('unstructured', 'B-Material'),\n",
              "  ('computational', 'O'),\n",
              "  ('volumetric', 'B-Process'),\n",
              "  ('mesh', 'I-Process'),\n",
              "  ('was', 'O'),\n",
              "  ('constructed', 'O'),\n",
              "  ('from', 'O'),\n",
              "  ('the', 'O'),\n",
              "  ('triangulated', 'B-Material'),\n",
              "  ('surface.', 'I-Material'),\n",
              "  ('Smoothing', 'I-Material'),\n",
              "  ('and', 'I-Material'),\n",
              "  ('remeshing', 'I-Material'),\n",
              "  ('followed', 'O'),\n",
              "  ('as', 'O'),\n",
              "  ('next', 'O'),\n",
              "  ('steps.', 'O'),\n",
              "  ('The', 'O'),\n",
              "  ('STL', 'B-Material'),\n",
              "  ('file', 'I-Material'),\n",
              "  ('was', 'O'),\n",
              "  ('then', 'O'),\n",
              "  ('transferred', 'O'),\n",
              "  ('to', 'O'),\n",
              "  ('a', 'O'),\n",
              "  ('3D', 'B-Process'),\n",
              "  ('printer', 'I-Process'),\n",
              "  ('(', 'I-Process'),\n",
              "  ('OBJET30', 'I-Process'),\n",
              "  ('Pro', 'I-Process'),\n",
              "  (';', 'O'),\n",
              "  ('Stratasys', 'O'),\n",
              "  ('Ltd.', 'O'),\n",
              "  (',', 'O'),\n",
              "  ('Eden', 'B-Material'),\n",
              "  ('Prairie', 'I-Material'),\n",
              "  (',', 'O'),\n",
              "  ('MN', 'O'),\n",
              "  (',', 'O'),\n",
              "  ('USA', 'O'),\n",
              "  (')', 'O'),\n",
              "  ('.', 'O'),\n",
              "  ('The', 'O'),\n",
              "  ('resolution', 'O'),\n",
              "  ('of', 'O'),\n",
              "  ('the', 'O'),\n",
              "  ('build', 'O'),\n",
              "  ('layer', 'O'),\n",
              "  ('was', 'O'),\n",
              "  ('0.028mm', 'O'),\n",
              "  (',', 'O'),\n",
              "  ('and', 'O'),\n",
              "  ('the', 'O'),\n",
              "  ('3D', 'B-Process'),\n",
              "  ('printed', 'I-Process'),\n",
              "  ('vessel', 'I-Process'),\n",
              "  ('model', 'I-Process'),\n",
              "  ('was', 'O'),\n",
              "  ('produced', 'O'),\n",
              "  ('using', 'O'),\n",
              "  ('acrylic', 'B-Material'),\n",
              "  ('resin', 'I-Material'),\n",
              "  ('(', 'I-Material'),\n",
              "  ('Vero', 'I-Material'),\n",
              "  (')', 'O'),\n",
              "  ('.', 'O'),\n",
              "  ('Following', 'O'),\n",
              "  ('immersion', 'O'),\n",
              "  ('in', 'O'),\n",
              "  ('water', 'B-Material'),\n",
              "  ('for', 'O'),\n",
              "  ('a', 'O'),\n",
              "  ('few', 'O'),\n",
              "  ('hours', 'O'),\n",
              "  (',', 'O'),\n",
              "  ('the', 'O'),\n",
              "  ('surface', 'O'),\n",
              "  ('of', 'O'),\n",
              "  ('the', 'O'),\n",
              "  ('3D', 'B-Process'),\n",
              "  ('printed', 'I-Process'),\n",
              "  ('model', 'I-Process'),\n",
              "  ('was', 'O'),\n",
              "  ('smoothed', 'O'),\n",
              "  ('by', 'O'),\n",
              "  ('manually', 'B-Material'),\n",
              "  ('removing', 'I-Material'),\n",
              "  ('spicule', 'I-Material'),\n",
              "  ('.', 'O')],\n",
              " [('Prior', 'O'),\n",
              "  ('to', 'O'),\n",
              "  ('assembling', 'B-Task'),\n",
              "  ('the', 'I-Task'),\n",
              "  ('miniature', 'I-Task'),\n",
              "  ('ADR', 'I-Task'),\n",
              "  (',', 'O'),\n",
              "  ('the', 'O'),\n",
              "  ('mKCC', 'B-Process'),\n",
              "  ('MR', 'I-Process'),\n",
              "  ('heat', 'I-Process'),\n",
              "  ('switch', 'I-Process'),\n",
              "  ('could', 'O'),\n",
              "  ('not', 'O'),\n",
              "  ('be', 'O'),\n",
              "  ('fully', 'O'),\n",
              "  ('thermally', 'O'),\n",
              "  ('characterised', 'O'),\n",
              "  ('due', 'O'),\n",
              "  ('to', 'O'),\n",
              "  ('cryostat', 'B-Material'),\n",
              "  ('constraints.', 'I-Material'),\n",
              "  ('However', 'O'),\n",
              "  (',', 'O'),\n",
              "  ('based', 'O'),\n",
              "  ('on', 'O'),\n",
              "  ('experiments', 'O'),\n",
              "  ('and', 'O'),\n",
              "  ('research', 'O'),\n",
              "  ('conducted', 'O'),\n",
              "  ('at', 'O'),\n",
              "  ('MSSL', 'O'),\n",
              "  ('on', 'O'),\n",
              "  ('a', 'O'),\n",
              "  ('range', 'O'),\n",
              "  ('of', 'O'),\n",
              "  ('tungsten', 'B-Process'),\n",
              "  ('heat', 'I-Process'),\n",
              "  ('switches', 'I-Process'),\n",
              "  (',', 'O'),\n",
              "  ('the', 'O'),\n",
              "  ('thermal', 'B-Process'),\n",
              "  ('conductivity', 'I-Process'),\n",
              "  ('has', 'O'),\n",
              "  ('been', 'O'),\n",
              "  ('estimated.', 'O'),\n",
              "  ('In', 'O'),\n",
              "  ('Hills', 'O'),\n",
              "  ('et', 'O'),\n",
              "  ('al.', 'O'),\n",
              "  ('[', 'O'),\n",
              "  ('8', 'O'),\n",
              "  (']', 'O'),\n",
              "  (',', 'O'),\n",
              "  ('an', 'O'),\n",
              "  ('equation', 'O'),\n",
              "  ('is', 'O'),\n",
              "  ('derived', 'O'),\n",
              "  ('which', 'O'),\n",
              "  ('allows', 'O'),\n",
              "  ('the', 'O'),\n",
              "  ('thermal', 'B-Process'),\n",
              "  ('conductivity', 'I-Process'),\n",
              "  ('(', 'I-Process'),\n",
              "  ('κ', 'I-Process'),\n",
              "  (')', 'O'),\n",
              "  ('below', 'O'),\n",
              "  ('6K', 'O'),\n",
              "  ('to', 'O'),\n",
              "  ('be', 'O'),\n",
              "  ('calculated', 'O'),\n",
              "  ('as', 'O'),\n",
              "  ('a', 'O'),\n",
              "  ('function', 'O'),\n",
              "  ('of', 'O'),\n",
              "  ('magnetic', 'B-Process'),\n",
              "  ('field', 'I-Process'),\n",
              "  ('(', 'O'),\n",
              "  ('B', 'O'),\n",
              "  (')', 'O'),\n",
              "  ('and', 'O'),\n",
              "  ('temperature', 'O'),\n",
              "  ('(', 'O'),\n",
              "  ('T', 'O'),\n",
              "  (')', 'O'),\n",
              "  ('(', 'O'),\n",
              "  ('see', 'O'),\n",
              "  ('Eq.', 'O'),\n",
              "  ('(', 'O'),\n",
              "  ('1', 'O'),\n",
              "  (')', 'O'),\n",
              "  (')', 'O'),\n",
              "  ('.', 'O'),\n",
              "  ('To', 'O'),\n",
              "  ('estimate', 'B-Task'),\n",
              "  ('the', 'I-Task'),\n",
              "  ('performance', 'I-Task'),\n",
              "  ('of', 'I-Task'),\n",
              "  ('the', 'I-Task'),\n",
              "  ('mKCC', 'I-Task'),\n",
              "  ('heat', 'I-Task'),\n",
              "  ('switch', 'I-Task'),\n",
              "  (',', 'O'),\n",
              "  ('the', 'O'),\n",
              "  ('parameters', 'O'),\n",
              "  ('in', 'O'),\n",
              "  ('Eq.', 'O'),\n",
              "  ('(', 'O'),\n",
              "  ('1', 'O'),\n",
              "  (')', 'O'),\n",
              "  ('have', 'O'),\n",
              "  ('been', 'O'),\n",
              "  ('taken', 'O'),\n",
              "  ('from', 'O'),\n",
              "  ('the', 'O'),\n",
              "  ('measured', 'B-Task'),\n",
              "  ('thermal', 'I-Task'),\n",
              "  ('conductivity', 'I-Task'),\n",
              "  ('of', 'I-Task'),\n",
              "  ('another', 'I-Task'),\n",
              "  ('MSSL', 'I-Task'),\n",
              "  ('heat', 'I-Task'),\n",
              "  ('switch', 'I-Task'),\n",
              "  ('with', 'I-Task'),\n",
              "  ('the', 'I-Task'),\n",
              "  ('same', 'I-Task'),\n",
              "  ('1.5mm', 'I-Task'),\n",
              "  ('square', 'I-Task'),\n",
              "  ('cross', 'I-Task'),\n",
              "  ('section', 'I-Task'),\n",
              "  (',', 'O'),\n",
              "  ('a', 'O'),\n",
              "  ('free', 'B-Process'),\n",
              "  ('path', 'I-Process'),\n",
              "  ('length', 'O'),\n",
              "  ('of', 'O'),\n",
              "  ('43cm', 'B-Task'),\n",
              "  ('and', 'I-Task'),\n",
              "  ('a', 'I-Task'),\n",
              "  ('RRR', 'I-Task'),\n",
              "  ('of', 'I-Task'),\n",
              "  ('20,000', 'I-Task'),\n",
              "  (';', 'O'),\n",
              "  ('it', 'O'),\n",
              "  ('has', 'O'),\n",
              "  ('been', 'O'),\n",
              "  ('observed', 'O'),\n",
              "  ('from', 'O'),\n",
              "  ('experiments', 'O'),\n",
              "  ('conducted', 'O'),\n",
              "  ('at', 'O'),\n",
              "  ('MSSL', 'O'),\n",
              "  ('that', 'O'),\n",
              "  ('there', 'O'),\n",
              "  ('is', 'O'),\n",
              "  ('little', 'O'),\n",
              "  ('change', 'O'),\n",
              "  ('in', 'O'),\n",
              "  ('the', 'O'),\n",
              "  ('thermal', 'O'),\n",
              "  ('performance', 'O'),\n",
              "  ('for', 'O'),\n",
              "  ('tungsten', 'B-Process'),\n",
              "  ('heat', 'I-Process'),\n",
              "  ('switches', 'I-Process'),\n",
              "  ('with', 'O'),\n",
              "  ('a', 'O'),\n",
              "  ('RRR', 'B-Task'),\n",
              "  ('between', 'I-Task'),\n",
              "  ('20,000', 'I-Task'),\n",
              "  ('and', 'I-Task'),\n",
              "  ('32,000', 'I-Task'),\n",
              "  ('(', 'O'),\n",
              "  ('subject', 'O'),\n",
              "  ('of', 'O'),\n",
              "  ('a', 'O'),\n",
              "  ('future', 'O'),\n",
              "  ('publication', 'O'),\n",
              "  (')', 'O'),\n",
              "  ('and', 'O'),\n",
              "  ('therefore', 'O'),\n",
              "  ('the', 'O'),\n",
              "  ('performance', 'O'),\n",
              "  ('of', 'O'),\n",
              "  ('the', 'O'),\n",
              "  ('20,000', 'B-Process'),\n",
              "  ('RRR', 'I-Process'),\n",
              "  ('heat', 'I-Process'),\n",
              "  ('switch', 'I-Process'),\n",
              "  ('has', 'O'),\n",
              "  ('been', 'O'),\n",
              "  ('assumed', 'O'),\n",
              "  ('to', 'O'),\n",
              "  ('be', 'O'),\n",
              "  ('a', 'O'),\n",
              "  ('good', 'O'),\n",
              "  ('approximation.', 'O'),\n",
              "  ('Fig.', 'O'),\n",
              "  ('5', 'O'),\n",
              "  ('gives', 'O'),\n",
              "  ('the', 'O'),\n",
              "  ('calculated', 'B-Task'),\n",
              "  ('thermal', 'I-Task'),\n",
              "  ('conductivity', 'I-Task'),\n",
              "  ('of', 'I-Task'),\n",
              "  ('the', 'I-Task'),\n",
              "  ('mKCC', 'I-Task'),\n",
              "  ('switch', 'I-Task'),\n",
              "  ('at', 'O'),\n",
              "  ('0', 'O'),\n",
              "  (',', 'O'),\n",
              "  ('1', 'O'),\n",
              "  (',', 'O'),\n",
              "  ('2', 'O'),\n",
              "  ('and', 'O'),\n",
              "  ('3T', 'O'),\n",
              "  ('based', 'O'),\n",
              "  ('on', 'O'),\n",
              "  ('Eq.', 'O'),\n",
              "  ('(', 'O'),\n",
              "  ('1', 'O'),\n",
              "  (')', 'O'),\n",
              "  (',', 'O'),\n",
              "  ('where', 'O'),\n",
              "  ('the', 'O'),\n",
              "  ('constants', 'O'),\n",
              "  ('b0', 'O'),\n",
              "  (',', 'O'),\n",
              "  ('a1', 'O'),\n",
              "  (',', 'O'),\n",
              "  ('a2', 'O'),\n",
              "  (',', 'O'),\n",
              "  ('a3', 'O'),\n",
              "  (',', 'O'),\n",
              "  ('a4', 'O'),\n",
              "  ('and', 'O'),\n",
              "  ('n', 'O'),\n",
              "  ('have', 'O'),\n",
              "  ('the', 'O'),\n",
              "  ('values', 'O'),\n",
              "  ('0.0328', 'O'),\n",
              "  (',', 'O'),\n",
              "  ('1.19×10−4', 'O'),\n",
              "  (',', 'O'),\n",
              "  ('3.57×10−6', 'O'),\n",
              "  (',', 'O'),\n",
              "  ('1.36', 'O'),\n",
              "  (',', 'O'),\n",
              "  ('0.000968', 'O'),\n",
              "  ('and', 'O'),\n",
              "  ('1.7', 'O'),\n",
              "  ('respectively.', 'O'),\n",
              "  ('It', 'O'),\n",
              "  ('should', 'O'),\n",
              "  ('be', 'O'),\n",
              "  ('noted', 'O'),\n",
              "  ('that', 'O'),\n",
              "  ('the', 'O'),\n",
              "  ('calculated', 'B-Task'),\n",
              "  ('thermal', 'I-Task'),\n",
              "  ('conductivity', 'I-Task'),\n",
              "  ('of', 'I-Task'),\n",
              "  ('the', 'I-Task'),\n",
              "  ('mKCC', 'I-Task'),\n",
              "  ('switch', 'I-Task'),\n",
              "  ('presented', 'O'),\n",
              "  ('in', 'O'),\n",
              "  ('Fig.', 'O'),\n",
              "  ('5', 'O'),\n",
              "  ('has', 'O'),\n",
              "  ('been', 'O'),\n",
              "  ('validated', 'O'),\n",
              "  ('by', 'O'),\n",
              "  ('comparing', 'O'),\n",
              "  ('the', 'O'),\n",
              "  ('experimental', 'O'),\n",
              "  ('results', 'O'),\n",
              "  ('of', 'O'),\n",
              "  ('the', 'O'),\n",
              "  ('miniature', 'B-Material'),\n",
              "  ('ADR', 'I-Material'),\n",
              "  ('with', 'O'),\n",
              "  ('modelled', 'O'),\n",
              "  ('predictions', 'O'),\n",
              "  ('(', 'O'),\n",
              "  ('this', 'O'),\n",
              "  ('is', 'O'),\n",
              "  ('discussed', 'O'),\n",
              "  ('in', 'O'),\n",
              "  ('Section', 'O'),\n",
              "  ('3.3', 'O'),\n",
              "  (')', 'O'),\n",
              "  ('.', 'O'),\n",
              "  ('(', 'O'),\n",
              "  ('1', 'O'),\n",
              "  (')', 'O'),\n",
              "  ('κ', 'B-Material'),\n",
              "  ('(', 'I-Material'),\n",
              "  ('T', 'I-Material'),\n",
              "  (')', 'I-Material'),\n",
              "  ('=b0T2+1a1+a2T2T+Bna3T+a4T4', 'I-Material')]]"
            ]
          },
          "metadata": {
            "tags": []
          },
          "execution_count": 15
        }
      ]
    },
    {
      "cell_type": "code",
      "metadata": {
        "id": "LThrzePPFK6-"
      },
      "source": [
        "#The code is taken from the lab6\n",
        "\n",
        "\n",
        "def extract_spans(tagged_sents, ne_tags):\n",
        "    \n",
        "    spans = {}\n",
        "    for ne_tag in ne_tags:\n",
        "        if ne_tag == 'O':\n",
        "            continue\n",
        "\n",
        "        spans[ne_tag[2:]] = []  \n",
        "        \n",
        "    for sidx, sent in enumerate(tagged_sents):\n",
        "        start = -1\n",
        "        entity_type = None\n",
        "        for i, (tok, lab) in enumerate(sent):\n",
        "            if 'B-' in lab:\n",
        "                start = i\n",
        "                end = i + 1\n",
        "                entity_type = lab[2:]\n",
        "            elif 'I-' in lab:\n",
        "                end = i + 1\n",
        "            elif lab == 'O' and start >= 0:\n",
        "                spans[entity_type].append((start, end, sidx))\n",
        "                start = -1\n",
        "                \n",
        "    return spans"
      ],
      "execution_count": 16,
      "outputs": []
    },
    {
      "cell_type": "code",
      "metadata": {
        "id": "N63cW70hEjhD"
      },
      "source": [
        "def cal_span_level_f1(test_sents, test_sents_with_pred, ne_tags):\n",
        "   \n",
        "    gold_spans = extract_spans(test_sents, ne_tags)\n",
        "\n",
        "\n",
        "    pred_spans = extract_spans(test_sents_with_pred, ne_tags)\n",
        "    \n",
        "    f1_per_class = []\n",
        "    \n",
        "    ne_types = gold_spans.keys()  \n",
        "    \n",
        "    for ne_type in ne_types:\n",
        "      \n",
        "        true_pos = 0\n",
        "        false_pos = 0\n",
        "        \n",
        "      \n",
        "        for span in pred_spans[ne_type]:\n",
        "            if span in gold_spans[ne_type]:\n",
        "                true_pos += 1\n",
        "            else:\n",
        "                false_pos += 1\n",
        "                \n",
        "        false_neg = 0\n",
        "        for span in gold_spans[ne_type]:\n",
        "            if span not in pred_spans[ne_type]:\n",
        "                false_neg += 1\n",
        "                \n",
        "   \n",
        "                \n",
        "        if true_pos + false_pos == 0:\n",
        "            precision = 0\n",
        "        else:\n",
        "            precision = true_pos / float(true_pos + false_pos)\n",
        "            \n",
        "        if true_pos + false_neg == 0:\n",
        "            recall = 0\n",
        "        else:\n",
        "            recall = true_pos / float(true_pos + false_neg)\n",
        "        \n",
        "        if precision + recall == 0:\n",
        "            f1 = 0\n",
        "        else:\n",
        "            f1 = 2 * precision * recall / (precision + recall)\n",
        "            \n",
        "        f1_per_class.append(f1)\n",
        "        print(f'F1-score for class {ne_type} = {f1}')\n",
        "        \n",
        "    print(f'Macro-average F1-score = {np.mean(f1_per_class)}')\n"
      ],
      "execution_count": 17,
      "outputs": []
    },
    {
      "cell_type": "code",
      "metadata": {
        "colab": {
          "base_uri": "https://localhost:8080/"
        },
        "id": "g-JBmVxEE1d7",
        "outputId": "3b2ff887-5c34-4875-dccc-401edd91dc26"
      },
      "source": [
        "cal_span_level_f1(test_docs, test_sents_with_predicted_tags, ne_tags)"
      ],
      "execution_count": 18,
      "outputs": [
        {
          "output_type": "stream",
          "text": [
            "F1-score for class Task = 0.06597222222222224\n",
            "F1-score for class Process = 0.18242343541944075\n",
            "F1-score for class Material = 0.21467391304347827\n",
            "Macro-average F1-score = 0.15435652356171375\n"
          ],
          "name": "stdout"
        }
      ]
    }
  ]
}