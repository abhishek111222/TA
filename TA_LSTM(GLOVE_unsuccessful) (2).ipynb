{
  "nbformat": 4,
  "nbformat_minor": 0,
  "metadata": {
    "colab": {
      "name": "TA_LSTM(GLOVE_unsuccessful).ipynb",
      "provenance": [],
      "collapsed_sections": []
    },
    "kernelspec": {
      "display_name": "Python 3",
      "name": "python3"
    },
    "language_info": {
      "name": "python"
    }
  },
  "cells": [
    {
      "cell_type": "code",
      "metadata": {
        "colab": {
          "background_save": true,
          "base_uri": "https://localhost:8080/"
        },
        "id": "U7So7yDMsJIX",
        "outputId": "4ffa3c35-cc53-4f43-f312-0f7d0ebd04ab"
      },
      "source": [
        "import os\n",
        "import pandas as pd\n",
        "import numpy as np\n",
        "\n",
        "import string\n",
        "import re\n",
        "\n",
        "from math import nan\n",
        "from future.utils import iteritems\n",
        "\n",
        "import matplotlib.pyplot as plt\n",
        "import seaborn as sns\n",
        "sns.set_theme(style = \"darkgrid\")\n",
        "\n",
        "%tensorflow_version 1.x\n",
        "\n",
        "!pip install git+https://www.github.com/keras-team/keras-contrib.git\n",
        "!pip install sklearn_crfsuite\n",
        "!pip install seqeval\n",
        "#!pip install modin\n",
        "\n",
        "import keras as k\n",
        "from keras.models import Model, Input\n",
        "from keras.layers import LSTM, Embedding, Dense, TimeDistributed, Dropout, Bidirectional\n",
        "from keras_contrib.layers import CRF\n",
        "from keras.callbacks import ModelCheckpoint\n",
        "from keras.preprocessing.sequence import pad_sequences\n",
        "from keras.utils import to_categorical\n",
        "\n",
        "from tensorflow.keras.utils import plot_model\n",
        "\n",
        "\n",
        "from seqeval.metrics import precision_score, recall_score, f1_score, classification_report\n",
        "\n",
        "from sklearn_crfsuite.metrics import flat_classification_report\n",
        "from sklearn.model_selection import train_test_split\n",
        "\n",
        "import warnings\n",
        "warnings.filterwarnings(\"ignore\")"
      ],
      "execution_count": null,
      "outputs": [
        {
          "output_type": "stream",
          "text": [
            "TensorFlow 1.x selected.\n",
            "Collecting git+https://www.github.com/keras-team/keras-contrib.git\n",
            "  Cloning https://www.github.com/keras-team/keras-contrib.git to /tmp/pip-req-build-gfnm7_ke\n",
            "  Running command git clone -q https://www.github.com/keras-team/keras-contrib.git /tmp/pip-req-build-gfnm7_ke\n",
            "Requirement already satisfied: keras in /tensorflow-1.15.2/python3.7 (from keras-contrib==2.0.8) (2.3.1)\n",
            "Requirement already satisfied: scipy>=0.14 in /usr/local/lib/python3.7/dist-packages (from keras->keras-contrib==2.0.8) (1.4.1)\n",
            "Requirement already satisfied: six>=1.9.0 in /usr/local/lib/python3.7/dist-packages (from keras->keras-contrib==2.0.8) (1.15.0)\n",
            "Requirement already satisfied: pyyaml in /usr/local/lib/python3.7/dist-packages (from keras->keras-contrib==2.0.8) (3.13)\n",
            "Requirement already satisfied: h5py in /usr/local/lib/python3.7/dist-packages (from keras->keras-contrib==2.0.8) (2.10.0)\n",
            "Requirement already satisfied: keras-applications>=1.0.6 in /tensorflow-1.15.2/python3.7 (from keras->keras-contrib==2.0.8) (1.0.8)\n",
            "Requirement already satisfied: numpy>=1.9.1 in /usr/local/lib/python3.7/dist-packages (from keras->keras-contrib==2.0.8) (1.19.5)\n",
            "Requirement already satisfied: keras-preprocessing>=1.0.5 in /usr/local/lib/python3.7/dist-packages (from keras->keras-contrib==2.0.8) (1.1.2)\n",
            "Building wheels for collected packages: keras-contrib\n",
            "  Building wheel for keras-contrib (setup.py) ... \u001b[?25l\u001b[?25hdone\n",
            "  Created wheel for keras-contrib: filename=keras_contrib-2.0.8-cp37-none-any.whl size=101065 sha256=05f870c7567f1a8c63a471528e0a63efd9a537fa0a9875ed590bf1cf8983ce81\n",
            "  Stored in directory: /tmp/pip-ephem-wheel-cache-7tf0ttls/wheels/11/27/c8/4ed56de7b55f4f61244e2dc6ef3cdbaff2692527a2ce6502ba\n",
            "Successfully built keras-contrib\n",
            "Installing collected packages: keras-contrib\n",
            "Successfully installed keras-contrib-2.0.8\n",
            "Collecting sklearn_crfsuite\n",
            "  Downloading https://files.pythonhosted.org/packages/25/74/5b7befa513482e6dee1f3dd68171a6c9dfc14c0eaa00f885ffeba54fe9b0/sklearn_crfsuite-0.3.6-py2.py3-none-any.whl\n",
            "Requirement already satisfied: six in /usr/local/lib/python3.7/dist-packages (from sklearn_crfsuite) (1.15.0)\n",
            "Requirement already satisfied: tabulate in /usr/local/lib/python3.7/dist-packages (from sklearn_crfsuite) (0.8.9)\n",
            "Requirement already satisfied: tqdm>=2.0 in /usr/local/lib/python3.7/dist-packages (from sklearn_crfsuite) (4.41.1)\n",
            "Collecting python-crfsuite>=0.8.3\n",
            "\u001b[?25l  Downloading https://files.pythonhosted.org/packages/79/47/58f16c46506139f17de4630dbcfb877ce41a6355a1bbf3c443edb9708429/python_crfsuite-0.9.7-cp37-cp37m-manylinux1_x86_64.whl (743kB)\n",
            "\u001b[K     |████████████████████████████████| 747kB 3.9MB/s \n",
            "\u001b[?25hInstalling collected packages: python-crfsuite, sklearn-crfsuite\n",
            "Successfully installed python-crfsuite-0.9.7 sklearn-crfsuite-0.3.6\n",
            "Collecting seqeval\n",
            "\u001b[?25l  Downloading https://files.pythonhosted.org/packages/9d/2d/233c79d5b4e5ab1dbf111242299153f3caddddbb691219f363ad55ce783d/seqeval-1.2.2.tar.gz (43kB)\n",
            "\u001b[K     |████████████████████████████████| 51kB 2.0MB/s \n",
            "\u001b[?25hRequirement already satisfied: numpy>=1.14.0 in /usr/local/lib/python3.7/dist-packages (from seqeval) (1.19.5)\n",
            "Requirement already satisfied: scikit-learn>=0.21.3 in /usr/local/lib/python3.7/dist-packages (from seqeval) (0.22.2.post1)\n",
            "Requirement already satisfied: joblib>=0.11 in /usr/local/lib/python3.7/dist-packages (from scikit-learn>=0.21.3->seqeval) (1.0.1)\n",
            "Requirement already satisfied: scipy>=0.17.0 in /usr/local/lib/python3.7/dist-packages (from scikit-learn>=0.21.3->seqeval) (1.4.1)\n",
            "Building wheels for collected packages: seqeval\n",
            "  Building wheel for seqeval (setup.py) ... \u001b[?25l\u001b[?25hdone\n",
            "  Created wheel for seqeval: filename=seqeval-1.2.2-cp37-none-any.whl size=16172 sha256=5ca796ed84703cea4774291b3e6b801d7bd335fa8d3316b360e06bc7fe5fe829\n",
            "  Stored in directory: /root/.cache/pip/wheels/52/df/1b/45d75646c37428f7e626214704a0e35bd3cfc32eda37e59e5f\n",
            "Successfully built seqeval\n",
            "Installing collected packages: seqeval\n",
            "Successfully installed seqeval-1.2.2\n"
          ],
          "name": "stdout"
        },
        {
          "output_type": "stream",
          "text": [
            "Using TensorFlow backend.\n"
          ],
          "name": "stderr"
        }
      ]
    },
    {
      "cell_type": "code",
      "metadata": {
        "colab": {
          "base_uri": "https://localhost:8080/"
        },
        "id": "Iw31attIsWDH",
        "outputId": "988f2ce5-d1a9-45ff-b347-0c070ddde7cc"
      },
      "source": [
        "from google.colab import drive\n",
        "drive.mount(\"/content/gdrive/\")"
      ],
      "execution_count": null,
      "outputs": [
        {
          "output_type": "stream",
          "text": [
            "Go to this URL in a browser: https://accounts.google.com/o/oauth2/auth?client_id=947318989803-6bn6qk8qdgf4n4g3pfee6491hc0brc4i.apps.googleusercontent.com&redirect_uri=urn%3aietf%3awg%3aoauth%3a2.0%3aoob&scope=email%20https%3a%2f%2fwww.googleapis.com%2fauth%2fdocs.test%20https%3a%2f%2fwww.googleapis.com%2fauth%2fdrive%20https%3a%2f%2fwww.googleapis.com%2fauth%2fdrive.photos.readonly%20https%3a%2f%2fwww.googleapis.com%2fauth%2fpeopleapi.readonly%20https%3a%2f%2fwww.googleapis.com%2fauth%2fdrive.activity.readonly%20https%3a%2f%2fwww.googleapis.com%2fauth%2fexperimentsandconfigs%20https%3a%2f%2fwww.googleapis.com%2fauth%2fphotos.native&response_type=code\n",
            "\n",
            "Enter your authorization code:\n",
            "4/1AY0e-g4P_I6M_TIbbzep6Awgsfl_EgSdY7VouvVLP50Fhbf1LvMZBQxstXY\n",
            "Mounted at /content/gdrive/\n"
          ],
          "name": "stdout"
        }
      ]
    },
    {
      "cell_type": "code",
      "metadata": {
        "colab": {
          "base_uri": "https://localhost:8080/"
        },
        "id": "9DuKlW3wtolH",
        "outputId": "65615e8c-ad6a-4468-ee9d-4a6694a2a60e"
      },
      "source": [
        "cd gdrive/MyDrive/coursework"
      ],
      "execution_count": null,
      "outputs": [
        {
          "output_type": "stream",
          "text": [
            "/content/gdrive/MyDrive/coursework\n"
          ],
          "name": "stdout"
        }
      ]
    },
    {
      "cell_type": "code",
      "metadata": {
        "id": "Bhwx1LiHt1Fw"
      },
      "source": [
        "from scienceie_loader import load_tokenized_data, load_data_with_char_offsets, get_entity_span_from_B_index"
      ],
      "execution_count": null,
      "outputs": []
    },
    {
      "cell_type": "code",
      "metadata": {
        "id": "5IeAD6KCt6Am"
      },
      "source": [
        "data_root = os.path.join(os.getcwd(), 'original_datasets')\n",
        "data_train = os.path.join(data_root, 'scienceie2017_train/train2')\n",
        "data_dev = os.path.join(data_root, 'scienceie2017_dev/dev')\n",
        "data_test = os.path.join(data_root, 'semeval_articles_test')"
      ],
      "execution_count": null,
      "outputs": []
    },
    {
      "cell_type": "code",
      "metadata": {
        "colab": {
          "background_save": true
        },
        "id": "A1Ug0twTt8Mu"
      },
      "source": [
        "train_docs, train_rels, _ = load_tokenized_data(data_train)\n",
        "dev_docs, dev_rels, _ = load_tokenized_data(data_dev)\n",
        "test_docs, test_rels, _ = load_tokenized_data(data_test)"
      ],
      "execution_count": null,
      "outputs": []
    },
    {
      "cell_type": "code",
      "metadata": {
        "colab": {
          "background_save": true
        },
        "id": "eNU-G1D2t8ky"
      },
      "source": [
        "train_docs_chars = load_data_with_char_offsets(data_train)\n",
        "test_docs_chars = load_data_with_char_offsets(data_test)\n",
        "dev_docs_chars = load_data_with_char_offsets(data_dev)"
      ],
      "execution_count": null,
      "outputs": []
    },
    {
      "cell_type": "code",
      "metadata": {
        "colab": {
          "background_save": true
        },
        "id": "Jr9bOWf1mEV5"
      },
      "source": [
        "train = [j for i in train_docs for j in i]\n",
        "dev = [j for i in dev_docs for j in i]\n",
        "test = [j for i in test_docs for j in i]"
      ],
      "execution_count": null,
      "outputs": []
    },
    {
      "cell_type": "code",
      "metadata": {
        "colab": {
          "background_save": true
        },
        "id": "9OiQCxF4mhGp"
      },
      "source": [
        "train_dataset = pd.DataFrame(train, columns = [\"Words\", \"Tags\"])\n",
        "test_dataset = pd.DataFrame(test, columns = [\"Words\", \"Tags\"]) \n",
        "dev_dataset = pd.DataFrame(dev, columns = [\"Words\", \"Tags\"]) "
      ],
      "execution_count": null,
      "outputs": []
    },
    {
      "cell_type": "code",
      "metadata": {
        "colab": {
          "background_save": true,
          "base_uri": "https://localhost:8080/",
          "height": 197
        },
        "id": "3OAvyw5hmhv_",
        "outputId": "6ec56f98-6781-4b2c-a1bf-b0a833a61bb8"
      },
      "source": [
        "train_dataset.head()"
      ],
      "execution_count": null,
      "outputs": [
        {
          "output_type": "execute_result",
          "data": {
            "text/html": [
              "<div>\n",
              "<style scoped>\n",
              "    .dataframe tbody tr th:only-of-type {\n",
              "        vertical-align: middle;\n",
              "    }\n",
              "\n",
              "    .dataframe tbody tr th {\n",
              "        vertical-align: top;\n",
              "    }\n",
              "\n",
              "    .dataframe thead th {\n",
              "        text-align: right;\n",
              "    }\n",
              "</style>\n",
              "<table border=\"1\" class=\"dataframe\">\n",
              "  <thead>\n",
              "    <tr style=\"text-align: right;\">\n",
              "      <th></th>\n",
              "      <th>Words</th>\n",
              "      <th>Tags</th>\n",
              "    </tr>\n",
              "  </thead>\n",
              "  <tbody>\n",
              "    <tr>\n",
              "      <th>0</th>\n",
              "      <td>A</td>\n",
              "      <td>O</td>\n",
              "    </tr>\n",
              "    <tr>\n",
              "      <th>1</th>\n",
              "      <td>fuzzy-Hammerstein</td>\n",
              "      <td>B-Task</td>\n",
              "    </tr>\n",
              "    <tr>\n",
              "      <th>2</th>\n",
              "      <td>model</td>\n",
              "      <td>I-Task</td>\n",
              "    </tr>\n",
              "    <tr>\n",
              "      <th>3</th>\n",
              "      <td>predictive</td>\n",
              "      <td>I-Task</td>\n",
              "    </tr>\n",
              "    <tr>\n",
              "      <th>4</th>\n",
              "      <td>control</td>\n",
              "      <td>I-Task</td>\n",
              "    </tr>\n",
              "  </tbody>\n",
              "</table>\n",
              "</div>"
            ],
            "text/plain": [
              "               Words    Tags\n",
              "0                  A       O\n",
              "1  fuzzy-Hammerstein  B-Task\n",
              "2              model  I-Task\n",
              "3         predictive  I-Task\n",
              "4            control  I-Task"
            ]
          },
          "metadata": {
            "tags": []
          },
          "execution_count": 0
        }
      ]
    },
    {
      "cell_type": "code",
      "metadata": {
        "colab": {
          "background_save": true
        },
        "id": "-P2eXUNDnCC5"
      },
      "source": [
        "train_dataset[\"Words\"] = train_dataset[\"Words\"].str.lower()"
      ],
      "execution_count": null,
      "outputs": []
    },
    {
      "cell_type": "code",
      "metadata": {
        "colab": {
          "background_save": true,
          "base_uri": "https://localhost:8080/"
        },
        "id": "A-PSxjCjnCFb",
        "outputId": "237fcc38-dfe3-4c12-ac36-37436e74c89f"
      },
      "source": [
        "cd /content/gdrive/MyDrive/coursework/glove.6B/glove.6B.300d.txt"
      ],
      "execution_count": null,
      "outputs": [
        {
          "output_type": "stream",
          "text": [
            "[Errno 20] Not a directory: '/content/gdrive/MyDrive/coursework/glove.6B/glove.6B.300d.txt'\n",
            "/content/gdrive/MyDrive/coursework\n"
          ],
          "name": "stdout"
        }
      ]
    },
    {
      "cell_type": "code",
      "metadata": {
        "colab": {
          "background_save": true
        },
        "id": "Iw8UDu6huNfL"
      },
      "source": [
        "GLOVE_DIR = \"/content/gdrive/MyDrive/coursework/glove.6B/glove.6B.300d.txt\""
      ],
      "execution_count": null,
      "outputs": []
    },
    {
      "cell_type": "code",
      "metadata": {
        "colab": {
          "background_save": true,
          "base_uri": "https://localhost:8080/"
        },
        "id": "40fapve6nCH2",
        "outputId": "860e18b8-a70c-474d-94cf-3899287fc5f2"
      },
      "source": [
        "def read_glove_vecs(glove_file):\n",
        "    with open(glove_file, 'r') as f:\n",
        "        words = set()\n",
        "        w_to_vec_m = {}\n",
        "        for line in f:\n",
        "            line = line.strip().split()\n",
        "            curr = line[0]\n",
        "            words.add(curr)\n",
        "            w_to_vec_m[curr] = np.array(line[1:], dtype=np.float64)\n",
        "        \n",
        "        i = 1\n",
        "        w_to_i = {}\n",
        "        i_to_w = {}\n",
        "        for w in sorted(words):\n",
        "            w_to_i[w] = i\n",
        "            i_to_w[i] = w\n",
        "            i = i + 1\n",
        "    return w_to_i, i_to_w, w_to_vec_m\n",
        "\n",
        "w_to_i, i_to_w, w_to_vec_m = read_glove_vecs(GLOVE_DIR)\n",
        "print(len(w_to_vec_m))"
      ],
      "execution_count": null,
      "outputs": [
        {
          "output_type": "stream",
          "text": [
            "400000\n"
          ],
          "name": "stdout"
        }
      ]
    },
    {
      "cell_type": "code",
      "metadata": {
        "colab": {
          "background_save": true
        },
        "id": "To3-xLB4nCKB"
      },
      "source": [
        "train_datase = pd.DataFrame(train, columns = [\"Words\", \"Tags\"])\n",
        "dev_datase = pd.DataFrame(dev, columns = [\"Words\", \"Tags\"])\n",
        "test_datase = pd.DataFrame(test, columns = [\"Words\", \"Tags\"])"
      ],
      "execution_count": null,
      "outputs": []
    },
    {
      "cell_type": "code",
      "metadata": {
        "colab": {
          "background_save": true,
          "base_uri": "https://localhost:8080/",
          "height": 197
        },
        "id": "3rnh8pX4nCL4",
        "outputId": "5c376da7-a1f6-4d15-a57a-d676fe160084"
      },
      "source": [
        "train_dataset.head()"
      ],
      "execution_count": null,
      "outputs": [
        {
          "output_type": "execute_result",
          "data": {
            "text/html": [
              "<div>\n",
              "<style scoped>\n",
              "    .dataframe tbody tr th:only-of-type {\n",
              "        vertical-align: middle;\n",
              "    }\n",
              "\n",
              "    .dataframe tbody tr th {\n",
              "        vertical-align: top;\n",
              "    }\n",
              "\n",
              "    .dataframe thead th {\n",
              "        text-align: right;\n",
              "    }\n",
              "</style>\n",
              "<table border=\"1\" class=\"dataframe\">\n",
              "  <thead>\n",
              "    <tr style=\"text-align: right;\">\n",
              "      <th></th>\n",
              "      <th>Words</th>\n",
              "      <th>Tags</th>\n",
              "    </tr>\n",
              "  </thead>\n",
              "  <tbody>\n",
              "    <tr>\n",
              "      <th>0</th>\n",
              "      <td>a</td>\n",
              "      <td>O</td>\n",
              "    </tr>\n",
              "    <tr>\n",
              "      <th>1</th>\n",
              "      <td>fuzzy-hammerstein</td>\n",
              "      <td>B-Task</td>\n",
              "    </tr>\n",
              "    <tr>\n",
              "      <th>2</th>\n",
              "      <td>model</td>\n",
              "      <td>I-Task</td>\n",
              "    </tr>\n",
              "    <tr>\n",
              "      <th>3</th>\n",
              "      <td>predictive</td>\n",
              "      <td>I-Task</td>\n",
              "    </tr>\n",
              "    <tr>\n",
              "      <th>4</th>\n",
              "      <td>control</td>\n",
              "      <td>I-Task</td>\n",
              "    </tr>\n",
              "  </tbody>\n",
              "</table>\n",
              "</div>"
            ],
            "text/plain": [
              "               Words    Tags\n",
              "0                  a       O\n",
              "1  fuzzy-hammerstein  B-Task\n",
              "2              model  I-Task\n",
              "3         predictive  I-Task\n",
              "4            control  I-Task"
            ]
          },
          "metadata": {
            "tags": []
          },
          "execution_count": 0
        }
      ]
    },
    {
      "cell_type": "code",
      "metadata": {
        "colab": {
          "background_save": true,
          "base_uri": "https://localhost:8080/"
        },
        "id": "WFwHjzx1mw9F",
        "outputId": "b9af77e1-8ddf-4abe-859b-41c4abcad530"
      },
      "source": [
        "train_dataset[\"Tags\"].unique()"
      ],
      "execution_count": null,
      "outputs": [
        {
          "output_type": "execute_result",
          "data": {
            "text/plain": [
              "array(['O', 'B-Task', 'I-Task', 'B-Material', 'I-Material', 'B-Process',\n",
              "       'I-Process'], dtype=object)"
            ]
          },
          "metadata": {
            "tags": []
          },
          "execution_count": 0
        }
      ]
    },
    {
      "cell_type": "code",
      "metadata": {
        "colab": {
          "background_save": true
        },
        "id": "DfDQnbhPmw_e"
      },
      "source": [
        "labels = {\n",
        "    \"B-Task\" : \"Task\",\n",
        "    \"I-Task\" : \"Task\",\n",
        "    \"O\" : \"O\",\n",
        "    \"B-Process\" : \"Process\",\n",
        "    \"I-Process\" : \"Process\",\n",
        "    \"B-Material\" : \"Material\",\n",
        "    \"I-Material\" : \"Material\",\n",
        "}"
      ],
      "execution_count": null,
      "outputs": []
    },
    {
      "cell_type": "code",
      "metadata": {
        "colab": {
          "background_save": true
        },
        "id": "XKY2k58CmxBu"
      },
      "source": [
        "train_dataset['Words'] = train_dataset['Words'].str.lower()\n",
        "#train_dataset['Tags'] = train_dataset['Tags'].map(labels)"
      ],
      "execution_count": null,
      "outputs": []
    },
    {
      "cell_type": "code",
      "metadata": {
        "colab": {
          "background_save": true,
          "base_uri": "https://localhost:8080/",
          "height": 197
        },
        "id": "dQFmm4mNmxkv",
        "outputId": "a5959224-4935-401f-c52b-603dd9001ad6"
      },
      "source": [
        "train_dataset.head()"
      ],
      "execution_count": null,
      "outputs": [
        {
          "output_type": "execute_result",
          "data": {
            "text/html": [
              "<div>\n",
              "<style scoped>\n",
              "    .dataframe tbody tr th:only-of-type {\n",
              "        vertical-align: middle;\n",
              "    }\n",
              "\n",
              "    .dataframe tbody tr th {\n",
              "        vertical-align: top;\n",
              "    }\n",
              "\n",
              "    .dataframe thead th {\n",
              "        text-align: right;\n",
              "    }\n",
              "</style>\n",
              "<table border=\"1\" class=\"dataframe\">\n",
              "  <thead>\n",
              "    <tr style=\"text-align: right;\">\n",
              "      <th></th>\n",
              "      <th>Words</th>\n",
              "      <th>Tags</th>\n",
              "    </tr>\n",
              "  </thead>\n",
              "  <tbody>\n",
              "    <tr>\n",
              "      <th>0</th>\n",
              "      <td>a</td>\n",
              "      <td>O</td>\n",
              "    </tr>\n",
              "    <tr>\n",
              "      <th>1</th>\n",
              "      <td>fuzzy-hammerstein</td>\n",
              "      <td>B-Task</td>\n",
              "    </tr>\n",
              "    <tr>\n",
              "      <th>2</th>\n",
              "      <td>model</td>\n",
              "      <td>I-Task</td>\n",
              "    </tr>\n",
              "    <tr>\n",
              "      <th>3</th>\n",
              "      <td>predictive</td>\n",
              "      <td>I-Task</td>\n",
              "    </tr>\n",
              "    <tr>\n",
              "      <th>4</th>\n",
              "      <td>control</td>\n",
              "      <td>I-Task</td>\n",
              "    </tr>\n",
              "  </tbody>\n",
              "</table>\n",
              "</div>"
            ],
            "text/plain": [
              "               Words    Tags\n",
              "0                  a       O\n",
              "1  fuzzy-hammerstein  B-Task\n",
              "2              model  I-Task\n",
              "3         predictive  I-Task\n",
              "4            control  I-Task"
            ]
          },
          "metadata": {
            "tags": []
          },
          "execution_count": 0
        }
      ]
    },
    {
      "cell_type": "code",
      "metadata": {
        "colab": {
          "background_save": true,
          "base_uri": "https://localhost:8080/"
        },
        "id": "mvsF4OnhmxnE",
        "outputId": "8145874a-c902-4c30-9bdf-d47b8d052de9"
      },
      "source": [
        "from itertools import chain\n",
        "count_tags = {}\n",
        "def get_dict_map(data, token_or_tag):\n",
        "    tok2idx = {}\n",
        "    idx2tok = {}\n",
        "    \n",
        "    if token_or_tag == 'token':\n",
        "        vocab = list(set(train_dataset['Words'].to_list()))\n",
        "    else:\n",
        "        vocab = list(set(train_dataset['Tags'].to_list()))\n",
        "        for i in vocab:\n",
        "            if i not in count_tags:\n",
        "                count_tags[i]=0\n",
        "        for i in train_dataset['Tags'].to_list():\n",
        "            count_tags[i] += 1\n",
        "            \n",
        "    for i in count_tags:\n",
        "        print(i, count_tags[i])\n",
        "    idx2tok = {idx:tok for  idx, tok in enumerate(vocab)}\n",
        "    tok2idx = {tok:idx for  idx, tok in enumerate(vocab)}\n",
        "        \n",
        "    return tok2idx, idx2tok\n",
        "\n",
        "\n",
        "token2idx, idx2token = get_dict_map(train_dataset, 'token')\n",
        "tag2idx, idx2tag = get_dict_map(train_dataset, 'tag')"
      ],
      "execution_count": null,
      "outputs": [
        {
          "output_type": "stream",
          "text": [
            "I-Task 4294\n",
            "O 43849\n",
            "B-Material 2185\n",
            "I-Material 2563\n",
            "I-Process 5705\n",
            "B-Task 1100\n",
            "B-Process 2779\n"
          ],
          "name": "stdout"
        }
      ]
    },
    {
      "cell_type": "code",
      "metadata": {
        "colab": {
          "background_save": true,
          "base_uri": "https://localhost:8080/",
          "height": 197
        },
        "id": "LeXQ0ia2mh0m",
        "outputId": "cc7cb6e6-0577-4e0c-e7e6-f05dde51feab"
      },
      "source": [
        "train_dataset['Word_idx'] = train_dataset['Words'].map(w_to_i)\n",
        "train_dataset['Tag_idx'] = train_dataset['Tags'].map(tag2idx)\n",
        "train_dataset.head()"
      ],
      "execution_count": null,
      "outputs": [
        {
          "output_type": "execute_result",
          "data": {
            "text/html": [
              "<div>\n",
              "<style scoped>\n",
              "    .dataframe tbody tr th:only-of-type {\n",
              "        vertical-align: middle;\n",
              "    }\n",
              "\n",
              "    .dataframe tbody tr th {\n",
              "        vertical-align: top;\n",
              "    }\n",
              "\n",
              "    .dataframe thead th {\n",
              "        text-align: right;\n",
              "    }\n",
              "</style>\n",
              "<table border=\"1\" class=\"dataframe\">\n",
              "  <thead>\n",
              "    <tr style=\"text-align: right;\">\n",
              "      <th></th>\n",
              "      <th>Words</th>\n",
              "      <th>Tags</th>\n",
              "      <th>Word_idx</th>\n",
              "      <th>Tag_idx</th>\n",
              "    </tr>\n",
              "  </thead>\n",
              "  <tbody>\n",
              "    <tr>\n",
              "      <th>0</th>\n",
              "      <td>a</td>\n",
              "      <td>O</td>\n",
              "      <td>43010.0</td>\n",
              "      <td>1</td>\n",
              "    </tr>\n",
              "    <tr>\n",
              "      <th>1</th>\n",
              "      <td>fuzzy-hammerstein</td>\n",
              "      <td>B-Task</td>\n",
              "      <td>NaN</td>\n",
              "      <td>5</td>\n",
              "    </tr>\n",
              "    <tr>\n",
              "      <th>2</th>\n",
              "      <td>model</td>\n",
              "      <td>I-Task</td>\n",
              "      <td>247378.0</td>\n",
              "      <td>0</td>\n",
              "    </tr>\n",
              "    <tr>\n",
              "      <th>3</th>\n",
              "      <td>predictive</td>\n",
              "      <td>I-Task</td>\n",
              "      <td>291292.0</td>\n",
              "      <td>0</td>\n",
              "    </tr>\n",
              "    <tr>\n",
              "      <th>4</th>\n",
              "      <td>control</td>\n",
              "      <td>I-Task</td>\n",
              "      <td>108302.0</td>\n",
              "      <td>0</td>\n",
              "    </tr>\n",
              "  </tbody>\n",
              "</table>\n",
              "</div>"
            ],
            "text/plain": [
              "               Words    Tags  Word_idx  Tag_idx\n",
              "0                  a       O   43010.0        1\n",
              "1  fuzzy-hammerstein  B-Task       NaN        5\n",
              "2              model  I-Task  247378.0        0\n",
              "3         predictive  I-Task  291292.0        0\n",
              "4            control  I-Task  108302.0        0"
            ]
          },
          "metadata": {
            "tags": []
          },
          "execution_count": 0
        }
      ]
    },
    {
      "cell_type": "code",
      "metadata": {
        "colab": {
          "background_save": true,
          "base_uri": "https://localhost:8080/"
        },
        "id": "qdyYRv-r1B2j",
        "outputId": "32b5d839-8000-4f10-d9d8-8bfa6f214d7b"
      },
      "source": [
        "len(train_dataset)"
      ],
      "execution_count": null,
      "outputs": [
        {
          "output_type": "execute_result",
          "data": {
            "text/plain": [
              "62475"
            ]
          },
          "metadata": {
            "tags": []
          },
          "execution_count": 0
        }
      ]
    },
    {
      "cell_type": "code",
      "metadata": {
        "colab": {
          "background_save": true,
          "base_uri": "https://localhost:8080/"
        },
        "id": "U7qG7S50wchb",
        "outputId": "f77c8c91-5070-4286-b0ca-842e44e04ac4"
      },
      "source": [
        "train_dataset[\"Tag_idx\"].unique()"
      ],
      "execution_count": null,
      "outputs": [
        {
          "output_type": "execute_result",
          "data": {
            "text/plain": [
              "array([5, 2, 6, 0, 1, 4, 3])"
            ]
          },
          "metadata": {
            "tags": []
          },
          "execution_count": 0
        }
      ]
    },
    {
      "cell_type": "code",
      "metadata": {
        "colab": {
          "background_save": true
        },
        "id": "jsTjqKLEwckH"
      },
      "source": [
        "r = []\n",
        "for i in range(len(train_docs)):\n",
        "  x = len(train_docs[i])\n",
        "  for j in range(x):\n",
        "    r.append(i+1)"
      ],
      "execution_count": null,
      "outputs": []
    },
    {
      "cell_type": "code",
      "metadata": {
        "colab": {
          "background_save": true
        },
        "id": "QCVndsVRwcmr"
      },
      "source": [
        "train_dataset[\"Sentence_idx\"] = r"
      ],
      "execution_count": null,
      "outputs": []
    },
    {
      "cell_type": "code",
      "metadata": {
        "colab": {
          "background_save": true,
          "base_uri": "https://localhost:8080/",
          "height": 406
        },
        "id": "XY_r7rfVwco1",
        "outputId": "876c77ad-7443-48a4-e6a0-2d4aa5e9d7dc"
      },
      "source": [
        "train_dataset"
      ],
      "execution_count": null,
      "outputs": [
        {
          "output_type": "execute_result",
          "data": {
            "text/html": [
              "<div>\n",
              "<style scoped>\n",
              "    .dataframe tbody tr th:only-of-type {\n",
              "        vertical-align: middle;\n",
              "    }\n",
              "\n",
              "    .dataframe tbody tr th {\n",
              "        vertical-align: top;\n",
              "    }\n",
              "\n",
              "    .dataframe thead th {\n",
              "        text-align: right;\n",
              "    }\n",
              "</style>\n",
              "<table border=\"1\" class=\"dataframe\">\n",
              "  <thead>\n",
              "    <tr style=\"text-align: right;\">\n",
              "      <th></th>\n",
              "      <th>Words</th>\n",
              "      <th>Tags</th>\n",
              "      <th>Word_idx</th>\n",
              "      <th>Tag_idx</th>\n",
              "      <th>Sentence_idx</th>\n",
              "    </tr>\n",
              "  </thead>\n",
              "  <tbody>\n",
              "    <tr>\n",
              "      <th>0</th>\n",
              "      <td>nuclear</td>\n",
              "      <td>B-Task</td>\n",
              "      <td>265375.0</td>\n",
              "      <td>5</td>\n",
              "      <td>1</td>\n",
              "    </tr>\n",
              "    <tr>\n",
              "      <th>1</th>\n",
              "      <td>theory</td>\n",
              "      <td>I-Task</td>\n",
              "      <td>357607.0</td>\n",
              "      <td>2</td>\n",
              "      <td>1</td>\n",
              "    </tr>\n",
              "    <tr>\n",
              "      <th>2</th>\n",
              "      <td>devoted</td>\n",
              "      <td>O</td>\n",
              "      <td>122590.0</td>\n",
              "      <td>6</td>\n",
              "      <td>1</td>\n",
              "    </tr>\n",
              "    <tr>\n",
              "      <th>3</th>\n",
              "      <td>major</td>\n",
              "      <td>O</td>\n",
              "      <td>231345.0</td>\n",
              "      <td>6</td>\n",
              "      <td>1</td>\n",
              "    </tr>\n",
              "    <tr>\n",
              "      <th>4</th>\n",
              "      <td>efforts</td>\n",
              "      <td>O</td>\n",
              "      <td>133951.0</td>\n",
              "      <td>6</td>\n",
              "      <td>1</td>\n",
              "    </tr>\n",
              "    <tr>\n",
              "      <th>...</th>\n",
              "      <td>...</td>\n",
              "      <td>...</td>\n",
              "      <td>...</td>\n",
              "      <td>...</td>\n",
              "      <td>...</td>\n",
              "    </tr>\n",
              "    <tr>\n",
              "      <th>62470</th>\n",
              "      <td>smooth</td>\n",
              "      <td>O</td>\n",
              "      <td>335514.0</td>\n",
              "      <td>6</td>\n",
              "      <td>350</td>\n",
              "    </tr>\n",
              "    <tr>\n",
              "      <th>62471</th>\n",
              "      <td>and</td>\n",
              "      <td>O</td>\n",
              "      <td>54718.0</td>\n",
              "      <td>6</td>\n",
              "      <td>350</td>\n",
              "    </tr>\n",
              "    <tr>\n",
              "      <th>62472</th>\n",
              "      <td>nonsmooth</td>\n",
              "      <td>O</td>\n",
              "      <td>NaN</td>\n",
              "      <td>6</td>\n",
              "      <td>350</td>\n",
              "    </tr>\n",
              "    <tr>\n",
              "      <th>62473</th>\n",
              "      <td>data</td>\n",
              "      <td>O</td>\n",
              "      <td>117493.0</td>\n",
              "      <td>6</td>\n",
              "      <td>350</td>\n",
              "    </tr>\n",
              "    <tr>\n",
              "      <th>62474</th>\n",
              "      <td>.</td>\n",
              "      <td>O</td>\n",
              "      <td>867.0</td>\n",
              "      <td>6</td>\n",
              "      <td>350</td>\n",
              "    </tr>\n",
              "  </tbody>\n",
              "</table>\n",
              "<p>62475 rows × 5 columns</p>\n",
              "</div>"
            ],
            "text/plain": [
              "           Words    Tags  Word_idx  Tag_idx  Sentence_idx\n",
              "0        nuclear  B-Task  265375.0        5             1\n",
              "1         theory  I-Task  357607.0        2             1\n",
              "2        devoted       O  122590.0        6             1\n",
              "3          major       O  231345.0        6             1\n",
              "4        efforts       O  133951.0        6             1\n",
              "...          ...     ...       ...      ...           ...\n",
              "62470     smooth       O  335514.0        6           350\n",
              "62471        and       O   54718.0        6           350\n",
              "62472  nonsmooth       O       NaN        6           350\n",
              "62473       data       O  117493.0        6           350\n",
              "62474          .       O     867.0        6           350\n",
              "\n",
              "[62475 rows x 5 columns]"
            ]
          },
          "metadata": {
            "tags": []
          },
          "execution_count": 0
        }
      ]
    },
    {
      "cell_type": "code",
      "metadata": {
        "colab": {
          "background_save": true,
          "base_uri": "https://localhost:8080/",
          "height": 527
        },
        "id": "fxqow_eSxODN",
        "outputId": "34f217e2-d9d8-4e34-d3b4-fa55a19c704b"
      },
      "source": [
        "train_dataset[train_dataset[\"Words\"] == \"another\"]"
      ],
      "execution_count": null,
      "outputs": [
        {
          "output_type": "execute_result",
          "data": {
            "text/html": [
              "<div>\n",
              "<style scoped>\n",
              "    .dataframe tbody tr th:only-of-type {\n",
              "        vertical-align: middle;\n",
              "    }\n",
              "\n",
              "    .dataframe tbody tr th {\n",
              "        vertical-align: top;\n",
              "    }\n",
              "\n",
              "    .dataframe thead th {\n",
              "        text-align: right;\n",
              "    }\n",
              "</style>\n",
              "<table border=\"1\" class=\"dataframe\">\n",
              "  <thead>\n",
              "    <tr style=\"text-align: right;\">\n",
              "      <th></th>\n",
              "      <th>Words</th>\n",
              "      <th>Tags</th>\n",
              "      <th>Word_idx</th>\n",
              "      <th>Tag_idx</th>\n",
              "      <th>Sentence_idx</th>\n",
              "    </tr>\n",
              "  </thead>\n",
              "  <tbody>\n",
              "    <tr>\n",
              "      <th>3034</th>\n",
              "      <td>another</td>\n",
              "      <td>O</td>\n",
              "      <td>56041.0</td>\n",
              "      <td>6</td>\n",
              "      <td>15</td>\n",
              "    </tr>\n",
              "    <tr>\n",
              "      <th>10201</th>\n",
              "      <td>another</td>\n",
              "      <td>O</td>\n",
              "      <td>56041.0</td>\n",
              "      <td>6</td>\n",
              "      <td>53</td>\n",
              "    </tr>\n",
              "    <tr>\n",
              "      <th>12224</th>\n",
              "      <td>another</td>\n",
              "      <td>B-Process</td>\n",
              "      <td>56041.0</td>\n",
              "      <td>0</td>\n",
              "      <td>63</td>\n",
              "    </tr>\n",
              "    <tr>\n",
              "      <th>13506</th>\n",
              "      <td>another</td>\n",
              "      <td>O</td>\n",
              "      <td>56041.0</td>\n",
              "      <td>6</td>\n",
              "      <td>69</td>\n",
              "    </tr>\n",
              "    <tr>\n",
              "      <th>21391</th>\n",
              "      <td>another</td>\n",
              "      <td>O</td>\n",
              "      <td>56041.0</td>\n",
              "      <td>6</td>\n",
              "      <td>109</td>\n",
              "    </tr>\n",
              "    <tr>\n",
              "      <th>30202</th>\n",
              "      <td>another</td>\n",
              "      <td>O</td>\n",
              "      <td>56041.0</td>\n",
              "      <td>6</td>\n",
              "      <td>152</td>\n",
              "    </tr>\n",
              "    <tr>\n",
              "      <th>32381</th>\n",
              "      <td>another</td>\n",
              "      <td>I-Task</td>\n",
              "      <td>56041.0</td>\n",
              "      <td>2</td>\n",
              "      <td>163</td>\n",
              "    </tr>\n",
              "    <tr>\n",
              "      <th>35031</th>\n",
              "      <td>another</td>\n",
              "      <td>O</td>\n",
              "      <td>56041.0</td>\n",
              "      <td>6</td>\n",
              "      <td>177</td>\n",
              "    </tr>\n",
              "    <tr>\n",
              "      <th>38737</th>\n",
              "      <td>another</td>\n",
              "      <td>O</td>\n",
              "      <td>56041.0</td>\n",
              "      <td>6</td>\n",
              "      <td>198</td>\n",
              "    </tr>\n",
              "    <tr>\n",
              "      <th>38894</th>\n",
              "      <td>another</td>\n",
              "      <td>O</td>\n",
              "      <td>56041.0</td>\n",
              "      <td>6</td>\n",
              "      <td>199</td>\n",
              "    </tr>\n",
              "    <tr>\n",
              "      <th>47294</th>\n",
              "      <td>another</td>\n",
              "      <td>O</td>\n",
              "      <td>56041.0</td>\n",
              "      <td>6</td>\n",
              "      <td>252</td>\n",
              "    </tr>\n",
              "    <tr>\n",
              "      <th>49918</th>\n",
              "      <td>another</td>\n",
              "      <td>O</td>\n",
              "      <td>56041.0</td>\n",
              "      <td>6</td>\n",
              "      <td>270</td>\n",
              "    </tr>\n",
              "    <tr>\n",
              "      <th>51966</th>\n",
              "      <td>another</td>\n",
              "      <td>O</td>\n",
              "      <td>56041.0</td>\n",
              "      <td>6</td>\n",
              "      <td>283</td>\n",
              "    </tr>\n",
              "    <tr>\n",
              "      <th>52725</th>\n",
              "      <td>another</td>\n",
              "      <td>O</td>\n",
              "      <td>56041.0</td>\n",
              "      <td>6</td>\n",
              "      <td>289</td>\n",
              "    </tr>\n",
              "    <tr>\n",
              "      <th>53300</th>\n",
              "      <td>another</td>\n",
              "      <td>O</td>\n",
              "      <td>56041.0</td>\n",
              "      <td>6</td>\n",
              "      <td>294</td>\n",
              "    </tr>\n",
              "    <tr>\n",
              "      <th>53385</th>\n",
              "      <td>another</td>\n",
              "      <td>O</td>\n",
              "      <td>56041.0</td>\n",
              "      <td>6</td>\n",
              "      <td>294</td>\n",
              "    </tr>\n",
              "  </tbody>\n",
              "</table>\n",
              "</div>"
            ],
            "text/plain": [
              "         Words       Tags  Word_idx  Tag_idx  Sentence_idx\n",
              "3034   another          O   56041.0        6            15\n",
              "10201  another          O   56041.0        6            53\n",
              "12224  another  B-Process   56041.0        0            63\n",
              "13506  another          O   56041.0        6            69\n",
              "21391  another          O   56041.0        6           109\n",
              "30202  another          O   56041.0        6           152\n",
              "32381  another     I-Task   56041.0        2           163\n",
              "35031  another          O   56041.0        6           177\n",
              "38737  another          O   56041.0        6           198\n",
              "38894  another          O   56041.0        6           199\n",
              "47294  another          O   56041.0        6           252\n",
              "49918  another          O   56041.0        6           270\n",
              "51966  another          O   56041.0        6           283\n",
              "52725  another          O   56041.0        6           289\n",
              "53300  another          O   56041.0        6           294\n",
              "53385  another          O   56041.0        6           294"
            ]
          },
          "metadata": {
            "tags": []
          },
          "execution_count": 0
        }
      ]
    },
    {
      "cell_type": "code",
      "metadata": {
        "colab": {
          "background_save": true
        },
        "id": "Wb_zEHswwcq3"
      },
      "source": [
        "#train_dataset.drop_duplicates([\"Words\", \"Tags\"], inplace = True)"
      ],
      "execution_count": null,
      "outputs": []
    },
    {
      "cell_type": "code",
      "metadata": {
        "colab": {
          "background_save": true,
          "base_uri": "https://localhost:8080/",
          "height": 527
        },
        "id": "l9DLlCa6xMoI",
        "outputId": "2ba75bea-bf46-42a4-a3b3-bfd108ef1be5"
      },
      "source": [
        "train_dataset[train_dataset[\"Words\"] == \"another\"]"
      ],
      "execution_count": null,
      "outputs": [
        {
          "output_type": "execute_result",
          "data": {
            "text/html": [
              "<div>\n",
              "<style scoped>\n",
              "    .dataframe tbody tr th:only-of-type {\n",
              "        vertical-align: middle;\n",
              "    }\n",
              "\n",
              "    .dataframe tbody tr th {\n",
              "        vertical-align: top;\n",
              "    }\n",
              "\n",
              "    .dataframe thead th {\n",
              "        text-align: right;\n",
              "    }\n",
              "</style>\n",
              "<table border=\"1\" class=\"dataframe\">\n",
              "  <thead>\n",
              "    <tr style=\"text-align: right;\">\n",
              "      <th></th>\n",
              "      <th>Words</th>\n",
              "      <th>Tags</th>\n",
              "      <th>Word_idx</th>\n",
              "      <th>Tag_idx</th>\n",
              "      <th>Sentence_idx</th>\n",
              "    </tr>\n",
              "  </thead>\n",
              "  <tbody>\n",
              "    <tr>\n",
              "      <th>3034</th>\n",
              "      <td>another</td>\n",
              "      <td>O</td>\n",
              "      <td>56041.0</td>\n",
              "      <td>6</td>\n",
              "      <td>15</td>\n",
              "    </tr>\n",
              "    <tr>\n",
              "      <th>10201</th>\n",
              "      <td>another</td>\n",
              "      <td>O</td>\n",
              "      <td>56041.0</td>\n",
              "      <td>6</td>\n",
              "      <td>53</td>\n",
              "    </tr>\n",
              "    <tr>\n",
              "      <th>12224</th>\n",
              "      <td>another</td>\n",
              "      <td>B-Process</td>\n",
              "      <td>56041.0</td>\n",
              "      <td>0</td>\n",
              "      <td>63</td>\n",
              "    </tr>\n",
              "    <tr>\n",
              "      <th>13506</th>\n",
              "      <td>another</td>\n",
              "      <td>O</td>\n",
              "      <td>56041.0</td>\n",
              "      <td>6</td>\n",
              "      <td>69</td>\n",
              "    </tr>\n",
              "    <tr>\n",
              "      <th>21391</th>\n",
              "      <td>another</td>\n",
              "      <td>O</td>\n",
              "      <td>56041.0</td>\n",
              "      <td>6</td>\n",
              "      <td>109</td>\n",
              "    </tr>\n",
              "    <tr>\n",
              "      <th>30202</th>\n",
              "      <td>another</td>\n",
              "      <td>O</td>\n",
              "      <td>56041.0</td>\n",
              "      <td>6</td>\n",
              "      <td>152</td>\n",
              "    </tr>\n",
              "    <tr>\n",
              "      <th>32381</th>\n",
              "      <td>another</td>\n",
              "      <td>I-Task</td>\n",
              "      <td>56041.0</td>\n",
              "      <td>2</td>\n",
              "      <td>163</td>\n",
              "    </tr>\n",
              "    <tr>\n",
              "      <th>35031</th>\n",
              "      <td>another</td>\n",
              "      <td>O</td>\n",
              "      <td>56041.0</td>\n",
              "      <td>6</td>\n",
              "      <td>177</td>\n",
              "    </tr>\n",
              "    <tr>\n",
              "      <th>38737</th>\n",
              "      <td>another</td>\n",
              "      <td>O</td>\n",
              "      <td>56041.0</td>\n",
              "      <td>6</td>\n",
              "      <td>198</td>\n",
              "    </tr>\n",
              "    <tr>\n",
              "      <th>38894</th>\n",
              "      <td>another</td>\n",
              "      <td>O</td>\n",
              "      <td>56041.0</td>\n",
              "      <td>6</td>\n",
              "      <td>199</td>\n",
              "    </tr>\n",
              "    <tr>\n",
              "      <th>47294</th>\n",
              "      <td>another</td>\n",
              "      <td>O</td>\n",
              "      <td>56041.0</td>\n",
              "      <td>6</td>\n",
              "      <td>252</td>\n",
              "    </tr>\n",
              "    <tr>\n",
              "      <th>49918</th>\n",
              "      <td>another</td>\n",
              "      <td>O</td>\n",
              "      <td>56041.0</td>\n",
              "      <td>6</td>\n",
              "      <td>270</td>\n",
              "    </tr>\n",
              "    <tr>\n",
              "      <th>51966</th>\n",
              "      <td>another</td>\n",
              "      <td>O</td>\n",
              "      <td>56041.0</td>\n",
              "      <td>6</td>\n",
              "      <td>283</td>\n",
              "    </tr>\n",
              "    <tr>\n",
              "      <th>52725</th>\n",
              "      <td>another</td>\n",
              "      <td>O</td>\n",
              "      <td>56041.0</td>\n",
              "      <td>6</td>\n",
              "      <td>289</td>\n",
              "    </tr>\n",
              "    <tr>\n",
              "      <th>53300</th>\n",
              "      <td>another</td>\n",
              "      <td>O</td>\n",
              "      <td>56041.0</td>\n",
              "      <td>6</td>\n",
              "      <td>294</td>\n",
              "    </tr>\n",
              "    <tr>\n",
              "      <th>53385</th>\n",
              "      <td>another</td>\n",
              "      <td>O</td>\n",
              "      <td>56041.0</td>\n",
              "      <td>6</td>\n",
              "      <td>294</td>\n",
              "    </tr>\n",
              "  </tbody>\n",
              "</table>\n",
              "</div>"
            ],
            "text/plain": [
              "         Words       Tags  Word_idx  Tag_idx  Sentence_idx\n",
              "3034   another          O   56041.0        6            15\n",
              "10201  another          O   56041.0        6            53\n",
              "12224  another  B-Process   56041.0        0            63\n",
              "13506  another          O   56041.0        6            69\n",
              "21391  another          O   56041.0        6           109\n",
              "30202  another          O   56041.0        6           152\n",
              "32381  another     I-Task   56041.0        2           163\n",
              "35031  another          O   56041.0        6           177\n",
              "38737  another          O   56041.0        6           198\n",
              "38894  another          O   56041.0        6           199\n",
              "47294  another          O   56041.0        6           252\n",
              "49918  another          O   56041.0        6           270\n",
              "51966  another          O   56041.0        6           283\n",
              "52725  another          O   56041.0        6           289\n",
              "53300  another          O   56041.0        6           294\n",
              "53385  another          O   56041.0        6           294"
            ]
          },
          "metadata": {
            "tags": []
          },
          "execution_count": 0
        }
      ]
    },
    {
      "cell_type": "code",
      "metadata": {
        "colab": {
          "background_save": true,
          "base_uri": "https://localhost:8080/",
          "height": 197
        },
        "id": "HXRopCymyvzu",
        "outputId": "3f3c4c80-ba0f-409e-e75e-79b328444f6b"
      },
      "source": [
        "train_dataset.head()"
      ],
      "execution_count": null,
      "outputs": [
        {
          "output_type": "execute_result",
          "data": {
            "text/html": [
              "<div>\n",
              "<style scoped>\n",
              "    .dataframe tbody tr th:only-of-type {\n",
              "        vertical-align: middle;\n",
              "    }\n",
              "\n",
              "    .dataframe tbody tr th {\n",
              "        vertical-align: top;\n",
              "    }\n",
              "\n",
              "    .dataframe thead th {\n",
              "        text-align: right;\n",
              "    }\n",
              "</style>\n",
              "<table border=\"1\" class=\"dataframe\">\n",
              "  <thead>\n",
              "    <tr style=\"text-align: right;\">\n",
              "      <th></th>\n",
              "      <th>Words</th>\n",
              "      <th>Tags</th>\n",
              "      <th>Word_idx</th>\n",
              "      <th>Tag_idx</th>\n",
              "      <th>Sentence_idx</th>\n",
              "    </tr>\n",
              "  </thead>\n",
              "  <tbody>\n",
              "    <tr>\n",
              "      <th>0</th>\n",
              "      <td>nuclear</td>\n",
              "      <td>B-Task</td>\n",
              "      <td>265375.0</td>\n",
              "      <td>5</td>\n",
              "      <td>1</td>\n",
              "    </tr>\n",
              "    <tr>\n",
              "      <th>1</th>\n",
              "      <td>theory</td>\n",
              "      <td>I-Task</td>\n",
              "      <td>357607.0</td>\n",
              "      <td>2</td>\n",
              "      <td>1</td>\n",
              "    </tr>\n",
              "    <tr>\n",
              "      <th>2</th>\n",
              "      <td>devoted</td>\n",
              "      <td>O</td>\n",
              "      <td>122590.0</td>\n",
              "      <td>6</td>\n",
              "      <td>1</td>\n",
              "    </tr>\n",
              "    <tr>\n",
              "      <th>3</th>\n",
              "      <td>major</td>\n",
              "      <td>O</td>\n",
              "      <td>231345.0</td>\n",
              "      <td>6</td>\n",
              "      <td>1</td>\n",
              "    </tr>\n",
              "    <tr>\n",
              "      <th>4</th>\n",
              "      <td>efforts</td>\n",
              "      <td>O</td>\n",
              "      <td>133951.0</td>\n",
              "      <td>6</td>\n",
              "      <td>1</td>\n",
              "    </tr>\n",
              "  </tbody>\n",
              "</table>\n",
              "</div>"
            ],
            "text/plain": [
              "     Words    Tags  Word_idx  Tag_idx  Sentence_idx\n",
              "0  nuclear  B-Task  265375.0        5             1\n",
              "1   theory  I-Task  357607.0        2             1\n",
              "2  devoted       O  122590.0        6             1\n",
              "3    major       O  231345.0        6             1\n",
              "4  efforts       O  133951.0        6             1"
            ]
          },
          "metadata": {
            "tags": []
          },
          "execution_count": 0
        }
      ]
    },
    {
      "cell_type": "code",
      "metadata": {
        "colab": {
          "background_save": true,
          "base_uri": "https://localhost:8080/"
        },
        "id": "N0NYHNRRywk_",
        "outputId": "96105d03-8488-4f87-e67f-62507e6769a7"
      },
      "source": [
        "train_dataset.info()"
      ],
      "execution_count": null,
      "outputs": [
        {
          "output_type": "stream",
          "text": [
            "<class 'pandas.core.frame.DataFrame'>\n",
            "RangeIndex: 62475 entries, 0 to 62474\n",
            "Data columns (total 5 columns):\n",
            " #   Column        Non-Null Count  Dtype  \n",
            "---  ------        --------------  -----  \n",
            " 0   Words         62475 non-null  object \n",
            " 1   Tags          62475 non-null  object \n",
            " 2   Word_idx      58705 non-null  float64\n",
            " 3   Tag_idx       62475 non-null  int64  \n",
            " 4   Sentence_idx  62475 non-null  int64  \n",
            "dtypes: float64(1), int64(2), object(2)\n",
            "memory usage: 2.4+ MB\n"
          ],
          "name": "stdout"
        }
      ]
    },
    {
      "cell_type": "code",
      "metadata": {
        "colab": {
          "background_save": true,
          "base_uri": "https://localhost:8080/"
        },
        "id": "pyBEy3Xhywnc",
        "outputId": "2bc28903-30ec-4608-9141-be8b309ed238"
      },
      "source": [
        "train_dataset.isna().sum()"
      ],
      "execution_count": null,
      "outputs": [
        {
          "output_type": "execute_result",
          "data": {
            "text/plain": [
              "Words              0\n",
              "Tags               0\n",
              "Word_idx        3770\n",
              "Tag_idx            0\n",
              "Sentence_idx       0\n",
              "dtype: int64"
            ]
          },
          "metadata": {
            "tags": []
          },
          "execution_count": 0
        }
      ]
    },
    {
      "cell_type": "code",
      "metadata": {
        "colab": {
          "background_save": true,
          "base_uri": "https://localhost:8080/",
          "height": 47
        },
        "id": "2-mYxBgSywpw",
        "outputId": "aa67161b-c8d4-4986-82d4-b493bd58aeb5"
      },
      "source": [
        "train_dataset[(train_dataset[\"Word_idx\"].isna()) & (train_dataset[\"Tags\"] == \"Process\")]"
      ],
      "execution_count": null,
      "outputs": [
        {
          "output_type": "execute_result",
          "data": {
            "text/html": [
              "<div>\n",
              "<style scoped>\n",
              "    .dataframe tbody tr th:only-of-type {\n",
              "        vertical-align: middle;\n",
              "    }\n",
              "\n",
              "    .dataframe tbody tr th {\n",
              "        vertical-align: top;\n",
              "    }\n",
              "\n",
              "    .dataframe thead th {\n",
              "        text-align: right;\n",
              "    }\n",
              "</style>\n",
              "<table border=\"1\" class=\"dataframe\">\n",
              "  <thead>\n",
              "    <tr style=\"text-align: right;\">\n",
              "      <th></th>\n",
              "      <th>Words</th>\n",
              "      <th>Tags</th>\n",
              "      <th>Word_idx</th>\n",
              "      <th>Tag_idx</th>\n",
              "      <th>Sentence_idx</th>\n",
              "    </tr>\n",
              "  </thead>\n",
              "  <tbody>\n",
              "  </tbody>\n",
              "</table>\n",
              "</div>"
            ],
            "text/plain": [
              "Empty DataFrame\n",
              "Columns: [Words, Tags, Word_idx, Tag_idx, Sentence_idx]\n",
              "Index: []"
            ]
          },
          "metadata": {
            "tags": []
          },
          "execution_count": 0
        }
      ]
    },
    {
      "cell_type": "code",
      "metadata": {
        "colab": {
          "background_save": true
        },
        "id": "OjyJ26uV9xMU"
      },
      "source": [
        "for i in range(len(train_dataset[\"Words\"])):\n",
        "  if train_dataset[\"Words\"][i].endswith(\"ing\"):\n",
        "    train_dataset[\"Tags\"][i] = \"O\""
      ],
      "execution_count": null,
      "outputs": []
    },
    {
      "cell_type": "code",
      "metadata": {
        "colab": {
          "background_save": true
        },
        "id": "gUzbAlow-UNM"
      },
      "source": [
        "for i in train_dataset[\"Words\"]:\n",
        "  if i.endswith(\"ing\"):\n",
        "    print(i)"
      ],
      "execution_count": null,
      "outputs": []
    },
    {
      "cell_type": "code",
      "metadata": {
        "colab": {
          "background_save": true,
          "base_uri": "https://localhost:8080/",
          "height": 197
        },
        "id": "r9pV0iLU-UUw",
        "outputId": "a1fc31f7-3a0e-407c-cb68-e79eb3b1db58"
      },
      "source": [
        "test_dataset.head()"
      ],
      "execution_count": null,
      "outputs": [
        {
          "output_type": "execute_result",
          "data": {
            "text/html": [
              "<div>\n",
              "<style scoped>\n",
              "    .dataframe tbody tr th:only-of-type {\n",
              "        vertical-align: middle;\n",
              "    }\n",
              "\n",
              "    .dataframe tbody tr th {\n",
              "        vertical-align: top;\n",
              "    }\n",
              "\n",
              "    .dataframe thead th {\n",
              "        text-align: right;\n",
              "    }\n",
              "</style>\n",
              "<table border=\"1\" class=\"dataframe\">\n",
              "  <thead>\n",
              "    <tr style=\"text-align: right;\">\n",
              "      <th></th>\n",
              "      <th>Words</th>\n",
              "      <th>Tags</th>\n",
              "    </tr>\n",
              "  </thead>\n",
              "  <tbody>\n",
              "    <tr>\n",
              "      <th>0</th>\n",
              "      <td>Three-dimensional</td>\n",
              "      <td>B-Process</td>\n",
              "    </tr>\n",
              "    <tr>\n",
              "      <th>1</th>\n",
              "      <td>digital</td>\n",
              "      <td>I-Process</td>\n",
              "    </tr>\n",
              "    <tr>\n",
              "      <th>2</th>\n",
              "      <td>subtraction</td>\n",
              "      <td>I-Process</td>\n",
              "    </tr>\n",
              "    <tr>\n",
              "      <th>3</th>\n",
              "      <td>angiographic</td>\n",
              "      <td>I-Process</td>\n",
              "    </tr>\n",
              "    <tr>\n",
              "      <th>4</th>\n",
              "      <td>(</td>\n",
              "      <td>O</td>\n",
              "    </tr>\n",
              "  </tbody>\n",
              "</table>\n",
              "</div>"
            ],
            "text/plain": [
              "               Words       Tags\n",
              "0  Three-dimensional  B-Process\n",
              "1            digital  I-Process\n",
              "2        subtraction  I-Process\n",
              "3       angiographic  I-Process\n",
              "4                  (          O"
            ]
          },
          "metadata": {
            "tags": []
          },
          "execution_count": 0
        }
      ]
    },
    {
      "cell_type": "code",
      "metadata": {
        "colab": {
          "background_save": true,
          "base_uri": "https://localhost:8080/",
          "height": 281
        },
        "id": "7QoGZgQi9xPA",
        "outputId": "b6411fee-faa5-4005-e9cb-e338f5fab6bb"
      },
      "source": [
        "data_fillna = train_dataset.fillna(method='ffill', axis=0)\n",
        "data_group = data_fillna.groupby(\n",
        "['Sentence_idx'],as_index=False)[['Words', 'Tags', 'Word_idx', 'Tag_idx']].agg(lambda x: list(x))\n",
        "data_group.head()"
      ],
      "execution_count": null,
      "outputs": [
        {
          "output_type": "execute_result",
          "data": {
            "text/html": [
              "<div>\n",
              "<style scoped>\n",
              "    .dataframe tbody tr th:only-of-type {\n",
              "        vertical-align: middle;\n",
              "    }\n",
              "\n",
              "    .dataframe tbody tr th {\n",
              "        vertical-align: top;\n",
              "    }\n",
              "\n",
              "    .dataframe thead th {\n",
              "        text-align: right;\n",
              "    }\n",
              "</style>\n",
              "<table border=\"1\" class=\"dataframe\">\n",
              "  <thead>\n",
              "    <tr style=\"text-align: right;\">\n",
              "      <th></th>\n",
              "      <th>Sentence_idx</th>\n",
              "      <th>Words</th>\n",
              "      <th>Tags</th>\n",
              "      <th>Word_idx</th>\n",
              "      <th>Tag_idx</th>\n",
              "    </tr>\n",
              "  </thead>\n",
              "  <tbody>\n",
              "    <tr>\n",
              "      <th>0</th>\n",
              "      <td>1</td>\n",
              "      <td>[nuclear, theory, devoted, major, efforts, sin...</td>\n",
              "      <td>[B-Task, I-Task, O, O, O, O, O, O, O, O, B-Pro...</td>\n",
              "      <td>[265375.0, 357607.0, 122590.0, 231345.0, 13395...</td>\n",
              "      <td>[5, 2, 6, 6, 6, 6, 6, 6, 6, 6, 0, 6, 0, 1, 6, ...</td>\n",
              "    </tr>\n",
              "    <tr>\n",
              "      <th>1</th>\n",
              "      <td>2</td>\n",
              "      <td>[the, particular, phase, field, model, we, emp...</td>\n",
              "      <td>[O, O, B-Task, I-Task, I-Task, O, O, O, O, O, ...</td>\n",
              "      <td>[357266.0, 278014.0, 283048.0, 147810.0, 24737...</td>\n",
              "      <td>[6, 6, 5, 2, 2, 6, 6, 6, 6, 6, 6, 6, 6, 6, 6, ...</td>\n",
              "    </tr>\n",
              "    <tr>\n",
              "      <th>2</th>\n",
              "      <td>3</td>\n",
              "      <td>[to, conclude, ,, the, electrochemical, reduct...</td>\n",
              "      <td>[O, O, O, O, B-Task, I-Task, I-Task, I-Task, I...</td>\n",
              "      <td>[360915.0, 106803.0, 452.0, 357266.0, 135160.0...</td>\n",
              "      <td>[6, 6, 6, 6, 5, 2, 2, 2, 2, 6, 4, 3, 6, 6, 6, ...</td>\n",
              "    </tr>\n",
              "    <tr>\n",
              "      <th>3</th>\n",
              "      <td>4</td>\n",
              "      <td>[the, validity, of, semi-classical, boundary, ...</td>\n",
              "      <td>[O, B-Task, I-Task, I-Task, I-Task, I-Task, O,...</td>\n",
              "      <td>[357266.0, 375441.0, 268046.0, 324517.0, 81903...</td>\n",
              "      <td>[6, 5, 2, 2, 2, 2, 6, 6, 6, 6, 6, 6, 6, 6, 6, ...</td>\n",
              "    </tr>\n",
              "    <tr>\n",
              "      <th>4</th>\n",
              "      <td>5</td>\n",
              "      <td>[in, contrast, with, polymers, ,, which, are, ...</td>\n",
              "      <td>[O, O, O, B-Material, O, O, O, O, B-Process, I...</td>\n",
              "      <td>[188481.0, 108256.0, 388711.0, 288221.0, 452.0...</td>\n",
              "      <td>[6, 6, 6, 4, 6, 6, 6, 6, 0, 1, 1, 1, 1, 6, 4, ...</td>\n",
              "    </tr>\n",
              "  </tbody>\n",
              "</table>\n",
              "</div>"
            ],
            "text/plain": [
              "   Sentence_idx  ...                                            Tag_idx\n",
              "0             1  ...  [5, 2, 6, 6, 6, 6, 6, 6, 6, 6, 0, 6, 0, 1, 6, ...\n",
              "1             2  ...  [6, 6, 5, 2, 2, 6, 6, 6, 6, 6, 6, 6, 6, 6, 6, ...\n",
              "2             3  ...  [6, 6, 6, 6, 5, 2, 2, 2, 2, 6, 4, 3, 6, 6, 6, ...\n",
              "3             4  ...  [6, 5, 2, 2, 2, 2, 6, 6, 6, 6, 6, 6, 6, 6, 6, ...\n",
              "4             5  ...  [6, 6, 6, 4, 6, 6, 6, 6, 0, 1, 1, 1, 1, 6, 4, ...\n",
              "\n",
              "[5 rows x 5 columns]"
            ]
          },
          "metadata": {
            "tags": []
          },
          "execution_count": 0
        }
      ]
    },
    {
      "cell_type": "code",
      "metadata": {
        "colab": {
          "background_save": true,
          "base_uri": "https://localhost:8080/"
        },
        "id": "5KZRRFcDWrjV",
        "outputId": "df4e2e38-9a61-4fdf-8dcb-538ca4962cdc"
      },
      "source": [
        "len(data_group)"
      ],
      "execution_count": null,
      "outputs": [
        {
          "output_type": "execute_result",
          "data": {
            "text/plain": [
              "350"
            ]
          },
          "metadata": {
            "tags": []
          },
          "execution_count": 0
        }
      ]
    },
    {
      "cell_type": "code",
      "metadata": {
        "colab": {
          "background_save": true,
          "base_uri": "https://localhost:8080/",
          "height": 573
        },
        "id": "xQmdVBaV_BAY",
        "outputId": "d182f5a1-8ae0-4e30-9f0c-7fe162c82626"
      },
      "source": [
        "data_group"
      ],
      "execution_count": null,
      "outputs": [
        {
          "output_type": "execute_result",
          "data": {
            "text/html": [
              "<div>\n",
              "<style scoped>\n",
              "    .dataframe tbody tr th:only-of-type {\n",
              "        vertical-align: middle;\n",
              "    }\n",
              "\n",
              "    .dataframe tbody tr th {\n",
              "        vertical-align: top;\n",
              "    }\n",
              "\n",
              "    .dataframe thead th {\n",
              "        text-align: right;\n",
              "    }\n",
              "</style>\n",
              "<table border=\"1\" class=\"dataframe\">\n",
              "  <thead>\n",
              "    <tr style=\"text-align: right;\">\n",
              "      <th></th>\n",
              "      <th>Sentence_idx</th>\n",
              "      <th>Words</th>\n",
              "      <th>Tags</th>\n",
              "      <th>Word_idx</th>\n",
              "      <th>Tag_idx</th>\n",
              "    </tr>\n",
              "  </thead>\n",
              "  <tbody>\n",
              "    <tr>\n",
              "      <th>0</th>\n",
              "      <td>1</td>\n",
              "      <td>[nuclear, theory, devoted, major, efforts, sin...</td>\n",
              "      <td>[B-Task, I-Task, O, O, O, O, O, O, O, O, B-Pro...</td>\n",
              "      <td>[265375.0, 357607.0, 122590.0, 231345.0, 13395...</td>\n",
              "      <td>[5, 2, 6, 6, 6, 6, 6, 6, 6, 6, 0, 6, 0, 1, 6, ...</td>\n",
              "    </tr>\n",
              "    <tr>\n",
              "      <th>1</th>\n",
              "      <td>2</td>\n",
              "      <td>[the, particular, phase, field, model, we, emp...</td>\n",
              "      <td>[O, O, B-Task, I-Task, I-Task, O, O, O, O, O, ...</td>\n",
              "      <td>[357266.0, 278014.0, 283048.0, 147810.0, 24737...</td>\n",
              "      <td>[6, 6, 5, 2, 2, 6, 6, 6, 6, 6, 6, 6, 6, 6, 6, ...</td>\n",
              "    </tr>\n",
              "    <tr>\n",
              "      <th>2</th>\n",
              "      <td>3</td>\n",
              "      <td>[to, conclude, ,, the, electrochemical, reduct...</td>\n",
              "      <td>[O, O, O, O, B-Task, I-Task, I-Task, I-Task, I...</td>\n",
              "      <td>[360915.0, 106803.0, 452.0, 357266.0, 135160.0...</td>\n",
              "      <td>[6, 6, 6, 6, 5, 2, 2, 2, 2, 6, 4, 3, 6, 6, 6, ...</td>\n",
              "    </tr>\n",
              "    <tr>\n",
              "      <th>3</th>\n",
              "      <td>4</td>\n",
              "      <td>[the, validity, of, semi-classical, boundary, ...</td>\n",
              "      <td>[O, B-Task, I-Task, I-Task, I-Task, I-Task, O,...</td>\n",
              "      <td>[357266.0, 375441.0, 268046.0, 324517.0, 81903...</td>\n",
              "      <td>[6, 5, 2, 2, 2, 2, 6, 6, 6, 6, 6, 6, 6, 6, 6, ...</td>\n",
              "    </tr>\n",
              "    <tr>\n",
              "      <th>4</th>\n",
              "      <td>5</td>\n",
              "      <td>[in, contrast, with, polymers, ,, which, are, ...</td>\n",
              "      <td>[O, O, O, B-Material, O, O, O, O, B-Process, I...</td>\n",
              "      <td>[188481.0, 108256.0, 388711.0, 288221.0, 452.0...</td>\n",
              "      <td>[6, 6, 6, 4, 6, 6, 6, 6, 0, 1, 1, 1, 1, 6, 4, ...</td>\n",
              "    </tr>\n",
              "    <tr>\n",
              "      <th>...</th>\n",
              "      <td>...</td>\n",
              "      <td>...</td>\n",
              "      <td>...</td>\n",
              "      <td>...</td>\n",
              "      <td>...</td>\n",
              "    </tr>\n",
              "    <tr>\n",
              "      <th>345</th>\n",
              "      <td>346</td>\n",
              "      <td>[a, popular, choice, is, to, couple, a, set, o...</td>\n",
              "      <td>[O, O, O, O, O, B-Process, I-Process, I-Proces...</td>\n",
              "      <td>[43010.0, 288917.0, 99771.0, 192973.0, 360915....</td>\n",
              "      <td>[6, 6, 6, 6, 6, 0, 1, 1, 1, 1, 1, 1, 1, 1, 1, ...</td>\n",
              "    </tr>\n",
              "    <tr>\n",
              "      <th>346</th>\n",
              "      <td>347</td>\n",
              "      <td>[the, boundary, element, method, (, bem, ), ha...</td>\n",
              "      <td>[O, B-Process, I-Process, I-Process, O, B-Proc...</td>\n",
              "      <td>[357266.0, 81903.0, 135301.0, 242245.0, 158.0,...</td>\n",
              "      <td>[6, 0, 1, 1, 6, 0, 6, 6, 6, 6, 6, 6, 6, 5, 2, ...</td>\n",
              "    </tr>\n",
              "    <tr>\n",
              "      <th>347</th>\n",
              "      <td>348</td>\n",
              "      <td>[experimental, studies, of, the, dynamics, of,...</td>\n",
              "      <td>[O, O, O, O, O, O, O, B-Material, I-Material, ...</td>\n",
              "      <td>[142820.0, 345173.0, 268046.0, 357266.0, 13166...</td>\n",
              "      <td>[6, 6, 6, 6, 6, 6, 6, 4, 3, 6, 4, 6, 6, 6, 6, ...</td>\n",
              "    </tr>\n",
              "    <tr>\n",
              "      <th>348</th>\n",
              "      <td>349</td>\n",
              "      <td>[in, all, these, studies, ,, the, association,...</td>\n",
              "      <td>[O, O, O, O, O, O, O, O, O, O, O, O, O, O, O, ...</td>\n",
              "      <td>[188481.0, 51582.0, 357761.0, 345173.0, 452.0,...</td>\n",
              "      <td>[6, 6, 6, 6, 6, 6, 6, 6, 6, 6, 6, 6, 6, 6, 6, ...</td>\n",
              "    </tr>\n",
              "    <tr>\n",
              "      <th>349</th>\n",
              "      <td>350</td>\n",
              "      <td>[in, this, work, ,, we, have, developed, a, si...</td>\n",
              "      <td>[O, O, O, O, O, O, O, O, O, B-Process, I-Proce...</td>\n",
              "      <td>[188481.0, 358160.0, 389836.0, 452.0, 384374.0...</td>\n",
              "      <td>[6, 6, 6, 6, 6, 6, 6, 6, 6, 0, 1, 6, 6, 6, 0, ...</td>\n",
              "    </tr>\n",
              "  </tbody>\n",
              "</table>\n",
              "<p>350 rows × 5 columns</p>\n",
              "</div>"
            ],
            "text/plain": [
              "     Sentence_idx  ...                                            Tag_idx\n",
              "0               1  ...  [5, 2, 6, 6, 6, 6, 6, 6, 6, 6, 0, 6, 0, 1, 6, ...\n",
              "1               2  ...  [6, 6, 5, 2, 2, 6, 6, 6, 6, 6, 6, 6, 6, 6, 6, ...\n",
              "2               3  ...  [6, 6, 6, 6, 5, 2, 2, 2, 2, 6, 4, 3, 6, 6, 6, ...\n",
              "3               4  ...  [6, 5, 2, 2, 2, 2, 6, 6, 6, 6, 6, 6, 6, 6, 6, ...\n",
              "4               5  ...  [6, 6, 6, 4, 6, 6, 6, 6, 0, 1, 1, 1, 1, 6, 4, ...\n",
              "..            ...  ...                                                ...\n",
              "345           346  ...  [6, 6, 6, 6, 6, 0, 1, 1, 1, 1, 1, 1, 1, 1, 1, ...\n",
              "346           347  ...  [6, 0, 1, 1, 6, 0, 6, 6, 6, 6, 6, 6, 6, 5, 2, ...\n",
              "347           348  ...  [6, 6, 6, 6, 6, 6, 6, 4, 3, 6, 4, 6, 6, 6, 6, ...\n",
              "348           349  ...  [6, 6, 6, 6, 6, 6, 6, 6, 6, 6, 6, 6, 6, 6, 6, ...\n",
              "349           350  ...  [6, 6, 6, 6, 6, 6, 6, 6, 6, 0, 1, 6, 6, 6, 0, ...\n",
              "\n",
              "[350 rows x 5 columns]"
            ]
          },
          "metadata": {
            "tags": []
          },
          "execution_count": 0
        }
      ]
    },
    {
      "cell_type": "code",
      "metadata": {
        "colab": {
          "background_save": true
        },
        "id": "sUdIHWmhAGal"
      },
      "source": [
        "#words_train = list(set(train_dataset[\"Words\"].values))\n",
        "words_train = list(data_group[\"Words\"].values)\n",
        "n_words_train = len(words_train)\n",
        "\n",
        "tags_train = []\n",
        "for tag_train in data_group[\"Tags\"]:\n",
        "  if tag_train is nan or isinstance(tag_train, float):\n",
        "    tags_train.append(\"Unknown\")\n",
        "  else:\n",
        "    tags_train.append(tag_train)\n",
        "\n",
        "n_tags_train  = len(tags_train)"
      ],
      "execution_count": null,
      "outputs": []
    },
    {
      "cell_type": "code",
      "metadata": {
        "colab": {
          "background_save": true,
          "base_uri": "https://localhost:8080/"
        },
        "id": "MhhapD1YEFXo",
        "outputId": "33f151a8-84ab-43ca-b582-8c153057042b"
      },
      "source": [
        "\n",
        "def get_pad_train_test_val(data_group, data):\n",
        "\n",
        "    #get max token and tag length\n",
        "    n_token = len(list(set(data['Words'].to_list())))\n",
        "    \n",
        "    print(n_token)\n",
        "    n_tag = len(list(set(data['Tags'].to_list())))\n",
        "    print(n_tag)\n",
        "    #Pad tokens (X var)    \n",
        "    tokens = data_group['Word_idx'].tolist()\n",
        "    print(tokens)\n",
        "    #maxlen = max([len(s) for s in tokens])\n",
        "    maxlen = 344\n",
        "    pad_tokens = pad_sequences(tokens, maxlen=maxlen, dtype='int32', padding='post', value= n_token - 1)\n",
        "    print(pad_tokens)\n",
        "\n",
        "    #Pad Tags (y var) and convert it into one hot encoding\n",
        "    tags = data_group['Tag_idx'].tolist()\n",
        "    pad_tags = pad_sequences(tags, maxlen=maxlen, dtype='int32', padding='post', value= tag2idx[\"O\"])\n",
        "    n_tags = len(tag2idx)\n",
        "    pad_tags = [to_categorical(i, num_classes = n_tags) for i in pad_tags]\n",
        "    \n",
        "    #Split train, test and validation set\n",
        "    \n",
        "    #train_tokens, val_tokens, train_tags, val_tags = train_test_split(tokens_,tags_,test_size = 0.25,train_size =0.75, random_state=2020)\n",
        "\n",
        "\n",
        "    return pad_tokens, pad_tags\n",
        "\"\"\"\n",
        "\"\"\"\n",
        " #   print(\n",
        "  #      'train_tokens length:', len(train_tokens),\n",
        "   #     '\\ntrain_tokens length:', len(train_tokens),\n",
        "    #    '\\nval_tokens:', len(val_tokens),\n",
        "     #   '\\nval_tags:', len(val_tags),\n",
        "    #) # \n",
        "    \n",
        "\n",
        "train_tokens, train_tags = get_pad_train_test_val(data_group, train_dataset)"
      ],
      "execution_count": null,
      "outputs": [
        {
          "output_type": "stream",
          "text": [
            "9446\n",
            "7\n",
            "[[265375.0, 357607.0, 122590.0, 231345.0, 133951.0, 332240.0, 26559.0, 118593.0, 360915.0, 121730.0, 121730.0, 188481.0, 265375.0, 302195.0, 452.0, 291311.0, 374253.0, 324517.0, 242260.0, 42972.0, 42972.0, 42974.0, 452.0, 188481.0, 222946.0, 388711.0, 332008.0, 292803.0, 188481.0, 297180.0, 223495.0, 42972.0, 42972.0, 42974.0, 867.0, 357640.0, 385664.0, 62699.0, 360915.0, 122447.0, 188387.0, 248029.0, 131666.0, 242260.0, 105593.0, 297180.0, 146160.0, 388711.0, 43010.0, 324501.0, 102223.0, 364480.0, 268046.0, 131664.0, 109507.0, 42972.0, 42972.0, 42974.0, 867.0, 343257.0, 452.0, 262350.0, 102473.0, 297180.0, 57920.0, 192973.0, 302229.0, 63822.0, 393705.0, 452.0, 188481.0, 339693.0, 268046.0, 265603.0, 151725.0, 62699.0, 42972.0, 42972.0, 42974.0, 867.0, 357266.0, 147810.0, 268046.0, 103318.0, 54718.0, 256277.0, 344940.0, 192973.0, 144971.0, 394534.0, 87775.0, 145460.0, 122454.0, 188481.0, 304963.0, 360915.0, 357266.0, 270157.0, 122459.0, 268046.0, 217676.0, 54718.0, 187682.0, 187682.0, 324622.0, 57924.0, 385664.0, 52520.0, 107670.0, 188481.0, 357266.0, 147810.0, 360915.0, 188836.0, 337259.0, 131664.0, 109482.0, 42972.0, 42972.0, 42974.0, 54718.0, 110156.0, 297109.0, 121730.0, 131664.0, 131664.0, 87775.0, 346373.0, 57924.0, 58997.0, 81901.0, 360915.0, 332120.0, 242078.0, 388711.0, 346609.0, 120191.0, 384039.0, 155226.0, 452.0, 54718.0, 359056.0, 335514.0, 289876.0, 200061.0, 324622.0, 324622.0, 357266.0, 93018.0, 268046.0, 271342.0, 350396.0, 452.0, 188481.0, 278014.0, 357266.0, 251645.0, 94876.0, 88775.0, 42972.0, 42972.0, 42974.0, 452.0, 90548.0, 264550.0, 71090.0, 364472.0, 358160.0, 358160.0, 324501.0, 102223.0, 452.0, 54718.0, 141816.0, 102223.0, 57924.0, 452.0, 90548.0, 71090.0, 374168.0, 62065.0, 377946.0, 178401.0, 142389.0, 346373.0, 60665.0, 120121.0, 88126.0, 377946.0, 191039.0, 217666.0, 295178.0, 42972.0, 15341.0, 42974.0, 867.0, 188481.0, 346373.0, 93054.0, 357266.0, 350362.0, 192973.0, 78610.0, 373317.0, 54718.0, 122134.0, 268046.0, 193919.0, 297180.0, 239291.0, 146160.0, 126552.0, 264550.0, 236860.0, 236860.0, 87775.0, 151349.0, 220815.0, 379446.0, 320241.0, 452.0, 297180.0, 328141.0, 133907.0, 90548.0, 264550.0, 71090.0, 186888.0, 867.0], [357266.0, 278014.0, 283048.0, 147810.0, 247378.0, 384374.0, 136613.0, 192973.0, 54273.0, 143038.0, 268046.0, 42972.0, 33544.0, 42974.0, 452.0, 54718.0, 192973.0, 69725.0, 269798.0, 357266.0, 358549.0, 124207.0, 357682.0, 283048.0, 147810.0, 247378.0, 268046.0, 42972.0, 36169.0, 42974.0, 54718.0, 368321.0, 124207.0, 124207.0, 283048.0, 147810.0, 247378.0, 268046.0, 42972.0, 38601.0, 42974.0, 867.0, 269953.0, 146154.0, 268046.0, 357266.0, 283877.0, 292794.0, 192973.0, 357212.0, 193716.0, 192973.0, 295485.0, 125697.0, 452.0, 270970.0, 138035.0, 188949.0, 452.0, 60665.0, 51582.0, 257293.0, 257293.0, 283134.0, 283134.0, 357266.0, 306716.0, 279561.0, 58997.0, 268046.0, 268046.0, 42972.0, 40724.0, 42974.0, 54718.0, 54718.0, 368669.0, 42972.0, 4961.0, 42974.0, 867.0, 357212.0, 192973.0, 360915.0, 319691.0, 452.0, 357266.0, 247378.0, 192217.0, 359889.0, 121483.0, 268046.0, 357266.0, 358549.0, 147828.0, 110482.0, 360915.0, 151808.0, 192218.0, 376117.0, 121483.0, 268046.0, 337259.0, 155212.0, 399907.0, 368711.0, 357266.0, 153443.0, 137256.0, 137256.0, 60665.0, 357266.0, 120778.0, 167700.0, 357266.0, 153443.0, 137256.0, 303666.0, 248857.0, 388711.0, 359889.0, 87775.0, 259914.0, 45463.0, 138656.0, 186645.0, 357266.0, 127210.0, 81903.0, 192973.0, 144971.0, 154323.0, 357266.0, 357266.0, 52673.0, 384374.0, 174642.0, 223634.0, 337259.0, 268046.0, 357266.0, 123789.0, 61428.0, 268046.0, 358160.0, 247378.0, 452.0, 357266.0, 357266.0, 61423.0, 192973.0, 368711.0, 54273.0, 61645.0, 54718.0, 306717.0, 188481.0, 341045.0, 265592.0, 320544.0, 42867.0, 357640.0, 192973.0, 262350.0, 108353.0, 452.0, 151349.0, 142283.0, 158.0, 62065.0, 219145.0, 188481.0, 357266.0, 44761.0, 268046.0, 150400.0, 188481.0, 357266.0, 240628.0, 324.0, 867.0], [360915.0, 106803.0, 452.0, 357266.0, 135160.0, 303676.0, 268046.0, 373674.0, 124608.0, 360915.0, 373674.0, 242030.0, 174032.0, 71814.0, 345171.0, 188481.0, 43010.0, 223737.0, 223737.0, 99644.0, 141635.0, 248186.0, 316615.0, 62065.0, 62065.0, 81562.0, 135160.0, 54718.0, 350131.0, 391342.0, 354635.0, 174642.0, 71814.0, 374504.0, 360915.0, 119068.0, 357266.0, 135160.0, 303676.0, 289872.0, 452.0, 239301.0, 54718.0, 303676.0, 303676.0, 357266.0, 135160.0, 303676.0, 289872.0, 268046.0, 357266.0, 357266.0, 110481.0, 192973.0, 121166.0, 269798.0, 357266.0, 45884.0, 268046.0, 274242.0, 192341.0, 142644.0, 388747.0, 357266.0, 357266.0, 357266.0, 135160.0, 303676.0, 268046.0, 373674.0, 124608.0, 360915.0, 373674.0, 242030.0, 323431.0, 360915.0, 267452.0, 188481.0, 43010.0, 332395.0, 452.0, 452.0, 452.0, 292848.0, 42950.0, 189162.0, 88126.0, 43010.0, 332395.0, 303676.0, 279661.0, 158.0, 88727.0, 324.0, 188481.0, 357266.0, 114534.0, 114534.0, 54718.0, 52520.0, 88126.0, 357266.0, 142422.0, 268046.0, 57170.0, 272583.0, 283061.0, 188481.0, 357266.0, 357266.0, 357266.0, 357266.0, 135160.0, 303676.0, 237383.0, 71090.0, 188089.0, 88126.0, 54273.0, 188946.0, 188481.0, 188481.0, 268046.0, 357266.0, 248186.0, 248186.0, 357212.0, 192973.0, 452.0, 452.0, 192341.0, 357212.0, 58997.0, 221702.0, 88126.0, 357266.0, 357266.0, 237383.0, 264550.0, 302186.0, 62065.0, 357266.0, 110239.0, 135174.0, 54718.0, 452.0, 359056.0, 452.0, 264550.0, 71090.0, 305355.0, 154323.0, 357266.0, 248186.0, 248186.0, 358160.0, 110156.0, 71090.0, 130319.0, 360915.0, 357266.0, 135174.0, 159832.0, 54738.0, 357266.0, 190095.0, 243332.0, 268046.0, 357266.0, 389883.0, 135174.0, 42867.0, 43010.0, 178401.0, 178401.0, 452.0, 151349.0, 142283.0, 452.0, 390139.0, 188088.0, 357266.0, 123811.0, 268046.0, 268046.0, 192341.0, 272930.0, 268046.0, 357266.0, 389883.0, 389883.0, 358160.0, 110156.0, 357412.0, 94041.0, 54273.0, 188946.0, 188481.0, 357266.0, 45884.0, 268046.0, 274242.0, 192341.0, 142644.0, 388747.0, 357266.0, 240628.0, 54718.0, 176789.0, 190108.0, 357266.0, 135160.0, 303676.0, 399907.0, 142897.0, 268046.0, 357266.0, 243332.0, 268046.0, 389883.0, 135176.0, 387696.0, 71090.0, 357266.0, 150791.0, 268046.0, 155653.0, 389836.0, 867.0], [357266.0, 375441.0, 268046.0, 324517.0, 81903.0, 106927.0, 151349.0, 357266.0, 390593.0, 60665.0, 191916.0, 188481.0, 42972.0, 38601.0, 42974.0, 192973.0, 43010.0, 362162.0, 371152.0, 380093.0, 118409.0, 452.0, 139731.0, 47798.0, 302801.0, 389913.0, 386474.0, 46244.0, 357266.0, 357266.0, 54718.0, 357266.0, 350014.0, 293518.0, 268046.0, 357266.0, 387407.0, 155211.0, 42972.0, 42972.0, 42974.0, 867.0, 357266.0, 265592.0, 356531.0, 93054.0, 291763.0, 357647.0, 58997.0, 151349.0, 350009.0, 289876.0, 151349.0, 386474.0, 384374.0, 90548.0, 264550.0, 294037.0, 305039.0, 452.0, 185635.0, 185635.0, 452.0, 306717.0, 130319.0, 360915.0, 357266.0, 291748.0, 268046.0, 332543.0, 356212.0, 188481.0, 357266.0, 342228.0, 341956.0, 387407.0, 155226.0, 452.0, 323337.0, 323165.0, 323165.0, 272583.0, 302801.0, 345173.0, 120638.0, 357266.0, 108395.0, 268046.0, 357266.0, 390593.0, 89639.0, 373485.0, 188949.0, 357266.0, 333429.0, 268046.0, 357266.0, 332179.0, 127210.0, 42972.0, 28721.0, 42974.0, 60665.0, 385218.0, 60665.0, 289446.0, 188389.0, 88126.0, 46133.0, 357266.0, 81903.0, 125818.0, 360915.0, 357266.0, 283877.0, 341956.0, 268046.0, 357266.0, 45863.0, 122509.0, 304237.0, 42972.0, 29522.0, 42974.0, 867.0, 121972.0, 357354.0, 57949.0, 257320.0, 384374.0, 136613.0, 136613.0, 81903.0, 106927.0, 177231.0, 60665.0, 385218.0, 54718.0, 120638.0, 357212.0, 45290.0, 54718.0, 283880.0, 375430.0, 306717.0, 90548.0, 71090.0, 45458.0, 151349.0, 346609.0, 217449.0, 375636.0, 268046.0, 268046.0, 130319.0, 360915.0, 357266.0, 357266.0, 388711.0, 332543.0, 356212.0, 384374.0, 291753.0, 332181.0, 270201.0, 151349.0, 263453.0, 75340.0, 380814.0, 380814.0, 374768.0, 867.0], [188481.0, 108256.0, 388711.0, 288221.0, 452.0, 386474.0, 58997.0, 368711.0, 350264.0, 188481.0, 357266.0, 223475.0, 283048.0, 452.0, 452.0, 58997.0, 292970.0, 358802.0, 43010.0, 376136.0, 268046.0, 350256.0, 354635.0, 357212.0, 368711.0, 192213.0, 357266.0, 302192.0, 268046.0, 43010.0, 158047.0, 91787.0, 146335.0, 360915.0, 151719.0, 357266.0, 256335.0, 269798.0, 93590.0, 93590.0, 93590.0, 385664.0, 148908.0, 267267.0, 188481.0, 58607.0, 125000.0, 155086.0, 302204.0, 42972.0, 42972.0, 42974.0, 42950.0, 358160.0, 354634.0, 383514.0, 217909.0, 46130.0, 360915.0, 292969.0, 292969.0, 42972.0, 21828.0, 42974.0, 867.0, 332015.0, 452.0, 357266.0, 155086.0, 292986.0, 242245.0, 268046.0, 217666.0, 44489.0, 42972.0, 20656.0, 42974.0, 383514.0, 46130.0, 360915.0, 292969.0, 292969.0, 158.0, 158.0, 123214.0, 324.0, 188481.0, 217469.0, 297169.0, 269798.0, 242030.0, 93590.0, 278011.0, 42972.0, 42972.0, 42974.0, 867.0, 43010.0, 265557.0, 268046.0, 98017.0, 375993.0, 121260.0, 158.0, 114308.0, 324.0, 292852.0, 174642.0, 71814.0, 122450.0, 360915.0, 167678.0, 167678.0, 54718.0, 54718.0, 452.0, 51582.0, 192218.0, 357266.0, 302192.0, 268046.0, 43010.0, 158047.0, 91787.0, 106424.0, 60665.0, 60665.0, 357761.0, 292852.0, 188836.0, 150495.0, 71602.0, 42972.0, 23802.0, 42974.0, 452.0, 399931.0, 92566.0, 399936.0, 167701.0, 268046.0, 91787.0, 256335.0, 158.0, 103521.0, 324.0, 154323.0, 93590.0, 278011.0, 136168.0, 188481.0, 43010.0, 346197.0, 42972.0, 42972.0, 42974.0, 60665.0, 330028.0, 188481.0, 147946.0, 21828.0, 452.0, 54718.0, 399931.0, 93592.0, 158016.0, 150400.0, 114308.0, 399936.0, 42972.0, 42972.0, 42974.0, 867.0, 269953.0, 268046.0, 357266.0, 250392.0, 133900.0, 452.0, 97698.0, 452.0, 54718.0, 319915.0, 114308.0, 354635.0, 192973.0, 357266.0, 357266.0, 158.0, 178480.0, 103530.0, 324.0, 292848.0, 452.0, 386474.0, 126848.0, 264550.0, 374163.0, 290941.0, 93590.0, 278011.0, 372358.0, 250392.0, 272583.0, 114308.0, 354635.0, 42972.0, 25859.0, 42974.0, 867.0], [47798.0, 51582.0, 243068.0, 135310.0, 302170.0, 43010.0, 304990.0, 342229.0, 452.0, 239231.0, 58997.0, 267326.0, 374253.0, 43010.0, 113679.0, 63982.0, 354634.0, 360915.0, 303660.0, 303660.0, 132276.0, 243068.0, 135301.0, 192973.0, 126022.0, 191811.0, 191811.0, 76386.0, 188481.0, 357266.0, 357266.0, 188481.0, 271173.0, 360915.0, 306453.0, 357266.0, 377040.0, 54718.0, 54718.0, 54718.0, 377040.0, 188481.0, 132276.0, 76248.0, 192973.0, 239228.0, 374253.0, 357266.0, 113679.0, 63982.0, 242245.0, 158.0, 90125.0, 324.0, 42972.0, 19410.0, 42974.0, 452.0, 386495.0, 357266.0, 344607.0, 355905.0, 147810.0, 192973.0, 239228.0, 374253.0, 357266.0, 357266.0, 304966.0, 42972.0, 19833.0, 42974.0, 867.0, 43010.0, 219146.0, 288239.0, 149139.0, 360915.0, 357266.0, 117493.0, 192973.0, 281319.0, 452.0, 386474.0, 176573.0, 303660.0, 262664.0, 262664.0, 357266.0, 149139.0, 292979.0, 43010.0, 108161.0, 155211.0, 357212.0, 64177.0, 341036.0, 193642.0, 59354.0, 154323.0, 348214.0, 178623.0, 150461.0, 117493.0, 360915.0, 357266.0, 229655.0, 229655.0, 43010.0, 219146.0, 149139.0, 192973.0, 57844.0, 360915.0, 54273.0, 265283.0, 271173.0, 288239.0, 151349.0, 357266.0, 377040.0, 293079.0, 188481.0, 357266.0, 109103.0, 304237.0, 452.0, 54718.0, 54273.0, 251535.0, 271173.0, 288239.0, 151349.0, 357266.0, 377040.0, 293079.0, 188481.0, 357266.0, 107852.0, 304237.0, 42867.0, 158.0, 11458.0, 324.0, 324.0, 452.0, 452.0, 452.0, 452.0, 158.0, 158.0, 324.0, 452.0, 151349.0, 151349.0, 452.0, 54718.0, 158.0, 12126.0, 324.0, 324.0, 452.0, 452.0, 452.0, 452.0, 158.0, 158.0, 324.0, 452.0, 151349.0, 151349.0, 452.0, 386432.0, 77443.0, 452.0, 185457.0, 54718.0, 101904.0, 452.0, 185457.0, 58997.0, 357266.0, 104364.0, 268046.0, 357266.0, 288242.0, 374168.0, 188481.0, 357266.0, 109103.0, 243068.0, 304237.0, 54718.0, 107852.0, 304237.0, 304237.0, 54273.0, 140079.0, 268046.0, 357266.0, 259972.0, 334743.0, 377040.0, 369453.0, 151349.0, 190461.0, 360915.0, 357266.0, 229655.0, 337176.0, 158.0, 33544.0, 324.0, 192973.0, 351973.0, 124758.0, 154323.0, 357266.0, 106447.0, 382654.0, 382654.0, 337176.0, 158.0, 11458.0, 324.0, 452.0, 62065.0, 62065.0, 867.0], [326643.0, 90548.0, 71090.0, 357266.0, 250392.0, 122271.0, 143981.0, 269798.0, 281311.0, 151349.0, 43010.0, 127268.0, 127268.0, 357266.0, 188025.0, 268046.0, 326643.0, 269798.0, 281311.0, 376132.0, 121168.0, 269798.0, 357266.0, 135114.0, 325550.0, 54718.0, 277135.0, 60018.0, 268046.0, 95005.0, 388747.0, 43010.0, 247537.0, 54718.0, 247538.0, 388747.0, 54273.0, 190724.0, 190724.0, 386501.0, 233708.0, 57924.0, 360915.0, 326643.0, 54431.0, 174642.0, 71814.0, 293583.0, 452.0, 106512.0, 133928.0, 192973.0, 264550.0, 305946.0, 121972.0, 72182.0, 268046.0, 178401.0, 188271.0, 386424.0, 188932.0, 326643.0, 51278.0, 191811.0, 54273.0, 273500.0, 137256.0, 393809.0, 393809.0, 357266.0, 215502.0, 268046.0, 107668.0, 268046.0, 357266.0, 263129.0, 188033.0, 268046.0, 326643.0, 269798.0, 335162.0, 350396.0, 151349.0, 142283.0, 239197.0, 357212.0, 357266.0, 326643.0, 225967.0, 192973.0, 331418.0, 371274.0, 452.0, 139731.0, 154323.0, 348227.0, 335129.0, 267299.0, 346373.0, 60665.0, 56255.0, 270970.0, 270970.0, 60665.0, 54273.0, 142283.0, 452.0, 357266.0, 350362.0, 330028.0, 188481.0, 147946.0, 2479.0, 187520.0, 357266.0, 93018.0, 386432.0, 357266.0, 190725.0, 237383.0, 174642.0, 62746.0, 43010.0, 326628.0, 225967.0, 143981.0, 103049.0, 360915.0, 372213.0, 371152.0, 370046.0, 243192.0, 168672.0, 158.0, 243192.0, 95632.0, 320539.0, 452.0, 17708.0, 324.0, 452.0, 185635.0, 258622.0, 452.0, 87775.0, 357266.0, 281311.0, 268046.0, 357266.0, 350362.0, 192973.0, 326152.0, 106467.0, 130319.0, 360915.0, 357266.0, 263129.0, 94956.0, 246180.0, 246180.0, 54273.0, 133900.0, 326643.0, 326643.0, 357645.0, 258481.0, 360915.0, 162051.0, 146323.0, 360915.0, 189811.0, 118793.0, 268046.0, 60033.0, 218686.0, 188481.0, 357266.0, 294130.0, 268046.0, 267319.0, 87775.0, 253767.0, 264550.0, 305141.0, 269798.0, 178401.0, 290159.0, 106547.0, 867.0], [357266.0, 121839.0, 452.0, 54718.0, 357266.0, 355520.0, 302173.0, 188481.0, 357266.0, 317178.0, 180497.0, 452.0, 168285.0, 357212.0, 357266.0, 255103.0, 305158.0, 223475.0, 131142.0, 270617.0, 360915.0, 188386.0, 357266.0, 175561.0, 363894.0, 54718.0, 64176.0, 336968.0, 151761.0, 158.0, 361940.0, 104776.0, 389883.0, 355520.0, 324.0, 270970.0, 336472.0, 79738.0, 158.0, 361940.0, 182186.0, 389883.0, 355520.0, 324.0, 867.0, 357266.0, 355520.0, 44617.0, 54718.0, 200035.0, 72786.0, 357266.0, 255103.0, 348406.0, 387696.0, 71090.0, 248623.0, 88126.0, 333279.0, 119047.0, 119047.0, 188481.0, 271173.0, 360915.0, 292042.0, 274238.0, 268046.0, 357266.0, 255103.0, 452.0, 357266.0, 286607.0, 268046.0, 357266.0, 15317.0, 108006.0, 192973.0, 148198.0, 388711.0, 178485.0, 175199.0, 62065.0, 62065.0, 452.0, 322698.0, 47798.0, 148339.0, 61606.0, 54718.0, 205393.0, 103066.0, 131142.0, 131142.0, 270617.0, 158.0, 262350.0, 158016.0, 101479.0, 188481.0, 357266.0, 15317.0, 108006.0, 324.0, 867.0, 357266.0, 175523.0, 159436.0, 88126.0, 149109.0, 54718.0, 157162.0, 44812.0, 188481.0, 357266.0, 236514.0, 387696.0, 71090.0, 298707.0, 125693.0, 358802.0, 357266.0, 255103.0, 70229.0, 452.0, 357266.0, 344930.0, 236514.0, 54718.0, 357266.0, 158016.0, 157523.0, 88126.0, 106972.0, 54718.0, 298719.0, 360915.0, 357266.0, 128638.0, 292261.0, 108571.0, 268046.0, 357266.0, 365369.0, 386043.0, 96805.0, 867.0], [867.0, 58997.0, 278020.0, 62805.0, 151349.0, 357266.0, 350256.0, 268046.0, 78339.0, 108783.0, 357212.0, 324000.0, 191811.0, 288211.0, 256327.0, 346373.0, 60665.0, 60665.0, 357266.0, 148908.0, 389836.0, 188481.0, 358160.0, 58999.0, 192214.0, 54273.0, 54273.0, 54273.0, 108782.0, 108005.0, 108005.0, 158.0, 158.0, 324.0, 26559.0, 54718.0, 54718.0, 158.0, 158.0, 324.0, 26559.0, 60665.0, 357266.0, 184830.0, 54718.0, 184832.0, 78365.0, 452.0, 306511.0, 42972.0, 29988.0, 42974.0, 867.0, 357266.0, 306716.0, 242882.0, 385664.0, 345171.0, 88126.0, 131663.0, 222292.0, 320190.0, 158.0, 126416.0, 324.0, 54718.0, 129883.0, 383514.0, 374168.0, 360915.0, 239226.0, 357266.0, 137898.0, 268046.0, 268046.0, 43010.0, 43010.0, 108782.0, 383514.0, 346120.0, 350264.0, 54718.0, 357266.0, 355429.0, 187656.0, 268046.0, 358160.0, 288211.0, 329999.0, 357212.0, 193716.0, 151772.0, 339357.0, 48096.0, 42972.0, 31126.0, 42974.0, 867.0, 272583.0, 252760.0, 339357.0, 242882.0, 174642.0, 71814.0, 267326.0, 154323.0, 222960.0, 222960.0, 43731.0, 43731.0, 108783.0, 188481.0, 357266.0, 355520.0, 300364.0, 300364.0, 388711.0, 357266.0, 48971.0, 268046.0, 353330.0, 90674.0, 95005.0, 42972.0, 31546.0, 42974.0, 867.0, 75602.0, 140185.0, 50256.0, 174642.0, 52520.0, 142888.0, 357266.0, 357266.0, 151349.0, 193919.0, 44430.0, 360915.0, 325741.0, 60665.0, 229683.0, 92695.0, 151349.0, 357683.0, 353329.0, 120127.0, 268046.0, 268046.0, 62637.0, 268046.0, 128679.0, 360915.0, 360915.0, 350362.0, 329999.0, 137505.0, 114777.0, 188481.0, 374470.0, 318429.0, 95005.0, 386424.0, 48098.0, 383514.0, 189388.0, 388711.0, 185097.0, 42972.0, 31770.0, 42974.0, 867.0], [159814.0, 197041.0, 58997.0, 107757.0, 393705.0, 288752.0, 371439.0, 283134.0, 268046.0, 132482.0, 399913.0, 314370.0, 230423.0, 147810.0, 452.0, 250544.0, 192131.0, 268046.0, 357354.0, 250018.0, 54718.0, 357266.0, 357607.0, 72057.0, 357354.0, 357354.0, 197041.0, 58997.0, 250392.0, 106001.0, 119365.0, 88126.0, 357354.0, 267267.0, 151719.0, 62065.0, 43010.0, 332395.0, 267265.0, 60665.0, 399910.0, 374768.0, 399913.0, 327405.0, 188481.0, 43010.0, 332395.0, 106381.0, 268046.0, 357266.0, 159814.0, 323185.0, 376116.0, 158.0, 348946.0, 324.0, 452.0, 357266.0, 148908.0, 359889.0, 121482.0, 268046.0, 357266.0, 231068.0, 230423.0, 147810.0, 158.0, 242656.0, 324.0, 867.0, 357266.0, 359971.0, 268046.0, 357266.0, 165549.0, 96737.0, 452.0, 386474.0, 325181.0, 222960.0, 364721.0, 268046.0, 326146.0, 393335.0, 452.0, 174642.0, 61722.0, 342773.0, 96737.0, 188481.0, 357266.0, 323025.0, 359889.0, 121482.0, 268046.0, 357266.0, 242656.0, 158.0, 323185.0, 45075.0, 158.0, 314597.0, 324.0, 324.0, 54718.0, 188423.0, 188481.0, 357266.0, 358029.0, 359889.0, 359889.0, 357266.0, 399910.0, 374768.0, 399913.0, 327393.0, 348946.0, 119372.0, 268046.0, 197041.0, 188838.0, 54273.0, 188237.0, 142756.0, 268046.0, 43010.0, 399910.0, 217449.0, 399913.0, 230481.0, 342773.0, 96721.0, 188481.0, 357266.0, 165549.0, 388756.0, 119372.0, 268046.0, 358160.0, 319932.0, 270970.0, 193919.0, 358724.0, 375624.0, 272583.0, 357109.0, 357266.0, 69840.0, 258451.0, 151349.0, 193716.0, 360915.0, 71090.0, 267247.0, 188481.0, 357266.0, 117493.0, 44617.0, 357266.0, 178623.0, 376098.0, 65760.0, 65760.0, 197041.0, 90548.0, 71090.0, 121731.0, 88126.0, 357354.0, 54071.0, 452.0, 357212.0, 192973.0, 452.0, 357266.0, 123763.0, 188481.0, 357266.0, 165550.0, 268046.0, 357266.0, 368321.0, 222960.0, 348946.0, 323533.0, 44608.0, 43010.0, 197028.0, 452.0, 452.0, 452.0, 386432.0, 43346.0, 192973.0, 357266.0, 165549.0, 47798.0, 357266.0, 197028.0, 54718.0, 43318.0, 192973.0, 357266.0, 165549.0, 71895.0, 357266.0, 357266.0, 358160.0, 239226.0, 192973.0, 139908.0, 357266.0, 74390.0, 149139.0, 314597.0, 96721.0, 45776.0, 43010.0, 43010.0, 197028.0, 54071.0, 192973.0, 359056.0, 289384.0, 151349.0, 43010.0, 289384.0, 342773.0, 188481.0, 314597.0, 54718.0, 258587.0, 151349.0, 43010.0, 258587.0, 258587.0, 177231.0, 384374.0, 126552.0, 264550.0, 107661.0, 338898.0, 143048.0, 188481.0, 272881.0, 119372.0, 54718.0, 303855.0, 360915.0, 189262.0, 146160.0, 188481.0, 269953.0, 147810.0, 106381.0, 268046.0, 43010.0, 162058.0, 267265.0, 359889.0, 325550.0, 60665.0, 43010.0, 332395.0, 197028.0, 867.0], [357266.0, 356531.0, 93054.0, 107121.0, 357212.0, 357266.0, 178468.0, 178468.0, 306776.0, 142919.0, 108395.0, 293518.0, 388711.0, 188949.0, 159825.0, 54718.0, 142731.0, 288239.0, 271173.0, 186645.0, 81562.0, 357266.0, 337176.0, 54718.0, 366081.0, 348406.0, 58997.0, 58997.0, 139205.0, 58997.0, 152393.0, 360915.0, 319128.0, 386424.0, 357266.0, 159825.0, 139205.0, 452.0, 130319.0, 360915.0, 357266.0, 357266.0, 268046.0, 357266.0, 348406.0, 135310.0, 452.0, 71950.0, 360915.0, 127302.0, 357266.0, 355568.0, 54718.0, 338898.0, 338898.0, 338898.0, 151349.0, 357266.0, 335514.0, 337177.0, 107670.0, 60665.0, 356531.0, 93054.0, 452.0, 357266.0, 306717.0, 329974.0, 357212.0, 358160.0, 127297.0, 268046.0, 159825.0, 139205.0, 297656.0, 222729.0, 357266.0, 133902.0, 268046.0, 155499.0, 188948.0, 188481.0, 357266.0, 265557.0, 268046.0, 119564.0, 268046.0, 153510.0, 452.0, 134678.0, 358802.0, 241741.0, 303915.0, 270970.0, 178545.0, 337176.0, 288239.0, 288239.0, 188949.0, 357266.0, 271173.0, 268046.0, 357266.0, 159832.0, 159832.0, 303666.0, 357266.0, 159825.0, 159825.0, 357266.0, 54437.0, 356531.0, 93054.0, 291763.0, 177231.0, 374163.0, 43010.0, 103886.0, 114051.0, 241741.0, 42950.0, 151349.0, 57840.0, 452.0, 241753.0, 58997.0, 368711.0, 249714.0, 303914.0, 188481.0, 271173.0, 360915.0, 91590.0, 146160.0, 188481.0, 357266.0, 337176.0, 54718.0, 336114.0, 387696.0, 74597.0, 91590.0, 357266.0, 159832.0, 54718.0, 107623.0, 303660.0, 358160.0, 226512.0, 81901.0, 269798.0, 357266.0, 337176.0, 337176.0, 186645.0, 357266.0, 337176.0, 192973.0, 264550.0, 335514.0, 452.0, 384374.0, 126552.0, 264550.0, 142750.0, 360915.0, 323337.0, 300602.0, 300602.0, 188481.0, 357266.0, 93018.0, 357212.0, 357266.0, 337176.0, 192973.0, 335514.0, 452.0, 87775.0, 357266.0, 366081.0, 348406.0, 192973.0, 264550.0, 452.0, 357412.0, 142919.0, 108395.0, 388711.0, 274488.0, 54718.0, 282840.0, 90548.0, 270201.0, 71090.0, 45458.0, 186645.0, 452.0, 54718.0, 270201.0, 186645.0, 452.0, 357266.0, 125081.0, 58997.0, 51394.0, 388711.0, 135301.0, 135301.0, 182573.0, 452.0, 186645.0, 125081.0, 221998.0, 388747.0, 54273.0, 135301.0, 452.0, 108395.0, 387696.0, 71090.0, 222715.0, 88126.0, 357266.0, 159825.0, 57954.0, 452.0, 332240.0, 357266.0, 366081.0, 348406.0, 90548.0, 264550.0, 71090.0, 71090.0, 188481.0, 357266.0, 91935.0, 292794.0, 452.0, 384374.0, 107661.0, 81562.0, 357266.0, 366081.0, 348406.0, 54718.0, 337176.0, 360915.0, 71090.0, 335514.0, 867.0], [272881.0, 332181.0, 107121.0, 142820.0, 267260.0, 357212.0, 381758.0, 259422.0, 139146.0, 306013.0, 270201.0, 360283.0, 152796.0, 158.0, 188481.0, 272881.0, 332179.0, 332179.0, 41.0, 324.0, 268046.0, 357266.0, 381758.0, 167494.0, 167494.0, 357266.0, 140080.0, 373591.0, 381758.0, 150595.0, 452.0, 452.0, 452.0, 58997.0, 188481.0, 164328.0, 48354.0, 388711.0, 357266.0, 142824.0, 267267.0, 375636.0, 375636.0, 42972.0, 11458.0, 42974.0, 867.0, 249755.0, 452.0, 358160.0, 375624.0, 192973.0, 264550.0, 377946.0, 325034.0, 360915.0, 357266.0, 357266.0, 286186.0, 286186.0, 151349.0, 226394.0, 355524.0, 357266.0, 137256.0, 268046.0, 114975.0, 54718.0, 88542.0, 192341.0, 179665.0, 360915.0, 357266.0, 357266.0, 286276.0, 192973.0, 361940.0, 226394.0, 360915.0, 340402.0, 346608.0, 53974.0, 268046.0, 381773.0, 388711.0, 188949.0, 137256.0, 357266.0, 381758.0, 340404.0, 188948.0, 452.0, 87775.0, 357266.0, 289872.0, 129579.0, 188481.0, 357266.0, 357266.0, 286186.0, 188948.0, 188948.0, 60665.0, 43010.0, 306708.0, 452.0, 250392.0, 268046.0, 357266.0, 381758.0, 62500.0, 58997.0, 192334.0, 188481.0, 357266.0, 378430.0, 268046.0, 357266.0, 357266.0, 54718.0, 307029.0, 65680.0, 360915.0, 357266.0, 357266.0, 357640.0, 58997.0, 368321.0, 133907.0, 218977.0, 360915.0, 357266.0, 267267.0, 293402.0, 293402.0, 268046.0, 381758.0, 192341.0, 42867.0, 148908.0, 192973.0, 357266.0, 399931.0, 399931.0, 399936.0, 192332.0, 268046.0, 381758.0, 130319.0, 360915.0, 226394.0, 192332.0, 289872.0, 289872.0, 158.0, 151349.0, 106194.0, 357266.0, 192332.0, 289876.0, 151349.0, 114975.0, 54718.0, 88542.0, 58997.0, 58997.0, 54718.0, 54718.0, 324.0, 452.0, 323025.0, 452.0, 452.0, 192341.0, 174642.0, 217449.0, 217528.0, 298855.0, 298855.0, 452.0, 336114.0, 357212.0, 357810.0, 58997.0, 303471.0, 388747.0, 357266.0, 125728.0, 268046.0, 43010.0, 217528.0, 217528.0, 188273.0, 360915.0, 264588.0, 357212.0, 43010.0, 331417.0, 152796.0, 268046.0, 381758.0, 192341.0, 139410.0, 358160.0, 293402.0, 293402.0, 58997.0, 307031.0, 65680.0, 130319.0, 360915.0, 357266.0, 153970.0, 388711.0, 357266.0, 231068.0, 192341.0, 867.0], [357640.0, 174642.0, 71814.0, 304970.0, 147468.0, 62699.0, 360915.0, 267266.0, 54718.0, 188481.0, 337259.0, 93054.0, 143135.0, 357266.0, 63975.0, 113946.0, 120991.0, 154323.0, 378547.0, 187656.0, 351973.0, 268046.0, 167685.0, 21729.0, 21729.0, 153091.0, 291763.0, 43010.0, 242245.0, 360915.0, 124758.0, 239226.0, 357266.0, 63975.0, 55970.0, 113946.0, 120991.0, 154323.0, 357266.0, 167685.0, 285567.0, 81903.0, 377040.0, 188481.0, 49932.0, 42972.0, 24451.0, 42974.0, 452.0, 54273.0, 49932.0, 52075.0, 42972.0, 24747.0, 42974.0, 54718.0, 54718.0, 42972.0, 25017.0, 42974.0, 357953.0, 357953.0, 346120.0, 452.0, 313979.0, 140185.0, 50256.0, 42972.0, 42972.0, 42974.0, 122191.0, 357266.0, 55970.0, 113946.0, 120991.0, 188481.0, 285678.0, 293484.0, 60665.0, 21729.0, 125373.0, 188481.0, 341242.0, 342333.0, 357953.0, 148269.0, 88126.0, 239236.0, 357266.0, 285567.0, 133480.0, 251021.0, 251021.0, 139123.0, 54718.0, 260109.0, 42972.0, 42972.0, 42974.0, 345171.0, 341036.0, 268046.0, 285567.0, 167701.0, 188481.0, 122128.0, 54718.0, 239228.0, 357266.0, 207791.0, 268046.0, 21729.0, 285567.0, 293485.0, 188481.0, 121339.0, 54718.0, 387219.0, 54718.0, 106190.0, 357266.0, 306717.0, 388711.0, 207791.0, 188481.0, 15247.0, 280520.0, 280520.0, 357810.0, 122450.0, 43010.0, 43010.0, 247378.0, 151349.0, 285567.0, 293485.0, 386474.0, 142854.0, 357266.0, 215596.0, 285567.0, 110707.0, 151761.0, 131142.0, 357266.0, 285567.0, 167701.0, 452.0, 52673.0, 357810.0, 123517.0, 264550.0, 239226.0, 113946.0, 120991.0, 388747.0, 357266.0, 357266.0, 249714.0, 302802.0, 452.0, 352744.0, 54718.0, 117707.0, 42972.0, 25859.0, 42974.0, 363406.0, 357266.0, 285567.0, 81903.0, 251021.0, 54718.0, 106517.0, 357266.0, 190739.0, 87775.0, 63975.0, 113946.0, 120991.0, 188481.0, 188481.0, 357953.0, 357953.0, 182573.0, 452.0, 357640.0, 174642.0, 71814.0, 262350.0, 292066.0, 62699.0, 360915.0, 297162.0, 357266.0, 224573.0, 113946.0, 120991.0, 131142.0, 190121.0, 167701.0, 268046.0, 285678.0, 452.0, 52673.0, 346373.0, 224573.0, 376116.0, 188481.0, 113946.0, 120991.0, 174032.0, 225289.0, 71814.0, 302980.0, 42972.0, 36169.0, 42974.0, 867.0], [81562.0, 242260.0, 268046.0, 344936.0, 337176.0, 307133.0, 43010.0, 73364.0, 107169.0, 268046.0, 357266.0, 95247.0, 95247.0, 372211.0, 268046.0, 357266.0, 128203.0, 248031.0, 60665.0, 192973.0, 102496.0, 379782.0, 188481.0, 51582.0, 358549.0, 93054.0, 188481.0, 148016.0, 30933.0, 182573.0, 452.0, 357640.0, 192973.0, 43010.0, 155243.0, 123763.0, 188481.0, 357266.0, 107169.0, 268046.0, 357266.0, 267649.0, 330916.0, 330916.0, 386501.0, 151349.0, 357266.0, 332395.0, 112928.0, 283048.0, 62065.0, 62065.0, 222965.0, 143026.0, 96183.0, 58997.0, 267267.0, 158.0, 148016.0, 33493.0, 324.0, 452.0, 43010.0, 119365.0, 311797.0, 268046.0, 357266.0, 267649.0, 96183.0, 304969.0, 360915.0, 357266.0, 357266.0, 372170.0, 192973.0, 152393.0, 151349.0, 357266.0, 358549.0, 357953.0, 148224.0, 283061.0, 158.0, 148016.0, 33490.0, 324.0, 867.0, 357266.0, 311797.0, 55283.0, 268046.0, 44608.0, 44608.0, 306717.0, 154323.0, 43010.0, 368284.0, 268046.0, 357266.0, 148908.0, 94420.0, 332395.0, 80261.0, 62065.0, 357266.0, 223131.0, 74651.0, 357266.0, 357266.0, 372170.0, 54718.0, 357266.0, 267649.0, 96165.0, 158.0, 323337.0, 60129.0, 148016.0, 33490.0, 324.0, 867.0, 368321.0, 146160.0, 268046.0, 358160.0, 311793.0, 107169.0, 58997.0, 58997.0, 148908.0, 452.0, 43010.0, 248031.0, 388711.0, 311793.0, 330916.0, 96183.0, 306013.0, 357266.0, 138656.0, 341956.0, 268046.0, 54273.0, 193456.0, 332395.0, 128203.0, 248031.0, 60665.0, 267326.0, 88126.0, 105586.0, 239026.0, 54718.0, 376380.0, 89639.0, 42972.0, 24451.0, 42974.0, 867.0, 323025.0, 452.0, 357266.0, 311793.0, 107169.0, 268046.0, 357266.0, 267649.0, 96183.0, 52074.0, 43010.0, 120978.0, 274881.0, 268046.0, 357266.0, 267649.0, 330916.0, 96183.0, 151349.0, 81562.0, 81562.0, 191291.0, 452.0, 357266.0, 332395.0, 112928.0, 344936.0, 62065.0, 311178.0, 355520.0, 330039.0, 357266.0, 368286.0, 60665.0, 385218.0, 60665.0, 357266.0, 222960.0, 107169.0, 268046.0, 357266.0, 267649.0, 330916.0, 96183.0, 388747.0, 269953.0, 248031.0, 158.0, 148016.0, 33494.0, 324.0, 867.0], [54273.0, 57836.0, 268046.0, 310980.0, 121485.0, 300313.0, 108783.0, 192973.0, 357266.0, 110668.0, 188933.0, 268046.0, 270879.0, 325046.0, 247846.0, 191811.0, 43010.0, 288211.0, 288211.0, 310791.0, 288221.0, 174642.0, 71814.0, 356561.0, 60665.0, 236752.0, 236514.0, 151349.0, 357266.0, 274289.0, 325028.0, 283575.0, 106337.0, 286294.0, 356672.0, 158.0, 158.0, 324.0, 324.0, 43010.0, 109505.0, 74651.0, 357266.0, 257320.0, 268046.0, 357266.0, 310791.0, 288211.0, 399913.0, 314370.0, 330916.0, 96165.0, 54718.0, 357266.0, 270879.0, 306549.0, 268046.0, 357266.0, 325046.0, 248032.0, 174032.0, 71814.0, 139954.0, 42972.0, 24747.0, 42974.0, 867.0, 326146.0, 389913.0, 58997.0, 119047.0, 360915.0, 357266.0, 350256.0, 268046.0, 268046.0, 270879.0, 325046.0, 248032.0, 346373.0, 60665.0, 60665.0, 42972.0, 42972.0, 42974.0, 452.0, 141527.0, 106342.0, 42972.0, 25602.0, 42974.0, 270970.0, 270970.0, 131615.0, 42972.0, 25859.0, 42974.0, 452.0, 357354.0, 300313.0, 300313.0, 54718.0, 357266.0, 141706.0, 268046.0, 357354.0, 325028.0, 293083.0, 188481.0, 357266.0, 357266.0, 56041.0, 57836.0, 106463.0, 300313.0, 108783.0, 388711.0, 110669.0, 81901.0, 138211.0, 54738.0, 140370.0, 140370.0, 73460.0, 372211.0, 386474.0, 385664.0, 356561.0, 60665.0, 60665.0, 151349.0, 357266.0, 357266.0, 268046.0, 268046.0, 48996.0, 62065.0, 54273.0, 54273.0, 350362.0, 386474.0, 105591.0, 164328.0, 288216.0, 45884.0, 388711.0, 188387.0, 244022.0, 341036.0, 42972.0, 26143.0, 42974.0, 867.0], [357266.0, 292261.0, 73117.0, 268046.0, 374253.0, 43010.0, 26476.0, 247378.0, 192973.0, 357212.0, 193716.0, 52074.0, 357266.0, 57836.0, 268046.0, 55619.0, 236496.0, 236496.0, 60665.0, 43010.0, 177957.0, 103049.0, 274867.0, 218072.0, 344936.0, 452.0, 43010.0, 332395.0, 397675.0, 165671.0, 192973.0, 286219.0, 55619.0, 130319.0, 360915.0, 357266.0, 123792.0, 268046.0, 45858.0, 334743.0, 388711.0, 43010.0, 43010.0, 106381.0, 42972.0, 42972.0, 42974.0, 867.0, 867.0, 52074.0, 358160.0, 360915.0, 71090.0, 306009.0, 88126.0, 325991.0, 286221.0, 289872.0, 289872.0, 357266.0, 55619.0, 134949.0, 54718.0, 286218.0, 107808.0, 58997.0, 330028.0, 188481.0, 351098.0, 3929.0, 397675.0, 52078.0, 90548.0, 268345.0, 174642.0, 43010.0, 76240.0, 69663.0, 287697.0, 125818.0, 452.0, 388711.0, 43010.0, 359830.0, 269798.0, 357266.0, 69663.0, 264164.0, 270970.0, 88542.0, 124748.0, 268046.0, 268046.0, 188481.0, 357266.0, 264164.0, 124748.0, 72182.0, 298019.0, 151349.0, 303218.0, 303218.0, 42972.0, 42972.0, 42974.0, 867.0, 182573.0, 452.0, 151349.0, 332136.0, 357266.0, 69663.0, 264164.0, 270970.0, 88542.0, 124748.0, 174032.0, 71814.0, 351973.0, 60665.0, 72182.0, 277135.0, 360915.0, 357266.0, 264164.0, 264164.0, 60665.0, 346373.0, 357266.0, 2479.0, 452.0, 15341.0, 54718.0, 21828.0, 124754.0, 188481.0, 351098.0, 2479.0, 109501.0, 388711.0, 357266.0, 391291.0, 452.0, 392261.0, 54718.0, 395262.0, 162723.0, 108665.0, 350362.0, 151349.0, 357266.0, 26476.0, 332181.0, 452.0, 388711.0, 357266.0, 21828.0, 124748.0, 109504.0, 360915.0, 357266.0, 88542.0, 124748.0, 268046.0, 43010.0, 397675.0, 372170.0, 372170.0, 351098.0, 2479.0, 52520.0, 330039.0, 357266.0, 134949.0, 293518.0, 188930.0, 191811.0, 357266.0, 357266.0, 357266.0, 274242.0, 218659.0, 174032.0, 71814.0, 332176.0, 60665.0, 43010.0, 295485.0, 134949.0, 134949.0, 52673.0, 193716.0, 192973.0, 209675.0, 357212.0, 357266.0, 274242.0, 192973.0, 344865.0, 356853.0, 42972.0, 21319.0, 42974.0, 452.0, 193716.0, 192973.0, 343257.0, 332176.0, 60665.0, 43010.0, 181114.0, 336968.0, 357645.0, 193524.0, 236496.0, 293518.0, 174642.0, 71814.0, 374168.0, 151349.0, 357266.0, 274242.0, 188481.0, 51582.0, 332181.0, 867.0], [332008.0, 265592.0, 272059.0, 360915.0, 358452.0, 121731.0, 44617.0, 52520.0, 136325.0, 188481.0, 357266.0, 357266.0, 386424.0, 374506.0, 102223.0, 185910.0, 205533.0, 130319.0, 360915.0, 357354.0, 215502.0, 268046.0, 304372.0, 158.0, 388711.0, 125083.0, 323025.0, 121483.0, 324.0, 867.0, 155503.0, 452.0, 193716.0, 192973.0, 188273.0, 360915.0, 305180.0, 357212.0, 357266.0, 187889.0, 344936.0, 344613.0, 58997.0, 91591.0, 188481.0, 357266.0, 215899.0, 121738.0, 54718.0, 176789.0, 452.0, 188481.0, 271173.0, 360915.0, 106515.0, 357388.0, 45291.0, 452.0, 193716.0, 192973.0, 188273.0, 360915.0, 137812.0, 357212.0, 357761.0, 340380.0, 272059.0, 58997.0, 264550.0, 191916.0, 378206.0, 357266.0, 205530.0, 191567.0, 191567.0, 188481.0, 358160.0, 276859.0, 452.0, 357266.0, 63534.0, 174642.0, 339035.0, 121851.0, 43010.0, 259972.0, 144715.0, 268046.0, 205530.0, 155226.0, 386474.0, 126552.0, 264550.0, 191915.0, 357761.0, 340380.0, 340380.0, 357266.0, 205530.0, 155226.0, 58997.0, 267326.0, 88126.0, 352025.0, 191811.0, 45230.0, 125137.0, 306063.0, 106927.0, 60665.0, 271500.0, 191916.0, 88126.0, 282160.0, 42972.0, 10064.0, 42974.0, 158.0, 188481.0, 272881.0, 93018.0, 452.0, 351696.0, 151349.0, 92816.0, 341183.0, 166945.0, 324.0, 54718.0, 304372.0, 306176.0, 360915.0, 292042.0, 357266.0, 57716.0, 268046.0, 340380.0, 272059.0, 386424.0, 106547.0, 106547.0, 43010.0, 233818.0, 106518.0, 293158.0, 174032.0, 71814.0, 122450.0, 360915.0, 267324.0, 142873.0, 142981.0, 151349.0, 357266.0, 259972.0, 205533.0, 867.0], [357266.0, 357266.0, 268046.0, 357266.0, 103930.0, 383514.0, 141703.0, 88126.0, 357266.0, 322136.0, 356531.0, 242245.0, 452.0, 374253.0, 43010.0, 43010.0, 350362.0, 158.0, 113042.0, 190842.0, 314597.0, 452.0, 349695.0, 324.0, 138677.0, 388711.0, 43010.0, 43010.0, 123223.0, 123223.0, 158.0, 158.0, 123214.0, 324.0, 867.0, 333279.0, 322136.0, 189058.0, 385664.0, 92687.0, 272930.0, 371152.0, 292067.0, 270910.0, 106927.0, 158.0, 222960.0, 293193.0, 224431.0, 247377.0, 247377.0, 452.0, 452.0, 324.0, 867.0, 188481.0, 271173.0, 360915.0, 48831.0, 188481.0, 122187.0, 268046.0, 224614.0, 268046.0, 268046.0, 452.0, 54273.0, 143026.0, 322136.0, 220336.0, 268046.0, 36144.0, 383514.0, 383514.0, 357266.0, 322136.0, 363421.0, 385664.0, 346120.0, 267267.0, 88126.0, 324426.0, 360915.0, 122190.0, 357266.0, 224617.0, 268046.0, 357266.0, 148908.0, 103930.0, 144227.0, 54718.0, 360915.0, 371426.0, 357266.0, 257320.0, 268046.0, 357266.0, 103930.0, 103930.0, 131142.0, 357266.0, 322136.0, 356595.0, 452.0, 357266.0, 224439.0, 151407.0, 54718.0, 280597.0, 121339.0, 385664.0, 303153.0, 54718.0, 357354.0, 306510.0, 375636.0, 385664.0, 109502.0, 388711.0, 357266.0, 267267.0, 144227.0, 144227.0, 357266.0, 348406.0, 312013.0, 268046.0, 357266.0, 103930.0, 383514.0, 141703.0, 374253.0, 43010.0, 348406.0, 312013.0, 356563.0, 158.0, 158.0, 452.0, 452.0, 188693.0, 324.0, 45217.0, 360915.0, 193410.0, 341454.0, 42972.0, 21319.0, 42974.0, 867.0, 130319.0, 360915.0, 357266.0, 291748.0, 268046.0, 357266.0, 270501.0, 289058.0, 188481.0, 357266.0, 273047.0, 218659.0, 268046.0, 357266.0, 103930.0, 452.0, 43010.0, 239230.0, 220336.0, 151349.0, 122187.0, 268046.0, 357266.0, 312013.0, 158.0, 298298.0, 324.0, 268046.0, 268046.0, 383514.0, 383514.0, 188481.0, 362760.0, 452.0, 134390.0, 239231.0, 385664.0, 92687.0, 272930.0, 188481.0, 123767.0, 124754.0, 867.0], [357266.0, 143187.0, 268046.0, 357266.0, 373627.0, 375624.0, 306174.0, 151349.0, 368004.0, 123766.0, 192973.0, 43010.0, 278014.0, 184244.0, 151349.0, 357266.0, 57836.0, 269798.0, 373015.0, 373015.0, 60665.0, 125162.0, 188481.0, 323165.0, 23092.0, 452.0, 368321.0, 242260.0, 360915.0, 143183.0, 357266.0, 375624.0, 62065.0, 357266.0, 379651.0, 373627.0, 262546.0, 452.0, 374253.0, 117493.0, 302229.0, 63822.0, 269798.0, 373015.0, 241753.0, 452.0, 58997.0, 58997.0, 162058.0, 182540.0, 357266.0, 379651.0, 373627.0, 262546.0, 192973.0, 188930.0, 188481.0, 357266.0, 165549.0, 301048.0, 307554.0, 452.0, 357266.0, 143187.0, 242245.0, 268046.0, 117371.0, 54718.0, 54718.0, 42972.0, 9321.0, 42974.0, 192973.0, 303888.0, 360915.0, 60665.0, 188237.0, 143187.0, 54718.0, 357266.0, 242245.0, 191916.0, 88126.0, 88126.0, 54718.0, 193582.0, 42972.0, 8172.0, 42974.0, 60665.0, 142873.0, 142873.0, 81562.0, 242260.0, 291187.0, 303117.0, 357266.0, 373627.0, 375624.0, 151349.0, 138645.0, 452.0, 303237.0, 241753.0, 87775.0, 144210.0, 360915.0, 126552.0, 336114.0, 269798.0, 269798.0, 270970.0, 270970.0, 241753.0, 452.0, 60665.0, 125162.0, 188481.0, 323165.0, 323165.0, 374253.0, 357266.0, 142873.0, 143187.0, 242245.0, 358160.0, 193637.0, 90548.0, 71090.0, 303231.0, 88126.0, 188291.0, 57927.0, 222729.0, 269798.0, 357266.0, 143184.0, 373627.0, 375624.0, 867.0], [388747.0, 357266.0, 300364.0, 268046.0, 355524.0, 100075.0, 452.0, 50385.0, 124628.0, 142587.0, 377946.0, 332120.0, 332120.0, 358160.0, 306708.0, 192973.0, 130319.0, 360915.0, 357266.0, 304970.0, 335129.0, 265557.0, 268046.0, 283880.0, 305032.0, 245245.0, 158.0, 326059.0, 385664.0, 97022.0, 374253.0, 358160.0, 151407.0, 147810.0, 54718.0, 337195.0, 247378.0, 324.0, 54718.0, 357266.0, 217469.0, 289872.0, 137256.0, 338625.0, 74651.0, 357266.0, 162723.0, 245274.0, 54718.0, 178545.0, 137256.0, 137256.0, 189034.0, 452.0, 452.0, 188481.0, 357266.0, 57949.0, 162723.0, 153443.0, 137256.0, 245274.0, 151349.0, 358160.0, 350362.0, 158.0, 386432.0, 357266.0, 153443.0, 137256.0, 268046.0, 357266.0, 323059.0, 289872.0, 137256.0, 245274.0, 71586.0, 226512.0, 357109.0, 357212.0, 268046.0, 357266.0, 162723.0, 289872.0, 137256.0, 245274.0, 324.0, 188481.0, 357266.0, 173625.0, 57954.0, 390139.0, 267452.0, 62065.0, 62065.0, 188481.0, 159391.0, 452.0, 357266.0, 173625.0, 291290.0, 151349.0, 357266.0, 112492.0, 355520.0, 74651.0, 368321.0, 245245.0, 192973.0, 158.0, 26559.0, 324.0, 324.0, 158.0, 158.0, 158.0, 324.0, 1680.0, 158.0, 158.0, 324.0, 324.0, 452.0, 154323.0, 154323.0, 158.0, 21828.0, 324.0, 452.0, 386474.0, 102496.0, 187520.0, 357266.0, 66984.0, 74651.0, 289872.0, 137256.0, 54718.0, 385218.0, 138035.0, 867.0], [323750.0, 361687.0, 192973.0, 43010.0, 290201.0, 361959.0, 360915.0, 192125.0, 357266.0, 119136.0, 344936.0, 371152.0, 357266.0, 357266.0, 388711.0, 357266.0, 302802.0, 300602.0, 122455.0, 268046.0, 99212.0, 294064.0, 323750.0, 259595.0, 158.0, 397026.0, 140185.0, 50256.0, 452.0, 17635.0, 452.0, 17672.0, 324.0, 54718.0, 337259.0, 289109.0, 323750.0, 60035.0, 158.0, 177839.0, 140185.0, 50256.0, 452.0, 17541.0, 42950.0, 130033.0, 140185.0, 50256.0, 452.0, 17635.0, 42950.0, 219903.0, 140185.0, 50256.0, 452.0, 452.0, 324.0, 59937.0, 357266.0, 380630.0, 452.0, 193716.0, 174032.0, 71585.0, 289446.0, 360915.0, 187646.0, 357266.0, 122129.0, 22920.0, 377040.0, 344936.0, 371152.0, 337259.0, 268046.0, 357761.0, 380630.0, 452.0, 386432.0, 323750.0, 342063.0, 58997.0, 120979.0, 120979.0, 188481.0, 358160.0, 274006.0, 452.0, 384374.0, 350263.0, 357266.0, 306717.0, 154323.0, 357266.0, 119136.0, 323750.0, 187656.0, 268046.0, 357266.0, 373490.0, 233597.0, 371152.0, 357266.0, 357266.0, 452.0, 355779.0, 452.0, 171225.0, 380630.0, 60665.0, 385218.0, 60665.0, 357266.0, 117577.0, 380629.0, 158.0, 147946.0, 2479.0, 324.0, 867.0, 384374.0, 52520.0, 141702.0, 357266.0, 47006.0, 268046.0, 302802.0, 373386.0, 323750.0, 361686.0, 354635.0, 151349.0, 121487.0, 289872.0, 289872.0, 358160.0, 389836.0, 373388.0, 43010.0, 292066.0, 307253.0, 268046.0, 396970.0, 54718.0, 223907.0, 158.0, 17672.0, 324.0, 269798.0, 358160.0, 362162.0, 452.0, 388711.0, 249714.0, 122129.0, 350256.0, 268046.0, 51582.0, 357266.0, 63822.0, 189825.0, 867.0], [383772.0, 192973.0, 357266.0, 250392.0, 188273.0, 223475.0, 452.0, 54718.0, 357266.0, 257320.0, 268046.0, 193919.0, 344936.0, 305158.0, 43010.0, 362162.0, 268046.0, 204661.0, 118409.0, 54718.0, 54273.0, 45863.0, 58999.0, 268046.0, 306262.0, 42972.0, 42972.0, 42974.0, 867.0, 251645.0, 268046.0, 358160.0, 118409.0, 95218.0, 59937.0, 386458.0, 383772.0, 174032.0, 43010.0, 231117.0, 356662.0, 344936.0, 388711.0, 43010.0, 108167.0, 268046.0, 125784.0, 184780.0, 80286.0, 452.0, 270970.0, 186645.0, 193716.0, 108008.0, 43010.0, 246721.0, 268046.0, 368321.0, 125762.0, 125762.0, 269953.0, 231345.0, 122455.0, 188481.0, 302801.0, 393335.0, 192973.0, 357266.0, 57836.0, 268046.0, 268046.0, 339109.0, 354635.0, 452.0, 346373.0, 60665.0, 391342.0, 44812.0, 339111.0, 158.0, 391466.0, 324.0, 54718.0, 391342.0, 136430.0, 339111.0, 158.0, 158.0, 324.0, 62065.0, 357266.0, 274289.0, 274289.0, 360915.0, 192125.0, 357266.0, 344936.0, 268046.0, 383772.0, 42972.0, 42972.0, 42974.0, 867.0, 357761.0, 242260.0, 90548.0, 294037.0, 43010.0, 124729.0, 344930.0, 292780.0, 268046.0, 383772.0, 452.0, 294051.0, 190606.0, 191811.0, 357266.0, 257320.0, 268046.0, 193919.0, 184780.0, 80280.0, 80280.0, 357589.0, 345173.0, 286375.0, 43010.0, 112045.0, 310672.0, 188481.0, 357761.0, 345173.0, 452.0, 332240.0, 357266.0, 54431.0, 268046.0, 357266.0, 142820.0, 117493.0, 306177.0, 89639.0, 360915.0, 294037.0, 43010.0, 223131.0, 74651.0, 357266.0, 267267.0, 339087.0, 146160.0, 54718.0, 357266.0, 371335.0, 371335.0, 182573.0, 452.0, 357266.0, 332179.0, 268046.0, 357266.0, 391466.0, 270970.0, 270970.0, 151349.0, 223475.0, 383772.0, 291775.0, 43010.0, 123789.0, 96372.0, 71494.0, 193716.0, 306177.0, 45290.0, 248029.0, 131666.0, 332181.0, 360915.0, 294037.0, 43010.0, 109476.0, 121738.0, 268046.0, 357266.0, 248029.0, 344936.0, 110482.0, 388711.0, 45290.0, 89639.0, 268046.0, 357266.0, 339087.0, 293518.0, 452.0, 185635.0, 142388.0, 137241.0, 54718.0, 222946.0, 222946.0, 155503.0, 452.0, 46390.0, 317185.0, 273428.0, 248029.0, 107108.0, 52520.0, 258481.0, 360915.0, 71090.0, 45236.0, 151349.0, 867.0], [154323.0, 43010.0, 159391.0, 287479.0, 268046.0, 378761.0, 452.0, 288216.0, 354635.0, 90548.0, 71090.0, 126022.0, 191811.0, 368321.0, 368687.0, 268046.0, 98017.0, 302195.0, 42867.0, 42867.0, 288216.0, 54718.0, 153443.0, 298728.0, 298728.0, 298728.0, 288216.0, 192973.0, 387160.0, 374168.0, 151349.0, 350256.0, 268046.0, 288170.0, 452.0, 288115.0, 54718.0, 138517.0, 386495.0, 357266.0, 350256.0, 268046.0, 268046.0, 306177.0, 357266.0, 374163.0, 268046.0, 153443.0, 298728.0, 298728.0, 357761.0, 288216.0, 302195.0, 90548.0, 71090.0, 281319.0, 134678.0, 188481.0, 86545.0, 270970.0, 188481.0, 337176.0, 270970.0, 188481.0, 125522.0, 125522.0, 125522.0, 288217.0, 158.0, 185635.0, 136722.0, 452.0, 125527.0, 54718.0, 54718.0, 288217.0, 324.0, 291753.0, 357266.0, 47002.0, 268046.0, 132566.0, 305352.0, 268046.0, 357266.0, 306716.0, 292984.0, 154323.0, 357266.0, 302203.0, 106190.0, 360915.0, 86545.0, 288216.0, 357161.0, 360915.0, 357266.0, 226394.0, 379723.0, 268046.0, 357266.0, 302192.0, 302192.0, 288216.0, 188481.0, 337176.0, 52520.0, 189393.0, 226512.0, 379723.0, 87775.0, 52520.0, 226512.0, 302192.0, 300978.0, 130319.0, 360915.0, 124166.0, 268046.0, 357266.0, 302189.0, 54718.0, 178545.0, 109891.0, 54718.0, 138118.0, 188025.0, 130319.0, 360915.0, 357266.0, 374163.0, 268046.0, 271342.0, 271342.0, 357761.0, 292803.0, 58997.0, 337190.0, 188481.0, 357266.0, 93018.0, 268046.0, 268046.0, 288217.0, 386432.0, 357266.0, 302189.0, 58997.0, 107116.0, 190592.0, 129593.0, 158.0, 262350.0, 124166.0, 133896.0, 324.0, 54718.0, 383772.0, 192973.0, 374168.0, 60665.0, 60665.0, 357266.0, 374163.0, 268046.0, 348414.0, 248032.0, 58997.0, 374387.0, 258454.0, 151349.0, 357266.0, 341037.0, 268046.0, 357266.0, 248768.0, 129592.0, 54718.0, 346119.0, 288211.0, 278011.0, 188481.0, 357266.0, 383772.0, 283048.0, 867.0], [357266.0, 150468.0, 268046.0, 132276.0, 91550.0, 383514.0, 122191.0, 88126.0, 374253.0, 45859.0, 248622.0, 248622.0, 357761.0, 248622.0, 325966.0, 107692.0, 268046.0, 123767.0, 242030.0, 388484.0, 284321.0, 357212.0, 174642.0, 54273.0, 45859.0, 302192.0, 62065.0, 43010.0, 339034.0, 137256.0, 137256.0, 357266.0, 123767.0, 45859.0, 137241.0, 58997.0, 100075.0, 188481.0, 346373.0, 43010.0, 384122.0, 357212.0, 357266.0, 339112.0, 90548.0, 71090.0, 71090.0, 188481.0, 188481.0, 452.0, 132276.0, 91550.0, 107995.0, 43010.0, 150594.0, 248622.0, 325899.0, 269798.0, 357266.0, 399910.0, 65680.0, 330916.0, 399913.0, 158.0, 60665.0, 323432.0, 154323.0, 357266.0, 109103.0, 324.0, 54718.0, 269953.0, 269798.0, 357266.0, 154357.0, 330916.0, 452.0, 289379.0, 62065.0, 357266.0, 95247.0, 176015.0, 268046.0, 357266.0, 357266.0, 46226.0, 452.0, 269953.0, 122159.0, 383514.0, 285915.0, 62065.0, 357266.0, 362050.0, 54718.0, 269953.0, 62065.0, 357266.0, 81655.0, 452.0, 306716.0, 188481.0, 43010.0, 362760.0, 268046.0, 33544.0, 248622.0, 325966.0, 281063.0, 281063.0, 357266.0, 150468.0, 188481.0, 132276.0, 91550.0, 383514.0, 122191.0, 60665.0, 357266.0, 63975.0, 74651.0, 357266.0, 368321.0, 150594.0, 248622.0, 224608.0, 188481.0, 132276.0, 132276.0, 357266.0, 325966.0, 174642.0, 71814.0, 54426.0, 88126.0, 122197.0, 357266.0, 45859.0, 268046.0, 132276.0, 388484.0, 284318.0, 452.0, 386474.0, 189163.0, 357266.0, 150468.0, 268046.0, 43010.0, 339034.0, 137256.0, 137256.0, 351098.0, 21828.0, 329974.0, 357266.0, 375636.0, 268046.0, 357266.0, 357266.0, 151349.0, 357266.0, 368321.0, 91551.0, 108005.0, 248207.0, 867.0], [357266.0, 125535.0, 92993.0, 192973.0, 43010.0, 300602.0, 292848.0, 158.0, 268046.0, 271173.0, 284237.0, 324.0, 867.0, 155499.0, 244022.0, 268046.0, 374902.0, 54718.0, 330690.0, 452.0, 231117.0, 88126.0, 123811.0, 452.0, 173067.0, 273428.0, 43010.0, 359981.0, 268046.0, 271173.0, 256322.0, 42972.0, 12126.0, 42974.0, 867.0, 358160.0, 192973.0, 343257.0, 329711.0, 106190.0, 360915.0, 270616.0, 359971.0, 452.0, 336114.0, 192973.0, 188273.0, 360915.0, 107661.0, 357266.0, 138656.0, 306708.0, 268046.0, 346373.0, 292852.0, 42867.0, 186645.0, 357266.0, 374902.0, 54718.0, 330690.0, 385664.0, 222484.0, 360915.0, 148427.0, 357354.0, 153781.0, 278070.0, 452.0, 303016.0, 452.0, 54718.0, 55851.0, 452.0, 357412.0, 357266.0, 242030.0, 329916.0, 139908.0, 307029.0, 360915.0, 193919.0, 271493.0, 344936.0, 42950.0, 182573.0, 452.0, 186645.0, 119273.0, 190756.0, 151772.0, 217449.0, 103318.0, 268046.0, 43010.0, 332395.0, 368669.0, 358160.0, 110156.0, 306708.0, 188481.0, 151761.0, 268046.0, 380537.0, 452.0, 125385.0, 225683.0, 270970.0, 349472.0, 452.0, 289450.0, 384388.0, 357266.0, 236496.0, 188481.0, 357266.0, 357266.0, 119273.0, 90548.0, 71090.0, 364229.0, 62065.0, 165671.0, 81902.0, 270970.0, 348406.0, 452.0, 336114.0, 151349.0, 54273.0, 267899.0, 278008.0, 360915.0, 133896.0, 357266.0, 123811.0, 452.0, 357640.0, 106697.0, 253767.0, 71090.0, 346373.0, 357212.0, 357640.0, 58997.0, 233708.0, 346373.0, 278011.0, 188481.0, 132276.0, 165671.0, 867.0], [151061.0, 149109.0, 452.0, 262438.0, 158016.0, 62500.0, 387696.0, 71090.0, 125815.0, 188481.0, 357266.0, 154796.0, 236752.0, 190178.0, 45178.0, 62065.0, 287479.0, 119273.0, 364208.0, 333121.0, 452.0, 159426.0, 358464.0, 360915.0, 71090.0, 321258.0, 321258.0, 119273.0, 42972.0, 42972.0, 42974.0, 867.0, 123811.0, 360915.0, 134678.0, 85795.0, 270970.0, 165671.0, 81902.0, 192973.0, 357412.0, 143928.0, 88126.0, 61727.0, 43010.0, 155499.0, 373674.0, 374903.0, 119263.0, 151349.0, 357266.0, 158016.0, 62482.0, 360915.0, 399910.0, 181574.0, 399913.0, 191811.0, 452.0, 388711.0, 357266.0, 271493.0, 374903.0, 357412.0, 44493.0, 360915.0, 225674.0, 59937.0, 360915.0, 137812.0, 108154.0, 108154.0, 357266.0, 300964.0, 122197.0, 342773.0, 188481.0, 357266.0, 292848.0, 192973.0, 264550.0, 357266.0, 244022.0, 268046.0, 357266.0, 391513.0, 193923.0, 87775.0, 301000.0, 357266.0, 302460.0, 268046.0, 357266.0, 381393.0, 119263.0, 360915.0, 143927.0, 259422.0, 391513.0, 123811.0, 42972.0, 42972.0, 42974.0, 867.0, 45859.0, 137241.0, 151349.0, 357266.0, 273500.0, 292848.0, 121153.0, 269798.0, 357266.0, 63821.0, 268046.0, 357266.0, 119263.0, 364208.0, 333121.0, 452.0, 386474.0, 188481.0, 367635.0, 121169.0, 269798.0, 357266.0, 112928.0, 112928.0, 151349.0, 391513.0, 123811.0, 188481.0, 188481.0, 452.0, 373302.0, 54718.0, 54718.0, 357266.0, 45859.0, 137241.0, 89633.0, 374253.0, 122790.0, 58997.0, 58997.0, 141667.0, 452.0, 452.0, 141667.0, 54718.0, 54718.0, 141667.0, 388711.0, 357266.0, 300381.0, 303939.0, 357266.0, 384122.0, 357266.0, 89639.0, 385664.0, 281319.0, 121168.0, 269798.0, 357266.0, 97097.0, 342019.0, 268046.0, 357266.0, 119273.0, 192214.0, 54718.0, 357266.0, 291748.0, 268046.0, 43010.0, 43010.0, 125786.0, 42972.0, 36169.0, 42974.0, 867.0, 45859.0, 137241.0, 89633.0, 374253.0, 136598.0, 275346.0, 289876.0, 90548.0, 376234.0, 344865.0, 121168.0, 269798.0, 357266.0, 99771.0, 268046.0, 268046.0, 268046.0, 140185.0, 50256.0, 142274.0, 358549.0, 123767.0, 289876.0, 151349.0, 373302.0, 158.0, 358452.0, 268046.0, 69662.0, 42972.0, 40724.0, 42974.0, 452.0, 194733.0, 42972.0, 4961.0, 42974.0, 54718.0, 249740.0, 42972.0, 6765.0, 42974.0, 324.0, 110482.0, 388711.0, 123767.0, 123767.0, 151349.0, 357266.0, 357266.0, 54718.0, 54718.0, 191142.0, 154323.0, 159502.0, 42972.0, 8172.0, 42974.0, 54718.0, 260913.0, 42972.0, 9321.0, 42974.0, 54718.0, 303025.0, 375636.0, 268046.0, 34025.0, 141667.0, 452.0, 27443.0, 141667.0, 54718.0, 16852.0, 141667.0, 42972.0, 33544.0, 42974.0, 151349.0, 357266.0, 123767.0, 343593.0, 304224.0, 188481.0, 377946.0, 164328.0, 48354.0, 388711.0, 357266.0, 142820.0, 375636.0, 268046.0, 33943.0, 141667.0, 452.0, 23266.0, 141667.0, 54718.0, 4783.0, 141667.0, 306511.0, 42972.0, 10064.0, 42974.0, 867.0], [397675.0, 52078.0, 58997.0, 374168.0, 60665.0, 101949.0, 360915.0, 136825.0, 154796.0, 280329.0, 188481.0, 291883.0, 54718.0, 79738.0, 383772.0, 265375.0, 265375.0, 306262.0, 191811.0, 274238.0, 268046.0, 357761.0, 52078.0, 174032.0, 71814.0, 331417.0, 332240.0, 357266.0, 191921.0, 268046.0, 357266.0, 357266.0, 182573.0, 452.0, 357266.0, 243332.0, 54718.0, 54718.0, 292852.0, 131142.0, 274238.0, 58997.0, 106337.0, 54718.0, 233708.0, 297580.0, 343257.0, 305151.0, 305151.0, 269953.0, 346373.0, 193637.0, 192973.0, 357266.0, 151761.0, 268046.0, 217910.0, 111076.0, 258155.0, 357266.0, 357266.0, 357266.0, 335129.0, 111076.0, 174642.0, 71814.0, 323432.0, 360915.0, 151719.0, 108165.0, 131142.0, 274238.0, 452.0, 388711.0, 217449.0, 319932.0, 259595.0, 268046.0, 217910.0, 111076.0, 151796.0, 114537.0, 141941.0, 141941.0, 268046.0, 274242.0, 274242.0, 357761.0, 259595.0, 268046.0, 111076.0, 90548.0, 71090.0, 109502.0, 388711.0, 45075.0, 188481.0, 357266.0, 109577.0, 207791.0, 42972.0, 42972.0, 42974.0, 867.0, 357761.0, 217910.0, 111076.0, 243977.0, 136748.0, 357266.0, 223131.0, 373317.0, 268046.0, 256277.0, 289006.0, 52318.0, 165671.0, 81902.0, 281705.0, 360915.0, 357266.0, 357266.0, 191295.0, 60665.0, 305946.0, 188481.0, 42972.0, 38731.0, 42974.0, 867.0, 142832.0, 374253.0, 350131.0, 391342.0, 123801.0, 158.0, 158.0, 324.0, 88126.0, 81562.0, 81562.0, 140185.0, 50256.0, 54718.0, 54718.0, 140185.0, 50256.0, 452.0, 174642.0, 325183.0, 330028.0, 357212.0, 274243.0, 151772.0, 269798.0, 269798.0, 58997.0, 106391.0, 268046.0, 248699.0, 54718.0, 341029.0, 356658.0, 283061.0, 452.0, 388711.0, 54273.0, 54273.0, 41.0, 303676.0, 188481.0, 357266.0, 356658.0, 283048.0, 152796.0, 154323.0, 2479.0, 360915.0, 360915.0, 274242.0, 167701.0, 42972.0, 42972.0, 42974.0, 867.0, 269953.0, 357607.0, 192973.0, 357212.0, 357266.0, 217910.0, 111076.0, 237383.0, 122040.0, 357266.0, 356658.0, 283048.0, 103049.0, 360915.0, 357266.0, 357266.0, 357266.0, 357266.0, 283048.0, 363924.0, 174032.0, 54273.0, 54273.0, 41.0, 142731.0, 61722.0, 388711.0, 193716.0, 452.0, 386474.0, 110156.0, 218947.0, 360915.0, 152808.0, 281705.0, 360915.0, 357266.0, 357266.0, 191295.0, 452.0, 357643.0, 159438.0, 145460.0, 190039.0, 312166.0, 151349.0, 274289.0, 108005.0, 339029.0, 42972.0, 42972.0, 42974.0, 867.0], [288743.0, 274238.0, 72020.0, 192973.0, 357266.0, 231345.0, 69353.0, 360915.0, 357266.0, 188947.0, 374163.0, 268046.0, 268046.0, 52078.0, 188481.0, 178510.0, 344930.0, 344930.0, 357266.0, 120331.0, 360915.0, 188946.0, 357266.0, 325758.0, 355520.0, 268046.0, 357761.0, 52078.0, 74804.0, 74804.0, 158.0, 357266.0, 368710.0, 355520.0, 222709.0, 324.0, 306177.0, 92054.0, 345195.0, 360915.0, 371426.0, 357266.0, 310672.0, 357212.0, 106405.0, 174032.0, 269798.0, 357266.0, 274238.0, 72020.0, 268046.0, 268046.0, 52078.0, 42972.0, 42972.0, 42974.0, 867.0, 357266.0, 62696.0, 360915.0, 273567.0, 358160.0, 222712.0, 188481.0, 188481.0, 52078.0, 174032.0, 219383.0, 360915.0, 357266.0, 292986.0, 268046.0, 52078.0, 388711.0, 346171.0, 188387.0, 274238.0, 306409.0, 346373.0, 60665.0, 60665.0, 54718.0, 52520.0, 122455.0, 268046.0, 103931.0, 54718.0, 54718.0, 354635.0, 42972.0, 42972.0, 42974.0, 867.0, 386495.0, 193716.0, 192973.0, 355595.0, 360915.0, 143183.0, 357266.0, 274238.0, 72020.0, 158.0, 132176.0, 274238.0, 300964.0, 218524.0, 452.0, 121339.0, 268046.0, 274289.0, 190039.0, 54718.0, 319932.0, 357871.0, 324.0, 267267.0, 151349.0, 43010.0, 222715.0, 265557.0, 268046.0, 106409.0, 371152.0, 43010.0, 95614.0, 274238.0, 106917.0, 360915.0, 43010.0, 84513.0, 106406.0, 300364.0, 452.0, 357640.0, 58997.0, 265603.0, 142285.0, 188481.0, 357266.0, 223718.0, 386432.0, 122507.0, 154323.0, 357266.0, 142758.0, 304965.0, 58997.0, 267267.0, 42972.0, 36293.0, 42974.0, 867.0], [384374.0, 174642.0, 291763.0, 339088.0, 306454.0, 146737.0, 146737.0, 283681.0, 133033.0, 239231.0, 269798.0, 397815.0, 158.0, 186986.0, 324.0, 324.0, 452.0, 260666.0, 158.0, 186986.0, 324.0, 324.0, 54718.0, 103530.0, 158.0, 186986.0, 324.0, 324.0, 188947.0, 119560.0, 268046.0, 153510.0, 188481.0, 320052.0, 268046.0, 359889.0, 119907.0, 52074.0, 269953.0, 360915.0, 325181.0, 54718.0, 143135.0, 339034.0, 368669.0, 268046.0, 339109.0, 189825.0, 188481.0, 106337.0, 248032.0, 88126.0, 345197.0, 339087.0, 54718.0, 355568.0, 142048.0, 268046.0, 357266.0, 283681.0, 133033.0, 133033.0, 88126.0, 376237.0, 357266.0, 288940.0, 359971.0, 452.0, 288940.0, 304988.0, 131666.0, 54718.0, 190121.0, 84511.0, 192973.0, 307134.0, 188481.0, 357266.0, 283681.0, 133033.0, 133033.0, 133033.0, 283681.0, 133033.0, 331391.0, 329974.0, 368321.0, 123767.0, 123767.0, 357266.0, 135212.0, 304988.0, 359981.0, 192973.0, 152393.0, 360915.0, 71090.0, 345534.0, 345534.0, 386436.0, 357266.0, 359981.0, 151349.0, 191864.0, 378314.0, 304988.0, 452.0, 267461.0, 188481.0, 188481.0, 67817.0, 452.0, 383514.0, 152393.0, 360915.0, 71090.0, 273428.0, 43010.0, 284236.0, 151349.0, 103530.0, 158.0, 186986.0, 324.0, 324.0, 54718.0, 260666.0, 158.0, 186986.0, 324.0, 324.0, 54718.0, 388747.0, 43010.0, 284236.0, 151349.0, 397815.0, 158.0, 186986.0, 324.0, 324.0, 867.0], [43010.0, 205835.0, 277915.0, 268046.0, 358160.0, 292794.0, 192973.0, 357212.0, 54273.0, 190690.0, 270201.0, 174032.0, 45107.0, 360915.0, 117493.0, 154323.0, 43010.0, 335129.0, 190684.0, 190684.0, 188481.0, 358160.0, 58999.0, 452.0, 357640.0, 192973.0, 270201.0, 269953.0, 245274.0, 357871.0, 452.0, 386474.0, 126848.0, 264550.0, 294037.0, 137680.0, 189825.0, 360915.0, 86363.0, 43010.0, 247378.0, 268046.0, 357266.0, 335165.0, 335165.0, 54273.0, 190690.0, 90548.0, 159435.0, 43010.0, 317178.0, 268046.0, 357266.0, 335165.0, 357871.0, 239231.0, 88126.0, 278058.0, 357266.0, 190687.0, 117493.0, 191811.0, 43010.0, 265557.0, 268046.0, 138614.0, 333431.0, 333431.0, 188481.0, 132276.0, 78339.0, 357266.0, 245274.0, 357871.0, 192973.0, 192973.0, 358160.0, 325899.0, 151808.0, 43010.0, 317178.0, 268046.0, 357266.0, 335165.0, 357871.0, 357871.0, 154323.0, 358160.0, 317178.0, 452.0, 269953.0, 90548.0, 86363.0, 43010.0, 247378.0, 386474.0, 351990.0, 191811.0, 45230.0, 357266.0, 376118.0, 268046.0, 357266.0, 335165.0, 357871.0, 357871.0, 143217.0, 375624.0, 54431.0, 158.0, 141676.0, 324.0, 294049.0, 43010.0, 222727.0, 151719.0, 151349.0, 358160.0, 358160.0, 193716.0, 342019.0, 357212.0, 452.0, 186645.0, 357266.0, 371335.0, 357871.0, 239231.0, 188481.0, 132276.0, 78339.0, 58997.0, 351973.0, 154323.0, 189078.0, 54718.0, 186391.0, 125820.0, 452.0, 357412.0, 357266.0, 317178.0, 268046.0, 245274.0, 357871.0, 239231.0, 387696.0, 151050.0, 43010.0, 159421.0, 143217.0, 375624.0, 125818.0, 158.0, 158.0, 324.0, 867.0], [265592.0, 332179.0, 268046.0, 357266.0, 158016.0, 150400.0, 358802.0, 346373.0, 263412.0, 191457.0, 159830.0, 192973.0, 452.0, 182573.0, 452.0, 143219.0, 143219.0, 358160.0, 192973.0, 71494.0, 108379.0, 108167.0, 150490.0, 131666.0, 452.0, 386474.0, 61765.0, 357212.0, 224592.0, 43010.0, 158016.0, 192973.0, 103049.0, 360915.0, 43010.0, 341956.0, 268046.0, 357703.0, 138656.0, 452.0, 71586.0, 192008.0, 270970.0, 188571.0, 60665.0, 357266.0, 335165.0, 97025.0, 319932.0, 268046.0, 357266.0, 159832.0, 158.0, 132176.0, 357266.0, 96805.0, 176015.0, 324.0, 57924.0, 357266.0, 239170.0, 125728.0, 74651.0, 248029.0, 105123.0, 452.0, 399670.0, 42972.0, 2479.0, 42974.0, 867.0, 54273.0, 45290.0, 54718.0, 149979.0, 247392.0, 52643.0, 151349.0, 357761.0, 93054.0, 192973.0, 357266.0, 124729.0, 332179.0, 249036.0, 92271.0, 242245.0, 158.0, 158.0, 324.0, 42972.0, 15341.0, 42974.0, 867.0, 182573.0, 452.0, 452.0, 90548.0, 71090.0, 293216.0, 142805.0, 151349.0, 151349.0, 57840.0, 452.0, 386474.0, 368711.0, 174642.0, 43010.0, 159832.0, 268046.0, 268046.0, 301048.0, 158.0, 185635.0, 58997.0, 143219.0, 225289.0, 452.0, 304969.0, 360915.0, 357354.0, 112400.0, 324.0, 867.0, 357266.0, 357266.0, 301048.0, 111450.0, 43010.0, 151792.0, 252714.0, 292794.0, 42867.0, 292852.0, 258451.0, 360915.0, 71090.0, 306454.0, 267461.0, 273428.0, 357266.0, 335165.0, 97025.0, 319932.0, 268046.0, 357266.0, 159832.0, 158.0, 132176.0, 43010.0, 43010.0, 176015.0, 324.0, 452.0, 60665.0, 385218.0, 60665.0, 273428.0, 357266.0, 217476.0, 97025.0, 319932.0, 268046.0, 357266.0, 159832.0, 158.0, 132176.0, 357266.0, 220336.0, 268046.0, 43010.0, 225289.0, 96805.0, 259585.0, 324.0, 452.0, 332191.0, 867.0], [357266.0, 306717.0, 154323.0, 368321.0, 368687.0, 268046.0, 274238.0, 356531.0, 58997.0, 105586.0, 188481.0, 358160.0, 358160.0, 351098.0, 2479.0, 330039.0, 357266.0, 356531.0, 236752.0, 388711.0, 357266.0, 368321.0, 57924.0, 57924.0, 51582.0, 357266.0, 357266.0, 356595.0, 54718.0, 357266.0, 356531.0, 106970.0, 62065.0, 62065.0, 385664.0, 281319.0, 374253.0, 43010.0, 43010.0, 66984.0, 158.0, 356917.0, 324.0, 867.0, 357266.0, 384893.0, 96721.0, 131142.0, 357761.0, 356595.0, 383514.0, 248623.0, 108147.0, 54718.0, 46599.0, 360915.0, 45177.0, 86984.0, 86984.0, 51582.0, 272583.0, 356595.0, 385664.0, 106970.0, 188481.0, 181737.0, 366775.0, 366775.0, 151349.0, 357761.0, 218067.0, 356595.0, 452.0, 70198.0, 268046.0, 339049.0, 385664.0, 285915.0, 188481.0, 52775.0, 79082.0, 54718.0, 190580.0, 191811.0, 357266.0, 155441.0, 62065.0, 62065.0, 191438.0, 384890.0, 62065.0, 311178.0, 355520.0, 383514.0, 374168.0, 360915.0, 122190.0, 357266.0, 274238.0, 274238.0, 62065.0, 323929.0, 359889.0, 191716.0, 452.0, 43010.0, 339048.0, 383514.0, 305355.0, 154323.0, 357266.0, 70194.0, 151349.0, 142271.0, 71895.0, 357266.0, 178401.0, 355520.0, 142955.0, 108154.0, 151349.0, 357266.0, 305152.0, 268046.0, 357266.0, 357266.0, 351098.0, 2479.0, 330039.0, 357266.0, 359889.0, 191716.0, 100075.0, 151349.0, 151349.0, 62065.0, 62065.0, 269953.0, 193513.0, 356531.0, 452.0, 174695.0, 54273.0, 142955.0, 359889.0, 268046.0, 268046.0, 452.0, 174032.0, 71814.0, 281319.0, 360915.0, 117550.0, 867.0], [357266.0, 260309.0, 188273.0, 342773.0, 243977.0, 71090.0, 357266.0, 121479.0, 268046.0, 357266.0, 124713.0, 124713.0, 357266.0, 111733.0, 247378.0, 42972.0, 24111.0, 42974.0, 346715.0, 357212.0, 384374.0, 329916.0, 107661.0, 188932.0, 191811.0, 357266.0, 224927.0, 189638.0, 364480.0, 452.0, 357266.0, 46224.0, 209662.0, 357212.0, 269953.0, 174032.0, 267087.0, 181638.0, 269798.0, 43010.0, 218072.0, 190756.0, 268046.0, 278011.0, 251070.0, 188481.0, 43010.0, 338566.0, 338566.0, 302727.0, 357212.0, 373317.0, 360915.0, 323165.0, 16852.0, 452.0, 357266.0, 121738.0, 268046.0, 357266.0, 239230.0, 320240.0, 452.0, 309979.0, 140214.0, 192973.0, 142874.0, 142874.0, 188481.0, 323165.0, 16852.0, 452.0, 357266.0, 108167.0, 222709.0, 383514.0, 351973.0, 270201.0, 71494.0, 272881.0, 48971.0, 383514.0, 360915.0, 121484.0, 357266.0, 279047.0, 138623.0, 452.0, 386474.0, 192973.0, 151978.0, 188481.0, 108167.0, 108167.0, 268046.0, 110542.0, 452.0, 357266.0, 121738.0, 268046.0, 357266.0, 250529.0, 268046.0, 357266.0, 278008.0, 188481.0, 323165.0, 16913.0, 192973.0, 137938.0, 388747.0, 43010.0, 108167.0, 121738.0, 87775.0, 357640.0, 192973.0, 262350.0, 155243.0, 267298.0, 360915.0, 305876.0, 358160.0, 364480.0, 88126.0, 43010.0, 293513.0, 364480.0, 268046.0, 267087.0, 181638.0, 269798.0, 43010.0, 43010.0, 357645.0, 193716.0, 323431.0, 286355.0, 357212.0, 357266.0, 224927.0, 189638.0, 57920.0, 90548.0, 71090.0, 143026.0, 360915.0, 121730.0, 236174.0, 236174.0, 278011.0, 251070.0, 188481.0, 108167.0, 338566.0, 88126.0, 107671.0, 357266.0, 108167.0, 222709.0, 268046.0, 357266.0, 109527.0, 218072.0, 218072.0, 54273.0, 188497.0, 452.0, 159391.0, 364480.0, 268046.0, 358160.0, 292794.0, 192973.0, 74804.0, 357266.0, 321915.0, 268046.0, 357266.0, 291753.0, 276859.0, 54718.0, 384374.0, 357645.0, 219178.0, 358160.0, 191290.0, 292794.0, 151349.0, 155653.0, 306262.0, 867.0], [188481.0, 358160.0, 220941.0, 384374.0, 307289.0, 357266.0, 357266.0, 247378.0, 172199.0, 42972.0, 25602.0, 42974.0, 188481.0, 357266.0, 222292.0, 268046.0, 302801.0, 122459.0, 188481.0, 188481.0, 151349.0, 151349.0, 350396.0, 346373.0, 60665.0, 60665.0, 302195.0, 452.0, 357266.0, 106710.0, 268046.0, 272675.0, 54718.0, 366697.0, 90548.0, 71090.0, 102496.0, 151978.0, 188481.0, 356212.0, 268046.0, 385218.0, 119365.0, 283048.0, 338556.0, 159826.0, 159826.0, 158.0, 151349.0, 389836.0, 269798.0, 357266.0, 283048.0, 338556.0, 121738.0, 268046.0, 272675.0, 452.0, 323337.0, 323337.0, 42972.0, 42972.0, 42974.0, 867.0, 324.0, 357266.0, 148908.0, 163265.0, 268046.0, 357266.0, 291753.0, 60371.0, 192973.0, 357266.0, 186397.0, 268046.0, 357761.0, 264647.0, 388711.0, 385218.0, 119365.0, 283048.0, 338556.0, 126028.0, 348412.0, 62633.0, 360915.0, 360915.0, 357266.0, 323025.0, 54718.0, 231068.0, 163265.0, 192973.0, 54273.0, 135944.0, 268046.0, 357266.0, 309790.0, 283144.0, 188481.0, 357266.0, 108098.0, 268046.0, 357266.0, 357266.0, 247378.0, 247378.0, 357266.0, 61722.0, 289872.0, 155211.0, 452.0, 289431.0, 233708.0, 146160.0, 61722.0, 388711.0, 43010.0, 302329.0, 248029.0, 282098.0, 452.0, 218983.0, 360915.0, 131666.0, 386474.0, 102496.0, 307133.0, 357266.0, 271513.0, 268046.0, 357266.0, 309790.0, 309790.0, 69725.0, 269798.0, 272881.0, 363635.0, 332181.0, 452.0, 384374.0, 329974.0, 182540.0, 357266.0, 186397.0, 268046.0, 357266.0, 366697.0, 54718.0, 272675.0, 129940.0, 388711.0, 281445.0, 271097.0, 126028.0, 348412.0, 158.0, 287332.0, 324.0, 294049.0, 357266.0, 257293.0, 152908.0, 151349.0, 54431.0, 268046.0, 357266.0, 309790.0, 239301.0, 867.0], [357266.0, 51274.0, 52074.0, 357266.0, 247392.0, 268046.0, 286189.0, 268046.0, 58548.0, 119500.0, 371152.0, 357266.0, 76261.0, 105121.0, 105121.0, 193716.0, 374208.0, 43010.0, 265592.0, 191567.0, 268046.0, 357266.0, 192082.0, 113679.0, 120991.0, 155211.0, 268046.0, 357266.0, 357266.0, 125818.0, 360915.0, 360915.0, 332179.0, 278011.0, 452.0, 54718.0, 105123.0, 58997.0, 345909.0, 360915.0, 279047.0, 279047.0, 193716.0, 192973.0, 264550.0, 57927.0, 188481.0, 357266.0, 222709.0, 268046.0, 377946.0, 344851.0, 110489.0, 71494.0, 357266.0, 286186.0, 357607.0, 386474.0, 357266.0, 249036.0, 92271.0, 104216.0, 192973.0, 69725.0, 269798.0, 83377.0, 83377.0, 357266.0, 344851.0, 110489.0, 222709.0, 109529.0, 360915.0, 360915.0, 452.0, 388711.0, 388711.0, 357266.0, 110169.0, 224902.0, 42972.0, 4961.0, 42974.0, 867.0, 357266.0, 104216.0, 192973.0, 121851.0, 151349.0, 151349.0, 42962.0, 21828.0, 188481.0, 105122.0, 286189.0, 388711.0, 43010.0, 263188.0, 221115.0, 268046.0, 268046.0, 193716.0, 192973.0, 264597.0, 357212.0, 249036.0, 92271.0, 354635.0, 388711.0, 119501.0, 91229.0, 174642.0, 71814.0, 122450.0, 151349.0, 345197.0, 364123.0, 188481.0, 188481.0, 42972.0, 6765.0, 42974.0, 87775.0, 262350.0, 346373.0, 242245.0, 142645.0, 151349.0, 151349.0, 151349.0, 337259.0, 268046.0, 357266.0, 354635.0, 121731.0, 58997.0, 289875.0, 57833.0, 360915.0, 272583.0, 368687.0, 268046.0, 104251.0, 452.0, 151349.0, 142283.0, 452.0, 452.0, 158.0, 284055.0, 324.0, 104251.0, 867.0], [188481.0, 333183.0, 274238.0, 452.0, 142832.0, 385664.0, 92687.0, 272930.0, 374253.0, 26511.0, 123214.0, 125154.0, 388711.0, 269953.0, 348406.0, 167570.0, 54718.0, 287838.0, 360915.0, 43010.0, 43010.0, 123223.0, 123223.0, 357266.0, 26511.0, 125154.0, 385664.0, 357412.0, 274245.0, 188481.0, 43010.0, 283294.0, 283294.0, 146378.0, 139537.0, 388711.0, 43010.0, 182186.0, 341163.0, 341163.0, 357266.0, 274247.0, 62462.0, 374168.0, 383514.0, 215333.0, 49059.0, 62065.0, 43010.0, 291876.0, 268046.0, 268046.0, 131142.0, 357266.0, 142818.0, 452.0, 357266.0, 317178.0, 383514.0, 267267.0, 54718.0, 187649.0, 374253.0, 43010.0, 292261.0, 71177.0, 137256.0, 268046.0, 268046.0, 54718.0, 54273.0, 54273.0, 323096.0, 135204.0, 135204.0, 357266.0, 317178.0, 383514.0, 175530.0, 62065.0, 43010.0, 300964.0, 268046.0, 268046.0, 360915.0, 43010.0, 355520.0, 268046.0, 268046.0, 54718.0, 176239.0, 62065.0, 358160.0, 355520.0, 151349.0, 40704.0, 360915.0, 341028.0, 357266.0, 341163.0, 54718.0, 357266.0, 357266.0, 357266.0, 317178.0, 383514.0, 357412.0, 175530.0, 360915.0, 43010.0, 148339.0, 355520.0, 268046.0, 268046.0, 62065.0, 357266.0, 316998.0, 175561.0, 175561.0, 357266.0, 362760.0, 359889.0, 268046.0, 142955.0, 268046.0, 357266.0, 317178.0, 383514.0, 383514.0, 71895.0, 108590.0, 360915.0, 311178.0, 355520.0, 88126.0, 367677.0, 268074.0, 357266.0, 175561.0, 175561.0, 357266.0, 317183.0, 385664.0, 357412.0, 142274.0, 188481.0, 357266.0, 220468.0, 220468.0, 220468.0, 388711.0, 98017.0, 189825.0, 158262.0, 374253.0, 133688.0, 112402.0, 54718.0, 364051.0, 135204.0, 243302.0, 158.0, 355429.0, 324.0, 317183.0, 385664.0, 292970.0, 374253.0, 43010.0, 129995.0, 71177.0, 146405.0, 264760.0, 264760.0, 34330.0, 151349.0, 150792.0, 192311.0, 71177.0, 158.0, 147623.0, 324.0, 244637.0, 281705.0, 360915.0, 357266.0, 283048.0, 81902.0, 360915.0, 122190.0, 357354.0, 189767.0, 269798.0, 357266.0, 274242.0, 122455.0, 54718.0, 187649.0, 374253.0, 43010.0, 43010.0, 43010.0, 43010.0, 43010.0, 133686.0, 233857.0, 268046.0, 357266.0, 355429.0, 317183.0, 385664.0, 104983.0, 374253.0, 357266.0, 357266.0, 34330.0, 388711.0, 43010.0, 320050.0, 355429.0, 158.0, 342681.0, 324.0, 122159.0, 54718.0, 54273.0, 54273.0, 159468.0, 133686.0, 350362.0, 62065.0, 54273.0, 45074.0, 380810.0, 268046.0, 268046.0, 867.0], [357266.0, 117420.0, 114042.0, 306013.0, 357266.0, 357266.0, 247987.0, 152796.0, 269798.0, 357266.0, 317178.0, 317178.0, 193716.0, 330039.0, 357212.0, 452.0, 151061.0, 357266.0, 357266.0, 283048.0, 81902.0, 452.0, 301000.0, 385218.0, 139954.0, 188481.0, 358160.0, 106406.0, 300364.0, 158.0, 323337.0, 323165.0, 27405.0, 72786.0, 324.0, 452.0, 357266.0, 260099.0, 151772.0, 223475.0, 348406.0, 192973.0, 190178.0, 137711.0, 188481.0, 287008.0, 287008.0, 346120.0, 452.0, 130319.0, 360915.0, 145460.0, 123811.0, 188481.0, 357266.0, 223475.0, 283048.0, 452.0, 357266.0, 190165.0, 317178.0, 106405.0, 158.0, 391291.0, 158.0, 158.0, 324.0, 324.0, 324.0, 355740.0, 360915.0, 71090.0, 300612.0, 300612.0, 193716.0, 192973.0, 182573.0, 102471.0, 452.0, 154323.0, 357266.0, 332179.0, 452.0, 357212.0, 357266.0, 145460.0, 108590.0, 267461.0, 47798.0, 357266.0, 136979.0, 268046.0, 357266.0, 217666.0, 295171.0, 218983.0, 360915.0, 270258.0, 268046.0, 336992.0, 71895.0, 357266.0, 190165.0, 106405.0, 192973.0, 155104.0, 303183.0, 188481.0, 357266.0, 357266.0, 43010.0, 348406.0, 336968.0, 112800.0, 151808.0, 357412.0, 373485.0, 153630.0, 71895.0, 357266.0, 362760.0, 223475.0, 236058.0, 174032.0, 112938.0, 158.0, 323337.0, 190586.0, 188481.0, 147946.0, 26559.0, 324.0, 867.0, 357266.0, 128227.0, 189747.0, 131142.0, 108590.0, 188481.0, 358160.0, 93018.0, 109529.0, 360915.0, 357266.0, 336992.0, 270258.0, 269798.0, 357266.0, 317178.0, 348406.0, 158.0, 148908.0, 189747.0, 324.0, 54718.0, 360915.0, 357266.0, 124900.0, 268046.0, 357266.0, 217787.0, 223475.0, 190592.0, 357266.0, 236496.0, 158.0, 323025.0, 189747.0, 324.0, 867.0, 357266.0, 178572.0, 178572.0, 355520.0, 306013.0, 357266.0, 336992.0, 287479.0, 268046.0, 43010.0, 106405.0, 377946.0, 103049.0, 360915.0, 357266.0, 190165.0, 269953.0, 158.0, 57951.0, 57951.0, 269798.0, 391291.0, 158.0, 158.0, 324.0, 188481.0, 357266.0, 113946.0, 142283.0, 324.0, 452.0, 142342.0, 151349.0, 335129.0, 323554.0, 323554.0, 357761.0, 218067.0, 174642.0, 71814.0, 345171.0, 52520.0, 142824.0, 188481.0, 357266.0, 291753.0, 306262.0, 452.0, 88126.0, 88126.0, 236496.0, 97019.0, 867.0], [867.0, 90548.0, 71090.0, 304958.0, 360915.0, 272583.0, 229702.0, 239291.0, 293518.0, 346373.0, 60665.0, 393809.0, 344607.0, 452.0, 399695.0, 452.0, 54718.0, 134949.0, 247541.0, 452.0, 132033.0, 452.0, 81562.0, 121485.0, 154323.0, 106453.0, 106453.0, 151349.0, 151349.0, 242078.0, 452.0, 351144.0, 121485.0, 43010.0, 124729.0, 293572.0, 74651.0, 173359.0, 54718.0, 106456.0, 393809.0, 344607.0, 42867.0, 42867.0, 42972.0, 17044.0, 42974.0, 867.0, 182573.0, 452.0, 193716.0, 383514.0, 337662.0, 302344.0, 357212.0, 351144.0, 153.0, 304966.0, 270201.0, 57845.0, 360915.0, 236514.0, 357212.0, 142575.0, 155017.0, 286221.0, 42972.0, 42972.0, 42974.0, 867.0, 122507.0, 154323.0, 358160.0, 304966.0, 174642.0, 71814.0, 305946.0, 151349.0, 43010.0, 265557.0, 268046.0, 242078.0, 452.0, 162344.0, 54718.0, 288221.0, 386432.0, 357266.0, 134949.0, 344190.0, 58997.0, 263188.0, 42972.0, 40724.0, 42974.0, 867.0, 176789.0, 452.0, 357266.0, 123767.0, 142981.0, 121735.0, 357266.0, 109505.0, 268046.0, 173359.0, 388711.0, 108379.0, 229702.0, 239291.0, 293518.0, 305141.0, 269798.0, 357266.0, 375441.0, 268046.0, 357266.0, 44620.0, 44620.0, 44620.0, 188481.0, 358160.0, 384122.0, 452.0, 173359.0, 54718.0, 393809.0, 344607.0, 262350.0, 225401.0, 180484.0, 124729.0, 293572.0, 87775.0, 357354.0, 304966.0, 121169.0, 269798.0, 357266.0, 339034.0, 236496.0, 293518.0, 452.0, 346373.0, 60665.0, 287548.0, 153.0, 301048.0, 54718.0, 134949.0, 247541.0, 42972.0, 42972.0, 42974.0, 867.0, 193716.0, 174032.0, 71814.0, 330028.0, 357212.0, 357761.0, 357761.0, 247396.0, 264550.0, 270201.0, 319034.0, 142852.0, 54273.0, 54273.0, 301048.0, 268046.0, 268046.0, 151349.0, 43010.0, 265557.0, 268046.0, 288172.0, 236514.0, 268046.0, 123767.0, 257320.0, 452.0, 87775.0, 52520.0, 357590.0, 45230.0, 151349.0, 357266.0, 300364.0, 268046.0, 268046.0, 301076.0, 142824.0, 122191.0, 42972.0, 17991.0, 42974.0, 867.0], [54273.0, 188946.0, 268046.0, 259875.0, 219031.0, 154323.0, 357266.0, 109103.0, 304237.0, 90548.0, 71090.0, 45458.0, 358802.0, 247474.0, 188481.0, 357266.0, 109103.0, 159832.0, 158.0, 374387.0, 88126.0, 46785.0, 43010.0, 43010.0, 159832.0, 268046.0, 357266.0, 45863.0, 109103.0, 304237.0, 62065.0, 357266.0, 142801.0, 268046.0, 357266.0, 159391.0, 259875.0, 133243.0, 324.0, 867.0, 143043.0, 345173.0, 122191.0, 43010.0, 325899.0, 268046.0, 109103.0, 121839.0, 247474.0, 357212.0, 270898.0, 357266.0, 362760.0, 336472.0, 380532.0, 302202.0, 158.0, 71587.0, 220815.0, 289384.0, 324.0, 867.0, 53909.0, 357266.0, 250392.0, 133929.0, 121839.0, 337177.0, 186399.0, 192973.0, 54273.0, 137571.0, 336472.0, 286607.0, 44617.0, 357266.0, 45863.0, 109103.0, 304237.0, 188481.0, 105576.0, 388711.0, 54273.0, 44808.0, 218659.0, 44617.0, 357266.0, 336472.0, 286607.0, 158.0, 360915.0, 303660.0, 259875.0, 65843.0, 154323.0, 357266.0, 303948.0, 304237.0, 44617.0, 357266.0, 286607.0, 324.0, 867.0, 147946.0, 13507.0, 330039.0, 357266.0, 105586.0, 133896.0, 268046.0, 123767.0, 373490.0, 286607.0, 357873.0, 268046.0, 357266.0, 44808.0, 54718.0, 81148.0, 81148.0, 193716.0, 90548.0, 71090.0, 267267.0, 357212.0, 357266.0, 325309.0, 188946.0, 268046.0, 357266.0, 218659.0, 153.0, 357871.0, 108393.0, 360915.0, 54273.0, 62053.0, 375624.0, 268046.0, 302202.0, 303676.0, 334693.0, 273428.0, 273428.0, 357266.0, 275346.0, 268046.0, 375636.0, 323929.0, 383514.0, 383514.0, 151349.0, 357266.0, 336472.0, 286607.0, 54718.0, 23784.0, 151349.0, 357266.0, 81148.0, 81148.0, 357761.0, 247474.0, 188240.0, 43010.0, 107663.0, 188946.0, 188481.0, 357266.0, 357266.0, 220336.0, 357212.0, 383514.0, 106242.0, 88126.0, 303670.0, 357266.0, 373490.0, 64444.0, 303948.0, 387219.0, 158.0, 347345.0, 140185.0, 50256.0, 452.0, 17708.0, 324.0, 867.0], [54273.0, 190095.0, 292794.0, 268046.0, 357266.0, 283054.0, 283054.0, 192973.0, 357266.0, 340380.0, 325187.0, 268046.0, 137256.0, 191811.0, 357266.0, 357266.0, 357266.0, 358160.0, 192973.0, 89857.0, 357266.0, 399931.0, 157654.0, 340293.0, 133896.0, 399936.0, 54718.0, 174032.0, 71814.0, 143044.0, 345171.0, 188481.0, 42972.0, 42972.0, 42974.0, 867.0, 158.0, 188481.0, 357266.0, 80083.0, 364123.0, 106074.0, 358160.0, 192973.0, 209675.0, 60665.0, 357266.0, 301430.0, 301430.0, 324.0, 360915.0, 329991.0, 358160.0, 133896.0, 188481.0, 357266.0, 55434.0, 124206.0, 452.0, 43010.0, 217449.0, 338898.0, 127210.0, 158.0, 158.0, 324.0, 192973.0, 332176.0, 452.0, 388711.0, 43010.0, 248692.0, 384039.0, 293484.0, 273428.0, 43010.0, 225289.0, 125728.0, 188481.0, 119136.0, 383772.0, 158.0, 158.0, 324.0, 867.0, 151349.0, 357266.0, 338898.0, 338898.0, 43010.0, 344939.0, 364947.0, 241741.0, 192973.0, 374168.0, 452.0, 388711.0, 54273.0, 135301.0, 133480.0, 220336.0, 268046.0, 268046.0, 158.0, 147946.0, 6765.0, 158.0, 43010.0, 324.0, 324.0, 867.0, 357266.0, 190165.0, 384039.0, 147810.0, 452.0, 224608.0, 31473.0, 154323.0, 357266.0, 226512.0, 54718.0, 219577.0, 330916.0, 174032.0, 43010.0, 158446.0, 125818.0, 188481.0, 338556.0, 452.0, 388711.0, 43010.0, 331417.0, 384039.0, 176015.0, 268046.0, 268046.0, 54718.0, 43010.0, 341454.0, 122505.0, 268046.0, 11113.0, 158.0, 147946.0, 6765.0, 158.0, 65064.0, 324.0, 324.0, 867.0, 193919.0, 239170.0, 124748.0, 192973.0, 192973.0, 388711.0, 54273.0, 55434.0, 125818.0, 268046.0, 268046.0, 158.0, 399662.0, 324.0, 54718.0, 43010.0, 153800.0, 268046.0, 268046.0, 357266.0, 332179.0, 192973.0, 359896.0, 54718.0, 313447.0, 151349.0, 30387.0, 117967.0, 388711.0, 43010.0, 43010.0, 268046.0, 34378.0, 867.0], [357266.0, 274242.0, 357871.0, 192973.0, 89633.0, 374253.0, 357266.0, 384893.0, 156414.0, 54718.0, 348406.0, 348406.0, 60403.0, 96751.0, 357266.0, 348406.0, 293079.0, 387696.0, 247481.0, 357266.0, 348406.0, 58999.0, 54718.0, 89633.0, 274242.0, 274242.0, 324426.0, 187656.0, 268046.0, 317183.0, 305355.0, 47798.0, 7184.0, 117967.0, 274238.0, 385664.0, 374168.0, 360915.0, 119364.0, 357266.0, 96721.0, 188481.0, 348406.0, 293079.0, 220336.0, 388711.0, 376116.0, 188481.0, 57844.0, 57844.0, 357266.0, 293079.0, 220345.0, 143137.0, 154323.0, 357266.0, 187656.0, 385664.0, 357412.0, 374168.0, 360915.0, 247481.0, 357266.0, 220336.0, 268046.0, 357266.0, 317178.0, 54718.0, 357645.0, 357266.0, 348406.0, 348406.0, 351098.0, 2479.0, 330039.0, 357266.0, 271493.0, 274242.0, 357873.0, 47798.0, 7184.0, 117967.0, 274238.0, 452.0, 357266.0, 247475.0, 274242.0, 357873.0, 69725.0, 269798.0, 357266.0, 348406.0, 293079.0, 220336.0, 54718.0, 357266.0, 281114.0, 281114.0, 306717.0, 329974.0, 43010.0, 237347.0, 118964.0, 188481.0, 357266.0, 274242.0, 357871.0, 268046.0, 26559.0, 41.0, 386424.0, 374253.0, 43010.0, 348406.0, 386474.0, 45241.0, 151349.0, 151349.0, 106192.0, 357266.0, 96721.0, 188481.0, 274242.0, 357871.0, 74651.0, 123767.0, 348406.0, 148537.0, 189163.0, 43010.0, 376116.0, 268046.0, 220815.0, 357109.0, 2479.0, 41.0, 867.0, 60665.0, 346373.0, 452.0, 357266.0, 188025.0, 268046.0, 357266.0, 376116.0, 188481.0, 357266.0, 293079.0, 220336.0, 269798.0, 357266.0, 89633.0, 274242.0, 357871.0, 192973.0, 107670.0, 360915.0, 71090.0, 71090.0, 188481.0, 46223.0, 452.0, 186645.0, 357266.0, 123765.0, 188481.0, 384893.0, 156414.0, 385664.0, 270201.0, 130319.0, 360915.0, 123765.0, 188481.0, 348406.0, 58999.0, 452.0, 312003.0, 317183.0, 390139.0, 71090.0, 142758.0, 360915.0, 120638.0, 357865.0, 274243.0, 62065.0, 357266.0, 132407.0, 341178.0, 268046.0, 274238.0, 867.0], [61766.0, 43010.0, 107783.0, 94956.0, 135114.0, 108421.0, 133928.0, 268046.0, 10741.0, 41.0, 452.0, 43010.0, 107783.0, 152796.0, 268046.0, 357266.0, 188786.0, 336835.0, 298719.0, 390139.0, 71090.0, 125693.0, 88126.0, 357266.0, 336835.0, 94956.0, 151349.0, 132276.0, 336835.0, 298719.0, 191051.0, 191051.0, 154323.0, 351098.0, 15341.0, 452.0, 193716.0, 90548.0, 71090.0, 323432.0, 357212.0, 151349.0, 357266.0, 390080.0, 320240.0, 386424.0, 357266.0, 53278.0, 355520.0, 383514.0, 383514.0, 388711.0, 257293.0, 108353.0, 270201.0, 452.0, 357266.0, 291288.0, 94956.0, 135114.0, 108421.0, 133928.0, 390139.0, 174642.0, 303661.0, 360915.0, 57951.0, 38601.0, 41.0, 301000.0, 357109.0, 357266.0, 10741.0, 41.0, 41.0, 357266.0, 137256.0, 125693.0, 60665.0, 175523.0, 154323.0, 357266.0, 94956.0, 390139.0, 359056.0, 71090.0, 36169.0, 41.0, 41.0, 360915.0, 109476.0, 151349.0, 358160.0, 133896.0, 357266.0, 57697.0, 190658.0, 221115.0, 329916.0, 71090.0, 247475.0, 374253.0, 357266.0, 151061.0, 151810.0, 42867.0, 158.0, 21828.0, 324.0, 324.0, 324.0, 192973.0, 357266.0, 45919.0, 188786.0, 336835.0, 298719.0, 191051.0, 452.0, 452.0, 192973.0, 336835.0, 94956.0, 133928.0, 123763.0, 74651.0, 357266.0, 190178.0, 61763.0, 10741.0, 41.0, 54718.0, 148339.0, 89633.0, 94956.0, 133928.0, 69725.0, 269798.0, 239228.0, 94956.0, 355520.0, 867.0], [371152.0, 357761.0, 142820.0, 106927.0, 452.0, 357266.0, 267267.0, 131666.0, 174032.0, 360915.0, 267452.0, 386432.0, 357266.0, 292780.0, 217666.0, 189393.0, 357266.0, 302195.0, 306716.0, 188481.0, 155499.0, 192332.0, 42972.0, 23310.0, 42974.0, 867.0, 357266.0, 368460.0, 118650.0, 247378.0, 42972.0, 20302.0, 42974.0, 383514.0, 57844.0, 360915.0, 142852.0, 357266.0, 44620.0, 152848.0, 268046.0, 268046.0, 360915.0, 110950.0, 452.0, 330028.0, 188481.0, 148016.0, 148016.0, 357266.0, 149179.0, 268046.0, 357266.0, 309135.0, 54718.0, 118650.0, 106384.0, 268046.0, 357266.0, 363975.0, 385664.0, 127491.0, 88126.0, 88126.0, 293178.0, 374253.0, 357266.0, 114042.0, 149179.0, 149179.0, 149179.0, 357266.0, 74390.0, 149139.0, 118650.0, 107808.0, 151349.0, 357266.0, 357266.0, 118650.0, 106384.0, 268046.0, 268046.0, 192311.0, 331376.0, 192973.0, 192973.0, 54718.0, 54718.0, 452.0, 386495.0, 357212.0, 151349.0, 151349.0, 192311.0, 331376.0, 192973.0, 192973.0, 54718.0, 54718.0, 452.0, 452.0, 357761.0, 118650.0, 107808.0, 107162.0, 360915.0, 357266.0, 292067.0, 305946.0, 359889.0, 107808.0, 268046.0, 268046.0, 54718.0, 54718.0, 42972.0, 42972.0, 42974.0, 867.0, 357266.0, 363975.0, 268046.0, 357266.0, 302192.0, 152844.0, 152844.0, 58997.0, 346609.0, 123767.0, 154323.0, 357212.0, 268046.0, 357266.0, 277462.0, 192311.0, 192311.0, 189164.0, 357212.0, 384374.0, 58997.0, 345197.0, 357266.0, 125762.0, 131666.0, 268046.0, 357266.0, 259871.0, 54718.0, 264550.0, 357212.0, 268046.0, 357266.0, 277462.0, 192311.0, 152848.0, 42972.0, 19410.0, 42974.0, 867.0, 57856.0, 217666.0, 108302.0, 292409.0, 371152.0, 346373.0, 142820.0, 101520.0, 52520.0, 107128.0, 357212.0, 384374.0, 58997.0, 108319.0, 357266.0, 292984.0, 393809.0, 268046.0, 268046.0, 452.0, 306716.0, 154323.0, 357266.0, 283617.0, 302192.0, 268046.0, 268046.0, 867.0], [188481.0, 358160.0, 389836.0, 452.0, 222292.0, 293485.0, 188481.0, 43010.0, 320190.0, 239623.0, 388711.0, 388711.0, 107783.0, 304026.0, 189109.0, 374253.0, 357266.0, 298722.0, 364123.0, 138623.0, 383514.0, 383514.0, 222292.0, 293485.0, 188481.0, 132276.0, 132276.0, 388711.0, 43010.0, 107783.0, 304026.0, 189109.0, 383514.0, 247383.0, 374253.0, 357266.0, 312577.0, 54718.0, 357266.0, 138625.0, 385664.0, 110482.0, 374253.0, 81903.0, 106927.0, 121735.0, 153866.0, 303940.0, 54718.0, 364051.0, 364051.0, 269798.0, 357266.0, 191297.0, 74651.0, 357266.0, 357266.0, 357266.0, 306716.0, 110482.0, 350362.0, 268046.0, 268046.0, 383514.0, 265593.0, 337190.0, 374253.0, 357266.0, 357266.0, 357266.0, 293583.0, 247378.0, 383514.0, 356561.0, 374253.0, 332181.0, 54718.0, 383514.0, 106190.0, 388711.0, 357266.0, 337176.0, 268046.0, 357266.0, 249036.0, 92271.0, 92271.0, 357266.0, 306717.0, 329974.0, 357212.0, 357266.0, 110482.0, 312577.0, 247378.0, 121734.0, 222292.0, 293485.0, 45291.0, 188481.0, 106194.0, 388711.0, 357266.0, 249036.0, 92271.0, 92271.0, 188481.0, 46223.0, 452.0, 306717.0, 329974.0, 357212.0, 258611.0, 191457.0, 304026.0, 189109.0, 96737.0, 90548.0, 218947.0, 360915.0, 139196.0, 81903.0, 239231.0, 268046.0, 320188.0, 320188.0, 358160.0, 189163.0, 357212.0, 357266.0, 297112.0, 268046.0, 357266.0, 128176.0, 303125.0, 110156.0, 289446.0, 71090.0, 188947.0, 88126.0, 188932.0, 43010.0, 247378.0, 151349.0, 191457.0, 304026.0, 189109.0, 96737.0, 188481.0, 357266.0, 187646.0, 303120.0, 292834.0, 867.0], [388711.0, 141863.0, 188949.0, 106518.0, 281311.0, 452.0, 332181.0, 188481.0, 251645.0, 217469.0, 350396.0, 174642.0, 71585.0, 71585.0, 182573.0, 452.0, 452.0, 57924.0, 360915.0, 288211.0, 112941.0, 258451.0, 143219.0, 217449.0, 106518.0, 290159.0, 141816.0, 188481.0, 357266.0, 93018.0, 268046.0, 332120.0, 288221.0, 452.0, 54718.0, 57927.0, 247387.0, 270970.0, 270970.0, 268046.0, 357266.0, 350362.0, 192973.0, 192973.0, 154323.0, 43010.0, 325550.0, 268046.0, 389836.0, 269798.0, 357266.0, 122455.0, 268046.0, 103887.0, 247396.0, 151349.0, 288221.0, 452.0, 237453.0, 54718.0, 54718.0, 174642.0, 86363.0, 373317.0, 43010.0, 247378.0, 268046.0, 288104.0, 158.0, 379413.0, 50744.0, 324.0, 158.0, 295915.0, 324.0, 151349.0, 345197.0, 132422.0, 341163.0, 268046.0, 268046.0, 357810.0, 192126.0, 357266.0, 136327.0, 268046.0, 112933.0, 271173.0, 154323.0, 357266.0, 193524.0, 240628.0, 88126.0, 300602.0, 297499.0, 42972.0, 42972.0, 42974.0, 867.0, 357810.0, 110156.0, 306060.0, 233708.0, 135306.0, 292852.0, 268046.0, 181114.0, 265388.0, 357212.0, 329999.0, 164328.0, 109523.0, 388711.0, 142832.0, 54718.0, 272583.0, 332181.0, 452.0, 188481.0, 355520.0, 121162.0, 268046.0, 216437.0, 357871.0, 452.0, 344936.0, 268046.0, 150919.0, 348406.0, 452.0, 140214.0, 188481.0, 357354.0, 389836.0, 452.0, 357810.0, 258609.0, 225332.0, 151407.0, 158.0, 375695.0, 121373.0, 381851.0, 62803.0, 324.0, 360915.0, 45071.0, 45071.0, 357354.0, 247378.0, 174032.0, 357266.0, 137256.0, 108284.0, 130319.0, 360915.0, 360915.0, 191142.0, 270201.0, 54718.0, 357266.0, 127298.0, 129469.0, 151407.0, 151349.0, 112941.0, 192973.0, 138033.0, 452.0, 386474.0, 323431.0, 360915.0, 186887.0, 127298.0, 129469.0, 151407.0, 151349.0, 288211.0, 112941.0, 188481.0, 108379.0, 108379.0, 182573.0, 452.0, 357354.0, 389836.0, 192973.0, 305267.0, 268046.0, 357266.0, 102223.0, 102223.0, 363985.0, 188481.0, 350396.0, 268046.0, 306136.0, 339357.0, 62500.0, 42972.0, 32000.0, 42974.0, 54718.0, 289337.0, 54273.0, 191908.0, 292794.0, 60665.0, 360915.0, 357266.0, 191911.0, 129469.0, 151407.0, 151349.0, 288211.0, 112941.0, 867.0], [338799.0, 286186.0, 332691.0, 158.0, 340357.0, 324.0, 192973.0, 43010.0, 304970.0, 259972.0, 259972.0, 354634.0, 42972.0, 12126.0, 42974.0, 188481.0, 386474.0, 357266.0, 290139.0, 360915.0, 71090.0, 107726.0, 192973.0, 224436.0, 191811.0, 54273.0, 135115.0, 54718.0, 357683.0, 106973.0, 166041.0, 250773.0, 54718.0, 43010.0, 217449.0, 118061.0, 295175.0, 113946.0, 158.0, 158.0, 324.0, 192973.0, 57844.0, 371152.0, 43010.0, 371939.0, 371939.0, 386424.0, 113946.0, 278411.0, 358802.0, 357266.0, 166041.0, 250773.0, 158.0, 54718.0, 357266.0, 290139.0, 186645.0, 193716.0, 192973.0, 135115.0, 106973.0, 324.0, 452.0, 357266.0, 290139.0, 192973.0, 175530.0, 81562.0, 154323.0, 357266.0, 273278.0, 158.0, 357266.0, 250773.0, 45915.0, 60665.0, 43010.0, 175561.0, 135301.0, 324.0, 54718.0, 190592.0, 158.0, 130319.0, 360915.0, 198977.0, 175561.0, 154323.0, 357266.0, 191911.0, 135114.0, 306409.0, 268046.0, 357266.0, 290139.0, 236496.0, 324.0, 867.0, 340357.0, 192973.0, 97022.0, 88126.0, 377946.0, 145460.0, 175561.0, 158.0, 373317.0, 360915.0, 360915.0, 324.0, 54718.0, 108590.0, 300978.0, 54718.0, 329711.0, 180501.0, 359971.0, 158.0, 245571.0, 324.0, 360915.0, 45457.0, 258155.0, 357589.0, 120991.0, 42972.0, 12126.0, 42974.0, 867.0, 359056.0, 340357.0, 267449.0, 43010.0, 377946.0, 123767.0, 123767.0, 338556.0, 188481.0, 290139.0, 107729.0, 233857.0, 386424.0, 106190.0, 388711.0, 108379.0, 242260.0, 452.0, 346373.0, 60665.0, 182186.0, 291860.0, 332691.0, 54718.0, 179208.0, 388711.0, 300122.0, 300964.0, 268046.0, 268046.0, 54718.0, 43010.0, 147468.0, 182380.0, 180501.0, 180501.0, 52673.0, 340357.0, 174032.0, 71814.0, 345171.0, 151349.0, 43010.0, 300612.0, 167685.0, 265557.0, 268046.0, 236514.0, 42972.0, 12126.0, 42974.0, 452.0, 357640.0, 58997.0, 270201.0, 43010.0, 335129.0, 265557.0, 268046.0, 345173.0, 269798.0, 357266.0, 143821.0, 54718.0, 243331.0, 97019.0, 268046.0, 267899.0, 342362.0, 292851.0, 88126.0, 340357.0, 452.0, 84041.0, 307257.0, 72786.0, 867.0], [43010.0, 150461.0, 374977.0, 192973.0, 43010.0, 159391.0, 146154.0, 268046.0, 297180.0, 147828.0, 452.0, 268046.0, 386474.0, 357266.0, 153443.0, 237371.0, 147810.0, 107670.0, 188481.0, 42972.0, 42972.0, 42974.0, 192973.0, 87775.0, 269953.0, 269953.0, 147025.0, 147828.0, 346373.0, 60665.0, 357212.0, 121735.0, 357266.0, 135204.0, 452.0, 52520.0, 371301.0, 374977.0, 150463.0, 452.0, 107623.0, 269953.0, 142763.0, 360915.0, 148427.0, 93106.0, 133907.0, 61722.0, 388711.0, 346373.0, 147828.0, 386426.0, 357810.0, 58997.0, 107116.0, 188481.0, 337259.0, 337259.0, 346373.0, 133907.0, 385664.0, 148908.0, 192126.0, 188481.0, 357266.0, 108098.0, 268046.0, 265375.0, 283892.0, 452.0, 388747.0, 357266.0, 336118.0, 399931.0, 246420.0, 66225.0, 247378.0, 399936.0, 268046.0, 357266.0, 265398.0, 42972.0, 9321.0, 42974.0, 867.0, 188481.0, 357266.0, 357266.0, 269953.0, 138132.0, 357266.0, 265398.0, 60665.0, 43010.0, 104990.0, 268046.0, 147025.0, 147828.0, 121735.0, 107116.0, 107116.0, 357761.0, 297204.0, 58997.0, 345909.0, 360915.0, 43010.0, 81903.0, 106917.0, 62065.0, 357266.0, 348406.0, 268046.0, 357266.0, 399910.0, 66225.0, 399913.0, 357212.0, 306013.0, 357266.0, 265398.0, 399913.0, 314370.0, 314370.0, 200035.0, 60665.0, 188481.0, 357266.0, 135194.0, 93018.0, 452.0, 357266.0, 66225.0, 81903.0, 106917.0, 247479.0, 357266.0, 374977.0, 150463.0, 268046.0, 357266.0, 147810.0, 452.0, 386474.0, 306717.0, 188481.0, 357266.0, 57716.0, 268046.0, 43010.0, 93106.0, 151407.0, 42972.0, 42972.0, 42974.0, 867.0, 358160.0, 151407.0, 452.0, 52673.0, 377946.0, 384383.0, 62065.0, 43010.0, 229702.0, 319932.0, 452.0, 90548.0, 71090.0, 331417.0, 269798.0, 357266.0, 335129.0, 220336.0, 319947.0, 136926.0, 188481.0, 265375.0, 265375.0, 193716.0, 357645.0, 174032.0, 188273.0, 107617.0, 151349.0, 357266.0, 283892.0, 268046.0, 357266.0, 357266.0, 265398.0, 42972.0, 13507.0, 42974.0, 867.0], [867.0, 54718.0, 235343.0, 342362.0, 58997.0, 90739.0, 236514.0, 151349.0, 374163.0, 188481.0, 265375.0, 302204.0, 42972.0, 2742.0, 42974.0, 867.0, 357266.0, 357266.0, 189535.0, 158016.0, 452.0, 139731.0, 175199.0, 452.0, 286468.0, 54273.0, 188273.0, 310672.0, 188481.0, 357266.0, 243331.0, 142048.0, 268046.0, 357761.0, 342362.0, 371152.0, 259875.0, 259875.0, 188481.0, 43010.0, 292066.0, 276859.0, 42972.0, 21828.0, 42974.0, 357266.0, 239302.0, 88126.0, 386474.0, 175199.0, 188481.0, 43010.0, 281272.0, 281272.0, 158.0, 71001.0, 324.0, 146082.0, 218072.0, 452.0, 90548.0, 48074.0, 191811.0, 85795.0, 383514.0, 383514.0, 193716.0, 383514.0, 330028.0, 357212.0, 335129.0, 175199.0, 191678.0, 103318.0, 58997.0, 178623.0, 247220.0, 87775.0, 71585.0, 133901.0, 285118.0, 388711.0, 357266.0, 136430.0, 268046.0, 146082.0, 191679.0, 386424.0, 357266.0, 103318.0, 107993.0, 30387.0, 270970.0, 249714.0, 175199.0, 175199.0, 335129.0, 85795.0, 373317.0, 360915.0, 59937.0, 4563.0, 262263.0, 188481.0, 123214.0, 90548.0, 132569.0, 151719.0, 62065.0, 311178.0, 355520.0, 154323.0, 346373.0, 323354.0, 287518.0, 87775.0, 217469.0, 85795.0, 58997.0, 249714.0, 123789.0, 360915.0, 151719.0, 88126.0, 123811.0, 52315.0, 130319.0, 360915.0, 357266.0, 189388.0, 344185.0, 188481.0, 357266.0, 71001.0, 218072.0, 386474.0, 188948.0, 357266.0, 137256.0, 69356.0, 151349.0, 123811.0, 363081.0, 357266.0, 85795.0, 386501.0, 303670.0, 357388.0, 188481.0, 43010.0, 124748.0, 64331.0, 154323.0, 357266.0, 357266.0, 346119.0, 85790.0, 137572.0, 90548.0, 357412.0, 270201.0, 267452.0, 134678.0, 358802.0, 188947.0, 355520.0, 270970.0, 88126.0, 298719.0, 189388.0, 239302.0, 386474.0, 188946.0, 357266.0, 265557.0, 268046.0, 374902.0, 188481.0, 357266.0, 85790.0, 54718.0, 303660.0, 357266.0, 218072.0, 218072.0, 136430.0, 268046.0, 191597.0, 225683.0, 154323.0, 346373.0, 43010.0, 85790.0, 383514.0, 264550.0, 267267.0, 188481.0, 248029.0, 131666.0, 332181.0, 867.0], [125124.0, 357212.0, 81562.0, 357266.0, 374903.0, 54718.0, 191678.0, 119263.0, 244022.0, 278739.0, 58997.0, 107116.0, 360915.0, 360915.0, 304268.0, 346715.0, 96737.0, 188481.0, 303014.0, 300978.0, 268046.0, 193456.0, 193456.0, 275358.0, 188481.0, 106194.0, 360915.0, 295472.0, 295472.0, 357266.0, 119560.0, 360915.0, 386474.0, 357266.0, 300978.0, 58997.0, 133897.0, 121169.0, 269798.0, 357266.0, 125818.0, 268046.0, 306385.0, 119273.0, 289455.0, 43010.0, 92993.0, 141844.0, 452.0, 188481.0, 46223.0, 360915.0, 357266.0, 106697.0, 54718.0, 271178.0, 268046.0, 357266.0, 156028.0, 156028.0, 186645.0, 374902.0, 54718.0, 191679.0, 71585.0, 166408.0, 325182.0, 47798.0, 357266.0, 105121.0, 92993.0, 452.0, 357412.0, 278739.0, 360915.0, 303014.0, 58997.0, 222484.0, 360915.0, 71585.0, 306671.0, 54718.0, 303187.0, 359971.0, 387696.0, 71090.0, 71090.0, 358160.0, 192973.0, 378208.0, 151349.0, 92995.0, 357212.0, 111449.0, 43010.0, 374903.0, 308115.0, 109103.0, 348565.0, 88126.0, 125522.0, 191679.0, 452.0, 60665.0, 152393.0, 151349.0, 357266.0, 226394.0, 137256.0, 92995.0, 188481.0, 294725.0, 54718.0, 294959.0, 42972.0, 42972.0, 42974.0, 867.0, 358160.0, 237383.0, 52520.0, 71090.0, 357266.0, 93018.0, 151349.0, 96814.0, 141855.0, 452.0, 386432.0, 137232.0, 62500.0, 364331.0, 119136.0, 191811.0, 357266.0, 218072.0, 358802.0, 96816.0, 268046.0, 226394.0, 62484.0, 120991.0, 867.0], [357266.0, 132422.0, 357589.0, 389836.0, 268046.0, 93855.0, 61636.0, 43010.0, 265557.0, 268046.0, 387807.0, 368669.0, 103318.0, 54718.0, 152393.0, 357388.0, 51582.0, 360915.0, 71090.0, 341045.0, 374253.0, 374253.0, 242260.0, 42972.0, 33544.0, 42974.0, 867.0, 249714.0, 302802.0, 399931.0, 339802.0, 191678.0, 399936.0, 368669.0, 103318.0, 158.0, 147946.0, 2479.0, 324.0, 174642.0, 136326.0, 154323.0, 106512.0, 345173.0, 60665.0, 341045.0, 339029.0, 151061.0, 357266.0, 289872.0, 69725.0, 192129.0, 268046.0, 268046.0, 140185.0, 50256.0, 386474.0, 152393.0, 357266.0, 357266.0, 103315.0, 188481.0, 43010.0, 373302.0, 347794.0, 304990.0, 360915.0, 43010.0, 339802.0, 339802.0, 42972.0, 9321.0, 42974.0, 158.0, 147946.0, 2479.0, 158.0, 65064.0, 324.0, 324.0, 42950.0, 43010.0, 332395.0, 380362.0, 388711.0, 358549.0, 268622.0, 125534.0, 57951.0, 57951.0, 188481.0, 188481.0, 124754.0, 154323.0, 357266.0, 357266.0, 358160.0, 306708.0, 383514.0, 217909.0, 107126.0, 88126.0, 357266.0, 357266.0, 89639.0, 268046.0, 159502.0, 140185.0, 50256.0, 42972.0, 36169.0, 42974.0, 867.0, 357266.0, 144715.0, 268046.0, 339802.0, 191678.0, 103318.0, 383514.0, 143026.0, 360915.0, 188836.0, 188836.0, 42972.0, 38601.0, 42974.0, 158.0, 43010.0, 43010.0, 388711.0, 357266.0, 152590.0, 268622.0, 333113.0, 267446.0, 324.0, 54718.0, 54718.0, 42972.0, 40724.0, 42974.0, 158.0, 368321.0, 368321.0, 269798.0, 46549.0, 333121.0, 452.0, 162071.0, 43010.0, 362760.0, 268046.0, 368321.0, 380362.0, 54718.0, 333279.0, 268622.0, 324.0, 158.0, 147946.0, 2479.0, 158.0, 114975.0, 324.0, 324.0, 867.0, 151061.0, 358160.0, 54810.0, 140185.0, 50256.0, 289802.0, 43010.0, 247378.0, 151349.0, 151349.0, 69725.0, 269798.0, 43010.0, 373302.0, 347794.0, 108005.0, 252664.0, 339802.0, 339802.0, 103318.0, 42950.0, 151061.0, 357266.0, 291290.0, 268046.0, 357354.0, 357354.0, 89639.0, 357212.0, 357266.0, 357266.0, 192973.0, 249714.0, 341045.0, 357109.0, 193919.0, 193919.0, 110360.0, 42972.0, 8172.0, 42974.0, 867.0], [121855.0, 268046.0, 243182.0, 122511.0, 58997.0, 188481.0, 258451.0, 268046.0, 106512.0, 361978.0, 357212.0, 90548.0, 71090.0, 374168.0, 360915.0, 54425.0, 292803.0, 357212.0, 192213.0, 300707.0, 158016.0, 150429.0, 188481.0, 106337.0, 243068.0, 243068.0, 265592.0, 332179.0, 268046.0, 357266.0, 158016.0, 150400.0, 358802.0, 346373.0, 159830.0, 192973.0, 452.0, 182573.0, 452.0, 143219.0, 143219.0, 108379.0, 108167.0, 150490.0, 131666.0, 158.0, 95855.0, 324.0, 71586.0, 192008.0, 270970.0, 188571.0, 60665.0, 357266.0, 97025.0, 319932.0, 268046.0, 357266.0, 159832.0, 158.0, 132176.0, 357266.0, 96805.0, 176015.0, 452.0, 170290.0, 324.0, 57924.0, 357266.0, 248029.0, 239170.0, 153443.0, 278684.0, 452.0, 399670.0, 42972.0, 2742.0, 42974.0, 867.0, 386424.0, 386424.0, 452.0, 357266.0, 139198.0, 188481.0, 337177.0, 267326.0, 154323.0, 95855.0, 237383.0, 71090.0, 331417.0, 452.0, 54718.0, 384374.0, 253767.0, 107661.0, 357266.0, 150490.0, 151349.0, 386307.0, 193716.0, 192973.0, 42867.0, 43010.0, 104990.0, 268046.0, 191137.0, 191137.0, 182573.0, 452.0, 357266.0, 106512.0, 142801.0, 268046.0, 332178.0, 357266.0, 150400.0, 268046.0, 43010.0, 300707.0, 158016.0, 188481.0, 188481.0, 243068.0, 159830.0, 158.0, 185635.0, 270120.0, 357212.0, 58997.0, 225289.0, 452.0, 304969.0, 360915.0, 357354.0, 112328.0, 323165.0, 324.0, 374253.0, 43010.0, 278008.0, 242245.0, 452.0, 346373.0, 60665.0, 357266.0, 124729.0, 332179.0, 249036.0, 92271.0, 158.0, 158.0, 324.0, 242245.0, 42972.0, 15341.0, 42974.0, 452.0, 90548.0, 71090.0, 293216.0, 178401.0, 42972.0, 22256.0, 42974.0, 867.0, 357266.0, 106512.0, 191051.0, 268046.0, 357266.0, 278008.0, 242245.0, 192973.0, 166401.0, 343257.0, 386424.0, 332178.0, 226476.0, 243182.0, 122511.0, 386432.0, 357640.0, 58997.0, 270201.0, 335129.0, 122507.0, 154323.0, 138656.0, 452.0, 97022.0, 88126.0, 143219.0, 226394.0, 229372.0, 265568.0, 54718.0, 384383.0, 355520.0, 165550.0, 867.0], [43010.0, 43010.0, 121738.0, 268046.0, 43010.0, 252714.0, 350362.0, 192973.0, 268345.0, 303888.0, 360915.0, 60665.0, 43010.0, 399910.0, 184682.0, 399913.0, 399913.0, 188481.0, 150490.0, 131666.0, 452.0, 43010.0, 368710.0, 184682.0, 105591.0, 43010.0, 248029.0, 364480.0, 158.0, 43010.0, 399910.0, 243068.0, 399913.0, 247378.0, 324.0, 388711.0, 43010.0, 43010.0, 269953.0, 158.0, 43010.0, 399910.0, 229655.0, 399913.0, 247378.0, 324.0, 452.0, 388711.0, 357266.0, 48971.0, 268046.0, 267327.0, 357266.0, 45289.0, 268046.0, 357266.0, 151780.0, 388711.0, 357266.0, 133928.0, 268046.0, 357266.0, 218067.0, 42972.0, 42972.0, 42974.0, 867.0, 357266.0, 243068.0, 54718.0, 229655.0, 247396.0, 159426.0, 174642.0, 97025.0, 359982.0, 357212.0, 58997.0, 377946.0, 123767.0, 452.0, 386474.0, 239197.0, 357212.0, 357212.0, 332181.0, 90548.0, 71090.0, 143219.0, 96377.0, 42867.0, 357266.0, 333429.0, 268046.0, 357266.0, 360001.0, 306174.0, 360915.0, 231458.0, 357266.0, 243068.0, 247378.0, 341045.0, 54718.0, 45290.0, 192973.0, 336114.0, 335129.0, 357212.0, 332181.0, 273428.0, 331417.0, 331417.0, 359889.0, 281463.0, 58997.0, 58997.0, 186645.0, 357266.0, 350362.0, 192973.0, 399910.0, 399910.0, 399913.0, 452.0, 43010.0, 283877.0, 158.0, 60665.0, 125762.0, 154323.0, 265592.0, 324.0, 57954.0, 90548.0, 71090.0, 229835.0, 357212.0, 136753.0, 357266.0, 110482.0, 247396.0, 360915.0, 46990.0, 62065.0, 123767.0, 300978.0, 158.0, 62057.0, 324.0, 388711.0, 258622.0, 280492.0, 269798.0, 269798.0, 269798.0, 132033.0, 140185.0, 50256.0, 42972.0, 30387.0, 42974.0, 385664.0, 357266.0, 148908.0, 360915.0, 191915.0, 54718.0, 188217.0, 358160.0, 106706.0, 188481.0, 43010.0, 43010.0, 242245.0, 151349.0, 110482.0, 350396.0, 452.0, 303888.0, 360915.0, 188481.0, 357266.0, 102238.0, 268046.0, 268046.0, 140185.0, 50256.0, 42972.0, 33544.0, 42974.0, 60665.0, 43010.0, 108161.0, 62056.0, 158.0, 88789.0, 324.0, 320539.0, 158.0, 399910.0, 108161.0, 399913.0, 332240.0, 357266.0, 243068.0, 54718.0, 229655.0, 247396.0, 46990.0, 388756.0, 191633.0, 42972.0, 30387.0, 42974.0, 324.0, 867.0, 188481.0, 358160.0, 276859.0, 384374.0, 143024.0, 358160.0, 186344.0, 360915.0, 252714.0, 350396.0, 106464.0, 54273.0, 58548.0, 265557.0, 268046.0, 110482.0, 247396.0, 867.0], [357266.0, 357706.0, 268046.0, 268046.0, 52078.0, 158.0, 83072.0, 324.0, 383514.0, 345909.0, 268046.0, 265603.0, 265603.0, 83072.0, 192973.0, 97022.0, 88126.0, 54273.0, 142361.0, 137898.0, 54718.0, 142361.0, 138035.0, 268046.0, 246698.0, 452.0, 81562.0, 268046.0, 386474.0, 58997.0, 58997.0, 357266.0, 357266.0, 117493.0, 385664.0, 239228.0, 88126.0, 337176.0, 90007.0, 132176.0, 452.0, 42972.0, 42972.0, 42974.0, 54718.0, 69725.0, 269798.0, 98017.0, 289872.0, 117493.0, 89633.0, 154323.0, 283048.0, 138656.0, 142832.0, 132176.0, 452.0, 42972.0, 42972.0, 42974.0, 452.0, 357266.0, 142361.0, 138035.0, 268046.0, 246698.0, 110156.0, 71090.0, 141703.0, 132176.0, 452.0, 42972.0, 42972.0, 42974.0, 867.0, 358160.0, 142361.0, 138035.0, 108008.0, 81562.0, 452.0, 357266.0, 378314.0, 54718.0, 357266.0, 107107.0, 107107.0, 357266.0, 142361.0, 378314.0, 138035.0, 452.0, 119365.0, 60665.0, 357266.0, 122505.0, 154323.0, 357266.0, 138035.0, 268046.0, 43010.0, 239291.0, 246721.0, 268046.0, 357266.0, 136979.0, 240688.0, 43010.0, 54718.0, 65064.0, 158.0, 185635.0, 452.0, 452.0, 324.0, 452.0, 90548.0, 71090.0, 122191.0, 88126.0, 239236.0, 357266.0, 226394.0, 355520.0, 175523.0, 91249.0, 158.0, 30387.0, 360915.0, 23681.0, 324.0, 377881.0, 106405.0, 106405.0, 357266.0, 122187.0, 268046.0, 357266.0, 142361.0, 107107.0, 138035.0, 452.0, 185635.0, 452.0, 357266.0, 142361.0, 138035.0, 105730.0, 154323.0, 263279.0, 62484.0, 125820.0, 54718.0, 119273.0, 452.0, 192973.0, 251645.0, 249714.0, 249714.0, 177231.0, 452.0, 259875.0, 320190.0, 192131.0, 361190.0, 388711.0, 106518.0, 332181.0, 58997.0, 264180.0, 264180.0, 186645.0, 452.0, 182573.0, 452.0, 305039.0, 117493.0, 268046.0, 357266.0, 362760.0, 142361.0, 138035.0, 158.0, 154323.0, 154323.0, 54718.0, 98017.0, 289872.0, 117493.0, 324.0, 58997.0, 63822.0, 452.0, 357266.0, 239230.0, 268046.0, 357266.0, 142361.0, 378314.0, 138035.0, 136753.0, 357266.0, 122187.0, 268046.0, 357266.0, 142361.0, 107107.0, 138035.0, 332148.0, 88126.0, 88126.0, 332240.0, 107107.0, 54718.0, 378314.0, 138034.0, 237383.0, 174642.0, 123767.0, 355520.0, 121163.0, 452.0, 193716.0, 192973.0, 390107.0, 360915.0, 325181.0, 357266.0, 138033.0, 138033.0, 358160.0, 192973.0, 269953.0, 48971.0, 268046.0, 358160.0, 358160.0, 56041.0, 48971.0, 192973.0, 360915.0, 120116.0, 142820.0, 117493.0, 336114.0, 357212.0, 148908.0, 292409.0, 345173.0, 90548.0, 356531.0, 357354.0, 247396.0, 269798.0, 43010.0, 125457.0, 52075.0, 452.0, 386960.0, 344930.0, 122134.0, 158.0, 329744.0, 271173.0, 324.0, 121153.0, 269798.0, 355520.0, 867.0], [357266.0, 102208.0, 268046.0, 342362.0, 209675.0, 60665.0, 274242.0, 125527.0, 344582.0, 158.0, 267899.0, 324.0, 324.0, 52078.0, 158.0, 52520.0, 209675.0, 60665.0, 256326.0, 256326.0, 52078.0, 324.0, 107692.0, 268046.0, 43010.0, 125527.0, 268046.0, 268046.0, 274242.0, 278011.0, 358809.0, 357266.0, 357266.0, 357761.0, 274242.0, 278011.0, 325741.0, 360915.0, 188386.0, 357266.0, 239291.0, 293518.0, 268046.0, 357266.0, 350362.0, 452.0, 278020.0, 62065.0, 178401.0, 355524.0, 452.0, 268046.0, 357266.0, 350362.0, 358802.0, 190110.0, 125385.0, 250529.0, 54718.0, 165671.0, 81903.0, 81903.0, 188481.0, 265375.0, 57840.0, 357266.0, 274242.0, 278011.0, 174642.0, 71814.0, 346706.0, 360915.0, 45794.0, 60665.0, 287479.0, 119263.0, 332605.0, 42972.0, 42972.0, 42974.0, 360915.0, 188386.0, 298719.0, 361407.0, 452.0, 54718.0, 60665.0, 291378.0, 333121.0, 151349.0, 357266.0, 151761.0, 268046.0, 256278.0, 175199.0, 85795.0, 357645.0, 303670.0, 349472.0, 106190.0, 360915.0, 360915.0, 342362.0, 42972.0, 42972.0, 42974.0, 867.0, 357266.0, 44430.0, 268046.0, 357266.0, 274242.0, 278011.0, 360915.0, 188386.0, 357761.0, 293518.0, 121169.0, 269798.0, 357266.0, 344936.0, 54718.0, 106405.0, 268046.0, 357266.0, 278011.0, 42972.0, 42972.0, 42974.0, 54718.0, 357354.0, 341036.0, 371152.0, 371152.0, 368710.0, 106409.0, 268046.0, 267899.0, 342362.0, 188836.0, 74651.0, 40724.0, 54718.0, 54718.0, 41.0, 111018.0, 151349.0, 274238.0, 306409.0, 158.0, 250392.0, 106001.0, 106001.0, 41.0, 324.0, 42950.0, 381758.0, 151349.0, 336968.0, 337176.0, 173317.0, 42950.0, 42950.0, 357212.0, 192973.0, 295763.0, 191811.0, 336968.0, 337176.0, 131142.0, 357266.0, 190165.0, 452.0, 239291.0, 52077.0, 452.0, 292848.0, 87775.0, 357412.0, 131142.0, 107729.0, 62065.0, 178401.0, 355524.0, 151808.0, 291176.0, 42950.0, 54718.0, 359178.0, 360915.0, 190108.0, 331417.0, 167701.0, 268046.0, 357266.0, 274242.0, 278011.0, 42950.0, 357266.0, 66984.0, 72182.0, 229835.0, 373317.0, 268046.0, 146082.0, 54718.0, 188432.0, 42972.0, 12750.0, 42974.0, 867.0, 151349.0, 358160.0, 302476.0, 357761.0, 342362.0, 58997.0, 268345.0, 303888.0, 360915.0, 60665.0, 60665.0, 452.0, 303939.0, 357266.0, 107829.0, 135310.0, 867.0], [336968.0, 284321.0, 268046.0, 268046.0, 242694.0, 385664.0, 155499.0, 374168.0, 360915.0, 239226.0, 357266.0, 137898.0, 188966.0, 374253.0, 43010.0, 43010.0, 43010.0, 178401.0, 355520.0, 90004.0, 158.0, 158.0, 324.0, 374253.0, 43010.0, 129579.0, 129579.0, 151349.0, 249714.0, 122134.0, 44608.0, 357266.0, 354634.0, 384374.0, 303855.0, 360915.0, 272881.0, 292066.0, 345173.0, 42972.0, 42972.0, 42974.0, 867.0, 357266.0, 239231.0, 385664.0, 92687.0, 272930.0, 371152.0, 54273.0, 59165.0, 62462.0, 158.0, 388711.0, 54273.0, 274289.0, 108067.0, 268046.0, 36169.0, 290377.0, 324.0, 452.0, 374253.0, 295472.0, 286294.0, 190015.0, 158.0, 158.0, 242694.0, 324.0, 268046.0, 42706.0, 62065.0, 41.0, 295540.0, 60665.0, 43010.0, 303873.0, 303873.0, 357266.0, 355520.0, 300364.0, 268046.0, 357266.0, 142818.0, 383514.0, 154323.0, 154323.0, 200331.0, 360915.0, 360915.0, 200331.0, 374253.0, 342882.0, 268046.0, 31126.0, 200389.0, 132276.0, 193513.0, 313329.0, 107696.0, 268046.0, 268046.0, 129606.0, 268046.0, 268046.0, 317183.0, 452.0, 132276.0, 348565.0, 88126.0, 368321.0, 129606.0, 268046.0, 286294.0, 154323.0, 386474.0, 357266.0, 325039.0, 268046.0, 357266.0, 122509.0, 383514.0, 383514.0, 357266.0, 129606.0, 385664.0, 325182.0, 88126.0, 359889.0, 191716.0, 268046.0, 17044.0, 244871.0, 452.0, 225289.0, 137680.0, 360915.0, 360915.0, 357266.0, 248623.0, 175523.0, 150400.0, 150400.0, 65760.0, 346248.0, 54718.0, 279661.0, 190962.0, 385664.0, 281319.0, 374253.0, 105889.0, 63822.0, 336623.0, 151349.0, 117493.0, 117493.0, 357266.0, 305946.0, 355524.0, 385664.0, 109478.0, 188481.0, 45214.0, 388711.0, 357266.0, 89744.0, 114042.0, 267326.0, 292469.0, 360915.0, 239230.0, 374253.0, 326146.0, 178401.0, 295540.0, 341454.0, 242078.0, 158.0, 335635.0, 452.0, 279416.0, 452.0, 397815.0, 452.0, 49932.0, 452.0, 47875.0, 452.0, 260666.0, 324.0, 388711.0, 376147.0, 240636.0, 355524.0, 188481.0, 271173.0, 360915.0, 110707.0, 357266.0, 386897.0, 355520.0, 300364.0, 268046.0, 357266.0, 357266.0, 47798.0, 129579.0, 90006.0, 239231.0, 62065.0, 357266.0, 237347.0, 107670.0, 355520.0, 452.0, 357266.0, 236496.0, 383514.0, 345912.0, 360915.0, 43010.0, 259972.0, 392082.0, 239230.0, 452.0, 107127.0, 357266.0, 341036.0, 268046.0, 357266.0, 106424.0, 371152.0, 357266.0, 142820.0, 106927.0, 867.0], [357266.0, 357266.0, 177231.0, 136616.0, 174642.0, 52477.0, 71814.0, 356561.0, 188481.0, 271173.0, 360915.0, 377635.0, 357354.0, 375441.0, 151349.0, 131664.0, 131664.0, 346373.0, 356595.0, 188836.0, 345173.0, 268046.0, 357266.0, 261971.0, 142368.0, 302192.0, 42972.0, 10064.0, 42974.0, 81562.0, 46462.0, 88126.0, 313432.0, 363634.0, 269798.0, 357266.0, 226546.0, 348412.0, 54718.0, 54718.0, 88126.0, 374253.0, 357266.0, 363635.0, 348406.0, 181611.0, 158.0, 366457.0, 324.0, 242245.0, 42972.0, 42972.0, 42974.0, 151349.0, 363990.0, 360915.0, 357266.0, 142393.0, 341956.0, 268046.0, 316998.0, 316998.0, 193716.0, 383514.0, 106804.0, 357212.0, 357212.0, 363990.0, 110156.0, 264550.0, 231458.0, 43010.0, 331417.0, 188025.0, 269798.0, 357266.0, 300964.0, 104364.0, 452.0, 54718.0, 357645.0, 51582.0, 363634.0, 177231.0, 305946.0, 58997.0, 189083.0, 190959.0, 151349.0, 132276.0, 350014.0, 269798.0, 357266.0, 109527.0, 226546.0, 46462.0, 46462.0, 188481.0, 143954.0, 452.0, 384374.0, 174642.0, 356561.0, 357266.0, 188025.0, 268046.0, 313432.0, 357266.0, 363634.0, 341894.0, 269798.0, 357266.0, 373490.0, 328012.0, 452.0, 54718.0, 152393.0, 262350.0, 378314.0, 363985.0, 360915.0, 351935.0, 285908.0, 452.0, 270201.0, 335129.0, 53977.0, 268046.0, 311798.0, 137256.0, 192973.0, 142371.0, 188481.0, 358160.0, 358160.0, 52520.0, 258609.0, 58997.0, 135212.0, 363990.0, 360915.0, 357266.0, 297271.0, 341956.0, 386474.0, 58997.0, 72478.0, 360915.0, 71090.0, 144971.0, 220815.0, 292766.0, 357109.0, 357266.0, 332120.0, 378314.0, 137256.0, 363894.0, 177231.0, 345171.0, 130319.0, 360915.0, 357354.0, 357354.0, 357354.0, 193716.0, 329916.0, 52520.0, 71090.0, 264597.0, 357212.0, 357266.0, 374163.0, 268046.0, 268046.0, 363634.0, 192973.0, 200058.0, 88126.0, 357266.0, 217449.0, 236132.0, 268046.0, 357266.0, 62500.0, 192214.0, 42972.0, 19410.0, 42974.0, 867.0], [339837.0, 452.0, 54718.0, 47632.0, 188481.0, 278014.0, 452.0, 174032.0, 71814.0, 387160.0, 57844.0, 360915.0, 297580.0, 188481.0, 288211.0, 288211.0, 357266.0, 354634.0, 174032.0, 326146.0, 344585.0, 357212.0, 231458.0, 193716.0, 186365.0, 346835.0, 151349.0, 346373.0, 346373.0, 193716.0, 192973.0, 43010.0, 178401.0, 306450.0, 354662.0, 452.0, 312172.0, 306460.0, 345534.0, 345534.0, 146160.0, 42972.0, 42972.0, 42974.0, 452.0, 54718.0, 176789.0, 52073.0, 357266.0, 155243.0, 220336.0, 319932.0, 268046.0, 357266.0, 288211.0, 216439.0, 112928.0, 452.0, 193919.0, 357871.0, 452.0, 360915.0, 71090.0, 71090.0, 47632.0, 306177.0, 262350.0, 341240.0, 270970.0, 242030.0, 103930.0, 268046.0, 357266.0, 317178.0, 452.0, 336114.0, 317178.0, 291628.0, 192973.0, 304970.0, 304970.0, 52520.0, 452.0, 193716.0, 192973.0, 262963.0, 371152.0, 233708.0, 233708.0, 358160.0, 52074.0, 187656.0, 360915.0, 71090.0, 267326.0, 386495.0, 43010.0, 292848.0, 346373.0, 60665.0, 112928.0, 167701.0, 270970.0, 240636.0, 192973.0, 267461.0, 452.0, 162071.0, 359916.0, 117493.0, 62065.0, 216439.0, 270970.0, 270970.0, 306450.0, 42972.0, 42972.0, 42974.0, 867.0, 193716.0, 192973.0, 358160.0, 148339.0, 146154.0, 357212.0, 294049.0, 233708.0, 268046.0, 357266.0, 250392.0, 142400.0, 289442.0, 268046.0, 47632.0, 151349.0, 345197.0, 288211.0, 112941.0, 452.0, 60665.0, 193716.0, 192973.0, 264937.0, 289446.0, 360915.0, 383736.0, 112928.0, 167701.0, 452.0, 112928.0, 240636.0, 452.0, 54718.0, 54718.0, 388747.0, 112949.0, 62065.0, 357266.0, 216439.0, 319932.0, 452.0, 323393.0, 182540.0, 344936.0, 142060.0, 54718.0, 224573.0, 106927.0, 189767.0, 189767.0, 47632.0, 174032.0, 43010.0, 387138.0, 300364.0, 268046.0, 123767.0, 239236.0, 247453.0, 452.0, 54718.0, 452.0, 388711.0, 357266.0, 141863.0, 188949.0, 265557.0, 268046.0, 155212.0, 155212.0, 288221.0, 63822.0, 158.0, 132176.0, 42972.0, 13507.0, 42974.0, 324.0, 452.0, 357266.0, 83326.0, 268046.0, 142832.0, 357212.0, 90548.0, 71090.0, 92687.0, 272930.0, 388711.0, 43010.0, 332395.0, 229430.0, 192973.0, 52520.0, 269953.0, 268046.0, 357266.0, 354635.0, 62804.0, 867.0], [55973.0, 292852.0, 58997.0, 387160.0, 374168.0, 151349.0, 293809.0, 52779.0, 52078.0, 47889.0, 109577.0, 42972.0, 2479.0, 42974.0, 867.0, 357266.0, 306712.0, 148269.0, 58997.0, 106391.0, 268046.0, 53955.0, 52775.0, 54718.0, 107692.0, 268046.0, 43010.0, 304970.0, 357852.0, 452.0, 289062.0, 452.0, 273047.0, 304237.0, 54718.0, 43010.0, 357992.0, 452.0, 263253.0, 452.0, 190316.0, 304237.0, 42972.0, 15687.0, 42974.0, 867.0, 357266.0, 289062.0, 304237.0, 108008.0, 357266.0, 231345.0, 289006.0, 268046.0, 357266.0, 148224.0, 452.0, 386474.0, 143024.0, 154323.0, 357266.0, 148224.0, 348406.0, 360915.0, 357266.0, 69353.0, 69353.0, 258155.0, 357266.0, 148224.0, 348406.0, 452.0, 329789.0, 452.0, 188798.0, 289006.0, 58997.0, 52520.0, 291753.0, 452.0, 386960.0, 167701.0, 343839.0, 188481.0, 357266.0, 132422.0, 341178.0, 268046.0, 268046.0, 357266.0, 123214.0, 268046.0, 357266.0, 231345.0, 289006.0, 54718.0, 357266.0, 357871.0, 268046.0, 357266.0, 190316.0, 452.0, 69353.0, 304237.0, 58997.0, 121166.0, 269798.0, 357266.0, 289872.0, 57844.0, 131142.0, 55973.0, 452.0, 388711.0, 368710.0, 368710.0, 268046.0, 268046.0, 42972.0, 22256.0, 42974.0, 867.0, 345173.0, 268046.0, 192323.0, 244022.0, 188481.0, 188481.0, 54718.0, 289062.0, 55970.0, 52775.0, 148269.0, 174642.0, 374387.0, 152393.0, 43010.0, 364123.0, 265557.0, 268046.0, 268046.0, 192341.0, 268046.0, 268046.0, 42972.0, 30579.0, 42974.0, 867.0, 131142.0, 357266.0, 151761.0, 268046.0, 289062.0, 148269.0, 452.0, 357266.0, 273339.0, 244021.0, 244021.0, 192341.0, 452.0, 107835.0, 357266.0, 305152.0, 268046.0, 357266.0, 192323.0, 113946.0, 452.0, 58997.0, 134713.0, 360915.0, 357266.0, 135190.0, 62065.0, 357266.0, 289001.0, 69767.0, 42972.0, 36169.0, 42974.0, 867.0, 357266.0, 135212.0, 113946.0, 188481.0, 357266.0, 69353.0, 304237.0, 192973.0, 159426.0, 107670.0, 360915.0, 71090.0, 71090.0, 357266.0, 357871.0, 268046.0, 357266.0, 69353.0, 304237.0, 452.0, 386474.0, 192973.0, 304970.0, 107783.0, 131142.0, 357266.0, 167701.0, 268046.0, 43010.0, 148224.0, 371152.0, 134678.0, 43010.0, 107783.0, 289872.0, 270970.0, 107783.0, 113946.0, 120991.0, 452.0, 192973.0, 231141.0, 88126.0, 43010.0, 66984.0, 74651.0, 167701.0, 268046.0, 357266.0, 69353.0, 218659.0, 88126.0, 108154.0, 274238.0, 268046.0, 357266.0, 52779.0, 346197.0, 54718.0, 357997.0, 268046.0, 357266.0, 69353.0, 218659.0, 88126.0, 134678.0, 134678.0, 125706.0, 268046.0, 357266.0, 52775.0, 62065.0, 357266.0, 289001.0, 69767.0, 42972.0, 38601.0, 42974.0, 270970.0, 270970.0, 150400.0, 268046.0, 52775.0, 154323.0, 357266.0, 69353.0, 218659.0, 360915.0, 357266.0, 289001.0, 382770.0, 42972.0, 42972.0, 42974.0, 867.0, 357266.0, 289006.0, 237383.0, 71090.0, 387163.0, 363080.0, 357266.0, 148224.0, 348406.0, 88126.0, 98017.0, 125706.0, 360915.0, 54273.0, 143048.0, 121166.0, 269798.0, 357266.0, 55973.0, 106927.0, 867.0], [188481.0, 357266.0, 89639.0, 151349.0, 357266.0, 151761.0, 137256.0, 452.0, 357266.0, 82218.0, 333429.0, 192973.0, 325899.0, 360915.0, 360915.0, 452.0, 386432.0, 43317.0, 192973.0, 357266.0, 71001.0, 146082.0, 218072.0, 218072.0, 151349.0, 51582.0, 89639.0, 281445.0, 81903.0, 106927.0, 54718.0, 107783.0, 380844.0, 58997.0, 58997.0, 357266.0, 249036.0, 92271.0, 51274.0, 374168.0, 360915.0, 122190.0, 357266.0, 226546.0, 137256.0, 107106.0, 268046.0, 357266.0, 103315.0, 42972.0, 20995.0, 42974.0, 192973.0, 271352.0, 60665.0, 60665.0, 148908.0, 452.0, 357266.0, 137235.0, 268046.0, 380537.0, 388756.0, 176372.0, 58997.0, 58997.0, 43010.0, 374903.0, 192973.0, 191916.0, 191811.0, 357266.0, 332179.0, 94956.0, 54718.0, 357266.0, 350362.0, 192973.0, 245262.0, 374253.0, 43010.0, 107364.0, 165549.0, 51274.0, 452.0, 393812.0, 43010.0, 332395.0, 374903.0, 151761.0, 137256.0, 141677.0, 268046.0, 268046.0, 260309.0, 452.0, 357266.0, 62482.0, 388711.0, 357266.0, 178572.0, 289872.0, 137256.0, 192973.0, 305355.0, 154323.0, 357266.0, 350362.0, 54718.0, 47887.0, 357266.0, 350362.0, 192973.0, 192973.0, 358160.0, 320539.0, 192973.0, 193855.0, 108154.0, 360915.0, 111448.0, 380537.0, 373317.0, 360915.0, 357266.0, 265557.0, 268046.0, 353325.0, 374902.0, 54718.0, 357266.0, 151761.0, 137256.0, 268046.0, 132276.0, 192973.0, 192973.0, 260309.0, 452.0, 176372.0, 62500.0, 58997.0, 191916.0, 360915.0, 357266.0, 357266.0, 357266.0, 362760.0, 350362.0, 137256.0, 192973.0, 239228.0, 54718.0, 54718.0, 62065.0, 358160.0, 287479.0, 452.0, 43010.0, 242399.0, 237929.0, 320539.0, 42972.0, 21319.0, 42974.0, 192973.0, 374168.0, 360915.0, 148427.0, 357266.0, 226394.0, 137256.0, 137256.0, 141941.0, 176372.0, 188481.0, 357266.0, 350362.0, 192973.0, 300320.0, 125534.0, 154323.0, 193919.0, 333113.0, 373317.0, 360915.0, 43010.0, 237347.0, 268046.0, 268046.0, 158.0, 158.0, 452.0, 357266.0, 114166.0, 268074.0, 125728.0, 151349.0, 151349.0, 191142.0, 324.0, 188481.0, 132276.0, 268046.0, 357266.0, 391291.0, 452.0, 392261.0, 54718.0, 395262.0, 124754.0, 54718.0, 357412.0, 245262.0, 374253.0, 357266.0, 107364.0, 165549.0, 165549.0, 132276.0, 85790.0, 192973.0, 108154.0, 151349.0, 43010.0, 245274.0, 268046.0, 4963.0, 4963.0, 47798.0, 357212.0, 452.0, 357266.0, 322775.0, 387696.0, 71090.0, 356182.0, 186645.0, 357266.0, 350362.0, 137256.0, 126848.0, 264550.0, 129579.0, 388747.0, 43010.0, 155499.0, 4961.0, 4961.0, 43010.0, 320534.0, 268046.0, 358160.0, 193854.0, 292848.0, 192973.0, 330028.0, 188481.0, 147946.0, 2479.0, 867.0], [358160.0, 323165.0, 192973.0, 122590.0, 360915.0, 357266.0, 125142.0, 268046.0, 357266.0, 357266.0, 138623.0, 54718.0, 360915.0, 357266.0, 54431.0, 268046.0, 125527.0, 54718.0, 123811.0, 123811.0, 151349.0, 123767.0, 288239.0, 288239.0, 357266.0, 357266.0, 108161.0, 156663.0, 242245.0, 107670.0, 103077.0, 306289.0, 357266.0, 151981.0, 291763.0, 188481.0, 42972.0, 36169.0, 42974.0, 867.0, 322968.0, 16771.0, 121734.0, 188481.0, 122128.0, 357266.0, 121479.0, 268046.0, 357266.0, 357266.0, 357266.0, 292794.0, 60665.0, 57844.0, 360915.0, 384042.0, 337177.0, 452.0, 154323.0, 386474.0, 357266.0, 305032.0, 305032.0, 90548.0, 71090.0, 71090.0, 357266.0, 192172.0, 93018.0, 158.0, 222960.0, 47013.0, 324.0, 192973.0, 357412.0, 46246.0, 188481.0, 322968.0, 16800.0, 452.0, 386432.0, 357266.0, 310672.0, 268046.0, 292261.0, 54718.0, 323096.0, 323096.0, 192973.0, 125162.0, 154323.0, 357266.0, 281957.0, 191916.0, 188481.0, 42972.0, 40724.0, 42974.0, 867.0, 357266.0, 379729.0, 93018.0, 192973.0, 346120.0, 107670.0, 188481.0, 322968.0, 16826.0, 452.0, 386432.0, 386432.0, 58997.0, 330028.0, 360915.0, 146154.0, 192855.0, 272059.0, 151349.0, 292803.0, 344865.0, 127303.0, 88126.0, 134678.0, 108353.0, 270970.0, 123811.0, 867.0], [252471.0, 150429.0, 58997.0, 105990.0, 452.0, 188481.0, 143954.0, 297928.0, 159391.0, 452.0, 188481.0, 138118.0, 54718.0, 189431.0, 189431.0, 84531.0, 357761.0, 237383.0, 71090.0, 247389.0, 60665.0, 108161.0, 292803.0, 386432.0, 283061.0, 58997.0, 246677.0, 158.0, 132176.0, 132176.0, 132176.0, 42972.0, 25335.0, 42974.0, 452.0, 323285.0, 364123.0, 42972.0, 12750.0, 42974.0, 324.0, 270970.0, 191295.0, 292803.0, 386432.0, 283061.0, 58997.0, 125762.0, 54718.0, 191135.0, 62065.0, 357266.0, 191295.0, 158.0, 132176.0, 132176.0, 190201.0, 250777.0, 42972.0, 17991.0, 42974.0, 452.0, 223475.0, 197189.0, 83383.0, 42972.0, 27558.0, 42974.0, 324.0, 867.0, 188481.0, 337259.0, 93054.0, 150429.0, 341875.0, 60665.0, 191295.0, 292803.0, 87775.0, 60665.0, 246698.0, 267462.0, 62065.0, 357266.0, 191295.0, 357810.0, 71585.0, 133901.0, 108161.0, 452.0, 62065.0, 219145.0, 219145.0, 49059.0, 137972.0, 452.0, 281353.0, 130319.0, 360915.0, 384039.0, 83369.0, 452.0, 192973.0, 54273.0, 267358.0, 267358.0, 384374.0, 107661.0, 177231.0, 368421.0, 191295.0, 292803.0, 386432.0, 357266.0, 191295.0, 305158.0, 125762.0, 54718.0, 357266.0, 120991.0, 123763.0, 192973.0, 178401.0, 452.0, 132176.0, 49059.0, 54718.0, 383772.0, 452.0, 54718.0, 386432.0, 269953.0, 283048.0, 237383.0, 71090.0, 107670.0, 107670.0, 357266.0, 191295.0, 192973.0, 363973.0, 54718.0, 237383.0, 71585.0, 178623.0, 125784.0, 54718.0, 54718.0, 346373.0, 292803.0, 174642.0, 71814.0, 351238.0, 388711.0, 388711.0, 242260.0, 374253.0, 281445.0, 158.0, 270970.0, 46136.0, 324.0, 324.0, 270970.0, 46224.0, 283048.0, 363409.0, 155226.0, 42972.0, 27558.0, 42974.0, 867.0, 182573.0, 452.0, 357761.0, 57924.0, 90548.0, 71090.0, 359893.0, 360915.0, 188217.0, 54718.0, 293425.0, 360915.0, 139205.0, 188481.0, 348406.0, 306002.0, 42972.0, 31126.0, 42974.0, 270970.0, 236058.0, 107631.0, 42972.0, 24747.0, 42974.0, 867.0], [193716.0, 192973.0, 191290.0, 360915.0, 297162.0, 357266.0, 133907.0, 268046.0, 357266.0, 320938.0, 265557.0, 54718.0, 357266.0, 98017.0, 302192.0, 300964.0, 269798.0, 357266.0, 357266.0, 106697.0, 268046.0, 65064.0, 188481.0, 188481.0, 357266.0, 117493.0, 110156.0, 291753.0, 188273.0, 189825.0, 269798.0, 141705.0, 357266.0, 138118.0, 188033.0, 268046.0, 357266.0, 119541.0, 292984.0, 268046.0, 65064.0, 452.0, 60665.0, 385218.0, 60665.0, 45543.0, 268046.0, 383772.0, 88126.0, 357266.0, 98017.0, 98017.0, 177231.0, 452.0, 357266.0, 357266.0, 106697.0, 268046.0, 65064.0, 192973.0, 119365.0, 88126.0, 158.0, 19410.0, 324.0, 324.0, 158.0, 158.0, 324.0, 324.0, 147946.0, 10741.0, 121186.0, 357266.0, 133896.0, 268046.0, 357266.0, 320938.0, 54718.0, 357266.0, 98017.0, 302192.0, 300964.0, 269798.0, 357266.0, 357266.0, 106697.0, 106697.0, 193716.0, 192973.0, 390093.0, 360915.0, 241108.0, 177231.0, 357212.0, 357266.0, 357266.0, 106697.0, 268046.0, 65064.0, 302175.0, 57951.0, 1954.0, 60665.0, 357266.0, 98017.0, 302192.0, 300964.0, 54718.0, 357266.0, 320938.0, 265557.0, 188946.0, 360915.0, 189694.0, 452.0, 54718.0, 357266.0, 106697.0, 192973.0, 335162.0, 357109.0, 357266.0, 138656.0, 106697.0, 268046.0, 43010.0, 62065.0, 357266.0, 357266.0, 358160.0, 148016.0, 189163.0, 357212.0, 293184.0, 268046.0, 357266.0, 98017.0, 302192.0, 192973.0, 337307.0, 191303.0, 88126.0, 367485.0, 246698.0, 188481.0, 383772.0, 452.0, 54718.0, 357266.0, 133928.0, 268046.0, 357266.0, 98017.0, 302192.0, 192973.0, 373317.0, 360915.0, 57951.0, 34115.0, 41.0, 867.0, 357266.0, 133928.0, 268046.0, 357266.0, 98017.0, 302192.0, 188481.0, 383772.0, 387696.0, 71090.0, 43010.0, 155211.0, 268046.0, 357266.0, 307496.0, 265557.0, 268046.0, 357266.0, 383772.0, 150400.0, 452.0, 54718.0, 357266.0, 133928.0, 110156.0, 188946.0, 60665.0, 357266.0, 307496.0, 265557.0, 265557.0, 384374.0, 258451.0, 54273.0, 143043.0, 192129.0, 269798.0, 357266.0, 133928.0, 268046.0, 357266.0, 58133.0, 98017.0, 302192.0, 188481.0, 357266.0, 258155.0, 155653.0, 360915.0, 143024.0, 357266.0, 306717.0, 268046.0, 358160.0, 345195.0, 155499.0, 360915.0, 139953.0, 290454.0, 247392.0, 151349.0, 357266.0, 158016.0, 142368.0, 74651.0, 49059.0, 54718.0, 383772.0, 867.0], [56041.0, 99771.0, 383514.0, 360915.0, 165638.0, 357266.0, 150536.0, 167650.0, 269798.0, 357266.0, 108783.0, 388711.0, 155212.0, 155212.0, 92985.0, 140185.0, 50256.0, 42972.0, 31770.0, 42974.0, 350264.0, 54273.0, 45783.0, 45783.0, 388711.0, 280547.0, 280547.0, 323533.0, 378206.0, 165643.0, 150536.0, 167650.0, 191811.0, 43010.0, 288104.0, 158.0, 87943.0, 87943.0, 87943.0, 45782.0, 324.0, 300313.0, 108782.0, 358802.0, 358802.0, 124005.0, 124005.0, 124005.0, 140185.0, 50256.0, 42972.0, 42972.0, 42974.0, 345171.0, 357266.0, 103930.0, 293518.0, 268046.0, 150536.0, 45783.0, 108783.0, 69725.0, 269798.0, 247018.0, 452.0, 65292.0, 452.0, 54718.0, 54718.0, 242218.0, 158.0, 176624.0, 324.0, 867.0, 357810.0, 277983.0, 140043.0, 184861.0, 155217.0, 268046.0, 176624.0, 388711.0, 388711.0, 388711.0, 45534.0, 54718.0, 113859.0, 357266.0, 288211.0, 388711.0, 388711.0, 240298.0, 151726.0, 151726.0, 346373.0, 242260.0, 385664.0, 346835.0, 151349.0, 357266.0, 350256.0, 268046.0, 108783.0, 108005.0, 106356.0, 150536.0, 167650.0, 270970.0, 123789.0, 360915.0, 71090.0, 294038.0, 124758.0, 88126.0, 224021.0, 288216.0, 867.0], [384374.0, 118258.0, 388711.0, 357266.0, 191051.0, 320188.0, 88126.0, 43010.0, 300313.0, 246721.0, 268046.0, 268046.0, 279602.0, 279602.0, 357266.0, 51274.0, 374168.0, 88126.0, 374021.0, 360915.0, 141702.0, 357266.0, 357266.0, 286799.0, 88126.0, 325966.0, 268046.0, 277135.0, 288211.0, 342707.0, 192973.0, 377946.0, 377946.0, 384374.0, 97773.0, 193716.0, 360915.0, 71090.0, 46390.0, 188481.0, 357266.0, 302892.0, 108665.0, 300364.0, 371152.0, 192129.0, 42972.0, 1681.0, 42955.0, 296319.0, 158.0, 158.0, 324.0, 324.0, 42974.0, 106192.0, 357266.0, 306717.0, 388711.0, 249714.0, 291186.0, 291186.0, 357266.0, 320190.0, 95299.0, 58997.0, 186399.0, 388711.0, 388711.0, 305825.0, 47798.0, 43010.0, 107783.0, 125728.0, 268046.0, 268046.0, 52318.0, 344148.0, 222999.0, 104661.0, 388711.0, 357266.0, 342681.0, 64439.0, 452.0, 5382.0, 320190.0, 95299.0, 72182.0, 285915.0, 269798.0, 132276.0, 342681.0, 42950.0, 357266.0, 320190.0, 88126.0, 62500.0, 72763.0, 360915.0, 96165.0, 150932.0, 192973.0, 192973.0, 357266.0, 277135.0, 342681.0, 64439.0, 58997.0, 125557.0, 45217.0, 360915.0, 43010.0, 177957.0, 325991.0, 399907.0, 43010.0, 311988.0, 57954.0, 360915.0, 357266.0, 248699.0, 452.0, 452.0, 344936.0, 268046.0, 279602.0, 399907.0, 54718.0, 357266.0, 320190.0, 95299.0, 174642.0, 357266.0, 316998.0, 64444.0, 108668.0, 188481.0, 51582.0, 357266.0, 357266.0, 119368.0, 54273.0, 190940.0, 185457.0, 163745.0, 154323.0, 2479.0, 360915.0, 357266.0, 362760.0, 265557.0, 265557.0, 268046.0, 320190.0, 95299.0, 452.0, 384374.0, 174642.0, 158.0, 296319.0, 42955.0, 2479.0, 324.0, 42972.0, 40724.0, 42974.0, 158.0, 15239.0, 324.0, 324.0, 158.0, 296319.0, 324.0, 324.0, 158.0, 158.0, 324.0, 324.0, 158.0, 158.0, 324.0, 324.0, 42950.0, 42950.0, 158.0, 158.0, 324.0, 15341.0, 42950.0, 42950.0, 74932.0, 452.0, 71048.0, 306511.0, 58997.0, 357266.0, 320190.0, 220345.0, 268046.0, 184780.0, 54718.0, 122332.0, 452.0, 452.0, 192973.0, 357266.0, 125728.0, 74651.0, 88542.0, 62500.0, 452.0, 452.0, 192973.0, 357266.0, 123801.0, 55283.0, 54718.0, 399670.0, 357266.0, 357266.0, 357266.0, 357266.0, 88542.0, 62482.0, 108665.0, 52318.0, 357266.0, 342681.0, 64465.0, 192973.0, 397286.0, 54718.0, 54718.0, 192973.0, 357266.0, 125728.0, 74651.0, 357266.0, 342681.0, 64439.0, 386432.0, 357266.0, 62500.0, 185457.0, 54718.0, 194437.0, 194437.0, 151349.0, 51582.0, 357266.0, 342707.0, 384374.0, 174642.0, 357266.0, 316998.0, 325899.0, 268046.0, 397286.0, 397286.0, 357266.0, 347147.0, 188481.0, 188481.0, 158.0, 15239.0, 324.0, 192973.0, 143026.0, 360915.0, 51582.0, 357266.0, 342707.0, 268046.0, 357266.0, 112933.0, 127210.0, 452.0, 323337.0, 147996.0, 15341.0, 54718.0, 4961.0, 151349.0, 142285.0, 867.0], [357266.0, 270879.0, 293518.0, 268046.0, 97103.0, 142389.0, 58997.0, 188273.0, 151349.0, 371429.0, 271342.0, 324627.0, 324627.0, 357266.0, 190201.0, 268046.0, 135111.0, 97097.0, 191811.0, 271342.0, 236514.0, 287669.0, 357266.0, 348567.0, 54718.0, 96737.0, 357266.0, 80261.0, 220345.0, 59937.0, 193716.0, 452.0, 346373.0, 54273.0, 142388.0, 192973.0, 119365.0, 60665.0, 43010.0, 97103.0, 97103.0, 44812.0, 268046.0, 222292.0, 54718.0, 150525.0, 297499.0, 88126.0, 88126.0, 58997.0, 188273.0, 193642.0, 188481.0, 357266.0, 270617.0, 268046.0, 271342.0, 270935.0, 270935.0, 193716.0, 192973.0, 278020.0, 305032.0, 360915.0, 357266.0, 122455.0, 268046.0, 135115.0, 295217.0, 295217.0, 388711.0, 302801.0, 46998.0, 188481.0, 236514.0, 293518.0, 54718.0, 270879.0, 121839.0, 357266.0, 217713.0, 358724.0, 268046.0, 271342.0, 344940.0, 371152.0, 270879.0, 295228.0, 192973.0, 264937.0, 226394.0, 137680.0, 360915.0, 136748.0, 295228.0, 88126.0, 190436.0, 217666.0, 124524.0, 42972.0, 42972.0, 42974.0, 54718.0, 219430.0, 42972.0, 26559.0, 42974.0, 386474.0, 192973.0, 293358.0, 151349.0, 143821.0, 268046.0, 377946.0, 325034.0, 226408.0, 122511.0, 151349.0, 151349.0, 54718.0, 54718.0, 42972.0, 30579.0, 42974.0, 867.0, 182573.0, 452.0, 222292.0, 44812.0, 88126.0, 190199.0, 97107.0, 174032.0, 71814.0, 305946.0, 360915.0, 71090.0, 357266.0, 231345.0, 267298.0, 360915.0, 135115.0, 295217.0, 217713.0, 42972.0, 36169.0, 42974.0, 867.0, 190199.0, 97107.0, 90548.0, 52520.0, 297494.0, 227533.0, 60665.0, 357810.0, 45094.0, 137256.0, 154323.0, 142404.0, 88126.0, 306464.0, 306464.0, 191142.0, 54718.0, 358160.0, 192973.0, 54273.0, 188273.0, 225967.0, 239301.0, 188481.0, 271342.0, 219430.0, 60665.0, 385218.0, 60665.0, 188481.0, 188481.0, 44812.0, 112402.0, 268046.0, 268046.0, 58997.0, 264550.0, 209675.0, 360915.0, 357266.0, 121874.0, 45289.0, 71494.0, 268046.0, 357266.0, 123792.0, 268046.0, 297163.0, 357266.0, 97097.0, 120991.0, 190199.0, 191811.0, 357266.0, 357266.0, 292066.0, 345173.0, 374168.0, 108314.0, 135114.0, 190201.0, 268046.0, 97107.0, 188481.0, 372140.0, 122511.0, 358802.0, 107977.0, 135176.0, 54718.0, 54718.0, 97097.0, 247243.0, 239231.0, 360915.0, 140079.0, 357266.0, 97097.0, 120990.0, 386474.0, 385664.0, 106190.0, 388711.0, 357266.0, 375636.0, 267326.0, 88126.0, 88126.0, 54431.0, 54718.0, 357266.0, 368321.0, 306717.0, 123762.0, 88126.0, 43010.0, 143981.0, 268046.0, 358549.0, 42972.0, 38731.0, 42974.0, 867.0], [373317.0, 360915.0, 264937.0, 452.0, 250015.0, 345173.0, 268046.0, 357266.0, 252406.0, 288214.0, 236514.0, 174642.0, 71814.0, 92687.0, 272930.0, 88126.0, 376147.0, 243304.0, 54718.0, 320190.0, 320190.0, 270879.0, 243303.0, 452.0, 364051.0, 135204.0, 243303.0, 158.0, 355604.0, 324.0, 452.0, 320050.0, 135204.0, 243303.0, 158.0, 324780.0, 324.0, 54718.0, 62484.0, 151407.0, 243303.0, 158.0, 158.0, 324.0, 58997.0, 105889.0, 63822.0, 54718.0, 387160.0, 387160.0, 357266.0, 75824.0, 47002.0, 268046.0, 243308.0, 192973.0, 357212.0, 357810.0, 294037.0, 191963.0, 191963.0, 306004.0, 268046.0, 357266.0, 376147.0, 376147.0, 182573.0, 452.0, 386424.0, 193716.0, 105678.0, 360915.0, 399931.0, 239231.0, 399936.0, 452.0, 139731.0, 188481.0, 43010.0, 297167.0, 384122.0, 452.0, 243308.0, 337305.0, 215522.0, 43010.0, 342069.0, 45289.0, 130319.0, 360915.0, 357266.0, 335129.0, 147810.0, 268046.0, 268046.0, 188481.0, 108256.0, 452.0, 357266.0, 320190.0, 242260.0, 294037.0, 251645.0, 43010.0, 347948.0, 342069.0, 45289.0, 357109.0, 357212.0, 268046.0, 243308.0, 332148.0, 71494.0, 357266.0, 267256.0, 380844.0, 192973.0, 217469.0, 357109.0, 357212.0, 268046.0, 357266.0, 357266.0, 269953.0, 253767.0, 305224.0, 452.0, 182573.0, 452.0, 357212.0, 357266.0, 320190.0, 242260.0, 264180.0, 306173.0, 399931.0, 158.0, 185221.0, 324.0, 247396.0, 399936.0, 151349.0, 117493.0, 54431.0, 188481.0, 46990.0, 42867.0, 357810.0, 126552.0, 264550.0, 294037.0, 54273.0, 191963.0, 190606.0, 191811.0, 357266.0, 250017.0, 60665.0, 126848.0, 126848.0, 47798.0, 51582.0, 452.0, 151349.0, 357266.0, 106326.0, 97028.0, 268046.0, 43010.0, 339034.0, 250018.0, 452.0, 269953.0, 237383.0, 258451.0, 360915.0, 148908.0, 209645.0, 357266.0, 250017.0, 154323.0, 357266.0, 243308.0, 54718.0, 346120.0, 360915.0, 141702.0, 357266.0, 344930.0, 277191.0, 88126.0, 320190.0, 269798.0, 357266.0, 69895.0, 268046.0, 357266.0, 250018.0, 42950.0, 357266.0, 368321.0, 242260.0, 58997.0, 106318.0, 867.0], [269953.0, 348406.0, 383514.0, 357412.0, 287838.0, 54718.0, 102443.0, 374253.0, 43010.0, 293912.0, 121851.0, 360915.0, 135471.0, 60665.0, 251645.0, 251645.0, 108017.0, 60665.0, 60665.0, 358160.0, 192973.0, 60665.0, 151063.0, 42867.0, 357266.0, 218947.0, 348406.0, 383514.0, 287838.0, 88126.0, 172466.0, 374253.0, 43010.0, 116477.0, 44680.0, 124978.0, 158.0, 158.0, 186986.0, 186986.0, 324.0, 360915.0, 305354.0, 379782.0, 348406.0, 119273.0, 54718.0, 360915.0, 142943.0, 43010.0, 153836.0, 242030.0, 242030.0, 110494.0, 385664.0, 357412.0, 287838.0, 374253.0, 43010.0, 325299.0, 268046.0, 123223.0, 287841.0, 388711.0, 118967.0, 278008.0, 333434.0, 158.0, 158.0, 452.0, 452.0, 452.0, 452.0, 86164.0, 86164.0, 86164.0, 288153.0, 123223.0, 348719.0, 324.0, 867.0, 43010.0, 287842.0, 103105.0, 158.0, 86164.0, 86164.0, 86164.0, 324.0, 383514.0, 319129.0, 388711.0, 357266.0, 57927.0, 123223.0, 123223.0, 43010.0, 114137.0, 197641.0, 149174.0, 360915.0, 54273.0, 63652.0, 287839.0, 158.0, 86164.0, 86164.0, 86164.0, 5587.0, 324.0, 383514.0, 374168.0, 360915.0, 180484.0, 357266.0, 110494.0, 188481.0, 285908.0, 131142.0, 63650.0, 63650.0, 110494.0, 385664.0, 287838.0, 151349.0, 11446.0, 374253.0, 132276.0, 123223.0, 348719.0, 151055.0, 88126.0, 308991.0, 388711.0, 388711.0, 158.0, 42656.0, 41.0, 452.0, 302282.0, 165534.0, 324.0, 54718.0, 102449.0, 188481.0, 188481.0, 151349.0, 33515.0, 188481.0, 54273.0, 370375.0, 370375.0, 47798.0, 287842.0, 388711.0, 357266.0, 357266.0, 123223.0, 348719.0, 452.0, 357266.0, 110494.0, 385664.0, 385664.0, 102443.0, 188481.0, 188481.0, 151349.0, 151349.0, 452.0, 388711.0, 153836.0, 153836.0, 151349.0, 132276.0, 102449.0, 102449.0, 287838.0, 110494.0, 385664.0, 343876.0, 188481.0, 188481.0, 373140.0, 306174.0, 867.0], [357682.0, 281311.0, 268046.0, 357266.0, 335202.0, 388091.0, 174032.0, 71814.0, 291288.0, 371152.0, 123767.0, 332176.0, 277191.0, 256057.0, 452.0, 124729.0, 336835.0, 298719.0, 191051.0, 452.0, 53278.0, 355520.0, 452.0, 383772.0, 190277.0, 355520.0, 452.0, 54718.0, 383772.0, 150400.0, 150400.0, 147946.0, 6765.0, 330039.0, 43010.0, 317178.0, 268046.0, 355520.0, 125818.0, 268046.0, 51582.0, 388091.0, 106384.0, 62065.0, 43010.0, 286068.0, 278423.0, 358802.0, 357266.0, 181737.0, 388091.0, 323526.0, 69725.0, 269798.0, 332179.0, 283877.0, 106927.0, 223634.0, 269798.0, 351098.0, 23046.0, 332179.0, 117493.0, 174032.0, 71814.0, 104983.0, 154323.0, 51582.0, 346329.0, 346329.0, 357266.0, 133896.0, 268046.0, 188949.0, 124729.0, 336835.0, 298719.0, 269798.0, 81562.0, 336835.0, 95005.0, 54718.0, 383772.0, 355524.0, 192973.0, 330028.0, 188481.0, 147946.0, 147946.0, 358549.0, 123767.0, 332181.0, 385664.0, 281319.0, 61766.0, 124729.0, 336835.0, 298719.0, 191050.0, 268046.0, 27825.0, 452.0, 34330.0, 452.0, 54718.0, 54718.0, 188786.0, 269798.0, 357266.0, 388091.0, 399913.0, 314370.0, 154357.0, 276353.0, 388711.0, 325899.0, 53278.0, 355520.0, 452.0, 383772.0, 190277.0, 355520.0, 54718.0, 383772.0, 150400.0, 300964.0, 268046.0, 306511.0, 306511.0, 452.0, 452.0, 54718.0, 54718.0, 383772.0, 355520.0, 383514.0, 152393.0, 360915.0, 188946.0, 88126.0, 88126.0, 60665.0, 193716.0, 278380.0, 358802.0, 357266.0, 366775.0, 452.0, 92753.0, 357266.0, 336835.0, 95005.0, 452.0, 154323.0, 219577.0, 360915.0, 308561.0, 151349.0, 357266.0, 81655.0, 250392.0, 372211.0, 62065.0, 62065.0, 268046.0, 124729.0, 188786.0, 336835.0, 298719.0, 867.0], [264588.0, 357212.0, 357266.0, 297167.0, 191921.0, 268046.0, 43010.0, 302201.0, 155217.0, 191811.0, 357266.0, 288211.0, 96165.0, 136979.0, 90548.0, 71090.0, 132569.0, 45458.0, 88126.0, 46785.0, 357266.0, 224021.0, 310980.0, 354634.0, 139731.0, 374253.0, 357266.0, 321320.0, 368669.0, 248207.0, 248207.0, 190188.0, 42972.0, 42972.0, 42974.0, 867.0, 357266.0, 142428.0, 291628.0, 268046.0, 268046.0, 268046.0, 288221.0, 158.0, 302344.0, 88126.0, 43010.0, 224021.0, 288216.0, 388711.0, 297167.0, 190184.0, 324.0, 90548.0, 71090.0, 57844.0, 264550.0, 270201.0, 360915.0, 291634.0, 78339.0, 108783.0, 158.0, 43973.0, 324.0, 110482.0, 388711.0, 56041.0, 224021.0, 288216.0, 354635.0, 42972.0, 35381.0, 42974.0, 452.0, 87775.0, 52520.0, 151349.0, 291628.0, 268046.0, 268046.0, 452.0, 60665.0, 121731.0, 121731.0, 188481.0, 108256.0, 452.0, 357266.0, 190184.0, 133928.0, 192973.0, 264550.0, 52879.0, 281272.0, 60665.0, 323432.0, 188481.0, 357266.0, 248207.0, 248207.0, 190189.0, 452.0, 71494.0, 125702.0, 268046.0, 222265.0, 158.0, 290408.0, 140214.0, 324.0, 329916.0, 71090.0, 306174.0, 360915.0, 159435.0, 357266.0, 93594.0, 45863.0, 339029.0, 188481.0, 357266.0, 310980.0, 388711.0, 357266.0, 313794.0, 91765.0, 93591.0, 158.0, 320539.0, 15341.0, 324.0, 42972.0, 42972.0, 42974.0, 867.0, 54273.0, 138656.0, 74651.0, 108671.0, 54718.0, 125702.0, 268046.0, 290408.0, 329916.0, 71090.0, 291753.0, 141816.0, 188481.0, 357266.0, 293485.0, 292848.0, 452.0, 54718.0, 305879.0, 268046.0, 171924.0, 388711.0, 357266.0, 272583.0, 55596.0, 222265.0, 158.0, 54738.0, 305879.0, 268046.0, 290408.0, 388711.0, 357266.0, 272583.0, 259856.0, 127685.0, 127685.0, 324.0, 90548.0, 52520.0, 71090.0, 107670.0, 60665.0, 357266.0, 292766.0, 330916.0, 330916.0, 188271.0, 268046.0, 374253.0, 357266.0, 248207.0, 93591.0, 329916.0, 71090.0, 359056.0, 136583.0, 151349.0, 357354.0, 291186.0, 291629.0, 452.0, 52673.0, 357266.0, 190189.0, 58997.0, 178623.0, 325034.0, 360915.0, 247893.0, 54718.0, 81562.0, 248770.0, 54718.0, 337195.0, 174642.0, 360915.0, 71090.0, 359056.0, 344662.0, 295514.0, 360915.0, 64170.0, 357266.0, 93590.0, 118893.0, 158.0, 118186.0, 324.0, 867.0], [357266.0, 60228.0, 247378.0, 192973.0, 43010.0, 170835.0, 364123.0, 247378.0, 357212.0, 188838.0, 69614.0, 346373.0, 60665.0, 254935.0, 452.0, 399645.0, 158.0, 8900.0, 324.0, 452.0, 452.0, 158.0, 10488.0, 324.0, 452.0, 452.0, 158.0, 11196.0, 324.0, 452.0, 399670.0, 452.0, 399695.0, 452.0, 54718.0, 241827.0, 346373.0, 60665.0, 399690.0, 452.0, 399694.0, 452.0, 399724.0, 452.0, 399661.0, 452.0, 200331.0, 452.0, 452.0, 81562.0, 134949.0, 54718.0, 189508.0, 105123.0, 53909.0, 250392.0, 268046.0, 357761.0, 278011.0, 58997.0, 188837.0, 88126.0, 374253.0, 357266.0, 142820.0, 117493.0, 154323.0, 154323.0, 154323.0, 357266.0, 60228.0, 247378.0, 174032.0, 71814.0, 297928.0, 346323.0, 188481.0, 142857.0, 233708.0, 142820.0, 267260.0, 452.0, 188839.0, 357266.0, 348536.0, 217449.0, 202448.0, 202448.0, 42972.0, 42972.0, 42974.0, 188481.0, 175599.0, 192311.0, 105123.0, 62065.0, 48455.0, 48455.0, 357266.0, 60228.0, 247378.0, 52520.0, 52074.0, 374021.0, 360915.0, 371426.0, 386458.0, 270970.0, 264550.0, 357266.0, 344865.0, 191137.0, 236860.0, 151772.0, 188481.0, 357761.0, 105123.0, 302175.0, 98017.0, 54738.0, 357682.0, 357682.0, 188481.0, 357266.0, 291753.0, 345195.0, 452.0, 384374.0, 143024.0, 357266.0, 60228.0, 247378.0, 360915.0, 188836.0, 188836.0, 357266.0, 399686.0, 278008.0, 60665.0, 188481.0, 357266.0, 345173.0, 151349.0, 272583.0, 300703.0, 278011.0, 374253.0, 357266.0, 364123.0, 247378.0, 42972.0, 42972.0, 42974.0, 867.0], [867.0, 89639.0, 174642.0, 102132.0, 357266.0, 135212.0, 344936.0, 54718.0, 341036.0, 268046.0, 357266.0, 381758.0, 42970.0, 42970.0, 103315.0, 371152.0, 266734.0, 248031.0, 46904.0, 54718.0, 54718.0, 272881.0, 306717.0, 329974.0, 357212.0, 357266.0, 357266.0, 357266.0, 177957.0, 292516.0, 89313.0, 192973.0, 377946.0, 189535.0, 360915.0, 360915.0, 357266.0, 266734.0, 248031.0, 270201.0, 384398.0, 384398.0, 270284.0, 357266.0, 103315.0, 62065.0, 304970.0, 226394.0, 355524.0, 452.0, 188481.0, 357266.0, 300364.0, 268046.0, 326146.0, 355879.0, 355879.0, 182573.0, 452.0, 331417.0, 302192.0, 69356.0, 158.0, 158.0, 141667.0, 324.0, 151349.0, 357266.0, 266734.0, 248031.0, 269798.0, 357266.0, 103315.0, 58997.0, 186399.0, 269798.0, 123767.0, 46904.0, 333121.0, 452.0, 259933.0, 452.0, 357761.0, 302192.0, 278735.0, 58997.0, 339515.0, 151391.0, 302195.0, 45217.0, 360915.0, 360915.0, 339515.0, 323934.0, 323934.0, 357761.0, 306717.0, 188256.0, 357212.0, 266734.0, 302229.0, 302229.0, 154323.0, 357266.0, 103315.0, 348406.0, 301000.0, 357109.0, 125698.0, 54718.0, 274242.0, 357266.0, 381758.0, 42970.0, 42970.0, 103315.0, 373485.0, 373485.0, 188481.0, 178401.0, 355520.0, 54718.0, 178401.0, 291876.0, 106927.0, 452.0, 357266.0, 266734.0, 248032.0, 237383.0, 125698.0, 269798.0, 357266.0, 291378.0, 133480.0, 333113.0, 88126.0, 273569.0, 43010.0, 331418.0, 217449.0, 137256.0, 69353.0, 867.0], [60665.0, 357266.0, 293190.0, 363081.0, 335162.0, 223747.0, 262551.0, 108155.0, 193716.0, 174032.0, 71585.0, 258303.0, 360915.0, 46778.0, 357992.0, 306408.0, 148269.0, 360915.0, 246493.0, 292803.0, 346373.0, 60665.0, 278956.0, 278956.0, 360915.0, 46244.0, 357266.0, 193637.0, 268046.0, 303661.0, 140217.0, 306409.0, 268046.0, 357953.0, 283699.0, 148269.0, 357266.0, 324627.0, 189462.0, 174032.0, 72003.0, 360915.0, 122447.0, 252618.0, 292852.0, 386432.0, 357266.0, 278956.0, 192973.0, 148908.0, 363908.0, 191811.0, 54273.0, 191411.0, 271342.0, 271342.0, 388711.0, 178545.0, 140217.0, 323938.0, 71895.0, 148339.0, 331680.0, 278956.0, 363894.0, 42972.0, 42972.0, 42974.0, 867.0, 188481.0, 358160.0, 276859.0, 384374.0, 120638.0, 182540.0, 357266.0, 191921.0, 268046.0, 346373.0, 43010.0, 252618.0, 292848.0, 90548.0, 52520.0, 73117.0, 73117.0, 223749.0, 88126.0, 188949.0, 45456.0, 61423.0, 301076.0, 268046.0, 331680.0, 331680.0, 388756.0, 357266.0, 258451.0, 151349.0, 106337.0, 140217.0, 292852.0, 306178.0, 339005.0, 54718.0, 142805.0, 138671.0, 452.0, 87775.0, 190756.0, 258463.0, 270201.0, 43010.0, 341454.0, 341454.0, 189406.0, 110482.0, 286186.0, 158.0, 186260.0, 324.0, 246677.0, 247377.0, 140217.0, 292848.0, 62065.0, 311178.0, 355520.0, 42972.0, 20995.0, 42974.0, 867.0, 60665.0, 191411.0, 218659.0, 236496.0, 384374.0, 374168.0, 288201.0, 452.0, 386474.0, 148441.0, 387181.0, 374163.0, 60665.0, 136829.0, 236496.0, 151349.0, 185993.0, 185993.0, 193716.0, 192973.0, 302229.0, 278957.0, 188481.0, 274289.0, 286186.0, 54718.0, 174032.0, 43010.0, 226512.0, 140217.0, 300964.0, 357109.0, 331680.0, 188481.0, 326375.0, 326375.0, 193919.0, 149978.0, 90548.0, 52520.0, 71090.0, 374168.0, 151349.0, 357266.0, 143821.0, 268046.0, 336574.0, 288211.0, 284738.0, 88126.0, 357266.0, 316998.0, 292848.0, 60665.0, 384374.0, 387696.0, 387696.0, 357266.0, 252618.0, 292848.0, 334693.0, 188948.0, 357266.0, 106349.0, 268046.0, 317178.0, 291628.0, 87775.0, 52074.0, 69840.0, 186260.0, 140229.0, 360915.0, 45457.0, 178401.0, 61423.0, 301048.0, 344940.0, 62065.0, 335162.0, 146154.0, 333434.0, 357212.0, 292067.0, 305946.0, 388756.0, 357266.0, 258451.0, 151349.0, 106337.0, 140229.0, 138671.0, 867.0], [109505.0, 268046.0, 268046.0, 188481.0, 188481.0, 320190.0, 58997.0, 89633.0, 188481.0, 357266.0, 357266.0, 357266.0, 384374.0, 57855.0, 123767.0, 123767.0, 162977.0, 125820.0, 158.0, 158.0, 324.0, 374168.0, 188481.0, 357266.0, 357266.0, 357266.0, 306717.0, 268046.0, 272881.0, 89639.0, 58997.0, 106190.0, 388711.0, 377946.0, 302801.0, 142820.0, 306717.0, 154323.0, 357266.0, 150791.0, 150791.0, 357266.0, 357266.0, 357266.0, 122450.0, 302802.0, 88126.0, 88126.0, 140185.0, 50256.0, 162064.0, 43010.0, 164328.0, 121738.0, 268046.0, 357266.0, 357266.0, 259972.0, 267248.0, 58997.0, 346706.0, 151349.0, 155653.0, 155653.0, 291291.0, 54718.0, 281958.0, 151349.0, 357266.0, 177109.0, 137241.0, 58997.0, 291763.0, 867.0], [193716.0, 192973.0, 385218.0, 209675.0, 357212.0, 269953.0, 268046.0, 357266.0, 225289.0, 341501.0, 292803.0, 188481.0, 283892.0, 192973.0, 371429.0, 357266.0, 107117.0, 283892.0, 154323.0, 148908.0, 148908.0, 176789.0, 357266.0, 96372.0, 192973.0, 360915.0, 122447.0, 54439.0, 57924.0, 386474.0, 294037.0, 375619.0, 190606.0, 54718.0, 357589.0, 357589.0, 45217.0, 360915.0, 358160.0, 378774.0, 452.0, 54273.0, 133900.0, 357607.0, 188481.0, 386474.0, 107120.0, 289876.0, 58997.0, 267326.0, 60665.0, 43010.0, 107616.0, 268046.0, 339924.0, 350014.0, 83369.0, 268046.0, 319932.0, 192023.0, 174032.0, 71814.0, 122450.0, 42972.0, 2479.0, 42974.0, 867.0, 188481.0, 278014.0, 452.0, 193716.0, 383514.0, 330028.0, 357212.0, 43010.0, 346373.0, 357607.0, 305056.0, 269798.0, 43010.0, 319934.0, 215899.0, 268046.0, 357266.0, 368669.0, 42972.0, 15341.0, 42974.0, 158.0, 2479.0, 324.0, 324.0, 452.0, 386432.0, 386432.0, 452.0, 54718.0, 381758.0, 192973.0, 264550.0, 43010.0, 155243.0, 147810.0, 87775.0, 301000.0, 192973.0, 43010.0, 155211.0, 268046.0, 268046.0, 147810.0, 344579.0, 452.0, 357212.0, 192973.0, 452.0, 158.0, 15341.0, 324.0, 324.0, 357266.0, 357266.0, 138623.0, 268046.0, 250529.0, 218983.0, 360915.0, 158.0, 21828.0, 324.0, 324.0, 452.0, 386474.0, 192973.0, 357412.0, 190959.0, 360915.0, 158.0, 26559.0, 324.0, 324.0, 193716.0, 192973.0, 132683.0, 360915.0, 377635.0, 357212.0, 357266.0, 357266.0, 138623.0, 268046.0, 250529.0, 218983.0, 374021.0, 360915.0, 158.0, 30387.0, 324.0, 324.0, 193716.0, 192973.0, 390093.0, 344615.0, 62065.0, 358160.0, 341163.0, 357212.0, 357266.0, 44617.0, 138623.0, 90548.0, 71090.0, 267326.0, 154323.0, 357266.0, 133900.0, 215899.0, 158.0, 33544.0, 324.0, 324.0, 339358.0, 350009.0, 337177.0, 268046.0, 268046.0, 158.0, 30387.0, 324.0, 125540.0, 452.0, 141816.0, 188481.0, 357266.0, 44234.0, 93018.0, 452.0, 43010.0, 110169.0, 284318.0, 54718.0, 43010.0, 107120.0, 107120.0, 52520.0, 452.0, 357266.0, 297180.0, 357607.0, 89638.0, 268046.0, 357266.0, 342043.0, 137256.0, 74651.0, 368321.0, 97107.0, 125544.0, 357266.0, 316998.0, 72020.0, 42972.0, 2479.0, 42974.0, 867.0, 193716.0, 192973.0, 385218.0, 209675.0, 357212.0, 357266.0, 340506.0, 311222.0, 277915.0, 121734.0, 344725.0, 222471.0, 337177.0, 42972.0, 22256.0, 42974.0, 867.0], [188481.0, 358160.0, 389836.0, 452.0, 43010.0, 265592.0, 344327.0, 151349.0, 121856.0, 54273.0, 270888.0, 231148.0, 320458.0, 151349.0, 43010.0, 344936.0, 452.0, 45239.0, 142874.0, 151349.0, 357266.0, 133907.0, 268046.0, 370908.0, 192973.0, 192973.0, 358160.0, 108284.0, 452.0, 386474.0, 90548.0, 71090.0, 304136.0, 60665.0, 54273.0, 143038.0, 268046.0, 357266.0, 242260.0, 122450.0, 188481.0, 42972.0, 18987.0, 42974.0, 452.0, 291775.0, 326146.0, 264802.0, 61428.0, 273428.0, 332008.0, 57924.0, 293583.0, 188481.0, 357266.0, 357266.0, 148978.0, 452.0, 357266.0, 190184.0, 54718.0, 293485.0, 268046.0, 145615.0, 111052.0, 192973.0, 247383.0, 133930.0, 88126.0, 239197.0, 268046.0, 104586.0, 397999.0, 135310.0, 42972.0, 42972.0, 42974.0, 867.0, 357266.0, 57836.0, 268046.0, 358160.0, 102208.0, 268046.0, 135310.0, 52074.0, 247387.0, 357266.0, 111052.0, 190184.0, 54718.0, 293485.0, 388747.0, 43010.0, 372007.0, 372007.0, 193716.0, 329916.0, 71090.0, 264597.0, 357212.0, 104586.0, 397999.0, 135310.0, 174642.0, 52477.0, 71814.0, 374168.0, 151349.0, 370908.0, 297157.0, 268046.0, 357266.0, 111052.0, 293485.0, 283144.0, 42972.0, 42972.0, 42974.0, 867.0, 182573.0, 193919.0, 57836.0, 388747.0, 357266.0, 108098.0, 268046.0, 231148.0, 320458.0, 107834.0, 43010.0, 43010.0, 357266.0, 323025.0, 190382.0, 61423.0, 268046.0, 358160.0, 108284.0, 303891.0, 360915.0, 357266.0, 61640.0, 268046.0, 357266.0, 305038.0, 325039.0, 388711.0, 306501.0, 360915.0, 357266.0, 376103.0, 357212.0, 119364.0, 357266.0, 231148.0, 231148.0, 357266.0, 140083.0, 268046.0, 358160.0, 325039.0, 452.0, 386474.0, 192973.0, 306174.0, 188481.0, 271173.0, 360915.0, 122190.0, 357266.0, 270888.0, 231148.0, 320452.0, 388747.0, 357266.0, 293583.0, 152908.0, 452.0, 90548.0, 71090.0, 297928.0, 120338.0, 60665.0, 357266.0, 247378.0, 97033.0, 305773.0, 268046.0, 43010.0, 111057.0, 344936.0, 218983.0, 360915.0, 43010.0, 125083.0, 281311.0, 155211.0, 61722.0, 388711.0, 357266.0, 144227.0, 144227.0, 43010.0, 259972.0, 57920.0, 151349.0, 247387.0, 358160.0, 155211.0, 192973.0, 293583.0, 293583.0, 357266.0, 108161.0, 54718.0, 125083.0, 278085.0, 306511.0, 268046.0, 357266.0, 155211.0, 58997.0, 107670.0, 325183.0, 360915.0, 140079.0, 45291.0, 357266.0, 165550.0, 268046.0, 357266.0, 144227.0, 141855.0, 867.0], [326146.0, 242260.0, 69725.0, 269798.0, 131664.0, 61771.0, 385664.0, 346706.0, 151349.0, 122187.0, 268046.0, 357266.0, 357266.0, 268046.0, 357266.0, 357266.0, 42972.0, 9321.0, 42974.0, 867.0, 45217.0, 360915.0, 43010.0, 159391.0, 357585.0, 42972.0, 10064.0, 42974.0, 452.0, 188481.0, 271173.0, 360915.0, 122190.0, 357266.0, 277597.0, 268046.0, 269953.0, 278008.0, 188481.0, 43010.0, 76261.0, 302192.0, 269953.0, 174032.0, 360915.0, 209645.0, 287664.0, 62065.0, 219145.0, 268046.0, 368321.0, 147026.0, 277997.0, 188481.0, 358160.0, 358160.0, 247378.0, 189078.0, 242260.0, 151349.0, 122187.0, 268046.0, 357266.0, 357266.0, 268046.0, 357266.0, 357266.0, 385664.0, 346706.0, 302802.0, 188481.0, 188481.0, 42972.0, 42972.0, 42974.0, 151349.0, 151349.0, 452.0, 54718.0, 188481.0, 188481.0, 42972.0, 12126.0, 42974.0, 151349.0, 151349.0, 268046.0, 357266.0, 357266.0, 357266.0, 242245.0, 268046.0, 268046.0, 42972.0, 42972.0, 42974.0, 452.0, 69725.0, 269798.0, 357266.0, 61770.0, 357212.0, 357266.0, 339515.0, 268046.0, 357266.0, 357266.0, 138615.0, 8172.0, 452.0, 346715.0, 360915.0, 239226.0, 357266.0, 357266.0, 109505.0, 277188.0, 188481.0, 357266.0, 302192.0, 302192.0, 258155.0, 357266.0, 357266.0, 384374.0, 159420.0, 177231.0, 358160.0, 242245.0, 151349.0, 54273.0, 58548.0, 339515.0, 268046.0, 357266.0, 357266.0, 54718.0, 81562.0, 81562.0, 81562.0, 54718.0, 54718.0, 268046.0, 357266.0, 262306.0, 96805.0, 268046.0, 357266.0, 357266.0, 357266.0, 155503.0, 452.0, 384374.0, 107661.0, 43010.0, 287663.0, 363894.0, 154323.0, 43010.0, 265398.0, 360915.0, 357266.0, 357266.0, 392261.0, 188481.0, 358160.0, 358160.0, 272881.0, 107668.0, 192973.0, 247378.0, 189078.0, 452.0, 332240.0, 193716.0, 192973.0, 69725.0, 270201.0, 269798.0, 107631.0, 268046.0, 357266.0, 357266.0, 452.0, 362760.0, 55434.0, 248246.0, 54718.0, 193507.0, 188481.0, 357266.0, 302192.0, 54718.0, 357266.0, 159421.0, 279047.0, 292407.0, 151349.0, 265399.0, 867.0], [188481.0, 357266.0, 357266.0, 247378.0, 345171.0, 177231.0, 452.0, 384374.0, 148427.0, 262350.0, 341045.0, 341861.0, 388711.0, 134678.0, 95871.0, 270970.0, 264164.0, 297202.0, 236860.0, 236860.0, 358160.0, 192973.0, 357266.0, 270817.0, 268046.0, 357266.0, 291290.0, 268046.0, 268046.0, 42972.0, 10741.0, 42974.0, 386432.0, 193716.0, 383514.0, 59184.0, 357212.0, 357640.0, 192973.0, 262350.0, 262350.0, 283048.0, 188481.0, 106129.0, 106129.0, 220870.0, 374021.0, 71090.0, 249714.0, 291186.0, 42867.0, 281322.0, 43010.0, 354196.0, 142731.0, 188481.0, 357266.0, 344233.0, 297202.0, 236058.0, 452.0, 357266.0, 63534.0, 268046.0, 268046.0, 42972.0, 10741.0, 42974.0, 152393.0, 357212.0, 188481.0, 188481.0, 135115.0, 54718.0, 105304.0, 259856.0, 297202.0, 236860.0, 357266.0, 357266.0, 283048.0, 192973.0, 52879.0, 220815.0, 145835.0, 357109.0, 357266.0, 95871.0, 283048.0, 270970.0, 264164.0, 297202.0, 297202.0, 154323.0, 358160.0, 267256.0, 357810.0, 106804.0, 357212.0, 357266.0, 357266.0, 283048.0, 192973.0, 44764.0, 188481.0, 106129.0, 106129.0, 188481.0, 108256.0, 360915.0, 358160.0, 306708.0, 452.0, 193716.0, 383514.0, 330028.0, 188481.0, 188481.0, 42972.0, 11458.0, 42974.0, 188481.0, 357266.0, 152908.0, 268046.0, 357266.0, 357266.0, 247378.0, 357212.0, 259856.0, 259856.0, 236860.0, 110156.0, 71090.0, 357266.0, 250392.0, 145835.0, 297202.0, 283048.0, 188481.0, 43010.0, 95614.0, 95614.0, 182573.0, 452.0, 357266.0, 63534.0, 59184.0, 357212.0, 358160.0, 191713.0, 243977.0, 124899.0, 186645.0, 357266.0, 170835.0, 283048.0, 192973.0, 188837.0, 249714.0, 249714.0, 358160.0, 192973.0, 189034.0, 386307.0, 384374.0, 152393.0, 151349.0, 277188.0, 325899.0, 325899.0, 452.0, 386495.0, 151349.0, 277188.0, 325899.0, 179739.0, 357266.0, 357266.0, 283048.0, 348618.0, 270201.0, 188481.0, 43010.0, 360283.0, 360283.0, 259933.0, 452.0, 186645.0, 257320.0, 99952.0, 360915.0, 71090.0, 332008.0, 360915.0, 358160.0, 138623.0, 268046.0, 341956.0, 452.0, 193716.0, 387696.0, 71090.0, 358160.0, 360283.0, 388091.0, 386474.0, 162064.0, 309135.0, 360915.0, 184682.0, 341861.0, 452.0, 386436.0, 357266.0, 95871.0, 283048.0, 390139.0, 71090.0, 259914.0, 291753.0, 188481.0, 106129.0, 341861.0, 867.0], [188481.0, 357266.0, 291753.0, 389836.0, 384374.0, 374163.0, 357266.0, 250110.0, 148545.0, 135301.0, 242245.0, 151349.0, 357266.0, 110489.0, 268046.0, 263518.0, 125143.0, 125143.0, 188481.0, 357266.0, 152908.0, 268046.0, 263650.0, 263650.0, 357266.0, 250110.0, 242245.0, 174032.0, 71814.0, 330028.0, 360915.0, 291782.0, 270888.0, 108395.0, 300978.0, 158.0, 323337.0, 218333.0, 158.0, 17499.0, 324.0, 42972.0, 19833.0, 42974.0, 151349.0, 122134.0, 324.0, 54718.0, 192973.0, 192973.0, 192973.0, 384374.0, 329974.0, 357212.0, 357266.0, 242245.0, 90548.0, 71090.0, 57844.0, 360915.0, 360915.0, 54431.0, 388711.0, 223830.0, 133946.0, 452.0, 269889.0, 357266.0, 152908.0, 268046.0, 265707.0, 69725.0, 327393.0, 155226.0, 174032.0, 71814.0, 71814.0, 155503.0, 452.0, 43010.0, 339034.0, 108665.0, 63109.0, 354634.0, 52074.0, 357266.0, 121839.0, 268046.0, 54273.0, 54273.0, 320539.0, 151349.0, 357266.0, 107852.0, 239291.0, 350362.0, 371152.0, 371152.0, 357266.0, 142331.0, 281311.0, 268046.0, 357266.0, 303484.0, 250110.0, 242245.0, 60665.0, 385218.0, 60665.0, 357266.0, 357266.0, 320539.0, 192973.0, 187519.0, 188481.0, 306005.0, 265592.0, 265592.0, 357266.0, 291753.0, 389836.0, 384374.0, 374163.0, 357266.0, 250110.0, 148545.0, 135301.0, 242245.0, 151349.0, 357266.0, 110489.0, 268046.0, 263518.0, 125143.0, 125143.0, 188481.0, 357266.0, 152908.0, 268046.0, 263650.0, 263650.0, 357266.0, 250110.0, 242245.0, 174032.0, 71814.0, 330028.0, 360915.0, 291782.0, 270888.0, 108395.0, 300978.0, 158.0, 323337.0, 218333.0, 158.0, 17499.0, 324.0, 42972.0, 19833.0, 42974.0, 151349.0, 122134.0, 324.0, 54718.0, 192973.0, 192973.0, 192973.0, 384374.0, 329974.0, 357212.0, 357266.0, 242245.0, 90548.0, 71090.0, 57844.0, 360915.0, 360915.0, 54431.0, 388711.0, 223830.0, 133946.0, 452.0, 269889.0, 357266.0, 152908.0, 268046.0, 265707.0, 69725.0, 327393.0, 155226.0, 174032.0, 71814.0, 71814.0, 155503.0, 452.0, 43010.0, 339034.0, 108665.0, 63109.0, 354634.0, 52074.0, 357266.0, 121839.0, 268046.0, 54273.0, 54273.0, 320539.0, 151349.0, 357266.0, 107852.0, 239291.0, 350362.0, 371152.0, 371152.0, 357266.0, 142331.0, 281311.0, 268046.0, 357266.0, 303484.0, 250110.0, 242245.0, 60665.0, 385218.0, 60665.0, 357266.0, 357266.0, 320539.0, 192973.0, 187519.0, 188481.0, 306005.0, 265592.0, 142285.0, 867.0], [867.0, 867.0, 357266.0, 95247.0, 186344.0, 268046.0, 268046.0, 54431.0, 192973.0, 360915.0, 374163.0, 357266.0, 316998.0, 56087.0, 155226.0, 151349.0, 357266.0, 125142.0, 268046.0, 357266.0, 277980.0, 123773.0, 138623.0, 62065.0, 172466.0, 452.0, 60665.0, 58997.0, 374168.0, 151349.0, 357266.0, 306002.0, 268046.0, 357266.0, 292794.0, 292794.0, 374387.0, 452.0, 357266.0, 292794.0, 159832.0, 399724.0, 192973.0, 306009.0, 188481.0, 106518.0, 48841.0, 121839.0, 158.0, 89063.0, 324.0, 88126.0, 239197.0, 268046.0, 265707.0, 270970.0, 270970.0, 358160.0, 106706.0, 452.0, 271500.0, 192044.0, 188481.0, 42972.0, 2479.0, 42974.0, 151349.0, 148545.0, 135301.0, 242260.0, 158.0, 158.0, 324.0, 174032.0, 294009.0, 377946.0, 154540.0, 188481.0, 57840.0, 42972.0, 2742.0, 42974.0, 42950.0, 323337.0, 52520.0, 357266.0, 248736.0, 42972.0, 21828.0, 42974.0, 867.0, 332240.0, 89063.0, 124758.0, 294049.0, 43010.0, 277194.0, 268046.0, 357266.0, 81903.0, 81903.0, 452.0, 358160.0, 231492.0, 357266.0, 81903.0, 135301.0, 242245.0, 158.0, 72889.0, 324.0, 357266.0, 250392.0, 62805.0, 265592.0, 320539.0, 452.0, 186645.0, 57833.0, 158.0, 185635.0, 452.0, 294038.0, 357212.0, 357266.0, 155243.0, 337176.0, 268046.0, 357266.0, 123773.0, 270630.0, 192973.0, 142874.0, 209675.0, 324.0, 867.0, 867.0, 72889.0, 158.0, 158.0, 324.0, 174032.0, 148908.0, 71814.0, 107670.0, 151349.0, 21729.0, 72889.0, 188481.0, 42972.0, 26559.0, 42974.0, 54718.0, 151349.0, 26476.0, 72889.0, 188481.0, 42972.0, 30387.0, 42974.0, 867.0, 372358.0, 341454.0, 72889.0, 388711.0, 284322.0, 288242.0, 386474.0, 192973.0, 385332.0, 188481.0, 357266.0, 223718.0, 452.0, 95837.0, 357266.0, 248738.0, 42972.0, 33712.0, 42974.0, 54718.0, 357266.0, 303875.0, 357647.0, 452.0, 357266.0, 265592.0, 54431.0, 268046.0, 268046.0, 192973.0, 139908.0, 139908.0, 384374.0, 270201.0, 303855.0, 360915.0, 42972.0, 42972.0, 42974.0, 151349.0, 265592.0, 142832.0, 54718.0, 360915.0, 42972.0, 6765.0, 42974.0, 151349.0, 337259.0, 296998.0, 296998.0, 188481.0, 278014.0, 452.0, 43010.0, 289678.0, 139198.0, 140083.0, 174032.0, 71814.0, 385332.0, 151349.0, 341454.0, 72889.0, 452.0, 132176.0, 452.0, 42972.0, 42972.0, 42974.0, 60665.0, 385218.0, 60665.0, 357266.0, 302801.0, 274006.0, 60371.0, 42972.0, 13507.0, 42974.0, 452.0, 87775.0, 174032.0, 264550.0, 71814.0, 364472.0, 151349.0, 151349.0, 336114.0, 336114.0, 357266.0, 295589.0, 268046.0, 357266.0, 291753.0, 389836.0, 192973.0, 360915.0, 327941.0, 337259.0, 148908.0, 222292.0, 269798.0, 43010.0, 289678.0, 139198.0, 54431.0, 151349.0, 151349.0, 386474.0, 294049.0, 337259.0, 236561.0, 152395.0, 268046.0, 43010.0, 109527.0, 46136.0, 51274.0, 867.0], [357266.0, 148339.0, 108284.0, 360915.0, 357266.0, 151407.0, 192973.0, 357266.0, 375695.0, 121373.0, 381851.0, 381851.0, 193716.0, 188838.0, 357266.0, 151061.0, 108285.0, 42867.0, 158.0, 185457.0, 324.0, 74651.0, 357266.0, 229702.0, 330645.0, 360302.0, 268046.0, 107330.0, 327393.0, 388711.0, 357266.0, 339355.0, 268046.0, 298855.0, 298135.0, 62065.0, 357266.0, 136979.0, 42972.0, 20656.0, 42974.0, 54718.0, 324552.0, 346197.0, 42950.0, 158.0, 186986.0, 324.0, 357266.0, 125527.0, 151421.0, 74651.0, 357266.0, 62500.0, 188481.0, 357266.0, 317178.0, 364472.0, 364472.0, 42950.0, 54718.0, 158.0, 187012.0, 324.0, 357266.0, 191138.0, 74651.0, 357266.0, 229702.0, 277915.0, 268046.0, 357266.0, 360302.0, 54718.0, 357266.0, 317178.0, 317178.0, 357266.0, 148908.0, 108284.0, 192973.0, 89633.0, 54440.0, 42972.0, 20656.0, 42974.0, 867.0, 188481.0, 143954.0, 452.0, 357266.0, 229702.0, 108284.0, 360915.0, 357266.0, 375695.0, 121373.0, 381851.0, 151407.0, 192973.0, 357266.0, 316998.0, 188481.0, 132276.0, 268046.0, 357266.0, 358549.0, 350396.0, 121731.0, 72786.0, 452.0, 60665.0, 193716.0, 121169.0, 270201.0, 269798.0, 357266.0, 357266.0, 325187.0, 452.0, 229702.0, 339355.0, 298855.0, 452.0, 452.0, 54718.0, 172036.0, 107783.0, 268046.0, 357266.0, 350362.0, 42972.0, 20656.0, 42974.0, 867.0, 51582.0, 357761.0, 297169.0, 58997.0, 186391.0, 188481.0, 132276.0, 350362.0, 384374.0, 225629.0, 62065.0, 452.0, 336114.0, 357212.0, 357266.0, 375695.0, 121373.0, 381851.0, 151407.0, 45915.0, 60665.0, 43010.0, 65760.0, 62805.0, 151407.0, 189078.0, 268046.0, 357266.0, 243304.0, 293518.0, 268046.0, 357266.0, 350362.0, 42972.0, 38601.0, 42974.0, 867.0, 357266.0, 172036.0, 107783.0, 258454.0, 151349.0, 357266.0, 89638.0, 268046.0, 357266.0, 229702.0, 375695.0, 121373.0, 381851.0, 151407.0, 192973.0, 140080.0, 360915.0, 71090.0, 71090.0, 42972.0, 24111.0, 42974.0, 867.0], [357266.0, 187889.0, 81903.0, 242245.0, 158.0, 185910.0, 324.0, 452.0, 293583.0, 88126.0, 282160.0, 151349.0, 345197.0, 150400.0, 278960.0, 59937.0, 175449.0, 375652.0, 42972.0, 21828.0, 42974.0, 452.0, 174032.0, 71814.0, 57844.0, 360915.0, 43010.0, 387138.0, 300364.0, 268046.0, 292803.0, 188839.0, 60310.0, 78456.0, 150400.0, 42972.0, 26559.0, 42974.0, 452.0, 247392.0, 268046.0, 357266.0, 104092.0, 42972.0, 30387.0, 42974.0, 452.0, 247392.0, 268046.0, 303305.0, 78456.0, 95005.0, 188481.0, 287536.0, 150400.0, 42972.0, 33544.0, 42974.0, 54718.0, 150429.0, 192218.0, 348712.0, 278011.0, 42972.0, 36169.0, 42974.0, 867.0, 43010.0, 106441.0, 223628.0, 268046.0, 57840.0, 90548.0, 71090.0, 152393.0, 188481.0, 42972.0, 38601.0, 42974.0, 867.0, 357266.0, 185910.0, 192973.0, 81562.0, 43010.0, 236561.0, 151981.0, 54718.0, 43010.0, 265592.0, 320539.0, 151349.0, 151349.0, 191138.0, 191138.0, 60665.0, 241110.0, 44617.0, 452.0, 188481.0, 43010.0, 102223.0, 102223.0, 191138.0, 292794.0, 452.0, 357266.0, 150490.0, 54718.0, 357266.0, 344936.0, 58997.0, 107670.0, 325183.0, 54718.0, 357412.0, 110482.0, 361190.0, 378206.0, 337259.0, 346829.0, 199694.0, 199694.0, 188481.0, 357266.0, 185910.0, 182573.0, 452.0, 357266.0, 357266.0, 192973.0, 374387.0, 187889.0, 188481.0, 43010.0, 260275.0, 260275.0, 378764.0, 60665.0, 72182.0, 277915.0, 268046.0, 357266.0, 348566.0, 348566.0, 358160.0, 239197.0, 357212.0, 270201.0, 43010.0, 332395.0, 138623.0, 268046.0, 250529.0, 258481.0, 360915.0, 71090.0, 337190.0, 158.0, 185635.0, 43010.0, 43010.0, 151981.0, 324.0, 867.0, 46226.0, 452.0, 357266.0, 185910.0, 52074.0, 357266.0, 187889.0, 344936.0, 360915.0, 251014.0, 153555.0, 273428.0, 357266.0, 371335.0, 150490.0, 241741.0, 452.0, 51920.0, 357266.0, 258451.0, 151349.0, 357266.0, 357266.0, 306174.0, 188481.0, 43010.0, 102223.0, 151981.0, 867.0], [279575.0, 158.0, 158.0, 324.0, 174032.0, 71585.0, 88126.0, 144971.0, 357266.0, 250392.0, 288917.0, 236496.0, 188481.0, 357266.0, 44984.0, 243183.0, 106074.0, 71494.0, 193716.0, 192973.0, 189566.0, 452.0, 132683.0, 360915.0, 143817.0, 88126.0, 305913.0, 268046.0, 248026.0, 229835.0, 374253.0, 300602.0, 293953.0, 270970.0, 272583.0, 354635.0, 452.0, 149979.0, 452.0, 270880.0, 364097.0, 452.0, 76464.0, 54718.0, 193919.0, 143821.0, 126848.0, 264550.0, 306173.0, 178401.0, 91339.0, 192143.0, 54718.0, 102455.0, 102455.0, 376147.0, 354635.0, 174642.0, 71814.0, 46130.0, 360915.0, 143817.0, 243182.0, 344940.0, 188481.0, 279575.0, 452.0, 188839.0, 386043.0, 54718.0, 129823.0, 140229.0, 42972.0, 42972.0, 42974.0, 452.0, 283667.0, 278958.0, 268046.0, 43010.0, 283702.0, 279575.0, 42972.0, 18987.0, 42974.0, 452.0, 54718.0, 217666.0, 44489.0, 42972.0, 19410.0, 42974.0, 867.0, 87775.0, 452.0, 193716.0, 383514.0, 357266.0, 399931.0, 399931.0, 399936.0, 354635.0, 42972.0, 19833.0, 42974.0, 191916.0, 88126.0, 386764.0, 140185.0, 50256.0, 357212.0, 136749.0, 357266.0, 387181.0, 374163.0, 268046.0, 279575.0, 54718.0, 270539.0, 373317.0, 357266.0, 138715.0, 268046.0, 268046.0, 243183.0, 188481.0, 357266.0, 217850.0, 217850.0, 305904.0, 248017.0, 452.0, 386474.0, 192973.0, 357266.0, 93403.0, 268046.0, 268046.0, 47889.0, 43010.0, 236224.0, 54718.0, 159438.0, 43010.0, 305904.0, 268046.0, 357266.0, 236224.0, 188481.0, 279575.0, 452.0, 174032.0, 71585.0, 43010.0, 341454.0, 143821.0, 354634.0, 63822.0, 188481.0, 52261.0, 141941.0, 306262.0, 306262.0, 122129.0, 274007.0, 268046.0, 268046.0, 354635.0, 54718.0, 357354.0, 57840.0, 90548.0, 71090.0, 152393.0, 154323.0, 357266.0, 307261.0, 88126.0, 238325.0, 140185.0, 50256.0, 42972.0, 20302.0, 42974.0, 54718.0, 330647.0, 140185.0, 50256.0, 42972.0, 20656.0, 42974.0, 867.0, 264963.0, 452.0, 233708.0, 361978.0, 119047.0, 151349.0, 358160.0, 295589.0, 58997.0, 63822.0, 54718.0, 90548.0, 71090.0, 295456.0, 60665.0, 43010.0, 106326.0, 325899.0, 158.0, 132176.0, 132176.0, 294038.0, 88126.0, 88126.0, 158.0, 374068.0, 324.0, 42972.0, 20995.0, 42974.0, 324.0, 867.0, 249755.0, 452.0, 106163.0, 452.0, 346373.0, 60665.0, 60665.0, 158.0, 90562.0, 324.0, 42972.0, 21319.0, 42974.0, 452.0, 243182.0, 190381.0, 158.0, 374068.0, 324.0, 42972.0, 23310.0, 42974.0, 452.0, 54718.0, 321715.0, 122509.0, 215333.0, 158.0, 374068.0, 324.0, 42972.0, 23802.0, 42974.0, 294037.0, 300602.0, 293953.0, 325758.0, 151349.0, 151349.0, 224571.0, 122511.0, 867.0], [357266.0, 48971.0, 268046.0, 358160.0, 264588.0, 192973.0, 264612.0, 249714.0, 357109.0, 360915.0, 84236.0, 81562.0, 57924.0, 269798.0, 138590.0, 151292.0, 54718.0, 360915.0, 304985.0, 357266.0, 61771.0, 371152.0, 386474.0, 357266.0, 306717.0, 268046.0, 42972.0, 42972.0, 42974.0, 174642.0, 71814.0, 121485.0, 374253.0, 357266.0, 148908.0, 148908.0, 249714.0, 106842.0, 452.0, 384374.0, 159420.0, 357266.0, 357266.0, 278056.0, 155226.0, 452.0, 60665.0, 121485.0, 188481.0, 42972.0, 42972.0, 42974.0, 151349.0, 221134.0, 72182.0, 267697.0, 452.0, 360915.0, 357266.0, 93018.0, 268046.0, 141816.0, 141816.0, 249755.0, 452.0, 269798.0, 357266.0, 221115.0, 268046.0, 278056.0, 155226.0, 384374.0, 188217.0, 46224.0, 129299.0, 268046.0, 357266.0, 357266.0, 277597.0, 350014.0, 54718.0, 186403.0, 357388.0, 388711.0, 357266.0, 129299.0, 191916.0, 188481.0, 42972.0, 8172.0, 42974.0, 188481.0, 357266.0, 357266.0, 341956.0, 341956.0, 60665.0, 142758.0, 452.0, 51582.0, 357266.0, 283877.0, 189825.0, 90548.0, 71090.0, 302207.0, 268074.0, 137938.0, 154323.0, 357266.0, 376147.0, 376147.0, 384374.0, 387696.0, 136979.0, 373317.0, 388711.0, 43010.0, 104990.0, 268046.0, 377946.0, 142873.0, 54718.0, 159391.0, 159391.0, 278056.0, 155226.0, 54718.0, 351346.0, 90666.0, 106927.0, 110722.0, 332120.0, 113946.0, 143041.0, 268046.0, 51582.0, 11983.0, 11983.0, 247396.0, 388711.0, 46224.0, 129299.0, 268046.0, 357266.0, 277597.0, 277597.0, 188481.0, 143954.0, 294051.0, 43010.0, 106129.0, 104990.0, 268046.0, 357266.0, 231068.0, 305032.0, 151976.0, 151349.0, 107877.0, 348102.0, 348102.0, 247378.0, 247378.0, 383514.0, 269953.0, 268046.0, 357266.0, 250547.0, 151349.0, 390447.0, 358160.0, 358160.0, 384374.0, 181581.0, 357212.0, 357761.0, 142981.0, 367635.0, 272930.0, 360915.0, 71090.0, 374174.0, 151349.0, 43010.0, 350373.0, 322769.0, 151349.0, 151349.0, 247396.0, 306511.0, 151349.0, 294051.0, 43010.0, 342069.0, 137758.0, 188481.0, 357266.0, 339644.0, 268046.0, 42972.0, 21319.0, 42974.0, 867.0], [357640.0, 174642.0, 71814.0, 346711.0, 357212.0, 135220.0, 90548.0, 71090.0, 364229.0, 188481.0, 357266.0, 86545.0, 54718.0, 62065.0, 348412.0, 268046.0, 331670.0, 42972.0, 10741.0, 42974.0, 87775.0, 259972.0, 247396.0, 268046.0, 135204.0, 364233.0, 95299.0, 341886.0, 360915.0, 57715.0, 270201.0, 270201.0, 193716.0, 174032.0, 71814.0, 346706.0, 88126.0, 88126.0, 140185.0, 50256.0, 452.0, 386887.0, 374168.0, 248029.0, 247396.0, 452.0, 357212.0, 135220.0, 90548.0, 71090.0, 364229.0, 88126.0, 88126.0, 80286.0, 188481.0, 188481.0, 218977.0, 360915.0, 357354.0, 384388.0, 54718.0, 359056.0, 143930.0, 143930.0, 80261.0, 125702.0, 42972.0, 11458.0, 42974.0, 867.0, 155499.0, 89639.0, 88126.0, 88126.0, 140185.0, 50256.0, 174642.0, 330028.0, 357212.0, 135220.0, 90548.0, 339925.0, 364208.0, 188481.0, 188481.0, 108167.0, 300313.0, 259585.0, 247378.0, 268046.0, 268046.0, 42972.0, 12126.0, 42974.0, 867.0, 302801.0, 89639.0, 174642.0, 52520.0, 120639.0, 357212.0, 357266.0, 368321.0, 127298.0, 259856.0, 277166.0, 119273.0, 62065.0, 348412.0, 268046.0, 268046.0, 452.0, 357266.0, 357266.0, 274289.0, 95277.0, 54718.0, 357266.0, 331680.0, 116684.0, 80261.0, 452.0, 58997.0, 119136.0, 135204.0, 364239.0, 54718.0, 90548.0, 151719.0, 357266.0, 109527.0, 258589.0, 97103.0, 119273.0, 42972.0, 12750.0, 42974.0, 867.0, 182573.0, 452.0, 357761.0, 357589.0, 291291.0, 174642.0, 264550.0, 393705.0, 71814.0, 107126.0, 142824.0, 452.0, 136581.0, 357266.0, 96376.0, 151349.0, 186404.0, 119263.0, 95299.0, 867.0], [867.0, 137256.0, 67817.0, 157523.0, 74651.0, 393984.0, 54718.0, 357354.0, 296095.0, 46260.0, 293582.0, 357212.0, 357266.0, 357266.0, 268046.0, 323025.0, 296110.0, 393984.0, 360915.0, 360915.0, 46260.0, 58997.0, 58997.0, 108314.0, 332240.0, 357266.0, 137256.0, 67817.0, 157506.0, 192973.0, 335162.0, 357109.0, 357109.0, 304270.0, 268046.0, 323025.0, 114552.0, 383514.0, 291288.0, 374253.0, 357266.0, 62484.0, 271099.0, 104364.0, 109527.0, 360915.0, 360915.0, 45217.0, 360915.0, 154949.0, 42972.0, 24451.0, 42974.0, 452.0, 302195.0, 90548.0, 71090.0, 145832.0, 188481.0, 357266.0, 124748.0, 268046.0, 237309.0, 237309.0, 273734.0, 268046.0, 217469.0, 104364.0, 62065.0, 357266.0, 302201.0, 302201.0, 357266.0, 250392.0, 145832.0, 191142.0, 74651.0, 109527.0, 393984.0, 54718.0, 54718.0, 46260.0, 360915.0, 151719.0, 357266.0, 250392.0, 145832.0, 145832.0, 107169.0, 58997.0, 162058.0, 188481.0, 147946.0, 23046.0, 323025.0, 393983.0, 46223.0, 360915.0, 360915.0, 344936.0, 192973.0, 357645.0, 56674.0, 360915.0, 292836.0, 378206.0, 378206.0, 54718.0, 54718.0, 191142.0, 360915.0, 292969.0, 357266.0, 316998.0, 316998.0, 316998.0, 107671.0, 357266.0, 357589.0, 89639.0, 281319.0, 151349.0, 296153.0, 62633.0, 296095.0, 344936.0, 452.0, 193716.0, 192973.0, 52520.0, 142758.0, 357212.0, 151761.0, 268046.0, 357266.0, 316998.0, 368669.0, 268046.0, 268046.0, 58997.0, 145832.0, 151349.0, 151349.0, 47798.0, 357266.0, 357266.0, 268046.0, 296110.0, 393984.0, 452.0, 147946.0, 21828.0, 867.0], [188481.0, 358160.0, 60371.0, 384374.0, 293582.0, 43010.0, 242245.0, 386474.0, 46790.0, 43010.0, 123767.0, 57920.0, 360915.0, 357266.0, 159439.0, 292834.0, 273142.0, 44617.0, 54718.0, 357212.0, 176573.0, 360915.0, 46244.0, 357266.0, 292794.0, 268046.0, 159438.0, 178468.0, 241753.0, 151349.0, 178401.0, 307496.0, 265557.0, 265557.0, 357266.0, 242245.0, 192973.0, 106723.0, 332120.0, 452.0, 97698.0, 360915.0, 188217.0, 54718.0, 126848.0, 264550.0, 306173.0, 43010.0, 120978.0, 222960.0, 222960.0, 222960.0, 193716.0, 192973.0, 69725.0, 269798.0, 357266.0, 374163.0, 268046.0, 54273.0, 54273.0, 42972.0, 12126.0, 42974.0, 270970.0, 452.0, 188481.0, 159391.0, 452.0, 43010.0, 363915.0, 191567.0, 42972.0, 12750.0, 42974.0, 386432.0, 43010.0, 178468.0, 103886.0, 103886.0, 292518.0, 241741.0, 192973.0, 345824.0, 191811.0, 134678.0, 292519.0, 270970.0, 356661.0, 374253.0, 357266.0, 233849.0, 357212.0, 119367.0, 357266.0, 103886.0, 178468.0, 178468.0, 357266.0, 292834.0, 192973.0, 52520.0, 377946.0, 377842.0, 60665.0, 193716.0, 281629.0, 241753.0, 388711.0, 123767.0, 125820.0, 268046.0, 268046.0, 360915.0, 71090.0, 159436.0, 388711.0, 132558.0, 54718.0, 155503.0, 452.0, 357266.0, 375441.0, 268046.0, 357761.0, 241753.0, 192973.0, 168283.0, 186645.0, 357266.0, 190165.0, 241741.0, 192973.0, 375430.0, 54718.0, 357266.0, 288239.0, 338556.0, 192973.0, 100075.0, 57929.0, 867.0], [357266.0, 293485.0, 268046.0, 373002.0, 125853.0, 188481.0, 130265.0, 268046.0, 268046.0, 159832.0, 452.0, 346373.0, 60665.0, 358452.0, 368710.0, 268046.0, 54273.0, 54273.0, 452.0, 90548.0, 71090.0, 346324.0, 247389.0, 374253.0, 43010.0, 252664.0, 319947.0, 319947.0, 154323.0, 357266.0, 148908.0, 57836.0, 42972.0, 2479.0, 42974.0, 268046.0, 268046.0, 54431.0, 360915.0, 338150.0, 293485.0, 188481.0, 130265.0, 268046.0, 303225.0, 54718.0, 101471.0, 112328.0, 323165.0, 388756.0, 239170.0, 150400.0, 452.0, 249714.0, 302801.0, 122459.0, 174642.0, 143026.0, 357266.0, 242245.0, 360915.0, 93054.0, 388711.0, 372014.0, 239170.0, 150400.0, 42972.0, 15341.0, 42974.0, 452.0, 239170.0, 349635.0, 150400.0, 42972.0, 21828.0, 42974.0, 452.0, 130265.0, 268046.0, 58548.0, 112328.0, 323165.0, 42972.0, 26559.0, 42974.0, 158.0, 388711.0, 372014.0, 239170.0, 150400.0, 324.0, 54718.0, 344865.0, 114045.0, 130265.0, 42972.0, 30387.0, 42974.0, 867.0, 357266.0, 357266.0, 57920.0, 174032.0, 43010.0, 265557.0, 268046.0, 125762.0, 47006.0, 273428.0, 155017.0, 265592.0, 242260.0, 60665.0, 193716.0, 192973.0, 186365.0, 346835.0, 360915.0, 172590.0, 178545.0, 153799.0, 54718.0, 357266.0, 106512.0, 106349.0, 192973.0, 270201.0, 234406.0, 249714.0, 357109.0, 89636.0, 357266.0, 357266.0, 190592.0, 43010.0, 344148.0, 277135.0, 277135.0, 357266.0, 45289.0, 54718.0, 374176.0, 268046.0, 357266.0, 252664.0, 319947.0, 57920.0, 174032.0, 71814.0, 375433.0, 47889.0, 47889.0, 242260.0, 42972.0, 33544.0, 42974.0, 151349.0, 302329.0, 302329.0, 107108.0, 54718.0, 45667.0, 153799.0, 42972.0, 36293.0, 42974.0, 867.0], [358462.0, 452.0, 188481.0, 358160.0, 220941.0, 384374.0, 174642.0, 107873.0, 357266.0, 357266.0, 77486.0, 180526.0, 188481.0, 357266.0, 291748.0, 268046.0, 43010.0, 109834.0, 107783.0, 54718.0, 125162.0, 357354.0, 357704.0, 293518.0, 452.0, 233708.0, 193642.0, 182573.0, 343257.0, 305151.0, 360915.0, 71090.0, 71090.0, 384374.0, 209645.0, 357212.0, 357212.0, 46892.0, 77486.0, 180526.0, 371301.0, 371301.0, 283048.0, 283048.0, 358160.0, 363985.0, 160457.0, 247475.0, 60665.0, 384374.0, 188836.0, 188836.0, 109482.0, 191811.0, 191811.0, 384374.0, 181581.0, 360915.0, 92747.0, 272930.0, 43010.0, 122128.0, 345195.0, 269798.0, 358160.0, 193637.0, 188481.0, 357266.0, 357266.0, 155503.0, 452.0, 188481.0, 357266.0, 108098.0, 268046.0, 82955.0, 389938.0, 109838.0, 452.0, 193716.0, 383514.0, 152393.0, 357212.0, 43010.0, 82955.0, 251070.0, 188481.0, 43010.0, 43010.0, 46892.0, 65760.0, 159437.0, 263342.0, 109838.0, 42972.0, 10064.0, 42974.0, 867.0, 182573.0, 452.0, 60665.0, 330028.0, 188481.0, 42972.0, 10741.0, 42974.0, 452.0, 357266.0, 82955.0, 52879.0, 112451.0, 357266.0, 190316.0, 181735.0, 268046.0, 357266.0, 86545.0, 159832.0, 452.0, 111453.0, 54273.0, 54273.0, 193716.0, 390139.0, 71090.0, 191290.0, 360915.0, 345195.0, 109838.0, 269798.0, 357266.0, 82955.0, 386424.0, 193716.0, 192973.0, 251070.0, 188481.0, 357266.0, 97103.0, 77486.0, 180518.0, 65765.0, 357212.0, 384374.0, 174642.0, 174642.0, 264588.0, 357212.0, 332240.0, 357761.0, 97103.0, 180526.0, 126848.0, 264550.0, 174642.0, 190316.0, 181735.0, 151349.0, 95614.0, 300364.0, 268046.0, 277191.0, 452.0, 384374.0, 237383.0, 159435.0, 263342.0, 109838.0, 388756.0, 111453.0, 357266.0, 190713.0, 357212.0, 384374.0, 174642.0, 200035.0, 241110.0, 867.0], [188481.0, 357761.0, 152909.0, 452.0, 182573.0, 452.0, 357266.0, 283877.0, 338610.0, 124206.0, 192973.0, 54273.0, 190461.0, 301000.0, 357109.0, 43010.0, 291290.0, 268046.0, 357266.0, 357266.0, 188481.0, 143954.0, 452.0, 188481.0, 341454.0, 357595.0, 386960.0, 166258.0, 323173.0, 192973.0, 121731.0, 88126.0, 357266.0, 357266.0, 45830.0, 452.0, 357640.0, 192973.0, 262350.0, 267315.0, 360915.0, 281307.0, 124207.0, 303679.0, 360915.0, 338611.0, 268046.0, 124213.0, 124213.0, 357412.0, 357266.0, 297566.0, 59351.0, 452.0, 332240.0, 332240.0, 245362.0, 338556.0, 192973.0, 43010.0, 237313.0, 158.0, 347715.0, 324.0, 350009.0, 341956.0, 452.0, 54718.0, 357266.0, 357607.0, 192973.0, 385230.0, 59937.0, 193716.0, 452.0, 386984.0, 357266.0, 357607.0, 126848.0, 264550.0, 323926.0, 358160.0, 107106.0, 60665.0, 357266.0, 374977.0, 452.0, 87775.0, 190756.0, 452.0, 193716.0, 99952.0, 43010.0, 278014.0, 106134.0, 338556.0, 388711.0, 220815.0, 220815.0, 54273.0, 186348.0, 333190.0, 452.0, 190756.0, 452.0, 390139.0, 71090.0, 357212.0, 357266.0, 357266.0, 357607.0, 131665.0, 291288.0, 43010.0, 226394.0, 137256.0, 304216.0, 386474.0, 110156.0, 270201.0, 71090.0, 43010.0, 152453.0, 133900.0, 133900.0, 188481.0, 346373.0, 43010.0, 320240.0, 452.0, 43010.0, 65760.0, 337176.0, 388711.0, 54273.0, 133900.0, 338610.0, 124206.0, 114975.0, 42962.0, 26559.0, 329916.0, 71090.0, 142758.0, 360915.0, 71090.0, 43010.0, 144617.0, 374977.0, 386432.0, 357266.0, 293487.0, 151349.0, 357266.0, 131664.0, 147828.0, 58997.0, 187381.0, 452.0, 220849.0, 43010.0, 226394.0, 137256.0, 133900.0, 357607.0, 110156.0, 142627.0, 188481.0, 124213.0, 178545.0, 357109.0, 152427.0, 867.0], [188481.0, 358160.0, 276859.0, 452.0, 182573.0, 452.0, 384374.0, 291371.0, 357266.0, 332124.0, 399910.0, 152899.0, 399913.0, 94956.0, 136616.0, 88126.0, 88126.0, 54718.0, 278659.0, 42972.0, 11458.0, 42974.0, 452.0, 386432.0, 357266.0, 327884.0, 344607.0, 192973.0, 159436.0, 88126.0, 107853.0, 357266.0, 377040.0, 188481.0, 43010.0, 399910.0, 152894.0, 399913.0, 301000.0, 357109.0, 88126.0, 247482.0, 357266.0, 327393.0, 268046.0, 357266.0, 357266.0, 357266.0, 152899.0, 94956.0, 192973.0, 281445.0, 452.0, 87775.0, 384374.0, 90548.0, 264550.0, 332148.0, 89632.0, 357266.0, 63975.0, 344607.0, 188481.0, 357266.0, 386897.0, 82218.0, 71494.0, 357266.0, 291748.0, 268046.0, 54273.0, 143066.0, 86224.0, 390139.0, 292969.0, 340380.0, 340380.0, 384374.0, 258451.0, 357266.0, 224573.0, 344607.0, 188481.0, 357266.0, 109103.0, 304237.0, 452.0, 87775.0, 358160.0, 106357.0, 357266.0, 357266.0, 356157.0, 188481.0, 188481.0, 158.0, 21828.0, 324.0, 867.0, 357640.0, 58997.0, 272583.0, 242260.0, 360915.0, 89632.0, 357266.0, 344607.0, 355905.0, 346373.0, 60665.0, 357266.0, 242245.0, 268046.0, 286077.0, 42972.0, 24111.0, 42974.0, 452.0, 357266.0, 357266.0, 57920.0, 42972.0, 42972.0, 42974.0, 452.0, 270970.0, 357266.0, 242245.0, 121485.0, 154323.0, 357266.0, 357266.0, 379596.0, 304963.0, 42972.0, 19833.0, 42974.0, 452.0, 87775.0, 452.0, 188481.0, 159391.0, 452.0, 384374.0, 253767.0, 99949.0, 74651.0, 43010.0, 106356.0, 106512.0, 94956.0, 158.0, 185635.0, 185635.0, 94956.0, 324.0, 54718.0, 332143.0, 357266.0, 89638.0, 268046.0, 357266.0, 248246.0, 150594.0, 452.0, 270970.0, 43010.0, 332120.0, 94956.0, 158.0, 185635.0, 152899.0, 94956.0, 324.0, 54718.0, 106358.0, 357266.0, 89638.0, 268046.0, 357266.0, 248246.0, 248246.0, 357266.0, 259972.0, 242245.0, 384374.0, 293582.0, 177231.0, 126848.0, 264550.0, 258451.0, 357266.0, 124729.0, 89638.0, 268046.0, 357266.0, 150594.0, 452.0, 336114.0, 193716.0, 64177.0, 358160.0, 193637.0, 52720.0, 42867.0, 384374.0, 90548.0, 374163.0, 357266.0, 152899.0, 94956.0, 54718.0, 452.0, 62065.0, 357266.0, 316998.0, 359889.0, 452.0, 64170.0, 357266.0, 89638.0, 268046.0, 357266.0, 187098.0, 138623.0, 867.0], [372358.0, 108379.0, 236514.0, 374168.0, 188481.0, 259292.0, 360536.0, 137410.0, 452.0, 278164.0, 90548.0, 71090.0, 124758.0, 190199.0, 188481.0, 380115.0, 191811.0, 247396.0, 54718.0, 339925.0, 324000.0, 191811.0, 256288.0, 188481.0, 58155.0, 58155.0, 155503.0, 452.0, 278164.0, 90548.0, 155211.0, 60665.0, 76576.0, 236514.0, 142516.0, 88126.0, 88126.0, 278164.0, 42972.0, 41494.0, 42974.0, 867.0, 108379.0, 236514.0, 268345.0, 305141.0, 269798.0, 135239.0, 60665.0, 43010.0, 233664.0, 242245.0, 360915.0, 45457.0, 45457.0, 344940.0, 346829.0, 151349.0, 374163.0, 188481.0, 259292.0, 259292.0, 357266.0, 324003.0, 257320.0, 268046.0, 278164.0, 52074.0, 357388.0, 360915.0, 101525.0, 109959.0, 233664.0, 233664.0, 182573.0, 452.0, 188481.0, 108256.0, 360915.0, 108379.0, 233664.0, 242260.0, 222471.0, 135239.0, 386432.0, 297112.0, 54718.0, 54718.0, 376097.0, 90548.0, 71090.0, 359627.0, 108314.0, 452.0, 241341.0, 305143.0, 269798.0, 324003.0, 60665.0, 43010.0, 242245.0, 268046.0, 217460.0, 105872.0, 292986.0, 192973.0, 343257.0, 54273.0, 142820.0, 142820.0, 281353.0, 357266.0, 260309.0, 342773.0, 390139.0, 71090.0, 360915.0, 92055.0, 106189.0, 54718.0, 108256.0, 357266.0, 309979.0, 268046.0, 268046.0, 278164.0, 360915.0, 360915.0, 360915.0, 162058.0, 357212.0, 357266.0, 107829.0, 135310.0, 188481.0, 278164.0, 54718.0, 143066.0, 143995.0, 222471.0, 282874.0, 90548.0, 47483.0, 193919.0, 344930.0, 61606.0, 452.0, 277191.0, 253767.0, 71090.0, 148459.0, 367253.0, 54718.0, 270910.0, 188481.0, 271173.0, 151349.0, 274680.0, 256288.0, 360915.0, 71090.0, 374168.0, 60665.0, 43010.0, 155039.0, 105886.0, 239526.0, 292984.0, 42972.0, 41623.0, 42974.0, 867.0], [193716.0, 329916.0, 71090.0, 264597.0, 357212.0, 357212.0, 42972.0, 17991.0, 42974.0, 54718.0, 262748.0, 42972.0, 17044.0, 42974.0, 267267.0, 43010.0, 125135.0, 74651.0, 142820.0, 399694.0, 300978.0, 54718.0, 358452.0, 140080.0, 388711.0, 197226.0, 42972.0, 11458.0, 42974.0, 867.0, 262748.0, 42972.0, 17044.0, 42974.0, 293583.0, 360915.0, 307025.0, 337259.0, 268046.0, 357266.0, 277191.0, 374168.0, 388747.0, 197226.0, 360915.0, 267324.0, 74597.0, 74597.0, 357645.0, 452.0, 151349.0, 357266.0, 295589.0, 268046.0, 358160.0, 54431.0, 141855.0, 385664.0, 332176.0, 81562.0, 388711.0, 357266.0, 119238.0, 325991.0, 54718.0, 388711.0, 357266.0, 325991.0, 293583.0, 88126.0, 262748.0, 268046.0, 205835.0, 197226.0, 277191.0, 452.0, 352025.0, 54273.0, 63975.0, 74651.0, 357388.0, 60665.0, 43010.0, 306708.0, 54718.0, 171586.0, 43010.0, 123763.0, 60665.0, 43010.0, 350373.0, 350373.0, 384374.0, 374168.0, 142820.0, 300978.0, 268046.0, 222292.0, 259856.0, 241827.0, 54718.0, 306463.0, 386432.0, 63822.0, 158.0, 351098.0, 2479.0, 324.0, 151349.0, 264174.0, 264174.0, 357266.0, 370908.0, 191916.0, 88126.0, 357266.0, 197226.0, 277188.0, 325993.0, 158.0, 386474.0, 53977.0, 360915.0, 17044.0, 41.0, 62065.0, 250392.0, 324.0, 47498.0, 270201.0, 357266.0, 292986.0, 268046.0, 357266.0, 357266.0, 54718.0, 399728.0, 151349.0, 386474.0, 262350.0, 142820.0, 117493.0, 58997.0, 58997.0, 358160.0, 370908.0, 192973.0, 303938.0, 188481.0, 357266.0, 139198.0, 298019.0, 188481.0, 357266.0, 357266.0, 182573.0, 452.0, 332240.0, 357266.0, 108284.0, 154323.0, 154323.0, 54718.0, 399728.0, 192973.0, 335129.0, 452.0, 357266.0, 273500.0, 133896.0, 192973.0, 220815.0, 188273.0, 867.0], [121972.0, 357266.0, 369515.0, 268046.0, 359896.0, 131664.0, 350396.0, 188481.0, 257320.0, 452.0, 357640.0, 174032.0, 71814.0, 304970.0, 223830.0, 389836.0, 127491.0, 269798.0, 357266.0, 54431.0, 268046.0, 359889.0, 325550.0, 154323.0, 346373.0, 346373.0, 236562.0, 357810.0, 58997.0, 209675.0, 60665.0, 262842.0, 350396.0, 452.0, 386474.0, 58997.0, 256053.0, 60665.0, 346373.0, 71494.0, 452.0, 372358.0, 63693.0, 350396.0, 452.0, 188481.0, 46223.0, 360915.0, 357266.0, 287518.0, 188481.0, 338556.0, 273428.0, 386474.0, 357810.0, 58997.0, 267267.0, 357810.0, 58997.0, 52520.0, 189768.0, 88126.0, 357266.0, 287518.0, 188481.0, 188481.0, 302802.0, 357640.0, 174032.0, 71814.0, 251645.0, 389836.0, 269798.0, 357266.0, 124729.0, 399910.0, 81659.0, 399913.0, 57920.0, 360915.0, 357761.0, 350396.0, 452.0, 386474.0, 188838.0, 357266.0, 191921.0, 268046.0, 43010.0, 345773.0, 209675.0, 60665.0, 60665.0, 350396.0, 357212.0, 58997.0, 44493.0, 360915.0, 247378.0, 357266.0, 341045.0, 87775.0, 359934.0, 153799.0, 268046.0, 272059.0, 188481.0, 224021.0, 350396.0, 42972.0, 38731.0, 42974.0, 867.0, 188481.0, 108256.0, 452.0, 357266.0, 359889.0, 325550.0, 54431.0, 268046.0, 357761.0, 350396.0, 452.0, 303888.0, 360915.0, 60665.0, 357266.0, 192082.0, 270970.0, 399910.0, 362070.0, 399913.0, 57920.0, 452.0, 174032.0, 264550.0, 71814.0, 345171.0, 188481.0, 122128.0, 122128.0, 358160.0, 192973.0, 278069.0, 71494.0, 262842.0, 350396.0, 90548.0, 343257.0, 71090.0, 54426.0, 188481.0, 357266.0, 316998.0, 384122.0, 60665.0, 272583.0, 368687.0, 268046.0, 350396.0, 188481.0, 81562.0, 357266.0, 122200.0, 42972.0, 4961.0, 42974.0, 54718.0, 357266.0, 343462.0, 42972.0, 6765.0, 42974.0, 42974.0, 182573.0, 452.0, 193716.0, 192973.0, 264937.0, 59184.0, 357212.0, 358160.0, 368669.0, 268046.0, 54431.0, 192973.0, 190856.0, 54718.0, 357212.0, 54273.0, 137938.0, 259972.0, 54439.0, 152908.0, 192973.0, 306174.0, 360915.0, 294037.0, 43010.0, 249714.0, 374174.0, 284277.0, 268046.0, 346373.0, 346373.0, 188481.0, 357266.0, 93018.0, 268046.0, 268046.0, 350396.0, 337259.0, 242260.0, 174642.0, 52477.0, 71814.0, 122450.0, 151349.0, 357266.0, 192082.0, 57920.0, 54718.0, 357810.0, 174642.0, 330028.0, 360915.0, 71090.0, 374174.0, 188481.0, 54430.0, 175449.0, 300964.0, 376097.0, 42972.0, 8172.0, 42974.0, 867.0, 43010.0, 159391.0, 54718.0, 119047.0, 292834.0, 151349.0, 54430.0, 262842.0, 350396.0, 174032.0, 343257.0, 264550.0, 71814.0, 351238.0, 358462.0, 867.0], [384374.0, 54443.0, 357266.0, 123137.0, 54718.0, 363985.0, 230423.0, 54718.0, 135111.0, 124673.0, 248245.0, 268046.0, 97103.0, 220663.0, 188481.0, 143026.0, 354625.0, 158.0, 140213.0, 324.0, 247396.0, 452.0, 352025.0, 45230.0, 268046.0, 357266.0, 252714.0, 257320.0, 268046.0, 357266.0, 140213.0, 158386.0, 350014.0, 83369.0, 452.0, 107165.0, 158.0, 382627.0, 324.0, 72020.0, 268046.0, 357266.0, 354625.0, 357607.0, 452.0, 54718.0, 246698.0, 188481.0, 357266.0, 357266.0, 236058.0, 236058.0, 384374.0, 329974.0, 357212.0, 246698.0, 133907.0, 127302.0, 357266.0, 140213.0, 108285.0, 360915.0, 97103.0, 220662.0, 135111.0, 124673.0, 248245.0, 54718.0, 357212.0, 357761.0, 90548.0, 393809.0, 43010.0, 375624.0, 268046.0, 268046.0, 106180.0, 360915.0, 357266.0, 113946.0, 113946.0, 357266.0, 300964.0, 151349.0, 151349.0, 90548.0, 52520.0, 71090.0, 103049.0, 360915.0, 193919.0, 193919.0, 154323.0, 357761.0, 54718.0, 272583.0, 292852.0, 384374.0, 121484.0, 107856.0, 269798.0, 357266.0, 97103.0, 220662.0, 246698.0, 246698.0, 357266.0, 107856.0, 58997.0, 346373.0, 357212.0, 357266.0, 140213.0, 108284.0, 360915.0, 357266.0, 253114.0, 55999.0, 230423.0, 248238.0, 452.0, 386474.0, 188838.0, 43010.0, 331417.0, 220662.0, 246698.0, 356157.0, 452.0, 90548.0, 57920.0, 452.0, 87775.0, 126848.0, 264550.0, 142313.0, 452.0, 357266.0, 113946.0, 325039.0, 221115.0, 867.0], [179623.0, 452.0, 357266.0, 192129.0, 268046.0, 268046.0, 383514.0, 270201.0, 374168.0, 151349.0, 357266.0, 362192.0, 348406.0, 268046.0, 152277.0, 236058.0, 267460.0, 452.0, 121257.0, 124758.0, 269798.0, 357266.0, 322569.0, 322569.0, 130319.0, 360915.0, 357266.0, 145460.0, 122455.0, 268046.0, 379651.0, 242260.0, 158.0, 132176.0, 452.0, 452.0, 452.0, 452.0, 452.0, 452.0, 452.0, 140214.0, 324.0, 193716.0, 71488.0, 289446.0, 452.0, 360915.0, 192125.0, 357266.0, 191343.0, 271468.0, 268046.0, 346373.0, 152277.0, 236058.0, 267460.0, 188481.0, 358584.0, 358584.0, 52673.0, 452.0, 43010.0, 325550.0, 268046.0, 275695.0, 345173.0, 118258.0, 388711.0, 388711.0, 268046.0, 268046.0, 452.0, 262350.0, 236058.0, 267459.0, 174032.0, 292067.0, 71814.0, 303118.0, 358549.0, 124209.0, 151349.0, 192128.0, 357354.0, 191343.0, 191343.0, 358160.0, 345195.0, 187520.0, 54273.0, 191273.0, 57920.0, 268046.0, 379651.0, 303120.0, 452.0, 54429.0, 54718.0, 191579.0, 268046.0, 357266.0, 191343.0, 271468.0, 268046.0, 54273.0, 53849.0, 236058.0, 236058.0, 357266.0, 242245.0, 139954.0, 177244.0, 292979.0, 102471.0, 54718.0, 107700.0, 306717.0, 374253.0, 374253.0, 104639.0, 53849.0, 328169.0, 399907.0, 152285.0, 452.0, 357212.0, 336114.0, 144971.0, 390139.0, 174642.0, 71814.0, 374168.0, 270201.0, 388711.0, 94072.0, 151349.0, 121261.0, 121261.0, 358160.0, 242245.0, 90548.0, 71090.0, 57844.0, 360915.0, 57170.0, 207715.0, 268046.0, 152277.0, 236058.0, 267459.0, 452.0, 270970.0, 141816.0, 272583.0, 44899.0, 271342.0, 135310.0, 54718.0, 278011.0, 452.0, 360915.0, 142273.0, 357354.0, 271468.0, 54718.0, 121261.0, 106927.0, 360915.0, 106803.0, 269798.0, 357354.0, 275679.0, 452.0, 278020.0, 269798.0, 269798.0, 867.0], [351098.0, 2479.0, 223663.0, 38601.0, 275358.0, 268046.0, 65064.0, 65064.0, 188481.0, 143954.0, 452.0, 357640.0, 58997.0, 249714.0, 118650.0, 275358.0, 452.0, 332240.0, 233708.0, 268046.0, 357266.0, 278011.0, 188481.0, 357266.0, 148339.0, 342019.0, 90548.0, 71090.0, 267267.0, 60665.0, 134678.0, 294413.0, 158.0, 274488.0, 324.0, 270970.0, 376703.0, 158.0, 374768.0, 324.0, 324.0, 264588.0, 357212.0, 95614.0, 118654.0, 58997.0, 390450.0, 188481.0, 356212.0, 268046.0, 381564.0, 148339.0, 342019.0, 452.0, 386495.0, 272587.0, 58997.0, 174642.0, 290352.0, 342025.0, 357640.0, 58997.0, 358549.0, 302484.0, 151349.0, 151349.0, 148908.0, 452.0, 337259.0, 118654.0, 192213.0, 43010.0, 43010.0, 43010.0, 182573.0, 452.0, 142824.0, 193716.0, 387696.0, 71090.0, 258303.0, 360915.0, 148427.0, 357266.0, 118650.0, 377901.0, 268046.0, 357266.0, 148339.0, 148339.0, 358160.0, 192973.0, 379657.0, 188297.0, 151349.0, 43010.0, 43010.0, 452.0, 54718.0, 336114.0, 384374.0, 52879.0, 374163.0, 43010.0, 43010.0, 323025.0, 452.0, 337259.0, 275358.0, 268046.0, 118654.0, 58997.0, 304958.0, 88126.0, 345487.0, 158.0, 21828.0, 324.0, 188481.0, 357266.0, 335090.0, 270201.0, 186645.0, 54273.0, 158.0, 158.0, 324.0, 297202.0, 275346.0, 192973.0, 192973.0, 182573.0, 452.0, 357640.0, 58997.0, 262350.0, 274488.0, 153.0, 386474.0, 58997.0, 295472.0, 158.0, 158.0, 324.0, 867.0, 357266.0, 241827.0, 399661.0, 54718.0, 54718.0, 174642.0, 54273.0, 158.0, 158.0, 324.0, 106381.0, 452.0, 87775.0, 357810.0, 52520.0, 174642.0, 331417.0, 158.0, 158.0, 324.0, 54718.0, 158.0, 158.0, 324.0, 324.0, 60665.0, 43010.0, 306708.0, 357266.0, 357266.0, 54718.0, 54718.0, 118654.0, 58997.0, 264550.0, 302352.0, 304958.0, 88126.0, 345487.0, 158.0, 21828.0, 324.0, 188481.0, 357266.0, 335090.0, 186645.0, 357266.0, 148339.0, 341956.0, 192217.0, 54273.0, 399661.0, 270970.0, 270970.0, 384374.0, 357645.0, 107661.0, 190756.0, 357266.0, 376703.0, 241824.0, 399728.0, 386474.0, 192973.0, 139908.0, 43010.0, 295472.0, 158.0, 158.0, 324.0, 297202.0, 297202.0, 148356.0, 452.0, 384374.0, 306173.0, 357212.0, 81562.0, 65234.0, 54718.0, 54718.0, 71090.0, 44493.0, 360915.0, 118650.0, 360915.0, 357266.0, 148339.0, 148339.0, 358160.0, 90548.0, 264550.0, 173061.0, 186645.0, 357266.0, 148339.0, 341956.0, 108008.0, 43010.0, 332395.0, 200429.0, 158.0, 270970.0, 270970.0, 324.0, 324.0, 182573.0, 452.0, 193716.0, 90548.0, 267452.0, 186645.0, 358160.0, 358160.0, 278008.0, 192973.0, 54273.0, 142393.0, 259856.0, 259856.0, 188481.0, 358160.0, 93018.0, 269953.0, 118650.0, 192217.0, 192217.0, 452.0, 386495.0, 357266.0, 272583.0, 174032.0, 174032.0, 61766.0, 357212.0, 357266.0, 376703.0, 241824.0, 192973.0, 122153.0, 378206.0, 193919.0, 118650.0, 360915.0, 360915.0, 158.0, 60665.0, 188481.0, 357266.0, 239230.0, 268046.0, 268046.0, 378206.0, 378206.0, 158.0, 350784.0, 324.0, 324.0, 324.0, 452.0, 357412.0, 81562.0, 65234.0, 54718.0, 54718.0, 90548.0, 118650.0, 360915.0, 357266.0, 316998.0, 148339.0, 341956.0, 867.0], [272881.0, 48971.0, 192973.0, 360915.0, 191915.0, 376703.0, 241827.0, 188481.0, 356212.0, 268046.0, 43010.0, 215899.0, 386474.0, 319040.0, 357266.0, 226394.0, 137256.0, 113946.0, 113946.0, 269953.0, 107700.0, 242245.0, 192973.0, 188481.0, 356212.0, 268046.0, 43010.0, 263129.0, 99391.0, 215899.0, 388711.0, 43010.0, 178261.0, 224573.0, 350014.0, 42972.0, 33544.0, 42974.0, 867.0, 188481.0, 358160.0, 357607.0, 357266.0, 376703.0, 241827.0, 136325.0, 60665.0, 131664.0, 376703.0, 376703.0, 357266.0, 358549.0, 287479.0, 287479.0, 319920.0, 191138.0, 192973.0, 162058.0, 88126.0, 158.0, 6765.0, 324.0, 324.0, 158.0, 158.0, 324.0, 324.0, 452.0, 386432.0, 170290.0, 341520.0, 151349.0, 357266.0, 357266.0, 357266.0, 337259.0, 368710.0, 377901.0, 268046.0, 399694.0, 153.0, 360915.0, 294413.0, 241827.0, 58997.0, 158.0, 8172.0, 324.0, 324.0, 158.0, 274608.0, 324.0, 324.0, 158.0, 274623.0, 324.0, 324.0, 42867.0, 170290.0, 158.0, 158.0, 324.0, 324.0, 452.0, 452.0, 158.0, 274608.0, 324.0, 324.0, 158.0, 274623.0, 324.0, 324.0, 42867.0, 170290.0, 158.0, 158.0, 324.0, 324.0, 452.0, 452.0, 158.0, 274608.0, 324.0, 324.0, 158.0, 274623.0, 324.0, 324.0, 42867.0, 170373.0, 158.0, 158.0, 324.0, 324.0, 452.0, 140214.0, 452.0, 386474.0, 192973.0, 124758.0, 304958.0, 360915.0, 357266.0, 399694.0, 118650.0, 387219.0, 42867.0, 399642.0, 158.0, 399694.0, 324.0, 324.0, 158.0, 158.0, 324.0, 324.0, 158.0, 158.0, 324.0, 452.0, 386432.0, 386432.0, 192973.0, 357266.0, 248246.0, 268046.0, 148339.0, 341956.0, 285243.0, 188481.0, 357266.0, 399694.0, 306581.0, 306581.0, 388711.0, 399642.0, 158.0, 399694.0, 324.0, 324.0, 452.0, 384374.0, 148427.0, 148427.0, 384374.0, 264588.0, 188481.0, 278423.0, 357212.0, 357266.0, 357266.0, 304963.0, 162064.0, 357266.0, 375624.0, 375624.0, 158.0, 158.0, 324.0, 42972.0, 8172.0, 42974.0, 867.0, 359056.0, 357266.0, 375624.0, 268046.0, 170290.0, 188481.0, 188481.0, 158.0, 26559.0, 324.0, 54718.0, 357266.0, 368321.0, 375636.0, 188481.0, 358160.0, 277101.0, 123760.0, 88126.0, 335129.0, 53977.0, 158.0, 158.0, 41.0, 324.0, 867.0, 357266.0, 344851.0, 152507.0, 377901.0, 192218.0, 285243.0, 58997.0, 267326.0, 154323.0, 357266.0, 148908.0, 368321.0, 356212.0, 268046.0, 268046.0, 158.0, 30387.0, 324.0, 867.0, 357266.0, 384383.0, 377901.0, 58997.0, 267326.0, 154323.0, 357266.0, 119374.0, 268046.0, 296353.0, 54718.0, 54718.0, 188481.0, 357266.0, 265592.0, 389836.0, 384374.0, 327043.0, 374163.0, 357266.0, 375624.0, 268046.0, 170290.0, 154323.0, 154323.0, 158.0, 26559.0, 324.0, 54718.0, 52520.0, 52520.0, 267326.0, 154323.0, 357266.0, 118650.0, 387219.0, 867.0], [225470.0, 71177.0, 54718.0, 353325.0, 353325.0, 62047.0, 174642.0, 71814.0, 62065.0, 357266.0, 95187.0, 268046.0, 357266.0, 62719.0, 217901.0, 452.0, 332240.0, 357810.0, 174642.0, 71814.0, 239228.0, 88126.0, 357266.0, 177368.0, 54718.0, 102190.0, 142820.0, 104921.0, 42972.0, 42972.0, 42974.0, 54718.0, 249714.0, 239231.0, 58997.0, 58997.0, 357810.0, 385664.0, 271500.0, 72478.0, 360915.0, 71090.0, 331391.0, 268046.0, 357266.0, 336118.0, 336118.0, 152848.0, 155226.0, 42972.0, 30387.0, 42974.0, 452.0, 188481.0, 278014.0, 452.0, 268046.0, 357266.0, 105109.0, 155211.0, 42972.0, 42972.0, 42974.0, 867.0, 182573.0, 452.0, 81562.0, 368687.0, 268046.0, 62048.0, 90548.0, 302789.0, 108285.0, 52520.0, 154323.0, 154323.0, 125818.0, 155226.0, 42972.0, 42972.0, 42974.0, 452.0, 43010.0, 143954.0, 357212.0, 174032.0, 268345.0, 71814.0, 258609.0, 188481.0, 188481.0, 54273.0, 142572.0, 364480.0, 268046.0, 357266.0, 108285.0, 268046.0, 268046.0, 125818.0, 155226.0, 174032.0, 264550.0, 71814.0, 92687.0, 272930.0, 106329.0, 336114.0, 144971.0, 452.0, 139731.0, 373317.0, 360915.0, 360915.0, 271173.0, 188481.0, 54273.0, 142731.0, 188481.0, 188481.0, 452.0, 296345.0, 72182.0, 357266.0, 379654.0, 268046.0, 357266.0, 188786.0, 283681.0, 54718.0, 357266.0, 270201.0, 173236.0, 319932.0, 268046.0, 357266.0, 292848.0, 452.0, 54718.0, 188839.0, 297202.0, 236058.0, 236058.0, 193716.0, 192973.0, 357266.0, 295589.0, 268046.0, 357266.0, 291753.0, 389836.0, 360915.0, 121730.0, 357266.0, 225470.0, 71177.0, 54718.0, 353325.0, 339515.0, 62047.0, 188481.0, 43010.0, 106326.0, 384122.0, 188481.0, 356212.0, 268046.0, 218977.0, 54718.0, 54718.0, 368284.0, 125818.0, 54718.0, 152848.0, 152848.0, 384374.0, 107661.0, 81562.0, 332459.0, 188843.0, 124852.0, 452.0, 452.0, 452.0, 54718.0, 54718.0, 188843.0, 124852.0, 452.0, 452.0, 384374.0, 61762.0, 143992.0, 180512.0, 151349.0, 357761.0, 292852.0, 452.0, 141816.0, 358462.0, 62065.0, 291753.0, 357640.0, 192973.0, 262350.0, 143992.0, 293458.0, 151349.0, 267248.0, 108005.0, 108005.0, 108005.0, 121166.0, 155226.0, 158.0, 270201.0, 302802.0, 293468.0, 151349.0, 357266.0, 357266.0, 93018.0, 174642.0, 71814.0, 291763.0, 188481.0, 188481.0, 42972.0, 42972.0, 42974.0, 324.0, 867.0], [342019.0, 273278.0, 357266.0, 107829.0, 297202.0, 247378.0, 174642.0, 71814.0, 185221.0, 360915.0, 142627.0, 52261.0, 332240.0, 357266.0, 191921.0, 268046.0, 105304.0, 42972.0, 42972.0, 42974.0, 867.0, 184682.0, 241827.0, 452.0, 452.0, 342019.0, 388711.0, 54273.0, 46712.0, 268046.0, 162978.0, 452.0, 54718.0, 54718.0, 452.0, 342019.0, 388711.0, 262350.0, 297202.0, 108067.0, 452.0, 305141.0, 269798.0, 357266.0, 323981.0, 191138.0, 293520.0, 268046.0, 162978.0, 130319.0, 360915.0, 357354.0, 105304.0, 105304.0, 225644.0, 151349.0, 151349.0, 390139.0, 71090.0, 357266.0, 250392.0, 267358.0, 384122.0, 360915.0, 148427.0, 141986.0, 151349.0, 342019.0, 388711.0, 107829.0, 162978.0, 42950.0, 182573.0, 452.0, 357266.0, 322769.0, 192973.0, 179065.0, 88126.0, 357266.0, 143954.0, 357212.0, 357761.0, 342019.0, 237383.0, 331418.0, 246670.0, 388711.0, 304363.0, 304363.0, 188481.0, 357266.0, 304237.0, 386432.0, 357266.0, 222336.0, 58997.0, 291288.0, 360915.0, 360915.0, 60665.0, 346373.0, 452.0, 357810.0, 237383.0, 264550.0, 71090.0, 267247.0, 60665.0, 295472.0, 342019.0, 54718.0, 125214.0, 357266.0, 267267.0, 339086.0, 237383.0, 71090.0, 43010.0, 377946.0, 123789.0, 123789.0, 190756.0, 452.0, 184682.0, 241827.0, 158.0, 158.0, 324.0, 237383.0, 71090.0, 43010.0, 74597.0, 285908.0, 360915.0, 322769.0, 151349.0, 141986.0, 268046.0, 306463.0, 273278.0, 357266.0, 107829.0, 297202.0, 247378.0, 452.0, 139731.0, 332240.0, 357266.0, 222336.0, 268046.0, 357763.0, 342019.0, 58997.0, 291288.0, 360915.0, 174642.0, 142713.0, 297180.0, 265568.0, 268046.0, 339515.0, 452.0, 277597.0, 452.0, 54718.0, 97097.0, 107368.0, 452.0, 199150.0, 452.0, 357212.0, 192973.0, 452.0, 105578.0, 357212.0, 58997.0, 370762.0, 88126.0, 304363.0, 304363.0, 867.0], [357266.0, 295589.0, 268046.0, 358160.0, 220941.0, 192973.0, 360915.0, 56160.0, 357266.0, 44617.0, 297566.0, 54718.0, 360915.0, 107195.0, 358452.0, 358452.0, 356854.0, 268046.0, 220662.0, 236058.0, 236733.0, 388711.0, 357266.0, 217932.0, 142820.0, 142820.0, 148908.0, 452.0, 384374.0, 327043.0, 291753.0, 43010.0, 106797.0, 54431.0, 268046.0, 357266.0, 220662.0, 236058.0, 236733.0, 188481.0, 351098.0, 2479.0, 54718.0, 307133.0, 357354.0, 193477.0, 146160.0, 452.0, 256057.0, 452.0, 357810.0, 174642.0, 357266.0, 316998.0, 283138.0, 107617.0, 452.0, 52673.0, 357354.0, 344940.0, 58997.0, 57698.0, 57698.0, 323025.0, 452.0, 384374.0, 327043.0, 142273.0, 357266.0, 291291.0, 268046.0, 357761.0, 220662.0, 236058.0, 236733.0, 88126.0, 106192.0, 357388.0, 388711.0, 357266.0, 357266.0, 54718.0, 54718.0, 191716.0, 268046.0, 368321.0, 259872.0, 259872.0, 123765.0, 54718.0, 358549.0, 220662.0, 149781.0, 246698.0, 246698.0, 71090.0, 339034.0, 452.0, 384374.0, 231458.0, 374163.0, 268046.0, 357266.0, 357266.0, 54718.0, 54718.0, 191716.0, 268046.0, 368321.0, 259872.0, 259872.0, 123765.0, 54718.0, 358549.0, 220662.0, 149781.0, 246698.0, 55288.0, 162058.0, 88126.0, 228755.0, 228755.0, 140185.0, 50256.0, 188481.0, 188481.0, 42972.0, 30387.0, 42974.0, 867.0, 386474.0, 58997.0, 267326.0, 154323.0, 43010.0, 162723.0, 54431.0, 268046.0, 357266.0, 217932.0, 336835.0, 452.0, 62464.0, 452.0, 302203.0, 158.0, 158.0, 54718.0, 54718.0, 42972.0, 4961.0, 42974.0, 324.0, 54718.0, 45077.0, 158.0, 158.0, 324.0, 259872.0, 259872.0, 384374.0, 148427.0, 262350.0, 277188.0, 338556.0, 52072.0, 151349.0, 333279.0, 193477.0, 220662.0, 236058.0, 236733.0, 62065.0, 357266.0, 357266.0, 357266.0, 62065.0, 357266.0, 357266.0, 221115.0, 452.0, 182573.0, 452.0, 357354.0, 306717.0, 151349.0, 259872.0, 236132.0, 54718.0, 220662.0, 149781.0, 246698.0, 55288.0, 90548.0, 71090.0, 106217.0, 388711.0, 113946.0, 113946.0, 358029.0, 452.0, 384374.0, 188929.0, 357266.0, 323451.0, 239301.0, 54718.0, 357266.0, 357266.0, 185218.0, 42972.0, 40724.0, 42974.0, 188481.0, 357266.0, 97103.0, 220662.0, 54718.0, 124713.0, 259872.0, 236058.0, 236733.0, 388711.0, 333279.0, 356852.0, 356852.0, 193716.0, 367701.0, 272930.0, 357212.0, 357354.0, 291291.0, 452.0, 188839.0, 188839.0, 452.0, 58997.0, 188481.0, 164328.0, 48354.0, 388711.0, 357266.0, 291753.0, 142820.0, 117493.0, 141816.0, 62065.0, 357266.0, 357266.0, 221115.0, 867.0], [188481.0, 106807.0, 452.0, 43010.0, 259972.0, 57920.0, 360915.0, 357266.0, 399931.0, 399931.0, 399936.0, 399936.0, 312160.0, 360915.0, 124729.0, 105580.0, 336968.0, 341956.0, 350256.0, 268046.0, 326146.0, 399931.0, 123789.0, 360915.0, 231458.0, 399936.0, 54718.0, 179623.0, 372322.0, 372322.0, 372322.0, 372322.0, 288884.0, 368669.0, 368669.0, 236514.0, 174032.0, 71814.0, 71814.0, 357266.0, 259972.0, 57920.0, 374168.0, 43010.0, 178513.0, 302203.0, 54718.0, 309950.0, 63659.0, 158.0, 300188.0, 324.0, 360915.0, 300612.0, 350257.0, 43010.0, 300364.0, 268046.0, 256308.0, 256308.0, 291239.0, 188481.0, 103009.0, 221789.0, 62065.0, 43010.0, 300964.0, 268046.0, 36525.0, 317183.0, 54273.0, 54273.0, 132276.0, 221790.0, 110156.0, 357412.0, 71090.0, 175529.0, 62065.0, 43010.0, 123767.0, 355520.0, 54718.0, 54273.0, 190165.0, 290139.0, 392082.0, 322172.0, 383514.0, 374168.0, 360915.0, 224607.0, 54718.0, 57949.0, 283048.0, 283048.0, 43010.0, 249714.0, 150796.0, 323025.0, 350256.0, 54718.0, 392082.0, 97019.0, 268046.0, 323929.0, 217469.0, 175529.0, 290149.0, 383514.0, 357412.0, 281319.0, 360915.0, 303078.0, 357266.0, 224617.0, 268046.0, 357266.0, 283048.0, 81902.0, 388711.0, 357266.0, 178572.0, 127851.0, 221115.0, 72182.0, 45458.0, 151349.0, 151349.0, 386474.0, 192973.0, 331418.0, 166401.0, 146082.0, 127860.0, 357109.0, 174032.0, 71814.0, 45458.0, 88126.0, 57187.0, 292067.0, 158.0, 121972.0, 326146.0, 264557.0, 133951.0, 324.0, 867.0, 867.0, 117493.0, 346706.0, 357212.0, 357212.0, 383514.0, 224608.0, 270284.0, 260666.0, 333121.0, 188481.0, 51582.0, 93054.0, 54718.0, 123517.0, 264550.0, 142627.0, 60665.0, 43010.0, 325181.0, 192758.0, 274242.0, 283048.0, 867.0], [188481.0, 357266.0, 291753.0, 389836.0, 452.0, 43010.0, 222134.0, 354634.0, 192973.0, 57844.0, 151349.0, 192129.0, 268046.0, 268046.0, 148224.0, 150400.0, 188481.0, 181737.0, 303225.0, 303225.0, 357266.0, 354634.0, 231492.0, 193716.0, 289446.0, 360915.0, 281307.0, 147810.0, 239231.0, 268046.0, 224573.0, 148224.0, 357871.0, 452.0, 306454.0, 188481.0, 81562.0, 338556.0, 54718.0, 359889.0, 452.0, 332008.0, 360915.0, 357266.0, 389836.0, 268046.0, 268046.0, 140185.0, 50256.0, 158.0, 17635.0, 324.0, 867.0, 357266.0, 149655.0, 327393.0, 54718.0, 217449.0, 364181.0, 333429.0, 268046.0, 357266.0, 130259.0, 52067.0, 374021.0, 360915.0, 306453.0, 357266.0, 148224.0, 357871.0, 188481.0, 364181.0, 108665.0, 60665.0, 60665.0, 60665.0, 140185.0, 50256.0, 158.0, 17698.0, 324.0, 62697.0, 360915.0, 126552.0, 358160.0, 188481.0, 55934.0, 128655.0, 150400.0, 452.0, 87775.0, 452.0, 151349.0, 354617.0, 302484.0, 452.0, 357266.0, 317185.0, 153800.0, 383514.0, 264550.0, 178401.0, 137680.0, 188481.0, 357354.0, 357354.0, 249714.0, 302802.0, 302802.0, 140185.0, 50256.0, 158.0, 158.0, 324.0, 329999.0, 357212.0, 357266.0, 222134.0, 354634.0, 90548.0, 52520.0, 122150.0, 137971.0, 137971.0, 357266.0, 354634.0, 52074.0, 357266.0, 332190.0, 345195.0, 268046.0, 358584.0, 384086.0, 344940.0, 54718.0, 223475.0, 137972.0, 452.0, 54718.0, 90548.0, 188386.0, 371429.0, 268046.0, 357266.0, 137972.0, 283144.0, 867.0], [384374.0, 174642.0, 120639.0, 43010.0, 259972.0, 57920.0, 360915.0, 357266.0, 233657.0, 268046.0, 268046.0, 184778.0, 319901.0, 88126.0, 357266.0, 374163.0, 268046.0, 302229.0, 63822.0, 54718.0, 145460.0, 358810.0, 358810.0, 357266.0, 292848.0, 330039.0, 133900.0, 278956.0, 363894.0, 88126.0, 148908.0, 136234.0, 43010.0, 315077.0, 218659.0, 54718.0, 374253.0, 193716.0, 60665.0, 43010.0, 337163.0, 250773.0, 188481.0, 357266.0, 143821.0, 143821.0, 357266.0, 374163.0, 268046.0, 43010.0, 315077.0, 218659.0, 268046.0, 274685.0, 188059.0, 138118.0, 325039.0, 360915.0, 357266.0, 184778.0, 148224.0, 269798.0, 270201.0, 269953.0, 269953.0, 357266.0, 346119.0, 349472.0, 268046.0, 357266.0, 274685.0, 274685.0, 259585.0, 158.0, 192458.0, 324.0, 188481.0, 135354.0, 282874.0, 94047.0, 43010.0, 349472.0, 123773.0, 45776.0, 357266.0, 148224.0, 452.0, 94053.0, 193716.0, 360915.0, 310700.0, 360915.0, 45177.0, 357266.0, 123763.0, 188481.0, 348406.0, 58999.0, 74651.0, 357266.0, 368321.0, 368321.0, 357266.0, 348406.0, 155218.0, 54718.0, 278958.0, 341178.0, 58997.0, 359056.0, 105586.0, 191811.0, 269953.0, 283667.0, 283667.0, 357266.0, 259422.0, 306708.0, 192973.0, 43010.0, 242245.0, 268046.0, 292982.0, 138122.0, 365191.0, 365191.0, 51582.0, 184778.0, 319901.0, 88126.0, 43010.0, 452.0, 360915.0, 357266.0, 63534.0, 399913.0, 209662.0, 452.0, 264802.0, 374163.0, 268046.0, 315077.0, 218659.0, 218659.0, 357266.0, 278957.0, 184778.0, 148269.0, 90548.0, 71090.0, 365191.0, 107594.0, 52073.0, 151349.0, 346329.0, 310748.0, 54718.0, 372813.0, 121168.0, 269798.0, 357266.0, 58155.0, 282875.0, 357266.0, 99771.0, 268046.0, 268046.0, 184778.0, 294049.0, 43010.0, 377842.0, 286278.0, 151349.0, 111453.0, 43010.0, 376136.0, 268046.0, 184778.0, 319901.0, 452.0, 54718.0, 386495.0, 72182.0, 72182.0, 54718.0, 263814.0, 193716.0, 192973.0, 281603.0, 360915.0, 360915.0, 155503.0, 155503.0, 90548.0, 71090.0, 247475.0, 360915.0, 292969.0, 76474.0, 54718.0, 94956.0, 46448.0, 184779.0, 151349.0, 43010.0, 376136.0, 268046.0, 76569.0, 57840.0, 867.0], [311178.0, 355520.0, 290139.0, 391342.0, 123801.0, 158.0, 392082.0, 324.0, 383514.0, 281319.0, 269798.0, 43010.0, 43010.0, 136674.0, 136674.0, 357266.0, 267326.0, 392082.0, 278960.0, 385664.0, 54426.0, 388711.0, 388711.0, 387968.0, 387968.0, 336623.0, 188481.0, 271173.0, 360915.0, 122190.0, 283048.0, 295540.0, 452.0, 357266.0, 112928.0, 344936.0, 54718.0, 357266.0, 94956.0, 277191.0, 268046.0, 357266.0, 357266.0, 357266.0, 54431.0, 158.0, 356917.0, 324.0, 383514.0, 281319.0, 374253.0, 43010.0, 43010.0, 340984.0, 340984.0, 190828.0, 138677.0, 388711.0, 293872.0, 357682.0, 54431.0, 54431.0, 357266.0, 356917.0, 345173.0, 385664.0, 92687.0, 272930.0, 371152.0, 303670.0, 106927.0, 158.0, 30387.0, 41.0, 41.0, 324.0, 154323.0, 311178.0, 355520.0, 360915.0, 360915.0, 452.0, 188481.0, 271173.0, 360915.0, 122190.0, 357266.0, 384893.0, 96721.0, 268046.0, 357266.0, 281693.0, 131142.0, 357266.0, 357266.0, 357266.0, 243332.0, 268046.0, 357266.0, 317183.0, 48.0, 348406.0, 383514.0, 54426.0, 374253.0, 43010.0, 43010.0, 43010.0, 147810.0, 136430.0, 37502.0, 320050.0, 135204.0, 243302.0, 158.0, 158.0, 324.0, 867.0, 357266.0, 362760.0, 106975.0, 268046.0, 357266.0, 317183.0, 383514.0, 239228.0, 374253.0, 43010.0, 108379.0, 108379.0, 108379.0, 68431.0, 317183.0, 385664.0, 291635.0, 88126.0, 89614.0, 62065.0, 62065.0, 151349.0, 151349.0, 163826.0, 388484.0, 107983.0, 385664.0, 62633.0, 360915.0, 357266.0, 69408.0, 452.0, 386474.0, 357412.0, 385664.0, 113859.0, 62065.0, 62065.0, 151349.0, 151349.0, 357266.0, 106975.0, 268046.0, 357266.0, 317183.0, 383514.0, 239228.0, 371152.0, 43010.0, 303616.0, 114523.0, 62065.0, 62065.0, 226394.0, 274289.0, 277980.0, 291876.0, 383514.0, 45458.0, 88126.0, 374253.0, 43010.0, 108161.0, 150400.0, 268046.0, 30387.0, 41.0, 41.0, 867.0], [188481.0, 358160.0, 220941.0, 452.0, 384374.0, 291753.0, 306717.0, 268046.0, 43010.0, 304974.0, 89638.0, 268046.0, 118650.0, 107808.0, 188481.0, 357266.0, 152908.0, 268046.0, 155017.0, 316597.0, 316597.0, 357266.0, 155017.0, 316597.0, 138623.0, 192973.0, 43010.0, 304974.0, 138623.0, 121735.0, 43010.0, 81901.0, 81901.0, 332240.0, 358160.0, 242245.0, 174032.0, 43010.0, 377946.0, 336968.0, 69895.0, 188481.0, 297180.0, 147810.0, 357607.0, 452.0, 193716.0, 192973.0, 377946.0, 164328.0, 188481.0, 121735.0, 43010.0, 81901.0, 341956.0, 386474.0, 192973.0, 43010.0, 304974.0, 304974.0, 188481.0, 43010.0, 292066.0, 276859.0, 42972.0, 11458.0, 42974.0, 452.0, 384374.0, 337190.0, 357266.0, 190739.0, 190739.0, 138623.0, 42972.0, 12126.0, 42974.0, 452.0, 386474.0, 192973.0, 52520.0, 89857.0, 155017.0, 316597.0, 138623.0, 42972.0, 12750.0, 42974.0, 867.0, 47798.0, 384374.0, 337190.0, 357266.0, 155017.0, 316597.0, 138623.0, 452.0, 384374.0, 267326.0, 357266.0, 304974.0, 384039.0, 155211.0, 268046.0, 357266.0, 81901.0, 81901.0, 384374.0, 374168.0, 358160.0, 384039.0, 155211.0, 360915.0, 89632.0, 357266.0, 63975.0, 207789.0, 137256.0, 268046.0, 357266.0, 175599.0, 297202.0, 190592.0, 43010.0, 175599.0, 241824.0, 188481.0, 188481.0, 341956.0, 452.0, 54718.0, 267326.0, 375636.0, 386474.0, 48346.0, 377946.0, 385218.0, 388711.0, 302801.0, 302801.0, 384374.0, 52520.0, 152393.0, 357640.0, 357212.0, 357266.0, 304974.0, 109482.0, 58997.0, 297928.0, 217449.0, 54718.0, 90548.0, 264550.0, 71090.0, 186888.0, 42972.0, 11458.0, 42974.0, 867.0, 188481.0, 358160.0, 220941.0, 384374.0, 374163.0, 358160.0, 242245.0, 360915.0, 291284.0, 357266.0, 375636.0, 268046.0, 118650.0, 107808.0, 268046.0, 175599.0, 241827.0, 188481.0, 188481.0, 341956.0, 867.0], [188481.0, 357266.0, 82955.0, 350362.0, 57720.0, 188481.0, 188481.0, 357607.0, 452.0, 357266.0, 357266.0, 192973.0, 357266.0, 250392.0, 188273.0, 188273.0, 384374.0, 148427.0, 337259.0, 341045.0, 82955.0, 107108.0, 188481.0, 357266.0, 348765.0, 348765.0, 348765.0, 384374.0, 350375.0, 337189.0, 357266.0, 332543.0, 147810.0, 138623.0, 374253.0, 43010.0, 159391.0, 236561.0, 306708.0, 44608.0, 357266.0, 357266.0, 337176.0, 188481.0, 188481.0, 357266.0, 368321.0, 319922.0, 452.0, 357266.0, 357266.0, 268046.0, 357266.0, 357266.0, 158.0, 43451.0, 324.0, 54718.0, 357266.0, 357266.0, 158.0, 399719.0, 324.0, 452.0, 107832.0, 357266.0, 357266.0, 357354.0, 123767.0, 310681.0, 58997.0, 58997.0, 357266.0, 188271.0, 268046.0, 357266.0, 399931.0, 277135.0, 399936.0, 107106.0, 192973.0, 192973.0, 357266.0, 81903.0, 106917.0, 158.0, 268046.0, 43451.0, 324.0, 54718.0, 357266.0, 81903.0, 236860.0, 147828.0, 58997.0, 368321.0, 188273.0, 135310.0, 151349.0, 231552.0, 357266.0, 224588.0, 224588.0, 53909.0, 51582.0, 337177.0, 452.0, 357266.0, 337176.0, 158.0, 158.0, 452.0, 452.0, 324.0, 192973.0, 142758.0, 360915.0, 71090.0, 357266.0, 357266.0, 222709.0, 268046.0, 43010.0, 207916.0, 207916.0, 384374.0, 291753.0, 43010.0, 86545.0, 178400.0, 247378.0, 109527.0, 360915.0, 357266.0, 263342.0, 263342.0, 357266.0, 247378.0, 192973.0, 142758.0, 360915.0, 162051.0, 43010.0, 263342.0, 54718.0, 341045.0, 82955.0, 337176.0, 188481.0, 357266.0, 348765.0, 348765.0, 357607.0, 867.0], [51278.0, 304138.0, 125728.0, 147828.0, 163237.0, 65680.0, 360915.0, 357266.0, 221115.0, 325899.0, 325899.0, 357266.0, 221115.0, 325899.0, 242245.0, 383514.0, 291763.0, 88126.0, 272107.0, 54718.0, 325934.0, 42972.0, 17044.0, 42974.0, 386887.0, 121731.0, 357266.0, 355568.0, 293485.0, 268046.0, 251070.0, 191297.0, 88126.0, 265592.0, 242260.0, 337201.0, 357266.0, 357266.0, 357266.0, 358160.0, 192973.0, 281319.0, 88126.0, 43010.0, 148545.0, 123763.0, 320539.0, 389883.0, 269798.0, 43010.0, 303225.0, 166930.0, 188481.0, 368321.0, 270970.0, 358549.0, 358549.0, 189825.0, 269798.0, 264164.0, 376710.0, 54718.0, 114040.0, 90548.0, 71090.0, 71090.0, 357266.0, 145460.0, 234161.0, 242245.0, 42972.0, 17991.0, 42974.0, 294049.0, 54273.0, 133929.0, 265592.0, 320539.0, 268046.0, 106349.0, 106349.0, 360915.0, 106515.0, 357266.0, 348215.0, 375636.0, 269798.0, 357266.0, 357266.0, 193716.0, 192973.0, 43010.0, 304779.0, 268046.0, 357266.0, 293485.0, 292848.0, 452.0, 185635.0, 357266.0, 359889.0, 386432.0, 357266.0, 191295.0, 278411.0, 43010.0, 95614.0, 166930.0, 287479.0, 192973.0, 189768.0, 270201.0, 88126.0, 358452.0, 258739.0, 166930.0, 287518.0, 386474.0, 58997.0, 292067.0, 278380.0, 88126.0, 357266.0, 357266.0, 54273.0, 274006.0, 269798.0, 357266.0, 357607.0, 268046.0, 221115.0, 325899.0, 54718.0, 145460.0, 234161.0, 242260.0, 54718.0, 357354.0, 57840.0, 360915.0, 292803.0, 268046.0, 376147.0, 59005.0, 58997.0, 162058.0, 188481.0, 42972.0, 42972.0, 42974.0, 452.0, 151349.0, 142283.0, 327393.0, 268274.0, 452.0, 106547.0, 125731.0, 452.0, 283668.0, 122455.0, 452.0, 323750.0, 364331.0, 359971.0, 452.0, 140214.0, 125728.0, 147828.0, 58997.0, 43010.0, 338995.0, 93018.0, 268046.0, 357266.0, 221115.0, 325899.0, 138623.0, 386432.0, 357266.0, 44786.0, 375624.0, 268046.0, 357266.0, 47013.0, 377040.0, 192973.0, 2479.0, 867.0], [384374.0, 374168.0, 374168.0, 268046.0, 268046.0, 123223.0, 158.0, 158.0, 324.0, 167694.0, 88126.0, 98017.0, 376008.0, 121260.0, 158.0, 114308.0, 324.0, 269798.0, 43010.0, 43010.0, 331680.0, 92689.0, 382036.0, 154323.0, 46991.0, 123223.0, 354659.0, 226784.0, 122129.0, 189825.0, 44608.0, 357266.0, 236496.0, 54718.0, 357266.0, 341386.0, 143821.0, 90548.0, 71090.0, 152393.0, 188481.0, 272881.0, 132405.0, 276859.0, 42972.0, 11458.0, 42974.0, 867.0, 357266.0, 357266.0, 382036.0, 383514.0, 322231.0, 191811.0, 191811.0, 317183.0, 54718.0, 345912.0, 360915.0, 301696.0, 102449.0, 158.0, 319860.0, 324.0, 452.0, 151055.0, 88126.0, 370375.0, 337195.0, 337195.0, 337195.0, 341404.0, 385664.0, 357412.0, 111449.0, 154323.0, 357266.0, 317183.0, 374253.0, 108379.0, 135204.0, 71177.0, 223749.0, 158.0, 132834.0, 324.0, 388711.0, 258587.0, 361774.0, 135204.0, 325034.0, 306408.0, 452.0, 184780.0, 184780.0, 158.0, 158.0, 324.0, 867.0, 54273.0, 49932.0, 125000.0, 218659.0, 383514.0, 306174.0, 44617.0, 357266.0, 306408.0, 360915.0, 292042.0, 292042.0, 119392.0, 130319.0, 360915.0, 97097.0, 86367.0, 269798.0, 357266.0, 348406.0, 42972.0, 12126.0, 42974.0, 867.0, 326146.0, 341404.0, 385664.0, 292970.0, 388711.0, 358160.0, 292848.0, 54718.0, 357266.0, 278956.0, 390450.0, 376124.0, 188481.0, 121839.0, 87775.0, 107696.0, 268046.0, 60035.0, 268046.0, 101471.0, 101471.0, 47798.0, 132834.0, 54718.0, 54718.0, 122455.0, 452.0, 357266.0, 357266.0, 383514.0, 374168.0, 60665.0, 54273.0, 140217.0, 235957.0, 151349.0, 308354.0, 388711.0, 43010.0, 246721.0, 268046.0, 274289.0, 54718.0, 59165.0, 59165.0, 357266.0, 140221.0, 123223.0, 123223.0, 385664.0, 368711.0, 368711.0, 368711.0, 147946.0, 2479.0, 125544.0, 43010.0, 320050.0, 135204.0, 135204.0, 268046.0, 337259.0, 368710.0, 341386.0, 146160.0, 867.0], [357640.0, 142627.0, 337259.0, 191290.0, 93054.0, 386432.0, 357266.0, 119421.0, 344936.0, 71586.0, 71586.0, 269953.0, 192973.0, 357266.0, 222709.0, 360915.0, 357266.0, 357266.0, 348071.0, 42972.0, 30387.0, 42974.0, 452.0, 386432.0, 357266.0, 45830.0, 329916.0, 303660.0, 360915.0, 360915.0, 360915.0, 357607.0, 388711.0, 46569.0, 46569.0, 56041.0, 191290.0, 93018.0, 192973.0, 357266.0, 332518.0, 119421.0, 42972.0, 42972.0, 42974.0, 452.0, 386432.0, 357266.0, 119421.0, 277191.0, 72766.0, 360915.0, 357266.0, 332518.0, 306002.0, 268046.0, 357266.0, 357266.0, 167631.0, 345487.0, 158.0, 15341.0, 324.0, 298184.0, 188481.0, 358160.0, 220941.0, 452.0, 384374.0, 387696.0, 345195.0, 345195.0, 348102.0, 369052.0, 158.0, 2479.0, 324.0, 158386.0, 357607.0, 188481.0, 357266.0, 173625.0, 348071.0, 388711.0, 332518.0, 332518.0, 188481.0, 358160.0, 93018.0, 452.0, 357266.0, 158386.0, 54718.0, 348103.0, 363926.0, 160418.0, 109480.0, 222960.0, 188481.0, 357266.0, 119421.0, 119421.0, 357645.0, 384374.0, 90548.0, 132569.0, 281307.0, 357266.0, 147810.0, 303446.0, 346373.0, 357212.0, 357266.0, 106381.0, 147828.0, 363921.0, 90995.0, 371152.0, 357266.0, 158386.0, 158386.0, 188481.0, 357266.0, 93018.0, 268046.0, 268046.0, 268046.0, 357607.0, 452.0, 346373.0, 147810.0, 303446.0, 192973.0, 52520.0, 289446.0, 42972.0, 30387.0, 42974.0, 867.0, 87775.0, 188481.0, 358160.0, 93018.0, 357266.0, 106381.0, 147828.0, 126552.0, 264550.0, 363921.0, 90995.0, 371152.0, 357266.0, 119423.0, 119423.0, 119423.0, 188481.0, 357266.0, 332518.0, 93018.0, 452.0, 384374.0, 387696.0, 329974.0, 357212.0, 357640.0, 192973.0, 43010.0, 147810.0, 303446.0, 346373.0, 357212.0, 357266.0, 303443.0, 147828.0, 52520.0, 363921.0, 90995.0, 371152.0, 357266.0, 119423.0, 119423.0, 384374.0, 387696.0, 107871.0, 43010.0, 119423.0, 215899.0, 386474.0, 192973.0, 192024.0, 371152.0, 81562.0, 357266.0, 158386.0, 54718.0, 348103.0, 348103.0, 384374.0, 148427.0, 357212.0, 357266.0, 119423.0, 215899.0, 192973.0, 97031.0, 88126.0, 43010.0, 332395.0, 155211.0, 268046.0, 54273.0, 54273.0, 319920.0, 147810.0, 867.0], [269798.0, 357266.0, 272583.0, 172466.0, 452.0, 357266.0, 272583.0, 224573.0, 147828.0, 142342.0, 357266.0, 166258.0, 147810.0, 58997.0, 264550.0, 52879.0, 224588.0, 269798.0, 357266.0, 82955.0, 141816.0, 188481.0, 357266.0, 383388.0, 383388.0, 189034.0, 452.0, 188481.0, 357266.0, 357266.0, 247378.0, 188481.0, 149239.0, 124213.0, 42972.0, 15341.0, 42974.0, 452.0, 357266.0, 151061.0, 144002.0, 58997.0, 385218.0, 209675.0, 42867.0, 339515.0, 1681.0, 147810.0, 192973.0, 224588.0, 269798.0, 43010.0, 82955.0, 388711.0, 289384.0, 355896.0, 386474.0, 52520.0, 224590.0, 357266.0, 166261.0, 386495.0, 357266.0, 339515.0, 4915.0, 54718.0, 23291.0, 147828.0, 58997.0, 224588.0, 264550.0, 269798.0, 43010.0, 82955.0, 388711.0, 289384.0, 355896.0, 87775.0, 269798.0, 43010.0, 82955.0, 388711.0, 258587.0, 355896.0, 42972.0, 33544.0, 42974.0, 867.0, 339515.0, 2479.0, 147810.0, 192973.0, 264550.0, 224588.0, 258790.0, 269798.0, 43010.0, 82955.0, 388711.0, 289384.0, 355896.0, 263939.0, 269798.0, 43010.0, 82955.0, 388711.0, 258587.0, 355896.0, 42972.0, 36169.0, 42974.0, 867.0, 188481.0, 333279.0, 333279.0, 124213.0, 452.0, 357266.0, 339515.0, 2479.0, 158386.0, 147810.0, 192973.0, 52520.0, 224588.0, 269798.0, 357266.0, 82955.0, 42972.0, 38601.0, 42974.0, 867.0, 359056.0, 452.0, 188481.0, 271173.0, 360915.0, 154987.0, 357266.0, 224585.0, 268046.0, 341454.0, 247378.0, 278011.0, 269798.0, 43010.0, 82955.0, 388711.0, 289384.0, 355896.0, 452.0, 193716.0, 323431.0, 357212.0, 337259.0, 46224.0, 191142.0, 142342.0, 357266.0, 166258.0, 191138.0, 253767.0, 71090.0, 52520.0, 191916.0, 188481.0, 357266.0, 357266.0, 357640.0, 192973.0, 43010.0, 225985.0, 268046.0, 276883.0, 122590.0, 360915.0, 357266.0, 123767.0, 224585.0, 239302.0, 268046.0, 357266.0, 86545.0, 147828.0, 188481.0, 376147.0, 82955.0, 389938.0, 247396.0, 867.0], [188481.0, 271173.0, 360915.0, 345195.0, 357266.0, 239291.0, 72020.0, 268046.0, 242030.0, 148269.0, 269798.0, 106354.0, 288211.0, 346198.0, 452.0, 152848.0, 356585.0, 192973.0, 268345.0, 136616.0, 42972.0, 42972.0, 42974.0, 867.0, 131142.0, 152848.0, 356585.0, 452.0, 357266.0, 357266.0, 110481.0, 192973.0, 344186.0, 371152.0, 371152.0, 355896.0, 54718.0, 267267.0, 388711.0, 222292.0, 243308.0, 158.0, 224374.0, 324.0, 270970.0, 320050.0, 135204.0, 243308.0, 158.0, 324426.0, 324.0, 867.0, 84424.0, 242078.0, 270970.0, 95427.0, 148269.0, 152808.0, 452.0, 151796.0, 358802.0, 357871.0, 111076.0, 158.0, 96805.0, 111076.0, 324.0, 62065.0, 226394.0, 344185.0, 281705.0, 360915.0, 357266.0, 344189.0, 344189.0, 269798.0, 357266.0, 272583.0, 172466.0, 452.0, 130262.0, 242030.0, 148269.0, 387696.0, 148908.0, 119419.0, 224592.0, 188481.0, 357266.0, 151719.0, 268046.0, 258344.0, 62065.0, 226394.0, 344190.0, 158.0, 147946.0, 15239.0, 324.0, 54718.0, 388711.0, 188947.0, 344185.0, 358802.0, 357871.0, 111076.0, 158.0, 366679.0, 324.0, 90548.0, 142056.0, 158.0, 147946.0, 15242.0, 324.0, 867.0, 152848.0, 356585.0, 192973.0, 74390.0, 281319.0, 188536.0, 388711.0, 224374.0, 270970.0, 324426.0, 336114.0, 357212.0, 357266.0, 344185.0, 386424.0, 357266.0, 148908.0, 111052.0, 151808.0, 90548.0, 71090.0, 71090.0, 357266.0, 190165.0, 152808.0, 344185.0, 268046.0, 357266.0, 148224.0, 452.0, 52520.0, 209675.0, 60665.0, 357266.0, 111052.0, 270258.0, 344185.0, 452.0, 90548.0, 357412.0, 71090.0, 374168.0, 360915.0, 122190.0, 357266.0, 191298.0, 152808.0, 327884.0, 344607.0, 388711.0, 209662.0, 268046.0, 357266.0, 111052.0, 338625.0, 62065.0, 319132.0, 452.0, 399670.0, 452.0, 148224.0, 357871.0, 452.0, 170290.0, 452.0, 54718.0, 357266.0, 152808.0, 344607.0, 452.0, 452.0, 452.0, 386432.0, 386432.0, 192973.0, 357266.0, 152808.0, 344185.0, 452.0, 374253.0, 357266.0, 327884.0, 215820.0, 247378.0, 42972.0, 42972.0, 42974.0, 867.0, 188536.0, 152848.0, 356585.0, 388711.0, 224374.0, 270970.0, 324426.0, 52074.0, 151349.0, 357266.0, 111052.0, 338625.0, 142048.0, 360915.0, 71090.0, 267267.0, 60665.0, 43010.0, 155211.0, 268046.0, 57844.0, 344185.0, 158.0, 147946.0, 15245.0, 324.0, 867.0, 371152.0, 355893.0, 344189.0, 106927.0, 452.0, 43010.0, 84424.0, 148224.0, 387696.0, 190178.0, 152808.0, 62065.0, 377946.0, 226394.0, 344190.0, 158.0, 42955.0, 2479.0, 41.0, 324.0, 54718.0, 357412.0, 388711.0, 155499.0, 344185.0, 108153.0, 360915.0, 151719.0, 111076.0, 373140.0, 357266.0, 319132.0, 111052.0, 338625.0, 192973.0, 192973.0, 47798.0, 357266.0, 319132.0, 338625.0, 174032.0, 71814.0, 302173.0, 452.0, 111076.0, 90548.0, 262350.0, 225401.0, 151719.0, 74651.0, 142644.0, 111052.0, 152851.0, 54718.0, 357266.0, 148224.0, 110156.0, 110156.0, 378206.0, 85963.0, 867.0], [357640.0, 192973.0, 52520.0, 43010.0, 215502.0, 268046.0, 48354.0, 60665.0, 360915.0, 386307.0, 107834.0, 100758.0, 100758.0, 193716.0, 192973.0, 144304.0, 95616.0, 43010.0, 158016.0, 108161.0, 108161.0, 357640.0, 192973.0, 167685.0, 48354.0, 357212.0, 357640.0, 58997.0, 183606.0, 384075.0, 291753.0, 54718.0, 337259.0, 268046.0, 357266.0, 223475.0, 192973.0, 92687.0, 60665.0, 60665.0, 60665.0, 54718.0, 249837.0, 158.0, 15022.0, 324.0, 54718.0, 319568.0, 140185.0, 50256.0, 158.0, 17541.0, 324.0, 374253.0, 239231.0, 154323.0, 357354.0, 252664.0, 292786.0, 158.0, 41494.0, 273428.0, 54273.0, 64444.0, 220336.0, 268046.0, 16836.0, 228656.0, 324.0, 267326.0, 267326.0, 267326.0, 152796.0, 152796.0, 154323.0, 358160.0, 357810.0, 385664.0, 44493.0, 360915.0, 186403.0, 183606.0, 384039.0, 154323.0, 53912.0, 125852.0, 384075.0, 54718.0, 54718.0, 357810.0, 102241.0, 189262.0, 344940.0, 60665.0, 183606.0, 384075.0, 154323.0, 357354.0, 333429.0, 361190.0, 388711.0, 357266.0, 143954.0, 357212.0, 357354.0, 377039.0, 121161.0, 331418.0, 269798.0, 357266.0, 109527.0, 64444.0, 64444.0, 358160.0, 383514.0, 188481.0, 108256.0, 360915.0, 125852.0, 384075.0, 386432.0, 357266.0, 377040.0, 268046.0, 189262.0, 384075.0, 270201.0, 188947.0, 334693.0, 388711.0, 357266.0, 64444.0, 143048.0, 268046.0, 357761.0, 357761.0, 357810.0, 52520.0, 152393.0, 357212.0, 357266.0, 153800.0, 268046.0, 183606.0, 384075.0, 148908.0, 188947.0, 54718.0, 357412.0, 118964.0, 388711.0, 188949.0, 158016.0, 347871.0, 347871.0, 332015.0, 452.0, 357354.0, 377039.0, 385664.0, 152393.0, 360915.0, 122501.0, 154323.0, 357266.0, 222946.0, 151349.0, 334999.0, 150400.0, 377039.0, 54718.0, 278340.0, 358802.0, 43010.0, 237347.0, 54718.0, 357412.0, 43010.0, 245274.0, 867.0], [186645.0, 331391.0, 346709.0, 348103.0, 158.0, 348765.0, 324.0, 58997.0, 125119.0, 62065.0, 357266.0, 221506.0, 357412.0, 193716.0, 387696.0, 71090.0, 379893.0, 360915.0, 239226.0, 357266.0, 339604.0, 268046.0, 357266.0, 259972.0, 278011.0, 360915.0, 120638.0, 357212.0, 357810.0, 58997.0, 189034.0, 357266.0, 291288.0, 291288.0, 43010.0, 242245.0, 192973.0, 125162.0, 88126.0, 386474.0, 357266.0, 339604.0, 268046.0, 337259.0, 268046.0, 357266.0, 348765.0, 278011.0, 90548.0, 71090.0, 71090.0, 55434.0, 125820.0, 188481.0, 188481.0, 118654.0, 218947.0, 360915.0, 97097.0, 62048.0, 188481.0, 188481.0, 192024.0, 236058.0, 236058.0, 357266.0, 333429.0, 268046.0, 357266.0, 62048.0, 192973.0, 293571.0, 360915.0, 357266.0, 292261.0, 292986.0, 62048.0, 74651.0, 74651.0, 54718.0, 54718.0, 249036.0, 92271.0, 332181.0, 58997.0, 281319.0, 151349.0, 43010.0, 278014.0, 278014.0, 247378.0, 287479.0, 62065.0, 357266.0, 357266.0, 357266.0, 306712.0, 62048.0, 125820.0, 58997.0, 107700.0, 388711.0, 43010.0, 43010.0, 43010.0, 54718.0, 43010.0, 43010.0, 452.0, 87775.0, 58997.0, 264550.0, 107700.0, 388711.0, 81562.0, 278011.0, 72182.0, 319922.0, 867.0], [290139.0, 242075.0, 192973.0, 43010.0, 377842.0, 354662.0, 151349.0, 357266.0, 233664.0, 268046.0, 106384.0, 360915.0, 158.0, 258155.0, 324.0, 324.0, 388711.0, 178401.0, 292984.0, 292984.0, 151349.0, 43010.0, 43010.0, 158.0, 346373.0, 60665.0, 60665.0, 324.0, 104776.0, 106136.0, 268046.0, 357266.0, 290139.0, 360915.0, 43010.0, 399931.0, 166484.0, 79376.0, 399936.0, 192973.0, 151055.0, 88126.0, 88126.0, 332691.0, 154323.0, 357266.0, 346119.0, 346119.0, 358160.0, 239197.0, 357212.0, 357266.0, 76276.0, 242030.0, 103530.0, 192973.0, 175530.0, 360915.0, 240628.0, 188481.0, 271173.0, 360915.0, 267324.0, 346608.0, 247243.0, 378206.0, 91333.0, 45830.0, 452.0, 185635.0, 452.0, 378206.0, 348406.0, 363440.0, 452.0, 342697.0, 154323.0, 343876.0, 348406.0, 348406.0, 357266.0, 306716.0, 150400.0, 94047.0, 165572.0, 148210.0, 268046.0, 357266.0, 289001.0, 338556.0, 54718.0, 84243.0, 44608.0, 43010.0, 229702.0, 330161.0, 268046.0, 357266.0, 278008.0, 106129.0, 373140.0, 43010.0, 106329.0, 120978.0, 341956.0, 192973.0, 267326.0, 452.0, 62065.0, 219145.0, 219145.0, 360915.0, 247378.0, 54718.0, 297168.0, 332175.0, 357266.0, 332691.0, 292848.0, 192973.0, 43010.0, 96377.0, 96377.0, 357266.0, 163265.0, 192973.0, 360915.0, 158.0, 185457.0, 324.0, 140079.0, 357266.0, 148339.0, 306716.0, 297112.0, 158.0, 185635.0, 452.0, 188481.0, 356212.0, 268046.0, 289058.0, 324.0, 54718.0, 158.0, 186986.0, 324.0, 360915.0, 291284.0, 357266.0, 148339.0, 259422.0, 327393.0, 54718.0, 333429.0, 268046.0, 357266.0, 332690.0, 106381.0, 867.0], [337259.0, 263365.0, 110490.0, 452.0, 386474.0, 329916.0, 71090.0, 122191.0, 177231.0, 452.0, 110156.0, 52520.0, 71090.0, 345171.0, 188481.0, 357266.0, 341454.0, 341454.0, 270921.0, 268046.0, 43010.0, 222960.0, 222960.0, 357645.0, 452.0, 193716.0, 192973.0, 390093.0, 386495.0, 360915.0, 106189.0, 357266.0, 289872.0, 290159.0, 268046.0, 357266.0, 368321.0, 368321.0, 60665.0, 144971.0, 60665.0, 357266.0, 277188.0, 277188.0, 192973.0, 106726.0, 452.0, 357266.0, 357266.0, 105073.0, 126848.0, 264550.0, 52067.0, 151349.0, 193919.0, 122187.0, 452.0, 386495.0, 193716.0, 110156.0, 71090.0, 122191.0, 62065.0, 62065.0, 357266.0, 323025.0, 323025.0, 110489.0, 110489.0, 452.0, 386474.0, 192973.0, 293571.0, 360915.0, 357266.0, 302292.0, 277915.0, 268046.0, 357266.0, 357266.0, 135111.0, 124673.0, 124673.0, 42972.0, 18987.0, 42974.0, 352025.0, 191811.0, 45230.0, 357212.0, 357266.0, 270631.0, 272785.0, 452.0, 452.0, 54718.0, 54718.0, 58997.0, 58997.0, 90548.0, 71090.0, 239228.0, 239228.0, 193716.0, 329916.0, 71090.0, 302728.0, 357212.0, 137256.0, 54718.0, 54718.0, 125820.0, 268046.0, 220663.0, 54718.0, 54718.0, 188481.0, 188481.0, 105074.0, 58997.0, 325034.0, 270201.0, 360915.0, 357266.0, 187669.0, 277915.0, 268046.0, 357266.0, 135111.0, 124673.0, 124673.0, 452.0, 193716.0, 329916.0, 71090.0, 136583.0, 357212.0, 357640.0, 142627.0, 267248.0, 325034.0, 52520.0, 360915.0, 357266.0, 302292.0, 277915.0, 268046.0, 357266.0, 357266.0, 135111.0, 124673.0, 248238.0, 452.0, 323337.0, 42972.0, 19410.0, 42974.0, 867.0, 386495.0, 177231.0, 357266.0, 302292.0, 277915.0, 110156.0, 71090.0, 71090.0, 151349.0, 357266.0, 239230.0, 268046.0, 268046.0, 110490.0, 452.0, 452.0, 105074.0, 58997.0, 452.0, 268046.0, 110542.0, 452.0, 374177.0, 452.0, 386495.0, 177231.0, 452.0, 151349.0, 357266.0, 88113.0, 148339.0, 341956.0, 81562.0, 81562.0, 54718.0, 54718.0, 110156.0, 71090.0, 71090.0, 188481.0, 357266.0, 93018.0, 268046.0, 357266.0, 118650.0, 151719.0, 143981.0, 143981.0, 239230.0, 452.0, 357266.0, 357266.0, 270921.0, 323431.0, 360915.0, 71090.0, 43010.0, 223830.0, 249714.0, 47004.0, 452.0, 139731.0, 186645.0, 186645.0, 287663.0, 90548.0, 71090.0, 367253.0, 57929.0, 42972.0, 19833.0, 42974.0, 867.0], [368321.0, 123767.0, 123767.0, 325910.0, 385664.0, 374168.0, 188481.0, 357266.0, 357266.0, 357266.0, 62046.0, 175530.0, 239230.0, 325909.0, 158.0, 147946.0, 21714.0, 324.0, 52074.0, 360915.0, 96721.0, 357266.0, 107974.0, 135174.0, 388747.0, 323108.0, 54718.0, 357643.0, 360915.0, 156414.0, 342069.0, 189825.0, 273428.0, 43010.0, 217449.0, 265557.0, 268046.0, 123767.0, 243160.0, 269798.0, 269953.0, 54718.0, 357266.0, 316998.0, 317178.0, 188481.0, 43010.0, 304970.0, 329711.0, 329711.0, 193716.0, 52520.0, 136753.0, 248624.0, 268046.0, 270879.0, 96737.0, 131142.0, 357266.0, 239230.0, 188481.0, 302292.0, 302292.0, 182573.0, 452.0, 357266.0, 62045.0, 175561.0, 154323.0, 357266.0, 81655.0, 330916.0, 54718.0, 224573.0, 108590.0, 158.0, 132176.0, 88126.0, 108353.0, 452.0, 298719.0, 452.0, 54718.0, 357266.0, 107977.0, 360302.0, 45815.0, 60665.0, 43010.0, 175523.0, 332588.0, 324.0, 192973.0, 209675.0, 360915.0, 94041.0, 355520.0, 165550.0, 388747.0, 357266.0, 317178.0, 42972.0, 6765.0, 42974.0, 867.0, 346373.0, 355520.0, 165550.0, 58997.0, 306556.0, 151349.0, 151349.0, 452.0, 386474.0, 90548.0, 218947.0, 360915.0, 239230.0, 60393.0, 188481.0, 135160.0, 142832.0, 42972.0, 19410.0, 42974.0, 867.0, 249755.0, 452.0, 188481.0, 358160.0, 325909.0, 355520.0, 114531.0, 90548.0, 173357.0, 71090.0, 281319.0, 269798.0, 332395.0, 243160.0, 87775.0, 306173.0, 346119.0, 107977.0, 54718.0, 54718.0, 268046.0, 123767.0, 243160.0, 867.0], [188481.0, 358160.0, 60371.0, 384374.0, 107661.0, 54273.0, 143038.0, 360915.0, 357266.0, 138625.0, 268046.0, 268046.0, 88126.0, 247392.0, 357266.0, 150400.0, 268046.0, 43010.0, 334693.0, 106451.0, 332395.0, 283048.0, 150490.0, 188481.0, 43010.0, 379715.0, 289062.0, 289062.0, 357266.0, 107847.0, 138625.0, 357645.0, 52067.0, 151349.0, 357266.0, 291748.0, 268046.0, 379715.0, 304988.0, 133907.0, 188481.0, 357266.0, 289062.0, 239464.0, 158.0, 87775.0, 264550.0, 357266.0, 150490.0, 324.0, 867.0, 155104.0, 125137.0, 265592.0, 320544.0, 58997.0, 121485.0, 69725.0, 269798.0, 43010.0, 215862.0, 54718.0, 54718.0, 65890.0, 140619.0, 359889.0, 342877.0, 242245.0, 57844.0, 360915.0, 43010.0, 246677.0, 54718.0, 156663.0, 148545.0, 135301.0, 338898.0, 338898.0, 384374.0, 329974.0, 357212.0, 357266.0, 215862.0, 320539.0, 192973.0, 371014.0, 341045.0, 54718.0, 162051.0, 54273.0, 270888.0, 43010.0, 292474.0, 139198.0, 81901.0, 151349.0, 151349.0, 155503.0, 452.0, 358160.0, 320539.0, 192973.0, 290454.0, 54718.0, 374174.0, 188481.0, 357266.0, 325008.0, 357212.0, 193716.0, 90548.0, 71090.0, 132569.0, 188221.0, 188481.0, 142644.0, 142644.0, 336623.0, 71494.0, 357266.0, 110489.0, 74651.0, 357266.0, 379729.0, 344613.0, 54718.0, 291879.0, 54718.0, 357266.0, 134953.0, 54718.0, 150400.0, 138625.0, 192973.0, 399910.0, 215862.0, 399913.0, 88126.0, 269953.0, 359889.0, 359889.0, 357266.0, 306174.0, 46224.0, 104329.0, 357645.0, 351990.0, 357266.0, 151719.0, 268046.0, 143109.0, 399910.0, 308561.0, 172466.0, 330916.0, 224444.0, 399913.0, 361190.0, 388711.0, 337259.0, 373389.0, 346088.0, 151349.0, 357266.0, 379715.0, 191457.0, 376103.0, 452.0, 87775.0, 357266.0, 337198.0, 54718.0, 61606.0, 137415.0, 305151.0, 305151.0, 358160.0, 186344.0, 268046.0, 215863.0, 174032.0, 71814.0, 374168.0, 71895.0, 151349.0, 151349.0, 379715.0, 123811.0, 292803.0, 188481.0, 42972.0, 42972.0, 42974.0, 87775.0, 452.0, 268046.0, 110542.0, 452.0, 192973.0, 264550.0, 264550.0, 215863.0, 188481.0, 265592.0, 320544.0, 192973.0, 125162.0, 249714.0, 387160.0, 88126.0, 226592.0, 188481.0, 42972.0, 10064.0, 42974.0, 867.0], [43010.0, 265557.0, 268046.0, 247378.0, 277191.0, 90548.0, 96721.0, 304262.0, 270970.0, 322826.0, 452.0, 188481.0, 278014.0, 357266.0, 190095.0, 270879.0, 293518.0, 268046.0, 383772.0, 107830.0, 42972.0, 42972.0, 158.0, 399670.0, 324.0, 452.0, 452.0, 158.0, 399670.0, 324.0, 452.0, 452.0, 158.0, 399670.0, 324.0, 452.0, 88113.0, 158.0, 399670.0, 324.0, 452.0, 70910.0, 452.0, 452.0, 452.0, 70910.0, 452.0, 452.0, 42974.0, 54718.0, 357266.0, 57697.0, 270879.0, 293518.0, 268046.0, 357266.0, 81655.0, 42972.0, 307972.0, 158.0, 399670.0, 324.0, 452.0, 75268.0, 42974.0, 54718.0, 357266.0, 357266.0, 357266.0, 117504.0, 294038.0, 388711.0, 383609.0, 174032.0, 71814.0, 121485.0, 154323.0, 188536.0, 239231.0, 154323.0, 216139.0, 188481.0, 338340.0, 160180.0, 158.0, 158.0, 452.0, 15039.0, 42950.0, 42950.0, 452.0, 17435.0, 42950.0, 42950.0, 452.0, 17599.0, 324.0, 867.0, 186645.0, 262350.0, 333115.0, 189825.0, 192973.0, 63822.0, 452.0, 193716.0, 90548.0, 71090.0, 374168.0, 60665.0, 43010.0, 148908.0, 57954.0, 151349.0, 272583.0, 133266.0, 60665.0, 60665.0, 357266.0, 376097.0, 388747.0, 54273.0, 133264.0, 90548.0, 71090.0, 60665.0, 217449.0, 60665.0, 74651.0, 123767.0, 133264.0, 452.0, 185635.0, 185635.0, 325966.0, 268046.0, 270879.0, 293518.0, 126552.0, 264550.0, 264550.0, 182573.0, 452.0, 304237.0, 270970.0, 322811.0, 339034.0, 189825.0, 329916.0, 71090.0, 374168.0, 386426.0, 386426.0, 186365.0, 452.0, 357266.0, 270879.0, 293518.0, 329916.0, 71090.0, 239228.0, 62065.0, 357266.0, 356531.0, 333113.0, 103049.0, 360915.0, 357266.0, 49228.0, 270970.0, 318966.0, 318966.0, 358160.0, 192973.0, 182573.0, 264550.0, 52879.0, 52879.0, 43010.0, 375619.0, 338227.0, 268046.0, 189825.0, 192973.0, 357266.0, 357266.0, 384587.0, 158.0, 158.0, 452.0, 452.0, 324.0, 867.0, 193716.0, 231146.0, 43010.0, 223628.0, 268046.0, 223154.0, 360915.0, 294785.0, 63822.0, 117493.0, 325966.0, 452.0, 151349.0, 142283.0, 357266.0, 357266.0, 158.0, 17580.0, 324.0, 117493.0, 68100.0, 452.0, 357266.0, 256827.0, 256827.0, 234655.0, 51274.0, 117493.0, 325899.0, 158.0, 262748.0, 324.0, 54718.0, 357266.0, 357266.0, 357266.0, 58801.0, 54718.0, 343855.0, 350362.0, 158.0, 322588.0, 324.0, 867.0], [357266.0, 339604.0, 54718.0, 277596.0, 268046.0, 268046.0, 54718.0, 54718.0, 58997.0, 264550.0, 393705.0, 209675.0, 209675.0, 188481.0, 358160.0, 259972.0, 384039.0, 268046.0, 268046.0, 306262.0, 452.0, 250392.0, 357589.0, 276883.0, 351935.0, 357266.0, 339515.0, 138590.0, 360915.0, 360915.0, 357266.0, 277597.0, 192973.0, 249714.0, 249714.0, 188481.0, 99391.0, 337041.0, 270970.0, 270970.0, 247396.0, 357266.0, 277597.0, 192973.0, 289384.0, 42972.0, 26559.0, 42974.0, 867.0, 188481.0, 107829.0, 297202.0, 247396.0, 193716.0, 192973.0, 374387.0, 374387.0, 188481.0, 357266.0, 291753.0, 57920.0, 452.0, 357266.0, 277597.0, 268046.0, 357266.0, 357266.0, 192973.0, 162058.0, 88126.0, 88126.0, 158.0, 158.0, 324.0, 324.0, 452.0, 386432.0, 386432.0, 192973.0, 357266.0, 55434.0, 248246.0, 61722.0, 388711.0, 357266.0, 304969.0, 108668.0, 268046.0, 357266.0, 296347.0, 296347.0, 384374.0, 54443.0, 357266.0, 93018.0, 386432.0, 357266.0, 346210.0, 268046.0, 152427.0, 222292.0, 297204.0, 192973.0, 188481.0, 43010.0, 341956.0, 268046.0, 271099.0, 350014.0, 42972.0, 23802.0, 42974.0, 266497.0, 54718.0, 92696.0, 54273.0, 55434.0, 248246.0, 248246.0, 52673.0, 357266.0, 207789.0, 137256.0, 268046.0, 346373.0, 43010.0, 341956.0, 192973.0, 178545.0, 357109.0, 357212.0, 268046.0, 357266.0, 362776.0, 350009.0, 42972.0, 26559.0, 42974.0, 266497.0, 341956.0, 452.0, 357266.0, 42972.0, 23802.0, 42974.0, 266497.0, 350014.0, 192973.0, 357266.0, 250392.0, 145846.0, 81562.0, 151349.0, 357266.0, 357266.0, 191138.0, 42972.0, 8172.0, 42974.0, 54718.0, 357266.0, 357266.0, 191138.0, 42972.0, 9321.0, 42974.0, 867.0, 188481.0, 357266.0, 148908.0, 93018.0, 357266.0, 342010.0, 192973.0, 107126.0, 88126.0, 357266.0, 106194.0, 74651.0, 357266.0, 302329.0, 89639.0, 151349.0, 289384.0, 277597.0, 42972.0, 8172.0, 42974.0, 54718.0, 258587.0, 277597.0, 42972.0, 10064.0, 42974.0, 452.0, 69725.0, 269798.0, 357266.0, 316998.0, 297202.0, 247378.0, 42972.0, 10741.0, 42974.0, 867.0, 188481.0, 188481.0, 42972.0, 8172.0, 42974.0, 357266.0, 56879.0, 383514.0, 175599.0, 452.0, 88542.0, 270970.0, 65064.0, 452.0, 54718.0, 45218.0, 357266.0, 191138.0, 74651.0, 222292.0, 297204.0, 54718.0, 357266.0, 175599.0, 56879.0, 383514.0, 258609.0, 452.0, 107700.0, 388711.0, 357266.0, 175599.0, 297202.0, 297202.0, 188481.0, 188481.0, 42972.0, 11458.0, 42974.0, 54273.0, 62805.0, 62805.0, 191138.0, 74651.0, 74651.0, 54718.0, 357266.0, 222292.0, 297204.0, 383514.0, 188930.0, 54718.0, 330028.0, 357212.0, 43010.0, 341045.0, 270970.0, 256757.0, 289384.0, 277597.0, 277597.0, 277597.0, 90548.0, 71090.0, 45178.0, 388747.0, 346373.0, 43010.0, 43010.0, 358160.0, 191138.0, 174032.0, 43010.0, 151719.0, 357212.0, 109529.0, 360915.0, 399661.0, 241824.0, 142368.0, 42972.0, 12126.0, 42974.0, 54718.0, 193919.0, 310672.0, 192973.0, 360915.0, 226512.0, 357266.0, 137256.0, 268046.0, 357266.0, 386897.0, 350362.0, 867.0], [242878.0, 71255.0, 357266.0, 357266.0, 247378.0, 385664.0, 364472.0, 341894.0, 154323.0, 117874.0, 17991.0, 47798.0, 257787.0, 94956.0, 188204.0, 42950.0, 242878.0, 388711.0, 357266.0, 357266.0, 247378.0, 302790.0, 357266.0, 148908.0, 364480.0, 30310.0, 47798.0, 257787.0, 94956.0, 94956.0, 357761.0, 357624.0, 320457.0, 385664.0, 121851.0, 360915.0, 356531.0, 357266.0, 133907.0, 268046.0, 272881.0, 353329.0, 151982.0, 47889.0, 81562.0, 139954.0, 54718.0, 54718.0, 291200.0, 247396.0, 268046.0, 183848.0, 257787.0, 452.0, 60665.0, 121731.0, 42972.0, 42972.0, 42974.0, 867.0, 55549.0, 385664.0, 364472.0, 185663.0, 269889.0, 43010.0, 384714.0, 151349.0, 21828.0, 384736.0, 388711.0, 373090.0, 158.0, 334260.0, 42972.0, 131565.0, 42974.0, 324.0, 270970.0, 270970.0, 334260.0, 42972.0, 131565.0, 42974.0, 158.0, 158.0, 324.0, 867.0, 322100.0, 322100.0, 223388.0, 385664.0, 374168.0, 60665.0, 43010.0, 108302.0, 452.0, 54718.0, 188481.0, 141941.0, 142818.0, 43010.0, 167631.0, 268046.0, 108302.0, 242878.0, 302790.0, 302790.0, 302790.0, 348611.0, 359971.0, 385664.0, 374168.0, 60665.0, 357266.0, 231068.0, 112037.0, 151349.0, 122197.0, 364480.0, 364480.0, 188481.0, 357266.0, 357266.0, 247378.0, 452.0, 359896.0, 56621.0, 45884.0, 383514.0, 52520.0, 141703.0, 88126.0, 76553.0, 187682.0, 158.0, 78198.0, 324.0, 54718.0, 391342.0, 391342.0, 151349.0, 358160.0, 295589.0, 452.0, 357266.0, 357266.0, 94956.0, 222946.0, 383514.0, 189625.0, 388711.0, 43010.0, 307007.0, 142974.0, 357266.0, 148797.0, 227051.0, 159367.0, 452.0, 60665.0, 292067.0, 305946.0, 42972.0, 12126.0, 42974.0, 42950.0, 227051.0, 45884.0, 268046.0, 268046.0, 95005.0, 383514.0, 379866.0, 188481.0, 380115.0, 88126.0, 78198.0, 158.0, 158.0, 89800.0, 222138.0, 321709.0, 452.0, 181618.0, 452.0, 228983.0, 324.0, 47798.0, 43010.0, 6747.0, 188976.0, 388711.0, 388711.0, 268046.0, 268046.0, 158.0, 89800.0, 222138.0, 321709.0, 324.0, 452.0, 60665.0, 121731.0, 42972.0, 12126.0, 42974.0, 867.0, 391342.0, 54431.0, 383514.0, 347933.0, 360915.0, 357266.0, 227533.0, 151349.0, 43010.0, 74597.0, 379863.0, 268046.0, 357266.0, 367201.0, 867.0], [188481.0, 272881.0, 345195.0, 384374.0, 187518.0, 357266.0, 293518.0, 268046.0, 158386.0, 192024.0, 143041.0, 268046.0, 224573.0, 224573.0, 384374.0, 48971.0, 62065.0, 102137.0, 452.0, 378206.0, 339034.0, 142285.0, 452.0, 357266.0, 304963.0, 74651.0, 43010.0, 155212.0, 386474.0, 192973.0, 224573.0, 188481.0, 43010.0, 278014.0, 158386.0, 158.0, 87775.0, 264550.0, 258302.0, 158386.0, 192024.0, 324.0, 452.0, 54718.0, 193919.0, 158386.0, 192024.0, 143038.0, 158.0, 386474.0, 192973.0, 264550.0, 258302.0, 224573.0, 324.0, 867.0, 384374.0, 329974.0, 357212.0, 357266.0, 357266.0, 152393.0, 58997.0, 264550.0, 264550.0, 224573.0, 71494.0, 357810.0, 90548.0, 264550.0, 71090.0, 142970.0, 188481.0, 356212.0, 268046.0, 54273.0, 189694.0, 121482.0, 121482.0, 384374.0, 72477.0, 357212.0, 357266.0, 188235.0, 268046.0, 358160.0, 267256.0, 174642.0, 264550.0, 71814.0, 102496.0, 136579.0, 188481.0, 357266.0, 223718.0, 452.0, 60665.0, 62746.0, 88126.0, 357266.0, 44761.0, 268046.0, 57170.0, 118409.0, 44608.0, 193716.0, 188481.0, 302801.0, 302801.0, 193716.0, 192973.0, 291187.0, 357761.0, 116674.0, 189883.0, 247453.0, 357212.0, 231458.0, 193716.0, 173236.0, 360915.0, 119364.0, 43010.0, 158386.0, 189078.0, 189078.0, 151349.0, 357266.0, 158386.0, 192024.0, 143041.0, 268046.0, 224573.0, 224573.0, 358160.0, 267256.0, 348224.0, 357266.0, 305180.0, 188481.0, 42972.0, 15341.0, 42974.0, 357212.0, 357266.0, 142756.0, 375624.0, 302796.0, 188273.0, 108285.0, 154323.0, 81562.0, 217449.0, 54718.0, 335129.0, 335129.0, 272881.0, 59197.0, 269798.0, 269798.0, 58997.0, 69725.0, 269798.0, 357266.0, 264644.0, 268046.0, 268046.0, 188481.0, 357266.0, 247417.0, 325008.0, 42972.0, 38601.0, 42974.0, 386474.0, 305056.0, 269798.0, 85150.0, 104604.0, 104604.0, 357266.0, 85150.0, 356200.0, 387696.0, 357645.0, 71090.0, 153813.0, 374168.0, 177231.0, 452.0, 141816.0, 358462.0, 193716.0, 192973.0, 264550.0, 52879.0, 258303.0, 867.0], [357266.0, 357266.0, 292986.0, 174032.0, 225289.0, 71814.0, 107670.0, 60665.0, 43010.0, 164328.0, 292848.0, 151349.0, 192128.0, 81562.0, 282017.0, 54718.0, 54718.0, 293518.0, 268046.0, 297180.0, 100355.0, 158.0, 296613.0, 324.0, 452.0, 71494.0, 268046.0, 357266.0, 304970.0, 217449.0, 123763.0, 74651.0, 357266.0, 319932.0, 62065.0, 386474.0, 357266.0, 357266.0, 275346.0, 192973.0, 292970.0, 62065.0, 357266.0, 278079.0, 221115.0, 54718.0, 357266.0, 319932.0, 62065.0, 386474.0, 193716.0, 142060.0, 191811.0, 43010.0, 43010.0, 188481.0, 278014.0, 452.0, 106192.0, 360915.0, 170834.0, 105074.0, 452.0, 452.0, 105074.0, 452.0, 294037.0, 43010.0, 102444.0, 138116.0, 360915.0, 345195.0, 357266.0, 357266.0, 292988.0, 54718.0, 54718.0, 182573.0, 452.0, 337259.0, 295905.0, 59349.0, 154323.0, 357266.0, 302801.0, 239231.0, 269798.0, 357266.0, 293402.0, 293402.0, 292988.0, 62065.0, 65398.0, 54718.0, 72578.0, 42972.0, 42972.0, 42974.0, 867.0, 151349.0, 357266.0, 188843.0, 188843.0, 292988.0, 452.0, 357266.0, 112328.0, 323165.0, 192973.0, 251645.0, 217469.0, 357109.0, 357266.0, 291291.0, 268046.0, 263745.0, 297180.0, 100355.0, 158.0, 158.0, 324.0, 42972.0, 26559.0, 42974.0, 42950.0, 357640.0, 192973.0, 52520.0, 54273.0, 54273.0, 268046.0, 357266.0, 357266.0, 292852.0, 188839.0, 357266.0, 142428.0, 142428.0, 54718.0, 54718.0, 292988.0, 42950.0, 357640.0, 192973.0, 262350.0, 57697.0, 331376.0, 188481.0, 357266.0, 173236.0, 173236.0, 339112.0, 386474.0, 174032.0, 71814.0, 291288.0, 88126.0, 357266.0, 357266.0, 292986.0, 247377.0, 60665.0, 385218.0, 60665.0, 357266.0, 357266.0, 239301.0, 188481.0, 188481.0, 360915.0, 294037.0, 286355.0, 337177.0, 54718.0, 142860.0, 151349.0, 357761.0, 107153.0, 452.0, 357602.0, 174642.0, 345171.0, 357266.0, 289442.0, 268046.0, 357266.0, 108284.0, 154323.0, 154323.0, 239500.0, 292852.0, 42972.0, 30387.0, 42974.0, 452.0, 217449.0, 178555.0, 296613.0, 109482.0, 42972.0, 33712.0, 42974.0, 452.0, 105093.0, 348241.0, 62065.0, 357266.0, 136998.0, 304237.0, 268046.0, 357266.0, 357266.0, 248246.0, 42972.0, 36293.0, 42974.0, 452.0, 108284.0, 154323.0, 357266.0, 357266.0, 61722.0, 292986.0, 42972.0, 40724.0, 42974.0, 54718.0, 108284.0, 154323.0, 43010.0, 377946.0, 222292.0, 319920.0, 81427.0, 42972.0, 4961.0, 42974.0, 867.0], [269953.0, 268046.0, 357266.0, 96376.0, 188481.0, 297180.0, 100355.0, 158.0, 296613.0, 324.0, 192973.0, 357266.0, 304974.0, 81901.0, 341956.0, 341956.0, 188481.0, 357266.0, 357266.0, 172199.0, 57920.0, 42972.0, 2479.0, 42974.0, 42974.0, 384039.0, 155226.0, 90548.0, 71090.0, 107873.0, 188481.0, 43010.0, 80755.0, 192024.0, 192024.0, 193716.0, 192973.0, 258303.0, 360915.0, 174642.0, 305039.0, 305039.0, 384039.0, 155226.0, 186645.0, 269953.0, 383081.0, 360915.0, 89632.0, 178401.0, 137256.0, 320190.0, 452.0, 139731.0, 142428.0, 142428.0, 233708.0, 233708.0, 61762.0, 325178.0, 268046.0, 357266.0, 121162.0, 269798.0, 357266.0, 225470.0, 248246.0, 152796.0, 54718.0, 364181.0, 248246.0, 386474.0, 192973.0, 377946.0, 372363.0, 332240.0, 357266.0, 368321.0, 248239.0, 58997.0, 110482.0, 188481.0, 357266.0, 207789.0, 137256.0, 137256.0, 376147.0, 57924.0, 174642.0, 71814.0, 365130.0, 360915.0, 106515.0, 346373.0, 384039.0, 384039.0, 269953.0, 90548.0, 374163.0, 357266.0, 374386.0, 138590.0, 359889.0, 172199.0, 42972.0, 15341.0, 42974.0, 54718.0, 363921.0, 357266.0, 306716.0, 384039.0, 155226.0, 191811.0, 191811.0, 151719.0, 388711.0, 357266.0, 176551.0, 268046.0, 268046.0, 268046.0, 268046.0, 357266.0, 357266.0, 172199.0, 188481.0, 43010.0, 344725.0, 284277.0, 192973.0, 151978.0, 188481.0, 188481.0, 42972.0, 21828.0, 42974.0, 867.0, 249714.0, 53302.0, 192973.0, 357266.0, 107878.0, 268046.0, 54273.0, 133900.0, 172199.0, 188839.0, 357266.0, 158386.0, 119564.0, 268046.0, 153510.0, 142874.0, 54718.0, 357412.0, 337201.0, 357266.0, 81901.0, 341956.0, 341956.0, 151349.0, 241827.0, 358160.0, 57920.0, 42972.0, 26882.0, 42974.0, 343257.0, 258481.0, 233708.0, 277191.0, 360915.0, 71090.0, 71090.0, 62699.0, 174642.0, 71814.0, 229835.0, 360915.0, 337189.0, 357266.0, 375328.0, 297202.0, 384039.0, 155211.0, 151349.0, 241827.0, 188481.0, 43010.0, 332120.0, 172199.0, 388711.0, 43010.0, 368337.0, 289872.0, 42972.0, 33544.0, 42974.0, 867.0], [95616.0, 357645.0, 357266.0, 323338.0, 239301.0, 192973.0, 54273.0, 62805.0, 142859.0, 268046.0, 386984.0, 357266.0, 222292.0, 259872.0, 236132.0, 58997.0, 336114.0, 336114.0, 182573.0, 452.0, 193716.0, 192973.0, 264550.0, 388756.0, 193919.0, 193919.0, 188481.0, 278014.0, 452.0, 357640.0, 192973.0, 43010.0, 355896.0, 74651.0, 357266.0, 344865.0, 178332.0, 257320.0, 268046.0, 357266.0, 267267.0, 394875.0, 110490.0, 188481.0, 357266.0, 297202.0, 54718.0, 97103.0, 220662.0, 323180.0, 452.0, 54718.0, 357266.0, 139908.0, 139908.0, 236132.0, 188240.0, 88126.0, 357266.0, 357266.0, 249755.0, 452.0, 81562.0, 357266.0, 357266.0, 54718.0, 54718.0, 246698.0, 55288.0, 58997.0, 217449.0, 386495.0, 357266.0, 55283.0, 55283.0, 192973.0, 335129.0, 386474.0, 192973.0, 188481.0, 327601.0, 108256.0, 388711.0, 357266.0, 109527.0, 109527.0, 188481.0, 357266.0, 297202.0, 323173.0, 386474.0, 58997.0, 51582.0, 51582.0, 357761.0, 292803.0, 90548.0, 71090.0, 337190.0, 188481.0, 339034.0, 247396.0, 452.0, 151349.0, 142283.0, 452.0, 357266.0, 357266.0, 375636.0, 90548.0, 71090.0, 149174.0, 88126.0, 352025.0, 357266.0, 339112.0, 268046.0, 307668.0, 259872.0, 236132.0, 360915.0, 71090.0, 178332.0, 188481.0, 346373.0, 43010.0, 384122.0, 60665.0, 360915.0, 52261.0, 106241.0, 151349.0, 357266.0, 178332.0, 259872.0, 394875.0, 394875.0, 87775.0, 358160.0, 174032.0, 357266.0, 292127.0, 268046.0, 191919.0, 43010.0, 387138.0, 300364.0, 268046.0, 307668.0, 259872.0, 236132.0, 236132.0, 386474.0, 357412.0, 306173.0, 142859.0, 867.0], [245048.0, 158.0, 245048.0, 139198.0, 54431.0, 324.0, 192973.0, 43010.0, 259972.0, 259972.0, 69725.0, 293158.0, 357212.0, 294049.0, 245048.0, 151810.0, 151810.0, 105586.0, 388711.0, 357266.0, 61722.0, 293485.0, 268046.0, 357266.0, 54439.0, 54439.0, 242260.0, 58997.0, 69725.0, 269798.0, 357266.0, 389836.0, 268046.0, 268046.0, 54718.0, 117874.0, 158.0, 14860.0, 324.0, 867.0, 182573.0, 452.0, 46224.0, 146160.0, 174642.0, 71814.0, 46189.0, 360915.0, 294037.0, 374205.0, 388711.0, 166401.0, 149978.0, 188481.0, 117493.0, 117493.0, 233708.0, 293179.0, 142627.0, 360915.0, 302718.0, 390580.0, 41.0, 117493.0, 191811.0, 151810.0, 372170.0, 372170.0, 337259.0, 159421.0, 293179.0, 90548.0, 71090.0, 374168.0, 360915.0, 302718.0, 357266.0, 151810.0, 268046.0, 252664.0, 245061.0, 132176.0, 132176.0, 158.0, 158.0, 452.0, 17635.0, 324.0, 54718.0, 54718.0, 158.0, 118152.0, 118152.0, 140185.0, 50256.0, 452.0, 14912.0, 324.0, 867.0, 272583.0, 293179.0, 58997.0, 245048.0, 339034.0, 132176.0, 132176.0, 102208.0, 158.0, 158.0, 452.0, 17541.0, 324.0, 54718.0, 292780.0, 292780.0, 158.0, 360147.0, 54718.0, 384524.0, 452.0, 14957.0, 324.0, 151349.0, 357266.0, 302721.0, 268046.0, 54022.0, 54429.0, 42950.0, 42950.0, 158.0, 220592.0, 452.0, 17520.0, 324.0, 151349.0, 357266.0, 302721.0, 268046.0, 230428.0, 54718.0, 187552.0, 42950.0, 54718.0, 54718.0, 158.0, 345337.0, 452.0, 17499.0, 324.0, 151349.0, 357266.0, 302721.0, 268046.0, 296145.0, 296145.0, 245048.0, 294049.0, 43010.0, 300602.0, 242245.0, 151349.0, 357266.0, 302721.0, 268046.0, 252664.0, 105990.0, 105990.0, 182573.0, 452.0, 193919.0, 344579.0, 222086.0, 188481.0, 357266.0, 143954.0, 357212.0, 192973.0, 357266.0, 148908.0, 361959.0, 360915.0, 188929.0, 357266.0, 61722.0, 370908.0, 293485.0, 293485.0, 60665.0, 357761.0, 58997.0, 281319.0, 106862.0, 388711.0, 357266.0, 341454.0, 341454.0, 452.0, 262350.0, 46224.0, 359889.0, 192973.0, 258454.0, 360915.0, 281307.0, 370908.0, 370908.0, 386495.0, 54273.0, 371429.0, 268046.0, 357266.0, 371335.0, 89639.0, 192973.0, 344865.0, 303029.0, 452.0, 245048.0, 192973.0, 121851.0, 360915.0, 52067.0, 374205.0, 388711.0, 223830.0, 270970.0, 262350.0, 142808.0, 270616.0, 270616.0, 54738.0, 281322.0, 245048.0, 151810.0, 151810.0, 54718.0, 370908.0, 293485.0, 360915.0, 371452.0, 81562.0, 388711.0, 132558.0, 867.0], [188481.0, 108256.0, 360915.0, 357266.0, 170290.0, 278008.0, 452.0, 357266.0, 333190.0, 151349.0, 357266.0, 357266.0, 69612.0, 192973.0, 377946.0, 377946.0, 359056.0, 452.0, 188481.0, 358160.0, 220941.0, 384374.0, 142902.0, 357266.0, 151761.0, 268046.0, 357266.0, 357266.0, 388747.0, 43010.0, 259972.0, 57920.0, 89857.0, 89857.0, 89857.0, 89857.0, 193716.0, 192973.0, 302344.0, 188481.0, 357266.0, 249036.0, 92271.0, 293158.0, 260328.0, 23279.0, 42972.0, 42972.0, 42974.0, 867.0, 188481.0, 358160.0, 247378.0, 178401.0, 137256.0, 170835.0, 54718.0, 265375.0, 105123.0, 58997.0, 364472.0, 388747.0, 43010.0, 324029.0, 297180.0, 239291.0, 252664.0, 320190.0, 320190.0, 135306.0, 191142.0, 452.0, 173065.0, 188481.0, 277135.0, 452.0, 109519.0, 360915.0, 371335.0, 243304.0, 158.0, 291311.0, 336574.0, 324.0, 278079.0, 92995.0, 54718.0, 58997.0, 121731.0, 133901.0, 60665.0, 283138.0, 336574.0, 336574.0, 336574.0, 43010.0, 43010.0, 90548.0, 71090.0, 323432.0, 60665.0, 218662.0, 268046.0, 43010.0, 158.0, 336574.0, 324.0, 278079.0, 215615.0, 452.0, 386474.0, 192973.0, 62633.0, 360915.0, 293233.0, 54718.0, 353325.0, 265399.0, 378206.0, 219639.0, 219639.0, 62065.0, 178401.0, 137241.0, 269953.0, 45241.0, 52520.0, 151349.0, 357266.0, 108284.0, 268046.0, 282017.0, 158.0, 178401.0, 294635.0, 324.0, 324.0, 121731.0, 88126.0, 43010.0, 336118.0, 399931.0, 399931.0, 399931.0, 399936.0, 399936.0, 284318.0, 268046.0, 357266.0, 296613.0, 278079.0, 215615.0, 317581.0, 74651.0, 368321.0, 336574.0, 336574.0, 386474.0, 58997.0, 107426.0, 360915.0, 357266.0, 293233.0, 54718.0, 360915.0, 357266.0, 353325.0, 188481.0, 357266.0, 374386.0, 374386.0, 357266.0, 339080.0, 339080.0, 268046.0, 81562.0, 293233.0, 54718.0, 353325.0, 265399.0, 452.0, 219577.0, 47798.0, 47798.0, 136431.0, 452.0, 151719.0, 265398.0, 265398.0, 357266.0, 219822.0, 268046.0, 357266.0, 357266.0, 151719.0, 105304.0, 332523.0, 452.0, 346373.0, 60665.0, 60665.0, 452.0, 452.0, 270970.0, 270970.0, 357266.0, 292765.0, 268046.0, 268046.0, 54718.0, 54718.0, 192973.0, 108314.0, 88126.0, 357266.0, 277188.0, 277188.0, 54718.0, 192973.0, 149340.0, 88126.0, 357266.0, 142820.0, 393813.0, 269798.0, 158.0, 158.0, 324.0, 344233.0, 69614.0, 42972.0, 18987.0, 42974.0, 867.0], [188481.0, 302801.0, 393335.0, 452.0, 357266.0, 125083.0, 156663.0, 158.0, 122793.0, 324.0, 242245.0, 174032.0, 136326.0, 60665.0, 43010.0, 249714.0, 358415.0, 52643.0, 151349.0, 224592.0, 337201.0, 107631.0, 218595.0, 268046.0, 357266.0, 327058.0, 383772.0, 138625.0, 388711.0, 178545.0, 45289.0, 42972.0, 42972.0, 42974.0, 867.0, 357266.0, 122793.0, 242245.0, 155499.0, 192217.0, 148545.0, 135301.0, 384383.0, 151981.0, 151981.0, 154323.0, 107631.0, 107631.0, 43010.0, 43010.0, 337176.0, 273428.0, 132276.0, 224573.0, 125137.0, 94956.0, 452.0, 378206.0, 224573.0, 69895.0, 69895.0, 269798.0, 358160.0, 69895.0, 452.0, 357266.0, 122793.0, 288239.0, 45289.0, 192973.0, 338762.0, 88126.0, 43010.0, 325899.0, 268046.0, 104364.0, 452.0, 121735.0, 45289.0, 189825.0, 452.0, 386474.0, 58997.0, 51582.0, 224592.0, 142057.0, 188481.0, 359889.0, 154323.0, 107631.0, 292409.0, 62065.0, 357266.0, 125137.0, 221115.0, 452.0, 388711.0, 54273.0, 58548.0, 271173.0, 268046.0, 268046.0, 43010.0, 43010.0, 327058.0, 383772.0, 247378.0, 57714.0, 188481.0, 294051.0, 178545.0, 297112.0, 337177.0, 269798.0, 377946.0, 103886.0, 241753.0, 357109.0, 43010.0, 363495.0, 148545.0, 380844.0, 110360.0, 452.0, 87775.0, 192973.0, 106185.0, 142805.0, 360915.0, 313329.0, 54718.0, 188289.0, 43010.0, 249714.0, 306678.0, 341036.0, 106917.0, 151349.0, 357266.0, 95871.0, 265557.0, 42972.0, 42972.0, 42974.0, 867.0], [151349.0, 118593.0, 452.0, 378322.0, 110489.0, 247396.0, 42972.0, 42972.0, 42974.0, 174642.0, 325742.0, 60665.0, 83989.0, 107430.0, 265375.0, 131666.0, 345173.0, 388711.0, 357266.0, 342043.0, 345173.0, 268046.0, 135212.0, 344936.0, 89639.0, 42972.0, 30387.0, 42974.0, 867.0, 357266.0, 378322.0, 110489.0, 247378.0, 192973.0, 43010.0, 332120.0, 288239.0, 142731.0, 268046.0, 123068.0, 289872.0, 137256.0, 348412.0, 54718.0, 54718.0, 357266.0, 142731.0, 104364.0, 58997.0, 100075.0, 336114.0, 357212.0, 357266.0, 134385.0, 268046.0, 357266.0, 289872.0, 270630.0, 233795.0, 269798.0, 360915.0, 357266.0, 46462.0, 289872.0, 289872.0, 358160.0, 358160.0, 88126.0, 56087.0, 101529.0, 233708.0, 268046.0, 357266.0, 292803.0, 268046.0, 121735.0, 121735.0, 121735.0, 193716.0, 192973.0, 52520.0, 357266.0, 190698.0, 151349.0, 43010.0, 43010.0, 320539.0, 357212.0, 192973.0, 374168.0, 188481.0, 247417.0, 452.0, 452.0, 242260.0, 357212.0, 188836.0, 188836.0, 133907.0, 42972.0, 33544.0, 42974.0, 867.0, 151349.0, 43010.0, 247378.0, 172199.0, 360915.0, 109485.0, 57949.0, 357266.0, 134387.0, 268046.0, 357266.0, 366081.0, 172199.0, 193716.0, 174032.0, 360915.0, 338711.0, 357266.0, 362776.0, 350009.0, 192850.0, 306002.0, 158.0, 158.0, 324.0, 268046.0, 357266.0, 287479.0, 167650.0, 357266.0, 248031.0, 72766.0, 360915.0, 452.0, 62065.0, 357266.0, 57927.0, 350009.0, 159830.0, 42972.0, 36169.0, 42974.0, 867.0, 188481.0, 302801.0, 359971.0, 452.0, 233708.0, 60373.0, 174642.0, 120639.0, 357266.0, 47006.0, 268046.0, 374253.0, 350014.0, 386424.0, 107877.0, 54437.0, 247378.0, 289876.0, 42972.0, 42972.0, 42974.0, 452.0, 250392.0, 268345.0, 188481.0, 357266.0, 108098.0, 268046.0, 268046.0, 167650.0, 42972.0, 9321.0, 42974.0, 867.0], [121972.0, 357266.0, 143954.0, 357212.0, 357212.0, 303666.0, 357266.0, 265557.0, 268046.0, 147282.0, 452.0, 62988.0, 239231.0, 143139.0, 69725.0, 269798.0, 340663.0, 390139.0, 343257.0, 71090.0, 264550.0, 346829.0, 151349.0, 302295.0, 57840.0, 42972.0, 26143.0, 42974.0, 867.0, 357266.0, 292066.0, 292066.0, 247537.0, 192973.0, 357412.0, 305878.0, 88126.0, 357266.0, 159407.0, 112328.0, 109505.0, 283048.0, 363921.0, 158.0, 158.0, 324.0, 191916.0, 188481.0, 323165.0, 16771.0, 452.0, 60665.0, 358160.0, 126848.0, 264550.0, 192213.0, 113632.0, 287479.0, 155211.0, 155211.0, 357266.0, 129079.0, 192973.0, 357212.0, 357266.0, 69840.0, 158765.0, 51274.0, 90548.0, 270201.0, 122150.0, 269953.0, 338227.0, 62065.0, 43010.0, 359889.0, 54718.0, 193716.0, 192973.0, 209675.0, 360915.0, 71090.0, 325034.0, 360915.0, 311178.0, 307198.0, 42972.0, 30387.0, 42974.0, 452.0, 182573.0, 193716.0, 192973.0, 343257.0, 133900.0, 371152.0, 247405.0, 307192.0, 138124.0, 158.0, 158.0, 324.0, 42972.0, 27558.0, 42974.0, 867.0, 151349.0, 357761.0, 302484.0, 452.0, 62065.0, 148908.0, 142832.0, 386432.0, 270201.0, 43010.0, 338960.0, 192973.0, 45863.0, 62065.0, 57170.0, 162058.0, 359889.0, 58997.0, 92687.0, 272930.0, 452.0, 60665.0, 193716.0, 268345.0, 173067.0, 188481.0, 43010.0, 287852.0, 108410.0, 74651.0, 368321.0, 270970.0, 249714.0, 249714.0, 339134.0, 323533.0, 374253.0, 43010.0, 380508.0, 45884.0, 122159.0, 158.0, 374982.0, 324.0, 42972.0, 27970.0, 42974.0, 58997.0, 155499.0, 143137.0, 54718.0, 292851.0, 374253.0, 43010.0, 43010.0, 342773.0, 452.0, 151349.0, 357266.0, 331376.0, 360915.0, 71090.0, 249714.0, 309975.0, 360915.0, 360915.0, 359056.0, 452.0, 357266.0, 239226.0, 376703.0, 267326.0, 395309.0, 158.0, 323337.0, 323165.0, 16771.0, 324.0, 90548.0, 264937.0, 71090.0, 307431.0, 60665.0, 60665.0, 398714.0, 398714.0, 158.0, 350784.0, 324.0, 398716.0, 452.0, 386432.0, 132276.0, 106381.0, 106381.0, 192973.0, 357266.0, 354404.0, 104983.0, 62065.0, 357266.0, 357266.0, 243273.0, 275346.0, 62065.0, 132276.0, 359889.0, 342773.0, 350885.0, 332240.0, 332240.0, 58997.0, 264550.0, 222960.0, 188481.0, 357266.0, 338960.0, 289376.0, 452.0, 357810.0, 253767.0, 71090.0, 190461.0, 191811.0, 54273.0, 143026.0, 201605.0, 148300.0, 158.0, 134792.0, 324.0, 452.0, 60665.0, 188481.0, 42972.0, 4961.0, 42974.0, 360915.0, 160418.0, 54273.0, 62988.0, 289376.0, 140083.0, 867.0], [357266.0, 48354.0, 74651.0, 357266.0, 259972.0, 117493.0, 54718.0, 357266.0, 89639.0, 388711.0, 357266.0, 304974.0, 122334.0, 384039.0, 155211.0, 329916.0, 264550.0, 71090.0, 107670.0, 60665.0, 45132.0, 269953.0, 42950.0, 188481.0, 358160.0, 107431.0, 272583.0, 306717.0, 329916.0, 71090.0, 71090.0, 292067.0, 193716.0, 383514.0, 330028.0, 42972.0, 10741.0, 42974.0, 357212.0, 89639.0, 388747.0, 357266.0, 152908.0, 268046.0, 268046.0, 131666.0, 388711.0, 388711.0, 153.0, 122334.0, 384039.0, 155211.0, 58997.0, 188481.0, 302479.0, 164328.0, 48354.0, 388711.0, 357266.0, 142820.0, 117493.0, 269798.0, 357266.0, 350936.0, 277188.0, 268046.0, 122334.0, 83383.0, 269798.0, 170290.0, 54718.0, 88542.0, 353334.0, 388711.0, 357266.0, 136430.0, 268046.0, 293931.0, 62065.0, 62065.0, 188481.0, 357266.0, 200331.0, 304237.0, 154323.0, 1919.0, 360915.0, 1985.0, 1985.0, 155503.0, 452.0, 388747.0, 357266.0, 316998.0, 57920.0, 43010.0, 297108.0, 121738.0, 268046.0, 357266.0, 248246.0, 72028.0, 268046.0, 357266.0, 357266.0, 277188.0, 268046.0, 357266.0, 357266.0, 158.0, 114975.0, 452.0, 274488.0, 324.0, 391291.0, 302192.0, 62065.0, 43010.0, 122334.0, 248246.0, 268046.0, 27443.0, 27443.0, 54718.0, 43010.0, 122153.0, 293923.0, 55283.0, 268046.0, 39033.0, 251315.0, 54718.0, 43010.0, 301000.0, 164328.0, 121738.0, 268046.0, 357266.0, 357266.0, 117493.0, 151349.0, 357266.0, 9291.0, 158.0, 114975.0, 452.0, 274488.0, 324.0, 391291.0, 302192.0, 62065.0, 40724.0, 40724.0, 54718.0, 39880.0, 251315.0, 385664.0, 267326.0, 42972.0, 11458.0, 42974.0, 867.0], [337042.0, 291753.0, 357266.0, 289443.0, 268046.0, 143026.0, 267087.0, 60665.0, 341045.0, 342019.0, 388747.0, 297180.0, 147810.0, 147810.0, 52673.0, 357761.0, 337177.0, 58997.0, 267326.0, 154323.0, 324517.0, 59197.0, 188481.0, 384383.0, 110489.0, 222709.0, 452.0, 357354.0, 375441.0, 60665.0, 297149.0, 342019.0, 192973.0, 200058.0, 69725.0, 269798.0, 357266.0, 61722.0, 362211.0, 107631.0, 107631.0, 43010.0, 249714.0, 113894.0, 267459.0, 192973.0, 357212.0, 268046.0, 147025.0, 147025.0, 247453.0, 364229.0, 269798.0, 346373.0, 346373.0, 357354.0, 291748.0, 306177.0, 452.0, 45217.0, 360915.0, 385282.0, 59197.0, 42972.0, 2742.0, 42974.0, 452.0, 54273.0, 61668.0, 268046.0, 171633.0, 147024.0, 265557.0, 360915.0, 357266.0, 357266.0, 342025.0, 188481.0, 357266.0, 374386.0, 364480.0, 452.0, 357266.0, 65680.0, 302192.0, 268046.0, 357266.0, 147024.0, 147024.0, 269798.0, 357266.0, 337041.0, 193923.0, 192973.0, 192973.0, 182573.0, 452.0, 357266.0, 152797.0, 375636.0, 268046.0, 357266.0, 147025.0, 97097.0, 174642.0, 191290.0, 107616.0, 151349.0, 357266.0, 145557.0, 268046.0, 357266.0, 337041.0, 186645.0, 357266.0, 218067.0, 192973.0, 264550.0, 344662.0, 344662.0, 357266.0, 302476.0, 151349.0, 358160.0, 192973.0, 357212.0, 186645.0, 357266.0, 107106.0, 385664.0, 360915.0, 304985.0, 360915.0, 365584.0, 374977.0, 188481.0, 193459.0, 452.0, 357640.0, 192973.0, 262350.0, 278009.0, 341956.0, 63822.0, 151349.0, 92753.0, 357266.0, 152797.0, 375624.0, 268046.0, 357266.0, 147025.0, 147025.0, 131664.0, 341036.0, 268046.0, 346373.0, 267087.0, 383514.0, 287503.0, 272930.0, 188481.0, 42972.0, 21828.0, 42974.0, 452.0, 188481.0, 109834.0, 108098.0, 188481.0, 42972.0, 26882.0, 42974.0, 54718.0, 249714.0, 302802.0, 188481.0, 42972.0, 42972.0, 42974.0, 867.0, 152797.0, 147024.0, 265557.0, 283144.0, 52520.0, 267462.0, 188481.0, 106894.0, 236860.0, 350396.0, 54718.0, 193919.0, 387138.0, 300386.0, 188235.0, 89824.0, 151349.0, 43010.0, 350373.0, 371429.0, 268046.0, 357266.0, 283144.0, 867.0], [357266.0, 250392.0, 53302.0, 163265.0, 237383.0, 71090.0, 341993.0, 60665.0, 357266.0, 269953.0, 268046.0, 122154.0, 357266.0, 224614.0, 268046.0, 452.0, 319691.0, 452.0, 269953.0, 246283.0, 221115.0, 269798.0, 54273.0, 272589.0, 106326.0, 106326.0, 131740.0, 452.0, 188481.0, 43010.0, 302801.0, 307253.0, 42972.0, 36169.0, 42974.0, 452.0, 374208.0, 189825.0, 357607.0, 106710.0, 54718.0, 59189.0, 357212.0, 109507.0, 188481.0, 43010.0, 325299.0, 237383.0, 294037.0, 357266.0, 258303.0, 303684.0, 154323.0, 386474.0, 139198.0, 109479.0, 104251.0, 90548.0, 71090.0, 71090.0, 62065.0, 269953.0, 143217.0, 386432.0, 262350.0, 109507.0, 54718.0, 357645.0, 262350.0, 303684.0, 58997.0, 291753.0, 158.0, 158.0, 325299.0, 324.0, 452.0, 357640.0, 192973.0, 262350.0, 289443.0, 268046.0, 122154.0, 269953.0, 246283.0, 246283.0, 62065.0, 357266.0, 272583.0, 143217.0, 452.0, 43010.0, 325299.0, 268046.0, 138614.0, 338576.0, 221134.0, 158.0, 284167.0, 146744.0, 324.0, 452.0, 357640.0, 192973.0, 43010.0, 237347.0, 303684.0, 54718.0, 43010.0, 246267.0, 221115.0, 90548.0, 71090.0, 267359.0, 122153.0, 60665.0, 43010.0, 180518.0, 188481.0, 357266.0, 357266.0, 134385.0, 268046.0, 300313.0, 236733.0, 452.0, 386474.0, 142575.0, 97025.0, 109507.0, 452.0, 109519.0, 360915.0, 54273.0, 191411.0, 333190.0, 74651.0, 357761.0, 368321.0, 368321.0, 357266.0, 62699.0, 360915.0, 224607.0, 188481.0, 357266.0, 217787.0, 93018.0, 43010.0, 332395.0, 246267.0, 221115.0, 174642.0, 305155.0, 373034.0, 336114.0, 336114.0, 182573.0, 452.0, 193716.0, 329916.0, 71090.0, 241110.0, 357212.0, 151349.0, 368355.0, 96894.0, 350396.0, 386432.0, 452.0, 74313.0, 109507.0, 268046.0, 357266.0, 271173.0, 268046.0, 269953.0, 239170.0, 338625.0, 60665.0, 121731.0, 88126.0, 300313.0, 236733.0, 452.0, 357266.0, 291748.0, 54718.0, 357266.0, 310672.0, 268046.0, 225289.0, 300364.0, 109507.0, 165194.0, 88126.0, 357266.0, 329791.0, 281445.0, 271106.0, 54718.0, 303938.0, 188481.0, 386150.0, 153.0, 218524.0, 121735.0, 357266.0, 63975.0, 339087.0, 120991.0, 452.0, 192973.0, 385218.0, 385218.0, 193716.0, 192973.0, 357412.0, 289446.0, 360915.0, 57951.0, 224607.0, 452.0, 154323.0, 357266.0, 345195.0, 268046.0, 339087.0, 150463.0, 452.0, 43010.0, 332395.0, 246267.0, 221115.0, 42972.0, 38601.0, 42974.0, 867.0], [384374.0, 141703.0, 358549.0, 358549.0, 91787.0, 91787.0, 154323.0, 192881.0, 236514.0, 42972.0, 8172.0, 42974.0, 867.0, 357266.0, 357266.0, 91787.0, 106409.0, 385664.0, 125710.0, 188481.0, 43010.0, 346829.0, 337195.0, 346373.0, 60665.0, 99658.0, 270970.0, 270970.0, 388711.0, 43010.0, 106697.0, 188481.0, 357266.0, 300364.0, 300364.0, 188481.0, 358160.0, 305941.0, 452.0, 148224.0, 357871.0, 239231.0, 385664.0, 229835.0, 151349.0, 151349.0, 54718.0, 54718.0, 148269.0, 452.0, 386501.0, 386501.0, 383514.0, 374168.0, 151349.0, 140229.0, 42950.0, 155499.0, 192131.0, 360915.0, 106189.0, 357266.0, 281311.0, 268046.0, 357266.0, 123767.0, 106409.0, 45776.0, 353667.0, 58997.0, 58997.0, 148269.0, 268046.0, 357266.0, 336264.0, 385664.0, 291635.0, 88126.0, 339515.0, 103930.0, 269798.0, 269798.0, 331680.0, 346198.0, 388711.0, 43010.0, 339147.0, 376237.0, 74651.0, 39180.0, 54718.0, 17435.0, 312439.0, 151349.0, 151349.0, 47798.0, 339515.0, 103930.0, 357266.0, 148224.0, 383514.0, 66801.0, 151349.0, 21774.0, 62065.0, 355524.0, 268046.0, 373317.0, 360915.0, 360915.0, 188481.0, 271173.0, 360915.0, 136748.0, 155499.0, 292853.0, 452.0, 357266.0, 336264.0, 329916.0, 71090.0, 305455.0, 190666.0, 188481.0, 368710.0, 337197.0, 151349.0, 306408.0, 54718.0, 54718.0, 360915.0, 136748.0, 155499.0, 155499.0, 357266.0, 135958.0, 72020.0, 268046.0, 148269.0, 268046.0, 268046.0, 54718.0, 54718.0, 151349.0, 357873.0, 74651.0, 23310.0, 54718.0, 54718.0, 383514.0, 356561.0, 60665.0, 43010.0, 155211.0, 268046.0, 357266.0, 66851.0, 66851.0, 147946.0, 2479.0, 330039.0, 357266.0, 264176.0, 148224.0, 357871.0, 268046.0, 368321.0, 151982.0, 268046.0, 357266.0, 336264.0, 158.0, 158.0, 54718.0, 54718.0, 324.0, 452.0, 71895.0, 54718.0, 47798.0, 124686.0, 188481.0, 188481.0, 158.0, 237994.0, 324.0, 42867.0, 192390.0, 15165.0, 15165.0, 292469.0, 360915.0, 66851.0, 357266.0, 357871.0, 268046.0, 268046.0, 383514.0, 383514.0, 452.0, 54718.0, 357266.0, 357871.0, 268046.0, 268046.0, 383514.0, 383514.0, 151349.0, 355524.0, 44617.0, 44617.0, 357266.0, 357266.0, 148224.0, 383514.0, 305455.0, 190666.0, 452.0, 386501.0, 43010.0, 355520.0, 268046.0, 268046.0, 383514.0, 306174.0, 360915.0, 45457.0, 357266.0, 316998.0, 151349.0, 151349.0, 148224.0, 357871.0, 123517.0, 264550.0, 47483.0, 357266.0, 135958.0, 306717.0, 867.0], [43010.0, 26476.0, 148545.0, 135301.0, 69725.0, 158.0, 146688.0, 324.0, 324.0, 91243.0, 54431.0, 192973.0, 105586.0, 388711.0, 249036.0, 92271.0, 92271.0, 101460.0, 332181.0, 360915.0, 247378.0, 122509.0, 270625.0, 131142.0, 332395.0, 135204.0, 135204.0, 357266.0, 26476.0, 344930.0, 117493.0, 158.0, 147946.0, 15242.0, 324.0, 268046.0, 357266.0, 256319.0, 256319.0, 275346.0, 54718.0, 252664.0, 158226.0, 135176.0, 58997.0, 291187.0, 190461.0, 191811.0, 191811.0, 399913.0, 314370.0, 314370.0, 135244.0, 135244.0, 91244.0, 74651.0, 123767.0, 122509.0, 106384.0, 58997.0, 357412.0, 143137.0, 54718.0, 146211.0, 191811.0, 357266.0, 357266.0, 332395.0, 135204.0, 101460.0, 332182.0, 332182.0, 42972.0, 6765.0, 42974.0, 452.0, 69725.0, 269798.0, 357266.0, 271875.0, 357607.0, 268046.0, 332395.0, 135204.0, 367318.0, 42972.0, 8172.0, 42974.0, 867.0, 151349.0, 272881.0, 353325.0, 115439.0, 268046.0, 268046.0, 452.0, 332179.0, 306717.0, 158.0, 147946.0, 15245.0, 324.0, 329999.0, 357212.0, 60665.0, 384374.0, 349403.0, 357266.0, 380810.0, 57844.0, 269798.0, 158226.0, 155976.0, 452.0, 452.0, 452.0, 332395.0, 135204.0, 367318.0, 191811.0, 357266.0, 367702.0, 399913.0, 314370.0, 368321.0, 368321.0, 329916.0, 159435.0, 328660.0, 188481.0, 357266.0, 135200.0, 113946.0, 452.0, 186546.0, 452.0, 268046.0, 355879.0, 268046.0, 274683.0, 358160.0, 192973.0, 385218.0, 388747.0, 357266.0, 97097.0, 325039.0, 268046.0, 268046.0, 135200.0, 42972.0, 33544.0, 42974.0, 54718.0, 107700.0, 360915.0, 357266.0, 316998.0, 271173.0, 268046.0, 230481.0, 388711.0, 292066.0, 389836.0, 188481.0, 332395.0, 135204.0, 122155.0, 42972.0, 9321.0, 42974.0, 867.0, 188481.0, 46223.0, 452.0, 357266.0, 158226.0, 360915.0, 296616.0, 91246.0, 110489.0, 57715.0, 360915.0, 71090.0, 346608.0, 151349.0, 357266.0, 108302.0, 268046.0, 296616.0, 267445.0, 128527.0, 360915.0, 357266.0, 332395.0, 135204.0, 222709.0, 452.0, 52073.0, 151349.0, 155653.0, 233199.0, 268046.0, 332395.0, 135204.0, 339604.0, 188481.0, 297377.0, 306262.0, 867.0], [88126.0, 357266.0, 132422.0, 14463.0, 452.0, 54718.0, 151061.0, 357266.0, 399910.0, 163864.0, 48003.0, 399913.0, 268046.0, 159391.0, 304977.0, 357212.0, 361953.0, 285908.0, 188481.0, 357266.0, 14304.0, 452.0, 357640.0, 383514.0, 43010.0, 387138.0, 60033.0, 268046.0, 90739.0, 357595.0, 268046.0, 166264.0, 188481.0, 142634.0, 357212.0, 110156.0, 309337.0, 134580.0, 399913.0, 314447.0, 43010.0, 151733.0, 383514.0, 258454.0, 360915.0, 118258.0, 388711.0, 358160.0, 166369.0, 44897.0, 268046.0, 289442.0, 452.0, 54718.0, 358160.0, 383514.0, 294038.0, 188481.0, 357266.0, 151719.0, 268046.0, 357266.0, 357266.0, 357266.0, 158.0, 290379.0, 324.0, 151733.0, 88126.0, 205241.0, 205241.0, 452.0, 208049.0, 358378.0, 54718.0, 102760.0, 102760.0, 357266.0, 290379.0, 151733.0, 383514.0, 86377.0, 269798.0, 357266.0, 132405.0, 389836.0, 268046.0, 133400.0, 54718.0, 123437.0, 452.0, 54718.0, 52072.0, 151349.0, 357266.0, 265603.0, 357595.0, 63822.0, 62065.0, 357266.0, 359889.0, 360915.0, 71090.0, 106190.0, 360915.0, 114253.0, 133480.0, 61966.0, 267260.0, 346373.0, 60665.0, 227596.0, 217666.0, 300386.0, 452.0, 298759.0, 133033.0, 452.0, 54718.0, 452.0, 188481.0, 14507.0, 452.0, 357266.0, 357266.0, 76261.0, 76261.0, 357266.0, 290379.0, 151733.0, 294038.0, 43010.0, 102471.0, 344936.0, 388747.0, 386474.0, 269953.0, 110156.0, 106189.0, 54718.0, 61634.0, 376147.0, 357595.0, 452.0, 54718.0, 174032.0, 71814.0, 357266.0, 73005.0, 151349.0, 182540.0, 357595.0, 268046.0, 166264.0, 329916.0, 71090.0, 141703.0, 141863.0, 141863.0, 384374.0, 387696.0, 162051.0, 54273.0, 273141.0, 268046.0, 357266.0, 290379.0, 151733.0, 452.0, 54718.0, 357266.0, 107856.0, 63822.0, 388747.0, 193716.0, 361080.0, 452.0, 188481.0, 323165.0, 15341.0, 867.0], [357266.0, 291748.0, 268046.0, 96894.0, 250529.0, 188481.0, 265375.0, 350396.0, 174032.0, 71814.0, 148886.0, 304958.0, 388711.0, 357266.0, 342073.0, 268046.0, 268046.0, 137256.0, 221134.0, 42972.0, 38731.0, 42974.0, 867.0, 287548.0, 125820.0, 268046.0, 264176.0, 338626.0, 268046.0, 346329.0, 265375.0, 270970.0, 62484.0, 142393.0, 221134.0, 388711.0, 357266.0, 316998.0, 339515.0, 54718.0, 277597.0, 109519.0, 360915.0, 190946.0, 102223.0, 131666.0, 452.0, 386495.0, 387407.0, 153.0, 342073.0, 331376.0, 96894.0, 250529.0, 188481.0, 357266.0, 109527.0, 102223.0, 304216.0, 42972.0, 4961.0, 42974.0, 867.0, 191411.0, 333195.0, 58997.0, 249714.0, 123789.0, 360915.0, 360915.0, 377946.0, 302802.0, 43010.0, 293580.0, 174032.0, 71814.0, 229835.0, 360915.0, 364470.0, 357266.0, 339087.0, 150463.0, 150463.0, 60665.0, 125137.0, 359889.0, 325550.0, 42972.0, 6765.0, 42974.0, 867.0, 119368.0, 158.0, 2479.0, 324.0, 324.0, 158.0, 132033.0, 324.0, 324.0, 452.0, 388711.0, 388711.0, 158.0, 132033.0, 324.0, 357266.0, 239170.0, 221115.0, 120991.0, 386474.0, 52074.0, 357266.0, 233849.0, 360915.0, 124212.0, 221134.0, 388711.0, 372185.0, 63975.0, 221115.0, 120991.0, 452.0, 54718.0, 54448.0, 357266.0, 137256.0, 150463.0, 60665.0, 43010.0, 125137.0, 359889.0, 325550.0, 452.0, 357810.0, 152393.0, 357212.0, 265375.0, 290159.0, 339086.0, 72016.0, 222471.0, 15250.0, 262664.0, 452.0, 289804.0, 357212.0, 358160.0, 243977.0, 71090.0, 43010.0, 97025.0, 331395.0, 268046.0, 159451.0, 297180.0, 96894.0, 96894.0, 188481.0, 357266.0, 291753.0, 389836.0, 384374.0, 188217.0, 358160.0, 186344.0, 452.0, 374253.0, 357266.0, 15250.0, 339087.0, 72020.0, 60665.0, 43010.0, 356531.0, 151349.0, 357266.0, 291748.0, 268046.0, 96891.0, 188481.0, 265375.0, 236058.0, 139205.0, 867.0], [154323.0, 358160.0, 345195.0, 386432.0, 43010.0, 105872.0, 105872.0, 52075.0, 383514.0, 190412.0, 388711.0, 123767.0, 221115.0, 268046.0, 268046.0, 46223.0, 360915.0, 61634.0, 357266.0, 165671.0, 303923.0, 289865.0, 268046.0, 268046.0, 190415.0, 193716.0, 90548.0, 71090.0, 106804.0, 357212.0, 188536.0, 151772.0, 151772.0, 151772.0, 106427.0, 58997.0, 289867.0, 177800.0, 265388.0, 346198.0, 388711.0, 178401.0, 289865.0, 151349.0, 357266.0, 303915.0, 268046.0, 268046.0, 93265.0, 93265.0, 357266.0, 292261.0, 292261.0, 120780.0, 165671.0, 333429.0, 376132.0, 388711.0, 357266.0, 46223.0, 221115.0, 268046.0, 257787.0, 54718.0, 65172.0, 249755.0, 452.0, 331417.0, 165671.0, 303915.0, 273428.0, 43010.0, 387138.0, 300364.0, 268046.0, 108590.0, 300978.0, 192973.0, 267326.0, 378206.0, 137505.0, 177800.0, 265388.0, 231552.0, 357266.0, 165671.0, 333429.0, 268046.0, 357266.0, 236496.0, 220815.0, 325034.0, 360915.0, 357266.0, 108590.0, 108590.0, 108590.0, 108590.0, 58997.0, 97022.0, 88126.0, 337259.0, 144062.0, 386474.0, 192973.0, 343257.0, 45096.0, 47798.0, 26559.0, 170290.0, 268046.0, 107971.0, 107971.0, 249755.0, 452.0, 52078.0, 303914.0, 88126.0, 239197.0, 268046.0, 268046.0, 268046.0, 90548.0, 71090.0, 303299.0, 267327.0, 43010.0, 148444.0, 165671.0, 344936.0, 388711.0, 335129.0, 46223.0, 270970.0, 262350.0, 155499.0, 46223.0, 268046.0, 268046.0, 47798.0, 357266.0, 148908.0, 190165.0, 190165.0, 106806.0, 452.0, 452.0, 190415.0, 192973.0, 43010.0, 293358.0, 90739.0, 151349.0, 357266.0, 303915.0, 268046.0, 93265.0, 49932.0, 52075.0, 386474.0, 110156.0, 218947.0, 360915.0, 357354.0, 387171.0, 136626.0, 188481.0, 357266.0, 63675.0, 189462.0, 388711.0, 357266.0, 306712.0, 191911.0, 47006.0, 268046.0, 222329.0, 344930.0, 106381.0, 154323.0, 54273.0, 138118.0, 287479.0, 268046.0, 378761.0, 867.0], [360915.0, 357266.0, 74390.0, 268046.0, 63534.0, 399913.0, 209662.0, 452.0, 336114.0, 144971.0, 357640.0, 58997.0, 270201.0, 377946.0, 147468.0, 276883.0, 42972.0, 42972.0, 42974.0, 386474.0, 46244.0, 357266.0, 281311.0, 268046.0, 222960.0, 51235.0, 51235.0, 188481.0, 188481.0, 42972.0, 11458.0, 42974.0, 452.0, 357266.0, 63534.0, 345195.0, 357266.0, 281311.0, 268046.0, 124729.0, 337199.0, 386474.0, 58997.0, 102496.0, 264550.0, 346829.0, 151349.0, 217449.0, 292803.0, 452.0, 339020.0, 188481.0, 188481.0, 188481.0, 188481.0, 42972.0, 21319.0, 42974.0, 452.0, 357266.0, 354516.0, 54718.0, 191229.0, 57920.0, 268046.0, 148545.0, 135301.0, 242260.0, 192973.0, 374168.0, 188481.0, 357266.0, 108098.0, 268046.0, 268046.0, 54431.0, 452.0, 54718.0, 357266.0, 265592.0, 356595.0, 158.0, 188481.0, 44761.0, 268046.0, 57170.0, 357589.0, 345195.0, 324.0, 346705.0, 52261.0, 270888.0, 158.0, 388711.0, 43010.0, 224903.0, 143981.0, 324.0, 108395.0, 300978.0, 268046.0, 357266.0, 293583.0, 293583.0, 354516.0, 54718.0, 191229.0, 191229.0, 357266.0, 270201.0, 276859.0, 386474.0, 294049.0, 308660.0, 357589.0, 345195.0, 452.0, 348218.0, 88126.0, 143043.0, 265592.0, 142285.0, 452.0, 192973.0, 88126.0, 88126.0, 140185.0, 50256.0, 42972.0, 8172.0, 42974.0, 386432.0, 357266.0, 63534.0, 125161.0, 357266.0, 273734.0, 321526.0, 321526.0, 357266.0, 316998.0, 63534.0, 174642.0, 52520.0, 293583.0, 293583.0, 293583.0, 151349.0, 151349.0, 54431.0, 188481.0, 42972.0, 9321.0, 42974.0, 867.0], [269953.0, 268046.0, 357266.0, 166369.0, 346322.0, 268046.0, 357266.0, 142820.0, 293158.0, 92687.0, 272930.0, 62065.0, 220590.0, 174032.0, 71814.0, 360915.0, 295763.0, 43010.0, 148868.0, 226512.0, 81901.0, 269798.0, 357266.0, 178400.0, 236058.0, 452.0, 242735.0, 42962.0, 7438.0, 160494.0, 42972.0, 2479.0, 42974.0, 452.0, 54718.0, 62065.0, 357266.0, 316998.0, 359889.0, 452.0, 361190.0, 388711.0, 357266.0, 189825.0, 105730.0, 154323.0, 334517.0, 452.0, 360915.0, 162051.0, 43010.0, 344851.0, 189233.0, 141986.0, 357212.0, 357266.0, 178400.0, 81427.0, 452.0, 357266.0, 343257.0, 246283.0, 278008.0, 268046.0, 357266.0, 341454.0, 247378.0, 158.0, 335090.0, 324.0, 452.0, 329916.0, 71090.0, 304970.0, 222292.0, 388711.0, 43010.0, 178401.0, 292765.0, 151349.0, 193919.0, 236058.0, 360915.0, 71090.0, 72786.0, 17356.0, 17356.0, 357266.0, 322769.0, 151349.0, 357266.0, 178400.0, 81427.0, 192973.0, 269953.0, 268046.0, 357266.0, 231068.0, 267077.0, 268046.0, 357266.0, 356756.0, 54718.0, 357266.0, 155653.0, 217449.0, 170834.0, 105073.0, 158.0, 221506.0, 324.0, 452.0, 357212.0, 58997.0, 348226.0, 360915.0, 338711.0, 51582.0, 357266.0, 178400.0, 236058.0, 304268.0, 373317.0, 360915.0, 2479.0, 2479.0, 62065.0, 170834.0, 105074.0, 357266.0, 231068.0, 178400.0, 292986.0, 239301.0, 192973.0, 357266.0, 162977.0, 155584.0, 42972.0, 15341.0, 42974.0, 452.0, 43010.0, 292848.0, 386960.0, 209662.0, 192973.0, 155243.0, 188481.0, 271173.0, 360915.0, 295763.0, 222729.0, 269798.0, 357266.0, 178400.0, 236058.0, 270970.0, 452.0, 188481.0, 93018.0, 357266.0, 178400.0, 192973.0, 125119.0, 452.0, 360915.0, 106189.0, 357266.0, 239228.0, 112328.0, 323165.0, 388711.0, 357266.0, 335090.0, 335090.0, 106727.0, 357266.0, 178400.0, 118650.0, 96816.0, 452.0, 193716.0, 192973.0, 297928.0, 123789.0, 151349.0, 54273.0, 170834.0, 105073.0, 360915.0, 45107.0, 277915.0, 268046.0, 357266.0, 236058.0, 300364.0, 145835.0, 88126.0, 357266.0, 220590.0, 306717.0, 452.0, 357266.0, 336118.0, 191411.0, 178400.0, 236058.0, 304237.0, 304237.0, 160494.0, 452.0, 71494.0, 268046.0, 357266.0, 217449.0, 296613.0, 65760.0, 360915.0, 357266.0, 127298.0, 127298.0, 188481.0, 358160.0, 304237.0, 357266.0, 300703.0, 118650.0, 118650.0, 192973.0, 357266.0, 250392.0, 191290.0, 52643.0, 360915.0, 357266.0, 374386.0, 118650.0, 96816.0, 867.0], [157162.0, 360553.0, 360553.0, 58997.0, 43010.0, 144715.0, 268046.0, 226394.0, 120991.0, 452.0, 178401.0, 281311.0, 52078.0, 388711.0, 357266.0, 289872.0, 360915.0, 305876.0, 113946.0, 113946.0, 347751.0, 374168.0, 188481.0, 357266.0, 292986.0, 268046.0, 47260.0, 47260.0, 192143.0, 93403.0, 192973.0, 269953.0, 268046.0, 357266.0, 250392.0, 133217.0, 242260.0, 360915.0, 292969.0, 360553.0, 54718.0, 360553.0, 360553.0, 52075.0, 292998.0, 452.0, 188949.0, 357266.0, 106384.0, 48.0, 190977.0, 54718.0, 239291.0, 293518.0, 452.0, 386501.0, 303670.0, 236496.0, 383684.0, 54718.0, 229450.0, 109891.0, 42972.0, 2479.0, 42974.0, 867.0, 360553.0, 360553.0, 58997.0, 123789.0, 360915.0, 292848.0, 231117.0, 130319.0, 360915.0, 357266.0, 226394.0, 150493.0, 268046.0, 357266.0, 359194.0, 52075.0, 59937.0, 193919.0, 240636.0, 355520.0, 42972.0, 15341.0, 42974.0, 867.0, 130319.0, 360915.0, 357266.0, 178401.0, 47523.0, 268046.0, 135310.0, 346373.0, 60665.0, 274289.0, 452.0, 261971.0, 140214.0, 452.0, 360553.0, 54718.0, 193919.0, 52078.0, 90548.0, 132569.0, 191135.0, 388711.0, 250773.0, 236514.0, 131142.0, 357266.0, 192143.0, 93403.0, 292848.0, 452.0, 306716.0, 188481.0, 54273.0, 191138.0, 173314.0, 218659.0, 72182.0, 159436.0, 62065.0, 357266.0, 242030.0, 348406.0, 42972.0, 22256.0, 42974.0, 867.0, 358160.0, 173314.0, 218659.0, 108008.0, 43010.0, 217449.0, 53974.0, 268046.0, 125710.0, 274289.0, 452.0, 54718.0, 193716.0, 192973.0, 377946.0, 84424.0, 54718.0, 348666.0, 360915.0, 111052.0, 159439.0, 54718.0, 293485.0, 42972.0, 30387.0, 42974.0, 867.0], [158825.0, 158.0, 5382.0, 324.0, 382037.0, 158.0, 158.0, 54718.0, 274550.0, 324.0, 385664.0, 102443.0, 188481.0, 370312.0, 178401.0, 374977.0, 158.0, 42955.0, 42955.0, 324.0, 62065.0, 62065.0, 54718.0, 54718.0, 151349.0, 6747.0, 360915.0, 141770.0, 57170.0, 257221.0, 274242.0, 54718.0, 336114.0, 45457.0, 54273.0, 274242.0, 153443.0, 153443.0, 346120.0, 452.0, 382037.0, 385664.0, 142944.0, 360915.0, 54273.0, 49932.0, 150594.0, 151349.0, 43010.0, 300364.0, 268046.0, 359971.0, 360915.0, 121254.0, 370386.0, 49932.0, 49932.0, 357266.0, 317183.0, 385664.0, 357412.0, 274250.0, 62065.0, 53278.0, 355524.0, 188481.0, 357266.0, 237842.0, 224431.0, 224666.0, 360915.0, 292969.0, 50258.0, 50258.0, 357266.0, 317183.0, 385664.0, 363908.0, 388747.0, 15297.0, 360915.0, 54273.0, 274220.0, 190842.0, 270450.0, 302203.0, 54718.0, 357953.0, 148269.0, 268046.0, 268046.0, 385664.0, 121257.0, 269798.0, 357266.0, 50258.0, 374253.0, 62484.0, 218659.0, 121260.0, 158.0, 50782.0, 324.0, 867.0, 357266.0, 357266.0, 121262.0, 374168.0, 43010.0, 42972.0, 158.0, 158.0, 324.0, 324.0, 42974.0, 291238.0, 110482.0, 388711.0, 54273.0, 266734.0, 286186.0, 60665.0, 357266.0, 274254.0, 274254.0, 74651.0, 23310.0, 54718.0, 9587.0, 50782.0, 114531.0, 385664.0, 374168.0, 360915.0, 167678.0, 167678.0, 357873.0, 154323.0, 4728.0, 360915.0, 360915.0, 62065.0, 62065.0, 151349.0, 135114.0, 239231.0, 452.0, 101471.0, 163826.0, 107983.0, 268046.0, 58999.0, 58999.0, 385664.0, 121257.0, 270284.0, 357266.0, 148269.0, 360915.0, 151719.0, 250199.0, 158226.0, 135176.0, 54718.0, 49932.0, 383514.0, 121257.0, 269798.0, 357266.0, 65680.0, 268046.0, 357266.0, 158825.0, 382037.0, 360915.0, 294037.0, 54273.0, 268584.0, 268584.0, 47798.0, 291487.0, 239231.0, 452.0, 357266.0, 317183.0, 385664.0, 55795.0, 188481.0, 151796.0, 158016.0, 158.0, 147540.0, 324.0, 62065.0, 62065.0, 151349.0, 151349.0, 357266.0, 274242.0, 219031.0, 113946.0, 383514.0, 239228.0, 374253.0, 43010.0, 204834.0, 204834.0, 380810.0, 338227.0, 54718.0, 204834.0, 204834.0, 204834.0, 357266.0, 182659.0, 182659.0, 226394.0, 153800.0, 158.0, 221445.0, 324.0, 188086.0, 54445.0, 62065.0, 335129.0, 331376.0, 153799.0, 74651.0, 74651.0, 360915.0, 360915.0, 383514.0, 374168.0, 360915.0, 281307.0, 178401.0, 153800.0, 153800.0, 158.0, 178067.0, 114301.0, 324.0, 239231.0, 867.0], [60401.0, 259700.0, 259595.0, 158.0, 55727.0, 324.0, 174642.0, 71814.0, 387160.0, 374168.0, 188481.0, 321704.0, 54718.0, 137410.0, 137410.0, 357810.0, 62696.0, 360915.0, 247378.0, 357266.0, 44430.0, 268046.0, 76545.0, 259305.0, 350396.0, 360915.0, 302989.0, 278960.0, 54718.0, 54718.0, 55727.0, 69840.0, 58791.0, 107707.0, 268046.0, 259595.0, 268046.0, 292314.0, 155226.0, 91234.0, 268046.0, 302797.0, 252664.0, 384901.0, 190464.0, 357212.0, 58997.0, 141703.0, 188481.0, 356212.0, 268046.0, 357354.0, 346321.0, 62065.0, 125148.0, 357266.0, 102220.0, 188481.0, 188481.0, 123767.0, 368687.0, 268046.0, 292314.0, 155226.0, 54718.0, 259585.0, 107108.0, 306708.0, 188481.0, 376237.0, 247396.0, 158.0, 174274.0, 140185.0, 50256.0, 452.0, 17635.0, 42950.0, 310604.0, 452.0, 15002.0, 324.0, 867.0, 131142.0, 363601.0, 259585.0, 107431.0, 384915.0, 58997.0, 46599.0, 186645.0, 357266.0, 325187.0, 268046.0, 190464.0, 54718.0, 291265.0, 102220.0, 188999.0, 54273.0, 54273.0, 108395.0, 292840.0, 373140.0, 357266.0, 303676.0, 188481.0, 139198.0, 74651.0, 193853.0, 302175.0, 43010.0, 118650.0, 358724.0, 158.0, 158.0, 452.0, 17599.0, 42950.0, 310604.0, 452.0, 15002.0, 324.0, 867.0, 384374.0, 374163.0, 146321.0, 259595.0, 388711.0, 43010.0, 332395.0, 178261.0, 218659.0, 268046.0, 262551.0, 452.0, 43010.0, 336114.0, 89857.0, 252449.0, 281131.0, 158.0, 246989.0, 324.0, 158.0, 377096.0, 54718.0, 309062.0, 452.0, 17499.0, 324.0, 452.0, 54718.0, 323926.0, 269953.0, 268046.0, 368321.0, 289446.0, 277191.0, 42867.0, 333429.0, 452.0, 357266.0, 265557.0, 262551.0, 188481.0, 357266.0, 178261.0, 218659.0, 867.0], [357266.0, 111052.0, 67817.0, 57920.0, 151349.0, 292982.0, 241741.0, 189078.0, 189078.0, 114047.0, 151349.0, 152808.0, 188481.0, 285994.0, 106839.0, 192973.0, 69725.0, 269798.0, 357266.0, 186344.0, 357212.0, 357266.0, 111052.0, 270547.0, 192973.0, 363928.0, 191811.0, 189508.0, 344185.0, 88126.0, 125817.0, 193716.0, 273428.0, 54273.0, 135301.0, 220336.0, 121166.0, 397999.0, 42972.0, 30387.0, 42974.0, 867.0, 358160.0, 57920.0, 387696.0, 270201.0, 292969.0, 241741.0, 189078.0, 189078.0, 114047.0, 452.0, 186645.0, 357266.0, 189508.0, 344185.0, 293083.0, 188481.0, 357266.0, 148545.0, 135301.0, 54431.0, 58997.0, 241741.0, 333429.0, 333429.0, 358160.0, 306175.0, 192973.0, 54273.0, 188273.0, 123763.0, 360915.0, 357266.0, 263654.0, 247378.0, 386474.0, 192973.0, 121851.0, 360915.0, 292969.0, 81562.0, 241741.0, 333429.0, 189078.0, 189078.0, 114047.0, 54718.0, 344185.0, 344185.0, 188481.0, 188481.0, 452.0, 357266.0, 111052.0, 67817.0, 57920.0, 192973.0, 57844.0, 270201.0, 360915.0, 357266.0, 355893.0, 277915.0, 268046.0, 357266.0, 116330.0, 51274.0, 88126.0, 305883.0, 357266.0, 357266.0, 344185.0, 218524.0, 330028.0, 188481.0, 147946.0, 15341.0, 158.0, 65064.0, 324.0, 88126.0, 43010.0, 43010.0, 125535.0, 218524.0, 268046.0, 357266.0, 151719.0, 158.0, 9321.0, 324.0, 324.0, 158.0, 158.0, 324.0, 186645.0, 158.0, 158.0, 42962.0, 1681.0, 324.0, 177231.0, 452.0, 452.0, 192973.0, 43010.0, 111052.0, 270547.0, 358724.0, 374168.0, 360915.0, 108302.0, 357266.0, 334862.0, 268046.0, 357266.0, 336599.0, 114042.0, 54718.0, 170290.0, 192973.0, 357266.0, 387219.0, 268046.0, 357266.0, 357266.0, 452.0, 386474.0, 188481.0, 357266.0, 291753.0, 345195.0, 192973.0, 138590.0, 360915.0, 357266.0, 237347.0, 124206.0, 268046.0, 357266.0, 135301.0, 52318.0, 357266.0, 292385.0, 124748.0, 268046.0, 357266.0, 344185.0, 355905.0, 109527.0, 360915.0, 357266.0, 237347.0, 355893.0, 292385.0, 344185.0, 62065.0, 357266.0, 270258.0, 268046.0, 268046.0, 151349.0, 357266.0, 106456.0, 277915.0, 452.0, 43010.0, 43010.0, 344185.0, 218524.0, 383514.0, 374168.0, 360915.0, 122190.0, 357266.0, 106456.0, 116330.0, 277188.0, 452.0, 332240.0, 193716.0, 383514.0, 305946.0, 188481.0, 42972.0, 10064.0, 42974.0, 151349.0, 105467.0, 345912.0, 360915.0, 132928.0, 106453.0, 357212.0, 189508.0, 344185.0, 293083.0, 188481.0, 106453.0, 126552.0, 264550.0, 142575.0, 43010.0, 241741.0, 121162.0, 386474.0, 390139.0, 319041.0, 357266.0, 61771.0, 268046.0, 357266.0, 357266.0, 357266.0, 358160.0, 57920.0, 268046.0, 57856.0, 357266.0, 357266.0, 57920.0, 270201.0, 360915.0, 357266.0, 355893.0, 277915.0, 174032.0, 52477.0, 71814.0, 346324.0, 374168.0, 188481.0, 166106.0, 140185.0, 50256.0, 42972.0, 11458.0, 42974.0, 867.0], [274137.0, 360915.0, 387181.0, 63821.0, 452.0, 357266.0, 250392.0, 143044.0, 46780.0, 361687.0, 354634.0, 374517.0, 357266.0, 244637.0, 290159.0, 268046.0, 43010.0, 150792.0, 192311.0, 71177.0, 158.0, 147623.0, 324.0, 188481.0, 107371.0, 388711.0, 357266.0, 187682.0, 91229.0, 268046.0, 178401.0, 306450.0, 306450.0, 452.0, 360915.0, 294037.0, 43010.0, 325299.0, 268046.0, 21729.0, 187656.0, 357212.0, 90548.0, 71090.0, 133901.0, 133901.0, 188481.0, 26476.0, 26476.0, 182573.0, 452.0, 71494.0, 358160.0, 354634.0, 192973.0, 122096.0, 452.0, 345173.0, 268046.0, 243331.0, 142048.0, 58997.0, 189768.0, 88126.0, 190095.0, 317178.0, 317178.0, 262963.0, 391342.0, 391342.0, 361687.0, 158.0, 113097.0, 324.0, 42972.0, 42972.0, 42974.0, 294049.0, 43010.0, 286278.0, 151349.0, 142907.0, 131663.0, 243331.0, 96721.0, 188481.0, 357266.0, 44761.0, 268046.0, 357761.0, 289446.0, 106360.0, 54718.0, 192973.0, 106217.0, 388711.0, 81562.0, 215333.0, 54718.0, 350131.0, 350131.0, 357266.0, 63534.0, 174642.0, 292067.0, 120639.0, 43010.0, 354634.0, 151349.0, 291628.0, 268046.0, 270888.0, 317178.0, 159830.0, 151349.0, 391342.0, 391342.0, 42972.0, 8172.0, 42974.0, 452.0, 386495.0, 358160.0, 147623.0, 317178.0, 291628.0, 312160.0, 387696.0, 192213.0, 357266.0, 323936.0, 305352.0, 268046.0, 289203.0, 268046.0, 357266.0, 154796.0, 94956.0, 135174.0, 243332.0, 158.0, 54718.0, 357645.0, 237383.0, 71090.0, 122096.0, 360915.0, 357266.0, 389883.0, 154796.0, 94956.0, 324.0, 452.0, 357266.0, 262963.0, 391342.0, 97028.0, 354634.0, 52074.0, 305821.0, 452.0, 262963.0, 97028.0, 268046.0, 357266.0, 323929.0, 317178.0, 386474.0, 143929.0, 357266.0, 345195.0, 268046.0, 243331.0, 142048.0, 292852.0, 188481.0, 306549.0, 360915.0, 376147.0, 138118.0, 96737.0, 867.0], [386495.0, 188086.0, 339111.0, 192973.0, 43010.0, 297928.0, 105990.0, 242245.0, 360915.0, 192125.0, 246677.0, 106971.0, 357953.0, 148224.0, 135176.0, 452.0, 42972.0, 42972.0, 42974.0, 274289.0, 363357.0, 142832.0, 58997.0, 268345.0, 281319.0, 269798.0, 86545.0, 317183.0, 42972.0, 42972.0, 42974.0, 867.0, 302802.0, 452.0, 326146.0, 326146.0, 239231.0, 268046.0, 246677.0, 106971.0, 93804.0, 236514.0, 385664.0, 294799.0, 388711.0, 357266.0, 274242.0, 148269.0, 72182.0, 121257.0, 269798.0, 190868.0, 346198.0, 42972.0, 42972.0, 42974.0, 867.0, 182573.0, 452.0, 360915.0, 357266.0, 74390.0, 268046.0, 357266.0, 63534.0, 48.0, 209662.0, 262350.0, 345195.0, 336114.0, 144971.0, 305946.0, 142832.0, 388711.0, 81562.0, 354635.0, 72182.0, 57844.0, 269798.0, 357266.0, 316998.0, 148269.0, 62065.0, 357266.0, 316998.0, 316998.0, 358160.0, 108284.0, 305954.0, 357266.0, 306717.0, 268046.0, 43010.0, 345195.0, 57856.0, 134606.0, 54718.0, 54718.0, 360915.0, 269953.0, 54718.0, 357266.0, 316998.0, 316998.0, 158.0, 226734.0, 324.0, 357953.0, 148224.0, 188481.0, 271173.0, 360915.0, 160418.0, 106318.0, 306717.0, 269798.0, 357266.0, 306423.0, 108285.0, 268046.0, 357266.0, 274289.0, 303676.0, 207791.0, 269798.0, 346373.0, 346373.0, 60665.0, 135114.0, 239231.0, 306173.0, 54273.0, 274289.0, 192311.0, 106976.0, 452.0, 452.0, 341039.0, 397674.0, 158.0, 158.0, 324.0, 383514.0, 374168.0, 60665.0, 346197.0, 151349.0, 226734.0, 148269.0, 388711.0, 368321.0, 123767.0, 165671.0, 165671.0, 297167.0, 236496.0, 277191.0, 58997.0, 119069.0, 154323.0, 81562.0, 368687.0, 268046.0, 142832.0, 54718.0, 106194.0, 268046.0, 357266.0, 117493.0, 52072.0, 356585.0, 357266.0, 57930.0, 268046.0, 54431.0, 247396.0, 867.0], [867.0, 45855.0, 190310.0, 187962.0, 124758.0, 158.0, 151349.0, 142283.0, 452.0, 114759.0, 324.0, 270970.0, 358802.0, 358802.0, 302815.0, 158.0, 294147.0, 452.0, 346373.0, 60665.0, 358452.0, 151349.0, 65937.0, 106384.0, 324.0, 867.0, 357266.0, 361445.0, 302815.0, 158.0, 360824.0, 324.0, 58997.0, 43010.0, 144715.0, 268046.0, 294147.0, 357212.0, 58997.0, 54273.0, 188273.0, 223131.0, 74651.0, 190310.0, 54718.0, 46136.0, 46136.0, 337259.0, 345173.0, 174642.0, 330028.0, 357212.0, 360822.0, 222268.0, 174642.0, 46611.0, 45884.0, 54718.0, 137504.0, 56745.0, 56658.0, 54718.0, 94961.0, 187954.0, 306550.0, 452.0, 139731.0, 386424.0, 357810.0, 58997.0, 105586.0, 388711.0, 120127.0, 350396.0, 357212.0, 293378.0, 357354.0, 373599.0, 54718.0, 120127.0, 191811.0, 56744.0, 95005.0, 42972.0, 42972.0, 42974.0, 867.0, 151349.0, 102845.0, 345173.0, 452.0, 452.0, 192973.0, 159426.0, 343309.0, 388711.0, 350271.0, 350271.0, 108005.0, 269953.0, 270970.0, 249714.0, 372438.0, 110958.0, 110958.0, 188481.0, 183900.0, 452.0, 110958.0, 174032.0, 71814.0, 374168.0, 60665.0, 54273.0, 46611.0, 151349.0, 189629.0, 125175.0, 374933.0, 42972.0, 42972.0, 42974.0, 54718.0, 188481.0, 357266.0, 122455.0, 268046.0, 90674.0, 357634.0, 42972.0, 20656.0, 42974.0, 867.0, 188481.0, 43010.0, 250917.0, 247378.0, 452.0, 110958.0, 174032.0, 52520.0, 71814.0, 330028.0, 360915.0, 189387.0, 350784.0, 176556.0, 2479.0, 158.0, 356948.0, 324.0, 187954.0, 306550.0, 452.0, 386474.0, 58997.0, 97031.0, 88126.0, 357266.0, 292986.0, 268046.0, 186701.0, 54718.0, 357266.0, 159439.0, 268046.0, 268046.0, 42972.0, 42972.0, 42974.0, 867.0, 249755.0, 452.0, 43010.0, 292066.0, 345195.0, 170714.0, 120639.0, 357212.0, 123767.0, 223388.0, 388711.0, 110958.0, 267845.0, 331418.0, 188947.0, 188947.0, 114759.0, 54718.0, 63112.0, 94956.0, 239501.0, 187954.0, 306549.0, 42972.0, 23310.0, 42974.0, 867.0], [293193.0, 283681.0, 233849.0, 383514.0, 148908.0, 293583.0, 88126.0, 170655.0, 140185.0, 50256.0, 158.0, 17618.0, 324.0, 60665.0, 54273.0, 193854.0, 143038.0, 268046.0, 357266.0, 341454.0, 342043.0, 283681.0, 233849.0, 57920.0, 60665.0, 188221.0, 188481.0, 357266.0, 298710.0, 298710.0, 193716.0, 105591.0, 252664.0, 335162.0, 283681.0, 233857.0, 360915.0, 57949.0, 43010.0, 251645.0, 217469.0, 269953.0, 386474.0, 237383.0, 264550.0, 149139.0, 191811.0, 240772.0, 374253.0, 357266.0, 363495.0, 363495.0, 358802.0, 193852.0, 452.0, 357266.0, 292848.0, 246495.0, 357266.0, 262664.0, 190095.0, 188481.0, 249036.0, 92271.0, 92271.0, 88126.0, 105593.0, 346329.0, 306717.0, 54718.0, 63982.0, 63982.0, 62065.0, 357266.0, 316998.0, 359889.0, 452.0, 357266.0, 120991.0, 140079.0, 140079.0, 121734.0, 357266.0, 348215.0, 452.0, 270970.0, 58999.0, 268046.0, 189767.0, 452.0, 268046.0, 43010.0, 148300.0, 374168.0, 360915.0, 384893.0, 357266.0, 283684.0, 306967.0, 154323.0, 357266.0, 283681.0, 233795.0, 131142.0, 43010.0, 258196.0, 258744.0, 225653.0, 269798.0, 43010.0, 348406.0, 158.0, 196922.0, 452.0, 17477.0, 324.0, 867.0, 357266.0, 306716.0, 192829.0, 192973.0, 293571.0, 360915.0, 357266.0, 283681.0, 120991.0, 452.0, 54718.0, 357266.0, 67953.0, 192973.0, 119365.0, 88126.0, 357266.0, 125728.0, 158.0, 298855.0, 324.0, 360915.0, 357266.0, 155506.0, 283681.0, 283681.0, 188481.0, 358160.0, 276859.0, 452.0, 384374.0, 159406.0, 357266.0, 356157.0, 360915.0, 121730.0, 134678.0, 357266.0, 298855.0, 270970.0, 357266.0, 265557.0, 268046.0, 258196.0, 258751.0, 151349.0, 43010.0, 120991.0, 140079.0, 452.0, 121168.0, 269798.0, 357266.0, 357266.0, 158.0, 298855.0, 270970.0, 265557.0, 268046.0, 258196.0, 283684.0, 324.0, 192973.0, 165576.0, 303661.0, 360915.0, 246493.0, 246493.0, 60665.0, 170655.0, 287518.0, 272930.0, 452.0, 357266.0, 45280.0, 120991.0, 140081.0, 108393.0, 360915.0, 54273.0, 370815.0, 337176.0, 188481.0, 357266.0, 222709.0, 867.0], [384374.0, 192125.0, 357266.0, 120991.0, 72020.0, 268046.0, 357266.0, 350014.0, 137256.0, 388711.0, 306501.0, 360915.0, 193507.0, 138652.0, 188481.0, 357266.0, 105586.0, 350396.0, 312622.0, 158.0, 398194.0, 324.0, 324.0, 158.0, 312622.0, 324.0, 62065.0, 304974.0, 137241.0, 268046.0, 1919.0, 54718.0, 54718.0, 54718.0, 357266.0, 345195.0, 192973.0, 281319.0, 388747.0, 43010.0, 304974.0, 152908.0, 54718.0, 357266.0, 108284.0, 268046.0, 357266.0, 357266.0, 452.0, 319920.0, 399645.0, 147810.0, 360915.0, 357266.0, 350014.0, 137256.0, 54718.0, 357266.0, 193507.0, 131666.0, 192973.0, 278020.0, 278020.0, 384374.0, 148427.0, 357212.0, 357266.0, 193507.0, 246698.0, 121169.0, 269798.0, 357266.0, 350014.0, 137256.0, 54718.0, 43010.0, 343189.0, 72020.0, 218983.0, 360915.0, 249714.0, 249714.0, 357266.0, 306717.0, 58997.0, 52520.0, 260763.0, 325034.0, 360915.0, 357266.0, 399931.0, 148444.0, 344936.0, 399936.0, 268046.0, 357266.0, 350014.0, 137256.0, 452.0, 185635.0, 452.0, 360915.0, 357266.0, 110676.0, 293518.0, 268046.0, 357266.0, 357266.0, 241824.0, 241824.0, 193507.0, 363393.0, 57721.0, 251645.0, 220815.0, 121166.0, 269798.0, 357266.0, 188481.0, 239623.0, 239623.0, 112328.0, 323172.0, 158.0, 158.0, 324.0, 54718.0, 358160.0, 231492.0, 346373.0, 267247.0, 377946.0, 279843.0, 151349.0, 357266.0, 345195.0, 268046.0, 357266.0, 357266.0, 277915.0, 268046.0, 357266.0, 265375.0, 138623.0, 268046.0, 268046.0, 346373.0, 43010.0, 152908.0, 452.0, 106195.0, 388711.0, 142832.0, 348215.0, 357266.0, 191921.0, 268046.0, 357266.0, 399645.0, 241824.0, 188481.0, 357266.0, 121738.0, 268046.0, 357266.0, 357266.0, 138623.0, 268046.0, 341956.0, 867.0], [302801.0, 294771.0, 42972.0, 23802.0, 42974.0, 136613.0, 43010.0, 376136.0, 268046.0, 242260.0, 151349.0, 89636.0, 373490.0, 222729.0, 54718.0, 357640.0, 192973.0, 262350.0, 372240.0, 45101.0, 292834.0, 42972.0, 42972.0, 42974.0, 867.0, 384374.0, 99949.0, 54273.0, 57920.0, 332008.0, 360915.0, 357212.0, 148908.0, 47096.0, 88126.0, 146528.0, 54718.0, 110627.0, 42972.0, 20656.0, 42974.0, 867.0, 358160.0, 242245.0, 174032.0, 71814.0, 332240.0, 143026.0, 88126.0, 107540.0, 140185.0, 50256.0, 42972.0, 24747.0, 42974.0, 360915.0, 188929.0, 370907.0, 188481.0, 122159.0, 325039.0, 54718.0, 357266.0, 65760.0, 140079.0, 69725.0, 269798.0, 54273.0, 57920.0, 121731.0, 88126.0, 110627.0, 54718.0, 178609.0, 42972.0, 25017.0, 42974.0, 867.0, 43010.0, 155499.0, 303915.0, 268046.0, 357266.0, 107540.0, 140185.0, 50256.0, 242245.0, 88126.0, 178828.0, 42972.0, 25335.0, 42974.0, 306717.0, 188481.0, 249714.0, 57927.0, 72020.0, 268046.0, 357266.0, 373490.0, 222709.0, 386424.0, 357266.0, 267267.0, 265557.0, 268046.0, 141855.0, 192973.0, 220815.0, 357109.0, 357266.0, 140080.0, 65760.0, 452.0, 60665.0, 192973.0, 357266.0, 93018.0, 151349.0, 357266.0, 291753.0, 291753.0, 384374.0, 174642.0, 46780.0, 358160.0, 242245.0, 87775.0, 264588.0, 357212.0, 351098.0, 15341.0, 108008.0, 51582.0, 268046.0, 357266.0, 265568.0, 258454.0, 360915.0, 89632.0, 54273.0, 373490.0, 222709.0, 374253.0, 57170.0, 268046.0, 357266.0, 242260.0, 188481.0, 357266.0, 276883.0, 101651.0, 101651.0, 384374.0, 61762.0, 357212.0, 357266.0, 292765.0, 120991.0, 155226.0, 268046.0, 268046.0, 54718.0, 65760.0, 140081.0, 58997.0, 58997.0, 867.0], [384374.0, 341875.0, 88126.0, 273145.0, 357266.0, 250545.0, 452.0, 344936.0, 54718.0, 108067.0, 268046.0, 357266.0, 357266.0, 193716.0, 174032.0, 225289.0, 71814.0, 209675.0, 357212.0, 91981.0, 331391.0, 107993.0, 43010.0, 265557.0, 268046.0, 272062.0, 106384.0, 357212.0, 58997.0, 264550.0, 142250.0, 142250.0, 360915.0, 295763.0, 193716.0, 123784.0, 452.0, 357354.0, 281463.0, 158.0, 153799.0, 324.0, 150458.0, 388711.0, 388711.0, 151349.0, 142283.0, 452.0, 175449.0, 300964.0, 376097.0, 158.0, 182788.0, 324.0, 174032.0, 188481.0, 193923.0, 294038.0, 43010.0, 231345.0, 362162.0, 268046.0, 268046.0, 384374.0, 191915.0, 269953.0, 268046.0, 357266.0, 342069.0, 57924.0, 360915.0, 182788.0, 188481.0, 323165.0, 23046.0, 182573.0, 452.0, 188481.0, 271173.0, 360915.0, 371426.0, 357266.0, 376097.0, 268046.0, 357266.0, 91981.0, 350362.0, 452.0, 125165.0, 268046.0, 43010.0, 332395.0, 338227.0, 192973.0, 190856.0, 71494.0, 357266.0, 91981.0, 350362.0, 192973.0, 106391.0, 268046.0, 233708.0, 123767.0, 283905.0, 106384.0, 158.0, 346211.0, 324.0, 54718.0, 193716.0, 192973.0, 357266.0, 133907.0, 268046.0, 357354.0, 254029.0, 191138.0, 357212.0, 105585.0, 360915.0, 292969.0, 292969.0, 358160.0, 192973.0, 120639.0, 188481.0, 323165.0, 26559.0, 452.0, 307134.0, 88126.0, 306717.0, 267326.0, 374253.0, 357266.0, 384057.0, 384057.0, 188481.0, 323165.0, 30387.0, 452.0, 384374.0, 125161.0, 357266.0, 357266.0, 191138.0, 188481.0, 356212.0, 268046.0, 283048.0, 283048.0, 360915.0, 325899.0, 357266.0, 320243.0, 151349.0, 357761.0, 217909.0, 125166.0, 452.0, 384374.0, 347249.0, 357266.0, 69840.0, 292409.0, 268046.0, 283048.0, 131666.0, 188481.0, 323165.0, 16738.0, 151349.0, 302222.0, 386887.0, 58997.0, 371721.0, 388711.0, 357266.0, 283905.0, 61428.0, 268046.0, 357266.0, 306262.0, 452.0, 384374.0, 294037.0, 57754.0, 43010.0, 269798.0, 357266.0, 91981.0, 350362.0, 54718.0, 65064.0, 269798.0, 182540.0, 239231.0, 268046.0, 91981.0, 331391.0, 58997.0, 58997.0, 57757.0, 88542.0, 294049.0, 122134.0, 268046.0, 357266.0, 342069.0, 242260.0, 374168.0, 188481.0, 357266.0, 167631.0, 117493.0, 54429.0, 867.0], [359056.0, 452.0, 357266.0, 143038.0, 360915.0, 357266.0, 97232.0, 54419.0, 54419.0, 158.0, 158.0, 324.0, 294049.0, 54273.0, 191290.0, 356531.0, 151349.0, 357266.0, 322536.0, 347147.0, 313189.0, 54718.0, 218072.0, 89639.0, 42972.0, 12126.0, 42974.0, 867.0, 177231.0, 452.0, 357266.0, 97224.0, 297202.0, 192973.0, 297928.0, 175599.0, 336114.0, 357212.0, 357266.0, 357266.0, 284277.0, 237383.0, 149139.0, 385218.0, 54718.0, 357266.0, 200170.0, 291290.0, 151349.0, 357266.0, 277597.0, 192973.0, 142758.0, 360915.0, 71090.0, 306061.0, 154323.0, 154323.0, 188481.0, 143954.0, 452.0, 297495.0, 218072.0, 89638.0, 148441.0, 357266.0, 277597.0, 268046.0, 268046.0, 158.0, 158.0, 324.0, 360915.0, 71090.0, 289384.0, 42972.0, 20995.0, 42974.0, 867.0, 188481.0, 357266.0, 143038.0, 360915.0, 357266.0, 357266.0, 158.0, 158.0, 324.0, 347147.0, 313201.0, 452.0, 357640.0, 58997.0, 368321.0, 188273.0, 61428.0, 452.0, 386474.0, 231458.0, 358160.0, 347147.0, 313189.0, 123767.0, 154323.0, 357266.0, 322536.0, 347147.0, 347147.0, 148908.0, 268046.0, 51582.0, 452.0, 332240.0, 357266.0, 97224.0, 297202.0, 192973.0, 361940.0, 175599.0, 360915.0, 151719.0, 297202.0, 106889.0, 452.0, 193716.0, 162064.0, 263237.0, 133907.0, 270201.0, 88126.0, 298718.0, 298718.0, 357266.0, 357266.0, 246677.0, 106889.0, 106889.0, 452.0, 386474.0, 383514.0, 357266.0, 188273.0, 108284.0, 188481.0, 357266.0, 357266.0, 347147.0, 313189.0, 452.0, 192973.0, 305878.0, 88126.0, 88126.0, 270631.0, 188481.0, 357266.0, 175599.0, 297202.0, 142731.0, 357212.0, 58997.0, 264180.0, 264180.0, 323104.0, 452.0, 357266.0, 97224.0, 297202.0, 236058.0, 174032.0, 360915.0, 71090.0, 205393.0, 148545.0, 188481.0, 357266.0, 270490.0, 452.0, 386474.0, 90548.0, 71090.0, 127491.0, 88126.0, 374253.0, 357266.0, 248246.0, 338556.0, 142975.0, 151349.0, 357266.0, 357266.0, 357266.0, 358160.0, 192973.0, 123767.0, 154323.0, 357266.0, 357266.0, 347147.0, 313189.0, 386432.0, 357266.0, 89638.0, 192973.0, 281319.0, 188481.0, 357266.0, 108665.0, 338556.0, 54718.0, 51582.0, 357266.0, 297202.0, 293487.0, 58997.0, 267326.0, 69725.0, 269798.0, 357266.0, 142731.0, 388711.0, 357266.0, 335129.0, 297202.0, 236069.0, 204683.0, 357761.0, 368321.0, 61428.0, 188481.0, 244950.0, 452.0, 384374.0, 107871.0, 296613.0, 347147.0, 313201.0, 151349.0, 151349.0, 158.0, 158.0, 324.0, 54718.0, 323337.0, 182540.0, 357810.0, 58997.0, 123767.0, 154323.0, 357266.0, 357266.0, 158.0, 11218.0, 324.0, 347147.0, 313189.0, 867.0], [384374.0, 327043.0, 139953.0, 357266.0, 376117.0, 151758.0, 188481.0, 357266.0, 357266.0, 127210.0, 127210.0, 452.0, 151349.0, 162058.0, 338898.0, 127210.0, 399724.0, 54718.0, 359889.0, 127210.0, 127210.0, 158.0, 1681.0, 452.0, 350784.0, 324.0, 452.0, 151349.0, 43010.0, 297928.0, 84478.0, 102208.0, 268046.0, 292803.0, 192218.0, 43010.0, 148908.0, 271173.0, 271173.0, 188481.0, 278014.0, 452.0, 357266.0, 110482.0, 292794.0, 268046.0, 107729.0, 268046.0, 268046.0, 144594.0, 388747.0, 358160.0, 358160.0, 56041.0, 191290.0, 57836.0, 192973.0, 357266.0, 292794.0, 268046.0, 131666.0, 452.0, 307431.0, 188481.0, 148938.0, 151719.0, 452.0, 185635.0, 358802.0, 43010.0, 172199.0, 172199.0, 193716.0, 192973.0, 268046.0, 107663.0, 191283.0, 360915.0, 264588.0, 154323.0, 357266.0, 273267.0, 357212.0, 452.0, 130319.0, 360915.0, 357266.0, 152216.0, 364123.0, 268046.0, 189825.0, 188481.0, 359889.0, 452.0, 193716.0, 192973.0, 52879.0, 289446.0, 360915.0, 107661.0, 43010.0, 325899.0, 268046.0, 148545.0, 359889.0, 191716.0, 452.0, 386438.0, 357266.0, 337176.0, 62065.0, 357266.0, 136979.0, 268046.0, 57170.0, 346373.0, 191713.0, 387696.0, 45794.0, 60665.0, 357266.0, 190165.0, 117493.0, 151349.0, 357266.0, 260309.0, 260309.0, 360915.0, 358160.0, 136979.0, 452.0, 384374.0, 191915.0, 43010.0, 278056.0, 278056.0, 42955.0, 350923.0, 42955.0, 42955.0, 42955.0, 42955.0, 268046.0, 357266.0, 107670.0, 359889.0, 127210.0, 127210.0, 158.0, 1681.0, 452.0, 350784.0, 324.0, 191811.0, 191811.0, 191811.0, 158.0, 158.0, 452.0, 360877.0, 324.0, 268046.0, 220336.0, 220336.0, 43934.0, 264580.0, 264580.0, 387696.0, 71090.0, 374168.0, 176790.0, 151349.0, 357266.0, 113946.0, 359889.0, 342773.0, 61722.0, 388711.0, 188556.0, 176789.0, 452.0, 384374.0, 119364.0, 119364.0, 334271.0, 334271.0, 346373.0, 357212.0, 357266.0, 357266.0, 127210.0, 90548.0, 71090.0, 162058.0, 60665.0, 60665.0, 867.0], [368321.0, 242260.0, 268046.0, 151980.0, 55596.0, 55596.0, 385664.0, 385664.0, 188481.0, 81562.0, 452.0, 452.0, 385664.0, 291635.0, 188481.0, 383772.0, 62065.0, 43010.0, 300364.0, 268046.0, 247987.0, 97097.0, 301076.0, 268046.0, 214884.0, 360915.0, 114975.0, 386495.0, 357266.0, 281038.0, 274488.0, 360915.0, 114975.0, 247987.0, 97097.0, 301048.0, 383514.0, 231141.0, 107783.0, 62065.0, 62065.0, 242245.0, 2479.0, 158.0, 214884.0, 42867.0, 114975.0, 42867.0, 274488.0, 324.0, 42867.0, 126502.0, 383514.0, 148908.0, 46189.0, 360915.0, 54273.0, 55596.0, 223387.0, 158.0, 215204.0, 452.0, 452.0, 270970.0, 270970.0, 324.0, 54718.0, 188973.0, 151349.0, 11446.0, 62065.0, 311178.0, 355520.0, 54718.0, 357412.0, 357266.0, 281038.0, 383514.0, 46189.0, 388711.0, 300602.0, 246698.0, 54718.0, 188973.0, 62065.0, 311178.0, 355520.0, 151349.0, 43010.0, 155499.0, 17976.0, 42950.0, 242245.0, 15341.0, 158.0, 274488.0, 42867.0, 114975.0, 42867.0, 214884.0, 324.0, 42867.0, 357266.0, 281038.0, 383514.0, 46189.0, 360915.0, 357266.0, 126502.0, 54718.0, 188973.0, 151349.0, 11446.0, 62065.0, 311178.0, 355520.0, 54718.0, 357412.0, 223387.0, 383514.0, 46189.0, 388711.0, 300602.0, 246698.0, 54718.0, 188973.0, 62065.0, 311178.0, 355520.0, 151349.0, 43010.0, 155499.0, 155499.0, 192886.0, 268046.0, 357266.0, 242245.0, 268046.0, 271173.0, 268046.0, 246698.0, 452.0, 51582.0, 247987.0, 97097.0, 301076.0, 188481.0, 358160.0, 345195.0, 303855.0, 360915.0, 214884.0, 42867.0, 274488.0, 42867.0, 115369.0, 93839.0, 151982.0, 226663.0, 54718.0, 54718.0, 385664.0, 291635.0, 188481.0, 357266.0, 271173.0, 214884.0, 42867.0, 274488.0, 42867.0, 114975.0, 60665.0, 121731.0, 292067.0, 42950.0, 148908.0, 452.0, 357266.0, 281038.0, 383514.0, 46189.0, 360915.0, 357266.0, 223387.0, 223387.0, 270970.0, 270970.0, 151055.0, 88126.0, 46223.0, 268046.0, 357266.0, 126502.0, 388711.0, 300602.0, 246698.0, 54718.0, 188973.0, 151349.0, 23793.0, 62065.0, 311178.0, 355520.0, 360915.0, 52067.0, 151349.0, 106337.0, 151761.0, 42972.0, 23310.0, 42974.0, 867.0, 357266.0, 357266.0, 291635.0, 385664.0, 356166.0, 226663.0, 158.0, 223387.0, 223387.0, 324.0, 452.0, 452.0, 54718.0, 54718.0, 158.0, 223387.0, 215204.0, 324.0, 452.0, 452.0, 158.0, 223387.0, 223387.0, 324.0, 452.0, 452.0, 158.0, 223387.0, 223387.0, 324.0, 452.0, 452.0, 158.0, 223387.0, 223387.0, 324.0, 54718.0, 54718.0, 158.0, 223387.0, 223387.0, 324.0, 867.0], [357266.0, 302476.0, 360915.0, 192125.0, 357266.0, 357266.0, 54718.0, 54718.0, 138625.0, 188481.0, 357266.0, 93018.0, 268046.0, 348102.0, 357595.0, 192973.0, 69725.0, 269798.0, 43010.0, 105990.0, 72469.0, 452.0, 357212.0, 357266.0, 178401.0, 350014.0, 237383.0, 331418.0, 332142.0, 357266.0, 344936.0, 268046.0, 357761.0, 357761.0, 189034.0, 452.0, 193716.0, 383514.0, 152393.0, 188481.0, 357266.0, 218977.0, 224903.0, 57954.0, 158.0, 224196.0, 324.0, 42972.0, 4961.0, 42974.0, 452.0, 357212.0, 357266.0, 336118.0, 336118.0, 270631.0, 188481.0, 188481.0, 349962.0, 58997.0, 372007.0, 188481.0, 188481.0, 388711.0, 55999.0, 124213.0, 267326.0, 154323.0, 372227.0, 55999.0, 124213.0, 124213.0, 158.0, 194437.0, 324.0, 88126.0, 328658.0, 193919.0, 59197.0, 88126.0, 54273.0, 190940.0, 190940.0, 155499.0, 452.0, 357266.0, 55999.0, 124206.0, 236733.0, 151349.0, 151349.0, 270631.0, 58997.0, 149340.0, 88126.0, 357266.0, 357266.0, 192023.0, 42972.0, 4961.0, 42974.0, 867.0, 89639.0, 188481.0, 357266.0, 237313.0, 143026.0, 143026.0, 349962.0, 452.0, 386432.0, 357266.0, 110489.0, 107783.0, 192973.0, 264550.0, 305605.0, 452.0, 162051.0, 141816.0, 249714.0, 305181.0, 305181.0, 256057.0, 452.0, 193716.0, 367701.0, 272930.0, 452.0, 357212.0, 177231.0, 51582.0, 51582.0, 270631.0, 137846.0, 188481.0, 357266.0, 316998.0, 252670.0, 452.0, 357354.0, 55999.0, 124206.0, 236752.0, 192973.0, 149340.0, 106329.0, 88126.0, 357266.0, 357266.0, 192023.0, 54718.0, 193919.0, 372227.0, 55999.0, 124206.0, 188481.0, 224196.0, 192973.0, 293571.0, 360915.0, 399723.0, 158.0, 158.0, 324.0, 324.0, 158.0, 2479.0, 324.0, 452.0, 386474.0, 239197.0, 452.0, 357212.0, 357266.0, 142048.0, 138625.0, 151349.0, 357266.0, 236752.0, 135310.0, 268046.0, 268046.0, 270631.0, 188481.0, 357266.0, 252560.0, 222709.0, 222709.0, 58997.0, 138700.0, 360915.0, 357266.0, 321344.0, 138623.0, 151349.0, 54273.0, 190946.0, 176159.0, 339515.0, 247378.0, 42972.0, 42972.0, 42974.0, 867.0, 188481.0, 296613.0, 357266.0, 190945.0, 305158.0, 270201.0, 188481.0, 43010.0, 335129.0, 323173.0, 268046.0, 357266.0, 357266.0, 270631.0, 42972.0, 9321.0, 42974.0, 867.0, 188481.0, 357266.0, 93018.0, 268046.0, 268046.0, 349962.0, 357266.0, 138625.0, 151349.0, 272583.0, 325966.0, 268046.0, 270631.0, 58997.0, 52520.0, 190946.0, 42972.0, 42972.0, 42974.0, 867.0, 142048.0, 138625.0, 151349.0, 151349.0, 270631.0, 58997.0, 390450.0, 188481.0, 54273.0, 142874.0, 142874.0, 151719.0, 188481.0, 188481.0, 42972.0, 12126.0, 42974.0, 867.0], [54273.0, 62696.0, 268046.0, 43010.0, 297928.0, 106441.0, 56160.0, 360915.0, 358160.0, 297566.0, 192973.0, 229835.0, 177234.0, 452.0, 388747.0, 357266.0, 151061.0, 344936.0, 268046.0, 357266.0, 305157.0, 276859.0, 42867.0, 148908.0, 452.0, 384374.0, 191915.0, 357266.0, 236561.0, 350396.0, 76552.0, 268046.0, 80295.0, 452.0, 341894.0, 154323.0, 357266.0, 389836.0, 268046.0, 285759.0, 140185.0, 50256.0, 42972.0, 42972.0, 42974.0, 452.0, 54718.0, 143033.0, 193716.0, 360915.0, 360915.0, 146323.0, 108302.0, 158.0, 323165.0, 15341.0, 324.0, 867.0, 357412.0, 452.0, 384374.0, 191915.0, 43010.0, 108167.0, 108167.0, 306002.0, 46780.0, 154323.0, 154323.0, 140185.0, 50256.0, 42972.0, 23310.0, 42974.0, 452.0, 188481.0, 271173.0, 360915.0, 319932.0, 134953.0, 54718.0, 344190.0, 154323.0, 357266.0, 221115.0, 268046.0, 357266.0, 357266.0, 80295.0, 236752.0, 360915.0, 357212.0, 268046.0, 109660.0, 109660.0, 358160.0, 276859.0, 452.0, 384374.0, 306670.0, 272900.0, 360915.0, 109660.0, 80295.0, 452.0, 130319.0, 360915.0, 193919.0, 231345.0, 188271.0, 188481.0, 294051.0, 346608.0, 224433.0, 224433.0, 182573.0, 452.0, 143038.0, 268046.0, 357266.0, 110482.0, 57920.0, 293583.0, 177231.0, 360915.0, 363338.0, 80295.0, 192973.0, 344178.0, 42950.0, 193716.0, 241341.0, 306177.0, 302726.0, 268046.0, 371335.0, 371335.0, 54718.0, 378346.0, 377833.0, 158.0, 323165.0, 21828.0, 324.0, 867.0, 357266.0, 357266.0, 151981.0, 192973.0, 146211.0, 388711.0, 106405.0, 297169.0, 121485.0, 154323.0, 357266.0, 350396.0, 76552.0, 57920.0, 452.0, 386474.0, 452.0, 188481.0, 367635.0, 452.0, 192973.0, 294038.0, 388711.0, 239291.0, 343318.0, 156419.0, 154323.0, 357266.0, 357266.0, 357266.0, 384374.0, 357412.0, 57855.0, 357266.0, 110482.0, 57920.0, 360915.0, 76451.0, 54718.0, 239291.0, 106927.0, 368710.0, 151349.0, 289741.0, 272373.0, 158.0, 323165.0, 26559.0, 324.0, 54718.0, 243200.0, 142955.0, 158.0, 323165.0, 30387.0, 324.0, 452.0, 54718.0, 125161.0, 205835.0, 325039.0, 146160.0, 158.0, 323165.0, 33544.0, 324.0, 867.0, 47798.0, 136585.0, 357266.0, 289876.0, 54718.0, 222713.0, 268046.0, 357266.0, 291763.0, 57920.0, 158.0, 323165.0, 36169.0, 324.0, 452.0, 384374.0, 106803.0, 357266.0, 276859.0, 188481.0, 158.0, 323165.0, 38601.0, 324.0, 867.0], [357266.0, 44617.0, 125165.0, 347251.0, 357266.0, 341956.0, 268046.0, 357266.0, 60228.0, 304958.0, 360915.0, 188033.0, 54718.0, 191580.0, 268046.0, 106043.0, 217903.0, 74651.0, 312561.0, 312561.0, 182573.0, 452.0, 306262.0, 192973.0, 150792.0, 292257.0, 269798.0, 357266.0, 133896.0, 268046.0, 357266.0, 117493.0, 225967.0, 131142.0, 357266.0, 106043.0, 54718.0, 182540.0, 360915.0, 246493.0, 193716.0, 42972.0, 24747.0, 42974.0, 867.0, 188481.0, 357266.0, 357266.0, 357266.0, 142283.0, 188481.0, 42972.0, 25017.0, 42974.0, 452.0, 357266.0, 359889.0, 107783.0, 192973.0, 217469.0, 188481.0, 357266.0, 357682.0, 332179.0, 357109.0, 357212.0, 268046.0, 290159.0, 350362.0, 350362.0, 359056.0, 357266.0, 106043.0, 217903.0, 387696.0, 264550.0, 331418.0, 47483.0, 357266.0, 45289.0, 268046.0, 268046.0, 188481.0, 42972.0, 25335.0, 42974.0, 452.0, 357266.0, 357266.0, 192973.0, 281319.0, 374253.0, 306496.0, 62065.0, 357266.0, 316998.0, 224614.0, 388756.0, 350272.0, 191916.0, 119907.0, 452.0, 386474.0, 239197.0, 357266.0, 106043.0, 217903.0, 74651.0, 312561.0, 332183.0, 192973.0, 192973.0, 188481.0, 42972.0, 25602.0, 42974.0, 452.0, 357266.0, 63534.0, 174642.0, 241110.0, 357266.0, 106043.0, 217903.0, 60665.0, 54273.0, 188273.0, 143981.0, 188481.0, 357266.0, 125815.0, 332179.0, 54718.0, 357212.0, 193919.0, 133896.0, 269798.0, 332179.0, 341036.0, 387696.0, 71090.0, 345171.0, 60665.0, 155653.0, 155653.0, 54273.0, 188497.0, 306262.0, 44608.0, 357266.0, 310672.0, 268046.0, 106043.0, 217903.0, 54718.0, 246497.0, 239226.0, 151349.0, 159791.0, 125815.0, 312561.0, 332181.0, 192973.0, 186399.0, 60665.0, 43010.0, 354617.0, 157506.0, 54718.0, 46246.0, 188481.0, 358160.0, 276859.0, 867.0], [360915.0, 46244.0, 357266.0, 377895.0, 125535.0, 140083.0, 268046.0, 108379.0, 284678.0, 167650.0, 345912.0, 360915.0, 239291.0, 224444.0, 452.0, 376147.0, 265592.0, 54718.0, 54439.0, 242260.0, 174642.0, 71814.0, 71814.0, 357761.0, 242260.0, 188836.0, 357266.0, 148545.0, 135301.0, 242245.0, 42972.0, 132176.0, 452.0, 15687.0, 42974.0, 452.0, 357266.0, 81903.0, 135301.0, 242245.0, 42972.0, 132176.0, 452.0, 26882.0, 42974.0, 452.0, 357266.0, 148545.0, 123763.0, 242245.0, 42972.0, 132176.0, 452.0, 33544.0, 42974.0, 452.0, 357266.0, 191138.0, 143981.0, 242245.0, 42972.0, 132176.0, 452.0, 452.0, 42974.0, 452.0, 357266.0, 138700.0, 284376.0, 54718.0, 299104.0, 242260.0, 42972.0, 132176.0, 452.0, 452.0, 42974.0, 452.0, 54718.0, 357266.0, 325997.0, 301048.0, 242245.0, 42972.0, 132176.0, 452.0, 10741.0, 42974.0, 867.0, 357266.0, 148545.0, 135301.0, 242245.0, 452.0, 386495.0, 294051.0, 357266.0, 250392.0, 308660.0, 54718.0, 142572.0, 306002.0, 268046.0, 357266.0, 284678.0, 284678.0, 292794.0, 452.0, 192973.0, 159426.0, 106513.0, 142805.0, 54718.0, 107670.0, 231117.0, 43010.0, 306262.0, 361959.0, 301000.0, 357109.0, 43010.0, 121839.0, 121839.0, 108418.0, 452.0, 357266.0, 377843.0, 268046.0, 332140.0, 158.0, 57949.0, 324.0, 242260.0, 452.0, 346373.0, 60665.0, 357266.0, 191138.0, 143981.0, 57920.0, 357212.0, 52074.0, 91593.0, 357266.0, 158.0, 132176.0, 452.0, 377895.0, 324.0, 125536.0, 268046.0, 57170.0, 159391.0, 284678.0, 167631.0, 88126.0, 357266.0, 54431.0, 268046.0, 357266.0, 125535.0, 191138.0, 74651.0, 368321.0, 186391.0, 284688.0, 54718.0, 88126.0, 357266.0, 374163.0, 268046.0, 357266.0, 134949.0, 292407.0, 268046.0, 348030.0, 268046.0, 133907.0, 452.0, 231492.0, 357388.0, 62805.0, 60665.0, 121839.0, 361978.0, 71494.0, 357810.0, 52067.0, 151349.0, 357266.0, 374163.0, 268046.0, 142768.0, 277192.0, 345173.0, 371152.0, 376147.0, 121839.0, 106927.0, 867.0], [357640.0, 58997.0, 233708.0, 289446.0, 57840.0, 151349.0, 358160.0, 358160.0, 188481.0, 358160.0, 220941.0, 452.0, 384374.0, 174642.0, 106694.0, 269798.0, 193919.0, 108284.0, 360915.0, 360915.0, 54718.0, 54718.0, 272881.0, 89638.0, 192973.0, 57833.0, 188481.0, 357266.0, 283048.0, 386424.0, 357266.0, 147828.0, 58997.0, 58997.0, 358160.0, 310748.0, 283048.0, 387696.0, 341875.0, 386424.0, 357266.0, 183416.0, 107783.0, 129606.0, 360915.0, 43010.0, 375624.0, 106180.0, 360915.0, 357266.0, 236058.0, 268046.0, 357266.0, 319920.0, 319920.0, 193716.0, 192973.0, 62065.0, 358160.0, 359889.0, 188481.0, 357266.0, 109834.0, 142048.0, 357212.0, 110930.0, 379436.0, 192973.0, 250392.0, 250392.0, 47798.0, 357266.0, 147828.0, 174642.0, 304990.0, 360915.0, 357354.0, 374977.0, 375636.0, 452.0, 272881.0, 110930.0, 379436.0, 239301.0, 367701.0, 367701.0, 384374.0, 286043.0, 360915.0, 125161.0, 249714.0, 122134.0, 452.0, 188481.0, 278014.0, 57840.0, 360915.0, 106839.0, 106839.0, 247396.0, 452.0, 188481.0, 43010.0, 155653.0, 294770.0, 42972.0, 17044.0, 42974.0, 867.0, 264588.0, 357212.0, 344725.0, 109838.0, 54718.0, 82955.0, 389938.0, 320241.0, 237383.0, 294037.0, 257293.0, 325993.0, 151349.0, 357266.0, 271492.0, 268046.0, 357266.0, 319920.0, 147828.0, 306174.0, 151349.0, 272881.0, 239301.0, 158.0, 132176.0, 323337.0, 323337.0, 42972.0, 23310.0, 42974.0, 151349.0, 43010.0, 302801.0, 276859.0, 269798.0, 182540.0, 319920.0, 147828.0, 154323.0, 82955.0, 389938.0, 320241.0, 90548.0, 286375.0, 43010.0, 259972.0, 310672.0, 188481.0, 339924.0, 339924.0, 324.0, 867.0], [43010.0, 256282.0, 350362.0, 107702.0, 268046.0, 43010.0, 324626.0, 236752.0, 54718.0, 136168.0, 147202.0, 256327.0, 174032.0, 71814.0, 71814.0, 357266.0, 147202.0, 97027.0, 60665.0, 104405.0, 452.0, 305169.0, 54718.0, 230423.0, 55621.0, 268046.0, 357266.0, 256282.0, 90548.0, 71090.0, 46599.0, 88126.0, 357266.0, 135160.0, 135160.0, 155503.0, 357266.0, 338898.0, 125818.0, 268046.0, 357266.0, 242030.0, 344940.0, 388747.0, 357266.0, 289006.0, 90548.0, 71090.0, 376124.0, 386474.0, 239197.0, 357212.0, 357266.0, 230423.0, 191142.0, 74651.0, 357266.0, 278011.0, 90548.0, 71090.0, 71090.0, 188481.0, 357266.0, 93018.0, 268046.0, 120979.0, 274867.0, 278011.0, 388747.0, 357266.0, 289006.0, 124672.0, 110489.0, 74651.0, 357388.0, 267462.0, 54718.0, 306717.0, 188481.0, 297302.0, 230423.0, 96183.0, 386474.0, 268186.0, 43010.0, 251645.0, 217469.0, 230423.0, 55621.0, 357109.0, 263090.0, 263090.0, 88126.0, 247482.0, 357266.0, 113946.0, 120991.0, 335129.0, 335129.0, 158.0, 158.0, 324.0, 90548.0, 71090.0, 71090.0, 186645.0, 357266.0, 274881.0, 120991.0, 268046.0, 357761.0, 278011.0, 192973.0, 346609.0, 103049.0, 452.0, 452.0, 268046.0, 43010.0, 147468.0, 256298.0, 188481.0, 357871.0, 58997.0, 110722.0, 357266.0, 289001.0, 289001.0, 357266.0, 291763.0, 256282.0, 192973.0, 54273.0, 191290.0, 350362.0, 151349.0, 230423.0, 57840.0, 60665.0, 230423.0, 325046.0, 325046.0, 331680.0, 60665.0, 346197.0, 305462.0, 358160.0, 106400.0, 43010.0, 164328.0, 90739.0, 151349.0, 357266.0, 190962.0, 188481.0, 142644.0, 292848.0, 354662.0, 867.0], [357266.0, 99771.0, 268046.0, 357266.0, 191567.0, 155226.0, 54718.0, 348215.0, 287479.0, 108668.0, 151349.0, 357266.0, 165549.0, 147810.0, 192973.0, 112654.0, 360915.0, 137812.0, 341036.0, 54718.0, 45289.0, 268046.0, 357266.0, 357266.0, 151349.0, 142283.0, 452.0, 262536.0, 190962.0, 54718.0, 54718.0, 58997.0, 372993.0, 192218.0, 357266.0, 57716.0, 268046.0, 340380.0, 226419.0, 226419.0, 357810.0, 258451.0, 263239.0, 280492.0, 137256.0, 155226.0, 357212.0, 341038.0, 341038.0, 357266.0, 60373.0, 42972.0, 42972.0, 42974.0, 265593.0, 377635.0, 357266.0, 341036.0, 452.0, 108395.0, 54718.0, 45289.0, 268046.0, 326146.0, 381825.0, 376112.0, 188839.0, 259972.0, 135310.0, 386474.0, 90548.0, 71090.0, 107873.0, 69725.0, 269798.0, 357266.0, 186344.0, 268046.0, 61763.0, 108161.0, 119421.0, 119421.0, 151349.0, 148908.0, 271173.0, 271173.0, 135310.0, 452.0, 42972.0, 42972.0, 42974.0, 152393.0, 164328.0, 306717.0, 151349.0, 357266.0, 135301.0, 368687.0, 368687.0, 54718.0, 54718.0, 357266.0, 148908.0, 192973.0, 119365.0, 88126.0, 20656.0, 348215.0, 287518.0, 54718.0, 43010.0, 323025.0, 271173.0, 271173.0, 191567.0, 268046.0, 357266.0, 119421.0, 165549.0, 88126.0, 215898.0, 215898.0, 357266.0, 218067.0, 135301.0, 368669.0, 192973.0, 119365.0, 88126.0, 11458.0, 348215.0, 287518.0, 388711.0, 38601.0, 287518.0, 72182.0, 104656.0, 388711.0, 357266.0, 262551.0, 54718.0, 38601.0, 46224.0, 287518.0, 188481.0, 357266.0, 135301.0, 135301.0, 53909.0, 357266.0, 356561.0, 148908.0, 271173.0, 356661.0, 452.0, 357266.0, 357266.0, 190959.0, 356664.0, 388711.0, 54273.0, 46224.0, 85790.0, 247377.0, 188481.0, 357266.0, 165550.0, 383514.0, 152393.0, 360915.0, 71090.0, 250392.0, 250392.0, 193716.0, 367662.0, 272930.0, 360915.0, 71090.0, 141816.0, 357266.0, 250392.0, 133929.0, 388711.0, 306501.0, 360915.0, 106547.0, 359889.0, 188481.0, 142873.0, 54431.0, 42972.0, 20995.0, 42974.0, 71494.0, 357266.0, 137571.0, 112045.0, 359889.0, 342773.0, 106243.0, 357266.0, 334693.0, 188947.0, 265592.0, 109891.0, 281063.0, 306652.0, 151407.0, 151407.0, 147946.0, 2479.0, 187520.0, 357266.0, 289382.0, 268046.0, 348215.0, 287518.0, 151349.0, 376147.0, 89307.0, 54718.0, 54718.0, 151982.0, 867.0], [384374.0, 345195.0, 325304.0, 268046.0, 270888.0, 382643.0, 268046.0, 43010.0, 167685.0, 220336.0, 188481.0, 384901.0, 123972.0, 452.0, 270970.0, 138701.0, 452.0, 325304.0, 268046.0, 138029.0, 268046.0, 268046.0, 236752.0, 290231.0, 388711.0, 167685.0, 167685.0, 193716.0, 192973.0, 209675.0, 357212.0, 357761.0, 325304.0, 58997.0, 141859.0, 281445.0, 386424.0, 357266.0, 123972.0, 58997.0, 344865.0, 344865.0, 357266.0, 363973.0, 268046.0, 346373.0, 281449.0, 121169.0, 452.0, 188481.0, 159391.0, 452.0, 81562.0, 269798.0, 357266.0, 333429.0, 268046.0, 123971.0, 54718.0, 269798.0, 357266.0, 230481.0, 268046.0, 357266.0, 357266.0, 188481.0, 358160.0, 276859.0, 452.0, 384374.0, 329974.0, 357212.0, 337259.0, 81911.0, 269798.0, 357266.0, 189172.0, 268046.0, 281449.0, 268046.0, 158.0, 373248.0, 324.0, 123972.0, 452.0, 346373.0, 60665.0, 357266.0, 81911.0, 268046.0, 268046.0, 452.0, 452.0, 452.0, 321526.0, 452.0, 207583.0, 54718.0, 54718.0, 452.0, 57855.0, 360915.0, 357266.0, 384915.0, 268046.0, 270888.0, 382643.0, 386424.0, 269953.0, 268046.0, 357354.0, 137189.0, 192973.0, 43010.0, 112045.0, 262546.0, 867.0], [148545.0, 135301.0, 354516.0, 54718.0, 191229.0, 158.0, 158.0, 324.0, 242260.0, 58997.0, 43010.0, 290201.0, 57920.0, 360915.0, 121856.0, 337199.0, 151349.0, 217460.0, 292803.0, 188481.0, 106512.0, 106512.0, 357266.0, 265592.0, 332179.0, 292794.0, 192973.0, 345824.0, 191811.0, 43010.0, 265557.0, 268046.0, 189078.0, 189078.0, 452.0, 386474.0, 58997.0, 357412.0, 110482.0, 188481.0, 57927.0, 57927.0, 57927.0, 158.0, 263418.0, 301051.0, 301051.0, 324.0, 69725.0, 69725.0, 54431.0, 158.0, 186749.0, 324.0, 57844.0, 360915.0, 106337.0, 159830.0, 306177.0, 360915.0, 305994.0, 357266.0, 106512.0, 127210.0, 60665.0, 43010.0, 104990.0, 268046.0, 326146.0, 265707.0, 265707.0, 332240.0, 357640.0, 192973.0, 43010.0, 257293.0, 118893.0, 268046.0, 357266.0, 106512.0, 127210.0, 191811.0, 326146.0, 345831.0, 452.0, 452.0, 186749.0, 192973.0, 278020.0, 385218.0, 346835.0, 151349.0, 374253.0, 374253.0, 374253.0, 276859.0, 293586.0, 357266.0, 259972.0, 259972.0, 354516.0, 54718.0, 191229.0, 158.0, 158.0, 324.0, 242245.0, 452.0, 386474.0, 105591.0, 357266.0, 46991.0, 337198.0, 121839.0, 268046.0, 268046.0, 388711.0, 357266.0, 142240.0, 159832.0, 306002.0, 268046.0, 268046.0, 384374.0, 121730.0, 357266.0, 357266.0, 152908.0, 151349.0, 368321.0, 102220.0, 268046.0, 332120.0, 247378.0, 292803.0, 158.0, 287548.0, 54718.0, 222964.0, 134953.0, 324.0, 54718.0, 125161.0, 357266.0, 110489.0, 268046.0, 357266.0, 345831.0, 52318.0, 191297.0, 158.0, 81562.0, 151349.0, 236445.0, 191297.0, 54718.0, 151349.0, 191297.0, 388711.0, 388711.0, 452.0, 185635.0, 172728.0, 262551.0, 324.0, 867.0, 338995.0, 62719.0, 192973.0, 275271.0, 360915.0, 357266.0, 107878.0, 268046.0, 43010.0, 346829.0, 346829.0, 151349.0, 357266.0, 193854.0, 222960.0, 337198.0, 374168.0, 151349.0, 357266.0, 191295.0, 191295.0, 384374.0, 305941.0, 326146.0, 106512.0, 142832.0, 360915.0, 120638.0, 357266.0, 281311.0, 268046.0, 357266.0, 293583.0, 293583.0, 242245.0, 867.0], [384374.0, 107661.0, 107661.0, 452.0, 155653.0, 158.0, 346473.0, 270970.0, 75774.0, 309039.0, 368669.0, 324.0, 332545.0, 386474.0, 237383.0, 267452.0, 141816.0, 386424.0, 344851.0, 137256.0, 106917.0, 192973.0, 264550.0, 379433.0, 87775.0, 138623.0, 268046.0, 341956.0, 277188.0, 192973.0, 192973.0, 302802.0, 452.0, 142283.0, 268046.0, 346373.0, 332546.0, 174032.0, 71814.0, 291763.0, 88126.0, 69388.0, 452.0, 384374.0, 152393.0, 56041.0, 142283.0, 268046.0, 268046.0, 352025.0, 191811.0, 45230.0, 65680.0, 302192.0, 268046.0, 107165.0, 297180.0, 147828.0, 258155.0, 332546.0, 452.0, 193716.0, 192973.0, 330028.0, 142874.0, 357212.0, 297180.0, 133907.0, 237383.0, 119901.0, 158.0, 270970.0, 231458.0, 244320.0, 324.0, 357266.0, 357266.0, 193716.0, 192973.0, 59184.0, 357212.0, 186645.0, 357266.0, 142048.0, 360915.0, 332546.0, 192973.0, 302329.0, 452.0, 130319.0, 360915.0, 297180.0, 133907.0, 357266.0, 372242.0, 237383.0, 136979.0, 373317.0, 188481.0, 118152.0, 333168.0, 283048.0, 71895.0, 319932.0, 143981.0, 78616.0, 78616.0, 358160.0, 284277.0, 192973.0, 159421.0, 151349.0, 151349.0, 386432.0, 346473.0, 332546.0, 237383.0, 267452.0, 269798.0, 357266.0, 82955.0, 388711.0, 297109.0, 332008.0, 106808.0, 867.0], [188839.0, 357266.0, 266497.0, 158.0, 158.0, 324.0, 109482.0, 452.0, 51582.0, 357266.0, 270631.0, 223634.0, 188481.0, 158.0, 40724.0, 324.0, 54718.0, 158.0, 4961.0, 324.0, 174642.0, 360915.0, 71090.0, 71090.0, 43010.0, 108368.0, 152908.0, 360915.0, 92747.0, 272930.0, 357761.0, 89639.0, 192973.0, 357266.0, 296613.0, 143992.0, 152908.0, 42972.0, 10064.0, 42974.0, 386474.0, 52074.0, 360915.0, 142967.0, 357266.0, 170835.0, 236752.0, 135310.0, 188481.0, 357266.0, 320534.0, 151719.0, 42867.0, 158.0, 6765.0, 324.0, 324.0, 452.0, 328.0, 158.0, 158.0, 324.0, 324.0, 158.0, 158.0, 452.0, 369052.0, 324.0, 324.0, 158.0, 369052.0, 324.0, 452.0, 386432.0, 386432.0, 58997.0, 357266.0, 363985.0, 151719.0, 143995.0, 119365.0, 358802.0, 357266.0, 236752.0, 135310.0, 268046.0, 357266.0, 270630.0, 270630.0, 452.0, 452.0, 452.0, 328.0, 158.0, 158.0, 324.0, 192973.0, 357266.0, 357266.0, 357266.0, 357266.0, 388711.0, 388711.0, 72182.0, 43010.0, 43010.0, 106381.0, 268046.0, 357266.0, 339080.0, 297202.0, 248246.0, 452.0, 452.0, 158.0, 369052.0, 324.0, 192973.0, 357266.0, 357266.0, 357266.0, 125818.0, 54071.0, 158.0, 158.0, 324.0, 268046.0, 357266.0, 357266.0, 376703.0, 241824.0, 374768.0, 452.0, 54718.0, 369052.0, 192973.0, 357266.0, 152797.0, 248246.0, 268046.0, 357266.0, 376703.0, 241824.0, 92687.0, 88126.0, 269953.0, 268046.0, 357266.0, 368321.0, 368321.0, 357266.0, 297169.0, 359679.0, 54718.0, 54718.0, 58997.0, 357266.0, 357266.0, 205533.0, 89633.0, 360915.0, 271173.0, 271173.0, 452.0, 388711.0, 357266.0, 218067.0, 108005.0, 357266.0, 336118.0, 336118.0, 336118.0, 357266.0, 143992.0, 151810.0, 158.0, 6765.0, 324.0, 180512.0, 188481.0, 357266.0, 175599.0, 297202.0, 222709.0, 452.0, 185635.0, 452.0, 360915.0, 271173.0, 271173.0, 358160.0, 143992.0, 152908.0, 174032.0, 71814.0, 374168.0, 360915.0, 89632.0, 357266.0, 82871.0, 152805.0, 54718.0, 304958.0, 297169.0, 151349.0, 357266.0, 118654.0, 118654.0, 42972.0, 42972.0, 42974.0, 54718.0, 54718.0, 42972.0, 42972.0, 42974.0, 867.0, 357266.0, 193507.0, 379436.0, 188481.0, 357266.0, 357266.0, 118654.0, 188481.0, 358160.0, 152908.0, 174642.0, 52520.0, 71814.0, 345171.0, 42972.0, 12750.0, 42974.0, 867.0, 158.0, 151349.0, 57840.0, 360915.0, 360915.0, 452.0, 323337.0, 323337.0, 42972.0, 42972.0, 42974.0, 867.0, 324.0, 377946.0, 302802.0, 452.0, 357266.0, 357266.0, 108284.0, 59354.0, 154323.0, 357266.0, 357266.0, 270630.0, 266738.0, 174642.0, 52520.0, 71814.0, 89633.0, 188481.0, 188481.0, 271173.0, 158.0, 158.0, 324.0, 188481.0, 188481.0, 330019.0, 357212.0, 357266.0, 339080.0, 191142.0, 191142.0, 188481.0, 357266.0, 175599.0, 297202.0, 222709.0, 42972.0, 17991.0, 42974.0, 867.0, 182573.0, 452.0, 357266.0, 265592.0, 133896.0, 268046.0, 357266.0, 357266.0, 357266.0, 108285.0, 192973.0, 234392.0, 54718.0, 384374.0, 327043.0, 264550.0, 188836.0, 358160.0, 188481.0, 272881.0, 373375.0, 867.0], [44812.0, 141855.0, 358802.0, 357266.0, 97103.0, 113946.0, 302195.0, 158.0, 15341.0, 324.0, 324.0, 357640.0, 192973.0, 337259.0, 370908.0, 188481.0, 291289.0, 291289.0, 158.0, 158.0, 324.0, 141844.0, 300978.0, 151349.0, 357761.0, 292852.0, 386474.0, 59349.0, 130319.0, 360915.0, 357266.0, 265375.0, 247378.0, 121163.0, 268046.0, 357266.0, 44812.0, 112328.0, 323165.0, 54718.0, 357266.0, 364480.0, 268046.0, 357266.0, 110169.0, 125786.0, 268046.0, 135204.0, 158.0, 289398.0, 324.0, 188481.0, 357266.0, 147810.0, 268046.0, 357266.0, 306385.0, 306385.0, 357266.0, 265375.0, 44812.0, 112328.0, 323165.0, 151349.0, 357266.0, 97103.0, 113946.0, 259872.0, 302195.0, 188481.0, 188481.0, 305032.0, 360915.0, 348014.0, 259872.0, 137241.0, 383514.0, 148908.0, 89633.0, 88126.0, 299159.0, 42972.0, 4961.0, 42974.0, 54718.0, 66458.0, 140185.0, 50256.0, 42972.0, 6765.0, 42974.0, 151349.0, 147018.0, 363990.0, 218977.0, 360915.0, 193419.0, 54419.0, 341956.0, 158.0, 185789.0, 324.0, 62065.0, 27422.0, 242509.0, 188481.0, 188481.0, 217909.0, 271634.0, 140185.0, 50256.0, 42972.0, 8172.0, 42974.0, 374168.0, 43010.0, 328141.0, 247378.0, 360915.0, 89632.0, 357266.0, 147018.0, 54718.0, 54718.0, 54718.0, 188481.0, 357761.0, 89639.0, 147018.0, 155211.0, 143497.0, 158.0, 395262.0, 452.0, 133784.0, 324.0, 383514.0, 374168.0, 360915.0, 351935.0, 191811.0, 45230.0, 357266.0, 110169.0, 110169.0, 188481.0, 43010.0, 302801.0, 276859.0, 86186.0, 140185.0, 50256.0, 42972.0, 9321.0, 42974.0, 231458.0, 374163.0, 268046.0, 43010.0, 89638.0, 88126.0, 88126.0, 140185.0, 50256.0, 42972.0, 10064.0, 42974.0, 386887.0, 374163.0, 43010.0, 328141.0, 247378.0, 151349.0, 147018.0, 54718.0, 54718.0, 363990.0, 54718.0, 43010.0, 108167.0, 300313.0, 283048.0, 57954.0, 158.0, 158.0, 324.0, 151349.0, 151391.0, 363990.0, 360915.0, 89632.0, 357266.0, 44812.0, 112328.0, 112328.0, 188481.0, 358160.0, 89638.0, 357266.0, 110169.0, 125786.0, 268046.0, 357266.0, 292970.0, 135204.0, 192973.0, 364472.0, 388711.0, 43010.0, 184682.0, 247378.0, 386432.0, 43010.0, 147018.0, 155211.0, 192973.0, 374168.0, 151349.0, 226512.0, 135204.0, 137241.0, 54718.0, 247475.0, 133900.0, 248246.0, 57954.0, 158.0, 240674.0, 324.0, 151349.0, 178545.0, 135204.0, 137241.0, 42972.0, 42972.0, 42974.0, 867.0, 188481.0, 43010.0, 302801.0, 389836.0, 75096.0, 140185.0, 50256.0, 42972.0, 12750.0, 42974.0, 174642.0, 239228.0, 357266.0, 147018.0, 54718.0, 54718.0, 363985.0, 344585.0, 218977.0, 360915.0, 142393.0, 342019.0, 373317.0, 360915.0, 33544.0, 242509.0, 188481.0, 188481.0, 54718.0, 267326.0, 357266.0, 259872.0, 44812.0, 112328.0, 323165.0, 151349.0, 348014.0, 259873.0, 188481.0, 188481.0, 867.0], [62065.0, 17356.0, 399907.0, 399907.0, 42867.0, 265375.0, 120990.0, 58997.0, 224580.0, 188481.0, 357266.0, 356662.0, 380844.0, 312010.0, 110722.0, 357266.0, 40688.0, 54718.0, 24438.0, 289382.0, 388711.0, 399931.0, 86526.0, 399936.0, 268046.0, 265375.0, 120990.0, 287512.0, 363080.0, 357266.0, 357266.0, 289376.0, 452.0, 386495.0, 62065.0, 27825.0, 54718.0, 54718.0, 108161.0, 265375.0, 120990.0, 151796.0, 43010.0, 344148.0, 222946.0, 52318.0, 357266.0, 42955.0, 5382.0, 42962.0, 124748.0, 58997.0, 152393.0, 452.0, 189167.0, 268046.0, 268046.0, 123811.0, 278738.0, 52318.0, 357212.0, 357212.0, 188481.0, 357266.0, 223718.0, 452.0, 114045.0, 278739.0, 52318.0, 357266.0, 42955.0, 5382.0, 42962.0, 124748.0, 278423.0, 358802.0, 357266.0, 357266.0, 333113.0, 58997.0, 159426.0, 267267.0, 188481.0, 150540.0, 236514.0, 42972.0, 17044.0, 42974.0, 452.0, 357266.0, 292031.0, 268046.0, 114042.0, 278738.0, 60665.0, 270811.0, 154323.0, 344148.0, 278738.0, 192973.0, 142854.0, 88126.0, 357266.0, 306135.0, 74651.0, 93838.0, 54718.0, 55597.0, 452.0, 357266.0, 114045.0, 278738.0, 52073.0, 357266.0, 357266.0, 360915.0, 231137.0, 43010.0, 302477.0, 302477.0, 182573.0, 452.0, 43010.0, 344148.0, 278738.0, 192973.0, 267267.0, 151349.0, 151349.0, 42972.0, 18987.0, 42974.0, 452.0, 60665.0, 192973.0, 357266.0, 93018.0, 151349.0, 357266.0, 291753.0, 291753.0, 358160.0, 346715.0, 357212.0, 350979.0, 54718.0, 301792.0, 93840.0, 243977.0, 286375.0, 43010.0, 332008.0, 310672.0, 188481.0, 357761.0, 350396.0, 867.0], [357266.0, 357266.0, 121482.0, 268046.0, 114407.0, 383514.0, 291635.0, 374253.0, 43010.0, 242245.0, 121731.0, 292067.0, 42972.0, 12750.0, 42974.0, 867.0, 84041.0, 452.0, 336968.0, 94592.0, 158.0, 158.0, 452.0, 452.0, 324.0, 383514.0, 46189.0, 360915.0, 114407.0, 158.0, 158.0, 452.0, 452.0, 324.0, 292067.0, 125710.0, 188481.0, 55487.0, 124224.0, 124224.0, 357266.0, 246721.0, 383514.0, 343393.0, 151349.0, 373317.0, 360915.0, 21744.0, 62065.0, 62065.0, 452.0, 151055.0, 88126.0, 357266.0, 46223.0, 268046.0, 129823.0, 129823.0, 158.0, 158.0, 452.0, 452.0, 324.0, 54718.0, 343396.0, 268046.0, 357266.0, 246721.0, 62065.0, 311178.0, 355520.0, 273428.0, 273428.0, 357266.0, 246721.0, 383514.0, 290075.0, 191811.0, 140370.0, 45358.0, 158.0, 158.0, 324.0, 54718.0, 219577.0, 360915.0, 360915.0, 151061.0, 95308.0, 54718.0, 118621.0, 268046.0, 357266.0, 348001.0, 452.0, 357266.0, 306389.0, 383514.0, 383514.0, 151349.0, 33515.0, 188481.0, 45366.0, 158.0, 158.0, 324.0, 867.0, 357266.0, 306716.0, 291173.0, 383514.0, 148303.0, 54718.0, 357266.0, 336968.0, 383558.0, 188481.0, 188481.0, 357266.0, 112681.0, 292984.0, 383514.0, 295514.0, 88126.0, 331670.0, 105460.0, 100340.0, 158.0, 28985.0, 41.0, 374843.0, 374843.0, 452.0, 23310.0, 41.0, 374843.0, 374843.0, 452.0, 15341.0, 41.0, 374843.0, 53841.0, 54718.0, 19833.0, 41.0, 374843.0, 383772.0, 324.0, 151055.0, 88126.0, 88126.0, 867.0], [384374.0, 293582.0, 43010.0, 242245.0, 151349.0, 357266.0, 218072.0, 296613.0, 106511.0, 268046.0, 268046.0, 226419.0, 226419.0, 193716.0, 107707.0, 188481.0, 332178.0, 296613.0, 188481.0, 357266.0, 65760.0, 268046.0, 43010.0, 399931.0, 135194.0, 399936.0, 147810.0, 386960.0, 289872.0, 192973.0, 263428.0, 452.0, 87775.0, 386960.0, 147810.0, 344579.0, 192973.0, 192973.0, 88126.0, 367293.0, 357266.0, 65760.0, 147810.0, 452.0, 452.0, 62065.0, 57170.0, 158.0, 87775.0, 335129.0, 324.0, 248239.0, 90548.0, 71090.0, 122191.0, 88126.0, 239236.0, 357266.0, 328652.0, 268046.0, 357266.0, 167570.0, 341956.0, 341956.0, 218072.0, 333434.0, 60665.0, 335129.0, 60665.0, 30387.0, 147018.0, 90548.0, 71090.0, 346608.0, 151349.0, 357266.0, 89638.0, 268046.0, 283048.0, 328660.0, 373317.0, 360915.0, 248239.0, 268046.0, 271173.0, 268046.0, 268046.0, 867.0], [141863.0, 332240.0, 357266.0, 186397.0, 268046.0, 357266.0, 277166.0, 277166.0, 95277.0, 188481.0, 332723.0, 60665.0, 54273.0, 372556.0, 135204.0, 224580.0, 188481.0, 54273.0, 338545.0, 184682.0, 271099.0, 268046.0, 54273.0, 330645.0, 62482.0, 62482.0, 360915.0, 358549.0, 274289.0, 62500.0, 452.0, 43010.0, 265557.0, 268046.0, 62699.0, 174032.0, 71814.0, 229835.0, 62065.0, 142857.0, 357266.0, 270879.0, 54718.0, 135212.0, 293518.0, 268046.0, 332723.0, 188481.0, 357266.0, 291748.0, 268046.0, 268046.0, 268046.0, 357266.0, 192833.0, 270970.0, 180518.0, 190201.0, 189393.0, 364233.0, 268046.0, 289384.0, 97097.0, 188481.0, 357953.0, 218662.0, 268046.0, 268046.0, 167694.0, 269798.0, 331680.0, 348412.0, 88126.0, 357682.0, 357682.0, 358160.0, 133896.0, 174032.0, 71814.0, 109502.0, 388711.0, 277166.0, 277166.0, 95277.0, 331391.0, 54718.0, 219383.0, 360915.0, 357266.0, 190165.0, 61668.0, 268046.0, 357266.0, 259856.0, 274289.0, 374903.0, 60665.0, 357266.0, 231345.0, 180518.0, 364208.0, 188481.0, 188481.0, 42972.0, 42972.0, 42974.0, 867.0, 188481.0, 358160.0, 247378.0, 452.0, 271500.0, 293583.0, 151349.0, 151349.0, 95299.0, 188481.0, 188481.0, 452.0, 373485.0, 364233.0, 43010.0, 180518.0, 452.0, 269953.0, 330645.0, 62482.0, 154323.0, 357266.0, 368321.0, 330645.0, 62500.0, 107835.0, 357266.0, 374903.0, 305158.0, 259856.0, 54718.0, 182184.0, 357266.0, 224580.0, 372556.0, 135204.0, 386495.0, 193919.0, 110360.0, 71586.0, 289387.0, 289387.0, 52673.0, 358160.0, 247378.0, 174032.0, 190178.0, 71814.0, 45101.0, 387160.0, 151349.0, 193919.0, 332136.0, 452.0, 193716.0, 144223.0, 360915.0, 45230.0, 151349.0, 43010.0, 265557.0, 268046.0, 267260.0, 452.0, 346373.0, 60665.0, 357266.0, 289384.0, 97097.0, 364233.0, 388756.0, 159439.0, 268046.0, 268046.0, 95299.0, 42972.0, 26559.0, 42974.0, 452.0, 357266.0, 151761.0, 268046.0, 178401.0, 120991.0, 268046.0, 268046.0, 95299.0, 388756.0, 357266.0, 109527.0, 120991.0, 268046.0, 289384.0, 97097.0, 42972.0, 30387.0, 42974.0, 452.0, 54718.0, 357266.0, 44761.0, 268046.0, 109505.0, 74651.0, 357266.0, 118964.0, 268046.0, 357266.0, 357266.0, 95277.0, 120991.0, 54718.0, 357266.0, 120991.0, 268046.0, 289384.0, 97097.0, 373485.0, 373485.0, 135204.0, 190201.0, 188481.0, 332723.0, 42972.0, 33544.0, 42974.0, 867.0], [43010.0, 320240.0, 192973.0, 293583.0, 151349.0, 151349.0, 220662.0, 246698.0, 188481.0, 357266.0, 152908.0, 268046.0, 258200.0, 358704.0, 119501.0, 231354.0, 231354.0, 188481.0, 272881.0, 293580.0, 452.0, 384374.0, 188287.0, 395299.0, 350014.0, 188481.0, 357266.0, 259872.0, 323173.0, 62065.0, 43010.0, 178401.0, 137256.0, 319932.0, 360915.0, 45230.0, 151349.0, 357266.0, 358704.0, 119501.0, 259873.0, 54718.0, 357266.0, 237309.0, 246698.0, 74651.0, 74651.0, 54718.0, 54718.0, 188481.0, 271173.0, 360915.0, 267324.0, 357266.0, 62464.0, 259872.0, 236058.0, 339816.0, 386495.0, 204683.0, 357266.0, 237309.0, 246698.0, 74651.0, 74651.0, 54718.0, 54718.0, 452.0, 384374.0, 191915.0, 43010.0, 335129.0, 282015.0, 360915.0, 357266.0, 259872.0, 236058.0, 236752.0, 388756.0, 83369.0, 395299.0, 395299.0, 269798.0, 357266.0, 272583.0, 172466.0, 452.0, 357266.0, 336835.0, 259872.0, 246698.0, 59351.0, 130319.0, 360915.0, 357266.0, 357266.0, 97103.0, 220662.0, 236058.0, 236752.0, 452.0, 54718.0, 357266.0, 121871.0, 217449.0, 246698.0, 54718.0, 236058.0, 339816.0, 151349.0, 357266.0, 336835.0, 259872.0, 272058.0, 90548.0, 71090.0, 267326.0, 88126.0, 298722.0, 109482.0, 867.0], [357266.0, 265557.0, 268046.0, 142832.0, 106970.0, 383514.0, 303661.0, 88126.0, 323933.0, 357266.0, 152427.0, 250392.0, 188273.0, 277191.0, 151349.0, 376116.0, 452.0, 351098.0, 2479.0, 386495.0, 357266.0, 305157.0, 277191.0, 385664.0, 205393.0, 205393.0, 357266.0, 266734.0, 150400.0, 300964.0, 158.0, 158.0, 324.0, 383514.0, 204679.0, 107783.0, 62065.0, 62065.0, 452.0, 386495.0, 357266.0, 326375.0, 150400.0, 300964.0, 158.0, 158.0, 324.0, 383514.0, 376124.0, 74651.0, 1681.0, 54718.0, 54718.0, 357266.0, 291876.0, 188481.0, 357266.0, 140217.0, 96438.0, 383514.0, 108314.0, 360915.0, 204679.0, 357266.0, 158016.0, 120991.0, 120991.0, 332240.0, 357266.0, 291876.0, 174032.0, 43010.0, 293444.0, 133896.0, 269798.0, 140217.0, 97027.0, 452.0, 357266.0, 291876.0, 158.0, 274488.0, 324.0, 383514.0, 376124.0, 74651.0, 17044.0, 54718.0, 54718.0, 193716.0, 329916.0, 71090.0, 264597.0, 357212.0, 357266.0, 350362.0, 383514.0, 313329.0, 188481.0, 63652.0, 291876.0, 108302.0, 247377.0, 452.0, 386474.0, 108165.0, 46607.0, 357266.0, 358798.0, 375648.0, 360915.0, 204679.0, 43010.0, 107783.0, 291876.0, 131142.0, 131142.0, 357266.0, 104636.0, 290159.0, 158.0, 279457.0, 324.0, 383514.0, 149340.0, 62065.0, 62065.0, 452.0, 386495.0, 357266.0, 75340.0, 290159.0, 158.0, 279416.0, 324.0, 383514.0, 376124.0, 74651.0, 1681.0, 54718.0, 54718.0, 148356.0, 452.0, 357266.0, 346197.0, 100483.0, 355520.0, 158.0, 350784.0, 324.0, 383514.0, 108314.0, 74651.0, 4961.0, 54718.0, 54718.0, 358160.0, 121839.0, 306715.0, 188481.0, 43010.0, 155017.0, 143987.0, 322179.0, 188481.0, 152427.0, 277191.0, 452.0, 386432.0, 358549.0, 95187.0, 287518.0, 385664.0, 374168.0, 360915.0, 97762.0, 151349.0, 296995.0, 114040.0, 452.0, 386432.0, 357266.0, 296995.0, 356157.0, 268046.0, 43010.0, 277188.0, 192973.0, 258454.0, 360915.0, 159435.0, 43010.0, 375430.0, 375430.0, 357266.0, 362760.0, 265557.0, 268046.0, 142832.0, 188481.0, 358160.0, 326012.0, 192973.0, 13507.0, 452.0, 386474.0, 385664.0, 292851.0, 151349.0, 17976.0, 17976.0, 357266.0, 142832.0, 188481.0, 357266.0, 121839.0, 385664.0, 92687.0, 272930.0, 188481.0, 300313.0, 271173.0, 867.0], [108800.0, 108800.0, 121260.0, 158.0, 132966.0, 324.0, 268046.0, 358802.0, 331680.0, 378206.0, 158.0, 366652.0, 324.0, 192973.0, 43010.0, 205835.0, 96372.0, 268046.0, 26476.0, 26476.0, 358160.0, 276859.0, 291775.0, 43010.0, 265592.0, 247387.0, 268046.0, 366652.0, 148210.0, 106727.0, 357266.0, 189767.0, 268046.0, 357266.0, 45077.0, 54718.0, 357266.0, 357266.0, 357266.0, 357266.0, 247378.0, 383514.0, 374168.0, 188481.0, 357266.0, 332179.0, 54718.0, 133907.0, 268046.0, 357266.0, 46230.0, 385664.0, 188930.0, 188481.0, 357266.0, 357266.0, 357266.0, 81903.0, 106927.0, 385664.0, 121485.0, 154323.0, 43010.0, 325899.0, 268046.0, 142820.0, 351407.0, 114047.0, 388711.0, 123767.0, 106698.0, 268046.0, 46230.0, 452.0, 386474.0, 294038.0, 43010.0, 297632.0, 54718.0, 45290.0, 384122.0, 151349.0, 108800.0, 132966.0, 292848.0, 291290.0, 388756.0, 106356.0, 348406.0, 207789.0, 277191.0, 277191.0, 357266.0, 221115.0, 325899.0, 242245.0, 158.0, 226745.0, 324.0, 383514.0, 136616.0, 360915.0, 363395.0, 357266.0, 108800.0, 54718.0, 135190.0, 135190.0, 357266.0, 332179.0, 306717.0, 385664.0, 188481.0, 164328.0, 48354.0, 388711.0, 357266.0, 357266.0, 151349.0, 43010.0, 162058.0, 146154.0, 333429.0, 452.0, 357266.0, 113946.0, 120991.0, 151349.0, 151349.0, 110156.0, 71090.0, 291288.0, 452.0, 386474.0, 294038.0, 43010.0, 168671.0, 151349.0, 132966.0, 292848.0, 270907.0, 867.0], [137256.0, 107631.0, 192973.0, 112045.0, 360915.0, 137812.0, 341036.0, 268046.0, 43010.0, 265592.0, 242245.0, 452.0, 139731.0, 151349.0, 107971.0, 54718.0, 105121.0, 292803.0, 42972.0, 42972.0, 42974.0, 867.0, 43010.0, 265557.0, 268046.0, 107658.0, 320544.0, 174642.0, 71814.0, 122450.0, 360915.0, 137812.0, 137256.0, 137256.0, 357761.0, 320544.0, 231458.0, 374163.0, 268046.0, 357266.0, 280492.0, 304384.0, 268046.0, 264164.0, 107971.0, 107855.0, 54718.0, 190097.0, 357266.0, 107631.0, 293520.0, 154323.0, 108167.0, 108167.0, 357761.0, 107631.0, 320544.0, 90548.0, 108369.0, 71090.0, 105586.0, 388711.0, 357266.0, 148545.0, 135301.0, 242245.0, 360915.0, 332175.0, 153972.0, 42972.0, 28721.0, 42974.0, 54718.0, 153971.0, 42972.0, 28480.0, 42974.0, 107971.0, 54718.0, 54718.0, 54718.0, 54718.0, 74573.0, 42972.0, 28985.0, 42974.0, 151978.0, 357266.0, 357266.0, 107971.0, 242245.0, 54718.0, 337190.0, 217449.0, 119421.0, 107971.0, 292803.0, 388711.0, 357266.0, 107658.0, 107658.0, 249714.0, 302802.0, 452.0, 54273.0, 137256.0, 54718.0, 54718.0, 355568.0, 125142.0, 320539.0, 42972.0, 29292.0, 42974.0, 383514.0, 122450.0, 151349.0, 46448.0, 107971.0, 292803.0, 388756.0, 107671.0, 153970.0, 54718.0, 54718.0, 141816.0, 358462.0, 357266.0, 107658.0, 320539.0, 188392.0, 265592.0, 341036.0, 452.0, 193716.0, 52520.0, 190105.0, 154323.0, 357266.0, 280492.0, 242245.0, 357266.0, 123792.0, 268046.0, 174695.0, 360915.0, 122190.0, 280492.0, 280492.0, 188481.0, 271173.0, 360915.0, 305354.0, 280492.0, 325039.0, 452.0, 97652.0, 54718.0, 218333.0, 42972.0, 29522.0, 42974.0, 293583.0, 54273.0, 137256.0, 54718.0, 248246.0, 107658.0, 51274.0, 452.0, 386474.0, 231492.0, 374163.0, 268046.0, 215898.0, 252686.0, 190756.0, 268046.0, 280492.0, 277191.0, 867.0], [60035.0, 268046.0, 356909.0, 54718.0, 101468.0, 385664.0, 143818.0, 269798.0, 269798.0, 452.0, 452.0, 452.0, 452.0, 357852.0, 288172.0, 288172.0, 158.0, 280459.0, 324.0, 346198.0, 158.0, 158.0, 324.0, 867.0, 155017.0, 122134.0, 268046.0, 272881.0, 272881.0, 292835.0, 174642.0, 71814.0, 162058.0, 188481.0, 292066.0, 294771.0, 42972.0, 42972.0, 42974.0, 867.0, 84041.0, 452.0, 52779.0, 158226.0, 135176.0, 54718.0, 61722.0, 363421.0, 385664.0, 374977.0, 141771.0, 270284.0, 357266.0, 346198.0, 358802.0, 326653.0, 326653.0, 346120.0, 452.0, 357266.0, 346198.0, 385664.0, 62633.0, 360915.0, 43010.0, 108578.0, 108578.0, 129742.0, 158.0, 158.0, 229446.0, 324.0, 867.0, 388711.0, 357266.0, 129742.0, 311796.0, 62065.0, 43010.0, 222960.0, 339147.0, 268046.0, 268046.0, 371152.0, 374977.0, 452.0, 452.0, 452.0, 248768.0, 376008.0, 386474.0, 106894.0, 270284.0, 357266.0, 346198.0, 383514.0, 112380.0, 88126.0, 142955.0, 452.0, 188481.0, 333183.0, 452.0, 360915.0, 43010.0, 43010.0, 357266.0, 306716.0, 335514.0, 452.0, 452.0, 148269.0, 385664.0, 368711.0, 368711.0, 360915.0, 360915.0, 357852.0, 388711.0, 43010.0, 239228.0, 123627.0, 107783.0, 376237.0, 188481.0, 357266.0, 300364.0, 300364.0, 151349.0, 101460.0, 143821.0, 452.0, 357266.0, 190872.0, 383514.0, 278957.0, 374253.0, 326653.0, 235974.0, 360915.0, 119364.0, 303225.0, 59005.0, 325182.0, 88126.0, 15299.0, 157523.0, 360915.0, 45794.0, 60665.0, 378264.0, 151349.0, 151349.0, 242055.0, 242055.0, 357266.0, 346198.0, 385664.0, 357412.0, 363908.0, 191811.0, 54273.0, 141776.0, 158.0, 158.0, 452.0, 214038.0, 214038.0, 324.0, 190959.0, 191811.0, 43010.0, 261971.0, 162897.0, 151349.0, 357266.0, 357266.0, 158.0, 158.0, 324.0, 268046.0, 268046.0, 270284.0, 357266.0, 357266.0, 388756.0, 142947.0, 357266.0, 346198.0, 360915.0, 53278.0, 49059.0, 452.0, 357266.0, 163826.0, 163826.0, 163826.0, 218659.0, 383514.0, 121257.0, 358802.0, 43010.0, 326653.0, 235957.0, 188481.0, 357266.0, 316998.0, 141776.0, 867.0], [102223.0, 452.0, 368355.0, 331351.0, 247396.0, 269798.0, 106129.0, 350009.0, 338602.0, 338602.0, 58997.0, 190946.0, 88126.0, 379658.0, 268046.0, 107655.0, 297169.0, 386474.0, 90548.0, 59349.0, 60665.0, 190955.0, 268046.0, 224573.0, 270970.0, 263136.0, 155226.0, 268046.0, 357266.0, 371335.0, 147828.0, 158.0, 357266.0, 45241.0, 188481.0, 42972.0, 42972.0, 42974.0, 107993.0, 303875.0, 360915.0, 357266.0, 143043.0, 223718.0, 324.0, 867.0, 332240.0, 357761.0, 247396.0, 58997.0, 62054.0, 153443.0, 54718.0, 344865.0, 110482.0, 188481.0, 357266.0, 189883.0, 452.0, 357354.0, 297180.0, 293518.0, 58997.0, 264550.0, 344178.0, 360915.0, 360915.0, 259933.0, 452.0, 151061.0, 228607.0, 42972.0, 33544.0, 42974.0, 452.0, 43983.0, 452.0, 151649.0, 54718.0, 164154.0, 329999.0, 42972.0, 36169.0, 42974.0, 357212.0, 452.0, 188481.0, 43010.0, 43010.0, 331351.0, 247378.0, 388711.0, 170290.0, 170290.0, 452.0, 54718.0, 358809.0, 358160.0, 220941.0, 452.0, 384374.0, 327043.0, 374163.0, 399910.0, 332120.0, 399913.0, 360915.0, 239170.0, 357212.0, 357266.0, 109527.0, 221998.0, 51235.0, 174032.0, 262350.0, 263412.0, 263412.0, 176789.0, 369052.0, 158.0, 2479.0, 324.0, 192973.0, 332120.0, 188481.0, 272881.0, 356200.0, 452.0, 188481.0, 46223.0, 360915.0, 357266.0, 374386.0, 262803.0, 332120.0, 167650.0, 268046.0, 357266.0, 357266.0, 102238.0, 42972.0, 9321.0, 42974.0, 867.0, 357266.0, 148908.0, 107655.0, 263136.0, 97097.0, 348618.0, 297171.0, 158.0, 47798.0, 54273.0, 57927.0, 305604.0, 42972.0, 42972.0, 42974.0, 324.0, 452.0, 386474.0, 346606.0, 360915.0, 137812.0, 297180.0, 190945.0, 268046.0, 357266.0, 357266.0, 88126.0, 108256.0, 452.0, 89639.0, 374253.0, 357266.0, 4959.0, 142731.0, 307133.0, 55996.0, 357212.0, 339860.0, 357266.0, 107631.0, 268046.0, 357266.0, 297180.0, 263136.0, 97107.0, 188481.0, 357266.0, 357266.0, 158.0, 254935.0, 324.0, 324.0, 158.0, 158.0, 324.0, 324.0, 158.0, 2479.0, 324.0, 247396.0, 151349.0, 254935.0, 42962.0, 15341.0, 452.0, 54718.0, 188481.0, 357266.0, 387171.0, 102208.0, 268046.0, 357595.0, 69725.0, 269798.0, 357266.0, 106337.0, 106337.0, 345487.0, 158.0, 254935.0, 324.0, 324.0, 158.0, 254935.0, 324.0, 324.0, 158.0, 158.0, 324.0, 324.0, 158.0, 2479.0, 324.0, 151349.0, 254935.0, 42962.0, 254935.0, 42962.0, 2479.0, 42972.0, 40724.0, 42974.0, 867.0], [357266.0, 270898.0, 344936.0, 62065.0, 357266.0, 357266.0, 221115.0, 383514.0, 357412.0, 374168.0, 360915.0, 281307.0, 89639.0, 268046.0, 357266.0, 226546.0, 135212.0, 332518.0, 142393.0, 342019.0, 388711.0, 357266.0, 110482.0, 103315.0, 222960.0, 306549.0, 158.0, 226690.0, 324.0, 110482.0, 103315.0, 178336.0, 94509.0, 452.0, 452.0, 452.0, 94511.0, 54718.0, 94425.0, 452.0, 52318.0, 388711.0, 282017.0, 109478.0, 242260.0, 101574.0, 158.0, 114975.0, 324.0, 54718.0, 54718.0, 158.0, 21828.0, 324.0, 867.0, 357266.0, 109502.0, 306549.0, 242260.0, 385664.0, 281319.0, 388711.0, 54273.0, 54273.0, 62484.0, 257293.0, 271099.0, 158.0, 55960.0, 324.0, 69895.0, 325899.0, 108201.0, 360915.0, 360915.0, 269798.0, 232972.0, 452.0, 42972.0, 29522.0, 42974.0, 361190.0, 388711.0, 357266.0, 357266.0, 69895.0, 325899.0, 269798.0, 357266.0, 274289.0, 274289.0, 357266.0, 357266.0, 109502.0, 89639.0, 192202.0, 43010.0, 9321.0, 271099.0, 154490.0, 109103.0, 158.0, 266497.0, 15315.0, 452.0, 247081.0, 247081.0, 324.0, 867.0, 364929.0, 89639.0, 109504.0, 357761.0, 271100.0, 270201.0, 170714.0, 43010.0, 245427.0, 133896.0, 269798.0, 142388.0, 142388.0, 151349.0, 106194.0, 357266.0, 357266.0, 242245.0, 388711.0, 357266.0, 357266.0, 69895.0, 269798.0, 51582.0, 62500.0, 383514.0, 356561.0, 360915.0, 106189.0, 388711.0, 388711.0, 357761.0, 151745.0, 162051.0, 142250.0, 357266.0, 316998.0, 142388.0, 137241.0, 452.0, 52673.0, 357266.0, 363985.0, 248245.0, 58997.0, 249714.0, 45290.0, 151349.0, 151349.0, 44234.0, 350014.0, 158.0, 115452.0, 324.0, 383514.0, 374168.0, 188481.0, 51582.0, 109502.0, 142393.0, 341956.0, 89639.0, 867.0], [384374.0, 121730.0, 358549.0, 384171.0, 360915.0, 337189.0, 357266.0, 303940.0, 303940.0, 357266.0, 148908.0, 384122.0, 192973.0, 377946.0, 332120.0, 158.0, 323165.0, 26559.0, 324.0, 867.0, 384374.0, 142883.0, 357266.0, 107617.0, 268046.0, 328658.0, 357266.0, 324552.0, 312227.0, 88126.0, 269953.0, 281429.0, 158.0, 360915.0, 357266.0, 308561.0, 270970.0, 219577.0, 324.0, 867.0, 188481.0, 133896.0, 452.0, 384374.0, 304135.0, 357266.0, 324552.0, 312227.0, 60665.0, 368321.0, 368321.0, 452.0, 269953.0, 268046.0, 386474.0, 192973.0, 56041.0, 324552.0, 324552.0, 358160.0, 186344.0, 163634.0, 65680.0, 360915.0, 43010.0, 325550.0, 268046.0, 276883.0, 88126.0, 244534.0, 188481.0, 357266.0, 14304.0, 452.0, 341894.0, 388711.0, 42972.0, 15341.0, 42974.0, 867.0, 175199.0, 374168.0, 193716.0, 151349.0, 326146.0, 368355.0, 166151.0, 166151.0, 43010.0, 332008.0, 57920.0, 383514.0, 374168.0, 151349.0, 218660.0, 239464.0, 88126.0, 88126.0, 42972.0, 21828.0, 42974.0, 867.0, 188481.0, 272881.0, 269973.0, 108098.0, 452.0, 384374.0, 267324.0, 43010.0, 296995.0, 138623.0, 151349.0, 298135.0, 42950.0, 384374.0, 329974.0, 182540.0, 360915.0, 323926.0, 357266.0, 109476.0, 109476.0, 384374.0, 305180.0, 357212.0, 357640.0, 174032.0, 71814.0, 251645.0, 302801.0, 191283.0, 188481.0, 304958.0, 368355.0, 384051.0, 292803.0, 42950.0, 323337.0, 452.0, 151349.0, 142283.0, 452.0, 42972.0, 42972.0, 42974.0, 452.0, 386432.0, 357266.0, 357266.0, 186344.0, 192973.0, 47887.0, 136616.0, 452.0, 218977.0, 360915.0, 43010.0, 296995.0, 138623.0, 151349.0, 43010.0, 95614.0, 270630.0, 867.0], [360915.0, 306670.0, 287955.0, 366775.0, 167701.0, 360915.0, 43010.0, 332395.0, 150775.0, 286068.0, 192973.0, 54273.0, 188273.0, 345909.0, 360915.0, 136748.0, 357354.0, 45290.0, 167701.0, 54431.0, 371152.0, 243304.0, 243304.0, 188481.0, 357266.0, 108379.0, 242245.0, 360915.0, 61574.0, 287955.0, 366775.0, 167701.0, 452.0, 357266.0, 287955.0, 366802.0, 167678.0, 188481.0, 43010.0, 125458.0, 233320.0, 269798.0, 336968.0, 239623.0, 452.0, 305458.0, 193716.0, 188297.0, 360915.0, 267266.0, 357354.0, 167701.0, 188481.0, 188481.0, 177231.0, 452.0, 384374.0, 291753.0, 43010.0, 259972.0, 242245.0, 360915.0, 61574.0, 287955.0, 366775.0, 167701.0, 374253.0, 374253.0, 243124.0, 122509.0, 360915.0, 193455.0, 189262.0, 287955.0, 287955.0, 357266.0, 167701.0, 268046.0, 357266.0, 287955.0, 366775.0, 192973.0, 107116.0, 360915.0, 357266.0, 243124.0, 54718.0, 360915.0, 357266.0, 316998.0, 150775.0, 286068.0, 452.0, 52073.0, 45290.0, 243304.0, 243304.0, 358160.0, 242259.0, 174032.0, 357266.0, 289872.0, 151349.0, 54429.0, 268046.0, 287955.0, 366775.0, 167701.0, 188481.0, 243182.0, 138124.0, 188481.0, 306549.0, 360915.0, 98017.0, 292998.0, 54718.0, 331382.0, 248032.0, 452.0, 386474.0, 279148.0, 357266.0, 384122.0, 151349.0, 376147.0, 142832.0, 269798.0, 286126.0, 306066.0, 867.0], [357266.0, 243361.0, 65760.0, 192973.0, 264550.0, 357266.0, 270201.0, 372227.0, 283681.0, 147810.0, 357212.0, 174032.0, 360915.0, 71090.0, 351973.0, 188481.0, 188481.0, 139731.0, 191290.0, 192973.0, 357266.0, 193524.0, 189883.0, 54718.0, 270879.0, 65760.0, 158.0, 192601.0, 324.0, 867.0, 357266.0, 265557.0, 120991.0, 268046.0, 192601.0, 192973.0, 335162.0, 357109.0, 357212.0, 268046.0, 237898.0, 88126.0, 249714.0, 357212.0, 368321.0, 271183.0, 268046.0, 268046.0, 269798.0, 357266.0, 272583.0, 172466.0, 452.0, 293931.0, 268046.0, 226512.0, 137256.0, 90548.0, 191135.0, 269798.0, 357266.0, 192601.0, 452.0, 54718.0, 357266.0, 335162.0, 265557.0, 120991.0, 174032.0, 360915.0, 71090.0, 384901.0, 388711.0, 357266.0, 178545.0, 150594.0, 268046.0, 191137.0, 191137.0, 357266.0, 291753.0, 372242.0, 192973.0, 270880.0, 357953.0, 360915.0, 5756.0, 141667.0, 54718.0, 226512.0, 137256.0, 293931.0, 452.0, 87775.0, 141816.0, 62065.0, 226394.0, 303641.0, 357266.0, 293923.0, 191138.0, 300964.0, 297656.0, 297656.0, 358160.0, 192973.0, 123767.0, 154323.0, 357266.0, 191142.0, 269798.0, 237898.0, 452.0, 386432.0, 357266.0, 191137.0, 293931.0, 297656.0, 225942.0, 357354.0, 137256.0, 141816.0, 62065.0, 62065.0, 357266.0, 109834.0, 142048.0, 268046.0, 268046.0, 190201.0, 192973.0, 359056.0, 268046.0, 231345.0, 188271.0, 151349.0, 357266.0, 108284.0, 268046.0, 346373.0, 191142.0, 360915.0, 357266.0, 150594.0, 268046.0, 109827.0, 259873.0, 867.0], [60665.0, 241110.0, 292067.0, 452.0, 357266.0, 384398.0, 280484.0, 350362.0, 90548.0, 71090.0, 358464.0, 268046.0, 60665.0, 43010.0, 159421.0, 151981.0, 386474.0, 90548.0, 306708.0, 188481.0, 357266.0, 285889.0, 452.0, 280492.0, 270970.0, 342045.0, 106894.0, 285889.0, 151982.0, 121168.0, 269798.0, 357266.0, 99771.0, 268046.0, 357266.0, 293236.0, 293236.0, 357266.0, 138696.0, 268046.0, 357761.0, 242260.0, 371152.0, 357266.0, 384398.0, 280484.0, 304216.0, 452.0, 52074.0, 374021.0, 360915.0, 105585.0, 54718.0, 351935.0, 47002.0, 268046.0, 357266.0, 164328.0, 97027.0, 268046.0, 132276.0, 132276.0, 151349.0, 190734.0, 452.0, 357266.0, 384398.0, 280484.0, 151981.0, 105591.0, 357266.0, 332140.0, 344936.0, 268046.0, 357266.0, 280492.0, 242245.0, 388711.0, 357266.0, 108395.0, 97027.0, 268046.0, 357266.0, 285889.0, 285889.0, 182573.0, 452.0, 130319.0, 360915.0, 357266.0, 343195.0, 268046.0, 357266.0, 222960.0, 350362.0, 62065.0, 178401.0, 375636.0, 268046.0, 357266.0, 86545.0, 247541.0, 452.0, 357266.0, 280484.0, 151982.0, 158.0, 102221.0, 102221.0, 280484.0, 324.0, 142575.0, 122174.0, 263650.0, 263650.0, 358160.0, 341520.0, 188481.0, 341781.0, 108256.0, 360915.0, 357266.0, 285889.0, 242245.0, 386474.0, 158.0, 151349.0, 151349.0, 341045.0, 320544.0, 324.0, 142587.0, 145460.0, 108395.0, 141816.0, 151349.0, 178401.0, 86545.0, 86545.0, 182573.0, 452.0, 384374.0, 267266.0, 357212.0, 452.0, 386424.0, 357266.0, 99771.0, 268046.0, 268046.0, 294049.0, 138696.0, 388711.0, 357266.0, 125137.0, 285889.0, 242245.0, 452.0, 288743.0, 263650.0, 108395.0, 192973.0, 267267.0, 358462.0, 452.0, 188481.0, 292407.0, 452.0, 357266.0, 108395.0, 329916.0, 71090.0, 71090.0, 142282.0, 357266.0, 373375.0, 151972.0, 151349.0, 81562.0, 384398.0, 280484.0, 54718.0, 285889.0, 57924.0, 158.0, 323337.0, 57757.0, 88542.0, 324.0, 452.0, 384374.0, 267266.0, 357212.0, 122174.0, 108395.0, 342707.0, 154323.0, 42867.0, 158.0, 2479.0, 324.0, 190165.0, 306385.0, 54062.0, 452.0, 54718.0, 158.0, 15341.0, 324.0, 357266.0, 54062.0, 268046.0, 357266.0, 306385.0, 867.0], [247387.0, 104917.0, 292852.0, 192973.0, 43010.0, 96377.0, 96377.0, 142644.0, 247387.0, 57924.0, 58997.0, 264550.0, 91234.0, 268046.0, 142974.0, 357266.0, 372626.0, 452.0, 452.0, 257320.0, 268046.0, 183848.0, 104917.0, 452.0, 386474.0, 192973.0, 189768.0, 88126.0, 357266.0, 336298.0, 108098.0, 268046.0, 192214.0, 192214.0, 384374.0, 293582.0, 43010.0, 247387.0, 57920.0, 386474.0, 107672.0, 104917.0, 292852.0, 60665.0, 357266.0, 142048.0, 268046.0, 43010.0, 259585.0, 268046.0, 104922.0, 126755.0, 52318.0, 388711.0, 43010.0, 336298.0, 259585.0, 268046.0, 268046.0, 272881.0, 247387.0, 57920.0, 452.0, 45192.0, 88126.0, 43010.0, 166034.0, 264580.0, 54718.0, 151740.0, 452.0, 52074.0, 360915.0, 91590.0, 357266.0, 189767.0, 268046.0, 106337.0, 336298.0, 344940.0, 151772.0, 88126.0, 104925.0, 452.0, 54718.0, 357645.0, 143929.0, 346373.0, 45882.0, 60665.0, 357266.0, 125126.0, 268046.0, 336338.0, 104579.0, 354483.0, 452.0, 336298.0, 183446.0, 452.0, 270970.0, 370815.0, 370815.0, 384374.0, 120638.0, 357266.0, 57832.0, 54718.0, 142984.0, 268046.0, 272881.0, 57920.0, 54718.0, 264580.0, 452.0, 54718.0, 125161.0, 357354.0, 344585.0, 54718.0, 384400.0, 867.0], [188481.0, 357266.0, 348102.0, 93018.0, 452.0, 346373.0, 43010.0, 335129.0, 110489.0, 151349.0, 297278.0, 191138.0, 90548.0, 264550.0, 71090.0, 302344.0, 186645.0, 357266.0, 289872.0, 192973.0, 222242.0, 88126.0, 357266.0, 158386.0, 158386.0, 191142.0, 452.0, 332240.0, 452.0, 186645.0, 336114.0, 452.0, 357266.0, 110489.0, 107783.0, 399670.0, 71586.0, 268046.0, 357266.0, 271173.0, 266497.0, 158.0, 155987.0, 324.0, 386432.0, 155873.0, 192973.0, 357266.0, 158386.0, 110489.0, 107783.0, 188481.0, 357266.0, 341454.0, 341454.0, 357645.0, 452.0, 384374.0, 150791.0, 272881.0, 62719.0, 269798.0, 357266.0, 115341.0, 115341.0, 151349.0, 115341.0, 124754.0, 452.0, 384374.0, 174642.0, 360915.0, 71090.0, 249714.0, 92054.0, 332240.0, 72027.0, 268046.0, 357266.0, 289872.0, 121153.0, 269798.0, 386474.0, 149655.0, 124748.0, 384374.0, 384374.0, 188481.0, 357266.0, 251484.0, 452.0, 394875.0, 191142.0, 142627.0, 188481.0, 357266.0, 357266.0, 360915.0, 159435.0, 357266.0, 147024.0, 147024.0, 346373.0, 394875.0, 191142.0, 222238.0, 337259.0, 268046.0, 357266.0, 115341.0, 115341.0, 188481.0, 46223.0, 452.0, 384374.0, 90548.0, 52520.0, 148427.0, 326146.0, 115341.0, 124754.0, 386474.0, 58997.0, 264550.0, 47486.0, 88126.0, 357266.0, 394875.0, 191142.0, 61722.0, 388711.0, 357266.0, 147024.0, 236132.0, 42950.0, 388756.0, 388756.0, 379436.0, 452.0, 346373.0, 115341.0, 124754.0, 58997.0, 270201.0, 222242.0, 88126.0, 357266.0, 133907.0, 268046.0, 348103.0, 348103.0, 452.0, 384374.0, 61762.0, 357212.0, 104364.0, 268046.0, 268046.0, 356212.0, 58997.0, 348238.0, 137680.0, 360915.0, 71090.0, 71090.0, 358160.0, 237383.0, 71090.0, 142854.0, 88126.0, 357266.0, 357266.0, 452.0, 61667.0, 61667.0, 18987.0, 360915.0, 132276.0, 251484.0, 99391.0, 99391.0, 158.0, 323337.0, 323337.0, 42972.0, 33544.0, 42974.0, 151349.0, 357266.0, 122134.0, 867.0, 324.0], [188481.0, 358160.0, 220941.0, 452.0, 384374.0, 143024.0, 357266.0, 357266.0, 153.0, 337176.0, 191811.0, 97103.0, 77486.0, 77486.0, 384374.0, 148908.0, 119068.0, 357266.0, 242341.0, 151349.0, 43010.0, 43010.0, 77486.0, 180518.0, 188481.0, 357266.0, 142727.0, 372242.0, 42950.0, 326146.0, 338995.0, 93054.0, 268046.0, 272881.0, 337176.0, 58997.0, 142250.0, 357266.0, 316998.0, 60665.0, 337259.0, 337177.0, 125119.0, 125119.0, 188481.0, 357266.0, 292066.0, 389836.0, 42972.0, 33544.0, 42974.0, 384374.0, 174642.0, 57844.0, 357266.0, 62053.0, 106927.0, 360915.0, 121484.0, 357266.0, 321551.0, 242341.0, 188481.0, 357266.0, 142727.0, 372242.0, 452.0, 386474.0, 192973.0, 142250.0, 357266.0, 316998.0, 60665.0, 357212.0, 121485.0, 88126.0, 88126.0, 88126.0, 337201.0, 357266.0, 155017.0, 134580.0, 134580.0, 357212.0, 120641.0, 357266.0, 290159.0, 268046.0, 358160.0, 332120.0, 54718.0, 344156.0, 344156.0, 188481.0, 358160.0, 220941.0, 384374.0, 151050.0, 357266.0, 316998.0, 292834.0, 360915.0, 121484.0, 357266.0, 242341.0, 151349.0, 357266.0, 357266.0, 77486.0, 180526.0, 188481.0, 188481.0, 188481.0, 384374.0, 357412.0, 345195.0, 357266.0, 189771.0, 268046.0, 357266.0, 142048.0, 268046.0, 357266.0, 372242.0, 269798.0, 357266.0, 333429.0, 268046.0, 357266.0, 77486.0, 77486.0, 148356.0, 452.0, 188481.0, 271173.0, 360915.0, 345195.0, 357266.0, 250529.0, 268046.0, 357266.0, 286079.0, 452.0, 384374.0, 307427.0, 357266.0, 242341.0, 154323.0, 357266.0, 109819.0, 108668.0, 350362.0, 360915.0, 357266.0, 321551.0, 108668.0, 350362.0, 867.0], [363500.0, 452.0, 357266.0, 332179.0, 268046.0, 188889.0, 150490.0, 150400.0, 88126.0, 357266.0, 339345.0, 242245.0, 174032.0, 71814.0, 358802.0, 43010.0, 384398.0, 106451.0, 339345.0, 151981.0, 158.0, 158.0, 324.0, 867.0, 188481.0, 358160.0, 57920.0, 452.0, 357266.0, 291876.0, 192973.0, 364472.0, 60665.0, 43010.0, 357703.0, 376098.0, 54718.0, 192973.0, 89633.0, 374253.0, 54273.0, 60401.0, 138623.0, 268046.0, 268046.0, 357266.0, 338150.0, 339147.0, 192973.0, 325899.0, 360915.0, 71090.0, 346609.0, 178401.0, 360915.0, 222709.0, 120991.0, 376118.0, 360915.0, 388747.0, 43010.0, 335129.0, 152796.0, 268046.0, 357266.0, 45919.0, 150490.0, 150490.0, 188481.0, 290460.0, 452.0, 358160.0, 178401.0, 338150.0, 339147.0, 285942.0, 43010.0, 222712.0, 269798.0, 357266.0, 237347.0, 281619.0, 281619.0, 333429.0, 358802.0, 357266.0, 357266.0, 158.0, 95871.0, 324.0, 324.0, 43010.0, 278014.0, 384399.0, 304961.0, 360915.0, 262664.0, 188481.0, 357266.0, 291876.0, 147810.0, 332240.0, 43010.0, 335129.0, 282015.0, 188481.0, 357266.0, 224573.0, 120991.0, 387696.0, 393809.0, 43010.0, 217449.0, 376116.0, 188481.0, 357266.0, 224573.0, 224573.0, 358160.0, 90548.0, 231458.0, 231458.0, 151982.0, 189495.0, 151349.0, 45290.0, 151407.0, 54718.0, 291876.0, 291290.0, 452.0, 52673.0, 302801.0, 122459.0, 386474.0, 111448.0, 249714.0, 372014.0, 278008.0, 125820.0, 174642.0, 188387.0, 358160.0, 42972.0, 2742.0, 42974.0, 867.0, 43010.0, 307253.0, 268046.0, 357266.0, 339345.0, 242245.0, 90548.0, 71090.0, 152393.0, 188481.0, 42972.0, 21828.0, 42974.0, 386495.0, 43010.0, 307253.0, 268046.0, 357266.0, 102223.0, 102223.0, 151981.0, 57844.0, 360915.0, 360915.0, 150429.0, 90548.0, 71090.0, 152393.0, 188481.0, 42972.0, 26559.0, 42974.0, 867.0], [384374.0, 107661.0, 357266.0, 327393.0, 270896.0, 268046.0, 268046.0, 54718.0, 358584.0, 337002.0, 88126.0, 105593.0, 105593.0, 345827.0, 348412.0, 388711.0, 187889.0, 148545.0, 148545.0, 60665.0, 387160.0, 125162.0, 188481.0, 188481.0, 54431.0, 223718.0, 452.0, 357266.0, 159832.0, 306004.0, 374168.0, 188481.0, 361080.0, 399913.0, 314370.0, 106518.0, 48841.0, 121839.0, 158.0, 89063.0, 324.0, 54718.0, 148545.0, 135301.0, 54431.0, 158.0, 146088.0, 324.0, 336623.0, 58997.0, 190096.0, 188874.0, 42972.0, 2479.0, 42974.0, 867.0, 358160.0, 192973.0, 278020.0, 222727.0, 188481.0, 327393.0, 270896.0, 131142.0, 386474.0, 43010.0, 162058.0, 89063.0, 159832.0, 247378.0, 192973.0, 360915.0, 71090.0, 193855.0, 373386.0, 69725.0, 269798.0, 357266.0, 306717.0, 268046.0, 43010.0, 148545.0, 135301.0, 135301.0, 357266.0, 190095.0, 329778.0, 268046.0, 291753.0, 159832.0, 54718.0, 54431.0, 306004.0, 174642.0, 250542.0, 357266.0, 293297.0, 268046.0, 376147.0, 327393.0, 270896.0, 270896.0, 188481.0, 357266.0, 250392.0, 292032.0, 57924.0, 43010.0, 348560.0, 159832.0, 247378.0, 42972.0, 42972.0, 42974.0, 270970.0, 357266.0, 54431.0, 241741.0, 42972.0, 42972.0, 42974.0, 190756.0, 268046.0, 357266.0, 366081.0, 89063.0, 247378.0, 192973.0, 270898.0, 452.0, 323337.0, 52520.0, 42972.0, 6765.0, 42974.0, 54718.0, 303875.0, 303875.0, 159426.0, 452.0, 193716.0, 192973.0, 354756.0, 270970.0, 188297.0, 360915.0, 233795.0, 357266.0, 270898.0, 348560.0, 159832.0, 247378.0, 270970.0, 54431.0, 241741.0, 65680.0, 360915.0, 357266.0, 271493.0, 89063.0, 247378.0, 452.0, 386474.0, 192973.0, 139904.0, 151349.0, 108156.0, 388711.0, 357266.0, 121839.0, 292848.0, 54718.0, 217909.0, 151349.0, 233664.0, 233664.0, 249755.0, 452.0, 159825.0, 121839.0, 146160.0, 58997.0, 374387.0, 119365.0, 388711.0, 306501.0, 360915.0, 357266.0, 89063.0, 247378.0, 54718.0, 90548.0, 264550.0, 71090.0, 132569.0, 137318.0, 269798.0, 357266.0, 348560.0, 348560.0, 302802.0, 452.0, 357266.0, 327393.0, 270896.0, 268046.0, 328169.0, 452.0, 337002.0, 54718.0, 272583.0, 57840.0, 374253.0, 374253.0, 54431.0, 174032.0, 71814.0, 142903.0, 42950.0, 357212.0, 192973.0, 452.0, 358802.0, 124758.0, 270900.0, 357266.0, 89063.0, 159832.0, 247378.0, 42972.0, 42972.0, 42974.0, 867.0], [43010.0, 95247.0, 297566.0, 154323.0, 357266.0, 287479.0, 268046.0, 378761.0, 268046.0, 265375.0, 283892.0, 192217.0, 357266.0, 96737.0, 360915.0, 357266.0, 297202.0, 54718.0, 56879.0, 125820.0, 268046.0, 43010.0, 81901.0, 81901.0, 332240.0, 269953.0, 253767.0, 122447.0, 43010.0, 305039.0, 247378.0, 268046.0, 81562.0, 357266.0, 153443.0, 293923.0, 54718.0, 357266.0, 76281.0, 268046.0, 265399.0, 341894.0, 154323.0, 357266.0, 297202.0, 221115.0, 42972.0, 38601.0, 42974.0, 452.0, 358160.0, 292794.0, 192973.0, 301000.0, 301000.0, 384374.0, 191030.0, 360915.0, 305941.0, 269798.0, 272881.0, 192129.0, 268046.0, 357212.0, 292794.0, 188481.0, 155653.0, 155653.0, 151349.0, 357266.0, 291753.0, 452.0, 384374.0, 174642.0, 100075.0, 360915.0, 187518.0, 357266.0, 151725.0, 186369.0, 122450.0, 177231.0, 88126.0, 57856.0, 357388.0, 360915.0, 43010.0, 363201.0, 247378.0, 452.0, 256057.0, 357266.0, 297202.0, 125820.0, 268046.0, 193507.0, 350009.0, 297202.0, 236860.0, 188481.0, 386474.0, 132276.0, 297202.0, 146354.0, 43010.0, 319920.0, 289872.0, 452.0, 452.0, 452.0, 54718.0, 43010.0, 376703.0, 289872.0, 452.0, 452.0, 358160.0, 192973.0, 357266.0, 291553.0, 268046.0, 357266.0, 357266.0, 110489.0, 158.0, 296872.0, 324.0, 247378.0, 42972.0, 40724.0, 42974.0, 386474.0, 174032.0, 71814.0, 374168.0, 346324.0, 360915.0, 89632.0, 357266.0, 293518.0, 268046.0, 265375.0, 236860.0, 60665.0, 385218.0, 60665.0, 148545.0, 265389.0, 42972.0, 42972.0, 42974.0, 867.0, 250392.0, 302802.0, 193716.0, 174032.0, 52520.0, 71814.0, 374168.0, 360915.0, 121484.0, 54273.0, 133900.0, 265375.0, 151407.0, 386474.0, 192973.0, 377946.0, 103049.0, 360915.0, 357266.0, 387160.0, 374168.0, 374168.0, 187012.0, 151407.0, 42972.0, 8172.0, 42974.0, 867.0, 158.0, 142342.0, 357212.0, 188481.0, 296872.0, 357266.0, 297204.0, 58997.0, 107116.0, 88126.0, 357266.0, 246420.0, 66225.0, 452.0, 60665.0, 385218.0, 60665.0, 146352.0, 357266.0, 239171.0, 319920.0, 54718.0, 376703.0, 289876.0, 159436.0, 88126.0, 357266.0, 348566.0, 348566.0, 324.0, 188481.0, 357266.0, 239170.0, 147810.0, 57954.0, 452.0, 357266.0, 124713.0, 138623.0, 151349.0, 357266.0, 297202.0, 188481.0, 189694.0, 297202.0, 236860.0, 192973.0, 390450.0, 60665.0, 42867.0, 158.0, 23310.0, 324.0, 324.0, 158.0, 391291.0, 324.0, 324.0, 867.0], [188481.0, 347253.0, 452.0, 384374.0, 174642.0, 122450.0, 43010.0, 354634.0, 151349.0, 333115.0, 256336.0, 333429.0, 303676.0, 88126.0, 147623.0, 147623.0, 364051.0, 135204.0, 243302.0, 187656.0, 268046.0, 43010.0, 357991.0, 367280.0, 106400.0, 256336.0, 388711.0, 387219.0, 303661.0, 154323.0, 39033.0, 360915.0, 360915.0, 329974.0, 372014.0, 330162.0, 52318.0, 357266.0, 220336.0, 268046.0, 357266.0, 388484.0, 54718.0, 178401.0, 306450.0, 187656.0, 329974.0, 262350.0, 267358.0, 96737.0, 268046.0, 357266.0, 250018.0, 47798.0, 47798.0, 357266.0, 112045.0, 113946.0, 120991.0, 268046.0, 357266.0, 357266.0, 388484.0, 54718.0, 269953.0, 357991.0, 360915.0, 43010.0, 387219.0, 268046.0, 268046.0, 192973.0, 192973.0, 54718.0, 54718.0, 62065.0, 62065.0, 452.0, 306511.0, 452.0, 346709.0, 190615.0, 247532.0, 268046.0, 357266.0, 135114.0, 293518.0, 131142.0, 131142.0, 357761.0, 306717.0, 346705.0, 357212.0, 357212.0, 192973.0, 43010.0, 289872.0, 57920.0, 151349.0, 108312.0, 333429.0, 303676.0, 388711.0, 178401.0, 306450.0, 363081.0, 357266.0, 267256.0, 268046.0, 268046.0, 54718.0, 297180.0, 133907.0, 452.0, 60665.0, 385218.0, 60665.0, 151349.0, 107878.0, 268046.0, 26476.0, 347828.0, 347828.0, 867.0], [384374.0, 294007.0, 357266.0, 372150.0, 268046.0, 357266.0, 348102.0, 348102.0, 158.0, 245362.0, 324.0, 324.0, 167570.0, 341956.0, 53909.0, 51582.0, 263342.0, 337177.0, 388711.0, 43010.0, 152453.0, 287471.0, 452.0, 118152.0, 333168.0, 270970.0, 56423.0, 333168.0, 333168.0, 384374.0, 107871.0, 357266.0, 250392.0, 159391.0, 337177.0, 388711.0, 54273.0, 64444.0, 350014.0, 188481.0, 357266.0, 368355.0, 191457.0, 338556.0, 452.0, 54718.0, 329974.0, 357212.0, 188837.0, 53912.0, 357761.0, 192973.0, 43010.0, 144715.0, 357212.0, 192973.0, 263342.0, 64331.0, 154323.0, 43010.0, 107330.0, 119263.0, 62065.0, 269953.0, 287697.0, 268046.0, 43010.0, 125784.0, 125784.0, 357761.0, 337177.0, 46704.0, 357266.0, 191579.0, 268046.0, 268046.0, 388711.0, 258587.0, 355896.0, 867.0], [357266.0, 320458.0, 292848.0, 384374.0, 46778.0, 236441.0, 43010.0, 252664.0, 341163.0, 343462.0, 293178.0, 293178.0, 341454.0, 368456.0, 343462.0, 293179.0, 388711.0, 222960.0, 270970.0, 108440.0, 155226.0, 58997.0, 268345.0, 337190.0, 374253.0, 357266.0, 215126.0, 242245.0, 270970.0, 73032.0, 153.0, 118893.0, 42972.0, 42972.0, 42974.0, 867.0, 182573.0, 452.0, 272881.0, 303178.0, 118781.0, 158.0, 320453.0, 90667.0, 324.0, 192973.0, 343257.0, 343257.0, 360915.0, 155499.0, 370908.0, 452.0, 256057.0, 357266.0, 323025.0, 328652.0, 348446.0, 131088.0, 452.0, 370773.0, 54718.0, 54718.0, 60665.0, 346373.0, 452.0, 357266.0, 118781.0, 292794.0, 90548.0, 71090.0, 378764.0, 60665.0, 43010.0, 358667.0, 303178.0, 247378.0, 42972.0, 30579.0, 42974.0, 867.0, 337201.0, 357266.0, 320458.0, 292794.0, 192973.0, 155499.0, 106356.0, 71494.0, 357266.0, 303178.0, 155211.0, 192973.0, 192973.0, 217333.0, 54718.0, 54718.0, 42972.0, 20302.0, 42974.0, 293582.0, 247475.0, 215126.0, 118893.0, 388711.0, 46599.0, 270888.0, 114238.0, 151349.0, 368321.0, 341163.0, 343462.0, 293158.0, 388711.0, 190940.0, 190940.0, 55442.0, 140185.0, 50256.0, 42972.0, 2479.0, 42974.0, 52635.0, 159435.0, 270888.0, 114238.0, 268046.0, 357266.0, 222960.0, 222960.0, 54718.0, 357266.0, 190940.0, 190940.0, 452.0, 386474.0, 188392.0, 357266.0, 290454.0, 108395.0, 158.0, 323337.0, 52520.0, 42972.0, 42972.0, 42974.0, 324.0, 867.0, 384374.0, 151050.0, 43010.0, 317178.0, 63975.0, 57954.0, 57920.0, 158.0, 314616.0, 324.0, 386474.0, 374208.0, 358160.0, 358160.0, 249755.0, 452.0, 384374.0, 294007.0, 54718.0, 142883.0, 43010.0, 339034.0, 304966.0, 74651.0, 357266.0, 148955.0, 302341.0, 54718.0, 357266.0, 270888.0, 265557.0, 268046.0, 320453.0, 90667.0, 360915.0, 339147.0, 373317.0, 357266.0, 106511.0, 268046.0, 190940.0, 190940.0, 384374.0, 374163.0, 196922.0, 153.0, 189523.0, 42972.0, 12126.0, 42974.0, 360915.0, 373490.0, 81901.0, 357266.0, 245534.0, 323025.0, 158.0, 54718.0, 358029.0, 324.0, 341163.0, 109891.0, 452.0, 43010.0, 354634.0, 357212.0, 383514.0, 293583.0, 88126.0, 88126.0, 140185.0, 50256.0, 42972.0, 21828.0, 42974.0, 867.0], [357266.0, 143007.0, 233199.0, 54718.0, 142240.0, 239230.0, 268046.0, 293518.0, 268046.0, 189262.0, 256296.0, 452.0, 106190.0, 388711.0, 264557.0, 293184.0, 188481.0, 357354.0, 291628.0, 452.0, 174642.0, 264550.0, 71814.0, 358423.0, 46246.0, 50528.0, 72182.0, 268046.0, 292277.0, 188271.0, 151349.0, 357266.0, 348748.0, 122455.0, 268046.0, 259972.0, 122511.0, 42972.0, 42972.0, 42974.0, 867.0, 360915.0, 117550.0, 452.0, 326146.0, 190842.0, 174642.0, 71814.0, 121851.0, 151349.0, 346373.0, 163345.0, 452.0, 256057.0, 452.0, 320050.0, 135204.0, 243303.0, 158.0, 324426.0, 324.0, 452.0, 62484.0, 151407.0, 243303.0, 158.0, 47632.0, 324.0, 54718.0, 364051.0, 135204.0, 243303.0, 158.0, 355429.0, 324.0, 42972.0, 42972.0, 42974.0, 867.0, 106190.0, 388711.0, 357266.0, 148908.0, 368321.0, 326013.0, 452.0, 386474.0, 174642.0, 262350.0, 124729.0, 45107.0, 360915.0, 357266.0, 236496.0, 191457.0, 344936.0, 54718.0, 62484.0, 80280.0, 189825.0, 42972.0, 42972.0, 42974.0, 452.0, 357266.0, 341975.0, 188481.0, 333183.0, 178490.0, 355429.0, 354634.0, 52074.0, 269953.0, 360915.0, 264550.0, 270201.0, 233195.0, 388711.0, 54273.0, 189262.0, 267063.0, 62065.0, 357266.0, 256278.0, 291189.0, 87775.0, 360915.0, 52520.0, 160418.0, 119136.0, 190610.0, 191811.0, 193919.0, 283877.0, 452.0, 98017.0, 452.0, 54718.0, 243331.0, 342110.0, 42972.0, 42972.0, 42974.0, 867.0, 105593.0, 357266.0, 91229.0, 268046.0, 43010.0, 108379.0, 178490.0, 355429.0, 54718.0, 47632.0, 270970.0, 343437.0, 292786.0, 292979.0, 46991.0, 54718.0, 119047.0, 355429.0, 180497.0, 452.0, 386474.0, 58997.0, 71587.0, 357266.0, 290201.0, 361978.0, 188481.0, 256296.0, 233199.0, 54718.0, 293518.0, 293518.0, 346373.0, 180497.0, 174642.0, 71814.0, 105886.0, 452.0, 151349.0, 190734.0, 452.0, 88126.0, 399931.0, 399931.0, 190842.0, 43731.0, 399913.0, 399913.0, 452.0, 164948.0, 452.0, 349381.0, 42972.0, 37115.0, 42974.0, 867.0, 357266.0, 155017.0, 374176.0, 268046.0, 357761.0, 46991.0, 188536.0, 355429.0, 354635.0, 192973.0, 57697.0, 388711.0, 306501.0, 360915.0, 239291.0, 54718.0, 357682.0, 293520.0, 54431.0, 268046.0, 189262.0, 256327.0, 452.0, 132176.0, 452.0, 134953.0, 452.0, 286221.0, 54718.0, 344579.0, 117493.0, 386495.0, 136625.0, 124729.0, 73364.0, 270970.0, 355893.0, 356595.0, 42972.0, 42972.0, 42974.0, 452.0, 292788.0, 135114.0, 97027.0, 452.0, 132176.0, 452.0, 147810.0, 136430.0, 42972.0, 42972.0, 42974.0, 452.0, 135114.0, 364123.0, 363393.0, 42972.0, 42972.0, 42974.0, 452.0, 336877.0, 42972.0, 42972.0, 42974.0, 452.0, 54718.0, 127860.0, 42972.0, 39570.0, 42974.0, 452.0, 140213.0, 867.0], [188481.0, 347253.0, 452.0, 384374.0, 174642.0, 330028.0, 357212.0, 269953.0, 90548.0, 121730.0, 357266.0, 142820.0, 117493.0, 268046.0, 357266.0, 177368.0, 104917.0, 151349.0, 170834.0, 62734.0, 269798.0, 265389.0, 388756.0, 192204.0, 57170.0, 96737.0, 188481.0, 357266.0, 152848.0, 155211.0, 130319.0, 360915.0, 162977.0, 162977.0, 188481.0, 272881.0, 131664.0, 345173.0, 452.0, 357212.0, 188836.0, 357266.0, 250392.0, 305032.0, 154659.0, 452.0, 384374.0, 136613.0, 270201.0, 357266.0, 399910.0, 153443.0, 399913.0, 152848.0, 155211.0, 269798.0, 43010.0, 265398.0, 54718.0, 62812.0, 357266.0, 170834.0, 62734.0, 360915.0, 357266.0, 118684.0, 268046.0, 357266.0, 292970.0, 158.0, 158.0, 324.0, 170836.0, 130319.0, 360915.0, 154659.0, 188481.0, 357266.0, 348566.0, 348566.0, 384374.0, 148427.0, 357212.0, 188481.0, 278014.0, 357266.0, 357266.0, 268046.0, 268046.0, 192973.0, 377946.0, 325034.0, 360915.0, 357266.0, 191138.0, 112328.0, 323165.0, 268046.0, 218977.0, 218977.0, 54718.0, 90548.0, 71090.0, 374168.0, 360915.0, 122190.0, 122190.0, 357266.0, 191138.0, 268046.0, 357266.0, 218977.0, 218977.0, 131142.0, 357266.0, 151761.0, 359889.0, 110156.0, 71090.0, 191582.0, 60665.0, 54273.0, 54273.0, 96721.0, 268046.0, 357266.0, 152848.0, 155211.0, 452.0, 386474.0, 182573.0, 110156.0, 264550.0, 71090.0, 162058.0, 188481.0, 43010.0, 103066.0, 103066.0, 357266.0, 143137.0, 63975.0, 170834.0, 151761.0, 359971.0, 268046.0, 268046.0, 268046.0, 58997.0, 106217.0, 388711.0, 357266.0, 54431.0, 268046.0, 56867.0, 62734.0, 188481.0, 188481.0, 302195.0, 62065.0, 48455.0, 137241.0, 42972.0, 12126.0, 42974.0, 867.0, 188481.0, 54273.0, 373370.0, 389836.0, 384374.0, 387696.0, 192125.0, 188481.0, 122128.0, 357266.0, 339086.0, 151349.0, 123767.0, 278008.0, 339029.0, 158.0, 158.0, 452.0, 452.0, 452.0, 274488.0, 452.0, 452.0, 324.0, 360915.0, 142273.0, 452.0, 186645.0, 357266.0, 151761.0, 359971.0, 268046.0, 241827.0, 54718.0, 54718.0, 58997.0, 44608.0, 44608.0, 188481.0, 46223.0, 384374.0, 387696.0, 188386.0, 272881.0, 247378.0, 360915.0, 121730.0, 357266.0, 292261.0, 292261.0, 302192.0, 72786.0, 357266.0, 296174.0, 358724.0, 268046.0, 268046.0, 160494.0, 867.0], [43010.0, 222712.0, 268046.0, 357266.0, 357266.0, 57920.0, 192973.0, 357266.0, 270065.0, 257320.0, 268046.0, 357266.0, 191728.0, 42867.0, 45794.0, 350857.0, 90548.0, 270201.0, 71090.0, 224436.0, 269889.0, 388711.0, 43010.0, 92109.0, 268046.0, 46611.0, 129696.0, 292469.0, 360915.0, 363894.0, 452.0, 54718.0, 357266.0, 131086.0, 268046.0, 343312.0, 192973.0, 190096.0, 222715.0, 88126.0, 142731.0, 268046.0, 357266.0, 94956.0, 288940.0, 188481.0, 380115.0, 452.0, 332240.0, 332240.0, 278011.0, 58997.0, 124163.0, 388711.0, 132276.0, 94956.0, 94956.0, 384374.0, 185221.0, 357212.0, 43010.0, 344327.0, 360915.0, 353325.0, 348221.0, 129721.0, 360915.0, 350857.0, 388711.0, 256308.0, 129696.0, 92695.0, 124758.0, 188481.0, 380115.0, 390139.0, 136748.0, 363908.0, 228291.0, 360915.0, 71090.0, 305822.0, 343309.0, 388711.0, 348221.0, 46611.0, 129721.0, 452.0, 54718.0, 357643.0, 294037.0, 108161.0, 348221.0, 331391.0, 273428.0, 357266.0, 293317.0, 131088.0, 357212.0, 243977.0, 71090.0, 258303.0, 151349.0, 135475.0, 268046.0, 217449.0, 367198.0, 367198.0, 346373.0, 399931.0, 399931.0, 399936.0, 268046.0, 350857.0, 388711.0, 348221.0, 129721.0, 110156.0, 71090.0, 45458.0, 88126.0, 305821.0, 46668.0, 268046.0, 353329.0, 278011.0, 452.0, 52073.0, 52073.0, 350857.0, 360915.0, 71090.0, 71090.0, 252664.0, 359971.0, 124758.0, 188481.0, 380115.0, 452.0, 386495.0, 357266.0, 374163.0, 268046.0, 191466.0, 353330.0, 222268.0, 390139.0, 245266.0, 357266.0, 222480.0, 268046.0, 187954.0, 306550.0, 47889.0, 357266.0, 256308.0, 256308.0, 360915.0, 272881.0, 209662.0, 452.0, 270201.0, 368321.0, 292469.0, 345173.0, 174642.0, 62697.0, 360915.0, 353325.0, 256309.0, 360915.0, 350857.0, 188481.0, 380115.0, 42972.0, 42972.0, 42974.0, 867.0, 188481.0, 81562.0, 268046.0, 357761.0, 345173.0, 452.0, 278011.0, 385664.0, 353329.0, 360915.0, 350857.0, 378206.0, 378206.0, 222268.0, 357212.0, 76270.0, 360915.0, 339034.0, 350856.0, 350856.0, 182573.0, 452.0, 452.0, 256309.0, 174642.0, 302802.0, 71814.0, 330028.0, 360915.0, 120116.0, 54273.0, 54273.0, 331376.0, 360915.0, 350857.0, 42972.0, 42972.0, 42974.0, 399908.0, 386474.0, 192973.0, 186348.0, 151349.0, 364477.0, 165638.0, 304882.0, 270970.0, 63629.0, 452.0, 87775.0, 313447.0, 110239.0, 360915.0, 357266.0, 163345.0, 268046.0, 90674.0, 188003.0, 867.0], [357266.0, 267267.0, 106975.0, 268046.0, 268046.0, 158.0, 43010.0, 42956.0, 88789.0, 452.0, 340633.0, 452.0, 65292.0, 324.0, 42972.0, 36169.0, 42974.0, 383514.0, 223138.0, 360915.0, 43010.0, 289872.0, 128227.0, 142368.0, 239301.0, 452.0, 388711.0, 106972.0, 74651.0, 74651.0, 74651.0, 239302.0, 452.0, 60665.0, 293583.0, 88126.0, 396686.0, 42972.0, 18987.0, 42974.0, 452.0, 289370.0, 357212.0, 135204.0, 363894.0, 74651.0, 192341.0, 188481.0, 123767.0, 274238.0, 342019.0, 237383.0, 71090.0, 143928.0, 186645.0, 357266.0, 135204.0, 126848.0, 264550.0, 174642.0, 360915.0, 52613.0, 193919.0, 339515.0, 339515.0, 305879.0, 268046.0, 247135.0, 388711.0, 146082.0, 188481.0, 358160.0, 239301.0, 390139.0, 71090.0, 142758.0, 360915.0, 306708.0, 188481.0, 43010.0, 303676.0, 268046.0, 357266.0, 106975.0, 358802.0, 303676.0, 268046.0, 357266.0, 63822.0, 281168.0, 278739.0, 452.0, 372349.0, 372349.0, 268046.0, 146082.0, 135220.0, 358802.0, 358802.0, 142368.0, 110156.0, 52520.0, 52520.0, 128227.0, 142368.0, 239302.0, 174642.0, 71814.0, 267267.0, 292067.0, 151349.0, 246677.0, 375347.0, 192758.0, 188481.0, 192758.0, 274243.0, 42972.0, 19410.0, 42974.0, 452.0, 54718.0, 452.0, 60665.0, 192758.0, 192973.0, 209675.0, 360915.0, 142627.0, 188481.0, 43010.0, 246677.0, 375347.0, 341956.0, 151349.0, 151349.0, 42972.0, 19833.0, 42974.0, 452.0, 358160.0, 294049.0, 43010.0, 286355.0, 142859.0, 151349.0, 357266.0, 267267.0, 242055.0, 242055.0, 67817.0, 344936.0, 89639.0, 54718.0, 54718.0, 339111.0, 110156.0, 71090.0, 374504.0, 360915.0, 155499.0, 135940.0, 357266.0, 106972.0, 239301.0, 151349.0, 357761.0, 106427.0, 452.0, 182573.0, 358160.0, 192973.0, 273278.0, 357266.0, 321915.0, 268046.0, 358160.0, 137697.0, 867.0], [388747.0, 43010.0, 103850.0, 57920.0, 60665.0, 346324.0, 57844.0, 132405.0, 188481.0, 357266.0, 357266.0, 323173.0, 452.0, 384374.0, 174642.0, 141703.0, 141703.0, 121163.0, 268046.0, 97232.0, 170836.0, 188481.0, 95247.0, 95247.0, 302195.0, 62065.0, 62065.0, 151349.0, 357266.0, 357266.0, 125820.0, 62065.0, 62065.0, 384374.0, 174642.0, 107670.0, 368321.0, 222727.0, 320241.0, 452.0, 185635.0, 452.0, 262350.0, 262350.0, 158.0, 374253.0, 339086.0, 154323.0, 296174.0, 324.0, 54718.0, 106326.0, 106326.0, 388711.0, 364181.0, 150400.0, 268046.0, 357266.0, 86545.0, 86545.0, 357266.0, 306716.0, 306716.0, 158.0, 158.0, 324.0, 339086.0, 123760.0, 188481.0, 334862.0, 88126.0, 373317.0, 360915.0, 43010.0, 143981.0, 268046.0, 15341.0, 158.0, 173320.0, 151349.0, 151349.0, 151349.0, 324.0, 452.0, 54718.0, 357266.0, 190959.0, 393809.0, 192973.0, 44608.0, 43010.0, 143981.0, 268046.0, 21828.0, 217469.0, 188481.0, 357266.0, 357682.0, 357682.0, 151349.0, 151349.0, 452.0, 384374.0, 152393.0, 357212.0, 357266.0, 123763.0, 188481.0, 357266.0, 334862.0, 277191.0, 268046.0, 357266.0, 357266.0, 188481.0, 357266.0, 368321.0, 320241.0, 192973.0, 220815.0, 293444.0, 452.0, 87775.0, 357354.0, 135691.0, 150400.0, 192973.0, 44608.0, 43010.0, 143981.0, 268046.0, 15341.0, 217469.0, 151349.0, 151349.0, 160494.0, 188481.0, 357266.0, 357266.0, 357266.0, 357266.0, 135691.0, 150400.0, 278956.0, 268046.0, 268046.0, 383514.0, 152393.0, 360915.0, 71090.0, 139908.0, 291783.0, 188481.0, 357266.0, 357266.0, 118650.0, 339086.0, 452.0, 305458.0, 357266.0, 218067.0, 43010.0, 377946.0, 293358.0, 267247.0, 360915.0, 46244.0, 357266.0, 344579.0, 268046.0, 97224.0, 97224.0, 188481.0, 357266.0, 357266.0, 357266.0, 291753.0, 345195.0, 90548.0, 71090.0, 344179.0, 159421.0, 360915.0, 97232.0, 69614.0, 158.0, 158.0, 324.0, 452.0, 386474.0, 237383.0, 325741.0, 60665.0, 43010.0, 106370.0, 292780.0, 151349.0, 151349.0, 151349.0, 188481.0, 357266.0, 357266.0, 867.0], [867.0, 293179.0, 174642.0, 71814.0, 374168.0, 360915.0, 121730.0, 270896.0, 292803.0, 151349.0, 252699.0, 191143.0, 191143.0, 188481.0, 337259.0, 190736.0, 357266.0, 376103.0, 374168.0, 188481.0, 358160.0, 247378.0, 58997.0, 306174.0, 360915.0, 71090.0, 190940.0, 42950.0, 182573.0, 452.0, 262350.0, 242245.0, 323431.0, 360915.0, 142627.0, 151349.0, 148433.0, 190940.0, 337177.0, 360915.0, 360915.0, 360915.0, 43010.0, 159451.0, 102208.0, 268046.0, 236733.0, 452.0, 384374.0, 329974.0, 357212.0, 190940.0, 337177.0, 360915.0, 368450.0, 368450.0, 350396.0, 54718.0, 293179.0, 90548.0, 71090.0, 152393.0, 188481.0, 288239.0, 288239.0, 151349.0, 159391.0, 236733.0, 452.0, 384374.0, 46124.0, 357266.0, 142644.0, 242260.0, 151349.0, 148433.0, 302292.0, 337177.0, 360915.0, 267324.0, 51278.0, 151349.0, 148433.0, 190940.0, 337177.0, 867.0], [357953.0, 357953.0, 218662.0, 268046.0, 158804.0, 54718.0, 54718.0, 269798.0, 269798.0, 269798.0, 346198.0, 385664.0, 142944.0, 360915.0, 360915.0, 62462.0, 151349.0, 357683.0, 54718.0, 135161.0, 129453.0, 363357.0, 142368.0, 142368.0, 303225.0, 262438.0, 242030.0, 357953.0, 148224.0, 113946.0, 105007.0, 385664.0, 121257.0, 269798.0, 362050.0, 54718.0, 73067.0, 357266.0, 357266.0, 218659.0, 54718.0, 374168.0, 151349.0, 151349.0, 357266.0, 217910.0, 125818.0, 268046.0, 357266.0, 363357.0, 307134.0, 326146.0, 191290.0, 146160.0, 42867.0, 158.0, 185457.0, 324.0, 188481.0, 93018.0, 268046.0, 357682.0, 363357.0, 142368.0, 452.0, 54273.0, 137505.0, 363357.0, 152796.0, 192973.0, 152393.0, 269798.0, 362050.0, 268046.0, 357266.0, 242055.0, 113946.0, 105005.0, 130319.0, 360915.0, 193919.0, 193919.0, 78361.0, 78361.0, 62065.0, 357266.0, 133502.0, 268046.0, 357266.0, 113946.0, 105005.0, 452.0, 357266.0, 106697.0, 268046.0, 13498.0, 118966.0, 388711.0, 43010.0, 148545.0, 342773.0, 387219.0, 357212.0, 192973.0, 109502.0, 388711.0, 188526.0, 123811.0, 268046.0, 274289.0, 274289.0, 158.0, 186986.0, 324.0, 130319.0, 360915.0, 357266.0, 226394.0, 135212.0, 106975.0, 268046.0, 268046.0, 54718.0, 158804.0, 452.0, 357266.0, 357266.0, 58999.0, 357212.0, 192973.0, 189768.0, 88126.0, 54273.0, 57844.0, 75340.0, 192973.0, 306671.0, 360915.0, 43010.0, 304237.0, 103049.0, 360915.0, 357266.0, 113946.0, 113946.0, 357266.0, 387219.0, 268046.0, 358160.0, 45863.0, 304237.0, 121169.0, 269798.0, 357266.0, 357266.0, 193716.0, 53977.0, 360915.0, 270201.0, 270201.0, 151349.0, 151349.0, 87775.0, 249714.0, 357109.0, 357109.0, 151349.0, 158804.0, 62065.0, 43010.0, 93807.0, 75340.0, 268046.0, 268046.0, 158.0, 187012.0, 324.0, 264550.0, 270201.0, 137505.0, 363357.0, 188933.0, 130319.0, 360915.0, 93807.0, 75340.0, 87775.0, 52520.0, 303661.0, 188933.0, 130319.0, 360915.0, 55970.0, 75340.0, 110156.0, 71090.0, 142824.0, 306454.0, 188481.0, 357266.0, 45863.0, 304237.0, 867.0], [152776.0, 320544.0, 58997.0, 332008.0, 360915.0, 262536.0, 122793.0, 320544.0, 452.0, 386474.0, 58997.0, 59182.0, 357266.0, 250392.0, 288917.0, 368669.0, 268046.0, 373015.0, 178468.0, 242245.0, 158.0, 62065.0, 219145.0, 188481.0, 357266.0, 147810.0, 268046.0, 106512.0, 47280.0, 324.0, 867.0, 222471.0, 262536.0, 122793.0, 320544.0, 452.0, 152776.0, 320544.0, 374503.0, 43010.0, 178468.0, 158.0, 262536.0, 324.0, 288239.0, 69895.0, 360915.0, 57949.0, 357266.0, 337176.0, 388747.0, 132276.0, 135301.0, 268046.0, 357266.0, 106512.0, 127210.0, 452.0, 54718.0, 222471.0, 262536.0, 122793.0, 320544.0, 452.0, 152776.0, 320544.0, 126552.0, 264550.0, 142874.0, 137315.0, 137315.0, 337176.0, 337176.0, 182573.0, 452.0, 372358.0, 262536.0, 122793.0, 320544.0, 452.0, 152776.0, 242260.0, 58997.0, 69725.0, 336911.0, 269798.0, 357266.0, 165201.0, 350362.0, 188481.0, 43010.0, 123773.0, 123773.0, 43010.0, 121738.0, 268046.0, 357266.0, 152776.0, 57920.0, 188481.0, 15247.0, 192973.0, 291763.0, 291763.0, 151349.0, 155499.0, 189825.0, 323337.0, 357266.0, 271493.0, 276859.0, 268046.0, 184570.0, 42972.0, 15341.0, 42974.0, 867.0], [151349.0, 357266.0, 307222.0, 113946.0, 54431.0, 452.0, 151349.0, 81562.0, 320241.0, 158.0, 326643.0, 54718.0, 329711.0, 101468.0, 324.0, 385664.0, 356561.0, 269798.0, 368321.0, 350396.0, 452.0, 269953.0, 350362.0, 374253.0, 341454.0, 331680.0, 247538.0, 54718.0, 56041.0, 350362.0, 374253.0, 178401.0, 133928.0, 133928.0, 151349.0, 357266.0, 341454.0, 331680.0, 350362.0, 452.0, 43010.0, 290159.0, 268046.0, 268046.0, 383514.0, 107670.0, 452.0, 388711.0, 43010.0, 350362.0, 106391.0, 88126.0, 4961.0, 344738.0, 268046.0, 19410.0, 247538.0, 281063.0, 344725.0, 54718.0, 54273.0, 57949.0, 350362.0, 380374.0, 268046.0, 40157.0, 42972.0, 376638.0, 42974.0, 867.0, 151349.0, 357266.0, 178401.0, 133928.0, 350362.0, 452.0, 43010.0, 290159.0, 268046.0, 268046.0, 383514.0, 107670.0, 452.0, 388711.0, 43010.0, 350362.0, 106391.0, 88126.0, 4961.0, 344738.0, 268046.0, 12750.0, 247538.0, 281063.0, 344725.0, 54718.0, 54273.0, 57949.0, 350362.0, 380374.0, 268046.0, 40286.0, 42972.0, 376638.0, 42974.0, 867.0, 147946.0, 30387.0, 158.0, 43010.0, 324.0, 330039.0, 357266.0, 307222.0, 113946.0, 291753.0, 188481.0, 269953.0, 344725.0, 386424.0, 123767.0, 265568.0, 268046.0, 247538.0, 188481.0, 357266.0, 344725.0, 58997.0, 326630.0, 88126.0, 41112.0, 41.0, 867.0, 147946.0, 30387.0, 158.0, 65064.0, 324.0, 330039.0, 357266.0, 307222.0, 113946.0, 291753.0, 188481.0, 269953.0, 344725.0, 386424.0, 123767.0, 265568.0, 268046.0, 247538.0, 268046.0, 357266.0, 344725.0, 58997.0, 58997.0, 151349.0, 81562.0, 148024.0, 357266.0, 108161.0, 222999.0, 58997.0, 151349.0, 357266.0, 341454.0, 331680.0, 350362.0, 54718.0, 357266.0, 117420.0, 222999.0, 58997.0, 151349.0, 357266.0, 178401.0, 133928.0, 350362.0, 867.0], [185457.0, 52520.0, 110156.0, 264550.0, 306408.0, 241111.0, 56041.0, 387533.0, 339120.0, 42972.0, 4961.0, 42974.0, 867.0, 233708.0, 393335.0, 48262.0, 452.0, 190704.0, 88126.0, 357266.0, 52261.0, 142240.0, 109523.0, 74651.0, 134580.0, 153.0, 153.0, 138625.0, 268046.0, 166264.0, 54718.0, 237371.0, 153.0, 138625.0, 268046.0, 250529.0, 185457.0, 293583.0, 357266.0, 357266.0, 188481.0, 54421.0, 388711.0, 124713.0, 153.0, 230423.0, 230423.0, 47798.0, 124713.0, 357640.0, 383514.0, 107663.0, 118409.0, 269798.0, 182540.0, 43010.0, 147810.0, 357607.0, 268046.0, 230423.0, 248810.0, 237383.0, 71090.0, 71090.0, 141859.0, 452.0, 452.0, 181459.0, 54718.0, 288111.0, 329999.0, 357212.0, 357266.0, 230423.0, 248809.0, 142645.0, 60665.0, 54273.0, 143026.0, 337176.0, 188481.0, 95614.0, 262803.0, 158386.0, 158386.0, 250392.0, 357602.0, 264937.0, 72477.0, 357212.0, 135197.0, 192973.0, 241341.0, 43010.0, 284318.0, 268046.0, 43010.0, 165794.0, 372007.0, 357607.0, 54718.0, 357212.0, 230423.0, 248810.0, 248810.0, 243977.0, 193716.0, 264550.0, 367635.0, 272930.0, 357212.0, 134580.0, 153.0, 357607.0, 192973.0, 87775.0, 43010.0, 284318.0, 268046.0, 43010.0, 75820.0, 357607.0, 54718.0, 357212.0, 357212.0, 142627.0, 42963.0, 188481.0, 165794.0, 372007.0, 357607.0, 357266.0, 135194.0, 147810.0, 192973.0, 43010.0, 106381.0, 268046.0, 43010.0, 43010.0, 110156.0, 193716.0, 71090.0, 357212.0, 357266.0, 166258.0, 147810.0, 52520.0, 337263.0, 92696.0, 54273.0, 191457.0, 189109.0, 54718.0, 357212.0, 357266.0, 147810.0, 384374.0, 267266.0, 192973.0, 200035.0, 43010.0, 106381.0, 268046.0, 43010.0, 252670.0, 42963.0, 358829.0, 94072.0, 360915.0, 357266.0, 388018.0, 452.0, 185457.0, 52520.0, 61273.0, 188481.0, 42972.0, 4961.0, 42974.0, 186645.0, 357266.0, 357266.0, 54718.0, 357266.0, 166261.0, 243977.0, 264550.0, 151719.0, 43010.0, 306002.0, 371152.0, 337259.0, 129995.0, 167631.0, 200035.0, 60665.0, 357266.0, 230423.0, 248809.0, 54718.0, 357266.0, 283681.0, 151719.0, 43010.0, 365426.0, 371152.0, 357266.0, 129995.0, 167631.0, 268046.0, 268046.0, 54718.0, 269304.0, 42972.0, 6765.0, 42974.0, 867.0], [188481.0, 358160.0, 276859.0, 384374.0, 107871.0, 346373.0, 43010.0, 283877.0, 247378.0, 388711.0, 43010.0, 108161.0, 125818.0, 268046.0, 268046.0, 193716.0, 192973.0, 69725.0, 269798.0, 357266.0, 283138.0, 357607.0, 268046.0, 304988.0, 292852.0, 386474.0, 174642.0, 43010.0, 225289.0, 179571.0, 188481.0, 283892.0, 223718.0, 54718.0, 383514.0, 302802.0, 347250.0, 188481.0, 43010.0, 248736.0, 188481.0, 386474.0, 303875.0, 360915.0, 272583.0, 305032.0, 294771.0, 90548.0, 71090.0, 152393.0, 452.0, 42972.0, 19410.0, 42974.0, 42950.0, 52520.0, 323337.0, 42972.0, 19833.0, 42974.0, 867.0, 357266.0, 291753.0, 389836.0, 192973.0, 107116.0, 360915.0, 304988.0, 239302.0, 386474.0, 306708.0, 154323.0, 96737.0, 188481.0, 264164.0, 264164.0, 249714.0, 339035.0, 452.0, 384374.0, 58997.0, 191289.0, 188481.0, 357266.0, 224573.0, 239302.0, 268046.0, 192896.0, 137256.0, 225967.0, 94044.0, 88126.0, 372014.0, 106453.0, 270970.0, 142731.0, 268046.0, 43010.0, 239623.0, 151349.0, 386474.0, 51582.0, 106384.0, 305151.0, 370919.0, 452.0, 301000.0, 357109.0, 357266.0, 225973.0, 94044.0, 88126.0, 153970.0, 74651.0, 123767.0, 218662.0, 268046.0, 43010.0, 239623.0, 386474.0, 251014.0, 388711.0, 123767.0, 377039.0, 158.0, 151349.0, 43010.0, 249714.0, 122129.0, 125165.0, 268046.0, 358160.0, 193637.0, 323337.0, 42972.0, 20302.0, 42974.0, 324.0, 867.0, 262350.0, 62696.0, 192973.0, 229835.0, 360915.0, 247378.0, 133907.0, 268046.0, 327884.0, 379723.0, 54718.0, 175523.0, 106972.0, 74804.0, 357266.0, 108379.0, 108379.0, 57920.0, 452.0, 332240.0, 358160.0, 362162.0, 163634.0, 144971.0, 74804.0, 357266.0, 321915.0, 268046.0, 358160.0, 276859.0, 867.0], [188481.0, 159391.0, 452.0, 223475.0, 148224.0, 150429.0, 268046.0, 290454.0, 305030.0, 58997.0, 367485.0, 54718.0, 452.0, 176789.0, 452.0, 58997.0, 61722.0, 388711.0, 357266.0, 291748.0, 268046.0, 84491.0, 191298.0, 384075.0, 269798.0, 357266.0, 148224.0, 148224.0, 43010.0, 358415.0, 371429.0, 268046.0, 357266.0, 97025.0, 293083.0, 452.0, 319947.0, 54718.0, 131666.0, 268046.0, 357761.0, 191298.0, 384075.0, 192973.0, 268046.0, 139904.0, 188271.0, 188481.0, 231552.0, 45290.0, 54718.0, 305039.0, 291291.0, 268046.0, 175523.0, 54718.0, 236058.0, 363894.0, 300978.0, 158.0, 236589.0, 54718.0, 234883.0, 452.0, 452.0, 42950.0, 236589.0, 140185.0, 50256.0, 452.0, 17708.0, 324.0, 867.0, 292066.0, 133951.0, 188481.0, 128657.0, 55934.0, 150400.0, 174642.0, 150792.0, 269798.0, 357266.0, 357266.0, 239230.0, 268046.0, 223475.0, 148224.0, 357871.0, 452.0, 151055.0, 88126.0, 188497.0, 342069.0, 54429.0, 268046.0, 358160.0, 148224.0, 357871.0, 158.0, 384524.0, 54718.0, 177937.0, 452.0, 14520.0, 42950.0, 72815.0, 140185.0, 50256.0, 452.0, 17672.0, 42950.0, 42950.0, 140185.0, 50256.0, 452.0, 17698.0, 42950.0, 396970.0, 140185.0, 50256.0, 452.0, 17708.0, 324.0, 867.0, 357761.0, 133951.0, 174642.0, 108281.0, 360915.0, 43010.0, 251645.0, 188387.0, 371429.0, 268046.0, 357266.0, 191298.0, 362215.0, 267267.0, 188481.0, 128657.0, 55934.0, 150429.0, 54718.0, 52520.0, 360915.0, 357266.0, 346119.0, 293580.0, 268046.0, 43010.0, 325550.0, 268046.0, 109507.0, 151349.0, 357266.0, 297157.0, 268046.0, 357266.0, 239170.0, 148224.0, 357871.0, 452.0, 384039.0, 54072.0, 54718.0, 223475.0, 137972.0, 300978.0, 191811.0, 357266.0, 158016.0, 283048.0, 158.0, 53351.0, 140185.0, 50256.0, 452.0, 14887.0, 42950.0, 42950.0, 54718.0, 54718.0, 452.0, 14980.0, 42950.0, 65008.0, 452.0, 15022.0, 324.0, 867.0, 269798.0, 357266.0, 272583.0, 172466.0, 452.0, 220815.0, 174032.0, 71814.0, 294799.0, 269798.0, 357266.0, 377040.0, 125818.0, 54718.0, 357266.0, 150400.0, 344936.0, 388747.0, 357266.0, 223475.0, 148269.0, 452.0, 371343.0, 357266.0, 148224.0, 148224.0, 358160.0, 90548.0, 71090.0, 304958.0, 360915.0, 357266.0, 304969.0, 123792.0, 268046.0, 357761.0, 239231.0, 94044.0, 88126.0, 42867.0, 158.0, 185457.0, 324.0, 357266.0, 143219.0, 306671.0, 239230.0, 338556.0, 452.0, 130319.0, 360915.0, 357266.0, 335129.0, 357871.0, 268046.0, 357266.0, 223475.0, 148269.0, 158.0, 188481.0, 357266.0, 271173.0, 268046.0, 54718.0, 268345.0, 268345.0, 324.0, 452.0, 158.0, 186986.0, 324.0, 357266.0, 178623.0, 125854.0, 54718.0, 191438.0, 257320.0, 268046.0, 357266.0, 357266.0, 191295.0, 452.0, 158.0, 187012.0, 324.0, 357266.0, 137972.0, 268046.0, 158016.0, 190592.0, 357266.0, 223475.0, 148224.0, 54718.0, 268046.0, 223475.0, 191811.0, 357266.0, 158016.0, 109103.0, 452.0, 54718.0, 158.0, 194030.0, 324.0, 357266.0, 304970.0, 178401.0, 377039.0, 268046.0, 81562.0, 357266.0, 158016.0, 54718.0, 223475.0, 283061.0, 867.0], [344930.0, 46449.0, 58997.0, 188950.0, 374168.0, 151349.0, 80280.0, 106384.0, 388747.0, 112045.0, 224431.0, 71255.0, 137410.0, 344940.0, 346373.0, 60665.0, 47334.0, 54718.0, 54718.0, 368711.0, 357761.0, 46449.0, 58997.0, 69725.0, 269798.0, 138518.0, 138518.0, 138517.0, 58997.0, 190096.0, 84424.0, 130319.0, 360915.0, 357354.0, 181107.0, 243332.0, 54718.0, 178623.0, 112328.0, 223138.0, 223138.0, 359056.0, 452.0, 357640.0, 174032.0, 71814.0, 251645.0, 306262.0, 150792.0, 269798.0, 188394.0, 357266.0, 152808.0, 362927.0, 268046.0, 138518.0, 288221.0, 88126.0, 188932.0, 43010.0, 323025.0, 245444.0, 283048.0, 62065.0, 357266.0, 357266.0, 357761.0, 247478.0, 144545.0, 191811.0, 269953.0, 268046.0, 368321.0, 231068.0, 93712.0, 42867.0, 190436.0, 46230.0, 452.0, 132176.0, 331670.0, 42972.0, 2742.0, 42974.0, 452.0, 162321.0, 42972.0, 21828.0, 42974.0, 452.0, 52775.0, 42972.0, 26559.0, 42974.0, 452.0, 452.0, 42972.0, 30387.0, 42974.0, 54718.0, 91787.0, 256335.0, 42972.0, 33712.0, 42974.0, 270970.0, 271342.0, 452.0, 374387.0, 312671.0, 312671.0, 312686.0, 46230.0, 90548.0, 71090.0, 134678.0, 134678.0, 312671.0, 278011.0, 42972.0, 42972.0, 42974.0, 270970.0, 90548.0, 151719.0, 131142.0, 113888.0, 378206.0, 302192.0, 189388.0, 283048.0, 325187.0, 239302.0, 42972.0, 42972.0, 42974.0, 867.0, 357266.0, 292261.0, 137256.0, 125696.0, 239302.0, 151349.0, 312671.0, 362917.0, 138517.0, 58997.0, 209675.0, 360915.0, 71090.0, 81562.0, 286218.0, 380532.0, 167701.0, 54718.0, 327884.0, 67817.0, 122455.0, 42972.0, 9321.0, 42974.0, 867.0, 193716.0, 174032.0, 52520.0, 71814.0, 330028.0, 357212.0, 43010.0, 105576.0, 268046.0, 357266.0, 44617.0, 46230.0, 360915.0, 111448.0, 43010.0, 184682.0, 236496.0, 90548.0, 294037.0, 350190.0, 362918.0, 133907.0, 452.0, 132176.0, 91787.0, 256335.0, 54718.0, 331670.0, 256309.0, 42972.0, 10064.0, 42974.0, 270970.0, 312671.0, 388711.0, 331670.0, 256309.0, 42972.0, 42972.0, 42974.0, 867.0], [233708.0, 247396.0, 174642.0, 71814.0, 293595.0, 151349.0, 151469.0, 151469.0, 358462.0, 231371.0, 268046.0, 357266.0, 247378.0, 170714.0, 330028.0, 45289.0, 452.0, 357266.0, 306549.0, 359889.0, 188481.0, 122154.0, 257293.0, 283144.0, 192973.0, 297928.0, 297928.0, 188481.0, 358160.0, 247378.0, 452.0, 384374.0, 374168.0, 357266.0, 236561.0, 142825.0, 268046.0, 357266.0, 243068.0, 319932.0, 286189.0, 360915.0, 122447.0, 357266.0, 229655.0, 319932.0, 62464.0, 286186.0, 386474.0, 384374.0, 72477.0, 192973.0, 43010.0, 231345.0, 189767.0, 268046.0, 268046.0, 357266.0, 357266.0, 51274.0, 383514.0, 293595.0, 360915.0, 155499.0, 188946.0, 81562.0, 357266.0, 45289.0, 54718.0, 50288.0, 268046.0, 122154.0, 257293.0, 257293.0, 45217.0, 360915.0, 272881.0, 357589.0, 142825.0, 452.0, 357266.0, 49059.0, 120991.0, 286468.0, 43010.0, 231345.0, 310672.0, 188481.0, 222360.0, 222360.0, 272881.0, 168566.0, 383514.0, 377630.0, 374253.0, 357266.0, 117769.0, 384462.0, 342052.0, 360915.0, 363395.0, 357266.0, 49059.0, 120991.0, 81562.0, 188481.0, 357266.0, 373490.0, 54718.0, 226512.0, 226512.0, 357266.0, 49059.0, 120991.0, 188481.0, 357266.0, 373490.0, 62462.0, 329999.0, 293718.0, 60665.0, 43010.0, 379893.0, 143981.0, 151349.0, 222360.0, 151465.0, 867.0], [336298.0, 259585.0, 157151.0, 452.0, 386474.0, 303891.0, 360915.0, 286442.0, 157111.0, 357212.0, 58997.0, 107426.0, 360915.0, 336298.0, 259594.0, 325776.0, 158.0, 336068.0, 324.0, 124758.0, 452.0, 270970.0, 358802.0, 247220.0, 57840.0, 158.0, 57957.0, 324.0, 452.0, 192973.0, 43010.0, 288917.0, 270193.0, 270193.0, 336298.0, 259585.0, 157111.0, 158.0, 335814.0, 324.0, 58997.0, 159426.0, 153481.0, 54718.0, 126552.0, 264550.0, 64306.0, 248478.0, 292647.0, 452.0, 87775.0, 374205.0, 90548.0, 231458.0, 188503.0, 295460.0, 360915.0, 46990.0, 388747.0, 357266.0, 157049.0, 452.0, 114146.0, 357266.0, 157049.0, 452.0, 162051.0, 161244.0, 360915.0, 154060.0, 452.0, 54718.0, 45107.0, 272583.0, 142428.0, 73120.0, 54718.0, 146160.0, 452.0, 218977.0, 360915.0, 357761.0, 157111.0, 72182.0, 303888.0, 360915.0, 60665.0, 399910.0, 153568.0, 399913.0, 867.0, 52673.0, 335814.0, 58997.0, 107426.0, 360915.0, 43010.0, 336068.0, 54718.0, 136929.0, 374205.0, 360915.0, 191135.0, 388711.0, 357354.0, 107436.0, 452.0, 250392.0, 335814.0, 90548.0, 71090.0, 286407.0, 388756.0, 57170.0, 336298.0, 336298.0, 335814.0, 174642.0, 167694.0, 300612.0, 188481.0, 288926.0, 54718.0, 357266.0, 162723.0, 335814.0, 234840.0, 192973.0, 291288.0, 360915.0, 167678.0, 55925.0, 62065.0, 11458.0, 41.0, 154323.0, 17708.0, 360915.0, 17727.0, 360915.0, 302170.0, 43010.0, 362760.0, 234840.0, 375624.0, 268046.0, 374021.0, 40.0, 12294.0, 76149.0, 158.0, 364096.0, 234840.0, 306262.0, 452.0, 17721.0, 324.0, 867.0, 43010.0, 348600.0, 268046.0, 143882.0, 374205.0, 188481.0, 63420.0, 188481.0, 264835.0, 17698.0, 305946.0, 357212.0, 357640.0, 58997.0, 273428.0, 23165.0, 244641.0, 336298.0, 157109.0, 45776.0, 63420.0, 54718.0, 52261.0, 36659.0, 41.0, 286375.0, 335814.0, 115975.0, 158.0, 339620.0, 239464.0, 452.0, 17708.0, 324.0, 452.0, 54718.0, 193716.0, 192973.0, 178623.0, 222484.0, 357212.0, 357266.0, 374163.0, 268046.0, 335814.0, 174032.0, 188947.0, 332240.0, 358160.0, 359889.0, 867.0], [358160.0, 276859.0, 291775.0, 159391.0, 306717.0, 269798.0, 357266.0, 196123.0, 338227.0, 104216.0, 335855.0, 122155.0, 122155.0, 384374.0, 293582.0, 357266.0, 361959.0, 386474.0, 374208.0, 166026.0, 54718.0, 345875.0, 193488.0, 193488.0, 43010.0, 265557.0, 268046.0, 337177.0, 151349.0, 51582.0, 268046.0, 357761.0, 353667.0, 174642.0, 71814.0, 293583.0, 188481.0, 357266.0, 357266.0, 182573.0, 452.0, 52673.0, 357212.0, 51582.0, 357761.0, 337177.0, 58997.0, 302352.0, 145460.0, 452.0, 357810.0, 106189.0, 200035.0, 357266.0, 107783.0, 342043.0, 342043.0, 272881.0, 337176.0, 268194.0, 360915.0, 137846.0, 54273.0, 190461.0, 317178.0, 131665.0, 388711.0, 357266.0, 357266.0, 217055.0, 386495.0, 291787.0, 54273.0, 45096.0, 45096.0, 384374.0, 374168.0, 326146.0, 270908.0, 360915.0, 45457.0, 377946.0, 226394.0, 265557.0, 268046.0, 106195.0, 131142.0, 357266.0, 236445.0, 51274.0, 867.0], [151349.0, 246722.0, 121731.0, 88126.0, 54273.0, 138623.0, 268046.0, 341956.0, 452.0, 358160.0, 89638.0, 53977.0, 360915.0, 332191.0, 337201.0, 357266.0, 106917.0, 268046.0, 357682.0, 452.0, 239291.0, 54718.0, 123812.0, 138654.0, 158.0, 138603.0, 268046.0, 98017.0, 289872.0, 324.0, 53912.0, 368321.0, 150490.0, 283061.0, 151349.0, 132276.0, 106381.0, 268046.0, 357266.0, 357266.0, 357266.0, 54439.0, 257320.0, 268046.0, 358160.0, 89638.0, 220310.0, 193923.0, 360915.0, 43010.0, 302479.0, 300602.0, 337176.0, 88126.0, 265592.0, 265592.0, 188481.0, 193919.0, 250392.0, 105990.0, 151719.0, 452.0, 357266.0, 106405.0, 54718.0, 355520.0, 58997.0, 149340.0, 54718.0, 357266.0, 291879.0, 62065.0, 134678.0, 357266.0, 85790.0, 270970.0, 357266.0, 122628.0, 287479.0, 58997.0, 303278.0, 303278.0, 357266.0, 302220.0, 192973.0, 303888.0, 360915.0, 357266.0, 142331.0, 356832.0, 357212.0, 121730.0, 357266.0, 105990.0, 51278.0, 136616.0, 42972.0, 42972.0, 42974.0, 867.0, 357266.0, 297112.0, 268046.0, 357266.0, 306708.0, 192973.0, 267359.0, 222715.0, 88126.0, 357266.0, 45289.0, 268046.0, 357266.0, 138209.0, 360915.0, 144355.0, 305994.0, 150490.0, 150490.0, 155503.0, 452.0, 357266.0, 143954.0, 357212.0, 337259.0, 268046.0, 357266.0, 249714.0, 191290.0, 146160.0, 268046.0, 357266.0, 283048.0, 123144.0, 58997.0, 103049.0, 360915.0, 357266.0, 112045.0, 287518.0, 268046.0, 357266.0, 246721.0, 452.0, 231458.0, 357761.0, 89639.0, 278020.0, 96377.0, 151349.0, 51582.0, 87775.0, 357266.0, 250392.0, 270910.0, 54718.0, 54718.0, 268046.0, 247396.0, 867.0], [357266.0, 258451.0, 151349.0, 290159.0, 159439.0, 189462.0, 360915.0, 188386.0, 357266.0, 357682.0, 133928.0, 268046.0, 290159.0, 286126.0, 174032.0, 219383.0, 360915.0, 357266.0, 122455.0, 268046.0, 268046.0, 41.0, 111018.0, 235343.0, 235343.0, 357266.0, 122455.0, 268046.0, 54718.0, 306262.0, 269798.0, 269798.0, 342362.0, 341886.0, 332240.0, 217850.0, 14463.0, 54718.0, 132422.0, 14886.0, 452.0, 306511.0, 42972.0, 2479.0, 42974.0, 867.0, 357266.0, 389836.0, 174032.0, 150796.0, 269798.0, 357354.0, 111553.0, 344585.0, 130319.0, 360915.0, 193919.0, 191034.0, 57836.0, 62065.0, 178401.0, 178401.0, 302802.0, 452.0, 357266.0, 191921.0, 268046.0, 249714.0, 114534.0, 270617.0, 268046.0, 290159.0, 286126.0, 174032.0, 191916.0, 357266.0, 289443.0, 268046.0, 145615.0, 145615.0, 80951.0, 111065.0, 130319.0, 360915.0, 357266.0, 133907.0, 268046.0, 376237.0, 342249.0, 383340.0, 174032.0, 71814.0, 305946.0, 42972.0, 15341.0, 42974.0, 867.0, 357266.0, 355520.0, 114541.0, 94047.0, 357682.0, 165550.0, 74651.0, 357266.0, 190592.0, 54718.0, 273278.0, 268046.0, 106384.0, 54718.0, 358160.0, 90548.0, 94041.0, 114534.0, 344607.0, 221134.0, 360915.0, 71090.0, 268046.0, 268046.0, 302802.0, 452.0, 306262.0, 269798.0, 269798.0, 54431.0, 268046.0, 268046.0, 174032.0, 71814.0, 92687.0, 272930.0, 188839.0, 357266.0, 97019.0, 268046.0, 357266.0, 114534.0, 72028.0, 268046.0, 357266.0, 236496.0, 374253.0, 357266.0, 368392.0, 54718.0, 372007.0, 372007.0, 247396.0, 42972.0, 22256.0, 42974.0, 867.0], [309975.0, 54718.0, 63652.0, 358725.0, 268046.0, 166275.0, 221115.0, 187656.0, 174032.0, 71814.0, 106001.0, 374168.0, 188481.0, 357266.0, 147810.0, 268046.0, 278956.0, 302983.0, 54718.0, 106518.0, 379790.0, 151349.0, 267087.0, 122154.0, 452.0, 363409.0, 54718.0, 54718.0, 357266.0, 272677.0, 320539.0, 452.0, 43010.0, 387160.0, 374168.0, 187646.0, 358725.0, 354634.0, 452.0, 294049.0, 57944.0, 306717.0, 151349.0, 323531.0, 43010.0, 166275.0, 221115.0, 187646.0, 388711.0, 270201.0, 269953.0, 247359.0, 125818.0, 188481.0, 166275.0, 221115.0, 221115.0, 182573.0, 452.0, 193716.0, 294049.0, 288743.0, 306717.0, 186645.0, 357266.0, 179523.0, 268046.0, 43010.0, 166275.0, 221115.0, 192973.0, 192973.0, 151349.0, 137511.0, 357266.0, 281311.0, 268046.0, 357266.0, 272677.0, 51274.0, 155499.0, 452.0, 188481.0, 358160.0, 389836.0, 452.0, 54273.0, 188387.0, 188387.0, 272677.0, 187646.0, 358725.0, 51274.0, 192973.0, 192973.0, 148356.0, 143043.0, 356595.0, 58997.0, 281319.0, 54718.0, 357266.0, 142832.0, 329974.0, 357212.0, 272881.0, 242245.0, 267324.0, 249714.0, 319035.0, 306717.0, 357109.0, 357266.0, 271493.0, 272677.0, 358725.0, 51274.0, 867.0], [188481.0, 358160.0, 276859.0, 452.0, 384374.0, 293582.0, 43010.0, 159391.0, 48042.0, 125815.0, 152908.0, 386432.0, 132276.0, 48041.0, 192973.0, 188224.0, 43010.0, 123767.0, 123767.0, 322769.0, 322769.0, 249755.0, 452.0, 54273.0, 48041.0, 108165.0, 46140.0, 193923.0, 131142.0, 357266.0, 322769.0, 292848.0, 374253.0, 43010.0, 124729.0, 108639.0, 293912.0, 69725.0, 269798.0, 304697.0, 219115.0, 54718.0, 278956.0, 278956.0, 164328.0, 278960.0, 357212.0, 231458.0, 373317.0, 188394.0, 337177.0, 58997.0, 186399.0, 54718.0, 327489.0, 88126.0, 357266.0, 357266.0, 358160.0, 48042.0, 350362.0, 49003.0, 360915.0, 294037.0, 43010.0, 247524.0, 149979.0, 152908.0, 360915.0, 118258.0, 388711.0, 43010.0, 376136.0, 268046.0, 123767.0, 292794.0, 292794.0, 384374.0, 174642.0, 141703.0, 357266.0, 281311.0, 268046.0, 358160.0, 57920.0, 374253.0, 357266.0, 293583.0, 152908.0, 386474.0, 136216.0, 43010.0, 325899.0, 268046.0, 385218.0, 209675.0, 242025.0, 388711.0, 123767.0, 107108.0, 60665.0, 48047.0, 269798.0, 368321.0, 292794.0, 127215.0, 452.0, 281637.0, 281637.0, 320458.0, 54718.0, 54718.0, 376847.0, 376847.0, 357266.0, 306717.0, 329974.0, 357266.0, 346321.0, 268046.0, 357266.0, 57920.0, 393812.0, 358549.0, 259972.0, 74390.0, 209675.0, 306717.0, 268046.0, 357266.0, 357266.0, 376847.0, 312174.0, 73008.0, 356561.0, 452.0, 386501.0, 357266.0, 306717.0, 151349.0, 281637.0, 281637.0, 320458.0, 58997.0, 105849.0, 388711.0, 357266.0, 74390.0, 209675.0, 375636.0, 151349.0, 51582.0, 357266.0, 73008.0, 356561.0, 867.0], [43010.0, 108368.0, 54718.0, 387160.0, 305946.0, 354634.0, 151349.0, 122155.0, 268046.0, 357266.0, 165361.0, 192217.0, 239231.0, 268046.0, 357266.0, 106337.0, 327884.0, 247541.0, 452.0, 452.0, 452.0, 273428.0, 43010.0, 300364.0, 268046.0, 153799.0, 452.0, 399724.0, 452.0, 188481.0, 272062.0, 272062.0, 62065.0, 357266.0, 165361.0, 357266.0, 134949.0, 54718.0, 379729.0, 106384.0, 268046.0, 357266.0, 106337.0, 247541.0, 452.0, 452.0, 54718.0, 54718.0, 452.0, 306511.0, 319932.0, 188481.0, 272062.0, 153800.0, 452.0, 399724.0, 452.0, 60665.0, 60665.0, 158.0, 399724.0, 324.0, 324.0, 158.0, 399724.0, 324.0, 324.0, 386432.0, 399620.0, 192973.0, 356166.0, 357266.0, 344607.0, 304988.0, 142918.0, 42972.0, 10741.0, 42974.0, 867.0, 359056.0, 452.0, 357266.0, 165361.0, 237383.0, 71090.0, 186399.0, 60665.0, 357266.0, 190737.0, 386432.0, 357266.0, 357266.0, 54718.0, 54718.0, 319932.0, 188481.0, 153800.0, 45217.0, 360915.0, 186391.0, 290159.0, 218595.0, 42972.0, 10741.0, 42974.0, 452.0, 72028.0, 109527.0, 360915.0, 62659.0, 268046.0, 43010.0, 153800.0, 189078.0, 283048.0, 55283.0, 452.0, 399645.0, 158.0, 158.0, 158.0, 158.0, 324.0, 324.0, 867.0, 165361.0, 239231.0, 237383.0, 192213.0, 399910.0, 153800.0, 349410.0, 399913.0, 388711.0, 305821.0, 107593.0, 57836.0, 268046.0, 43010.0, 325899.0, 268046.0, 335129.0, 54071.0, 272062.0, 327884.0, 452.0, 452.0, 452.0, 384046.0, 42972.0, 42972.0, 42974.0, 452.0, 270970.0, 88126.0, 152567.0, 363921.0, 239291.0, 339111.0, 452.0, 452.0, 452.0, 188481.0, 386474.0, 386474.0, 158.0, 399724.0, 324.0, 192973.0, 152393.0, 88126.0, 332190.0, 57836.0, 268046.0, 326146.0, 173625.0, 153799.0, 188481.0, 43010.0, 106400.0, 384045.0, 54718.0, 193919.0, 346119.0, 152567.0, 54431.0, 42972.0, 42972.0, 42974.0, 867.0, 153800.0, 349410.0, 58997.0, 222715.0, 360915.0, 304970.0, 334952.0, 159137.0, 292852.0, 130319.0, 360915.0, 317178.0, 253891.0, 54718.0, 191567.0, 139205.0, 42972.0, 42972.0, 42974.0, 867.0, 867.0, 237383.0, 273567.0, 357761.0, 222713.0, 452.0, 87775.0, 192973.0, 373038.0, 151349.0, 234828.0, 344185.0, 325034.0, 236514.0, 452.0, 346373.0, 60665.0, 147659.0, 159226.0, 452.0, 130319.0, 360915.0, 357266.0, 344185.0, 54071.0, 268046.0, 357266.0, 106400.0, 384045.0, 142315.0, 357266.0, 222960.0, 379715.0, 300364.0, 158.0, 228111.0, 324.0, 42972.0, 40724.0, 42974.0, 867.0], [357266.0, 148908.0, 268046.0, 357761.0, 350396.0, 452.0, 43010.0, 76615.0, 159117.0, 452.0, 192217.0, 357266.0, 357266.0, 159137.0, 268046.0, 58155.0, 159133.0, 337177.0, 360915.0, 151719.0, 43010.0, 283877.0, 159117.0, 452.0, 386436.0, 357266.0, 272583.0, 350396.0, 107670.0, 177244.0, 192213.0, 357266.0, 151761.0, 268046.0, 98017.0, 159226.0, 146163.0, 281595.0, 112380.0, 82871.0, 82871.0, 357266.0, 323025.0, 350362.0, 192973.0, 43010.0, 105872.0, 331682.0, 123627.0, 159117.0, 158.0, 322516.0, 324.0, 386474.0, 192973.0, 374168.0, 188481.0, 357266.0, 292986.0, 268046.0, 135212.0, 292998.0, 111449.0, 88126.0, 189431.0, 292441.0, 292441.0, 357266.0, 358029.0, 142820.0, 350362.0, 192973.0, 43010.0, 147659.0, 159117.0, 151772.0, 88126.0, 357266.0, 357266.0, 288215.0, 268046.0, 147660.0, 147660.0, 357266.0, 159117.0, 259585.0, 292984.0, 188481.0, 357266.0, 218067.0, 93018.0, 151808.0, 357266.0, 292385.0, 243331.0, 106381.0, 268046.0, 43010.0, 78456.0, 103102.0, 42972.0, 38601.0, 42974.0, 867.0, 357266.0, 218067.0, 93018.0, 192973.0, 278020.0, 191290.0, 60665.0, 357266.0, 357266.0, 386474.0, 192973.0, 139954.0, 62065.0, 357266.0, 165361.0, 325748.0, 60665.0, 43010.0, 399910.0, 355544.0, 399913.0, 151349.0, 357266.0, 137810.0, 122455.0, 268046.0, 243332.0, 54718.0, 61722.0, 307726.0, 293518.0, 188481.0, 357266.0, 357266.0, 283048.0, 268046.0, 147659.0, 103102.0, 142048.0, 42972.0, 40724.0, 42974.0, 867.0], [188481.0, 358160.0, 276859.0, 452.0, 43010.0, 304331.0, 54431.0, 69725.0, 242245.0, 192973.0, 293583.0, 360915.0, 89632.0, 357266.0, 198996.0, 189767.0, 189767.0, 358160.0, 189767.0, 321938.0, 192973.0, 374168.0, 360915.0, 239226.0, 357266.0, 321715.0, 189767.0, 268046.0, 321106.0, 321106.0, 198996.0, 189767.0, 321938.0, 192973.0, 89633.0, 88126.0, 374253.0, 376147.0, 143995.0, 188481.0, 43010.0, 384901.0, 384901.0, 357266.0, 321938.0, 192973.0, 357412.0, 106190.0, 388711.0, 357266.0, 357266.0, 198996.0, 198996.0, 357266.0, 306717.0, 329974.0, 357212.0, 357266.0, 139198.0, 192973.0, 335129.0, 74651.0, 357266.0, 142644.0, 54718.0, 293583.0, 242260.0, 452.0, 294075.0, 357212.0, 357266.0, 247378.0, 192973.0, 43010.0, 146125.0, 54718.0, 133900.0, 384122.0, 268046.0, 89636.0, 321715.0, 188025.0, 268046.0, 199007.0, 867.0], [290159.0, 54718.0, 278008.0, 142566.0, 58997.0, 112654.0, 151349.0, 357266.0, 378207.0, 268046.0, 57170.0, 155653.0, 155584.0, 290159.0, 286126.0, 286126.0, 175523.0, 188481.0, 155584.0, 302204.0, 253767.0, 71090.0, 143137.0, 358802.0, 43010.0, 382654.0, 54718.0, 90548.0, 264550.0, 71090.0, 142567.0, 142567.0, 452.0, 386474.0, 222729.0, 357266.0, 52072.0, 290159.0, 120991.0, 188481.0, 155584.0, 302204.0, 42972.0, 2479.0, 42974.0, 54718.0, 192973.0, 43010.0, 326150.0, 354617.0, 96372.0, 188481.0, 193923.0, 42972.0, 15341.0, 42974.0, 867.0, 188481.0, 46223.0, 452.0, 344930.0, 236496.0, 96737.0, 306716.0, 154323.0, 259875.0, 192833.0, 94041.0, 119541.0, 188481.0, 357266.0, 175523.0, 142566.0, 91229.0, 268046.0, 142644.0, 121858.0, 42972.0, 21828.0, 42974.0, 54718.0, 342043.0, 348412.0, 90548.0, 346593.0, 326152.0, 154323.0, 139146.0, 130319.0, 360915.0, 188194.0, 286186.0, 278011.0, 42972.0, 26882.0, 42974.0, 867.0, 193716.0, 192973.0, 106804.0, 357212.0, 108379.0, 106710.0, 54718.0, 236514.0, 151349.0, 286186.0, 143941.0, 106384.0, 158.0, 282774.0, 324.0, 302170.0, 357354.0, 222729.0, 188481.0, 356212.0, 268046.0, 236496.0, 222218.0, 54718.0, 290159.0, 142566.0, 62065.0, 57951.0, 57951.0, 452.0, 386474.0, 192973.0, 291927.0, 128981.0, 303661.0, 360915.0, 42955.0, 42955.0, 130319.0, 360915.0, 259875.0, 116330.0, 188481.0, 43010.0, 115362.0, 302203.0, 42972.0, 33544.0, 42974.0, 270970.0, 141816.0, 270201.0, 171586.0, 357212.0, 375624.0, 42972.0, 36169.0, 42974.0, 867.0], [388711.0, 357266.0, 122455.0, 268046.0, 339997.0, 264164.0, 345161.0, 188481.0, 99161.0, 452.0, 337259.0, 186369.0, 360915.0, 354435.0, 54718.0, 219115.0, 357212.0, 378761.0, 219115.0, 60665.0, 43010.0, 332120.0, 292848.0, 268046.0, 209662.0, 174642.0, 71585.0, 273018.0, 54718.0, 189495.0, 452.0, 357645.0, 452.0, 188481.0, 271173.0, 360915.0, 188394.0, 357266.0, 297112.0, 268046.0, 354435.0, 54718.0, 219115.0, 269798.0, 339997.0, 264164.0, 345161.0, 188481.0, 99161.0, 452.0, 358160.0, 63505.0, 125162.0, 337259.0, 143995.0, 269798.0, 293383.0, 357266.0, 221115.0, 268046.0, 354435.0, 54718.0, 219115.0, 151349.0, 339997.0, 264164.0, 345161.0, 452.0, 346373.0, 60665.0, 188219.0, 292407.0, 452.0, 113959.0, 121839.0, 452.0, 133717.0, 287783.0, 452.0, 54718.0, 336114.0, 336114.0, 357266.0, 239187.0, 268046.0, 306717.0, 54718.0, 357354.0, 188234.0, 268046.0, 155653.0, 306262.0, 58997.0, 125162.0, 867.0], [357266.0, 172199.0, 57920.0, 54718.0, 357266.0, 376117.0, 57920.0, 58997.0, 374516.0, 360915.0, 364470.0, 357266.0, 304974.0, 173625.0, 272060.0, 151349.0, 357266.0, 357266.0, 357266.0, 357266.0, 260760.0, 305038.0, 192973.0, 330028.0, 88126.0, 357266.0, 306708.0, 106194.0, 388711.0, 357212.0, 154323.0, 270501.0, 270501.0, 357266.0, 332136.0, 54718.0, 133928.0, 268046.0, 357266.0, 242260.0, 58997.0, 52520.0, 125025.0, 151349.0, 123767.0, 300364.0, 268046.0, 357266.0, 190165.0, 54071.0, 131142.0, 225644.0, 151349.0, 357266.0, 357266.0, 304966.0, 151349.0, 357266.0, 263650.0, 304974.0, 173625.0, 272060.0, 867.0], [188481.0, 357266.0, 302801.0, 393335.0, 54718.0, 231117.0, 250542.0, 88126.0, 357266.0, 188422.0, 268046.0, 117493.0, 245280.0, 233708.0, 242260.0, 151349.0, 124208.0, 303676.0, 174642.0, 174642.0, 388747.0, 357761.0, 452.0, 193716.0, 192973.0, 390093.0, 178620.0, 357266.0, 292385.0, 106381.0, 54431.0, 242245.0, 158.0, 279473.0, 324.0, 158.0, 198579.0, 452.0, 17499.0, 324.0, 867.0, 188481.0, 54273.0, 254978.0, 376703.0, 338556.0, 452.0, 357266.0, 332126.0, 377862.0, 268046.0, 279473.0, 158.0, 222960.0, 279473.0, 324.0, 192973.0, 43010.0, 354634.0, 357212.0, 148441.0, 357266.0, 357266.0, 376710.0, 270284.0, 386474.0, 357266.0, 293236.0, 268046.0, 357266.0, 317183.0, 159437.0, 357266.0, 178572.0, 178572.0, 357266.0, 306708.0, 192973.0, 43010.0, 325899.0, 268046.0, 271879.0, 376710.0, 337924.0, 188481.0, 121706.0, 271173.0, 268046.0, 45458.0, 45458.0, 357266.0, 148908.0, 268046.0, 357761.0, 376710.0, 192973.0, 357212.0, 270284.0, 386474.0, 357266.0, 376107.0, 268046.0, 357266.0, 293236.0, 268046.0, 357266.0, 317183.0, 192973.0, 192973.0, 188481.0, 358160.0, 325008.0, 452.0, 357266.0, 271493.0, 211924.0, 107832.0, 357266.0, 254978.0, 376703.0, 338556.0, 69895.0, 452.0, 386436.0, 357266.0, 357266.0, 350271.0, 211924.0, 305994.0, 357266.0, 271879.0, 376710.0, 388711.0, 357266.0, 178572.0, 178572.0, 360915.0, 71090.0, 308660.0, 452.0, 373317.0, 360915.0, 254935.0, 350271.0, 271879.0, 211924.0, 237383.0, 71090.0, 71090.0, 182573.0, 452.0, 270201.0, 43010.0, 335129.0, 325899.0, 268046.0, 357388.0, 452.0, 357266.0, 148908.0, 148908.0, 452.0, 192973.0, 137680.0, 360915.0, 45230.0, 151349.0, 250392.0, 268046.0, 357266.0, 376107.0, 268046.0, 357266.0, 117493.0, 867.0], [151349.0, 51582.0, 380864.0, 357266.0, 357266.0, 354634.0, 331418.0, 158.0, 274488.0, 42955.0, 1799.0, 324.0, 273183.0, 357266.0, 272583.0, 368321.0, 242260.0, 188481.0, 51582.0, 268046.0, 357266.0, 191716.0, 60665.0, 90548.0, 71090.0, 323432.0, 88126.0, 106192.0, 360915.0, 357266.0, 139198.0, 114047.0, 330028.0, 188481.0, 147946.0, 38601.0, 54718.0, 357266.0, 148024.0, 188481.0, 351098.0, 2479.0, 188481.0, 357266.0, 348192.0, 348192.0, 331414.0, 383514.0, 61636.0, 374253.0, 43010.0, 43010.0, 387527.0, 331400.0, 300438.0, 356531.0, 332240.0, 357266.0, 139198.0, 125820.0, 385664.0, 159426.0, 264550.0, 264550.0, 357266.0, 140083.0, 139205.0, 151349.0, 151349.0, 54718.0, 193919.0, 262811.0, 110360.0, 452.0, 452.0, 158.0, 262350.0, 262350.0, 324.0, 452.0, 385664.0, 332008.0, 188481.0, 357266.0, 71956.0, 268046.0, 357266.0, 57836.0, 283048.0, 452.0, 87775.0, 60665.0, 56674.0, 452.0, 60665.0, 357266.0, 57836.0, 283048.0, 385595.0, 269798.0, 452.0, 357266.0, 357266.0, 354634.0, 108147.0, 188387.0, 193919.0, 45289.0, 88126.0, 188932.0, 249714.0, 54718.0, 249714.0, 117493.0, 191811.0, 357266.0, 357266.0, 269798.0, 63975.0, 357266.0, 250529.0, 140083.0, 268046.0, 268046.0, 188387.0, 88126.0, 18698.0, 41.0, 188481.0, 350965.0, 388711.0, 306501.0, 360915.0, 193919.0, 262811.0, 262811.0, 182573.0, 452.0, 357266.0, 242245.0, 174032.0, 52477.0, 331418.0, 46130.0, 360915.0, 357266.0, 83433.0, 278956.0, 188481.0, 350935.0, 452.0, 185635.0, 47798.0, 74651.0, 21828.0, 54718.0, 36169.0, 244871.0, 268046.0, 187682.0, 452.0, 386432.0, 250529.0, 140084.0, 386432.0, 269798.0, 63975.0, 11712.0, 41.0, 249714.0, 45290.0, 357109.0, 62065.0, 357266.0, 71956.0, 268046.0, 357266.0, 46127.0, 46127.0, 88126.0, 379870.0, 190686.0, 357266.0, 114047.0, 151349.0, 151349.0, 188481.0, 147946.0, 38601.0, 193716.0, 90548.0, 71090.0, 323432.0, 357212.0, 151349.0, 233708.0, 380864.0, 158.0, 188481.0, 278014.0, 380864.0, 43010.0, 452.0, 114975.0, 452.0, 132033.0, 452.0, 54718.0, 143497.0, 324.0, 357266.0, 139198.0, 114047.0, 341875.0, 360915.0, 149721.0, 57951.0, 59937.0, 357266.0, 36169.0, 244871.0, 244871.0, 154323.0, 358160.0, 193716.0, 90548.0, 71090.0, 106804.0, 357212.0, 43010.0, 225401.0, 89744.0, 320005.0, 268046.0, 59937.0, 8172.0, 244871.0, 390139.0, 71090.0, 270888.0, 452.0, 357212.0, 192973.0, 357266.0, 30387.0, 244871.0, 357212.0, 385664.0, 374168.0, 151349.0, 89744.0, 188481.0, 358160.0, 142818.0, 286963.0, 36169.0, 244871.0, 390093.0, 268046.0, 117493.0, 46189.0, 131142.0, 357266.0, 57836.0, 57836.0, 264588.0, 357212.0, 358160.0, 359889.0, 110156.0, 71090.0, 331418.0, 303661.0, 186645.0, 43010.0, 43010.0, 325299.0, 383514.0, 374168.0, 867.0], [351227.0, 192973.0, 54273.0, 188273.0, 293520.0, 268046.0, 43010.0, 294332.0, 60665.0, 193716.0, 297161.0, 193919.0, 44430.0, 360915.0, 151719.0, 190745.0, 43010.0, 80261.0, 386424.0, 85024.0, 191811.0, 107971.0, 388711.0, 43010.0, 43010.0, 357266.0, 148339.0, 46446.0, 54718.0, 104586.0, 344579.0, 268046.0, 357266.0, 80261.0, 58997.0, 189768.0, 88126.0, 265603.0, 143995.0, 188839.0, 357266.0, 348406.0, 137241.0, 268046.0, 357266.0, 46448.0, 54718.0, 346197.0, 452.0, 131505.0, 359889.0, 452.0, 107971.0, 291876.0, 452.0, 239291.0, 293518.0, 268046.0, 357266.0, 46448.0, 452.0, 60665.0, 385218.0, 60665.0, 138118.0, 106927.0, 346373.0, 60665.0, 355520.0, 54718.0, 183954.0, 42972.0, 38601.0, 42974.0, 867.0, 357645.0, 452.0, 351227.0, 192973.0, 188273.0, 188481.0, 233708.0, 57840.0, 386432.0, 54273.0, 190737.0, 80261.0, 192973.0, 306174.0, 452.0, 182573.0, 193716.0, 192973.0, 138614.0, 188273.0, 386424.0, 43010.0, 399910.0, 102436.0, 399913.0, 325187.0, 268046.0, 357266.0, 190178.0, 80270.0, 348412.0, 192973.0, 192973.0, 233708.0, 123767.0, 242260.0, 151349.0, 239236.0, 357266.0, 351227.0, 174642.0, 71814.0, 122540.0, 388711.0, 357266.0, 152427.0, 231068.0, 270120.0, 72182.0, 357266.0, 310748.0, 67287.0, 452.0, 225674.0, 351227.0, 452.0, 297632.0, 343129.0, 54718.0, 292780.0, 351227.0, 356595.0, 42972.0, 40724.0, 42974.0, 867.0, 132276.0, 174032.0, 193919.0, 274148.0, 47006.0, 54718.0, 124870.0, 54718.0, 357266.0, 339034.0, 356585.0, 242245.0, 329916.0, 71090.0, 323929.0, 69725.0, 269798.0, 357266.0, 278014.0, 57836.0, 867.0], [867.0, 58997.0, 293583.0, 151349.0, 247387.0, 247387.0, 384515.0, 325776.0, 386474.0, 58997.0, 290198.0, 88126.0, 304964.0, 117505.0, 54718.0, 191135.0, 388711.0, 374205.0, 45217.0, 360915.0, 224927.0, 151976.0, 339047.0, 190461.0, 107856.0, 452.0, 452.0, 107856.0, 54718.0, 54718.0, 54718.0, 357266.0, 222960.0, 355568.0, 148938.0, 224923.0, 158.0, 158.0, 324.0, 151976.0, 273428.0, 190464.0, 452.0, 342019.0, 452.0, 273211.0, 54718.0, 45845.0, 58997.0, 374168.0, 360915.0, 142967.0, 357266.0, 293518.0, 360915.0, 71090.0, 71090.0, 174642.0, 294010.0, 357212.0, 63652.0, 377628.0, 268046.0, 268046.0, 293518.0, 268046.0, 268046.0, 384515.0, 325776.0, 371152.0, 371152.0, 107856.0, 192973.0, 118741.0, 88126.0, 303670.0, 384515.0, 325776.0, 360915.0, 360915.0, 384515.0, 384515.0, 359056.0, 452.0, 384374.0, 90548.0, 377635.0, 384515.0, 325758.0, 339037.0, 374253.0, 142644.0, 377631.0, 121851.0, 151349.0, 384515.0, 57840.0, 867.0], [193716.0, 192973.0, 123789.0, 188481.0, 124758.0, 291289.0, 281602.0, 154323.0, 289058.0, 188481.0, 359612.0, 317558.0, 130319.0, 360915.0, 357266.0, 288743.0, 304966.0, 74651.0, 109103.0, 121485.0, 289058.0, 54718.0, 281602.0, 357212.0, 94044.0, 88126.0, 357266.0, 143217.0, 143217.0, 357266.0, 102223.0, 322542.0, 158.0, 320889.0, 127107.0, 306262.0, 324.0, 54718.0, 54718.0, 247396.0, 58997.0, 51582.0, 373206.0, 71494.0, 264550.0, 137680.0, 109103.0, 317183.0, 385664.0, 129382.0, 151349.0, 215235.0, 262297.0, 142820.0, 239231.0, 360915.0, 89740.0, 357266.0, 192214.0, 247378.0, 247378.0, 69725.0, 269798.0, 357266.0, 102238.0, 319932.0, 242245.0, 158.0, 113042.0, 324.0, 452.0, 47798.0, 357266.0, 353325.0, 359612.0, 317558.0, 58997.0, 102241.0, 191811.0, 368321.0, 368687.0, 452.0, 357266.0, 304966.0, 74651.0, 109103.0, 289058.0, 54718.0, 281602.0, 192973.0, 139954.0, 151349.0, 141941.0, 368669.0, 268046.0, 151762.0, 452.0, 54718.0, 357266.0, 109527.0, 281602.0, 140083.0, 247396.0, 58997.0, 58997.0, 147810.0, 142285.0, 329974.0, 357212.0, 357266.0, 102238.0, 319932.0, 242245.0, 192973.0, 133900.0, 188481.0, 140082.0, 359612.0, 317557.0, 281602.0, 867.0], [188481.0, 358160.0, 276859.0, 452.0, 384374.0, 291753.0, 43010.0, 43010.0, 247220.0, 309945.0, 350362.0, 151349.0, 269062.0, 48003.0, 48003.0, 357266.0, 309945.0, 270613.0, 188481.0, 63693.0, 247377.0, 188481.0, 386474.0, 357266.0, 309962.0, 257534.0, 188481.0, 357266.0, 138116.0, 54718.0, 322769.0, 151349.0, 373211.0, 333190.0, 268046.0, 135046.0, 135046.0, 186645.0, 43010.0, 278750.0, 192973.0, 228250.0, 269798.0, 357266.0, 150202.0, 452.0, 357266.0, 309945.0, 189850.0, 357266.0, 357266.0, 357266.0, 374186.0, 349677.0, 357266.0, 108302.0, 247377.0, 154323.0, 63693.0, 360915.0, 173089.0, 69725.0, 374186.0, 374186.0, 188481.0, 357266.0, 63693.0, 247377.0, 452.0, 357266.0, 309945.0, 374517.0, 357266.0, 379858.0, 325046.0, 54718.0, 216802.0, 360915.0, 248622.0, 357266.0, 137937.0, 137937.0, 357266.0, 309945.0, 192973.0, 138677.0, 243273.0, 452.0, 338960.0, 54718.0, 248622.0, 231552.0, 193716.0, 289446.0, 360915.0, 106039.0, 388711.0, 357266.0, 374186.0, 188481.0, 305335.0, 305335.0, 188481.0, 46223.0, 452.0, 357266.0, 309945.0, 374517.0, 357266.0, 379893.0, 325052.0, 360915.0, 97762.0, 357266.0, 278750.0, 153.0, 153.0, 357266.0, 291487.0, 348595.0, 142832.0, 329974.0, 43010.0, 164328.0, 281311.0, 867.0], [272881.0, 110432.0, 192973.0, 308115.0, 268046.0, 222946.0, 156872.0, 452.0, 357640.0, 58997.0, 233708.0, 188273.0, 156872.0, 117493.0, 144214.0, 360915.0, 104979.0, 350375.0, 54718.0, 106329.0, 71494.0, 357640.0, 192973.0, 262350.0, 372007.0, 232573.0, 232573.0, 47798.0, 357266.0, 156872.0, 267459.0, 188481.0, 188481.0, 153.0, 388379.0, 357266.0, 121135.0, 268046.0, 292989.0, 268046.0, 357266.0, 341956.0, 166930.0, 109427.0, 271374.0, 43010.0, 225985.0, 268046.0, 183848.0, 360915.0, 92747.0, 272930.0, 357266.0, 306262.0, 268046.0, 156872.0, 189825.0, 452.0, 358160.0, 389836.0, 192973.0, 192973.0, 54718.0, 54718.0, 357266.0, 341956.0, 166930.0, 109427.0, 174032.0, 374168.0, 357266.0, 292986.0, 232573.0, 350362.0, 158.0, 287081.0, 324.0, 386474.0, 192973.0, 43010.0, 290201.0, 54718.0, 132683.0, 360915.0, 360915.0, 388711.0, 357266.0, 176551.0, 268046.0, 357266.0, 350362.0, 384374.0, 90548.0, 111448.0, 43010.0, 156872.0, 117504.0, 386474.0, 90548.0, 319418.0, 306496.0, 54718.0, 343855.0, 357266.0, 156872.0, 156872.0, 360915.0, 86363.0, 54718.0, 295763.0, 193716.0, 191811.0, 57836.0, 268046.0, 117504.0, 90548.0, 294037.0, 354617.0, 348215.0, 151349.0, 222946.0, 156872.0, 292049.0, 54718.0, 156872.0, 306262.0, 389836.0, 867.0], [136048.0, 325052.0, 142883.0, 357266.0, 123763.0, 188481.0, 230423.0, 293518.0, 452.0, 346373.0, 60665.0, 304969.0, 281602.0, 452.0, 54718.0, 135114.0, 106975.0, 74651.0, 317183.0, 388711.0, 123767.0, 243331.0, 283048.0, 283048.0, 188481.0, 147202.0, 342362.0, 452.0, 357266.0, 96721.0, 188481.0, 304969.0, 281602.0, 174032.0, 43010.0, 331417.0, 331417.0, 292067.0, 452.0, 252434.0, 136048.0, 325052.0, 174642.0, 71814.0, 330028.0, 360915.0, 71090.0, 44493.0, 360915.0, 239226.0, 239226.0, 152796.0, 154323.0, 1681.0, 41.0, 360915.0, 5382.0, 41.0, 188481.0, 247378.0, 158.0, 179233.0, 179233.0, 341242.0, 342333.0, 290139.0, 324.0, 52078.0, 42972.0, 36293.0, 42974.0, 867.0, 357266.0, 217449.0, 123763.0, 188481.0, 230423.0, 293518.0, 268046.0, 147181.0, 158.0, 147202.0, 324.0, 54718.0, 63394.0, 158.0, 277166.0, 324.0, 283061.0, 231492.0, 357266.0, 96721.0, 188481.0, 331376.0, 217449.0, 54718.0, 176789.0, 304970.0, 132683.0, 360915.0, 360915.0, 136048.0, 325052.0, 174642.0, 52520.0, 239228.0, 357266.0, 221134.0, 268046.0, 268046.0, 158.0, 376116.0, 188481.0, 147181.0, 108067.0, 388711.0, 121339.0, 324.0, 188481.0, 342333.0, 310214.0, 42972.0, 42972.0, 42974.0, 867.0, 357266.0, 57920.0, 46780.0, 360915.0, 304957.0, 357266.0, 273500.0, 342333.0, 136048.0, 325046.0, 331376.0, 360915.0, 193919.0, 243332.0, 174032.0, 71814.0, 360915.0, 107871.0, 43010.0, 148545.0, 135301.0, 158.0, 146082.0, 324.0, 247378.0, 151349.0, 357266.0, 243332.0, 158.0, 283048.0, 452.0, 304237.0, 333429.0, 54718.0, 125818.0, 324.0, 867.0, 357266.0, 136048.0, 293518.0, 268046.0, 357266.0, 189262.0, 283061.0, 58997.0, 61664.0, 360915.0, 358452.0, 304268.0, 360915.0, 162051.0, 357266.0, 273500.0, 136048.0, 293518.0, 268046.0, 357266.0, 357266.0, 388747.0, 357266.0, 247378.0, 357266.0, 278014.0, 325046.0, 159832.0, 192973.0, 188837.0, 158.0, 132176.0, 368355.0, 64466.0, 151349.0, 43010.0, 114619.0, 317178.0, 54718.0, 366824.0, 325046.0, 42972.0, 4961.0, 42974.0, 324.0, 54718.0, 357266.0, 191138.0, 388711.0, 357266.0, 342333.0, 54718.0, 57170.0, 143066.0, 101468.0, 101468.0, 188481.0, 358160.0, 384122.0, 123767.0, 243333.0, 54718.0, 325046.0, 121858.0, 90548.0, 71090.0, 106190.0, 867.0], [357266.0, 18474.0, 95359.0, 188481.0, 357266.0, 143869.0, 268046.0, 54273.0, 48165.0, 288940.0, 364707.0, 452.0, 357266.0, 175376.0, 342108.0, 268046.0, 357266.0, 135046.0, 192973.0, 43010.0, 182186.0, 193637.0, 268046.0, 336298.0, 106725.0, 452.0, 357645.0, 452.0, 360915.0, 142902.0, 357266.0, 175376.0, 342108.0, 268046.0, 357266.0, 99212.0, 288940.0, 48165.0, 54718.0, 357266.0, 135046.0, 452.0, 135046.0, 149164.0, 142532.0, 246407.0, 345195.0, 54718.0, 151977.0, 239234.0, 54718.0, 242260.0, 268046.0, 149164.0, 268046.0, 357266.0, 135046.0, 452.0, 293383.0, 135046.0, 149164.0, 363601.0, 363081.0, 43010.0, 175409.0, 452.0, 321715.0, 124748.0, 452.0, 360915.0, 293378.0, 43010.0, 257217.0, 149164.0, 45882.0, 92687.0, 272930.0, 188481.0, 271173.0, 360915.0, 45457.0, 357266.0, 142532.0, 268046.0, 321715.0, 149164.0, 268046.0, 269089.0, 281949.0, 867.0], [188481.0, 271173.0, 151349.0, 126416.0, 69725.0, 69725.0, 360915.0, 71090.0, 346323.0, 452.0, 357640.0, 253767.0, 71090.0, 346608.0, 320190.0, 108256.0, 74651.0, 357266.0, 317178.0, 54718.0, 357266.0, 363357.0, 363357.0, 188481.0, 271173.0, 360915.0, 45457.0, 358160.0, 452.0, 357266.0, 237347.0, 289446.0, 106697.0, 268046.0, 363357.0, 278011.0, 383514.0, 46189.0, 346373.0, 357212.0, 332395.0, 320190.0, 141855.0, 343257.0, 127303.0, 158.0, 60665.0, 122191.0, 88126.0, 239231.0, 268046.0, 123811.0, 104364.0, 188481.0, 383772.0, 62065.0, 123767.0, 106698.0, 324.0, 867.0, 188481.0, 271173.0, 360915.0, 122190.0, 386458.0, 270970.0, 264550.0, 357266.0, 65760.0, 320190.0, 154323.0, 357266.0, 317178.0, 383514.0, 346609.0, 226394.0, 106190.0, 360915.0, 357212.0, 268046.0, 357266.0, 363357.0, 278011.0, 452.0, 384374.0, 52520.0, 106190.0, 357266.0, 320190.0, 191050.0, 267326.0, 154323.0, 317183.0, 388711.0, 54718.0, 388756.0, 363357.0, 278011.0, 60665.0, 43010.0, 155211.0, 268046.0, 268046.0, 357266.0, 306717.0, 268046.0, 358160.0, 142532.0, 58997.0, 330028.0, 188481.0, 147946.0, 147946.0, 154323.0, 358160.0, 148016.0, 193716.0, 90548.0, 71090.0, 323432.0, 357212.0, 52673.0, 190178.0, 357266.0, 320190.0, 154323.0, 357266.0, 317178.0, 388756.0, 363357.0, 278011.0, 192973.0, 226394.0, 106190.0, 360915.0, 358452.0, 108005.0, 363357.0, 278011.0, 452.0, 60665.0, 159137.0, 292840.0, 358160.0, 141859.0, 94662.0, 360915.0, 71090.0, 357266.0, 357266.0, 358160.0, 192973.0, 291927.0, 71494.0, 268046.0, 357266.0, 122455.0, 268046.0, 268046.0, 344940.0, 452.0, 346373.0, 60665.0, 358452.0, 323432.0, 292067.0, 158.0, 147946.0, 21716.0, 324.0, 867.0, 69725.0, 269798.0, 357266.0, 306717.0, 188481.0, 147946.0, 33544.0, 193716.0, 383514.0, 118743.0, 360915.0, 270201.0, 374163.0, 117493.0, 104983.0, 188481.0, 357266.0, 148908.0, 148908.0, 268046.0, 357266.0, 142818.0, 452.0, 47798.0, 386474.0, 287479.0, 357266.0, 320190.0, 154323.0, 357266.0, 159117.0, 259585.0, 71488.0, 301000.0, 361940.0, 217449.0, 360915.0, 186887.0, 867.0], [357266.0, 72020.0, 268046.0, 95011.0, 71177.0, 192973.0, 121731.0, 374253.0, 121839.0, 242260.0, 45217.0, 360915.0, 85626.0, 42867.0, 42867.0, 452.0, 107671.0, 278020.0, 357266.0, 344579.0, 268046.0, 354767.0, 323172.0, 54718.0, 384515.0, 289455.0, 289455.0, 346373.0, 72020.0, 192973.0, 121485.0, 154323.0, 277192.0, 345195.0, 192218.0, 148545.0, 135301.0, 54431.0, 374253.0, 336623.0, 336623.0, 357266.0, 121839.0, 242245.0, 192973.0, 69725.0, 269798.0, 286218.0, 54431.0, 268046.0, 71177.0, 323165.0, 62065.0, 370303.0, 224444.0, 54718.0, 134949.0, 54431.0, 62065.0, 325764.0, 325764.0, 357266.0, 292834.0, 268046.0, 121839.0, 268046.0, 95011.0, 71177.0, 192973.0, 187519.0, 54718.0, 54273.0, 142283.0, 69725.0, 269798.0, 121839.0, 242245.0, 192973.0, 389863.0, 272930.0, 54718.0, 193919.0, 377628.0, 192973.0, 127491.0, 151349.0, 97783.0, 357266.0, 346828.0, 867.0], [357266.0, 192758.0, 271242.0, 237383.0, 71090.0, 143137.0, 154323.0, 78365.0, 268046.0, 268046.0, 224608.0, 62065.0, 358549.0, 107593.0, 245280.0, 73000.0, 268046.0, 268046.0, 268046.0, 151349.0, 358160.0, 93018.0, 345195.0, 452.0, 355617.0, 138614.0, 292766.0, 320241.0, 268046.0, 192758.0, 108067.0, 452.0, 283579.0, 452.0, 331670.0, 452.0, 52783.0, 54718.0, 225032.0, 58997.0, 374168.0, 360915.0, 297162.0, 357266.0, 198487.0, 370908.0, 188481.0, 357266.0, 97027.0, 268046.0, 357266.0, 192758.0, 271242.0, 121254.0, 107670.0, 54718.0, 58997.0, 357266.0, 190461.0, 360915.0, 357266.0, 357266.0, 151981.0, 293583.0, 188481.0, 357266.0, 292066.0, 292066.0, 357266.0, 332176.0, 320241.0, 63822.0, 385664.0, 294038.0, 54718.0, 159436.0, 374253.0, 357266.0, 343462.0, 332176.0, 354634.0, 122129.0, 188481.0, 81723.0, 54718.0, 124253.0, 158.0, 17698.0, 324.0, 867.0, 357266.0, 58999.0, 107670.0, 192973.0, 81904.0, 88126.0, 357266.0, 222729.0, 268046.0, 357266.0, 162058.0, 380844.0, 268046.0, 292986.0, 188481.0, 357266.0, 225348.0, 148908.0, 393302.0, 292986.0, 320452.0, 320452.0, 147946.0, 26559.0, 330039.0, 21828.0, 320241.0, 268046.0, 192758.0, 271242.0, 108067.0, 60665.0, 385218.0, 60665.0, 357266.0, 109527.0, 108379.0, 54718.0, 332395.0, 140080.0, 158.0, 63975.0, 324.0, 306002.0, 268046.0, 192758.0, 108067.0, 158.0, 146085.0, 41.0, 324.0, 151349.0, 357266.0, 373490.0, 373490.0, 188481.0, 362760.0, 452.0, 37468.0, 78365.0, 154323.0, 154323.0, 360915.0, 360915.0, 361902.0, 452.0, 388711.0, 146085.0, 154323.0, 32319.0, 41.0, 360915.0, 34292.0, 41.0, 452.0, 274488.0, 154323.0, 1810.0, 41.0, 360915.0, 1832.0, 41.0, 452.0, 332723.0, 154323.0, 23076.0, 41.0, 360915.0, 38970.0, 41.0, 452.0, 50258.0, 154323.0, 1945.0, 41.0, 360915.0, 4858.0, 41.0, 54718.0, 225032.0, 154323.0, 38992.0, 41.0, 360915.0, 7011.0, 41.0, 58997.0, 63822.0, 867.0], [61424.0, 293178.0, 158.0, 57268.0, 324.0, 90548.0, 385218.0, 337189.0, 357266.0, 112353.0, 112353.0, 71494.0, 268046.0, 357266.0, 123767.0, 146160.0, 268046.0, 61423.0, 452.0, 57268.0, 306177.0, 259972.0, 354635.0, 151349.0, 151349.0, 148908.0, 452.0, 358160.0, 276859.0, 293586.0, 43010.0, 247378.0, 360915.0, 356531.0, 61424.0, 61424.0, 188481.0, 271173.0, 360915.0, 348215.0, 357266.0, 356585.0, 247378.0, 268046.0, 357266.0, 148908.0, 358549.0, 342882.0, 452.0, 384374.0, 293582.0, 357266.0, 51274.0, 268046.0, 323933.0, 61423.0, 305032.0, 356531.0, 356531.0, 357412.0, 452.0, 384374.0, 122447.0, 43010.0, 259972.0, 361959.0, 360915.0, 188217.0, 357266.0, 357589.0, 268046.0, 63658.0, 323926.0, 356531.0, 356531.0, 148356.0, 452.0, 43010.0, 93018.0, 268046.0, 357266.0, 68100.0, 45230.0, 350362.0, 192973.0, 345171.0, 360915.0, 187518.0, 272881.0, 356585.0, 57920.0, 867.0], [357266.0, 306262.0, 389836.0, 188481.0, 358160.0, 276859.0, 134891.0, 269798.0, 357266.0, 357589.0, 133902.0, 268046.0, 357266.0, 293583.0, 242245.0, 69725.0, 269798.0, 357266.0, 252763.0, 252763.0, 193716.0, 52520.0, 102496.0, 189163.0, 358802.0, 265592.0, 332181.0, 54718.0, 57840.0, 360915.0, 71255.0, 248624.0, 357212.0, 357266.0, 142731.0, 154323.0, 341454.0, 136293.0, 360915.0, 252763.0, 136293.0, 192973.0, 43010.0, 346323.0, 346323.0, 374253.0, 252664.0, 325052.0, 360915.0, 104979.0, 331376.0, 154323.0, 123767.0, 224617.0, 268046.0, 357266.0, 229430.0, 54718.0, 374253.0, 357266.0, 252763.0, 136293.0, 360915.0, 54443.0, 252763.0, 331376.0, 90548.0, 108280.0, 360915.0, 106442.0, 104979.0, 51582.0, 357266.0, 153800.0, 106384.0, 304958.0, 360915.0, 57170.0, 71255.0, 145731.0, 452.0, 54718.0, 192973.0, 73108.0, 360915.0, 143135.0, 145731.0, 189825.0, 452.0, 139731.0, 151349.0, 132422.0, 384383.0, 145731.0, 145731.0, 81562.0, 357266.0, 97025.0, 153799.0, 268046.0, 332176.0, 331376.0, 54718.0, 357266.0, 145731.0, 153799.0, 268046.0, 290454.0, 310748.0, 71255.0, 331376.0, 90548.0, 71090.0, 143137.0, 154323.0, 357266.0, 316998.0, 271173.0, 268046.0, 187805.0, 167650.0, 452.0, 359056.0, 330019.0, 357212.0, 252763.0, 136293.0, 192973.0, 54273.0, 133900.0, 331376.0, 118893.0, 51274.0, 54718.0, 90548.0, 71090.0, 106265.0, 57844.0, 360915.0, 145731.0, 123129.0, 268046.0, 310748.0, 71257.0, 386424.0, 105586.0, 388711.0, 43010.0, 252714.0, 303676.0, 242245.0, 54718.0, 145731.0, 109505.0, 143981.0, 143981.0, 188481.0, 331376.0, 45712.0, 54718.0, 292853.0, 452.0, 162058.0, 357266.0, 101519.0, 357212.0, 357640.0, 192973.0, 43010.0, 364707.0, 363080.0, 357266.0, 374163.0, 268046.0, 252664.0, 325052.0, 452.0, 252763.0, 136293.0, 57721.0, 360915.0, 71090.0, 377946.0, 374174.0, 54718.0, 239188.0, 60665.0, 43010.0, 207715.0, 268046.0, 252763.0, 117493.0, 292853.0, 292853.0, 88126.0, 54448.0, 357266.0, 332176.0, 331376.0, 54718.0, 368321.0, 123767.0, 290454.0, 252763.0, 331391.0, 452.0, 357266.0, 306717.0, 120638.0, 357266.0, 331414.0, 268046.0, 357266.0, 293583.0, 242245.0, 188481.0, 357266.0, 147810.0, 268046.0, 145731.0, 123129.0, 268046.0, 310748.0, 71255.0, 867.0], [121839.0, 324447.0, 192973.0, 54273.0, 190962.0, 268046.0, 183848.0, 247377.0, 268046.0, 142634.0, 54718.0, 378761.0, 269798.0, 113591.0, 54718.0, 60228.0, 452.0, 386474.0, 239197.0, 193716.0, 192973.0, 43010.0, 372213.0, 268046.0, 60228.0, 54718.0, 54718.0, 121839.0, 324447.0, 192973.0, 357266.0, 55895.0, 268046.0, 151719.0, 54718.0, 357266.0, 303940.0, 268046.0, 193919.0, 349980.0, 239187.0, 452.0, 386474.0, 239197.0, 193716.0, 192973.0, 54273.0, 142859.0, 268046.0, 357266.0, 121257.0, 183848.0, 113584.0, 113584.0, 99212.0, 60228.0, 344613.0, 142975.0, 452.0, 151407.0, 54718.0, 54718.0, 188481.0, 99161.0, 452.0, 280944.0, 47094.0, 399931.0, 360915.0, 219109.0, 154323.0, 257320.0, 399936.0, 452.0, 399931.0, 360915.0, 225629.0, 373317.0, 360915.0, 267266.0, 357266.0, 347345.0, 452.0, 357266.0, 249350.0, 54718.0, 341861.0, 452.0, 54718.0, 225629.0, 128527.0, 360915.0, 267266.0, 357266.0, 348567.0, 399936.0, 452.0, 54718.0, 351935.0, 399931.0, 257320.0, 54718.0, 232536.0, 188481.0, 269953.0, 399936.0, 60665.0, 357266.0, 178572.0, 341956.0, 268046.0, 268046.0, 121839.0, 324447.0, 192973.0, 142970.0, 188481.0, 338556.0, 138116.0, 121839.0, 358802.0, 43010.0, 349977.0, 283365.0, 378761.0, 357212.0, 257293.0, 54718.0, 60401.0, 151808.0, 58997.0, 106318.0, 54718.0, 54718.0, 358160.0, 151719.0, 268046.0, 121839.0, 218983.0, 183900.0, 65680.0, 360915.0, 43010.0, 74597.0, 341956.0, 268046.0, 224021.0, 452.0, 185635.0, 257320.0, 54718.0, 232536.0, 188481.0, 269953.0, 867.0], [357266.0, 357266.0, 268046.0, 263650.0, 350396.0, 90548.0, 71090.0, 122191.0, 88126.0, 134678.0, 43010.0, 43010.0, 242245.0, 270970.0, 43010.0, 43010.0, 242245.0, 42972.0, 38601.0, 42974.0, 867.0, 188481.0, 357266.0, 277192.0, 57920.0, 452.0, 43010.0, 263650.0, 277192.0, 247378.0, 192973.0, 148908.0, 186399.0, 154323.0, 357266.0, 357266.0, 357266.0, 357266.0, 357266.0, 58997.0, 357412.0, 267326.0, 88126.0, 233849.0, 357266.0, 306712.0, 247378.0, 191811.0, 357266.0, 153800.0, 127210.0, 374253.0, 357266.0, 292788.0, 242245.0, 42972.0, 40724.0, 42974.0, 867.0, 357266.0, 263694.0, 57920.0, 192973.0, 268345.0, 303888.0, 360915.0, 60665.0, 153803.0, 380823.0, 350362.0, 186397.0, 54718.0, 192973.0, 69725.0, 269798.0, 357266.0, 267256.0, 357212.0, 357266.0, 380823.0, 247378.0, 268046.0, 263650.0, 350396.0, 192973.0, 222960.0, 188481.0, 356212.0, 268046.0, 357266.0, 372322.0, 380823.0, 205533.0, 452.0, 386474.0, 452.0, 188481.0, 357266.0, 153800.0, 127210.0, 452.0, 109529.0, 360915.0, 43010.0, 222960.0, 304963.0, 74651.0, 357266.0, 273210.0, 153800.0, 306549.0, 54718.0, 222960.0, 452.0, 296995.0, 452.0, 54718.0, 178545.0, 271173.0, 271173.0, 358160.0, 222960.0, 304966.0, 52074.0, 357266.0, 374163.0, 268046.0, 43010.0, 219145.0, 340522.0, 158.0, 226720.0, 324.0, 57920.0, 360915.0, 337189.0, 151349.0, 357266.0, 357266.0, 326146.0, 306268.0, 42972.0, 42972.0, 42974.0, 174642.0, 374168.0, 358160.0, 242245.0, 360915.0, 140079.0, 357266.0, 357266.0, 87775.0, 357810.0, 374387.0, 229835.0, 357266.0, 61770.0, 357212.0, 193716.0, 192973.0, 209675.0, 43010.0, 292474.0, 357212.0, 357266.0, 350362.0, 371152.0, 345195.0, 90548.0, 71090.0, 306009.0, 88126.0, 200035.0, 368321.0, 270970.0, 358549.0, 358549.0, 182573.0, 452.0, 346373.0, 189825.0, 192973.0, 300708.0, 63822.0, 43010.0, 292474.0, 867.0], [326146.0, 190436.0, 190436.0, 48047.0, 452.0, 188839.0, 188839.0, 452.0, 452.0, 158.0, 336126.0, 324.0, 21828.0, 452.0, 452.0, 54718.0, 54273.0, 271342.0, 103824.0, 48831.0, 276033.0, 452.0, 385664.0, 374168.0, 360915.0, 364470.0, 357266.0, 383702.0, 154323.0, 127268.0, 55534.0, 54718.0, 290043.0, 83517.0, 188481.0, 358160.0, 358160.0, 357266.0, 186348.0, 270616.0, 106927.0, 385664.0, 62657.0, 88126.0, 332395.0, 143981.0, 142818.0, 54718.0, 271879.0, 121839.0, 121839.0, 54718.0, 357266.0, 186348.0, 270616.0, 106927.0, 58997.0, 151063.0, 42867.0, 357266.0, 128129.0, 268046.0, 268046.0, 54718.0, 276033.0, 192973.0, 192973.0, 54718.0, 54718.0, 306511.0, 386424.0, 204683.0, 357266.0, 282874.0, 4961.0, 42950.0, 54718.0, 357266.0, 109527.0, 305352.0, 300964.0, 192973.0, 32405.0, 41.0, 54718.0, 34115.0, 41.0, 151349.0, 104199.0, 54718.0, 54718.0, 69725.0, 269798.0, 357266.0, 142820.0, 306717.0, 452.0, 358160.0, 276859.0, 54447.0, 357266.0, 231068.0, 143995.0, 357212.0, 47483.0, 383702.0, 150150.0, 364480.0, 867.0], [357266.0, 260309.0, 283048.0, 268046.0, 272881.0, 113946.0, 345195.0, 192973.0, 360915.0, 374163.0, 357266.0, 277191.0, 267326.0, 154323.0, 154323.0, 350396.0, 188481.0, 43010.0, 363897.0, 233320.0, 360915.0, 305994.0, 357266.0, 109527.0, 109527.0, 246722.0, 268046.0, 268046.0, 54718.0, 170381.0, 174642.0, 71814.0, 345171.0, 292067.0, 388711.0, 388711.0, 349106.0, 42972.0, 39421.0, 42974.0, 867.0, 188481.0, 159391.0, 193716.0, 192973.0, 385218.0, 209675.0, 357212.0, 357266.0, 143217.0, 257320.0, 268046.0, 357266.0, 283048.0, 325187.0, 42972.0, 11028.0, 42974.0, 231492.0, 193716.0, 96377.0, 360915.0, 247378.0, 246722.0, 268046.0, 170381.0, 388711.0, 263248.0, 263248.0, 71494.0, 268046.0, 357266.0, 217449.0, 123765.0, 188481.0, 357266.0, 123627.0, 107783.0, 268046.0, 357266.0, 368321.0, 283061.0, 60665.0, 385218.0, 60665.0, 188481.0, 357266.0, 124673.0, 248238.0, 268046.0, 170381.0, 54718.0, 357266.0, 184832.0, 248032.0, 452.0, 193716.0, 139731.0, 123789.0, 360915.0, 267324.0, 267324.0, 372358.0, 191138.0, 277191.0, 42972.0, 7280.0, 42974.0, 54718.0, 359056.0, 360915.0, 247378.0, 332191.0, 357266.0, 138656.0, 138656.0, 188481.0, 292066.0, 389836.0, 42972.0, 39421.0, 42974.0, 452.0, 136577.0, 383514.0, 285915.0, 269798.0, 267327.0, 54273.0, 45290.0, 121738.0, 268046.0, 357266.0, 357266.0, 283061.0, 158.0, 81562.0, 223475.0, 54718.0, 376008.0, 324.0, 452.0, 386495.0, 335129.0, 44786.0, 158.0, 87775.0, 264550.0, 304969.0, 324.0, 122507.0, 151349.0, 357266.0, 58155.0, 283048.0, 106405.0, 385664.0, 385664.0, 357266.0, 350396.0, 268046.0, 191283.0, 188481.0, 272881.0, 113946.0, 389836.0, 58997.0, 368711.0, 58155.0, 246722.0, 108005.0, 43010.0, 178401.0, 293570.0, 268046.0, 170381.0, 452.0, 452.0, 452.0, 54718.0, 54718.0, 107623.0, 452.0, 188481.0, 271173.0, 360915.0, 294037.0, 54273.0, 188387.0, 273500.0, 121738.0, 268046.0, 357266.0, 357266.0, 138654.0, 62065.0, 357266.0, 106927.0, 268046.0, 191283.0, 452.0, 303916.0, 174642.0, 71814.0, 229835.0, 360915.0, 357266.0, 372358.0, 277191.0, 291763.0, 188481.0, 357266.0, 292066.0, 345195.0, 42972.0, 9184.0, 42974.0, 304962.0, 360915.0, 357266.0, 191142.0, 74651.0, 170381.0, 54718.0, 357266.0, 51576.0, 167650.0, 452.0, 95969.0, 54718.0, 95967.0, 452.0, 256057.0, 256057.0, 452.0, 170381.0, 452.0, 452.0, 452.0, 170381.0, 54718.0, 54718.0, 452.0, 170381.0, 452.0, 452.0, 452.0, 170381.0, 867.0], [188481.0, 358160.0, 276859.0, 452.0, 384374.0, 291753.0, 43010.0, 293229.0, 48996.0, 62065.0, 190961.0, 187894.0, 379651.0, 302334.0, 354659.0, 191811.0, 43010.0, 358584.0, 379651.0, 379651.0, 384374.0, 374163.0, 54273.0, 133719.0, 286278.0, 286278.0, 60665.0, 43010.0, 356531.0, 71602.0, 151349.0, 357266.0, 293229.0, 452.0, 54718.0, 150791.0, 269798.0, 188394.0, 357266.0, 219115.0, 292848.0, 54718.0, 452.0, 346120.0, 399907.0, 357266.0, 357266.0, 384374.0, 48971.0, 62065.0, 188949.0, 357266.0, 357266.0, 268046.0, 26476.0, 379651.0, 389938.0, 142808.0, 88126.0, 57856.0, 250529.0, 363409.0, 151349.0, 108319.0, 357266.0, 63890.0, 54718.0, 368321.0, 354659.0, 151349.0, 257293.0, 257536.0, 42867.0, 187894.0, 293236.0, 54718.0, 175215.0, 175215.0, 188481.0, 46223.0, 452.0, 384374.0, 293582.0, 357266.0, 231345.0, 368687.0, 268046.0, 219115.0, 320241.0, 151349.0, 357266.0, 374163.0, 268046.0, 357266.0, 121851.0, 350396.0, 867.0], [337259.0, 263650.0, 384039.0, 138625.0, 58997.0, 249714.0, 123789.0, 360915.0, 192125.0, 236562.0, 452.0, 60665.0, 262350.0, 159391.0, 54439.0, 242245.0, 151349.0, 357354.0, 337177.0, 337177.0, 357266.0, 142919.0, 359889.0, 123766.0, 158.0, 140236.0, 324.0, 354634.0, 306177.0, 245274.0, 341178.0, 360915.0, 267324.0, 357266.0, 357266.0, 452.0, 386474.0, 346715.0, 54273.0, 133929.0, 354634.0, 354634.0, 106512.0, 131086.0, 131086.0, 305181.0, 341036.0, 341036.0, 306460.0, 263650.0, 384039.0, 384039.0, 358160.0, 60371.0, 337200.0, 357266.0, 123137.0, 142283.0, 268046.0, 204040.0, 138623.0, 378206.0, 357266.0, 140236.0, 140236.0, 26559.0, 26559.0, 188219.0, 268046.0, 358160.0, 354634.0, 192973.0, 293583.0, 88126.0, 329711.0, 236675.0, 293179.0, 867.0], [357266.0, 250392.0, 188273.0, 163265.0, 268046.0, 357266.0, 336623.0, 189462.0, 192973.0, 360915.0, 292969.0, 346323.0, 346323.0, 131142.0, 357266.0, 292848.0, 268046.0, 292986.0, 326146.0, 359971.0, 357266.0, 292984.0, 144223.0, 130319.0, 360915.0, 215502.0, 268046.0, 293513.0, 293513.0, 358160.0, 276859.0, 192973.0, 142907.0, 357266.0, 310672.0, 268046.0, 336623.0, 137410.0, 110548.0, 188481.0, 106518.0, 137410.0, 304958.0, 82868.0, 54718.0, 357412.0, 302484.0, 386984.0, 336623.0, 122453.0, 215502.0, 293229.0, 232573.0, 188481.0, 293513.0, 336623.0, 232573.0, 232573.0, 272881.0, 148434.0, 303936.0, 357212.0, 188481.0, 231371.0, 268046.0, 106518.0, 304958.0, 82868.0, 222471.0, 106518.0, 321704.0, 452.0, 106518.0, 137410.0, 452.0, 189825.0, 350362.0, 137410.0, 357640.0, 192973.0, 262350.0, 285908.0, 151349.0, 336623.0, 293229.0, 232573.0, 232573.0, 272881.0, 148434.0, 58997.0, 69725.0, 269798.0, 43010.0, 348600.0, 268046.0, 110542.0, 113961.0, 268046.0, 106518.0, 137410.0, 452.0, 106518.0, 321704.0, 54718.0, 189825.0, 350362.0, 137410.0, 110548.0, 353915.0, 188481.0, 367588.0, 372265.0, 867.0], [357266.0, 44617.0, 125165.0, 52520.0, 218694.0, 68822.0, 357266.0, 123763.0, 268046.0, 281958.0, 74651.0, 357266.0, 155584.0, 268046.0, 173236.0, 107856.0, 54718.0, 54718.0, 241385.0, 42867.0, 357266.0, 186344.0, 268046.0, 210683.0, 54718.0, 54718.0, 192973.0, 360915.0, 142852.0, 357266.0, 155584.0, 268046.0, 285994.0, 138443.0, 342019.0, 452.0, 371439.0, 60665.0, 43010.0, 325899.0, 268046.0, 286355.0, 389988.0, 452.0, 88126.0, 357266.0, 142634.0, 268046.0, 371335.0, 277980.0, 271179.0, 270970.0, 265592.0, 286354.0, 119564.0, 158.0, 267326.0, 88126.0, 125731.0, 324.0, 452.0, 69725.0, 269798.0, 64461.0, 357212.0, 270201.0, 374163.0, 286355.0, 325966.0, 62633.0, 360915.0, 357761.0, 357761.0, 188481.0, 42972.0, 35558.0, 42974.0, 357266.0, 316998.0, 63534.0, 374163.0, 81562.0, 173236.0, 158.0, 190977.0, 324.0, 107856.0, 54718.0, 72469.0, 325966.0, 303890.0, 360915.0, 286355.0, 389988.0, 452.0, 54718.0, 366254.0, 360915.0, 143024.0, 81562.0, 357266.0, 48213.0, 307282.0, 54718.0, 209663.0, 209663.0, 182573.0, 452.0, 357810.0, 126552.0, 264550.0, 138130.0, 357266.0, 241385.0, 268046.0, 190977.0, 107856.0, 125162.0, 188481.0, 357266.0, 292066.0, 292066.0, 357266.0, 72469.0, 307282.0, 54718.0, 241385.0, 223718.0, 351990.0, 54273.0, 143066.0, 287479.0, 268046.0, 378761.0, 269798.0, 104539.0, 292852.0, 371152.0, 371152.0, 357266.0, 371335.0, 271176.0, 344940.0, 58997.0, 177231.0, 43010.0, 107616.0, 268046.0, 357266.0, 241385.0, 289803.0, 452.0, 87775.0, 357810.0, 126552.0, 264550.0, 57715.0, 142874.0, 188481.0, 357266.0, 64461.0, 54718.0, 357810.0, 58997.0, 264550.0, 267247.0, 154323.0, 357266.0, 357266.0, 269798.0, 357266.0, 108254.0, 452.0, 272881.0, 57920.0, 192973.0, 360915.0, 107871.0, 155584.0, 313201.0, 357212.0, 270201.0, 305141.0, 269798.0, 386307.0, 192973.0, 142874.0, 348207.0, 88126.0, 88126.0, 188481.0, 357266.0, 325296.0, 384374.0, 107661.0, 357266.0, 110360.0, 268046.0, 272881.0, 155584.0, 289803.0, 151349.0, 300442.0, 247396.0, 452.0, 357212.0, 90548.0, 71090.0, 142970.0, 88126.0, 239197.0, 268046.0, 362760.0, 271183.0, 268046.0, 289446.0, 389988.0, 270970.0, 88126.0, 357354.0, 136906.0, 269798.0, 43010.0, 286354.0, 319932.0, 867.0], [108210.0, 323934.0, 151349.0, 43010.0, 293229.0, 192973.0, 54273.0, 188273.0, 118781.0, 452.0, 269953.0, 151349.0, 357266.0, 293229.0, 359889.0, 54718.0, 109891.0, 452.0, 260309.0, 151349.0, 357266.0, 297112.0, 267326.0, 88126.0, 357266.0, 357266.0, 52673.0, 357266.0, 293229.0, 232580.0, 90548.0, 132569.0, 122190.0, 357266.0, 293229.0, 359889.0, 54718.0, 109891.0, 452.0, 357266.0, 297112.0, 192973.0, 374387.0, 371139.0, 139731.0, 151349.0, 151349.0, 151349.0, 388711.0, 43010.0, 219110.0, 293520.0, 452.0, 54273.0, 57920.0, 192973.0, 148908.0, 191916.0, 188481.0, 358160.0, 276859.0, 360915.0, 297162.0, 357266.0, 297112.0, 267326.0, 151349.0, 43010.0, 158016.0, 385218.0, 129387.0, 129387.0, 357412.0, 452.0, 69725.0, 269798.0, 357761.0, 358549.0, 267080.0, 158.0, 359889.0, 452.0, 109891.0, 452.0, 54718.0, 297112.0, 324.0, 452.0, 43010.0, 108210.0, 323934.0, 292794.0, 192973.0, 108427.0, 360915.0, 54273.0, 270907.0, 270907.0, 260309.0, 452.0, 357266.0, 357266.0, 51274.0, 192973.0, 374516.0, 151349.0, 151349.0, 62065.0, 357266.0, 136979.0, 452.0, 43010.0, 325039.0, 54431.0, 192973.0, 281319.0, 360915.0, 323926.0, 357266.0, 277191.0, 268046.0, 357266.0, 51274.0, 867.0], [54273.0, 190382.0, 338150.0, 382654.0, 350362.0, 383514.0, 122450.0, 188481.0, 357266.0, 372266.0, 268046.0, 385893.0, 270276.0, 452.0, 54718.0, 383514.0, 142274.0, 360915.0, 325741.0, 60665.0, 43010.0, 377895.0, 143038.0, 360915.0, 357266.0, 142644.0, 338150.0, 338150.0, 357266.0, 382654.0, 350362.0, 158.0, 120960.0, 60665.0, 60665.0, 324.0, 107707.0, 268046.0, 268046.0, 268046.0, 60665.0, 151986.0, 452.0, 222292.0, 288326.0, 150756.0, 158.0, 226666.0, 324.0, 304695.0, 388711.0, 342333.0, 302567.0, 60665.0, 344930.0, 109128.0, 54718.0, 54718.0, 60665.0, 43010.0, 103930.0, 268046.0, 357266.0, 382654.0, 348412.0, 158.0, 147946.0, 2479.0, 324.0, 867.0, 867.0, 58997.0, 191388.0, 222311.0, 78365.0, 386474.0, 58997.0, 341085.0, 373317.0, 218659.0, 88126.0, 218659.0, 54718.0, 45794.0, 60665.0, 151986.0, 151349.0, 357266.0, 226666.0, 226666.0, 357266.0, 357266.0, 192973.0, 192973.0, 54718.0, 188838.0, 152427.0, 114619.0, 380537.0, 388711.0, 388711.0, 388711.0, 193716.0, 192973.0, 229835.0, 268046.0, 248009.0, 226410.0, 288326.0, 54718.0, 384892.0, 57951.0, 57951.0, 357266.0, 357266.0, 58997.0, 148741.0, 78365.0, 54718.0, 174642.0, 54273.0, 142331.0, 91230.0, 360915.0, 44801.0, 452.0, 246493.0, 54718.0, 303936.0, 43010.0, 387138.0, 300364.0, 268046.0, 262671.0, 388711.0, 372421.0, 153800.0, 268046.0, 303943.0, 303943.0, 303943.0, 103930.0, 192973.0, 54273.0, 54273.0, 148538.0, 218659.0, 452.0, 386474.0, 192973.0, 340197.0, 269798.0, 357266.0, 348412.0, 268046.0, 357266.0, 382654.0, 54718.0, 325966.0, 388747.0, 388747.0, 358160.0, 218659.0, 52520.0, 137510.0, 357266.0, 348406.0, 306409.0, 268046.0, 268046.0, 47889.0, 343723.0, 188025.0, 452.0, 384485.0, 452.0, 148728.0, 122455.0, 452.0, 98019.0, 54718.0, 54718.0, 226666.0, 192973.0, 54273.0, 142727.0, 223475.0, 246721.0, 386474.0, 192973.0, 190199.0, 191811.0, 357266.0, 357266.0, 380537.0, 54718.0, 113864.0, 388747.0, 388747.0, 342333.0, 302567.0, 58997.0, 58997.0, 191811.0, 180526.0, 129382.0, 188481.0, 357266.0, 142644.0, 338150.0, 382654.0, 360915.0, 107425.0, 357266.0, 382654.0, 143038.0, 360915.0, 193919.0, 69709.0, 867.0], [384374.0, 174642.0, 122450.0, 43010.0, 350373.0, 452.0, 297158.0, 371429.0, 268046.0, 43010.0, 339034.0, 292794.0, 42867.0, 357266.0, 121839.0, 268046.0, 268046.0, 372148.0, 372148.0, 87775.0, 272881.0, 306717.0, 52520.0, 57855.0, 360915.0, 357266.0, 121839.0, 268046.0, 272583.0, 356824.0, 356824.0, 357640.0, 174032.0, 71814.0, 43010.0, 364707.0, 363080.0, 74352.0, 54718.0, 46136.0, 205850.0, 158.0, 132176.0, 452.0, 130866.0, 54718.0, 221201.0, 452.0, 17698.0, 42950.0, 42950.0, 54718.0, 54718.0, 452.0, 17717.0, 42950.0, 220059.0, 140185.0, 50256.0, 452.0, 17721.0, 42950.0, 388575.0, 140185.0, 50256.0, 452.0, 17708.0, 324.0, 867.0, 249714.0, 268345.0, 357109.0, 264550.0, 452.0, 358462.0, 452.0, 190461.0, 122511.0, 58997.0, 43010.0, 149340.0, 107855.0, 188481.0, 357266.0, 121839.0, 268046.0, 43010.0, 43010.0, 250392.0, 374205.0, 58997.0, 368717.0, 269798.0, 357266.0, 205845.0, 357212.0, 90233.0, 388711.0, 357354.0, 357354.0, 358452.0, 205850.0, 174642.0, 47006.0, 452.0, 222713.0, 54718.0, 54718.0, 357266.0, 357266.0, 357212.0, 250392.0, 362894.0, 205850.0, 306173.0, 360915.0, 302170.0, 265568.0, 54718.0, 91339.0, 220962.0, 192973.0, 62065.0, 357266.0, 311222.0, 268046.0, 121839.0, 188389.0, 384374.0, 293582.0, 188481.0, 358160.0, 358160.0, 386424.0, 121856.0, 325776.0, 452.0, 193716.0, 192973.0, 379893.0, 360915.0, 71090.0, 64317.0, 268046.0, 357266.0, 149340.0, 107856.0, 268046.0, 43010.0, 350362.0, 54718.0, 360915.0, 357412.0, 150791.0, 269798.0, 357266.0, 61428.0, 268046.0, 43010.0, 325758.0, 153.0, 121839.0, 357212.0, 90548.0, 71090.0, 71090.0, 231552.0, 96737.0, 360915.0, 190461.0, 117493.0, 188481.0, 358160.0, 384122.0, 192973.0, 43010.0, 97698.0, 452.0, 297632.0, 54718.0, 132683.0, 384122.0, 360915.0, 188386.0, 374186.0, 142808.0, 867.0], [867.0, 312174.0, 293913.0, 159426.0, 351935.0, 189767.0, 154323.0, 81562.0, 390557.0, 54718.0, 247220.0, 46008.0, 180032.0, 259585.0, 158.0, 232916.0, 324.0, 312174.0, 293913.0, 452.0, 386474.0, 51582.0, 327482.0, 105990.0, 222713.0, 452.0, 346373.0, 60665.0, 67953.0, 452.0, 290159.0, 54718.0, 54718.0, 54718.0, 268345.0, 327482.0, 357266.0, 316998.0, 48971.0, 60665.0, 60665.0, 452.0, 188481.0, 357212.0, 357810.0, 388583.0, 360915.0, 312160.0, 117493.0, 154323.0, 233708.0, 325052.0, 360915.0, 43010.0, 332395.0, 332395.0, 182573.0, 452.0, 452.0, 58997.0, 264180.0, 107670.0, 360915.0, 71090.0, 342043.0, 54718.0, 336114.0, 357266.0, 61722.0, 312174.0, 293913.0, 58997.0, 268345.0, 370636.0, 360915.0, 108724.0, 188481.0, 43010.0, 247220.0, 320240.0, 42972.0, 4961.0, 42974.0, 867.0, 52645.0, 452.0, 232916.0, 293913.0, 58997.0, 121851.0, 360915.0, 71090.0, 44493.0, 360915.0, 108724.0, 388711.0, 357266.0, 247243.0, 268046.0, 262551.0, 452.0, 182573.0, 357810.0, 48971.0, 360915.0, 52067.0, 137004.0, 106043.0, 360915.0, 267452.0, 74651.0, 57170.0, 368321.0, 262551.0, 42972.0, 15341.0, 42974.0, 867.0, 358160.0, 143109.0, 155217.0, 192973.0, 268345.0, 264550.0, 306174.0, 88126.0, 88126.0, 54718.0, 336114.0, 357266.0, 46224.0, 273694.0, 192973.0, 192973.0, 105586.0, 388711.0, 357266.0, 178401.0, 274872.0, 120127.0, 301076.0, 54718.0, 226394.0, 119907.0, 357212.0, 58997.0, 120337.0, 88126.0, 136334.0, 57840.0, 452.0, 357266.0, 186348.0, 312174.0, 337176.0, 151349.0, 43010.0, 43010.0, 192973.0, 269953.0, 357212.0, 90548.0, 172590.0, 357266.0, 247243.0, 268046.0, 262551.0, 54718.0, 52074.0, 117493.0, 360915.0, 71090.0, 152225.0, 154323.0, 357266.0, 325052.0, 360915.0, 357266.0, 332588.0, 188481.0, 43010.0, 305039.0, 54718.0, 359961.0, 359961.0, 358160.0, 325899.0, 268046.0, 306176.0, 231458.0, 357266.0, 292794.0, 268046.0, 312174.0, 188481.0, 43010.0, 43010.0, 43010.0, 372148.0, 96372.0, 452.0, 386474.0, 387696.0, 306173.0, 259972.0, 339035.0, 121851.0, 121851.0, 151349.0, 358160.0, 302476.0, 357640.0, 174642.0, 71814.0, 233708.0, 312174.0, 293913.0, 121851.0, 151349.0, 151349.0, 60665.0, 346373.0, 452.0, 358160.0, 323165.0, 387696.0, 162051.0, 54273.0, 274006.0, 268046.0, 357266.0, 113946.0, 223718.0, 452.0, 386474.0, 178621.0, 357266.0, 123767.0, 354635.0, 54718.0, 106001.0, 374168.0, 293913.0, 188481.0, 188481.0, 312174.0, 867.0], [357266.0, 220336.0, 133896.0, 192973.0, 52879.0, 188273.0, 188481.0, 188481.0, 336114.0, 384374.0, 192125.0, 357266.0, 220336.0, 121162.0, 268046.0, 135212.0, 364123.0, 293518.0, 188481.0, 228908.0, 88126.0, 188949.0, 357266.0, 265557.0, 268046.0, 91787.0, 372170.0, 95005.0, 188481.0, 357266.0, 320190.0, 320190.0, 177231.0, 384374.0, 291753.0, 357266.0, 364123.0, 306717.0, 386424.0, 357266.0, 265568.0, 268046.0, 91787.0, 372170.0, 95005.0, 188481.0, 357266.0, 320190.0, 304237.0, 58997.0, 4961.0, 54718.0, 8172.0, 452.0, 386474.0, 58997.0, 89857.0, 228922.0, 54718.0, 228935.0, 452.0, 452.0, 357266.0, 357266.0, 97027.0, 330028.0, 188481.0, 147946.0, 147946.0, 384374.0, 90548.0, 323337.0, 357212.0, 357266.0, 217449.0, 303236.0, 301048.0, 343257.0, 90548.0, 71090.0, 267267.0, 192886.0, 268046.0, 357266.0, 220336.0, 268046.0, 268046.0, 358160.0, 192973.0, 130319.0, 360915.0, 357266.0, 143954.0, 357212.0, 357266.0, 135212.0, 364123.0, 293518.0, 151349.0, 228908.0, 58997.0, 231117.0, 122191.0, 88126.0, 357266.0, 277597.0, 268046.0, 357266.0, 399690.0, 54718.0, 54718.0, 54718.0, 268046.0, 219577.0, 54718.0, 308561.0, 308561.0, 308561.0, 306717.0, 189161.0, 357212.0, 357266.0, 220345.0, 268046.0, 357266.0, 368321.0, 278085.0, 188481.0, 357266.0, 320190.0, 304268.0, 174642.0, 262350.0, 47498.0, 269798.0, 357266.0, 297108.0, 97097.0, 364123.0, 188481.0, 228908.0, 867.0], [43010.0, 43010.0, 247378.0, 291292.0, 108302.0, 242245.0, 192973.0, 293583.0, 151349.0, 43010.0, 108161.0, 108161.0, 302203.0, 158.0, 158.0, 324.0, 867.0, 188481.0, 358160.0, 276859.0, 276859.0, 155709.0, 247378.0, 192973.0, 374168.0, 360915.0, 57949.0, 357266.0, 342043.0, 263650.0, 97027.0, 268046.0, 172287.0, 247378.0, 452.0, 54718.0, 43010.0, 222960.0, 63718.0, 247378.0, 192973.0, 374168.0, 360915.0, 337189.0, 357266.0, 306717.0, 268046.0, 270888.0, 270888.0, 357266.0, 121851.0, 263650.0, 291292.0, 108316.0, 374253.0, 172287.0, 247378.0, 231458.0, 164328.0, 374163.0, 268046.0, 357266.0, 44430.0, 268046.0, 372227.0, 57920.0, 263650.0, 268046.0, 268046.0, 247378.0, 452.0, 54718.0, 126020.0, 357266.0, 297566.0, 268046.0, 263650.0, 291292.0, 108302.0, 191811.0, 357266.0, 263650.0, 247378.0, 247378.0, 54718.0, 357266.0, 297566.0, 268046.0, 222960.0, 291292.0, 291292.0, 357266.0, 57836.0, 306717.0, 268046.0, 268046.0, 292848.0, 329974.0, 357266.0, 293583.0, 108302.0, 242245.0, 174032.0, 164328.0, 108302.0, 281311.0, 106190.0, 360915.0, 284297.0, 108316.0, 867.0], [357266.0, 142644.0, 163237.0, 242259.0, 51274.0, 192973.0, 357589.0, 452.0, 54718.0, 173236.0, 360915.0, 337189.0, 388711.0, 388711.0, 188481.0, 358160.0, 276859.0, 452.0, 384374.0, 306262.0, 43010.0, 259972.0, 242245.0, 360915.0, 160418.0, 357266.0, 305038.0, 268046.0, 350362.0, 69725.0, 269798.0, 163237.0, 163237.0, 45217.0, 360915.0, 337259.0, 293518.0, 268046.0, 357266.0, 270631.0, 188481.0, 163237.0, 97296.0, 452.0, 163237.0, 97296.0, 90548.0, 71090.0, 363928.0, 191811.0, 325550.0, 344936.0, 452.0, 357412.0, 357266.0, 245246.0, 278684.0, 325966.0, 58997.0, 189388.0, 69725.0, 269798.0, 138073.0, 242245.0, 154323.0, 148908.0, 270630.0, 360915.0, 217787.0, 217787.0, 193716.0, 192973.0, 377946.0, 108368.0, 151349.0, 106518.0, 360915.0, 89632.0, 357266.0, 350362.0, 305038.0, 388711.0, 357266.0, 259972.0, 242245.0, 69725.0, 269798.0, 245246.0, 278684.0, 278684.0, 357266.0, 93018.0, 345195.0, 189163.0, 357266.0, 242245.0, 192973.0, 346829.0, 151349.0, 290454.0, 137410.0, 452.0, 386474.0, 90548.0, 71090.0, 374168.0, 360915.0, 289428.0, 357266.0, 297167.0, 54431.0, 268046.0, 106337.0, 163237.0, 242259.0, 247396.0, 867.0], [867.0, 367436.0, 125373.0, 268345.0, 107692.0, 268046.0, 277166.0, 452.0, 357212.0, 239197.0, 239197.0, 260830.0, 69725.0, 69725.0, 337305.0, 452.0, 277297.0, 335129.0, 147202.0, 278011.0, 90548.0, 71090.0, 188837.0, 188481.0, 357761.0, 125373.0, 357212.0, 237383.0, 118964.0, 357266.0, 239291.0, 239291.0, 151349.0, 358160.0, 302476.0, 452.0, 188481.0, 93018.0, 268046.0, 43010.0, 348723.0, 125373.0, 58997.0, 360915.0, 71090.0, 54426.0, 388711.0, 306501.0, 360915.0, 147202.0, 147202.0, 357761.0, 188842.0, 159435.0, 43010.0, 230423.0, 120991.0, 386474.0, 90548.0, 71090.0, 239228.0, 88126.0, 43010.0, 150594.0, 158226.0, 230439.0, 374253.0, 357266.0, 230423.0, 305169.0, 242245.0, 42972.0, 2479.0, 42974.0, 867.0, 357266.0, 122155.0, 292407.0, 268046.0, 147202.0, 188432.0, 188481.0, 263142.0, 242055.0, 236514.0, 192973.0, 69725.0, 269798.0, 357354.0, 357354.0, 71895.0, 346373.0, 43010.0, 239230.0, 90548.0, 71090.0, 92687.0, 272930.0, 452.0, 357266.0, 357266.0, 367436.0, 125373.0, 58997.0, 58997.0, 188481.0, 64444.0, 64444.0, 60665.0, 147202.0, 236514.0, 329974.0, 357266.0, 385282.0, 185270.0, 72028.0, 452.0, 358452.0, 236514.0, 90548.0, 71090.0, 230426.0, 88126.0, 43010.0, 344851.0, 230423.0, 147810.0, 386474.0, 129458.0, 357266.0, 230423.0, 236496.0, 191811.0, 191811.0, 386424.0, 305359.0, 357266.0, 230423.0, 147810.0, 452.0, 357266.0, 305169.0, 192973.0, 192973.0, 358160.0, 305157.0, 150594.0, 120991.0, 192973.0, 374168.0, 360915.0, 122150.0, 357388.0, 188481.0, 263142.0, 236514.0, 867.0], [384374.0, 293582.0, 54273.0, 138656.0, 247378.0, 357212.0, 52074.0, 360915.0, 54443.0, 357266.0, 225334.0, 188025.0, 268046.0, 357266.0, 135124.0, 234840.0, 121839.0, 269798.0, 364051.0, 222946.0, 142731.0, 88126.0, 357266.0, 304387.0, 54718.0, 192143.0, 188481.0, 159439.0, 91249.0, 88126.0, 292572.0, 148889.0, 188481.0, 221695.0, 135124.0, 135124.0, 357266.0, 247378.0, 188931.0, 192143.0, 118793.0, 268046.0, 357266.0, 364051.0, 350362.0, 270630.0, 54718.0, 292572.0, 148889.0, 188481.0, 142756.0, 268046.0, 54273.0, 54273.0, 234840.0, 54718.0, 54718.0, 54718.0, 188481.0, 123767.0, 339037.0, 384374.0, 107661.0, 357266.0, 93054.0, 268046.0, 269953.0, 381332.0, 252664.0, 292127.0, 398005.0, 158.0, 234840.0, 339816.0, 324.0, 54718.0, 54443.0, 123767.0, 57924.0, 360915.0, 303180.0, 259585.0, 259585.0, 278014.0, 227560.0, 347147.0, 452.0, 159439.0, 91249.0, 69725.0, 452.0, 54718.0, 137256.0, 69725.0, 69725.0, 188481.0, 271173.0, 360915.0, 106189.0, 357266.0, 273008.0, 268046.0, 272881.0, 252620.0, 234840.0, 247378.0, 388711.0, 43010.0, 148908.0, 74390.0, 73005.0, 452.0, 384374.0, 52520.0, 337189.0, 357266.0, 109527.0, 190959.0, 286119.0, 286119.0, 374253.0, 368321.0, 356531.0, 259595.0, 384374.0, 187518.0, 357212.0, 357212.0, 234865.0, 90548.0, 218947.0, 360915.0, 346015.0, 224616.0, 118793.0, 151349.0, 159439.0, 91249.0, 54718.0, 359056.0, 188256.0, 142364.0, 259585.0, 259585.0, 234840.0, 339816.0, 175375.0, 357761.0, 292803.0, 270201.0, 270201.0, 357761.0, 306717.0, 58997.0, 375430.0, 151349.0, 51582.0, 107670.0, 368687.0, 268046.0, 259585.0, 353361.0, 452.0, 52673.0, 192143.0, 334693.0, 123787.0, 45776.0, 358452.0, 304224.0, 867.0], [188481.0, 292066.0, 294771.0, 357266.0, 291753.0, 63534.0, 293583.0, 43010.0, 242245.0, 360915.0, 188929.0, 357266.0, 357706.0, 268046.0, 356218.0, 52078.0, 54718.0, 223475.0, 223475.0, 336992.0, 207791.0, 191811.0, 43010.0, 252654.0, 380844.0, 63975.0, 336992.0, 247378.0, 42972.0, 42972.0, 42974.0, 867.0, 65680.0, 123811.0, 383514.0, 383514.0, 43010.0, 384122.0, 360915.0, 45107.0, 357266.0, 357703.0, 117493.0, 158.0, 132176.0, 132176.0, 42972.0, 2479.0, 42974.0, 324.0, 358802.0, 43010.0, 351174.0, 54718.0, 191567.0, 293158.0, 193060.0, 158.0, 188481.0, 333183.0, 46136.0, 351174.0, 324.0, 383514.0, 383514.0, 388711.0, 357266.0, 193060.0, 57920.0, 193716.0, 192973.0, 289446.0, 360915.0, 281307.0, 54273.0, 270193.0, 89824.0, 268046.0, 357266.0, 357703.0, 117493.0, 54718.0, 363350.0, 357266.0, 151761.0, 268046.0, 132276.0, 189262.0, 336968.0, 283048.0, 158.0, 292261.0, 452.0, 452.0, 452.0, 141635.0, 452.0, 140214.0, 324.0, 867.0, 60665.0, 357266.0, 265557.0, 268046.0, 89943.0, 268046.0, 357266.0, 357703.0, 117493.0, 192973.0, 138590.0, 360915.0, 357266.0, 292984.0, 268046.0, 357266.0, 265557.0, 268046.0, 357266.0, 125143.0, 380844.0, 135310.0, 452.0, 357266.0, 359889.0, 342882.0, 54718.0, 357266.0, 89638.0, 193853.0, 281063.0, 359889.0, 342773.0, 452.0, 357266.0, 89638.0, 71586.0, 71586.0, 357645.0, 452.0, 357266.0, 113946.0, 247378.0, 192973.0, 43010.0, 247473.0, 268046.0, 357266.0, 292066.0, 247378.0, 374253.0, 43010.0, 222964.0, 283048.0, 123144.0, 452.0, 54718.0, 262350.0, 270193.0, 89824.0, 268046.0, 357703.0, 117493.0, 192973.0, 192973.0, 188481.0, 46223.0, 452.0, 357266.0, 247378.0, 291763.0, 188481.0, 358160.0, 276859.0, 192973.0, 143026.0, 360915.0, 107661.0, 357266.0, 65680.0, 123811.0, 191811.0, 357266.0, 357266.0, 388711.0, 357761.0, 247474.0, 452.0, 357266.0, 247378.0, 90548.0, 71090.0, 374168.0, 360915.0, 281307.0, 93403.0, 292848.0, 332181.0, 388711.0, 188930.0, 155017.0, 155017.0, 336992.0, 207791.0, 151349.0, 356218.0, 52078.0, 62065.0, 43010.0, 302477.0, 106511.0, 109891.0, 867.0], [323224.0, 193642.0, 268046.0, 117493.0, 182158.0, 188481.0, 43010.0, 103135.0, 106547.0, 294047.0, 305151.0, 178261.0, 323432.0, 142364.0, 234860.0, 357212.0, 219383.0, 360915.0, 43010.0, 362776.0, 372707.0, 378761.0, 268046.0, 103135.0, 106547.0, 106547.0, 52673.0, 103135.0, 106547.0, 174032.0, 264550.0, 393705.0, 302173.0, 357266.0, 221115.0, 268046.0, 236968.0, 142758.0, 88126.0, 193919.0, 114142.0, 452.0, 54718.0, 357212.0, 357266.0, 292803.0, 268046.0, 107098.0, 452.0, 190977.0, 452.0, 305038.0, 54718.0, 107699.0, 158.0, 101439.0, 324.0, 58997.0, 343257.0, 270501.0, 452.0, 357266.0, 306268.0, 188481.0, 358160.0, 147810.0, 174642.0, 52477.0, 107670.0, 43010.0, 155653.0, 103135.0, 344327.0, 386474.0, 49003.0, 42867.0, 43010.0, 74597.0, 296908.0, 452.0, 305038.0, 54718.0, 178401.0, 63821.0, 452.0, 193716.0, 192973.0, 357266.0, 357266.0, 452.0, 103135.0, 268046.0, 103153.0, 270970.0, 270970.0, 276859.0, 387696.0, 291753.0, 357266.0, 323224.0, 222713.0, 188481.0, 357266.0, 332395.0, 103135.0, 54718.0, 357266.0, 374176.0, 268046.0, 46785.0, 301000.0, 301000.0, 344327.0, 360915.0, 303660.0, 323224.0, 309193.0, 452.0, 358802.0, 357266.0, 374163.0, 268046.0, 268046.0, 386474.0, 192973.0, 43010.0, 379651.0, 343855.0, 350362.0, 357212.0, 137814.0, 74597.0, 63821.0, 54718.0, 178401.0, 107098.0, 268046.0, 117493.0, 867.0], [43010.0, 121839.0, 242245.0, 151349.0, 259585.0, 62641.0, 54718.0, 119296.0, 332179.0, 286278.0, 192973.0, 125162.0, 188481.0, 358160.0, 358160.0, 148978.0, 357266.0, 106381.0, 54718.0, 155211.0, 268046.0, 357266.0, 286278.0, 58997.0, 58997.0, 357412.0, 379789.0, 323025.0, 122455.0, 242245.0, 192973.0, 374168.0, 360915.0, 107871.0, 357266.0, 379651.0, 259585.0, 259585.0, 357266.0, 277902.0, 268046.0, 379651.0, 259585.0, 362215.0, 192973.0, 52520.0, 306266.0, 54718.0, 357266.0, 304969.0, 150400.0, 328003.0, 192973.0, 192973.0, 217810.0, 54273.0, 142283.0, 192973.0, 92687.0, 272930.0, 360915.0, 356531.0, 281311.0, 268046.0, 357266.0, 357266.0, 332179.0, 306717.0, 329974.0, 357266.0, 133902.0, 268046.0, 357266.0, 293583.0, 242245.0, 867.0], [302802.0, 452.0, 43010.0, 259585.0, 379655.0, 354662.0, 174032.0, 62801.0, 107663.0, 62719.0, 60665.0, 269953.0, 268046.0, 259972.0, 159439.0, 259585.0, 259585.0, 188481.0, 358160.0, 276859.0, 452.0, 188481.0, 271173.0, 360915.0, 281624.0, 357266.0, 300602.0, 96751.0, 151349.0, 43010.0, 362215.0, 268046.0, 43010.0, 379651.0, 259585.0, 452.0, 384374.0, 293582.0, 43010.0, 259972.0, 379651.0, 259585.0, 107878.0, 242245.0, 69725.0, 269798.0, 357266.0, 329791.0, 278684.0, 278684.0, 188481.0, 272881.0, 293583.0, 242245.0, 452.0, 62065.0, 148908.0, 452.0, 43010.0, 325758.0, 294047.0, 302796.0, 43010.0, 374186.0, 153.0, 306161.0, 151349.0, 357266.0, 303072.0, 268046.0, 357266.0, 107873.0, 379651.0, 379651.0, 188481.0, 358160.0, 93018.0, 452.0, 357266.0, 325758.0, 294047.0, 303076.0, 357266.0, 362215.0, 268046.0, 357266.0, 107873.0, 379651.0, 259585.0, 300612.0, 69725.0, 269798.0, 329791.0, 278684.0, 278684.0, 384374.0, 141702.0, 357266.0, 281311.0, 268046.0, 272881.0, 293583.0, 242245.0, 388711.0, 332179.0, 452.0, 54718.0, 384374.0, 329974.0, 357266.0, 133902.0, 268046.0, 272881.0, 293583.0, 242245.0, 867.0], [357266.0, 142919.0, 304967.0, 305946.0, 188481.0, 357266.0, 286799.0, 237383.0, 71090.0, 374168.0, 360915.0, 108425.0, 357266.0, 123627.0, 375636.0, 360915.0, 49059.0, 380532.0, 375636.0, 60665.0, 291733.0, 188481.0, 292066.0, 345173.0, 42972.0, 42972.0, 42974.0, 867.0, 357266.0, 44964.0, 279143.0, 106400.0, 281632.0, 303666.0, 452.0, 52318.0, 388711.0, 357266.0, 303940.0, 104363.0, 452.0, 60665.0, 357266.0, 380847.0, 293570.0, 268046.0, 49059.0, 188948.0, 60665.0, 106190.0, 360915.0, 357266.0, 305157.0, 305157.0, 182573.0, 452.0, 357266.0, 242245.0, 305056.0, 269798.0, 54273.0, 136598.0, 149139.0, 452.0, 122191.0, 269798.0, 43010.0, 93021.0, 69895.0, 452.0, 332240.0, 357266.0, 281632.0, 268046.0, 357266.0, 305157.0, 106384.0, 121169.0, 269798.0, 357266.0, 246670.0, 121839.0, 158.0, 48094.0, 368669.0, 452.0, 76276.0, 108067.0, 452.0, 140214.0, 324.0, 867.0, 225289.0, 356157.0, 345173.0, 188481.0, 148569.0, 106804.0, 357212.0, 358160.0, 136598.0, 149139.0, 192973.0, 54273.0, 142919.0, 304966.0, 42972.0, 2479.0, 42974.0, 867.0, 357266.0, 142919.0, 149171.0, 452.0, 374253.0, 43010.0, 346608.0, 53974.0, 268046.0, 109128.0, 452.0, 90548.0, 71090.0, 374168.0, 360915.0, 233795.0, 357266.0, 49059.0, 380532.0, 108067.0, 376116.0, 188481.0, 43010.0, 332008.0, 233320.0, 360915.0, 357266.0, 123627.0, 233857.0, 330028.0, 188481.0, 147946.0, 147946.0, 270201.0, 26559.0, 109128.0, 385664.0, 146125.0, 130319.0, 360915.0, 376147.0, 143995.0, 192214.0, 388711.0, 356585.0, 357266.0, 148339.0, 222238.0, 268046.0, 54273.0, 188535.0, 188535.0, 249714.0, 109128.0, 58997.0, 258454.0, 151349.0, 249714.0, 341045.0, 142919.0, 104364.0, 452.0, 52673.0, 357266.0, 222715.0, 109128.0, 329974.0, 357212.0, 357266.0, 291288.0, 304967.0, 58997.0, 332008.0, 151349.0, 357266.0, 239228.0, 123627.0, 300364.0, 188481.0, 358160.0, 358160.0, 332240.0, 81562.0, 304332.0, 291284.0, 49059.0, 380532.0, 108067.0, 62065.0, 43010.0, 237347.0, 123763.0, 268046.0, 1948.0, 41.0, 452.0, 386474.0, 192973.0, 388747.0, 357266.0, 370908.0, 268046.0, 357266.0, 109103.0, 239230.0, 291189.0, 268046.0, 1970.0, 41.0, 452.0, 374163.0, 268046.0, 134678.0, 357266.0, 190165.0, 270970.0, 305817.0, 313329.0, 304331.0, 291291.0, 58997.0, 57927.0, 867.0], [56041.0, 305181.0, 146154.0, 268046.0, 357266.0, 297180.0, 147810.0, 364480.0, 90548.0, 71090.0, 307134.0, 154323.0, 357266.0, 192129.0, 268046.0, 357266.0, 374977.0, 374977.0, 151349.0, 43010.0, 102223.0, 147810.0, 452.0, 374977.0, 192973.0, 302344.0, 88126.0, 332148.0, 325991.0, 357266.0, 289872.0, 360915.0, 396799.0, 306716.0, 188481.0, 54273.0, 370696.0, 452.0, 153443.0, 142048.0, 268046.0, 357266.0, 278008.0, 153.0, 286068.0, 384039.0, 158.0, 158.0, 324.0, 867.0, 188481.0, 357266.0, 297173.0, 364480.0, 452.0, 374977.0, 192973.0, 306009.0, 88126.0, 54273.0, 190165.0, 150783.0, 341956.0, 341956.0, 386474.0, 343257.0, 191147.0, 388711.0, 357266.0, 278008.0, 54718.0, 393813.0, 60665.0, 148339.0, 341956.0, 341956.0, 72057.0, 357266.0, 147810.0, 304237.0, 158.0, 13507.0, 324.0, 324.0, 388711.0, 43010.0, 283681.0, 142368.0, 292765.0, 158.0, 17044.0, 324.0, 274607.0, 452.0, 452.0, 1.0, 1.0, 357266.0, 278008.0, 359056.0, 363911.0, 137256.0, 360915.0, 357266.0, 374977.0, 147810.0, 218977.0, 360915.0, 43010.0, 43010.0, 125815.0, 148339.0, 283681.0, 283681.0, 220870.0, 153.0, 107661.0, 452.0, 151349.0, 142283.0, 452.0, 43010.0, 347828.0, 306464.0, 101460.0, 60665.0, 338227.0, 268046.0, 357266.0, 357266.0, 357266.0, 230423.0, 147810.0, 52318.0, 357266.0, 64465.0, 268046.0, 43010.0, 293514.0, 327399.0, 104636.0, 192973.0, 385218.0, 57950.0, 88126.0, 357266.0, 303225.0, 303225.0, 43010.0, 278008.0, 388711.0, 43010.0, 230423.0, 124673.0, 248238.0, 278423.0, 358802.0, 357266.0, 104636.0, 357412.0, 191147.0, 388711.0, 357266.0, 101460.0, 54718.0, 142399.0, 193716.0, 388711.0, 43010.0, 239224.0, 225967.0, 268046.0, 207789.0, 137256.0, 141816.0, 186645.0, 357266.0, 101460.0, 192973.0, 190178.0, 370925.0, 54718.0, 357640.0, 192973.0, 102225.0, 262350.0, 147810.0, 193716.0, 90548.0, 110481.0, 110481.0, 357266.0, 283144.0, 357212.0, 374977.0, 188481.0, 297180.0, 147810.0, 357607.0, 126848.0, 264550.0, 239170.0, 360915.0, 399931.0, 262350.0, 189767.0, 399936.0, 60665.0, 209675.0, 154323.0, 93106.0, 151421.0, 270970.0, 216334.0, 328652.0, 192973.0, 102496.0, 379782.0, 177231.0, 60665.0, 385218.0, 867.0], [188481.0, 358160.0, 276859.0, 452.0, 358549.0, 123767.0, 57924.0, 151349.0, 188224.0, 43010.0, 297180.0, 322769.0, 51274.0, 88126.0, 46462.0, 142048.0, 58997.0, 58997.0, 60665.0, 142758.0, 452.0, 134678.0, 269953.0, 268046.0, 357388.0, 90548.0, 294037.0, 43010.0, 296995.0, 339147.0, 373317.0, 60665.0, 270811.0, 360915.0, 357266.0, 102223.0, 322769.0, 322769.0, 358160.0, 188242.0, 357212.0, 46462.0, 142048.0, 69725.0, 297180.0, 106511.0, 162064.0, 249714.0, 249714.0, 357109.0, 357266.0, 297180.0, 101460.0, 247378.0, 452.0, 52673.0, 357266.0, 138696.0, 74651.0, 357388.0, 174032.0, 52477.0, 71814.0, 294010.0, 188481.0, 357266.0, 109527.0, 223718.0, 867.0], [302802.0, 452.0, 155243.0, 158.0, 158.0, 293520.0, 324.0, 306262.0, 269798.0, 192323.0, 102271.0, 184727.0, 174032.0, 142810.0, 305181.0, 167701.0, 452.0, 278020.0, 273428.0, 357266.0, 217787.0, 355617.0, 393335.0, 42972.0, 42972.0, 42974.0, 867.0, 292067.0, 452.0, 71956.0, 388711.0, 357266.0, 148908.0, 276859.0, 269798.0, 373211.0, 184727.0, 268046.0, 268046.0, 316680.0, 188481.0, 14067.0, 42972.0, 23802.0, 42974.0, 452.0, 43010.0, 265557.0, 268046.0, 345173.0, 110156.0, 71090.0, 152393.0, 269798.0, 192323.0, 102271.0, 184727.0, 158.0, 177234.0, 452.0, 452.0, 184727.0, 324.0, 42972.0, 42972.0, 42974.0, 71895.0, 357266.0, 372007.0, 356200.0, 356200.0, 184725.0, 383514.0, 159426.0, 159426.0, 159426.0, 184727.0, 174642.0, 71814.0, 62802.0, 188947.0, 62719.0, 71494.0, 268046.0, 357354.0, 293358.0, 57840.0, 60665.0, 283048.0, 96721.0, 236514.0, 151349.0, 304059.0, 350396.0, 54718.0, 188481.0, 158016.0, 91590.0, 54718.0, 343855.0, 42972.0, 42972.0, 42974.0, 867.0, 188481.0, 46223.0, 452.0, 357640.0, 192973.0, 191290.0, 339120.0, 357212.0, 357212.0, 184725.0, 237383.0, 71090.0, 304136.0, 60665.0, 43010.0, 306005.0, 346166.0, 151349.0, 357266.0, 345195.0, 268046.0, 357682.0, 106975.0, 188481.0, 102271.0, 184725.0, 188481.0, 188481.0, 358160.0, 192973.0, 71494.0, 42867.0, 158.0, 2479.0, 324.0, 193716.0, 90548.0, 303660.0, 97028.0, 292803.0, 60665.0, 43010.0, 336968.0, 317178.0, 452.0, 332240.0, 332240.0, 184725.0, 192973.0, 151772.0, 59937.0, 53278.0, 355520.0, 371152.0, 62464.0, 291876.0, 54718.0, 192973.0, 132683.0, 360915.0, 172590.0, 42950.0, 158.0, 15341.0, 324.0, 45291.0, 239236.0, 357266.0, 357682.0, 106975.0, 268046.0, 268046.0, 184727.0, 452.0, 386474.0, 174642.0, 233708.0, 332013.0, 360915.0, 102271.0, 184727.0, 452.0, 237383.0, 231458.0, 289446.0, 43010.0, 119163.0, 371429.0, 268046.0, 357266.0, 372148.0, 158.0, 55999.0, 324.0, 72020.0, 268046.0, 357266.0, 357682.0, 106975.0, 268046.0, 102271.0, 184727.0, 42950.0, 54718.0, 158.0, 21828.0, 324.0, 113951.0, 452.0, 357640.0, 58997.0, 262350.0, 142820.0, 345173.0, 269798.0, 357266.0, 357682.0, 106975.0, 268046.0, 268046.0, 184727.0, 867.0], [358160.0, 283048.0, 383514.0, 106328.0, 188481.0, 188481.0, 292066.0, 108212.0, 170714.0, 71814.0, 292925.0, 388711.0, 357266.0, 108210.0, 294051.0, 357266.0, 122129.0, 122129.0, 151349.0, 358160.0, 350362.0, 357266.0, 121839.0, 383514.0, 371453.0, 88126.0, 250686.0, 250686.0, 193716.0, 383514.0, 122450.0, 88126.0, 225644.0, 62065.0, 357266.0, 350396.0, 190724.0, 292067.0, 54718.0, 89636.0, 386307.0, 383514.0, 45929.0, 306174.0, 360915.0, 45457.0, 93807.0, 293810.0, 268046.0, 357266.0, 357266.0, 358160.0, 306715.0, 188481.0, 43010.0, 331417.0, 303676.0, 188481.0, 357266.0, 265557.0, 268046.0, 398005.0, 54718.0, 248624.0, 248624.0, 357266.0, 376237.0, 53977.0, 268046.0, 342368.0, 188481.0, 357266.0, 71193.0, 170714.0, 292067.0, 218947.0, 360915.0, 373317.0, 360915.0, 30387.0, 398005.0, 281063.0, 71177.0, 452.0, 388711.0, 252664.0, 218662.0, 268046.0, 241741.0, 360915.0, 45457.0, 357266.0, 121839.0, 113946.0, 113946.0, 269798.0, 307253.0, 268046.0, 357266.0, 117493.0, 357266.0, 270616.0, 113946.0, 120991.0, 383514.0, 332008.0, 188481.0, 51582.0, 398005.0, 54718.0, 336114.0, 358160.0, 383514.0, 303661.0, 360915.0, 43010.0, 332395.0, 397999.0, 281063.0, 281063.0, 357266.0, 136829.0, 383514.0, 348666.0, 360915.0, 61508.0, 54718.0, 107995.0, 289455.0, 355901.0, 54718.0, 336114.0, 193716.0, 383514.0, 118743.0, 360915.0, 374163.0, 43010.0, 156940.0, 350362.0, 69725.0, 269798.0, 269798.0, 94420.0, 55969.0, 154323.0, 154323.0, 272881.0, 121839.0, 123517.0, 264550.0, 188836.0, 54273.0, 270921.0, 360915.0, 52067.0, 121220.0, 268046.0, 357266.0, 156940.0, 350362.0, 452.0, 87775.0, 357266.0, 108210.0, 348207.0, 269953.0, 452.0, 346373.0, 357212.0, 357266.0, 55969.0, 110156.0, 71090.0, 305339.0, 305339.0, 357266.0, 108302.0, 372170.0, 383514.0, 154323.0, 154323.0, 110930.0, 54718.0, 270612.0, 378206.0, 43010.0, 84491.0, 107431.0, 294038.0, 88126.0, 357266.0, 108210.0, 867.0], [52673.0, 357266.0, 291763.0, 247378.0, 192973.0, 122450.0, 54718.0, 356561.0, 388711.0, 43095.0, 42867.0, 170290.0, 218662.0, 188481.0, 244950.0, 452.0, 193716.0, 192973.0, 264550.0, 258302.0, 222715.0, 360915.0, 360915.0, 249755.0, 452.0, 357266.0, 270201.0, 61771.0, 58997.0, 98017.0, 302195.0, 74651.0, 357266.0, 158016.0, 54718.0, 357266.0, 336968.0, 151796.0, 380616.0, 452.0, 357266.0, 225967.0, 268046.0, 357761.0, 380616.0, 154323.0, 357266.0, 236496.0, 54718.0, 357266.0, 368321.0, 341993.0, 81903.0, 106927.0, 268046.0, 158016.0, 189784.0, 62065.0, 43010.0, 332395.0, 273047.0, 348406.0, 54718.0, 357266.0, 289443.0, 268046.0, 302195.0, 358809.0, 357266.0, 357266.0, 289058.0, 54718.0, 331417.0, 158016.0, 192054.0, 385664.0, 267267.0, 264550.0, 270201.0, 151349.0, 91787.0, 42972.0, 8172.0, 42974.0, 87775.0, 452.0, 132176.0, 52520.0, 151349.0, 74254.0, 74254.0, 42972.0, 19833.0, 42974.0, 54718.0, 90548.0, 71090.0, 142758.0, 151349.0, 272583.0, 272583.0, 151772.0, 188481.0, 286186.0, 122511.0, 42972.0, 2479.0, 42974.0, 867.0, 359056.0, 452.0, 354376.0, 54718.0, 193919.0, 121738.0, 88126.0, 357266.0, 291763.0, 247378.0, 237383.0, 71090.0, 57833.0, 360915.0, 51582.0, 51582.0, 186645.0, 43010.0, 218659.0, 174032.0, 107830.0, 357212.0, 58997.0, 264550.0, 151796.0, 380616.0, 388711.0, 357266.0, 302201.0, 158016.0, 452.0, 132176.0, 381758.0, 54718.0, 71090.0, 388711.0, 266734.0, 452.0, 357761.0, 107830.0, 90548.0, 264550.0, 71090.0, 305355.0, 88126.0, 354376.0, 452.0, 60665.0, 357810.0, 387696.0, 264550.0, 71090.0, 305355.0, 154323.0, 357266.0, 357266.0, 358160.0, 90548.0, 189767.0, 357266.0, 305352.0, 268046.0, 272583.0, 121254.0, 107830.0, 54718.0, 357266.0, 359889.0, 142048.0, 268046.0, 357266.0, 292848.0, 90548.0, 90548.0, 357266.0, 259972.0, 371429.0, 268046.0, 354376.0, 237383.0, 452.0, 151349.0, 357266.0, 148908.0, 359889.0, 452.0, 52067.0, 57856.0, 357266.0, 242245.0, 188481.0, 43010.0, 108314.0, 384122.0, 360915.0, 265375.0, 155584.0, 122511.0, 452.0, 289450.0, 337201.0, 357266.0, 365539.0, 306825.0, 193637.0, 139731.0, 304958.0, 360915.0, 91787.0, 69725.0, 236514.0, 867.0], [357266.0, 306999.0, 61640.0, 268046.0, 138118.0, 92753.0, 91249.0, 49003.0, 360915.0, 267324.0, 357266.0, 179550.0, 122455.0, 333190.0, 268046.0, 302948.0, 127210.0, 452.0, 193716.0, 153.0, 54273.0, 139904.0, 361959.0, 151349.0, 188394.0, 357266.0, 232572.0, 221115.0, 54718.0, 168684.0, 357266.0, 138118.0, 232573.0, 268046.0, 268046.0, 188481.0, 358160.0, 276859.0, 452.0, 43010.0, 350271.0, 61640.0, 242245.0, 69725.0, 269798.0, 103135.0, 357607.0, 192973.0, 57844.0, 360915.0, 141702.0, 357266.0, 332395.0, 143981.0, 54718.0, 252664.0, 143995.0, 138118.0, 92753.0, 91249.0, 188481.0, 91213.0, 234655.0, 125829.0, 452.0, 352812.0, 70674.0, 452.0, 452.0, 388711.0, 357266.0, 147810.0, 117493.0, 268046.0, 149239.0, 61640.0, 189122.0, 188481.0, 302801.0, 333279.0, 393335.0, 452.0, 357266.0, 61640.0, 306717.0, 58997.0, 267326.0, 386474.0, 329974.0, 357212.0, 357266.0, 234655.0, 302948.0, 174032.0, 43010.0, 95614.0, 188025.0, 151349.0, 357266.0, 234655.0, 138116.0, 867.0], [357266.0, 265557.0, 268046.0, 178261.0, 262551.0, 192973.0, 43010.0, 112045.0, 143981.0, 151349.0, 357266.0, 159418.0, 268046.0, 268046.0, 159426.0, 452.0, 193716.0, 192973.0, 175599.0, 151349.0, 359889.0, 107963.0, 360915.0, 267324.0, 357266.0, 270888.0, 265557.0, 268046.0, 178261.0, 262551.0, 388711.0, 388711.0, 43010.0, 264802.0, 51274.0, 192973.0, 293583.0, 360915.0, 270909.0, 357266.0, 178261.0, 262546.0, 265557.0, 360915.0, 168282.0, 164328.0, 159418.0, 452.0, 386474.0, 136629.0, 357266.0, 294481.0, 188481.0, 357266.0, 270907.0, 292848.0, 388711.0, 344930.0, 309176.0, 245265.0, 245265.0, 357266.0, 332179.0, 306717.0, 189161.0, 272881.0, 51274.0, 151349.0, 357266.0, 270888.0, 265557.0, 268046.0, 178261.0, 262551.0, 192973.0, 302477.0, 54718.0, 146125.0, 388711.0, 33544.0, 117539.0, 269798.0, 73005.0, 292803.0, 88126.0, 357266.0, 45289.0, 106195.0, 867.0], [188481.0, 357266.0, 291753.0, 276859.0, 452.0, 43010.0, 185031.0, 247378.0, 151349.0, 357266.0, 344930.0, 350362.0, 247387.0, 54718.0, 54718.0, 54431.0, 174032.0, 71814.0, 71814.0, 62065.0, 148908.0, 452.0, 384374.0, 305994.0, 132276.0, 350362.0, 138623.0, 88126.0, 43010.0, 43010.0, 452.0, 54718.0, 357412.0, 384374.0, 143024.0, 357266.0, 247387.0, 185031.0, 388711.0, 272587.0, 105327.0, 105327.0, 158.0, 303305.0, 54718.0, 78655.0, 324.0, 386474.0, 52074.0, 374021.0, 360915.0, 281307.0, 357266.0, 54431.0, 54431.0, 69725.0, 269798.0, 357266.0, 81655.0, 373317.0, 54431.0, 185031.0, 247378.0, 452.0, 193716.0, 153.0, 377946.0, 132683.0, 360915.0, 97762.0, 357266.0, 350362.0, 350362.0, 188481.0, 357266.0, 291748.0, 268046.0, 145731.0, 88126.0, 377636.0, 357266.0, 142634.0, 268046.0, 278735.0, 154323.0, 357266.0, 47486.0, 47486.0, 360915.0, 339041.0, 78655.0, 78655.0, 278423.0, 358802.0, 339041.0, 303305.0, 303305.0, 357266.0, 242245.0, 192973.0, 187519.0, 358802.0, 43010.0, 279851.0, 142283.0, 867.0], [358160.0, 106807.0, 192973.0, 43010.0, 107616.0, 268046.0, 357266.0, 178401.0, 197189.0, 339170.0, 54718.0, 335129.0, 265038.0, 123215.0, 188481.0, 105576.0, 388711.0, 357266.0, 304970.0, 178401.0, 379723.0, 337195.0, 54718.0, 247455.0, 248029.0, 384915.0, 268046.0, 357266.0, 288302.0, 452.0, 386474.0, 306717.0, 188481.0, 178401.0, 385083.0, 265568.0, 54718.0, 247405.0, 375636.0, 268046.0, 357266.0, 143036.0, 452.0, 214884.0, 345171.0, 345171.0, 60665.0, 125162.0, 188481.0, 132405.0, 276883.0, 42972.0, 22456.0, 42974.0, 452.0, 272583.0, 197246.0, 150490.0, 105578.0, 452.0, 346373.0, 60665.0, 358452.0, 268046.0, 118152.0, 157423.0, 140185.0, 50256.0, 42972.0, 26559.0, 42974.0, 452.0, 221998.0, 188481.0, 43010.0, 123767.0, 197246.0, 304216.0, 386432.0, 155017.0, 143038.0, 126848.0, 264550.0, 267452.0, 54718.0, 304988.0, 359889.0, 108320.0, 357266.0, 379715.0, 379715.0, 107623.0, 190248.0, 150490.0, 61640.0, 242260.0, 258451.0, 360915.0, 294037.0, 43010.0, 155017.0, 97019.0, 188839.0, 81562.0, 222960.0, 54718.0, 263650.0, 379715.0, 379715.0, 358160.0, 106349.0, 346715.0, 61641.0, 268046.0, 190248.0, 150497.0, 243977.0, 174642.0, 360915.0, 188836.0, 197246.0, 154323.0, 325966.0, 268046.0, 126759.0, 292430.0, 175207.0, 122511.0, 388711.0, 123767.0, 325038.0, 360915.0, 51582.0, 357266.0, 376147.0, 376657.0, 277191.0, 42972.0, 25602.0, 42974.0, 452.0, 301000.0, 357109.0, 305042.0, 269798.0, 356585.0, 388756.0, 388756.0, 358160.0, 383514.0, 264550.0, 357266.0, 142758.0, 273007.0, 154323.0, 357266.0, 291753.0, 389836.0, 87775.0, 126848.0, 133033.0, 357266.0, 377946.0, 290532.0, 378774.0, 142970.0, 60665.0, 43010.0, 399931.0, 233795.0, 268046.0, 246031.0, 399936.0, 88126.0, 102192.0, 140185.0, 50256.0, 42972.0, 25859.0, 42974.0, 54718.0, 237383.0, 294037.0, 43010.0, 384122.0, 152216.0, 151349.0, 155653.0, 298135.0, 42.0, 114975.0, 344316.0, 363081.0, 190234.0, 356585.0, 867.0], [69725.0, 269798.0, 269798.0, 51274.0, 452.0, 277188.0, 140083.0, 383514.0, 293583.0, 151349.0, 117494.0, 263650.0, 247396.0, 188481.0, 358160.0, 358160.0, 269798.0, 358160.0, 69895.0, 452.0, 278008.0, 148305.0, 385664.0, 374168.0, 360915.0, 57951.0, 89632.0, 190955.0, 452.0, 121487.0, 136048.0, 51274.0, 69725.0, 269798.0, 278008.0, 278008.0, 54718.0, 357266.0, 133902.0, 268046.0, 374253.0, 357266.0, 293583.0, 51274.0, 151349.0, 357266.0, 336574.0, 325046.0, 268046.0, 110857.0, 108067.0, 188481.0, 351654.0, 158016.0, 268046.0, 295970.0, 274238.0, 330916.0, 302195.0, 383514.0, 377630.0, 358802.0, 332179.0, 306717.0, 867.0], [358160.0, 276859.0, 231458.0, 357266.0, 142854.0, 376103.0, 272881.0, 148371.0, 344607.0, 189109.0, 107692.0, 268046.0, 357266.0, 350128.0, 376103.0, 148371.0, 350391.0, 309176.0, 452.0, 54718.0, 231458.0, 357266.0, 142861.0, 376103.0, 357266.0, 229670.0, 376098.0, 452.0, 113945.0, 111503.0, 376098.0, 452.0, 61645.0, 292127.0, 376098.0, 54718.0, 357266.0, 229670.0, 376098.0, 268046.0, 109508.0, 133215.0, 290231.0, 452.0, 357412.0, 374163.0, 342889.0, 304331.0, 242245.0, 360915.0, 139953.0, 357266.0, 148371.0, 350391.0, 309176.0, 74390.0, 291284.0, 138623.0, 452.0, 359056.0, 325899.0, 373317.0, 357266.0, 302477.0, 54718.0, 290454.0, 148371.0, 350391.0, 309176.0, 132444.0, 189109.0, 350362.0, 42950.0, 74313.0, 452.0, 374163.0, 357266.0, 74390.0, 291290.0, 138625.0, 291295.0, 357266.0, 148371.0, 350391.0, 309176.0, 342108.0, 188481.0, 188481.0, 357266.0, 291288.0, 306717.0, 329974.0, 357212.0, 99212.0, 148371.0, 350391.0, 309176.0, 192973.0, 269798.0, 357266.0, 309135.0, 188481.0, 357266.0, 148908.0, 358549.0, 297269.0, 54718.0, 178545.0, 357109.0, 357266.0, 279661.0, 268046.0, 17618.0, 42950.0, 148371.0, 350391.0, 309176.0, 341875.0, 360915.0, 118852.0, 332240.0, 357266.0, 152590.0, 297232.0, 867.0], [182573.0, 452.0, 357266.0, 239228.0, 303946.0, 192973.0, 220815.0, 357109.0, 357266.0, 291288.0, 375624.0, 158.0, 158.0, 41.0, 324.0, 452.0, 386474.0, 192973.0, 222484.0, 360915.0, 304957.0, 360915.0, 452.0, 53912.0, 272583.0, 143995.0, 452.0, 357266.0, 312013.0, 268046.0, 357266.0, 357266.0, 191297.0, 278020.0, 151349.0, 357266.0, 148908.0, 218659.0, 188481.0, 357266.0, 118051.0, 341082.0, 54718.0, 357266.0, 357266.0, 268046.0, 357266.0, 118051.0, 218659.0, 218659.0, 374253.0, 342681.0, 239231.0, 268046.0, 357266.0, 357871.0, 268046.0, 132276.0, 218659.0, 158.0, 269798.0, 357266.0, 357266.0, 324.0, 358802.0, 357266.0, 357871.0, 268046.0, 357266.0, 341082.0, 452.0, 384374.0, 89632.0, 43010.0, 259972.0, 247378.0, 158.0, 166484.0, 114042.0, 324.0, 188481.0, 386474.0, 357266.0, 273500.0, 303946.0, 192973.0, 303661.0, 360915.0, 39880.0, 41.0, 867.0, 358160.0, 188242.0, 357212.0, 376118.0, 188481.0, 218659.0, 357871.0, 358802.0, 357266.0, 341082.0, 58997.0, 357266.0, 231068.0, 338227.0, 268046.0, 357266.0, 303661.0, 303946.0, 188481.0, 106194.0, 360915.0, 357266.0, 357266.0, 188481.0, 143954.0, 452.0, 43010.0, 103082.0, 225629.0, 62065.0, 357266.0, 112401.0, 342681.0, 117493.0, 54718.0, 43010.0, 92054.0, 143139.0, 268046.0, 218659.0, 357871.0, 174642.0, 307134.0, 357212.0, 386501.0, 357266.0, 218659.0, 357873.0, 58997.0, 144304.0, 107700.0, 358802.0, 357266.0, 118051.0, 341082.0, 188481.0, 357266.0, 388196.0, 304268.0, 452.0, 357640.0, 192973.0, 43010.0, 248856.0, 376116.0, 188481.0, 357266.0, 239228.0, 218659.0, 357873.0, 188481.0, 357266.0, 388091.0, 388091.0, 158.0, 357266.0, 157207.0, 218659.0, 387219.0, 335532.0, 188948.0, 452.0, 386495.0, 357266.0, 52277.0, 218659.0, 357871.0, 118966.0, 358802.0, 357266.0, 118051.0, 118051.0, 324.0, 867.0, 358160.0, 267256.0, 110156.0, 289875.0, 71090.0, 268046.0, 290454.0, 188271.0, 452.0, 151349.0, 317183.0, 167694.0, 269798.0, 355545.0, 388711.0, 43010.0, 372014.0, 119263.0, 120991.0, 452.0, 60665.0, 269953.0, 110156.0, 45457.0, 251645.0, 74597.0, 74597.0, 332148.0, 88126.0, 52625.0, 357266.0, 167701.0, 359889.0, 360915.0, 110289.0, 357266.0, 96721.0, 188481.0, 167701.0, 167701.0, 358160.0, 289443.0, 192973.0, 357266.0, 345909.0, 268046.0, 270157.0, 270157.0, 188481.0, 46223.0, 452.0, 357266.0, 291748.0, 268046.0, 111076.0, 54718.0, 364701.0, 188481.0, 357266.0, 362050.0, 348406.0, 237383.0, 52520.0, 303660.0, 357266.0, 239228.0, 303946.0, 155499.0, 867.0], [188481.0, 358160.0, 276859.0, 452.0, 357266.0, 121839.0, 268046.0, 43010.0, 376186.0, 286126.0, 62065.0, 112156.0, 112156.0, 222715.0, 452.0, 355430.0, 452.0, 160636.0, 383514.0, 107670.0, 54718.0, 247473.0, 229835.0, 360915.0, 135471.0, 78532.0, 54718.0, 313745.0, 268046.0, 193919.0, 292984.0, 62065.0, 357266.0, 148339.0, 292853.0, 286126.0, 386424.0, 357640.0, 192973.0, 178401.0, 247893.0, 108067.0, 188481.0, 357266.0, 357266.0, 357266.0, 293583.0, 121839.0, 188837.0, 285282.0, 270970.0, 270970.0, 182186.0, 49059.0, 302797.0, 96451.0, 151349.0, 357266.0, 376186.0, 376186.0, 154323.0, 357266.0, 142566.0, 158016.0, 386474.0, 390139.0, 174642.0, 272589.0, 452.0, 164233.0, 383690.0, 452.0, 383514.0, 374504.0, 88126.0, 303485.0, 357266.0, 376186.0, 286126.0, 54718.0, 358160.0, 393810.0, 393810.0, 268046.0, 175523.0, 137256.0, 386474.0, 383514.0, 363908.0, 191811.0, 357266.0, 49059.0, 96451.0, 360915.0, 48831.0, 357266.0, 129847.0, 129847.0, 62065.0, 357266.0, 173317.0, 173317.0, 107623.0, 452.0, 357266.0, 44812.0, 268046.0, 357266.0, 247893.0, 269798.0, 357266.0, 342333.0, 54718.0, 357266.0, 129852.0, 268046.0, 357266.0, 292984.0, 385664.0, 385664.0, 155499.0, 345173.0, 385664.0, 127491.0, 360915.0, 137812.0, 107783.0, 348211.0, 268046.0, 182186.0, 49059.0, 191811.0, 357266.0, 49059.0, 96451.0, 867.0], [45217.0, 360915.0, 357266.0, 333190.0, 357212.0, 357266.0, 193716.0, 345161.0, 90548.0, 264550.0, 239785.0, 357266.0, 336623.0, 189462.0, 120331.0, 151349.0, 297097.0, 281946.0, 452.0, 43010.0, 399931.0, 399931.0, 399936.0, 358584.0, 336623.0, 122455.0, 290454.0, 354435.0, 350362.0, 383514.0, 293583.0, 452.0, 48996.0, 360915.0, 188386.0, 357266.0, 336623.0, 122455.0, 91229.0, 54718.0, 190380.0, 325008.0, 268046.0, 268046.0, 358160.0, 350362.0, 90548.0, 133901.0, 188386.0, 345161.0, 357266.0, 191283.0, 268046.0, 336623.0, 122455.0, 54718.0, 357266.0, 290454.0, 333817.0, 54718.0, 325008.0, 268046.0, 190380.0, 452.0, 218667.0, 43010.0, 336968.0, 152395.0, 151349.0, 345140.0, 47798.0, 165583.0, 360915.0, 300612.0, 190958.0, 191811.0, 357266.0, 336623.0, 122455.0, 292848.0, 452.0, 239792.0, 357266.0, 258481.0, 268046.0, 336623.0, 189462.0, 867.0], [188481.0, 358160.0, 276859.0, 452.0, 46136.0, 71185.0, 354635.0, 151349.0, 335202.0, 56255.0, 69725.0, 373485.0, 219145.0, 239170.0, 340522.0, 158.0, 224402.0, 324.0, 452.0, 317178.0, 236752.0, 192086.0, 158.0, 335347.0, 324.0, 452.0, 303277.0, 219145.0, 340522.0, 158.0, 309581.0, 324.0, 54718.0, 107364.0, 165549.0, 242245.0, 158.0, 95930.0, 324.0, 58997.0, 125162.0, 54718.0, 54718.0, 357266.0, 71185.0, 281311.0, 192973.0, 345171.0, 88126.0, 376237.0, 357266.0, 135301.0, 338625.0, 54718.0, 357266.0, 265557.0, 268046.0, 56251.0, 60033.0, 135310.0, 151349.0, 132276.0, 132276.0, 357761.0, 152427.0, 51278.0, 58997.0, 106190.0, 151349.0, 357354.0, 300964.0, 268046.0, 108395.0, 452.0, 71185.0, 54718.0, 265522.0, 342421.0, 281311.0, 158.0, 71197.0, 452.0, 265522.0, 121343.0, 54718.0, 237347.0, 330916.0, 224522.0, 221115.0, 324.0, 867.0], [357266.0, 276859.0, 291775.0, 357266.0, 306717.0, 268046.0, 345173.0, 268046.0, 357266.0, 133896.0, 268046.0, 268046.0, 91787.0, 256335.0, 256335.0, 188481.0, 106698.0, 268046.0, 2479.0, 54718.0, 54718.0, 1680.0, 246924.0, 151349.0, 123315.0, 123315.0, 295305.0, 158.0, 103008.0, 103008.0, 324.0, 54718.0, 163864.0, 51220.0, 51220.0, 51220.0, 158.0, 103008.0, 360521.0, 324.0, 867.0, 357266.0, 363178.0, 133907.0, 268046.0, 268046.0, 256335.0, 269798.0, 81562.0, 368687.0, 268046.0, 51222.0, 192973.0, 307134.0, 452.0, 386474.0, 306717.0, 188481.0, 43010.0, 118964.0, 268046.0, 357266.0, 222960.0, 124213.0, 268046.0, 95005.0, 452.0, 99665.0, 452.0, 54718.0, 43010.0, 303661.0, 265557.0, 268046.0, 95005.0, 386424.0, 188973.0, 273428.0, 19816.0, 158.0, 158.0, 295305.0, 324.0, 54718.0, 54718.0, 158.0, 158.0, 158.0, 324.0, 867.0], [867.0, 158.0, 380464.0, 324.0, 192973.0, 269953.0, 268046.0, 143297.0, 251021.0, 239230.0, 239230.0, 43010.0, 205835.0, 292794.0, 268046.0, 380464.0, 192973.0, 360915.0, 45291.0, 140079.0, 357266.0, 295393.0, 295393.0, 357412.0, 43010.0, 295393.0, 224614.0, 242245.0, 69725.0, 269798.0, 250018.0, 54718.0, 90967.0, 51274.0, 383514.0, 293583.0, 151349.0, 43010.0, 43010.0, 380464.0, 350362.0, 386474.0, 383514.0, 122450.0, 272881.0, 217932.0, 217932.0, 249755.0, 452.0, 43010.0, 175409.0, 380857.0, 383514.0, 191916.0, 360915.0, 126552.0, 332712.0, 363409.0, 356531.0, 360915.0, 141702.0, 357266.0, 295393.0, 224614.0, 224614.0, 142820.0, 306717.0, 329999.0, 357212.0, 357266.0, 242245.0, 110156.0, 385218.0, 363350.0, 143297.0, 251021.0, 54718.0, 239785.0, 357266.0, 56674.0, 306717.0, 388711.0, 343312.0, 867.0], [357761.0, 306717.0, 120638.0, 357212.0, 357212.0, 291295.0, 106356.0, 106356.0, 117493.0, 388711.0, 357266.0, 74390.0, 291290.0, 281311.0, 54718.0, 357266.0, 226546.0, 106512.0, 106349.0, 106190.0, 388711.0, 341454.0, 341454.0, 188481.0, 278014.0, 452.0, 384374.0, 152393.0, 357212.0, 131663.0, 48098.0, 268046.0, 247396.0, 86377.0, 154323.0, 377946.0, 223830.0, 143137.0, 117493.0, 88126.0, 88126.0, 192973.0, 133900.0, 151349.0, 106216.0, 268046.0, 178401.0, 291290.0, 281311.0, 54718.0, 226394.0, 106512.0, 106512.0, 182573.0, 452.0, 357640.0, 58997.0, 292803.0, 360915.0, 71090.0, 337190.0, 188481.0, 188481.0, 148978.0, 452.0, 357266.0, 291290.0, 281311.0, 268046.0, 268046.0, 337305.0, 122175.0, 121972.0, 54273.0, 188946.0, 268046.0, 363601.0, 363601.0, 188481.0, 278014.0, 452.0, 358160.0, 292794.0, 267458.0, 371152.0, 357266.0, 106927.0, 357212.0, 291290.0, 181736.0, 58997.0, 33544.0, 170290.0, 60665.0, 330028.0, 188481.0, 147946.0, 23046.0, 358160.0, 192973.0, 71494.0, 117493.0, 143137.0, 88126.0, 88126.0, 192217.0, 372490.0, 363601.0, 117493.0, 151349.0, 178623.0, 45290.0, 45290.0, 186645.0, 186645.0, 143145.0, 357266.0, 316998.0, 117493.0, 60665.0, 357266.0, 143137.0, 117493.0, 386424.0, 363601.0, 281463.0, 58997.0, 329789.0, 452.0, 357266.0, 291290.0, 281311.0, 268046.0, 268046.0, 259914.0, 122175.0, 130319.0, 360915.0, 54273.0, 188946.0, 268046.0, 363601.0, 363601.0, 357645.0, 452.0, 384374.0, 253767.0, 307253.0, 81562.0, 146154.0, 233849.0, 54718.0, 51278.0, 268046.0, 268046.0, 336114.0, 60665.0, 360915.0, 64170.0, 143138.0, 372490.0, 363601.0, 363601.0, 239204.0, 452.0, 452.0, 192973.0, 69725.0, 269798.0, 43010.0, 105576.0, 268046.0, 326146.0, 51278.0, 42867.0, 205530.0, 57954.0, 452.0, 286843.0, 304331.0, 452.0, 200376.0, 452.0, 452.0, 452.0, 54718.0, 222960.0, 222960.0, 249755.0, 452.0, 132276.0, 51274.0, 174032.0, 326146.0, 326146.0, 357645.0, 452.0, 452.0, 174032.0, 249714.0, 376124.0, 277191.0, 452.0, 54718.0, 193716.0, 351990.0, 249714.0, 359889.0, 360915.0, 367250.0, 357266.0, 357266.0, 188481.0, 358160.0, 142818.0, 452.0, 384374.0, 374168.0, 43010.0, 166930.0, 322769.0, 312010.0, 336114.0, 60665.0, 360915.0, 118742.0, 357266.0, 277191.0, 188481.0, 43010.0, 95614.0, 95614.0, 182573.0, 452.0, 357640.0, 192973.0, 343257.0, 311178.0, 151349.0, 188388.0, 188481.0, 357266.0, 291290.0, 281311.0, 88126.0, 374253.0, 272583.0, 57924.0, 346373.0, 60665.0, 43010.0, 159479.0, 51274.0, 190756.0, 268046.0, 43010.0, 166930.0, 322769.0, 158.0, 183321.0, 42.0, 382961.0, 452.0, 17580.0, 324.0, 867.0], [56041.0, 188273.0, 302476.0, 151349.0, 357266.0, 116333.0, 188997.0, 88126.0, 357266.0, 301682.0, 86372.0, 192973.0, 389897.0, 389897.0, 193716.0, 192973.0, 371439.0, 357212.0, 357212.0, 268046.0, 357266.0, 172608.0, 106844.0, 383514.0, 264550.0, 188481.0, 106352.0, 388711.0, 357266.0, 341476.0, 332240.0, 357266.0, 48094.0, 374516.0, 188481.0, 357388.0, 383514.0, 264550.0, 264550.0, 52520.0, 357266.0, 106136.0, 292848.0, 383514.0, 264550.0, 293514.0, 188221.0, 188481.0, 159391.0, 188481.0, 357266.0, 190728.0, 268046.0, 106839.0, 188481.0, 301682.0, 301682.0, 358160.0, 333190.0, 306715.0, 188481.0, 357266.0, 106839.0, 360915.0, 142575.0, 54273.0, 142365.0, 289062.0, 289062.0, 357266.0, 250392.0, 155243.0, 313201.0, 268046.0, 358909.0, 268046.0, 107878.0, 452.0, 256057.0, 106839.0, 110707.0, 452.0, 383514.0, 264550.0, 351973.0, 92019.0, 268046.0, 188481.0, 151986.0, 151986.0, 145741.0, 188481.0, 357266.0, 107436.0, 268046.0, 343400.0, 360915.0, 357266.0, 225470.0, 69408.0, 452.0, 372996.0, 151761.0, 268046.0, 343399.0, 181497.0, 188481.0, 71193.0, 54718.0, 105467.0, 452.0, 357266.0, 281705.0, 55288.0, 268046.0, 357266.0, 181497.0, 452.0, 188589.0, 54666.0, 220345.0, 268046.0, 357266.0, 343399.0, 181497.0, 54718.0, 225470.0, 69408.0, 452.0, 54718.0, 357266.0, 374163.0, 268046.0, 104776.0, 198497.0, 385664.0, 357266.0, 272583.0, 153813.0, 136926.0, 389897.0, 119273.0, 158.0, 147996.0, 147996.0, 324.0, 867.0], [130319.0, 360915.0, 357266.0, 106337.0, 257320.0, 268046.0, 357266.0, 357682.0, 340192.0, 292848.0, 452.0, 247392.0, 174032.0, 71814.0, 286442.0, 43010.0, 205835.0, 310672.0, 188481.0, 294051.0, 337259.0, 205835.0, 190610.0, 151349.0, 292848.0, 121839.0, 54718.0, 54718.0, 357266.0, 304967.0, 53909.0, 292853.0, 106927.0, 452.0, 278008.0, 97027.0, 452.0, 54718.0, 357266.0, 306716.0, 103930.0, 293518.0, 58997.0, 263650.0, 54718.0, 243977.0, 71090.0, 123789.0, 360915.0, 71090.0, 372694.0, 88126.0, 357266.0, 142820.0, 345173.0, 52315.0, 158.0, 132176.0, 42972.0, 42972.0, 42974.0, 324.0, 122129.0, 189825.0, 269798.0, 357266.0, 62484.0, 221115.0, 96737.0, 218977.0, 360915.0, 96737.0, 267267.0, 62065.0, 229701.0, 90548.0, 57929.0, 71090.0, 267326.0, 88126.0, 239026.0, 332179.0, 54718.0, 357266.0, 133896.0, 268046.0, 355520.0, 54718.0, 377040.0, 90548.0, 71090.0, 122191.0, 249714.0, 249714.0, 188481.0, 358160.0, 389836.0, 452.0, 304970.0, 332124.0, 340192.0, 350362.0, 268046.0, 268046.0, 278008.0, 383514.0, 332176.0, 360915.0, 267324.0, 43010.0, 74597.0, 371429.0, 268046.0, 278008.0, 303217.0, 54718.0, 336992.0, 452.0, 54718.0, 119421.0, 239295.0, 54718.0, 362202.0, 268046.0, 357266.0, 188028.0, 188028.0, 374253.0, 341975.0, 242260.0, 360915.0, 142273.0, 357266.0, 283877.0, 239302.0, 192214.0, 188481.0, 357266.0, 188028.0, 72020.0, 54718.0, 54718.0, 304966.0, 452.0, 193716.0, 90548.0, 71090.0, 346706.0, 357212.0, 357266.0, 107593.0, 218659.0, 121260.0, 268046.0, 278011.0, 90548.0, 74597.0, 71090.0, 371439.0, 88126.0, 371429.0, 189262.0, 278008.0, 278008.0, 357266.0, 357266.0, 191138.0, 239301.0, 54718.0, 193919.0, 304963.0, 360915.0, 307496.0, 265557.0, 90548.0, 268186.0, 189825.0, 269798.0, 357266.0, 297112.0, 268046.0, 357266.0, 103930.0, 358802.0, 193919.0, 306549.0, 360915.0, 329442.0, 329442.0, 60665.0, 43010.0, 159391.0, 290460.0, 452.0, 137410.0, 106384.0, 58997.0, 357683.0, 340197.0, 188481.0, 43010.0, 108161.0, 252618.0, 247377.0, 388711.0, 108590.0, 42950.0, 357645.0, 357640.0, 192973.0, 54273.0, 270806.0, 151349.0, 122454.0, 308146.0, 357589.0, 247396.0, 151349.0, 332395.0, 270970.0, 252664.0, 278008.0, 188025.0, 188481.0, 107371.0, 388711.0, 45919.0, 340200.0, 356595.0, 452.0, 336114.0, 60665.0, 360915.0, 186403.0, 104586.0, 54718.0, 46448.0, 344579.0, 452.0, 173359.0, 54718.0, 306385.0, 344613.0, 867.0], [325080.0, 303676.0, 192973.0, 269953.0, 268046.0, 57924.0, 151349.0, 356822.0, 347248.0, 357212.0, 174032.0, 71814.0, 62801.0, 233708.0, 306268.0, 54718.0, 321107.0, 268046.0, 257293.0, 217055.0, 292853.0, 292853.0, 188481.0, 358160.0, 276859.0, 452.0, 384374.0, 291753.0, 43010.0, 242245.0, 357212.0, 159437.0, 325080.0, 303676.0, 54718.0, 57856.0, 188481.0, 378745.0, 356822.0, 347248.0, 374253.0, 70737.0, 259585.0, 259585.0, 70737.0, 259585.0, 247378.0, 192973.0, 374168.0, 360915.0, 148427.0, 357266.0, 74390.0, 222480.0, 329711.0, 325080.0, 358802.0, 106189.0, 123763.0, 268046.0, 268046.0, 142820.0, 306717.0, 388711.0, 42548.0, 325082.0, 452.0, 329974.0, 357212.0, 272881.0, 242245.0, 302352.0, 133901.0, 188481.0, 159438.0, 325080.0, 303676.0, 357212.0, 371427.0, 452.0, 302214.0, 54718.0, 142250.0, 165725.0, 867.0], [357266.0, 241110.0, 123790.0, 61722.0, 388711.0, 357266.0, 89744.0, 292848.0, 190704.0, 357266.0, 106706.0, 268046.0, 192082.0, 192082.0, 188481.0, 358160.0, 93018.0, 452.0, 357266.0, 142820.0, 117493.0, 71585.0, 137938.0, 190959.0, 188481.0, 357266.0, 89744.0, 292848.0, 54718.0, 54273.0, 270907.0, 312171.0, 192973.0, 374168.0, 360915.0, 297162.0, 357266.0, 74390.0, 325899.0, 268046.0, 277191.0, 386474.0, 142852.0, 357266.0, 267267.0, 296127.0, 72028.0, 158.0, 185635.0, 252762.0, 114042.0, 149179.0, 324.0, 867.0, 357266.0, 250392.0, 374168.0, 142820.0, 117493.0, 151349.0, 247378.0, 89744.0, 174642.0, 71814.0, 357266.0, 236058.0, 225967.0, 300964.0, 54718.0, 357266.0, 348406.0, 355520.0, 42972.0, 42972.0, 42974.0, 867.0, 357266.0, 270907.0, 354634.0, 374168.0, 192973.0, 155211.0, 268046.0, 357266.0, 265557.0, 268046.0, 376103.0, 54718.0, 357354.0, 357354.0, 188481.0, 357266.0, 278468.0, 452.0, 270201.0, 357266.0, 147468.0, 250392.0, 370904.0, 277191.0, 158.0, 185635.0, 357266.0, 207791.0, 277191.0, 324.0, 385664.0, 159426.0, 374168.0, 60665.0, 289884.0, 42972.0, 9321.0, 42974.0, 867.0, 182573.0, 452.0, 337718.0, 236561.0, 292835.0, 174642.0, 71814.0, 122450.0, 360915.0, 188946.0, 357266.0, 265557.0, 268046.0, 277191.0, 270910.0, 332191.0, 158.0, 132176.0, 159479.0, 51274.0, 158.0, 156028.0, 324.0, 42972.0, 42972.0, 42974.0, 270970.0, 330297.0, 106337.0, 142048.0, 158.0, 320226.0, 324.0, 42972.0, 6765.0, 42974.0, 324.0, 867.0, 867.0, 54718.0, 54718.0, 42972.0, 8172.0, 42974.0, 174642.0, 302802.0, 192126.0, 357266.0, 189767.0, 357212.0, 357266.0, 99771.0, 268046.0, 51274.0, 90548.0, 174642.0, 269798.0, 357266.0, 270910.0, 270910.0, 357810.0, 159436.0, 374253.0, 357354.0, 104216.0, 104216.0, 43010.0, 325899.0, 268046.0, 350271.0, 117493.0, 158.0, 236058.0, 225967.0, 300964.0, 54718.0, 348412.0, 355520.0, 324.0, 54718.0, 365130.0, 388711.0, 123767.0, 51278.0, 360915.0, 148427.0, 65680.0, 357266.0, 325899.0, 268046.0, 190461.0, 190461.0, 357266.0, 152427.0, 270907.0, 51278.0, 294038.0, 306717.0, 388711.0, 54273.0, 44786.0, 63975.0, 139198.0, 74651.0, 2479.0, 41.0, 54718.0, 19833.0, 41.0, 867.0, 320226.0, 383514.0, 357266.0, 250392.0, 346829.0, 346829.0, 357266.0, 374163.0, 268046.0, 350271.0, 117493.0, 108369.0, 64177.0, 357266.0, 292794.0, 268046.0, 48354.0, 74651.0, 357266.0, 45919.0, 283877.0, 283134.0, 54718.0, 57170.0, 247392.0, 61770.0, 867.0], [188481.0, 271173.0, 360915.0, 337189.0, 357266.0, 292794.0, 357212.0, 357266.0, 123678.0, 137402.0, 294635.0, 154796.0, 350362.0, 192973.0, 370636.0, 360915.0, 147810.0, 231137.0, 452.0, 122450.0, 43010.0, 289109.0, 331376.0, 45712.0, 54718.0, 54431.0, 350362.0, 151349.0, 123678.0, 137402.0, 294635.0, 154796.0, 154796.0, 148978.0, 452.0, 357266.0, 294635.0, 295215.0, 389836.0, 292407.0, 383514.0, 54444.0, 452.0, 54718.0, 357266.0, 294635.0, 295215.0, 144227.0, 233849.0, 304963.0, 74651.0, 302476.0, 54718.0, 144227.0, 283144.0, 383514.0, 54444.0, 42950.0, 323104.0, 452.0, 357266.0, 123678.0, 137402.0, 294635.0, 295215.0, 144227.0, 154796.0, 291876.0, 97027.0, 385664.0, 54444.0, 42950.0, 217810.0, 452.0, 374253.0, 357266.0, 289109.0, 331376.0, 45712.0, 54718.0, 54431.0, 350362.0, 360915.0, 123125.0, 357266.0, 123678.0, 137402.0, 294635.0, 154796.0, 350362.0, 452.0, 142818.0, 306717.0, 329974.0, 357212.0, 357266.0, 350362.0, 90548.0, 109485.0, 122150.0, 357266.0, 123678.0, 137402.0, 294635.0, 154796.0, 350362.0, 341956.0, 867.0], [247387.0, 270970.0, 57953.0, 178401.0, 124207.0, 452.0, 452.0, 292803.0, 143904.0, 54273.0, 142920.0, 188949.0, 123792.0, 452.0, 357266.0, 399931.0, 113979.0, 268046.0, 124208.0, 399936.0, 867.0, 358160.0, 276859.0, 293586.0, 43010.0, 259972.0, 151719.0, 268046.0, 178401.0, 124207.0, 247378.0, 306002.0, 158.0, 158.0, 324.0, 88126.0, 374518.0, 357266.0, 348215.0, 376703.0, 304331.0, 158.0, 349089.0, 324.0, 452.0, 356166.0, 60665.0, 46136.0, 46136.0, 452.0, 360915.0, 107525.0, 358160.0, 358160.0, 357266.0, 293583.0, 247378.0, 110156.0, 307133.0, 142873.0, 109507.0, 53909.0, 123767.0, 190461.0, 376103.0, 268046.0, 357266.0, 371335.0, 155211.0, 386474.0, 192973.0, 372322.0, 270970.0, 142805.0, 151349.0, 151349.0, 352025.0, 47002.0, 268046.0, 268046.0, 153.0, 178332.0, 344936.0, 452.0, 193716.0, 110156.0, 51917.0, 357266.0, 142919.0, 188949.0, 123792.0, 452.0, 54718.0, 156414.0, 319042.0, 45289.0, 388711.0, 335129.0, 325899.0, 268046.0, 317183.0, 88126.0, 88126.0, 265592.0, 142285.0, 268046.0, 123767.0, 124208.0, 58997.0, 162058.0, 360915.0, 187518.0, 357266.0, 292407.0, 452.0, 292834.0, 54718.0, 281311.0, 268046.0, 268046.0, 867.0], [358160.0, 276859.0, 291775.0, 43010.0, 43010.0, 108316.0, 121839.0, 242245.0, 69725.0, 269798.0, 350362.0, 296995.0, 281311.0, 281311.0, 151349.0, 357266.0, 46228.0, 108316.0, 156414.0, 376118.0, 452.0, 357266.0, 258303.0, 54718.0, 346608.0, 106927.0, 151349.0, 357266.0, 142634.0, 268046.0, 268046.0, 341956.0, 146323.0, 108316.0, 58997.0, 162058.0, 54718.0, 363928.0, 360915.0, 357266.0, 224391.0, 292803.0, 452.0, 386474.0, 332141.0, 357266.0, 337177.0, 360915.0, 267324.0, 267324.0, 341956.0, 146323.0, 146323.0, 357266.0, 150029.0, 108302.0, 332179.0, 306717.0, 294007.0, 357266.0, 305038.0, 54718.0, 375441.0, 268046.0, 357266.0, 242245.0, 867.0], [88126.0, 303890.0, 360915.0, 233708.0, 305032.0, 117493.0, 54718.0, 139887.0, 452.0, 358160.0, 276859.0, 49003.0, 62065.0, 125164.0, 54718.0, 54448.0, 357266.0, 188271.0, 268046.0, 268046.0, 57844.0, 188481.0, 382627.0, 298478.0, 452.0, 69725.0, 269798.0, 357266.0, 287479.0, 268046.0, 357266.0, 378761.0, 269798.0, 340038.0, 76565.0, 76565.0, 76565.0, 360915.0, 357266.0, 142644.0, 292803.0, 452.0, 357266.0, 63534.0, 174642.0, 229835.0, 54273.0, 267077.0, 54431.0, 269798.0, 357266.0, 357266.0, 143995.0, 357212.0, 90548.0, 189767.0, 357266.0, 298478.0, 452.0, 181611.0, 360915.0, 294037.0, 43010.0, 357589.0, 69895.0, 151349.0, 357266.0, 119136.0, 122455.0, 54718.0, 363601.0, 268046.0, 382627.0, 298478.0, 867.0], [357266.0, 163265.0, 268046.0, 357266.0, 162965.0, 364553.0, 158.0, 168057.0, 324.0, 51274.0, 151349.0, 297180.0, 322769.0, 192973.0, 357266.0, 151061.0, 42867.0, 71956.0, 154323.0, 357266.0, 219594.0, 377893.0, 268046.0, 43010.0, 162058.0, 168057.0, 166026.0, 452.0, 364370.0, 357266.0, 166026.0, 54718.0, 302170.0, 357266.0, 308582.0, 377893.0, 452.0, 303888.0, 360915.0, 60665.0, 357266.0, 353325.0, 353325.0, 99010.0, 140185.0, 50256.0, 42972.0, 2479.0, 42974.0, 374163.0, 358160.0, 51274.0, 360915.0, 329974.0, 297180.0, 382591.0, 322769.0, 360915.0, 71090.0, 155247.0, 249714.0, 133900.0, 357109.0, 102223.0, 300313.0, 382591.0, 322769.0, 88126.0, 291770.0, 43010.0, 102208.0, 268046.0, 166049.0, 158.0, 357266.0, 168057.0, 166049.0, 324.0, 357212.0, 151407.0, 102223.0, 300313.0, 382643.0, 360915.0, 231458.0, 142920.0, 233708.0, 297534.0, 360915.0, 54273.0, 270980.0, 136905.0, 357266.0, 344936.0, 268046.0, 357266.0, 166026.0, 452.0, 87775.0, 357212.0, 58997.0, 364367.0, 88126.0, 297180.0, 382643.0, 388711.0, 43010.0, 288239.0, 265557.0, 268046.0, 297534.0, 360915.0, 346373.0, 54273.0, 54273.0, 188481.0, 271173.0, 360915.0, 345195.0, 357266.0, 309979.0, 268046.0, 357266.0, 51274.0, 360915.0, 357266.0, 122271.0, 133907.0, 268046.0, 118875.0, 452.0, 384374.0, 327043.0, 122190.0, 182540.0, 133901.0, 193716.0, 45463.0, 193919.0, 163265.0, 386424.0, 345912.0, 360915.0, 54273.0, 188949.0, 119560.0, 268046.0, 283048.0, 116492.0, 116492.0, 151349.0, 358160.0, 302476.0, 452.0, 384374.0, 387696.0, 150791.0, 269798.0, 357266.0, 292765.0, 357212.0, 357266.0, 382613.0, 192973.0, 269798.0, 357266.0, 353325.0, 377893.0, 62065.0, 357266.0, 136979.0, 268046.0, 357266.0, 357266.0, 384374.0, 359056.0, 107661.0, 168057.0, 166049.0, 346373.0, 60665.0, 357266.0, 269953.0, 187519.0, 188481.0, 147946.0, 2479.0, 158.0, 65064.0, 324.0, 452.0, 185635.0, 107702.0, 268046.0, 254935.0, 218662.0, 71895.0, 357266.0, 162969.0, 341163.0, 452.0, 54718.0, 359056.0, 215274.0, 60665.0, 60665.0, 867.0], [43010.0, 43010.0, 247378.0, 192973.0, 291763.0, 360915.0, 86363.0, 54273.0, 190775.0, 54718.0, 133929.0, 178545.0, 133719.0, 46670.0, 232573.0, 350362.0, 360915.0, 273567.0, 292803.0, 250392.0, 372265.0, 372265.0, 388711.0, 358160.0, 247378.0, 452.0, 292852.0, 58997.0, 186399.0, 142874.0, 54718.0, 357266.0, 312171.0, 268046.0, 133719.0, 46668.0, 192973.0, 84723.0, 191811.0, 335129.0, 335129.0, 132276.0, 353651.0, 174032.0, 121843.0, 310672.0, 268046.0, 268046.0, 43010.0, 292848.0, 121734.0, 357266.0, 45882.0, 54718.0, 304967.0, 53909.0, 53909.0, 43010.0, 293947.0, 268046.0, 178545.0, 133719.0, 46670.0, 350362.0, 192973.0, 86377.0, 388711.0, 80406.0, 270501.0, 270501.0, 357266.0, 120523.0, 330039.0, 357212.0, 357266.0, 357266.0, 178545.0, 133719.0, 46670.0, 350362.0, 176573.0, 136979.0, 374205.0, 371426.0, 292852.0, 357810.0, 58997.0, 192214.0, 54718.0, 150791.0, 269798.0, 386307.0, 360915.0, 126552.0, 867.0], [188481.0, 142907.0, 357266.0, 357266.0, 222709.0, 268046.0, 297180.0, 357607.0, 452.0, 79681.0, 42972.0, 15341.0, 42974.0, 383514.0, 357266.0, 148908.0, 360915.0, 264624.0, 357212.0, 52673.0, 269953.0, 341902.0, 388711.0, 51582.0, 357266.0, 53285.0, 44608.0, 357266.0, 257320.0, 268046.0, 43010.0, 297180.0, 350362.0, 452.0, 357266.0, 148908.0, 271173.0, 57954.0, 149171.0, 357266.0, 271200.0, 102223.0, 102223.0, 88126.0, 357212.0, 384374.0, 239170.0, 357212.0, 357266.0, 302292.0, 277915.0, 268046.0, 357266.0, 321344.0, 138623.0, 371152.0, 287650.0, 118893.0, 268046.0, 357266.0, 384039.0, 155211.0, 71586.0, 357266.0, 102223.0, 102223.0, 138623.0, 188481.0, 357266.0, 222709.0, 386432.0, 356212.0, 192218.0, 192218.0, 58997.0, 58997.0, 188481.0, 108256.0, 360915.0, 358160.0, 57920.0, 452.0, 188481.0, 358160.0, 220941.0, 384374.0, 329974.0, 357212.0, 357266.0, 102223.0, 363634.0, 59349.0, 154323.0, 43010.0, 329758.0, 297180.0, 293486.0, 386424.0, 356212.0, 268046.0, 266497.0, 158.0, 158.0, 324.0, 90548.0, 71090.0, 71090.0, 358160.0, 143954.0, 383514.0, 45929.0, 52477.0, 267267.0, 88126.0, 180580.0, 337259.0, 368160.0, 393335.0, 48262.0, 42867.0, 188481.0, 275147.0, 20635.0, 268046.0, 179434.0, 80586.0, 42972.0, 33544.0, 42974.0, 189697.0, 359889.0, 191716.0, 58997.0, 107670.0, 386960.0, 325299.0, 107893.0, 43010.0, 148545.0, 148545.0, 193716.0, 192973.0, 330028.0, 357212.0, 52318.0, 132276.0, 323526.0, 357266.0, 250529.0, 192973.0, 102223.0, 158.0, 258622.0, 297180.0, 289872.0, 324.0, 452.0, 54718.0, 357212.0, 193716.0, 151063.0, 357212.0, 357266.0, 297180.0, 278684.0, 237383.0, 71090.0, 118889.0, 191811.0, 43010.0, 325299.0, 268046.0, 323533.0, 52318.0, 132276.0, 268046.0, 386474.0, 357266.0, 102223.0, 45830.0, 192973.0, 43010.0, 43010.0, 357266.0, 264802.0, 108284.0, 268046.0, 357266.0, 291753.0, 220941.0, 192973.0, 54273.0, 188387.0, 293458.0, 268046.0, 268046.0, 306708.0, 374253.0, 54273.0, 188387.0, 377862.0, 268046.0, 357266.0, 293486.0, 130319.0, 360915.0, 231605.0, 54718.0, 244571.0, 42972.0, 42972.0, 42974.0, 867.0, 158.0, 323337.0, 52520.0, 118152.0, 118152.0, 42972.0, 21828.0, 42974.0, 151349.0, 43010.0, 155499.0, 125165.0, 867.0, 324.0], [357266.0, 148339.0, 325899.0, 268046.0, 142832.0, 192214.0, 54273.0, 46136.0, 306931.0, 268046.0, 357266.0, 357266.0, 277191.0, 151061.0, 357266.0, 54572.0, 54572.0, 358160.0, 259972.0, 247378.0, 270201.0, 294038.0, 54273.0, 188388.0, 268046.0, 1903.0, 41.0, 452.0, 332008.0, 360915.0, 374253.0, 357266.0, 357266.0, 363932.0, 269798.0, 357266.0, 69739.0, 69739.0, 69739.0, 182573.0, 452.0, 363601.0, 363601.0, 363601.0, 363932.0, 269798.0, 362050.0, 268046.0, 357266.0, 46137.0, 363594.0, 247378.0, 80756.0, 357266.0, 188388.0, 360915.0, 1985.0, 41.0, 41.0, 358160.0, 329999.0, 182540.0, 46136.0, 363601.0, 294038.0, 43010.0, 74597.0, 149978.0, 268046.0, 357266.0, 247378.0, 360915.0, 46124.0, 360915.0, 339034.0, 65760.0, 106927.0, 142644.0, 188481.0, 132276.0, 132276.0, 148356.0, 452.0, 357266.0, 143991.0, 57920.0, 374253.0, 374253.0, 338960.0, 363932.0, 269798.0, 362050.0, 268046.0, 357266.0, 54572.0, 247378.0, 54718.0, 54718.0, 54718.0, 363932.0, 383514.0, 383514.0, 358160.0, 270201.0, 188947.0, 357266.0, 188388.0, 360915.0, 2002.0, 41.0, 44786.0, 158.0, 16992.0, 41.0, 304969.0, 324.0, 452.0, 386474.0, 303950.0, 357266.0, 123792.0, 268046.0, 281322.0, 45290.0, 338960.0, 103317.0, 188481.0, 358160.0, 353651.0, 54718.0, 182540.0, 358160.0, 45929.0, 172343.0, 338960.0, 46127.0, 867.0], [188481.0, 358160.0, 276859.0, 384374.0, 107661.0, 292803.0, 268046.0, 111453.0, 54718.0, 191919.0, 191011.0, 232573.0, 350396.0, 60665.0, 269953.0, 268046.0, 357266.0, 250392.0, 188273.0, 239301.0, 268046.0, 188949.0, 137256.0, 133928.0, 188481.0, 188481.0, 270616.0, 292409.0, 268046.0, 191011.0, 135111.0, 290159.0, 125818.0, 350396.0, 122450.0, 188481.0, 188481.0, 398725.0, 398725.0, 398727.0, 151349.0, 44964.0, 54718.0, 118061.0, 166945.0, 269798.0, 189431.0, 286161.0, 58997.0, 58997.0, 139904.0, 122511.0, 106398.0, 357266.0, 350396.0, 58997.0, 107670.0, 452.0, 357354.0, 354617.0, 97027.0, 58997.0, 58997.0, 142820.0, 306717.0, 58997.0, 58997.0, 358160.0, 276859.0, 384374.0, 107661.0, 292803.0, 268046.0, 111453.0, 54718.0, 191919.0, 191011.0, 232573.0, 350396.0, 60665.0, 269953.0, 268046.0, 357266.0, 250392.0, 188273.0, 239301.0, 268046.0, 188949.0, 137256.0, 133928.0, 188481.0, 188481.0, 270616.0, 292409.0, 268046.0, 191011.0, 135111.0, 290159.0, 125818.0, 350396.0, 122450.0, 188481.0, 188481.0, 398725.0, 398725.0, 398727.0, 151349.0, 44964.0, 54718.0, 118061.0, 166945.0, 269798.0, 189431.0, 286161.0, 58997.0, 58997.0, 139904.0, 122511.0, 106398.0, 357266.0, 350396.0, 58997.0, 107670.0, 452.0, 357354.0, 354617.0, 97027.0, 58997.0, 58997.0, 142820.0, 306717.0, 58997.0, 291763.0, 867.0], [188481.0, 357266.0, 93018.0, 268046.0, 294498.0, 57844.0, 360915.0, 378010.0, 452.0, 291776.0, 268046.0, 178401.0, 114040.0, 54718.0, 82868.0, 158.0, 158.0, 324.0, 120339.0, 43010.0, 178401.0, 375624.0, 268046.0, 357266.0, 114975.0, 277188.0, 452.0, 306716.0, 188481.0, 247396.0, 388711.0, 178401.0, 265557.0, 268046.0, 268046.0, 360915.0, 108724.0, 388711.0, 358160.0, 292794.0, 452.0, 390642.0, 140185.0, 50256.0, 158.0, 17708.0, 324.0, 141704.0, 43010.0, 376110.0, 268046.0, 294498.0, 158.0, 188481.0, 357212.0, 389836.0, 303888.0, 360915.0, 60665.0, 60665.0, 42972.0, 314597.0, 42974.0, 324.0, 452.0, 386474.0, 188838.0, 188838.0, 188838.0, 158.0, 132176.0, 132176.0, 357266.0, 333429.0, 268046.0, 364950.0, 45217.0, 360915.0, 357266.0, 224573.0, 114040.0, 324.0, 158.0, 390642.0, 140185.0, 50256.0, 452.0, 17672.0, 324.0, 867.0, 188481.0, 390642.0, 140185.0, 50256.0, 158.0, 17708.0, 324.0, 452.0, 272583.0, 242260.0, 188839.0, 237929.0, 158.0, 388756.0, 335531.0, 54718.0, 118768.0, 324.0, 58997.0, 141703.0, 388711.0, 57836.0, 360915.0, 378007.0, 378007.0, 357266.0, 63534.0, 452.0, 287479.0, 62065.0, 314597.0, 60665.0, 43010.0, 346829.0, 242245.0, 151349.0, 303120.0, 268046.0, 378010.0, 388711.0, 57840.0, 360915.0, 348446.0, 348446.0, 357266.0, 242260.0, 141703.0, 88126.0, 390642.0, 140185.0, 50256.0, 158.0, 17708.0, 324.0, 110156.0, 71090.0, 52520.0, 106190.0, 388711.0, 56041.0, 325899.0, 268046.0, 354635.0, 158.0, 209675.0, 60665.0, 247379.0, 242260.0, 324.0, 158.0, 158.0, 54718.0, 54718.0, 452.0, 17618.0, 324.0, 452.0, 387160.0, 374168.0, 188481.0, 357266.0, 108098.0, 268046.0, 378007.0, 247387.0, 151349.0, 348446.0, 286121.0, 867.0], [188481.0, 271173.0, 360915.0, 356531.0, 386458.0, 173089.0, 278960.0, 90548.0, 108442.0, 270970.0, 137504.0, 357266.0, 249311.0, 253590.0, 268046.0, 43010.0, 251034.0, 452.0, 54273.0, 47495.0, 251034.0, 102878.0, 109452.0, 383514.0, 306174.0, 107702.0, 268046.0, 102892.0, 215270.0, 45217.0, 360915.0, 357266.0, 136533.0, 108447.0, 188481.0, 357266.0, 249311.0, 249311.0, 357266.0, 151061.0, 117504.0, 104991.0, 385664.0, 142274.0, 60665.0, 289446.0, 338236.0, 151349.0, 357266.0, 109452.0, 42867.0, 357266.0, 136534.0, 251034.0, 117504.0, 158.0, 158.0, 324.0, 42972.0, 13507.0, 42974.0, 452.0, 54718.0, 148224.0, 343295.0, 42972.0, 17044.0, 42974.0, 867.0, 182573.0, 452.0, 357761.0, 385664.0, 124987.0, 47798.0, 307253.0, 60665.0, 60665.0, 357266.0, 48971.0, 268046.0, 358160.0, 345195.0, 192973.0, 360915.0, 137504.0, 357266.0, 249311.0, 188481.0, 357266.0, 148224.0, 321938.0, 452.0, 54718.0, 188481.0, 357266.0, 93018.0, 268046.0, 357266.0, 102892.0, 188481.0, 357266.0, 357266.0, 452.0, 262350.0, 62988.0, 192973.0, 294038.0, 386474.0, 119122.0, 357266.0, 102892.0, 102892.0, 188481.0, 357266.0, 93018.0, 268046.0, 357266.0, 148224.0, 343295.0, 117504.0, 452.0, 357266.0, 102892.0, 58997.0, 188481.0, 153730.0, 301000.0, 357109.0, 137444.0, 452.0, 54718.0, 388711.0, 262350.0, 346235.0, 386474.0, 386432.0, 52520.0, 119122.0, 373038.0, 332240.0, 357266.0, 345173.0, 58997.0, 92687.0, 272930.0, 388711.0, 137444.0, 338967.0, 338967.0, 155503.0, 452.0, 357266.0, 148224.0, 343295.0, 323934.0, 192973.0, 69725.0, 269798.0, 357266.0, 47495.0, 108067.0, 268046.0, 357266.0, 256745.0, 60665.0, 188481.0, 250392.0, 268046.0, 357388.0, 357640.0, 192973.0, 262350.0, 253590.0, 386474.0, 192973.0, 52520.0, 373038.0, 60665.0, 60665.0, 154323.0, 272881.0, 307253.0, 268046.0, 63822.0, 117504.0, 104991.0, 452.0, 193716.0, 383514.0, 152393.0, 357212.0, 62065.0, 291753.0, 357640.0, 192973.0, 262350.0, 341454.0, 109452.0, 268046.0, 47495.0, 251034.0, 102892.0, 386432.0, 357266.0, 47495.0, 189126.0, 303888.0, 360915.0, 357266.0, 253603.0, 321938.0, 268046.0, 357266.0, 102878.0, 867.0], [358160.0, 345195.0, 192973.0, 150792.0, 269798.0, 357266.0, 357266.0, 328652.0, 302192.0, 158.0, 158.0, 324.0, 452.0, 267461.0, 188481.0, 357266.0, 98017.0, 207791.0, 138671.0, 452.0, 386474.0, 192973.0, 374168.0, 360915.0, 188946.0, 184780.0, 303187.0, 154323.0, 189431.0, 189431.0, 357266.0, 306262.0, 118277.0, 388711.0, 106192.0, 184780.0, 303187.0, 388711.0, 357266.0, 374163.0, 268046.0, 358549.0, 123767.0, 123767.0, 357266.0, 53974.0, 268046.0, 357266.0, 292970.0, 184780.0, 121169.0, 107664.0, 269798.0, 357266.0, 302192.0, 341956.0, 54718.0, 357266.0, 93590.0, 93590.0, 360915.0, 188386.0, 357266.0, 110542.0, 268046.0, 357266.0, 302192.0, 452.0, 257293.0, 93591.0, 399907.0, 89619.0, 452.0, 103837.0, 97007.0, 158.0, 370863.0, 306390.0, 154323.0, 103837.0, 324.0, 54718.0, 247475.0, 269338.0, 399907.0, 58997.0, 46189.0, 360915.0, 357266.0, 158063.0, 292848.0, 54718.0, 175530.0, 360915.0, 357266.0, 292848.0, 355520.0, 268046.0, 39180.0, 452.0, 40003.0, 54718.0, 54718.0, 867.0], [357266.0, 276859.0, 118277.0, 388711.0, 357266.0, 106511.0, 268046.0, 125818.0, 259585.0, 106384.0, 305038.0, 305038.0, 209662.0, 268046.0, 357266.0, 106381.0, 305038.0, 277191.0, 188481.0, 290159.0, 259595.0, 192973.0, 258303.0, 151349.0, 357266.0, 305038.0, 106511.0, 54718.0, 52520.0, 151349.0, 151349.0, 231148.0, 231148.0, 106381.0, 305038.0, 277191.0, 58997.0, 289446.0, 360915.0, 306966.0, 270201.0, 388711.0, 45290.0, 117505.0, 268046.0, 125818.0, 125818.0, 346373.0, 43010.0, 117504.0, 188838.0, 303161.0, 268046.0, 272980.0, 54718.0, 191634.0, 188481.0, 290159.0, 290159.0, 193716.0, 192973.0, 188297.0, 360915.0, 306966.0, 305038.0, 277191.0, 154323.0, 358160.0, 117493.0, 188481.0, 43010.0, 124729.0, 384122.0, 71494.0, 268046.0, 268046.0, 188481.0, 358160.0, 276859.0, 452.0, 384374.0, 191915.0, 337259.0, 306717.0, 268046.0, 117505.0, 117505.0, 384374.0, 57855.0, 358160.0, 152908.0, 151349.0, 357266.0, 306971.0, 268046.0, 277191.0, 154323.0, 272979.0, 117493.0, 188481.0, 357266.0, 114812.0, 54718.0, 334917.0, 334917.0, 357640.0, 58997.0, 52520.0, 45919.0, 306717.0, 867.0], [142050.0, 51278.0, 58997.0, 357266.0, 343462.0, 270907.0, 242260.0, 452.0, 332178.0, 357266.0, 72020.0, 268046.0, 257293.0, 257293.0, 357761.0, 51278.0, 58997.0, 69842.0, 288940.0, 69725.0, 322769.0, 292835.0, 133930.0, 118271.0, 388711.0, 106337.0, 322769.0, 338602.0, 174695.0, 309975.0, 54718.0, 290201.0, 322769.0, 322769.0, 132552.0, 58997.0, 178623.0, 57833.0, 188481.0, 188481.0, 270907.0, 292794.0, 386474.0, 58997.0, 174695.0, 107149.0, 107149.0, 358160.0, 276859.0, 307261.0, 357266.0, 389836.0, 92687.0, 272930.0, 151349.0, 125993.0, 54718.0, 108395.0, 193642.0, 188481.0, 136511.0, 867.0], [357266.0, 224431.0, 268046.0, 71177.0, 295228.0, 372170.0, 192973.0, 96727.0, 452.0, 386474.0, 192973.0, 268345.0, 188481.0, 43010.0, 341956.0, 268046.0, 222292.0, 222292.0, 303670.0, 43010.0, 95614.0, 380810.0, 90548.0, 188386.0, 357266.0, 290159.0, 143981.0, 54718.0, 133928.0, 268046.0, 357266.0, 71177.0, 295228.0, 372170.0, 386424.0, 188481.0, 222292.0, 224431.0, 224431.0, 90548.0, 96721.0, 357266.0, 380810.0, 88126.0, 96751.0, 357266.0, 359108.0, 365189.0, 365189.0, 193716.0, 192973.0, 106337.0, 54718.0, 370645.0, 360915.0, 54443.0, 357266.0, 96721.0, 268046.0, 357266.0, 114531.0, 268046.0, 357266.0, 224431.0, 224431.0, 336114.0, 384374.0, 90548.0, 126020.0, 357266.0, 224431.0, 268046.0, 357266.0, 386897.0, 114523.0, 191811.0, 326146.0, 138590.0, 278085.0, 452.0, 132276.0, 90548.0, 71090.0, 358464.0, 268046.0, 60665.0, 43010.0, 107783.0, 107783.0, 357266.0, 250392.0, 270888.0, 380810.0, 151349.0, 357266.0, 113946.0, 224431.0, 90548.0, 71090.0, 89633.0, 88126.0, 159479.0, 159479.0, 386424.0, 132276.0, 224431.0, 192973.0, 188481.0, 357266.0, 250392.0, 270888.0, 380810.0, 452.0, 384374.0, 90548.0, 160418.0, 357266.0, 386897.0, 270888.0, 380810.0, 96727.0, 96727.0, 357412.0, 193716.0, 292979.0, 357266.0, 306708.0, 268046.0, 137256.0, 319468.0, 867.0], [60665.0, 241110.0, 132405.0, 452.0, 358160.0, 276859.0, 306013.0, 270157.0, 133951.0, 360915.0, 133930.0, 46244.0, 357266.0, 343462.0, 343462.0, 155653.0, 389836.0, 237383.0, 107661.0, 192128.0, 386458.0, 357266.0, 51274.0, 390139.0, 71090.0, 60665.0, 346323.0, 270970.0, 264550.0, 188481.0, 337201.0, 376112.0, 268046.0, 357266.0, 357266.0, 357212.0, 188836.0, 249714.0, 270618.0, 107856.0, 452.0, 346373.0, 60665.0, 376098.0, 114172.0, 165534.0, 452.0, 165534.0, 78135.0, 452.0, 54718.0, 343518.0, 452.0, 60665.0, 193716.0, 192973.0, 188481.0, 337201.0, 357266.0, 399931.0, 102223.0, 399936.0, 376110.0, 107670.0, 188481.0, 358160.0, 358160.0, 189034.0, 452.0, 193716.0, 192973.0, 43010.0, 159395.0, 51274.0, 54718.0, 329916.0, 71090.0, 57833.0, 360915.0, 57170.0, 268046.0, 357761.0, 357761.0, 272583.0, 306262.0, 63970.0, 188836.0, 107671.0, 272583.0, 344316.0, 151349.0, 373389.0, 357266.0, 280489.0, 388747.0, 282874.0, 54718.0, 272583.0, 242260.0, 151349.0, 337201.0, 357266.0, 357266.0, 148356.0, 452.0, 56041.0, 188273.0, 306262.0, 124748.0, 192973.0, 357266.0, 122455.0, 268046.0, 272583.0, 133929.0, 337176.0, 337176.0, 332240.0, 193716.0, 174032.0, 71814.0, 267267.0, 136599.0, 357212.0, 357266.0, 292794.0, 151981.0, 268345.0, 45463.0, 335129.0, 335129.0, 157523.0, 452.0, 269953.0, 57920.0, 110156.0, 71090.0, 360915.0, 337189.0, 357266.0, 222960.0, 304988.0, 268046.0, 357266.0, 292794.0, 374253.0, 54273.0, 133929.0, 51274.0, 54718.0, 357412.0, 360915.0, 374163.0, 54273.0, 54273.0, 292834.0, 360915.0, 160418.0, 54273.0, 190940.0, 337176.0, 867.0], [357266.0, 226405.0, 133215.0, 122455.0, 174032.0, 71585.0, 357266.0, 364707.0, 54718.0, 271468.0, 268046.0, 304244.0, 133215.0, 133215.0, 60665.0, 357266.0, 306381.0, 268046.0, 176066.0, 294055.0, 452.0, 357354.0, 107963.0, 192973.0, 357266.0, 250392.0, 124729.0, 384122.0, 360915.0, 45457.0, 357266.0, 226405.0, 226405.0, 69725.0, 269798.0, 357266.0, 306262.0, 54718.0, 125165.0, 268046.0, 357266.0, 107492.0, 268046.0, 226405.0, 107963.0, 54718.0, 193919.0, 113591.0, 452.0, 72028.0, 452.0, 291376.0, 54718.0, 170575.0, 452.0, 193716.0, 192973.0, 106804.0, 357212.0, 357266.0, 226405.0, 107963.0, 306177.0, 374021.0, 360915.0, 44401.0, 88126.0, 357266.0, 222156.0, 268046.0, 209662.0, 54718.0, 54718.0, 357645.0, 452.0, 193716.0, 192973.0, 267358.0, 357212.0, 357266.0, 122455.0, 268046.0, 226405.0, 133243.0, 192973.0, 43010.0, 106337.0, 54718.0, 350373.0, 293229.0, 452.0, 192214.0, 357266.0, 133215.0, 122455.0, 247377.0, 452.0, 354656.0, 190380.0, 247377.0, 452.0, 107963.0, 375636.0, 54718.0, 96737.0, 268046.0, 222216.0, 867.0], [69725.0, 269798.0, 357266.0, 121738.0, 247378.0, 268046.0, 268046.0, 124748.0, 304963.0, 188481.0, 368355.0, 338556.0, 452.0, 357266.0, 121738.0, 247377.0, 268046.0, 268046.0, 124748.0, 304963.0, 188481.0, 358584.0, 338556.0, 192973.0, 192973.0, 357266.0, 69840.0, 186344.0, 192973.0, 357212.0, 357266.0, 45919.0, 124748.0, 304237.0, 192973.0, 247383.0, 60665.0, 54273.0, 270501.0, 270501.0, 357266.0, 106511.0, 304958.0, 360915.0, 357266.0, 389938.0, 81903.0, 268046.0, 338898.0, 124748.0, 304237.0, 192973.0, 135472.0, 452.0, 54718.0, 357266.0, 292853.0, 268046.0, 357266.0, 124748.0, 291280.0, 192973.0, 108427.0, 191811.0, 357266.0, 292853.0, 268046.0, 362211.0, 270625.0, 74651.0, 270501.0, 327405.0, 54718.0, 103066.0, 159832.0, 159832.0, 357266.0, 51278.0, 268046.0, 362211.0, 270625.0, 74651.0, 270501.0, 327405.0, 54718.0, 103066.0, 159832.0, 267087.0, 58997.0, 291763.0, 54718.0, 357266.0, 357589.0, 293458.0, 151349.0, 357266.0, 109486.0, 54718.0, 106330.0, 268046.0, 357266.0, 51278.0, 192973.0, 281319.0, 867.0], [292762.0, 54718.0, 343462.0, 57924.0, 90548.0, 143927.0, 357266.0, 322769.0, 151349.0, 224573.0, 54718.0, 162723.0, 162723.0, 142050.0, 51278.0, 452.0, 346373.0, 60665.0, 159479.0, 288940.0, 158.0, 158.0, 140185.0, 50256.0, 452.0, 17580.0, 42950.0, 42950.0, 140185.0, 50256.0, 452.0, 17698.0, 42950.0, 42950.0, 140185.0, 50256.0, 452.0, 17635.0, 324.0, 452.0, 58997.0, 107670.0, 60665.0, 43010.0, 344327.0, 357212.0, 192973.0, 399931.0, 220815.0, 222484.0, 360915.0, 160418.0, 345109.0, 188481.0, 43010.0, 224573.0, 270916.0, 399936.0, 158.0, 158.0, 140185.0, 50256.0, 452.0, 17635.0, 324.0, 867.0, 43010.0, 109891.0, 155211.0, 107702.0, 268046.0, 357266.0, 399931.0, 347147.0, 268046.0, 357266.0, 357266.0, 191051.0, 375636.0, 188481.0, 357266.0, 42972.0, 129879.0, 42974.0, 62065.0, 357266.0, 293232.0, 247378.0, 287518.0, 399936.0, 158.0, 158.0, 140185.0, 50256.0, 452.0, 17580.0, 324.0, 192973.0, 270910.0, 374253.0, 43010.0, 159479.0, 51274.0, 51274.0, 272583.0, 63534.0, 399931.0, 374163.0, 357266.0, 106891.0, 151719.0, 268046.0, 325309.0, 249036.0, 92271.0, 317185.0, 360915.0, 140079.0, 43010.0, 109891.0, 155211.0, 165549.0, 399936.0, 158.0, 150320.0, 140185.0, 50256.0, 452.0, 17560.0, 324.0, 151349.0, 148433.0, 357266.0, 162723.0, 162723.0, 74313.0, 452.0, 357266.0, 201605.0, 148300.0, 192973.0, 346324.0, 46780.0, 158.0, 114054.0, 140185.0, 50256.0, 452.0, 14957.0, 42950.0, 42950.0, 140185.0, 50256.0, 452.0, 15022.0, 42950.0, 361398.0, 140185.0, 50256.0, 452.0, 15039.0, 324.0, 867.0], [188481.0, 357266.0, 276859.0, 384374.0, 291753.0, 54273.0, 143026.0, 377862.0, 268046.0, 357266.0, 166027.0, 373043.0, 389793.0, 325008.0, 124896.0, 124896.0, 357266.0, 51274.0, 192973.0, 69725.0, 269798.0, 357266.0, 340213.0, 45859.0, 320539.0, 57844.0, 360915.0, 357266.0, 166049.0, 131665.0, 86377.0, 269798.0, 357266.0, 69895.0, 268046.0, 357266.0, 356822.0, 389823.0, 54718.0, 43010.0, 217449.0, 217449.0, 357266.0, 51274.0, 452.0, 271500.0, 293583.0, 151349.0, 137444.0, 54718.0, 292377.0, 389817.0, 452.0, 383514.0, 46130.0, 360915.0, 287823.0, 54718.0, 54718.0, 54273.0, 143038.0, 69725.0, 269798.0, 357266.0, 209662.0, 45705.0, 154323.0, 357266.0, 357266.0, 239226.0, 268046.0, 324444.0, 304960.0, 383514.0, 383514.0, 357266.0, 143026.0, 51274.0, 383514.0, 141703.0, 47889.0, 357266.0, 233634.0, 124895.0, 124895.0, 384374.0, 267267.0, 188388.0, 188481.0, 357266.0, 93018.0, 268046.0, 357266.0, 124896.0, 281319.0, 151349.0, 329789.0, 356822.0, 356822.0, 188481.0, 46223.0, 357266.0, 51274.0, 57836.0, 142970.0, 188388.0, 188481.0, 126739.0, 103317.0, 353651.0, 867.0], [867.0, 174032.0, 71814.0, 57844.0, 360915.0, 52943.0, 278085.0, 188481.0, 376147.0, 376147.0, 337259.0, 291487.0, 306717.0, 120642.0, 357266.0, 379863.0, 268046.0, 119273.0, 188839.0, 289058.0, 188481.0, 52943.0, 106384.0, 385664.0, 305946.0, 188481.0, 42972.0, 33544.0, 42974.0, 867.0, 188481.0, 56041.0, 345195.0, 452.0, 357266.0, 289058.0, 344940.0, 188481.0, 278085.0, 86377.0, 388711.0, 188380.0, 325993.0, 385664.0, 192126.0, 42972.0, 36169.0, 42974.0, 867.0, 188481.0, 358160.0, 389836.0, 452.0, 357266.0, 63975.0, 289058.0, 300366.0, 154323.0, 154323.0, 41.0, 452.0, 54718.0, 217449.0, 289006.0, 385664.0, 267267.0, 386474.0, 151055.0, 357266.0, 86363.0, 124748.0, 54718.0, 237383.0, 71090.0, 62813.0, 360915.0, 357266.0, 135204.0, 71177.0, 300898.0, 54718.0, 273732.0, 273732.0, 358160.0, 383514.0, 151055.0, 88126.0, 249714.0, 302801.0, 305954.0, 268046.0, 357266.0, 289058.0, 125818.0, 60665.0, 43010.0, 155211.0, 268046.0, 86363.0, 344327.0, 151349.0, 135204.0, 71177.0, 240632.0, 317183.0, 388711.0, 63975.0, 289058.0, 42955.0, 1887.0, 41.0, 42972.0, 38601.0, 42974.0, 867.0, 188481.0, 56041.0, 345195.0, 452.0, 332008.0, 289058.0, 187656.0, 154323.0, 154323.0, 385664.0, 305946.0, 62065.0, 221134.0, 44617.0, 1887.0, 41.0, 63975.0, 289058.0, 42972.0, 42972.0, 42974.0, 867.0, 377946.0, 302801.0, 389836.0, 305954.0, 332008.0, 187656.0, 54718.0, 237383.0, 189161.0, 357212.0, 357266.0, 289058.0, 344936.0, 121169.0, 269798.0, 357266.0, 86363.0, 124748.0, 42972.0, 6765.0, 42974.0, 867.0, 272583.0, 57840.0, 268046.0, 357266.0, 374163.0, 268046.0, 268046.0, 360915.0, 97030.0, 52943.0, 278085.0, 188836.0, 357266.0, 106194.0, 268046.0, 357266.0, 277915.0, 360915.0, 193919.0, 121839.0, 247378.0, 42972.0, 8172.0, 42974.0, 54718.0, 357266.0, 97028.0, 268046.0, 348406.0, 312013.0, 268046.0, 346373.0, 278085.0, 42972.0, 9321.0, 42974.0, 867.0, 188481.0, 357266.0, 291753.0, 389836.0, 452.0, 357266.0, 48971.0, 192973.0, 360915.0, 120638.0, 43010.0, 339034.0, 368669.0, 268046.0, 119263.0, 291753.0, 62065.0, 377946.0, 226394.0, 63975.0, 289058.0, 221134.0, 72786.0, 1799.0, 41.0, 452.0, 54718.0, 386474.0, 126848.0, 264550.0, 151050.0, 357266.0, 86363.0, 124748.0, 60665.0, 188481.0, 337259.0, 272583.0, 305946.0, 305946.0, 384374.0, 52520.0, 120638.0, 182540.0, 358160.0, 289058.0, 344936.0, 96737.0, 47798.0, 182186.0, 193509.0, 291860.0, 158.0, 179208.0, 324.0, 364480.0, 268046.0, 357266.0, 316998.0, 317178.0, 867.0], [264588.0, 357212.0, 357266.0, 291763.0, 58791.0, 389913.0, 62065.0, 357266.0, 152894.0, 221115.0, 452.0, 239187.0, 357212.0, 132276.0, 332395.0, 152894.0, 158.0, 286963.0, 193919.0, 109527.0, 108098.0, 324.0, 192973.0, 192973.0, 358802.0, 357266.0, 259585.0, 452.0, 267327.0, 43010.0, 102208.0, 289677.0, 292765.0, 151349.0, 51582.0, 268046.0, 357266.0, 353325.0, 353325.0, 358160.0, 143954.0, 231492.0, 357266.0, 357266.0, 278020.0, 346829.0, 151349.0, 302295.0, 57840.0, 71494.0, 452.0, 372358.0, 272583.0, 57924.0, 158.0, 185635.0, 185635.0, 324.0, 452.0, 384374.0, 90548.0, 289875.0, 231458.0, 43010.0, 118781.0, 44608.0, 357266.0, 217055.0, 62065.0, 132276.0, 259972.0, 259972.0, 189034.0, 452.0, 62065.0, 132276.0, 152894.0, 452.0, 384374.0, 90548.0, 105585.0, 357266.0, 141986.0, 154323.0, 278468.0, 152906.0, 360915.0, 160418.0, 43010.0, 332395.0, 332014.0, 321938.0, 74651.0, 357266.0, 356531.0, 374591.0, 54718.0, 357266.0, 357266.0, 43010.0, 332120.0, 384122.0, 268046.0, 126981.0, 358160.0, 105576.0, 192973.0, 360915.0, 61762.0, 357212.0, 152906.0, 58997.0, 189078.0, 54718.0, 252689.0, 357266.0, 289677.0, 140081.0, 268046.0, 357266.0, 217787.0, 217787.0, 357266.0, 321938.0, 334260.0, 151349.0, 217055.0, 214884.0, 268046.0, 43010.0, 162058.0, 356531.0, 374591.0, 192973.0, 106517.0, 88126.0, 252690.0, 357266.0, 273210.0, 292764.0, 285889.0, 267326.0, 151349.0, 51582.0, 268046.0, 193919.0, 152906.0, 42950.0, 270970.0, 138701.0, 452.0, 45282.0, 357266.0, 224990.0, 60665.0, 42867.0, 158.0, 33544.0, 324.0, 324.0, 158.0, 158.0, 452.0, 399662.0, 324.0, 386432.0, 274488.0, 158.0, 158.0, 452.0, 399662.0, 324.0, 306013.0, 357266.0, 102208.0, 292765.0, 273210.0, 151349.0, 357266.0, 217055.0, 214884.0, 109527.0, 360915.0, 357266.0, 190461.0, 142283.0, 62065.0, 359889.0, 350784.0, 452.0, 392100.0, 88126.0, 374253.0, 357266.0, 357266.0, 119365.0, 88126.0, 277191.0, 399662.0, 867.0], [193716.0, 174032.0, 71814.0, 45596.0, 357212.0, 357212.0, 58997.0, 286442.0, 43010.0, 218977.0, 310672.0, 188481.0, 357266.0, 292852.0, 268046.0, 81562.0, 133215.0, 122455.0, 54718.0, 113591.0, 113591.0, 357665.0, 452.0, 357266.0, 259972.0, 136576.0, 269798.0, 348745.0, 268046.0, 364127.0, 350362.0, 188481.0, 239882.0, 58997.0, 111453.0, 259972.0, 120339.0, 151349.0, 46390.0, 57920.0, 360915.0, 239226.0, 193919.0, 281311.0, 54718.0, 123129.0, 289872.0, 289872.0, 88126.0, 142282.0, 357266.0, 121739.0, 268046.0, 348746.0, 364123.0, 350362.0, 60665.0, 385218.0, 60665.0, 193919.0, 141705.0, 57920.0, 452.0, 43010.0, 152908.0, 388711.0, 357266.0, 159391.0, 57832.0, 54718.0, 132569.0, 45112.0, 117493.0, 306486.0, 151349.0, 141705.0, 348745.0, 268046.0, 364123.0, 350362.0, 188481.0, 239882.0, 192973.0, 122450.0, 69725.0, 269798.0, 257320.0, 268046.0, 304244.0, 344936.0, 54718.0, 357266.0, 146154.0, 364123.0, 120331.0, 188481.0, 188481.0, 357266.0, 293583.0, 152908.0, 192973.0, 57844.0, 188481.0, 357266.0, 54431.0, 54718.0, 106194.0, 268046.0, 268046.0, 54718.0, 392784.0, 309371.0, 309371.0], [52318.0, 388711.0, 357266.0, 142731.0, 268046.0, 106522.0, 102787.0, 332181.0, 452.0, 133929.0, 379863.0, 54718.0, 54431.0, 268046.0, 236171.0, 102787.0, 117493.0, 58997.0, 71587.0, 249714.0, 188273.0, 357109.0, 357109.0, 188481.0, 358160.0, 276859.0, 452.0, 384374.0, 366254.0, 360915.0, 142902.0, 357266.0, 143995.0, 143995.0, 102787.0, 96737.0, 88126.0, 105593.0, 388091.0, 297544.0, 54718.0, 359934.0, 117493.0, 245280.0, 245280.0, 388711.0, 107783.0, 297544.0, 359889.0, 54718.0, 45096.0, 343855.0, 109891.0, 452.0, 357266.0, 51278.0, 291763.0, 348215.0, 376147.0, 297534.0, 269798.0, 26476.0, 359934.0, 117539.0, 452.0, 346373.0, 60665.0, 63975.0, 452.0, 244871.0, 452.0, 54718.0, 237275.0, 237275.0, 43010.0, 259972.0, 359934.0, 117493.0, 54431.0, 51274.0, 192973.0, 162058.0, 452.0, 386474.0, 192973.0, 139731.0, 346829.0, 151349.0, 54448.0, 75774.0, 75774.0, 51582.0, 357761.0, 51278.0, 174642.0, 71814.0, 188221.0, 269798.0, 54718.0, 190959.0, 191811.0, 43010.0, 379858.0, 54431.0, 350362.0, 452.0, 388711.0, 388711.0, 388711.0, 388711.0, 142820.0, 306717.0, 269798.0, 326146.0, 117539.0, 154323.0, 290454.0, 57840.0, 58997.0, 291763.0, 867.0], [182573.0, 358160.0, 192973.0, 264550.0, 200035.0, 43010.0, 374174.0, 121184.0, 268046.0, 54273.0, 57875.0, 385335.0, 342069.0, 342069.0, 186645.0, 384374.0, 58997.0, 291635.0, 360915.0, 52067.0, 357212.0, 357266.0, 292848.0, 192973.0, 129453.0, 88126.0, 43010.0, 111773.0, 54718.0, 357212.0, 357266.0, 233795.0, 247378.0, 357212.0, 384374.0, 174642.0, 125119.0, 192973.0, 189034.0, 159438.0, 357266.0, 186478.0, 292848.0, 452.0, 357412.0, 186404.0, 357266.0, 125063.0, 106384.0, 268046.0, 357266.0, 350362.0, 52074.0, 374021.0, 360915.0, 187871.0, 231458.0, 61627.0, 44608.0, 357266.0, 188025.0, 268046.0, 376147.0, 108320.0, 384374.0, 243977.0, 57855.0, 360915.0, 358160.0, 304389.0, 292848.0, 399907.0, 200035.0, 60665.0, 384374.0, 90548.0, 385664.0, 384374.0, 360915.0, 72477.0, 357266.0, 247378.0, 383514.0, 43010.0, 94031.0, 143038.0, 268046.0, 43010.0, 43010.0, 188481.0, 357266.0, 108098.0, 268046.0, 243085.0, 452.0, 357266.0, 267077.0, 268046.0, 103317.0, 192973.0, 360915.0, 186403.0, 278960.0, 53909.0, 357266.0, 117493.0, 54718.0, 118742.0, 386474.0, 159463.0, 360915.0, 150791.0, 269798.0, 188481.0, 155499.0, 452.0, 249714.0, 249714.0, 452.0, 452.0, 193716.0, 192973.0, 357645.0, 258303.0, 151349.0, 357266.0, 321724.0, 360915.0, 231458.0, 346373.0, 94031.0, 107354.0, 44608.0, 357266.0, 133896.0, 268046.0, 108320.0, 63822.0, 360915.0, 177103.0, 269798.0, 357266.0, 142981.0, 303939.0, 357266.0, 371335.0, 304389.0, 292848.0, 327864.0, 327864.0, 357761.0, 107354.0, 90548.0, 71090.0, 372227.0, 270970.0, 265339.0, 88126.0, 142043.0, 186369.0, 268046.0, 277901.0, 867.0], [867.0, 133951.0, 329916.0, 71090.0, 124744.0, 363081.0, 46999.0, 357266.0, 242260.0, 268046.0, 146154.0, 143139.0, 360915.0, 273567.0, 357266.0, 189767.0, 268046.0, 131663.0, 143995.0, 357212.0, 222709.0, 357266.0, 357266.0, 357266.0, 374163.0, 268046.0, 46991.0, 229430.0, 219115.0, 242260.0, 346373.0, 60665.0, 119136.0, 259700.0, 259595.0, 54718.0, 253500.0, 350188.0, 143139.0, 329916.0, 52520.0, 71090.0, 192126.0, 269798.0, 292803.0, 371152.0, 357266.0, 189767.0, 268046.0, 252664.0, 131663.0, 143995.0, 60665.0, 346373.0, 242260.0, 237383.0, 294037.0, 346170.0, 188389.0, 373485.0, 357266.0, 374516.0, 374516.0, 136363.0, 146154.0, 143139.0, 242260.0, 158.0, 123643.0, 452.0, 195609.0, 452.0, 42.0, 321418.0, 452.0, 17721.0, 42950.0, 193491.0, 452.0, 452.0, 452.0, 452.0, 452.0, 145132.0, 452.0, 42.0, 42.0, 452.0, 17724.0, 42950.0, 277606.0, 42.0, 219441.0, 452.0, 17724.0, 324.0, 867.0, 239204.0, 452.0, 384374.0, 329999.0, 357212.0, 357266.0, 281311.0, 268046.0, 357266.0, 219115.0, 51278.0, 90548.0, 71090.0, 188387.0, 88126.0, 374253.0, 146154.0, 143139.0, 242260.0, 357212.0, 305141.0, 269798.0, 357266.0, 55434.0, 189825.0, 268046.0, 253494.0, 45859.0, 45859.0, 146160.0, 346373.0, 60665.0, 357266.0, 357266.0, 54718.0, 357266.0, 122790.0, 294009.0, 249714.0, 346323.0, 357109.0, 272587.0, 188481.0, 303670.0, 357266.0, 188025.0, 268046.0, 357266.0, 368321.0, 131663.0, 143995.0, 357212.0, 384374.0, 107670.0, 188481.0, 358160.0, 358160.0, 346373.0, 146160.0, 90548.0, 71090.0, 302229.0, 188221.0, 191811.0, 43010.0, 293757.0, 108316.0, 151349.0, 302295.0, 108302.0, 452.0, 139731.0, 357212.0, 357266.0, 136363.0, 278956.0, 302983.0, 350396.0, 58997.0, 264963.0, 71587.0, 63822.0, 151349.0, 102845.0, 356585.0, 452.0, 132176.0, 357266.0, 357266.0, 106326.0, 108302.0, 350362.0, 158.0, 213393.0, 140185.0, 50256.0, 452.0, 17717.0, 324.0, 324.0, 42867.0, 42867.0, 867.0], [138656.0, 348406.0, 355896.0, 383514.0, 239228.0, 62065.0, 62065.0, 388711.0, 43010.0, 333088.0, 292667.0, 222946.0, 350803.0, 85790.0, 85790.0, 307726.0, 239231.0, 385664.0, 281319.0, 388711.0, 54273.0, 59069.0, 59069.0, 62065.0, 327884.0, 300978.0, 373317.0, 360915.0, 360915.0, 54718.0, 388711.0, 43010.0, 284514.0, 64444.0, 378317.0, 42972.0, 17991.0, 42974.0, 158.0, 279121.0, 324.0, 62065.0, 153799.0, 373317.0, 360915.0, 360915.0, 351098.0, 2479.0, 330039.0, 357266.0, 239228.0, 375636.0, 268046.0, 379723.0, 158.0, 357266.0, 302292.0, 106381.0, 106381.0, 268046.0, 106337.0, 379723.0, 324.0, 62065.0, 62065.0, 54718.0, 54718.0, 54718.0, 268046.0, 348406.0, 355896.0, 151349.0, 357266.0, 337177.0, 388711.0, 54718.0, 388756.0, 357266.0, 348414.0, 348414.0, 151349.0, 357266.0, 250392.0, 106694.0, 158.0, 158.0, 41.0, 324.0, 337176.0, 452.0, 379723.0, 146604.0, 154323.0, 42962.0, 42962.0, 62065.0, 226394.0, 327884.0, 300964.0, 360915.0, 44608.0, 44608.0, 62065.0, 357266.0, 178572.0, 327884.0, 327884.0, 357266.0, 279952.0, 42867.0, 294500.0, 150497.0, 52520.0, 142576.0, 134953.0, 357212.0, 342223.0, 303661.0, 388711.0, 188949.0, 153800.0, 42972.0, 26559.0, 42974.0, 867.0, 51582.0, 357266.0, 58155.0, 279952.0, 42867.0, 294500.0, 337177.0, 337177.0, 331418.0, 452.0, 87775.0, 357266.0, 291748.0, 268046.0, 348415.0, 123517.0, 264550.0, 47483.0, 357266.0, 364721.0, 188481.0, 357266.0, 307726.0, 72028.0, 452.0, 278020.0, 62065.0, 357266.0, 178545.0, 153799.0, 158.0, 158.0, 324.0, 867.0], [357266.0, 270806.0, 268188.0, 88126.0, 123911.0, 354659.0, 360915.0, 231458.0, 119136.0, 301063.0, 188481.0, 295455.0, 268046.0, 348210.0, 192973.0, 71587.0, 189248.0, 188481.0, 106272.0, 74651.0, 137878.0, 452.0, 107671.0, 289384.0, 133907.0, 188481.0, 303670.0, 357266.0, 109968.0, 268046.0, 357266.0, 106163.0, 357212.0, 174642.0, 46780.0, 357266.0, 357266.0, 60665.0, 193716.0, 174032.0, 71814.0, 107126.0, 88126.0, 265603.0, 93018.0, 345173.0, 452.0, 63659.0, 268046.0, 292835.0, 151349.0, 357266.0, 295455.0, 358802.0, 358802.0, 354662.0, 136753.0, 106163.0, 360915.0, 45457.0, 43010.0, 303676.0, 188481.0, 109968.0, 158.0, 63975.0, 38754.0, 41.0, 324.0, 268046.0, 362760.0, 362760.0, 336114.0, 384516.0, 247396.0, 58997.0, 286442.0, 43010.0, 112045.0, 310672.0, 388747.0, 106163.0, 452.0, 139731.0, 188481.0, 357266.0, 159439.0, 268046.0, 375624.0, 268046.0, 348211.0, 348211.0, 358160.0, 60371.0, 150793.0, 269798.0, 357266.0, 310672.0, 268046.0, 268046.0, 388747.0, 43010.0, 348211.0, 96165.0, 330019.0, 452.0, 358802.0, 332181.0, 452.0, 357266.0, 47006.0, 54718.0, 123790.0, 268046.0, 188224.0, 43010.0, 350373.0, 374163.0, 268046.0, 357266.0, 191507.0, 54718.0, 119368.0, 357266.0, 69840.0, 344936.0, 268046.0, 54273.0, 54273.0, 96165.0, 867.0], [388711.0, 136626.0, 268046.0, 374518.0, 357266.0, 192129.0, 452.0, 142833.0, 191744.0, 54718.0, 106194.0, 452.0, 358160.0, 60371.0, 192127.0, 357266.0, 113957.0, 107878.0, 452.0, 113957.0, 121839.0, 54718.0, 113957.0, 108067.0, 151349.0, 340038.0, 153443.0, 264164.0, 264164.0, 269798.0, 357266.0, 69895.0, 268046.0, 357266.0, 192129.0, 452.0, 358160.0, 60371.0, 54444.0, 357266.0, 357589.0, 152908.0, 268046.0, 113958.0, 107878.0, 54718.0, 293583.0, 337259.0, 337259.0, 384374.0, 181581.0, 357212.0, 193716.0, 90548.0, 294037.0, 337259.0, 141989.0, 151349.0, 113957.0, 121839.0, 151349.0, 340038.0, 153443.0, 264164.0, 345161.0, 867.0], [358160.0, 276859.0, 346715.0, 43010.0, 121839.0, 268046.0, 178401.0, 297112.0, 302295.0, 311797.0, 143869.0, 122155.0, 58791.0, 151349.0, 160409.0, 302983.0, 268046.0, 335202.0, 335202.0, 151349.0, 178401.0, 281311.0, 311793.0, 143869.0, 122155.0, 452.0, 357266.0, 357266.0, 158.0, 247475.0, 95155.0, 363921.0, 324.0, 58791.0, 452.0, 386474.0, 192973.0, 309975.0, 47889.0, 222350.0, 96721.0, 452.0, 383514.0, 383514.0, 357266.0, 357266.0, 219115.0, 51274.0, 383514.0, 374168.0, 151349.0, 111453.0, 270910.0, 219115.0, 219115.0, 357266.0, 293583.0, 173390.0, 344936.0, 383514.0, 106391.0, 268046.0, 105304.0, 338556.0, 108428.0, 452.0, 187646.0, 187646.0, 452.0, 262664.0, 148300.0, 452.0, 240772.0, 108316.0, 191295.0, 452.0, 187646.0, 311802.0, 452.0, 187646.0, 319945.0, 452.0, 238976.0, 159445.0, 452.0, 90739.0, 122159.0, 452.0, 107092.0, 349661.0, 452.0, 107092.0, 233843.0, 452.0, 289376.0, 289376.0, 452.0, 117493.0, 167639.0, 452.0, 273736.0, 292859.0, 54718.0, 105304.0, 273736.0, 273736.0, 60665.0, 43010.0, 306708.0, 452.0, 346706.0, 143869.0, 122155.0, 122509.0, 90548.0, 106967.0, 302295.0, 292853.0, 62065.0, 339147.0, 268046.0, 62065.0, 219145.0, 23310.0, 152906.0, 281063.0, 323025.0, 867.0], [193716.0, 174032.0, 71814.0, 249714.0, 357109.0, 43010.0, 95359.0, 332240.0, 357266.0, 136327.0, 268046.0, 357266.0, 220951.0, 220951.0, 47798.0, 357212.0, 452.0, 388711.0, 357266.0, 122455.0, 268046.0, 133243.0, 54718.0, 113591.0, 452.0, 357266.0, 188946.0, 268046.0, 191474.0, 107983.0, 54718.0, 106043.0, 74651.0, 99161.0, 54718.0, 151508.0, 110429.0, 452.0, 220951.0, 389823.0, 174642.0, 71814.0, 57720.0, 249714.0, 249714.0, 220951.0, 389823.0, 174642.0, 71585.0, 54273.0, 189248.0, 277915.0, 268046.0, 99212.0, 380379.0, 452.0, 346373.0, 60665.0, 390612.0, 452.0, 200455.0, 215204.0, 268745.0, 54718.0, 54718.0, 60665.0, 43010.0, 259972.0, 283144.0, 188481.0, 357266.0, 380379.0, 350362.0, 268046.0, 357266.0, 247417.0, 99212.0, 452.0, 357266.0, 220951.0, 389823.0, 129101.0, 43010.0, 225985.0, 268046.0, 44984.0, 44984.0, 44984.0, 192973.0, 43010.0, 259972.0, 82861.0, 268046.0, 223098.0, 452.0, 386474.0, 105585.0, 357266.0, 223098.0, 388711.0, 357266.0, 357266.0, 358160.0, 276859.0, 192973.0, 366274.0, 360915.0, 54443.0, 357266.0, 220951.0, 389823.0, 154323.0, 357266.0, 281957.0, 268046.0, 268046.0, 358160.0, 276859.0, 387696.0, 125161.0, 357266.0, 302484.0, 268046.0, 57720.0, 357266.0, 220951.0, 389823.0, 54718.0, 357266.0, 189767.0, 237383.0, 162051.0, 360915.0, 247417.0, 99212.0, 151719.0, 357266.0, 357266.0, 378761.0, 867.0], [357266.0, 205835.0, 287479.0, 268046.0, 309945.0, 131666.0, 192973.0, 270888.0, 121839.0, 54718.0, 54718.0, 357266.0, 133928.0, 268046.0, 309945.0, 131666.0, 174032.0, 71814.0, 357266.0, 163265.0, 268046.0, 306268.0, 188481.0, 302801.0, 302801.0, 322210.0, 58997.0, 374168.0, 360915.0, 121730.0, 131663.0, 292803.0, 188481.0, 358160.0, 276859.0, 452.0, 54718.0, 54273.0, 266497.0, 158.0, 254935.0, 324.0, 303277.0, 309945.0, 152216.0, 131663.0, 51274.0, 192973.0, 162058.0, 269798.0, 269798.0, 193716.0, 90548.0, 71090.0, 132569.0, 143026.0, 360915.0, 364528.0, 362215.0, 452.0, 103066.0, 225674.0, 54718.0, 338898.0, 309945.0, 309945.0, 54718.0, 358549.0, 102221.0, 242260.0, 268046.0, 309945.0, 131666.0, 58997.0, 106190.0, 151349.0, 132683.0, 268046.0, 268046.0, 357266.0, 306717.0, 329974.0, 357212.0, 131666.0, 121731.0, 388711.0, 322210.0, 58997.0, 176559.0, 188481.0, 178401.0, 133929.0, 131666.0, 131666.0, 357266.0, 131664.0, 142981.0, 69725.0, 269798.0, 322210.0, 58997.0, 106797.0, 54718.0, 54718.0, 193716.0, 153.0, 133928.0, 192973.0, 178401.0, 268046.0, 266497.0, 158.0, 254935.0, 324.0, 54718.0, 192973.0, 222960.0, 360915.0, 357266.0, 119560.0, 268046.0, 268046.0, 388711.0, 357266.0, 188388.0, 268046.0, 106511.0, 133928.0, 452.0, 193716.0, 387696.0, 231458.0, 357266.0, 302295.0, 131666.0, 108302.0, 71585.0, 289446.0, 867.0], [143885.0, 388711.0, 119345.0, 44430.0, 268046.0, 63687.0, 219115.0, 53909.0, 219113.0, 54718.0, 226394.0, 136534.0, 192215.0, 188481.0, 113946.0, 384516.0, 190821.0, 138116.0, 452.0, 177231.0, 384374.0, 293582.0, 43010.0, 107871.0, 247378.0, 357212.0, 192973.0, 69725.0, 269798.0, 269798.0, 155582.0, 104537.0, 388711.0, 136533.0, 360915.0, 231458.0, 373317.0, 151349.0, 357761.0, 357761.0, 155499.0, 249714.0, 452.0, 384374.0, 399913.0, 376657.0, 295763.0, 357266.0, 107871.0, 247378.0, 191811.0, 290460.0, 358802.0, 357266.0, 270193.0, 354435.0, 303994.0, 268046.0, 357266.0, 297112.0, 110542.0, 57695.0, 292986.0, 54718.0, 232573.0, 867.0], [54448.0, 357266.0, 331414.0, 268046.0, 268046.0, 131663.0, 248624.0, 268046.0, 259972.0, 46173.0, 107878.0, 216683.0, 452.0, 107671.0, 357266.0, 189767.0, 268046.0, 376147.0, 143995.0, 452.0, 358160.0, 276859.0, 323929.0, 393868.0, 285994.0, 151349.0, 43010.0, 368710.0, 142820.0, 397999.0, 452.0, 86377.0, 209662.0, 69709.0, 268046.0, 305335.0, 325028.0, 187656.0, 191579.0, 452.0, 374168.0, 374168.0, 305335.0, 325028.0, 187656.0, 452.0, 92687.0, 358802.0, 191143.0, 191579.0, 268046.0, 96721.0, 278960.0, 268046.0, 259972.0, 46173.0, 107878.0, 216683.0, 54718.0, 147810.0, 147810.0, 191579.0, 306717.0, 268046.0, 17974.0, 319932.0, 305335.0, 325028.0, 187646.0, 329974.0, 357212.0, 357266.0, 245274.0, 340109.0, 63975.0, 58999.0, 268046.0, 259972.0, 107878.0, 216683.0, 96721.0, 248623.0, 88126.0, 17974.0, 319932.0, 305335.0, 325028.0, 117493.0, 192973.0, 44608.0, 33544.0, 33544.0, 357266.0, 44430.0, 17974.0, 319932.0, 305335.0, 325028.0, 117493.0, 186402.0, 259972.0, 188947.0, 107878.0, 216683.0, 96721.0, 155499.0, 344584.0, 452.0, 330039.0, 188481.0, 357266.0, 302983.0, 268046.0, 357266.0, 335165.0, 340109.0, 58999.0, 303666.0, 54718.0, 357266.0, 302983.0, 45289.0, 188948.0, 867.0], [188481.0, 358160.0, 276859.0, 452.0, 384374.0, 291753.0, 51278.0, 151349.0, 63652.0, 159439.0, 268046.0, 224923.0, 302482.0, 302482.0, 357266.0, 51278.0, 58997.0, 44493.0, 360915.0, 107871.0, 297580.0, 357212.0, 58997.0, 337182.0, 388711.0, 372148.0, 372148.0, 357266.0, 51278.0, 136613.0, 48790.0, 354635.0, 346373.0, 60665.0, 324444.0, 259595.0, 360915.0, 292969.0, 377443.0, 377443.0, 357761.0, 51278.0, 58997.0, 335129.0, 188481.0, 333429.0, 54718.0, 58997.0, 44493.0, 360915.0, 305876.0, 363495.0, 297566.0, 297566.0, 357810.0, 58997.0, 278020.0, 346829.0, 151349.0, 188219.0, 269798.0, 357266.0, 240772.0, 107852.0, 247220.0, 247220.0, 357266.0, 51278.0, 90548.0, 71090.0, 57844.0, 360915.0, 297566.0, 159439.0, 151349.0, 198213.0, 191737.0, 452.0, 101822.0, 325758.0, 142268.0, 452.0, 140213.0, 867.0], [54273.0, 51274.0, 268046.0, 268046.0, 257848.0, 257848.0, 159439.0, 151349.0, 345827.0, 348412.0, 192973.0, 192973.0, 357266.0, 51274.0, 188838.0, 368321.0, 342882.0, 42867.0, 247378.0, 86371.0, 54718.0, 361959.0, 278684.0, 278684.0, 188481.0, 357266.0, 323165.0, 268046.0, 247378.0, 86371.0, 452.0, 188481.0, 271173.0, 360915.0, 267324.0, 357266.0, 119423.0, 348406.0, 452.0, 357266.0, 119421.0, 376703.0, 192973.0, 106517.0, 386474.0, 192973.0, 61722.0, 388711.0, 357266.0, 114040.0, 54718.0, 357266.0, 334862.0, 268046.0, 114248.0, 224614.0, 224614.0, 188481.0, 357266.0, 292834.0, 268046.0, 361959.0, 278684.0, 159439.0, 452.0, 357266.0, 334655.0, 292834.0, 192973.0, 46780.0, 360915.0, 160418.0, 357266.0, 101921.0, 101921.0, 188481.0, 46223.0, 452.0, 357266.0, 192084.0, 108427.0, 242245.0, 192973.0, 192973.0, 357266.0, 242245.0, 192973.0, 356561.0, 88126.0, 337259.0, 142285.0, 388711.0, 45919.0, 45919.0, 357266.0, 306717.0, 329974.0, 357212.0, 357266.0, 242245.0, 90548.0, 133901.0, 303660.0, 357266.0, 139198.0, 268046.0, 357266.0, 319961.0, 176015.0, 151349.0, 345827.0, 348406.0, 54718.0, 267324.0, 357266.0, 74597.0, 327393.0, 54718.0, 54718.0, 188481.0, 46223.0, 452.0, 357266.0, 106512.0, 106349.0, 54718.0, 192973.0, 319915.0, 54718.0, 309975.0, 867.0], [867.0, 119422.0, 90548.0, 218947.0, 360915.0, 192896.0, 96737.0, 188481.0, 357266.0, 344936.0, 268046.0, 43010.0, 288214.0, 150490.0, 42950.0, 186645.0, 357266.0, 300964.0, 268046.0, 143038.0, 144971.0, 142317.0, 357266.0, 300964.0, 268046.0, 304988.0, 452.0, 357412.0, 357266.0, 288211.0, 96165.0, 90548.0, 71090.0, 71090.0, 239291.0, 119541.0, 268046.0, 288221.0, 188481.0, 143039.0, 150400.0, 174032.0, 225289.0, 71814.0, 302980.0, 42972.0, 23310.0, 42974.0, 54718.0, 218983.0, 360915.0, 43010.0, 303676.0, 188481.0, 357266.0, 63975.0, 248029.0, 248029.0, 248029.0, 140185.0, 50256.0, 42972.0, 2479.0, 42974.0, 174642.0, 302802.0, 305946.0, 141986.0, 268046.0, 268046.0, 288211.0, 119541.0, 188481.0, 126759.0, 126759.0, 95247.0, 321788.0, 192973.0, 267267.0, 151349.0, 288302.0, 188481.0, 43010.0, 265557.0, 268046.0, 164328.0, 337197.0, 371152.0, 95614.0, 197246.0, 106927.0, 151349.0, 43010.0, 81904.0, 300364.0, 268046.0, 248029.0, 248029.0, 332240.0, 270201.0, 358452.0, 248032.0, 357212.0, 58997.0, 155104.0, 143026.0, 90548.0, 71090.0, 152809.0, 62065.0, 357266.0, 95277.0, 268046.0, 357266.0, 288211.0, 96165.0, 42972.0, 21319.0, 42974.0, 452.0, 188481.0, 358160.0, 276859.0, 384374.0, 192125.0, 386458.0, 386458.0, 95247.0, 321788.0, 192973.0, 289446.0, 371152.0, 357266.0, 106927.0, 268046.0, 126759.0, 197246.0, 867.0], [188481.0, 358160.0, 276859.0, 452.0, 108671.0, 292794.0, 268046.0, 48394.0, 292998.0, 348211.0, 96165.0, 388711.0, 343462.0, 393809.0, 192973.0, 345171.0, 69725.0, 269798.0, 292136.0, 106245.0, 106245.0, 357266.0, 48394.0, 292982.0, 192973.0, 189768.0, 88126.0, 357266.0, 257293.0, 106927.0, 452.0, 54718.0, 357266.0, 393809.0, 192973.0, 192973.0, 386495.0, 48394.0, 292998.0, 192973.0, 308638.0, 120331.0, 164419.0, 452.0, 357266.0, 150463.0, 268046.0, 393809.0, 94041.0, 166401.0, 380618.0, 268046.0, 268046.0, 357266.0, 357266.0, 132999.0, 348211.0, 96165.0, 388711.0, 269953.0, 348208.0, 54718.0, 269953.0, 269953.0, 192973.0, 345171.0, 452.0, 54718.0, 357266.0, 236561.0, 247378.0, 192973.0, 192973.0, 357266.0, 247378.0, 329999.0, 357212.0, 292136.0, 106245.0, 344327.0, 192973.0, 277495.0, 188388.0, 151349.0, 48394.0, 292998.0, 348211.0, 96165.0, 388711.0, 343462.0, 393809.0, 452.0, 54718.0, 193716.0, 52520.0, 188748.0, 48394.0, 292998.0, 348208.0, 360915.0, 309135.0, 357266.0, 292986.0, 286043.0, 54718.0, 66984.0, 357266.0, 293088.0, 52017.0, 268046.0, 348211.0, 96165.0, 867.0], [267260.0, 329974.0, 357212.0, 188481.0, 357266.0, 316998.0, 58999.0, 388711.0, 124213.0, 268046.0, 43010.0, 147468.0, 355931.0, 268046.0, 43010.0, 277881.0, 110156.0, 71090.0, 233708.0, 338236.0, 452.0, 337259.0, 268046.0, 386474.0, 270201.0, 136435.0, 268508.0, 222999.0, 452.0, 54718.0, 337259.0, 399907.0, 270201.0, 222999.0, 222999.0, 357266.0, 270201.0, 209675.0, 188481.0, 283892.0, 357266.0, 136430.0, 239301.0, 357212.0, 90548.0, 162051.0, 364665.0, 290159.0, 388747.0, 43010.0, 256757.0, 300364.0, 268046.0, 357266.0, 339112.0, 452.0, 192973.0, 104579.0, 158.0, 185635.0, 357266.0, 316998.0, 283048.0, 54718.0, 124748.0, 324.0, 222292.0, 217676.0, 452.0, 386474.0, 58997.0, 89857.0, 270879.0, 217676.0, 452.0, 54718.0, 54718.0, 109819.0, 235837.0, 298759.0, 338236.0, 136440.0, 188481.0, 357266.0, 222999.0, 268046.0, 357266.0, 248032.0, 174642.0, 54273.0, 143219.0, 178401.0, 84123.0, 355520.0, 298719.0, 298719.0, 188481.0, 357266.0, 248032.0, 268046.0, 242231.0, 235842.0, 158.0, 158.0, 324.0, 354263.0, 375624.0, 90548.0, 302170.0, 6518.0, 200331.0, 452.0, 388711.0, 235842.0, 184861.0, 248032.0, 158.0, 268508.0, 324.0, 324.0, 200389.0, 357266.0, 368710.0, 333429.0, 268046.0, 357266.0, 235837.0, 103318.0, 192973.0, 44608.0, 44608.0, 228656.0, 54718.0, 357266.0, 259875.0, 341678.0, 298855.0, 192973.0, 268046.0, 357266.0, 271173.0, 268046.0, 4961.0, 209309.0, 359056.0, 452.0, 357266.0, 298719.0, 124166.0, 104363.0, 192973.0, 138594.0, 57951.0, 158.0, 158.0, 324.0, 399907.0, 158.0, 158.0, 324.0, 54718.0, 452.0, 357645.0, 452.0, 452.0, 158.0, 158.0, 324.0, 324.0, 158.0, 158.0, 324.0, 399907.0, 158.0, 158.0, 324.0, 151349.0, 357266.0, 184780.0, 222946.0, 17991.0, 103378.0, 54718.0, 268046.0, 357266.0, 271173.0, 271173.0, 151349.0, 357266.0, 268508.0, 12750.0, 103378.0, 222946.0, 270970.0, 357266.0, 316998.0, 271173.0, 60665.0, 60665.0, 158.0, 2479.0, 324.0, 867.0], [360915.0, 89632.0, 175777.0, 292127.0, 189172.0, 188481.0, 357266.0, 222960.0, 247378.0, 452.0, 357266.0, 190165.0, 270970.0, 303873.0, 292127.0, 174032.0, 360915.0, 71090.0, 89633.0, 158.0, 365428.0, 452.0, 17580.0, 324.0, 867.0, 357266.0, 291753.0, 345195.0, 46790.0, 357266.0, 57920.0, 268046.0, 118152.0, 170436.0, 54718.0, 54718.0, 158.0, 17708.0, 324.0, 42867.0, 43010.0, 292127.0, 189109.0, 192973.0, 107873.0, 374253.0, 357266.0, 292127.0, 159436.0, 88126.0, 357266.0, 140080.0, 104364.0, 268046.0, 43010.0, 69709.0, 281429.0, 304331.0, 247378.0, 452.0, 54718.0, 193716.0, 192973.0, 89633.0, 69725.0, 269798.0, 357266.0, 69725.0, 281429.0, 63975.0, 375636.0, 268046.0, 43010.0, 162058.0, 94956.0, 283483.0, 286043.0, 97025.0, 97025.0, 151349.0, 132276.0, 270630.0, 158.0, 348192.0, 351098.0, 314580.0, 324.0, 867.0, 151349.0, 108161.0, 97027.0, 452.0, 124729.0, 63981.0, 58997.0, 374168.0, 42950.0, 151349.0, 76261.0, 97027.0, 452.0, 357266.0, 293578.0, 268046.0, 94956.0, 283483.0, 286125.0, 108005.0, 357266.0, 146154.0, 58997.0, 58997.0, 357266.0, 306716.0, 292136.0, 151349.0, 358160.0, 63975.0, 94956.0, 283483.0, 286043.0, 58997.0, 108427.0, 360915.0, 54273.0, 189109.0, 88126.0, 57856.0, 292067.0, 89633.0, 295472.0, 292127.0, 96737.0, 158.0, 158.0, 324.0, 867.0, 148356.0, 452.0, 357266.0, 273500.0, 175777.0, 292127.0, 189109.0, 192973.0, 89633.0, 60665.0, 357266.0, 384901.0, 63975.0, 268046.0, 268046.0, 268046.0, 384915.0, 109519.0, 360915.0, 357266.0, 304969.0, 293570.0, 268046.0, 94956.0, 283483.0, 286125.0, 88126.0, 270630.0, 188481.0, 357266.0, 317178.0, 158.0, 158.0, 151349.0, 182887.0, 452.0, 452.0, 151349.0, 379480.0, 452.0, 54718.0, 54718.0, 151349.0, 355066.0, 324.0, 867.0], [120840.0, 54718.0, 177937.0, 42972.0, 8172.0, 42974.0, 174642.0, 330028.0, 357212.0, 81904.0, 337177.0, 360915.0, 42813.0, 452.0, 42829.0, 54718.0, 42830.0, 345909.0, 360915.0, 158.0, 6713.0, 324.0, 54718.0, 158.0, 6725.0, 324.0, 142627.0, 270201.0, 188481.0, 357266.0, 357266.0, 93018.0, 151349.0, 254935.0, 42962.0, 42962.0, 188481.0, 357266.0, 357266.0, 93018.0, 357810.0, 174642.0, 330028.0, 357212.0, 337177.0, 71585.0, 71585.0, 62065.0, 337259.0, 112045.0, 224614.0, 224614.0, 452.0, 54718.0, 52673.0, 193716.0, 364109.0, 357212.0, 358160.0, 332546.0, 90548.0, 71090.0, 304369.0, 137938.0, 388747.0, 357266.0, 108098.0, 268046.0, 357266.0, 290165.0, 247378.0, 452.0, 384374.0, 387696.0, 264550.0, 107661.0, 346373.0, 150429.0, 150429.0, 359056.0, 188481.0, 358160.0, 345195.0, 384374.0, 387696.0, 107661.0, 150429.0, 388711.0, 290165.0, 189109.0, 188481.0, 357266.0, 300364.0, 8172.0, 42955.0, 42955.0, 357810.0, 174642.0, 52520.0, 330028.0, 357212.0, 151349.0, 8172.0, 42955.0, 254935.0, 42955.0, 2479.0, 360915.0, 137812.0, 357266.0, 109476.0, 51236.0, 118650.0, 188481.0, 357266.0, 265592.0, 337177.0, 269953.0, 253767.0, 57855.0, 357266.0, 309903.0, 106917.0, 158.0, 6765.0, 324.0, 158.0, 158.0, 452.0, 452.0, 324.0, 324.0, 158.0, 254965.0, 324.0, 158.0, 158.0, 452.0, 452.0, 324.0, 324.0, 452.0, 62065.0, 337259.0, 346830.0, 217449.0, 375624.0, 268046.0, 268046.0, 188481.0, 357266.0, 260275.0, 93018.0, 358160.0, 304966.0, 71586.0, 332543.0, 452.0, 358160.0, 192973.0, 130319.0, 360915.0, 357266.0, 143954.0, 357212.0, 386424.0, 386424.0, 357266.0, 155226.0, 155226.0, 54718.0, 54718.0, 118650.0, 118650.0, 104095.0, 42972.0, 9321.0, 42974.0, 329999.0, 357212.0, 188481.0, 358160.0, 93018.0, 158.0, 8172.0, 324.0, 158.0, 158.0, 452.0, 452.0, 324.0, 324.0, 158.0, 158.0, 452.0, 452.0, 324.0, 324.0, 452.0, 386432.0, 386432.0, 867.0], [60665.0, 43010.0, 278014.0, 93018.0, 268046.0, 348600.0, 117493.0, 452.0, 384374.0, 374168.0, 357266.0, 357266.0, 399931.0, 374430.0, 383772.0, 348600.0, 452.0, 399936.0, 386474.0, 383514.0, 188221.0, 88126.0, 277997.0, 306268.0, 154323.0, 326146.0, 374430.0, 190808.0, 268046.0, 178545.0, 178545.0, 357266.0, 267080.0, 268046.0, 357266.0, 348600.0, 385664.0, 360915.0, 126739.0, 182540.0, 43010.0, 306005.0, 112400.0, 268046.0, 374430.0, 153.0, 46922.0, 288940.0, 357983.0, 44608.0, 383772.0, 383772.0, 357266.0, 348600.0, 188837.0, 358549.0, 109103.0, 78365.0, 268046.0, 297580.0, 42867.0, 281126.0, 268046.0, 357266.0, 46389.0, 268046.0, 224573.0, 383772.0, 348210.0, 452.0, 281126.0, 268046.0, 357266.0, 297112.0, 268046.0, 224573.0, 383772.0, 306496.0, 452.0, 54718.0, 106725.0, 44608.0, 43010.0, 300364.0, 268046.0, 383772.0, 54718.0, 54718.0, 54718.0, 43010.0, 265557.0, 268046.0, 46224.0, 297580.0, 91591.0, 189825.0, 44608.0, 306537.0, 48.0, 144703.0, 388711.0, 383772.0, 109891.0, 452.0, 452.0, 72027.0, 452.0, 277998.0, 188481.0, 383772.0, 69725.0, 303194.0, 452.0, 54718.0, 120582.0, 120582.0, 348192.0, 236496.0, 360915.0, 358160.0, 276859.0, 188838.0, 43010.0, 126739.0, 388711.0, 43010.0, 121738.0, 268046.0, 357266.0, 117538.0, 60665.0, 43010.0, 386897.0, 452.0, 43010.0, 126739.0, 108005.0, 357266.0, 106326.0, 348600.0, 190828.0, 452.0, 54718.0, 368321.0, 117493.0, 148107.0, 108005.0, 357266.0, 306717.0, 54718.0, 54273.0, 61722.0, 104222.0, 158.0, 323337.0, 323165.0, 27405.0, 324.0, 867.0], [209662.0, 232573.0, 158.0, 209307.0, 324.0, 192973.0, 269953.0, 268046.0, 357266.0, 182264.0, 151349.0, 306262.0, 188481.0, 357266.0, 278468.0, 278468.0, 188481.0, 250392.0, 93054.0, 452.0, 357266.0, 265557.0, 268046.0, 374205.0, 188481.0, 43010.0, 209662.0, 232573.0, 350362.0, 158.0, 209353.0, 324.0, 192973.0, 377946.0, 217449.0, 452.0, 54718.0, 357810.0, 58997.0, 154323.0, 376124.0, 121137.0, 452.0, 141816.0, 272583.0, 272583.0, 188481.0, 358160.0, 276859.0, 452.0, 337259.0, 119273.0, 386424.0, 142644.0, 242260.0, 44608.0, 45107.0, 108302.0, 54718.0, 303027.0, 58997.0, 121210.0, 188481.0, 209353.0, 58997.0, 54444.0, 360915.0, 329974.0, 357212.0, 357761.0, 357761.0, 57924.0, 258451.0, 360915.0, 71090.0, 71090.0, 360915.0, 273567.0, 357266.0, 119343.0, 268046.0, 292066.0, 389836.0, 452.0, 358160.0, 276859.0, 293586.0, 54273.0, 143026.0, 310673.0, 45107.0, 108302.0, 158.0, 301648.0, 324.0, 242245.0, 54718.0, 43010.0, 184682.0, 303027.0, 57920.0, 151349.0, 209662.0, 232573.0, 232573.0, 52520.0, 452.0, 43010.0, 302294.0, 350362.0, 192973.0, 291763.0, 360915.0, 377635.0, 357266.0, 293583.0, 242259.0, 867.0], [867.0, 295485.0, 298722.0, 338611.0, 374168.0, 60665.0, 303873.0, 337177.0, 188481.0, 272881.0, 54431.0, 58997.0, 264550.0, 282016.0, 268046.0, 357266.0, 245362.0, 245362.0, 43010.0, 384122.0, 268046.0, 323393.0, 358160.0, 192973.0, 360915.0, 107661.0, 357266.0, 357266.0, 107808.0, 268046.0, 357266.0, 357266.0, 357266.0, 357266.0, 107808.0, 58997.0, 43010.0, 325899.0, 268046.0, 44787.0, 107655.0, 297169.0, 119365.0, 60665.0, 190955.0, 268046.0, 95614.0, 106384.0, 268046.0, 357266.0, 386150.0, 355905.0, 54718.0, 357266.0, 237371.0, 147828.0, 273428.0, 114238.0, 268046.0, 265522.0, 265522.0, 42972.0, 42972.0, 42974.0, 151349.0, 357266.0, 357266.0, 357266.0, 188481.0, 42972.0, 18477.0, 42974.0, 193716.0, 174032.0, 71814.0, 330028.0, 357212.0, 357266.0, 375624.0, 268046.0, 357266.0, 357266.0, 107808.0, 151349.0, 43010.0, 374977.0, 298722.0, 338610.0, 104660.0, 388711.0, 357266.0, 375624.0, 268046.0, 357266.0, 306226.0, 386150.0, 339590.0, 62065.0, 62065.0, 306708.0, 90548.0, 71090.0, 143026.0, 360915.0, 357266.0, 357266.0, 93018.0, 374253.0, 357266.0, 242260.0, 268046.0, 358160.0, 358160.0, 151349.0, 357266.0, 298722.0, 338611.0, 59354.0, 154323.0, 357266.0, 107878.0, 268046.0, 42972.0, 12126.0, 42974.0, 193716.0, 90548.0, 71090.0, 323432.0, 357212.0, 357266.0, 375624.0, 268046.0, 357266.0, 386150.0, 339590.0, 62065.0, 62065.0, 192973.0, 139908.0, 357266.0, 236058.0, 297038.0, 268046.0, 357266.0, 323354.0, 342043.0, 342043.0, 193716.0, 151063.0, 452.0, 357212.0, 357266.0, 357266.0, 107808.0, 268046.0, 357266.0, 298722.0, 338610.0, 90548.0, 351935.0, 58548.0, 58548.0, 269798.0, 357266.0, 272583.0, 172466.0, 452.0, 151349.0, 357266.0, 245362.0, 338610.0, 452.0, 357266.0, 357266.0, 107808.0, 58997.0, 142250.0, 396799.0, 452.0, 54718.0, 358452.0, 268046.0, 282016.0, 357650.0, 387696.0, 71090.0, 71090.0, 359056.0, 452.0, 188481.0, 358160.0, 291186.0, 325008.0, 452.0, 272881.0, 298722.0, 338611.0, 58997.0, 452.0, 159452.0, 452.0, 264550.0, 282016.0, 268046.0, 357266.0, 245362.0, 338610.0, 452.0, 372349.0, 51582.0, 357266.0, 357266.0, 107808.0, 375881.0, 867.0], [867.0, 54431.0, 158.0, 186749.0, 324.0, 192973.0, 43010.0, 265592.0, 332179.0, 242245.0, 386474.0, 192973.0, 124758.0, 69725.0, 269798.0, 357266.0, 357266.0, 306002.0, 268046.0, 89063.0, 89063.0, 193716.0, 142893.0, 357266.0, 357266.0, 344936.0, 268046.0, 268046.0, 270970.0, 22923.0, 265707.0, 267087.0, 360915.0, 360915.0, 357266.0, 283877.0, 283877.0, 176789.0, 357266.0, 283877.0, 127210.0, 192973.0, 277190.0, 388711.0, 306501.0, 360915.0, 43010.0, 303223.0, 270970.0, 360915.0, 43010.0, 43010.0, 107623.0, 452.0, 332547.0, 277190.0, 265707.0, 348412.0, 54718.0, 265707.0, 380846.0, 58997.0, 258454.0, 188481.0, 271173.0, 360915.0, 305994.0, 305994.0, 270970.0, 270970.0, 127215.0, 388756.0, 339816.0, 452.0, 357643.0, 292982.0, 43010.0, 377946.0, 106129.0, 54718.0, 108368.0, 108368.0, 156663.0, 293236.0, 191918.0, 148546.0, 338602.0, 268046.0, 356531.0, 155226.0, 188481.0, 357266.0, 384383.0, 151981.0, 268046.0, 277980.0, 123773.0, 123773.0, 188481.0, 278014.0, 452.0, 357266.0, 356531.0, 155226.0, 374168.0, 188481.0, 188481.0, 54431.0, 58997.0, 267326.0, 88126.0, 106398.0, 357266.0, 192082.0, 268046.0, 357266.0, 127210.0, 277189.0, 388711.0, 357266.0, 265707.0, 69895.0, 69895.0, 188481.0, 357266.0, 93018.0, 268046.0, 332543.0, 332543.0, 452.0, 182573.0, 452.0, 337259.0, 268046.0, 357266.0, 306716.0, 356531.0, 155226.0, 126552.0, 264550.0, 258302.0, 154987.0, 357266.0, 306174.0, 304372.0, 304372.0, 107623.0, 452.0, 265592.0, 242260.0, 151349.0, 357266.0, 337176.0, 268046.0, 277980.0, 123773.0, 138625.0, 90548.0, 264550.0, 71090.0, 57844.0, 57844.0, 125161.0, 357266.0, 304372.0, 293518.0, 268046.0, 357266.0, 356531.0, 356531.0, 151349.0, 151349.0, 54718.0, 368355.0, 127215.0, 384374.0, 107661.0, 326146.0, 188273.0, 102220.0, 268046.0, 332545.0, 268046.0, 265707.0, 265707.0, 151349.0, 339034.0, 93054.0, 384374.0, 121484.0, 46224.0, 106927.0, 386474.0, 168282.0, 357266.0, 304372.0, 268046.0, 357266.0, 356531.0, 356531.0, 188481.0, 46223.0, 384374.0, 291753.0, 43010.0, 247473.0, 320539.0, 151349.0, 357266.0, 125143.0, 155211.0, 338556.0, 188481.0, 93018.0, 268046.0, 190856.0, 190856.0, 193716.0, 192973.0, 52520.0, 330028.0, 182540.0, 357761.0, 306717.0, 90548.0, 71090.0, 57844.0, 151349.0, 106512.0, 127215.0, 188481.0, 178545.0, 124213.0, 357212.0, 90548.0, 71090.0, 277190.0, 378206.0, 349407.0, 867.0], [304138.0, 357266.0, 188235.0, 268046.0, 357266.0, 306717.0, 268046.0, 358160.0, 276859.0, 452.0, 384374.0, 264588.0, 368321.0, 368321.0, 154323.0, 43010.0, 290454.0, 287479.0, 268046.0, 378761.0, 452.0, 384374.0, 174642.0, 137173.0, 357266.0, 384901.0, 46228.0, 247378.0, 388711.0, 43010.0, 125728.0, 155211.0, 344936.0, 452.0, 386474.0, 351990.0, 258587.0, 375636.0, 151349.0, 287518.0, 224608.0, 273278.0, 357266.0, 354662.0, 54718.0, 263187.0, 375636.0, 151349.0, 287518.0, 191811.0, 357266.0, 292986.0, 289443.0, 289443.0, 188481.0, 358160.0, 306501.0, 452.0, 357266.0, 384901.0, 46228.0, 125728.0, 155211.0, 242257.0, 348224.0, 357266.0, 82861.0, 268046.0, 357266.0, 223718.0, 357212.0, 306479.0, 360915.0, 357266.0, 384901.0, 46228.0, 247378.0, 270970.0, 337259.0, 304958.0, 57920.0, 360915.0, 239226.0, 292992.0, 273428.0, 359889.0, 158.0, 323337.0, 452.0, 151349.0, 142283.0, 452.0, 452.0, 42.0, 315678.0, 452.0, 17687.0, 270970.0, 96707.0, 140185.0, 50256.0, 452.0, 17698.0, 324.0, 867.0, 154323.0, 43010.0, 357589.0, 287479.0, 268046.0, 378761.0, 452.0, 384374.0, 174642.0, 294038.0, 43010.0, 259972.0, 125728.0, 155211.0, 388711.0, 337259.0, 191290.0, 293518.0, 188481.0, 108256.0, 360915.0, 357266.0, 374386.0, 270120.0, 452.0, 231117.0, 158.0, 2479.0, 324.0, 386424.0, 354617.0, 189502.0, 174032.0, 360915.0, 71090.0, 140080.0, 452.0, 357266.0, 384901.0, 46228.0, 125728.0, 155211.0, 104660.0, 388711.0, 357266.0, 384901.0, 46228.0, 247378.0, 452.0, 386474.0, 239197.0, 357212.0, 354617.0, 189502.0, 192973.0, 239228.0, 151061.0, 357266.0, 357266.0, 264644.0, 268046.0, 133928.0, 42950.0, 54718.0, 158.0, 15341.0, 324.0, 386424.0, 292992.0, 174032.0, 360915.0, 71090.0, 122191.0, 54718.0, 118889.0, 273428.0, 359889.0, 357266.0, 384901.0, 46228.0, 125728.0, 155211.0, 136333.0, 60665.0, 54273.0, 62805.0, 361959.0, 360915.0, 71090.0, 374168.0, 151349.0, 151349.0, 141706.0, 268046.0, 307037.0, 360915.0, 319932.0, 96737.0, 452.0, 332240.0, 358160.0, 125728.0, 155211.0, 192973.0, 52879.0, 146125.0, 452.0, 141816.0, 371152.0, 376098.0, 307037.0, 360915.0, 319932.0, 867.0], [867.0, 216481.0, 158.0, 244252.0, 324.0, 106402.0, 58997.0, 143818.0, 373485.0, 302192.0, 332691.0, 268046.0, 360553.0, 54718.0, 52783.0, 150883.0, 268046.0, 376147.0, 376147.0, 357266.0, 191424.0, 283048.0, 268046.0, 268046.0, 151796.0, 131142.0, 357266.0, 44617.0, 292853.0, 162064.0, 178401.0, 173359.0, 54718.0, 343195.0, 360915.0, 357266.0, 106400.0, 452.0, 386495.0, 372699.0, 360553.0, 294049.0, 357266.0, 258303.0, 178401.0, 344579.0, 54718.0, 54718.0, 337259.0, 306717.0, 268046.0, 345173.0, 268046.0, 243332.0, 54718.0, 337259.0, 239291.0, 293518.0, 268046.0, 218660.0, 106402.0, 58997.0, 291763.0, 269798.0, 357266.0, 142283.0, 268046.0, 268046.0, 268046.0, 342043.0, 54718.0, 131663.0, 356595.0, 306717.0, 58997.0, 125162.0, 151349.0, 357266.0, 93018.0, 386424.0, 357266.0, 191424.0, 302192.0, 383514.0, 191628.0, 188481.0, 357266.0, 110542.0, 268046.0, 191424.0, 332691.0, 54718.0, 52520.0, 151349.0, 357266.0, 93018.0, 386424.0, 193716.0, 383514.0, 106328.0, 867.0], [357266.0, 148908.0, 342773.0, 268046.0, 279416.0, 452.0, 357266.0, 138073.0, 268046.0, 357266.0, 106918.0, 317178.0, 338556.0, 358802.0, 44120.0, 224923.0, 293178.0, 452.0, 110156.0, 71090.0, 106190.0, 360915.0, 399931.0, 224927.0, 189638.0, 399936.0, 188481.0, 188481.0, 42972.0, 40724.0, 42974.0, 867.0, 386495.0, 81562.0, 217061.0, 48971.0, 360915.0, 159435.0, 43010.0, 293589.0, 151810.0, 54718.0, 106288.0, 193716.0, 191811.0, 43010.0, 118781.0, 123144.0, 452.0, 399931.0, 224927.0, 189638.0, 399936.0, 188481.0, 279416.0, 192973.0, 69725.0, 269798.0, 44120.0, 224923.0, 293178.0, 452.0, 386495.0, 386495.0, 167615.0, 357266.0, 305032.0, 278085.0, 268046.0, 357266.0, 292762.0, 292762.0, 249755.0, 452.0, 188481.0, 279416.0, 106286.0, 268046.0, 357266.0, 80672.0, 151976.0, 192973.0, 281319.0, 374253.0, 158.0, 309723.0, 324.0, 324.0, 452.0, 386495.0, 386495.0, 90548.0, 374163.0, 43010.0, 387171.0, 300364.0, 268046.0, 118781.0, 123148.0, 452.0, 132176.0, 325086.0, 118781.0, 123148.0, 158.0, 322506.0, 324.0, 452.0, 122200.0, 452.0, 118887.0, 258583.0, 264164.0, 151719.0, 158.0, 158.0, 324.0, 867.0, 357761.0, 123765.0, 303936.0, 357266.0, 123767.0, 49003.0, 268046.0, 357266.0, 368321.0, 368321.0, 42867.0, 42867.0, 150793.0, 269798.0, 247396.0, 386432.0, 399931.0, 224927.0, 189638.0, 399936.0, 258481.0, 360915.0, 71090.0, 133929.0, 452.0, 54718.0, 357266.0, 306716.0, 306002.0, 452.0, 357266.0, 118781.0, 123148.0, 452.0, 258451.0, 360915.0, 71090.0, 106129.0, 452.0, 386495.0, 279416.0, 150793.0, 269798.0, 247396.0, 386432.0, 399931.0, 224927.0, 189638.0, 399936.0, 192973.0, 368711.0, 132683.0, 452.0, 182573.0, 193716.0, 253767.0, 71090.0, 57844.0, 305822.0, 452.0, 45217.0, 360915.0, 357266.0, 257320.0, 54718.0, 357266.0, 265557.0, 268046.0, 357266.0, 357266.0, 182573.0, 452.0, 188481.0, 155653.0, 389836.0, 452.0, 279416.0, 110156.0, 73117.0, 154323.0, 357266.0, 374163.0, 268046.0, 249714.0, 106129.0, 118781.0, 123148.0, 867.0], [188394.0, 60665.0, 385218.0, 60665.0, 141705.0, 357266.0, 281311.0, 268046.0, 178401.0, 281311.0, 106547.0, 158.0, 182663.0, 324.0, 57840.0, 88126.0, 244021.0, 357388.0, 360915.0, 103135.0, 138124.0, 58997.0, 387160.0, 107670.0, 60665.0, 112045.0, 193642.0, 188481.0, 357266.0, 147810.0, 268046.0, 178401.0, 281311.0, 54718.0, 103135.0, 103135.0, 182573.0, 452.0, 288743.0, 259585.0, 281311.0, 452.0, 177800.0, 54718.0, 131663.0, 138124.0, 58997.0, 337259.0, 325550.0, 268046.0, 285619.0, 151349.0, 142487.0, 268046.0, 182663.0, 57840.0, 188481.0, 188481.0, 358160.0, 276859.0, 293586.0, 43010.0, 259972.0, 57920.0, 360915.0, 188386.0, 357266.0, 281311.0, 54718.0, 319914.0, 268046.0, 182663.0, 57840.0, 269798.0, 53204.0, 153.0, 182663.0, 182663.0, 357266.0, 141986.0, 154323.0, 272881.0, 57920.0, 287518.0, 43010.0, 331417.0, 188388.0, 188481.0, 339147.0, 373317.0, 54718.0, 319932.0, 373317.0, 388711.0, 357266.0, 306549.0, 300964.0, 268046.0, 249714.0, 357109.0, 17044.0, 281113.0, 277135.0, 277135.0, 269798.0, 357266.0, 103135.0, 188481.0, 106194.0, 360915.0, 119047.0, 182663.0, 182663.0, 384374.0, 341956.0, 357212.0, 357266.0, 132911.0, 103135.0, 350362.0, 192973.0, 43010.0, 146125.0, 286278.0, 151349.0, 121211.0, 269811.0, 452.0, 335129.0, 333431.0, 182663.0, 57840.0, 867.0], [357266.0, 350396.0, 188481.0, 386474.0, 357266.0, 357266.0, 151407.0, 192973.0, 250392.0, 293348.0, 58997.0, 358452.0, 388711.0, 43010.0, 178401.0, 135194.0, 147810.0, 147810.0, 323165.0, 15341.0, 107672.0, 357266.0, 188235.0, 268046.0, 357266.0, 110489.0, 74651.0, 357266.0, 339515.0, 268046.0, 43010.0, 102223.0, 135204.0, 54718.0, 357266.0, 300612.0, 376237.0, 135194.0, 147810.0, 292970.0, 88126.0, 43010.0, 43010.0, 286186.0, 286186.0, 346609.0, 329711.0, 452.0, 178454.0, 217666.0, 295178.0, 90548.0, 151719.0, 225470.0, 384075.0, 388747.0, 357266.0, 135204.0, 120991.0, 268046.0, 43010.0, 43010.0, 357761.0, 120991.0, 384075.0, 293481.0, 388711.0, 339147.0, 106180.0, 360915.0, 357266.0, 167631.0, 339147.0, 268046.0, 357266.0, 217666.0, 217666.0, 264550.0, 51582.0, 286186.0, 135220.0, 151719.0, 358160.0, 384039.0, 452.0, 182573.0, 42950.0, 337259.0, 268046.0, 357266.0, 135220.0, 58997.0, 94000.0, 373317.0, 188481.0, 357266.0, 384039.0, 54718.0, 45072.0, 88126.0, 193919.0, 178401.0, 178401.0, 357266.0, 384039.0, 141859.0, 104944.0, 60665.0, 357761.0, 135220.0, 116477.0, 357266.0, 384039.0, 158.0, 357266.0, 384039.0, 399910.0, 83377.0, 399913.0, 324.0, 867.0, 357266.0, 143219.0, 178401.0, 135111.0, 147810.0, 165549.0, 268046.0, 43010.0, 286186.0, 384039.0, 258155.0, 258155.0, 294049.0, 54273.0, 142331.0, 357589.0, 356585.0, 167570.0, 151349.0, 357266.0, 133907.0, 268046.0, 268046.0, 108285.0, 360915.0, 357266.0, 363635.0, 268046.0, 43010.0, 356531.0, 135204.0, 867.0], [123911.0, 221789.0, 293354.0, 259972.0, 336344.0, 73120.0, 452.0, 139731.0, 151349.0, 132106.0, 188481.0, 123911.0, 270970.0, 247220.0, 359971.0, 452.0, 341894.0, 388711.0, 357266.0, 135475.0, 268046.0, 357266.0, 359889.0, 54718.0, 338556.0, 107856.0, 268046.0, 363495.0, 363495.0, 363495.0, 357266.0, 221790.0, 54718.0, 189825.0, 293053.0, 58997.0, 306174.0, 360915.0, 45704.0, 346373.0, 209662.0, 54718.0, 333817.0, 60665.0, 357266.0, 221790.0, 192973.0, 269953.0, 268046.0, 357266.0, 178623.0, 193716.0, 189768.0, 325758.0, 325758.0, 358160.0, 276859.0, 162064.0, 54273.0, 274006.0, 268046.0, 113946.0, 364721.0, 188481.0, 123911.0, 221790.0, 306262.0, 107707.0, 268046.0, 123911.0, 221790.0, 97025.0, 452.0, 47002.0, 452.0, 124870.0, 54718.0, 54718.0, 358160.0, 276859.0, 52520.0, 178621.0, 269798.0, 357266.0, 188025.0, 268046.0, 189825.0, 354662.0, 269798.0, 357266.0, 363495.0, 221790.0, 867.0], [233708.0, 57840.0, 188481.0, 150490.0, 239295.0, 174642.0, 330028.0, 357212.0, 348406.0, 346430.0, 90548.0, 71090.0, 374168.0, 60665.0, 54273.0, 133900.0, 133900.0, 133900.0, 151349.0, 142283.0, 452.0, 166725.0, 54718.0, 382613.0, 42972.0, 2479.0, 42974.0, 125161.0, 182540.0, 357266.0, 191921.0, 268046.0, 346430.0, 143034.0, 357266.0, 357266.0, 304237.0, 273428.0, 43010.0, 349484.0, 388196.0, 88126.0, 303670.0, 357266.0, 357871.0, 268046.0, 357266.0, 81903.0, 218659.0, 54718.0, 357266.0, 230481.0, 268046.0, 112460.0, 112460.0, 106808.0, 151349.0, 357266.0, 349486.0, 150400.0, 59929.0, 154323.0, 138700.0, 345173.0, 268046.0, 357266.0, 380905.0, 214728.0, 158.0, 311796.0, 125361.0, 324.0, 150400.0, 158.0, 323337.0, 166725.0, 54718.0, 382613.0, 42972.0, 15341.0, 42974.0, 452.0, 345078.0, 42972.0, 21828.0, 42974.0, 324.0, 54718.0, 389836.0, 174032.0, 332240.0, 108154.0, 191811.0, 358160.0, 54718.0, 304958.0, 150429.0, 374253.0, 265592.0, 54718.0, 62053.0, 57924.0, 158.0, 323337.0, 267553.0, 42972.0, 26559.0, 42974.0, 452.0, 452.0, 42972.0, 30387.0, 42974.0, 452.0, 452.0, 54718.0, 54718.0, 42972.0, 33544.0, 42974.0, 452.0, 452.0, 42972.0, 36169.0, 42974.0, 452.0, 452.0, 42972.0, 38601.0, 42974.0, 452.0, 452.0, 54718.0, 157897.0, 42972.0, 40724.0, 42974.0, 452.0, 151349.0, 142283.0, 324.0, 867.0, 357266.0, 223718.0, 330039.0, 357212.0, 188949.0, 346430.0, 174032.0, 43010.0, 341033.0, 133896.0, 269798.0, 357266.0, 159391.0, 102208.0, 268046.0, 399931.0, 399931.0, 452.0, 134819.0, 54718.0, 380905.0, 214728.0, 399936.0, 158.0, 72255.0, 324.0, 150429.0, 386474.0, 306717.0, 188481.0, 54273.0, 188946.0, 188481.0, 112045.0, 307496.0, 265568.0, 151349.0, 357266.0, 270258.0, 268046.0, 108354.0, 54718.0, 44786.0, 190713.0, 452.0, 43010.0, 256772.0, 188481.0, 357266.0, 300364.0, 268046.0, 372993.0, 277191.0, 54718.0, 43010.0, 118964.0, 188481.0, 54062.0, 300978.0, 268046.0, 357266.0, 372993.0, 108354.0, 108354.0, 357266.0, 108354.0, 190714.0, 306717.0, 58997.0, 191582.0, 188481.0, 356212.0, 268046.0, 43010.0, 119901.0, 188481.0, 357266.0, 270258.0, 268046.0, 339620.0, 381036.0, 452.0, 54718.0, 357266.0, 44786.0, 190714.0, 306717.0, 188481.0, 356212.0, 268046.0, 357266.0, 270258.0, 268046.0, 268046.0, 363985.0, 158.0, 158.0, 42972.0, 42972.0, 42974.0, 324.0, 867.0], [45217.0, 360915.0, 357266.0, 329778.0, 268046.0, 225289.0, 359889.0, 54718.0, 75774.0, 139205.0, 44608.0, 357266.0, 251070.0, 286250.0, 302983.0, 350362.0, 452.0, 384374.0, 291753.0, 357266.0, 251070.0, 286250.0, 302983.0, 51274.0, 69725.0, 269798.0, 292385.0, 106381.0, 54431.0, 158.0, 279473.0, 324.0, 105304.0, 105304.0, 269798.0, 357266.0, 69895.0, 268046.0, 357266.0, 54431.0, 268046.0, 251070.0, 286250.0, 302983.0, 350362.0, 153.0, 69840.0, 292409.0, 452.0, 193716.0, 191918.0, 357266.0, 69840.0, 292409.0, 54718.0, 89638.0, 342882.0, 44608.0, 279473.0, 143139.0, 51274.0, 452.0, 54718.0, 125163.0, 357266.0, 146124.0, 268046.0, 57856.0, 357266.0, 51274.0, 360915.0, 294148.0, 188481.0, 357266.0, 357266.0, 357266.0, 142820.0, 306717.0, 329974.0, 357212.0, 357266.0, 51274.0, 174032.0, 357266.0, 47006.0, 268046.0, 145491.0, 339147.0, 54718.0, 178545.0, 45289.0, 268046.0, 268046.0, 357266.0, 51274.0, 294049.0, 43010.0, 259972.0, 358464.0, 151349.0, 357266.0, 306262.0, 269798.0, 357266.0, 251070.0, 286250.0, 302983.0, 51274.0, 867.0], [242260.0, 151349.0, 56001.0, 122155.0, 188481.0, 43010.0, 224573.0, 108098.0, 58997.0, 357266.0, 106711.0, 270817.0, 360915.0, 357266.0, 357266.0, 95268.0, 242260.0, 452.0, 386474.0, 305141.0, 269798.0, 162742.0, 327489.0, 327489.0, 188481.0, 117493.0, 245280.0, 452.0, 357266.0, 264644.0, 268046.0, 224584.0, 192973.0, 268345.0, 162058.0, 60665.0, 125728.0, 74651.0, 117493.0, 375636.0, 158.0, 162058.0, 43010.0, 339034.0, 125728.0, 242341.0, 346373.0, 60665.0, 140549.0, 125728.0, 324.0, 867.0, 43010.0, 117493.0, 287479.0, 192973.0, 106190.0, 360915.0, 357266.0, 375624.0, 268046.0, 193919.0, 258196.0, 258742.0, 188481.0, 356212.0, 268046.0, 117493.0, 125728.0, 42972.0, 28221.0, 42974.0, 867.0, 182573.0, 452.0, 357266.0, 264644.0, 268046.0, 224584.0, 90548.0, 52520.0, 71090.0, 162058.0, 188481.0, 43010.0, 159790.0, 125728.0, 74651.0, 357266.0, 338236.0, 268046.0, 357266.0, 357266.0, 233708.0, 332008.0, 375636.0, 158.0, 185635.0, 452.0, 117493.0, 388711.0, 335129.0, 125728.0, 53909.0, 132276.0, 272583.0, 324.0, 306708.0, 188481.0, 43010.0, 178545.0, 120991.0, 452.0, 89857.0, 103318.0, 452.0, 386495.0, 375636.0, 357212.0, 58997.0, 220815.0, 332008.0, 306708.0, 188481.0, 43010.0, 226512.0, 226512.0, 55996.0, 90548.0, 144545.0, 273278.0, 268046.0, 57170.0, 103315.0, 87775.0, 452.0, 386424.0, 153813.0, 267461.0, 452.0, 90548.0, 151719.0, 43010.0, 103315.0, 103315.0, 122197.0, 186645.0, 43010.0, 117594.0, 192973.0, 264164.0, 270970.0, 55999.0, 106190.0, 360915.0, 224573.0, 258737.0, 117493.0, 192973.0, 43010.0, 96372.0, 867.0], [188481.0, 358160.0, 276859.0, 452.0, 43010.0, 264802.0, 289376.0, 140083.0, 242245.0, 268046.0, 292516.0, 383514.0, 293583.0, 151349.0, 332444.0, 332444.0, 332444.0, 357266.0, 292516.0, 388711.0, 252382.0, 143904.0, 383514.0, 107670.0, 60665.0, 43010.0, 332395.0, 270879.0, 350362.0, 106391.0, 268046.0, 337259.0, 304026.0, 304026.0, 43010.0, 363924.0, 236752.0, 386474.0, 90548.0, 142967.0, 357266.0, 304966.0, 74651.0, 54273.0, 267063.0, 287479.0, 54718.0, 193919.0, 187646.0, 88126.0, 357266.0, 304024.0, 268046.0, 292516.0, 383514.0, 121485.0, 69725.0, 269798.0, 159826.0, 270884.0, 452.0, 54718.0, 43010.0, 236561.0, 247378.0, 383514.0, 191916.0, 386474.0, 90548.0, 120959.0, 357266.0, 289376.0, 268046.0, 292516.0, 388711.0, 58548.0, 143904.0, 270201.0, 88126.0, 36169.0, 36169.0, 358160.0, 247378.0, 90548.0, 143024.0, 357266.0, 57836.0, 268046.0, 332444.0, 332444.0, 350362.0, 374253.0, 292516.0, 360915.0, 43010.0, 249714.0, 387160.0, 387160.0, 142825.0, 306717.0, 58997.0, 291763.0, 360915.0, 294007.0, 357266.0, 133902.0, 54718.0, 309979.0, 268046.0, 272881.0, 293583.0, 247378.0, 867.0], [151349.0, 294051.0, 357266.0, 165202.0, 388711.0, 133900.0, 248624.0, 268046.0, 357266.0, 364721.0, 268046.0, 357266.0, 133215.0, 376103.0, 188481.0, 357266.0, 155653.0, 54718.0, 164328.0, 303873.0, 151349.0, 122454.0, 43010.0, 302477.0, 287783.0, 452.0, 188481.0, 358160.0, 276859.0, 452.0, 384374.0, 139953.0, 43010.0, 359889.0, 325550.0, 247378.0, 269798.0, 99161.0, 153.0, 151508.0, 124729.0, 192143.0, 158.0, 146060.0, 324.0, 88126.0, 374253.0, 384057.0, 54431.0, 54718.0, 191728.0, 54431.0, 54718.0, 359889.0, 325550.0, 54431.0, 54718.0, 291284.0, 357266.0, 364707.0, 268046.0, 146060.0, 188481.0, 357266.0, 260309.0, 326146.0, 326146.0, 358160.0, 247378.0, 135473.0, 357266.0, 191304.0, 268046.0, 262664.0, 151349.0, 291289.0, 88126.0, 374253.0, 384057.0, 54431.0, 452.0, 54718.0, 121734.0, 357266.0, 63593.0, 54718.0, 359934.0, 380618.0, 268046.0, 357266.0, 148371.0, 359889.0, 325550.0, 88126.0, 374253.0, 374253.0, 374253.0, 374253.0, 357266.0, 332179.0, 306717.0, 329974.0, 357212.0, 358160.0, 247378.0, 142858.0, 357266.0, 131663.0, 344936.0, 268046.0, 99161.0, 153.0, 146060.0, 364721.0, 385218.0, 867.0], [188481.0, 357266.0, 276859.0, 384374.0, 293582.0, 43010.0, 106711.0, 242259.0, 360915.0, 108302.0, 223475.0, 341956.0, 268046.0, 268046.0, 52078.0, 188481.0, 240636.0, 54718.0, 180501.0, 345637.0, 268046.0, 357266.0, 291876.0, 123579.0, 123579.0, 162058.0, 357212.0, 452.0, 384374.0, 122190.0, 357266.0, 97025.0, 268046.0, 357266.0, 180501.0, 155440.0, 69725.0, 269798.0, 384893.0, 281113.0, 158.0, 390580.0, 41.0, 324.0, 268046.0, 357266.0, 95614.0, 52078.0, 54718.0, 357354.0, 357354.0, 346120.0, 357266.0, 276859.0, 191918.0, 54273.0, 57836.0, 268046.0, 242259.0, 268046.0, 306262.0, 151349.0, 139957.0, 97025.0, 268046.0, 180501.0, 180501.0, 357266.0, 57836.0, 383514.0, 302344.0, 371152.0, 302292.0, 106927.0, 188481.0, 152414.0, 357212.0, 374208.0, 181737.0, 104776.0, 96438.0, 229430.0, 229430.0, 229430.0, 357266.0, 98017.0, 54431.0, 383514.0, 281319.0, 88126.0, 339104.0, 339104.0, 339104.0, 339104.0, 148356.0, 357266.0, 217787.0, 277915.0, 268046.0, 357266.0, 276859.0, 223663.0, 273500.0, 148434.0, 388711.0, 289446.0, 155653.0, 124748.0, 360915.0, 143024.0, 358160.0, 242259.0, 188481.0, 290460.0, 867.0], [290159.0, 166930.0, 302482.0, 142833.0, 350362.0, 192973.0, 43010.0, 106337.0, 106337.0, 360915.0, 337189.0, 209662.0, 327551.0, 268046.0, 209662.0, 69709.0, 188481.0, 142833.0, 350362.0, 452.0, 384374.0, 44831.0, 54718.0, 54443.0, 357266.0, 290159.0, 166930.0, 323224.0, 192129.0, 292834.0, 88126.0, 374253.0, 270290.0, 270290.0, 388711.0, 388711.0, 290159.0, 166930.0, 209662.0, 69709.0, 452.0, 384374.0, 139953.0, 61722.0, 304966.0, 268046.0, 292834.0, 292834.0, 188481.0, 358160.0, 276859.0, 452.0, 384374.0, 191915.0, 54718.0, 54443.0, 268046.0, 324444.0, 302482.0, 361978.0, 346373.0, 60665.0, 60665.0, 357266.0, 302481.0, 239301.0, 54718.0, 189638.0, 313201.0, 268046.0, 165725.0, 174032.0, 71814.0, 188837.0, 54718.0, 54718.0, 62065.0, 217787.0, 384374.0, 162051.0, 43010.0, 339034.0, 57836.0, 268046.0, 323224.0, 192129.0, 292834.0, 270290.0, 54718.0, 302482.0, 867.0], [188481.0, 267298.0, 122155.0, 192973.0, 69725.0, 269798.0, 192082.0, 281957.0, 233849.0, 54718.0, 54718.0, 267298.0, 102238.0, 192973.0, 69725.0, 269798.0, 155709.0, 259700.0, 259700.0, 357266.0, 140083.0, 268046.0, 357266.0, 375885.0, 287479.0, 305056.0, 269798.0, 146154.0, 143139.0, 143139.0, 357266.0, 242245.0, 142893.0, 357266.0, 159826.0, 304965.0, 74651.0, 357266.0, 135310.0, 188481.0, 357266.0, 320243.0, 336114.0, 357212.0, 267298.0, 90548.0, 71090.0, 71090.0, 357266.0, 140080.0, 181116.0, 268046.0, 357266.0, 309729.0, 286068.0, 74651.0, 346329.0, 187656.0, 192973.0, 374168.0, 151349.0, 187646.0, 187646.0, 43010.0, 259972.0, 155709.0, 118781.0, 155584.0, 242245.0, 388711.0, 155709.0, 62816.0, 151349.0, 267298.0, 122155.0, 54718.0, 102238.0, 57836.0, 192973.0, 121731.0, 357266.0, 155709.0, 118781.0, 155211.0, 247479.0, 277191.0, 388711.0, 388711.0, 51274.0, 360915.0, 160418.0, 74597.0, 102238.0, 292765.0, 193716.0, 192973.0, 330028.0, 357212.0, 357266.0, 242245.0, 90548.0, 45457.0, 74597.0, 102238.0, 306708.0, 867.0], [368458.0, 247396.0, 58997.0, 268345.0, 190856.0, 360915.0, 149139.0, 106337.0, 363362.0, 452.0, 357645.0, 384374.0, 52520.0, 345195.0, 357266.0, 57949.0, 149179.0, 268046.0, 217449.0, 217449.0, 188481.0, 357266.0, 332395.0, 102208.0, 325991.0, 452.0, 43010.0, 209675.0, 222712.0, 268046.0, 268046.0, 192973.0, 357266.0, 188564.0, 360915.0, 332191.0, 149139.0, 233708.0, 342069.0, 121743.0, 130319.0, 360915.0, 357266.0, 263130.0, 268046.0, 357354.0, 371335.0, 138625.0, 158.0, 79368.0, 452.0, 176096.0, 452.0, 182018.0, 452.0, 42.0, 355157.0, 452.0, 17618.0, 42950.0, 176096.0, 452.0, 182018.0, 452.0, 42.0, 167494.0, 452.0, 17580.0, 42950.0, 182018.0, 42.0, 355157.0, 452.0, 17635.0, 324.0, 867.0, 358160.0, 174032.0, 219383.0, 360915.0, 357266.0, 119372.0, 268046.0, 326146.0, 57924.0, 360915.0, 149139.0, 106337.0, 363362.0, 88126.0, 106398.0, 252664.0, 335152.0, 335152.0, 270970.0, 233857.0, 374253.0, 212732.0, 270631.0, 158.0, 54801.0, 42.0, 261038.0, 452.0, 15039.0, 42950.0, 92958.0, 452.0, 396948.0, 452.0, 42.0, 42.0, 452.0, 17672.0, 42950.0, 182018.0, 42.0, 355157.0, 452.0, 17499.0, 324.0, 867.0, 357761.0, 242260.0, 136613.0, 106405.0, 270631.0, 151349.0, 248238.0, 149179.0, 452.0, 268190.0, 43010.0, 123767.0, 363455.0, 74651.0, 106512.0, 109891.0, 54718.0, 149179.0, 45289.0, 106190.0, 360915.0, 149179.0, 242260.0, 69725.0, 269798.0, 357266.0, 136048.0, 51274.0, 158.0, 83771.0, 452.0, 17499.0, 42950.0, 182018.0, 42.0, 268771.0, 452.0, 17708.0, 42950.0, 209004.0, 452.0, 222858.0, 452.0, 42.0, 225019.0, 452.0, 17520.0, 324.0, 867.0, 188481.0, 278014.0, 452.0, 357266.0, 348030.0, 270630.0, 52074.0, 269953.0, 360915.0, 121730.0, 43010.0, 363350.0, 88126.0, 357266.0, 342069.0, 252677.0, 268046.0, 326146.0, 326146.0, 452.0, 62065.0, 357266.0, 142801.0, 268046.0, 54273.0, 142919.0, 167701.0, 268046.0, 357266.0, 265557.0, 268046.0, 342019.0, 188481.0, 357266.0, 306716.0, 292848.0, 158.0, 340758.0, 42.0, 386841.0, 452.0, 14758.0, 324.0, 867.0, 358160.0, 341956.0, 338556.0, 142908.0, 192973.0, 54273.0, 267298.0, 151349.0, 357266.0, 57836.0, 268046.0, 268046.0, 54718.0, 233857.0, 360915.0, 247387.0, 302292.0, 350396.0, 42950.0, 151349.0, 142283.0, 193716.0, 107664.0, 334983.0, 128527.0, 452.0, 270970.0, 141816.0, 305462.0, 189623.0, 452.0, 357266.0, 265592.0, 141706.0, 268046.0, 297601.0, 247396.0, 88126.0, 236752.0, 159825.0, 242260.0, 158.0, 76343.0, 452.0, 452.0, 452.0, 452.0, 452.0, 296252.0, 452.0, 42.0, 182313.0, 452.0, 17698.0, 42950.0, 296252.0, 452.0, 452.0, 452.0, 42.0, 182313.0, 452.0, 17618.0, 324.0, 867.0], [388711.0, 122455.0, 268046.0, 281312.0, 121839.0, 452.0, 337259.0, 345173.0, 174642.0, 71814.0, 106970.0, 269798.0, 148728.0, 309176.0, 54431.0, 188481.0, 86372.0, 154323.0, 123767.0, 281958.0, 54718.0, 54718.0, 247396.0, 346373.0, 60665.0, 60665.0, 42972.0, 42972.0, 42974.0, 54718.0, 54718.0, 42972.0, 9321.0, 42974.0, 385664.0, 374168.0, 360915.0, 89632.0, 357266.0, 142758.0, 222138.0, 222138.0, 188481.0, 272583.0, 345173.0, 292762.0, 242260.0, 174642.0, 71814.0, 374168.0, 360915.0, 61634.0, 221134.0, 268046.0, 280944.0, 315390.0, 188481.0, 86372.0, 42972.0, 10064.0, 42974.0, 867.0, 297167.0, 309176.0, 54431.0, 57924.0, 174642.0, 52520.0, 71814.0, 374168.0, 360915.0, 297162.0, 357266.0, 309176.0, 360915.0, 267441.0, 374253.0, 343462.0, 143995.0, 42972.0, 10741.0, 42974.0, 867.0, 182573.0, 452.0, 345173.0, 360915.0, 117550.0, 174642.0, 217465.0, 71814.0, 106726.0, 388711.0, 376147.0, 61428.0, 268046.0, 148728.0, 309176.0, 54431.0, 54718.0, 357640.0, 174032.0, 71814.0, 223830.0, 188481.0, 357266.0, 384122.0, 268046.0, 122455.0, 268046.0, 350373.0, 357589.0, 242260.0, 151349.0, 54448.0, 148728.0, 309176.0, 188481.0, 86372.0, 188481.0, 356212.0, 268046.0, 148728.0, 309176.0, 309176.0, 142644.0, 148728.0, 309176.0, 232573.0, 192217.0, 357266.0, 186397.0, 268046.0, 52643.0, 148728.0, 315390.0, 121839.0, 270927.0, 42972.0, 42972.0, 42974.0, 452.0, 357266.0, 270157.0, 190687.0, 452.0, 231148.0, 268046.0, 148728.0, 293810.0, 350396.0, 42972.0, 12750.0, 42974.0, 54718.0, 141682.0, 363601.0, 54718.0, 129390.0, 42972.0, 13507.0, 42974.0, 867.0, 188481.0, 358160.0, 345195.0, 452.0, 69840.0, 292848.0, 268046.0, 148728.0, 309176.0, 54431.0, 188481.0, 86371.0, 192973.0, 121731.0, 452.0, 54718.0, 43010.0, 148728.0, 309176.0, 54431.0, 247378.0, 69725.0, 269798.0, 320240.0, 103318.0, 192973.0, 139954.0, 388711.0, 107668.0, 268046.0, 357266.0, 97027.0, 268046.0, 148728.0, 131666.0, 54718.0, 267441.0, 48.0, 48.0, 357266.0, 265557.0, 268046.0, 118358.0, 54718.0, 124755.0, 293520.0, 225967.0, 58997.0, 323929.0, 60665.0, 148728.0, 309176.0, 189172.0, 54718.0, 357266.0, 63975.0, 148728.0, 309176.0, 268046.0, 306377.0, 86372.0, 192973.0, 297168.0, 54444.0, 452.0, 336114.0, 357212.0, 57927.0, 148728.0, 309176.0, 232573.0, 239234.0, 90548.0, 71090.0, 46780.0, 867.0], [248624.0, 357266.0, 384428.0, 106917.0, 268046.0, 357266.0, 363699.0, 348097.0, 192973.0, 269953.0, 268046.0, 357266.0, 205835.0, 287518.0, 360915.0, 168282.0, 54273.0, 46390.0, 315390.0, 221115.0, 268046.0, 357266.0, 222292.0, 299374.0, 364123.0, 364123.0, 357266.0, 295589.0, 268046.0, 358160.0, 276859.0, 192973.0, 360915.0, 346705.0, 43010.0, 259972.0, 259972.0, 151349.0, 239236.0, 357266.0, 364181.0, 293079.0, 268046.0, 299412.0, 188481.0, 270617.0, 88126.0, 239197.0, 268046.0, 268046.0, 268046.0, 358160.0, 242256.0, 57920.0, 192973.0, 69725.0, 269798.0, 357266.0, 399931.0, 189825.0, 399936.0, 107995.0, 188481.0, 178490.0, 283652.0, 187656.0, 268046.0, 363421.0, 54718.0, 269798.0, 339034.0, 51278.0, 386474.0, 52067.0, 360915.0, 267324.0, 357266.0, 142240.0, 159825.0, 293079.0, 268046.0, 357266.0, 299412.0, 54718.0, 357645.0, 360915.0, 239226.0, 357266.0, 341956.0, 268046.0, 357266.0, 357266.0, 357266.0, 384428.0, 867.0], [362211.0, 190873.0, 158.0, 360483.0, 324.0, 58997.0, 293358.0, 90740.0, 268046.0, 339609.0, 236514.0, 71494.0, 268046.0, 357354.0, 309975.0, 176311.0, 348406.0, 342019.0, 54718.0, 357266.0, 143219.0, 344851.0, 344851.0, 191138.0, 42972.0, 42972.0, 42974.0, 867.0, 190178.0, 452.0, 76261.0, 96307.0, 96307.0, 452.0, 452.0, 54718.0, 54718.0, 174642.0, 71814.0, 186399.0, 60665.0, 358584.0, 360483.0, 88126.0, 348406.0, 325034.0, 292786.0, 346373.0, 60665.0, 55283.0, 306454.0, 283637.0, 339111.0, 54718.0, 320050.0, 367315.0, 367315.0, 217909.0, 452.0, 356218.0, 96306.0, 158.0, 158.0, 324.0, 324.0, 42972.0, 26882.0, 42974.0, 452.0, 386474.0, 174032.0, 332008.0, 332008.0, 344936.0, 360915.0, 357266.0, 277462.0, 106427.0, 106427.0, 54718.0, 54718.0, 452.0, 383514.0, 291288.0, 88126.0, 43731.0, 190191.0, 89639.0, 54718.0, 107126.0, 88126.0, 88126.0, 239231.0, 60665.0, 43010.0, 367228.0, 362211.0, 190872.0, 386960.0, 147018.0, 137256.0, 54718.0, 92689.0, 120991.0, 90548.0, 71090.0, 46599.0, 378206.0, 96751.0, 357266.0, 357266.0, 106405.0, 301048.0, 388711.0, 341045.0, 362211.0, 348406.0, 341956.0, 151349.0, 357266.0, 137937.0, 106405.0, 106405.0, 105586.0, 388711.0, 230427.0, 270970.0, 347830.0, 452.0, 360483.0, 174642.0, 62801.0, 166369.0, 62719.0, 130319.0, 360915.0, 357266.0, 308115.0, 376136.0, 268046.0, 259972.0, 283892.0, 54718.0, 54718.0, 357266.0, 147203.0, 188481.0, 326146.0, 363985.0, 242030.0, 158.0, 360832.0, 324.0, 127854.0, 360483.0, 452.0, 386474.0, 83377.0, 357266.0, 357266.0, 350014.0, 452.0, 174032.0, 71814.0, 305946.0, 42972.0, 42972.0, 42974.0, 867.0, 147203.0, 188481.0, 360483.0, 192973.0, 188273.0, 71494.0, 357266.0, 105576.0, 268046.0, 230427.0, 388711.0, 360483.0, 231492.0, 43010.0, 164328.0, 286278.0, 360915.0, 345195.0, 155243.0, 283877.0, 283134.0, 452.0, 346373.0, 60665.0, 357266.0, 297180.0, 55999.0, 171785.0, 133896.0, 42972.0, 42972.0, 42974.0, 452.0, 231354.0, 147026.0, 42972.0, 12750.0, 42974.0, 452.0, 187646.0, 230423.0, 248809.0, 133896.0, 42972.0, 13507.0, 42974.0, 452.0, 54718.0, 362211.0, 108285.0, 360915.0, 357266.0, 144993.0, 54718.0, 205564.0, 230435.0, 133896.0, 42972.0, 17044.0, 42974.0, 867.0], [190704.0, 88126.0, 88126.0, 283134.0, 346373.0, 60665.0, 109660.0, 114772.0, 150429.0, 42972.0, 42972.0, 42974.0, 131142.0, 76545.0, 250011.0, 452.0, 357266.0, 357607.0, 268046.0, 45863.0, 287650.0, 379729.0, 159226.0, 174032.0, 71814.0, 122450.0, 42972.0, 42972.0, 42974.0, 867.0, 357266.0, 357607.0, 247396.0, 357266.0, 108167.0, 452.0, 229702.0, 239295.0, 268046.0, 43010.0, 104990.0, 268046.0, 371939.0, 45863.0, 48047.0, 452.0, 136168.0, 188481.0, 43010.0, 379729.0, 86545.0, 239623.0, 452.0, 188481.0, 386474.0, 191457.0, 344613.0, 58997.0, 189388.0, 130319.0, 360915.0, 125696.0, 268046.0, 137256.0, 42972.0, 42972.0, 42974.0, 867.0, 357266.0, 357266.0, 371939.0, 287650.0, 48047.0, 107835.0, 357266.0, 159117.0, 58997.0, 247383.0, 60665.0, 372170.0, 372170.0, 357266.0, 63975.0, 268046.0, 372170.0, 376710.0, 188481.0, 43010.0, 335129.0, 224573.0, 380844.0, 62065.0, 132276.0, 287479.0, 119367.0, 357266.0, 229702.0, 124751.0, 268046.0, 357266.0, 48047.0, 54718.0, 192973.0, 121731.0, 88126.0, 43010.0, 287663.0, 287663.0, 357266.0, 287663.0, 147810.0, 192973.0, 165194.0, 88126.0, 54273.0, 138623.0, 268046.0, 250529.0, 45239.0, 151349.0, 137256.0, 107963.0, 54718.0, 151349.0, 357266.0, 344185.0, 300964.0, 188481.0, 357266.0, 357266.0, 357266.0, 304966.0, 74651.0, 357266.0, 344185.0, 300964.0, 54718.0, 357266.0, 344607.0, 188481.0, 357266.0, 150490.0, 192973.0, 294038.0, 88126.0, 43010.0, 107847.0, 138623.0, 357212.0, 45241.0, 151349.0, 55619.0, 452.0, 287650.0, 48047.0, 54718.0, 107963.0, 268046.0, 268046.0, 357761.0, 138625.0, 452.0, 52318.0, 388711.0, 107631.0, 268046.0, 248246.0, 452.0, 294037.0, 43010.0, 108167.0, 184768.0, 121738.0, 247387.0, 45863.0, 287650.0, 379729.0, 159226.0, 60665.0, 54273.0, 137256.0, 107955.0, 452.0, 55619.0, 452.0, 263193.0, 150490.0, 42972.0, 42972.0, 42974.0, 867.0, 357266.0, 306716.0, 277980.0, 123773.0, 138625.0, 165201.0, 357266.0, 184769.0, 268046.0, 45863.0, 287650.0, 379729.0, 159226.0, 58997.0, 452.0, 182573.0, 452.0, 188481.0, 159391.0, 54440.0, 191849.0, 867.0], [192082.0, 192082.0, 288216.0, 192973.0, 43010.0, 43010.0, 158.0, 381809.0, 324.0, 177800.0, 288216.0, 292848.0, 357212.0, 151808.0, 207790.0, 341045.0, 341045.0, 62065.0, 452.0, 72786.0, 452.0, 270970.0, 59937.0, 357266.0, 112045.0, 242880.0, 106697.0, 158.0, 103394.0, 324.0, 867.0, 358160.0, 292848.0, 108008.0, 58155.0, 129593.0, 158.0, 188839.0, 383793.0, 248770.0, 324.0, 341060.0, 125522.0, 452.0, 388711.0, 357266.0, 48831.0, 268046.0, 268046.0, 348415.0, 452.0, 188481.0, 43010.0, 108161.0, 271342.0, 271342.0, 341045.0, 192082.0, 192082.0, 58997.0, 151772.0, 371152.0, 178401.0, 327884.0, 88126.0, 134678.0, 43010.0, 43010.0, 270970.0, 43010.0, 178401.0, 339147.0, 239291.0, 239291.0, 239291.0, 263634.0, 348415.0, 388711.0, 388711.0, 66984.0, 158.0, 179805.0, 324.0, 375624.0, 59937.0, 26559.0, 58997.0, 374168.0, 360915.0, 188217.0, 105136.0, 341036.0, 268046.0, 357266.0, 306716.0, 192082.0, 192082.0, 373485.0, 46223.0, 268046.0, 298728.0, 190189.0, 452.0, 288216.0, 267462.0, 388747.0, 357266.0, 58155.0, 129593.0, 292982.0, 105136.0, 278011.0, 158.0, 147946.0, 15341.0, 324.0, 42972.0, 39570.0, 42974.0, 867.0, 326146.0, 305954.0, 174642.0, 120639.0, 357266.0, 291628.0, 268046.0, 341045.0, 278011.0, 268046.0, 184830.0, 54718.0, 383793.0, 288221.0, 42972.0, 42972.0, 42974.0, 452.0, 288124.0, 256309.0, 42972.0, 41112.0, 42974.0, 452.0, 54718.0, 54718.0, 184682.0, 278011.0, 42972.0, 42972.0, 42974.0, 867.0, 358160.0, 242245.0, 52520.0, 52074.0, 151349.0, 357266.0, 291628.0, 268046.0, 112485.0, 112485.0, 188481.0, 357266.0, 291748.0, 268046.0, 268046.0, 268046.0, 42972.0, 42972.0, 42974.0, 867.0, 188481.0, 46223.0, 452.0, 112632.0, 354635.0, 188839.0, 188839.0, 42972.0, 42972.0, 42974.0, 54718.0, 299104.0, 42972.0, 5836.0, 42974.0, 188481.0, 192082.0, 192082.0, 174642.0, 71814.0, 142903.0, 360915.0, 291634.0, 385245.0, 256309.0, 54718.0, 54718.0, 867.0], [357266.0, 376008.0, 283048.0, 107707.0, 268046.0, 43010.0, 265557.0, 268046.0, 123767.0, 158048.0, 388711.0, 331680.0, 142577.0, 43010.0, 144971.0, 178545.0, 277980.0, 291876.0, 357109.0, 51582.0, 91787.0, 108005.0, 339029.0, 273428.0, 357266.0, 155017.0, 355520.0, 355520.0, 60665.0, 54273.0, 187870.0, 306708.0, 357266.0, 376008.0, 108008.0, 43010.0, 178545.0, 53974.0, 268046.0, 331680.0, 219194.0, 357266.0, 336968.0, 283048.0, 388711.0, 142361.0, 142361.0, 358160.0, 91787.0, 192973.0, 222484.0, 360915.0, 291173.0, 269798.0, 357266.0, 348406.0, 268046.0, 357266.0, 330780.0, 165681.0, 452.0, 43010.0, 292848.0, 357212.0, 71586.0, 377946.0, 300602.0, 60665.0, 357266.0, 355520.0, 57924.0, 57924.0, 42972.0, 19410.0, 42974.0, 867.0, 388747.0, 357266.0, 357266.0, 278008.0, 357266.0, 330780.0, 218659.0, 192973.0, 317581.0, 74651.0, 368321.0, 103931.0, 268046.0, 120978.0, 120978.0, 357266.0, 277980.0, 291876.0, 188481.0, 357703.0, 138656.0, 268046.0, 158047.0, 91787.0, 151796.0, 44617.0, 166041.0, 383514.0, 89633.0, 374253.0, 117493.0, 351973.0, 154323.0, 154323.0, 351112.0, 54718.0, 46189.0, 360915.0, 147946.0, 2479.0, 42972.0, 19833.0, 42974.0, 452.0, 386474.0, 329999.0, 357212.0, 188481.0, 357266.0, 386897.0, 355520.0, 300364.0, 305032.0, 151349.0, 358160.0, 345195.0, 357266.0, 376008.0, 291876.0, 268046.0, 91787.0, 192973.0, 326146.0, 230489.0, 335162.0, 357109.0, 357212.0, 268046.0, 357266.0, 127298.0, 158016.0, 283061.0, 44617.0, 330780.0, 867.0], [357266.0, 323025.0, 344607.0, 341956.0, 192973.0, 43010.0, 43010.0, 355893.0, 344607.0, 121851.0, 360915.0, 305994.0, 357266.0, 397999.0, 48608.0, 268046.0, 54273.0, 46999.0, 111052.0, 111052.0, 111052.0, 217910.0, 111076.0, 174642.0, 71814.0, 267267.0, 188481.0, 357266.0, 274242.0, 218659.0, 452.0, 54718.0, 57715.0, 360915.0, 151719.0, 377946.0, 103049.0, 360915.0, 270970.0, 62065.0, 357266.0, 357266.0, 191295.0, 158.0, 147946.0, 2479.0, 324.0, 867.0, 148545.0, 135301.0, 54431.0, 88126.0, 277569.0, 140185.0, 50256.0, 189162.0, 357212.0, 357761.0, 111076.0, 151719.0, 60665.0, 43010.0, 306708.0, 268046.0, 224580.0, 355893.0, 344613.0, 44617.0, 279670.0, 188481.0, 357266.0, 357266.0, 191295.0, 312013.0, 42972.0, 23802.0, 42974.0, 867.0, 357761.0, 111076.0, 58997.0, 107670.0, 325181.0, 360915.0, 57170.0, 256278.0, 111076.0, 357212.0, 243977.0, 306708.0, 154323.0, 357266.0, 356658.0, 360915.0, 248699.0, 283048.0, 283048.0, 54273.0, 61770.0, 192973.0, 229835.0, 177231.0, 357212.0, 386458.0, 357266.0, 357266.0, 217910.0, 111076.0, 151719.0, 378206.0, 152808.0, 268046.0, 357266.0, 274242.0, 270970.0, 88126.0, 88126.0, 62065.0, 357266.0, 191295.0, 43010.0, 364976.0, 355893.0, 344607.0, 341956.0, 387696.0, 343257.0, 71090.0, 71090.0, 188481.0, 233659.0, 277983.0, 341029.0, 397674.0, 111076.0, 390139.0, 71090.0, 142758.0, 360915.0, 122040.0, 357266.0, 356658.0, 356658.0, 358160.0, 192973.0, 332176.0, 88126.0, 57856.0, 355893.0, 344607.0, 188481.0, 124748.0, 2479.0, 452.0, 15341.0, 54718.0, 23046.0, 60665.0, 358160.0, 357266.0, 237347.0, 344607.0, 62065.0, 357266.0, 111052.0, 360302.0, 192973.0, 264550.0, 209675.0, 452.0, 357266.0, 57844.0, 355893.0, 344613.0, 110707.0, 43010.0, 300364.0, 154323.0, 154323.0, 373317.0, 360915.0, 43010.0, 237347.0, 344607.0, 375624.0, 268046.0, 268046.0, 60665.0, 193716.0, 192973.0, 57951.0, 138590.0, 360915.0, 358549.0, 359971.0, 357266.0, 152808.0, 344579.0, 268046.0, 86545.0, 152808.0, 344579.0, 151349.0, 233659.0, 341039.0, 397674.0, 42972.0, 24747.0, 42974.0, 867.0, 151349.0, 357266.0, 75358.0, 106456.0, 54718.0, 364976.0, 355893.0, 344607.0, 342019.0, 193716.0, 192973.0, 357266.0, 364721.0, 188481.0, 72028.0, 301000.0, 357109.0, 357266.0, 44786.0, 375636.0, 357212.0, 58997.0, 107670.0, 268046.0, 166402.0, 188271.0, 151349.0, 358160.0, 389836.0, 867.0], [292066.0, 345173.0, 174642.0, 330028.0, 357212.0, 357640.0, 58997.0, 368321.0, 231068.0, 239302.0, 151349.0, 357266.0, 122455.0, 268046.0, 298720.0, 129882.0, 42972.0, 42972.0, 42974.0, 867.0, 151349.0, 151349.0, 298719.0, 452.0, 332395.0, 342773.0, 192973.0, 357266.0, 231068.0, 292848.0, 360915.0, 94041.0, 129882.0, 158.0, 323337.0, 148016.0, 26470.0, 324.0, 452.0, 386474.0, 192973.0, 62813.0, 360915.0, 357266.0, 159439.0, 268046.0, 265557.0, 268046.0, 311313.0, 373485.0, 357266.0, 188786.0, 268046.0, 189262.0, 283681.0, 268046.0, 268046.0, 386436.0, 386436.0, 94047.0, 129882.0, 358802.0, 368321.0, 342773.0, 239301.0, 158.0, 148016.0, 26465.0, 324.0, 88126.0, 303939.0, 357212.0, 132276.0, 332395.0, 283681.0, 94047.0, 250425.0, 332395.0, 311313.0, 54718.0, 359056.0, 189393.0, 270201.0, 332395.0, 344219.0, 344219.0, 357412.0, 452.0, 386424.0, 43010.0, 323025.0, 332395.0, 344219.0, 83332.0, 267462.0, 386432.0, 258155.0, 357266.0, 142644.0, 332395.0, 344219.0, 83332.0, 452.0, 118054.0, 192973.0, 94044.0, 452.0, 185635.0, 452.0, 357266.0, 368321.0, 342773.0, 342773.0, 347252.0, 357266.0, 306717.0, 54718.0, 125165.0, 384374.0, 237383.0, 106803.0, 60665.0, 357212.0, 42867.0, 158.0, 2479.0, 324.0, 357266.0, 331417.0, 293815.0, 133896.0, 268046.0, 43515.0, 47889.0, 47889.0, 116330.0, 237383.0, 303936.0, 357266.0, 133900.0, 124237.0, 268046.0, 311313.0, 88126.0, 88126.0, 158.0, 15341.0, 324.0, 151349.0, 357266.0, 357266.0, 189388.0, 129881.0, 452.0, 357266.0, 293815.0, 133896.0, 88126.0, 43515.0, 192973.0, 43010.0, 223830.0, 77162.0, 384390.0, 357109.0, 357266.0, 93018.0, 268046.0, 283599.0, 283599.0, 358160.0, 237383.0, 71090.0, 130319.0, 360915.0, 357266.0, 159439.0, 268046.0, 265568.0, 268046.0, 311313.0, 88126.0, 332395.0, 283681.0, 268046.0, 268046.0, 348620.0, 274289.0, 339029.0, 47889.0, 357266.0, 124241.0, 133896.0, 88126.0, 43515.0, 237383.0, 94041.0, 94041.0, 158.0, 21828.0, 324.0, 60665.0, 151349.0, 357266.0, 129882.0, 88126.0, 370378.0, 452.0, 116330.0, 192973.0, 94044.0, 88126.0, 357266.0, 329456.0, 358802.0, 357266.0, 159439.0, 268046.0, 268046.0, 42972.0, 12750.0, 42974.0, 867.0, 359056.0, 452.0, 357266.0, 98017.0, 133896.0, 268046.0, 43515.0, 360915.0, 124237.0, 311313.0, 192973.0, 107670.0, 360915.0, 71090.0, 258623.0, 335129.0, 151349.0, 357266.0, 293810.0, 268046.0, 129882.0, 867.0], [188481.0, 159391.0, 452.0, 357266.0, 192311.0, 142368.0, 91249.0, 158.0, 186584.0, 324.0, 192973.0, 103077.0, 304958.0, 360915.0, 357266.0, 293923.0, 106975.0, 268046.0, 280456.0, 71494.0, 357266.0, 45534.0, 155216.0, 452.0, 346373.0, 60665.0, 347021.0, 45534.0, 167650.0, 452.0, 108280.0, 360915.0, 357266.0, 293923.0, 106972.0, 188481.0, 43010.0, 43010.0, 74804.0, 43010.0, 95614.0, 347018.0, 119560.0, 452.0, 280456.0, 355693.0, 360915.0, 44801.0, 361940.0, 251645.0, 383772.0, 270970.0, 58997.0, 141816.0, 337163.0, 188481.0, 383772.0, 452.0, 386474.0, 258589.0, 47483.0, 357354.0, 239291.0, 306409.0, 54718.0, 383772.0, 306409.0, 42972.0, 42972.0, 42974.0, 867.0, 357645.0, 452.0, 357266.0, 188388.0, 268046.0, 293923.0, 106975.0, 374253.0, 59895.0, 288221.0, 388711.0, 247409.0, 46599.0, 186584.0, 375636.0, 174032.0, 71814.0, 371152.0, 191039.0, 192129.0, 42972.0, 42972.0, 42974.0, 867.0, 360915.0, 45457.0, 178401.0, 293923.0, 106975.0, 388711.0, 247405.0, 186584.0, 375636.0, 452.0, 357266.0, 151761.0, 268046.0, 192311.0, 96805.0, 344940.0, 452.0, 386474.0, 136748.0, 133900.0, 293923.0, 106972.0, 452.0, 174032.0, 71814.0, 71814.0, 188481.0, 357266.0, 110542.0, 268046.0, 357761.0, 345173.0, 452.0, 54273.0, 186348.0, 250018.0, 174032.0, 71814.0, 295628.0, 88126.0, 88126.0, 325187.0, 268046.0, 323530.0, 78339.0, 108783.0, 188481.0, 386474.0, 184830.0, 184830.0, 288211.0, 323533.0, 151719.0, 54273.0, 191227.0, 358584.0, 259585.0, 306556.0, 151349.0, 133929.0, 293923.0, 364123.0, 452.0, 386495.0, 43010.0, 106318.0, 259585.0, 268046.0, 184832.0, 184832.0, 323533.0, 188059.0, 43010.0, 304702.0, 133896.0, 452.0, 292048.0, 142364.0, 349472.0, 188481.0, 383772.0, 54718.0, 137511.0, 357266.0, 239291.0, 239291.0, 54273.0, 187646.0, 268046.0, 357266.0, 186348.0, 250018.0, 151349.0, 280456.0, 192973.0, 330028.0, 188481.0, 147946.0, 15341.0, 867.0], [357266.0, 345195.0, 273144.0, 43010.0, 364929.0, 268046.0, 363973.0, 306549.0, 54431.0, 269798.0, 155058.0, 250665.0, 83970.0, 344940.0, 360915.0, 267324.0, 189825.0, 106727.0, 357266.0, 357266.0, 191295.0, 54718.0, 192973.0, 277915.0, 268046.0, 43010.0, 217469.0, 345195.0, 360915.0, 61634.0, 357266.0, 225348.0, 348748.0, 73120.0, 268188.0, 88126.0, 188347.0, 113946.0, 93807.0, 293810.0, 158.0, 186047.0, 324.0, 47798.0, 357266.0, 191633.0, 268046.0, 357266.0, 293815.0, 113946.0, 42972.0, 2479.0, 42974.0, 867.0, 357761.0, 344940.0, 170714.0, 292067.0, 71814.0, 293806.0, 151349.0, 151349.0, 88126.0, 54273.0, 186047.0, 350362.0, 292469.0, 360915.0, 357266.0, 341875.0, 268046.0, 357266.0, 357266.0, 357266.0, 293815.0, 113946.0, 383514.0, 191628.0, 452.0, 188481.0, 271173.0, 360915.0, 61634.0, 357266.0, 225348.0, 73120.0, 294038.0, 88126.0, 186047.0, 47798.0, 193716.0, 174032.0, 71814.0, 367662.0, 367662.0, 358160.0, 276859.0, 122463.0, 54718.0, 142280.0, 43010.0, 332140.0, 57920.0, 151349.0, 357266.0, 269840.0, 374163.0, 268046.0, 363973.0, 306549.0, 54431.0, 54718.0, 125163.0, 357266.0, 289872.0, 47006.0, 268046.0, 357266.0, 354634.0, 60665.0, 43010.0, 361959.0, 151349.0, 357266.0, 61640.0, 268046.0, 357266.0, 109577.0, 106917.0, 268046.0, 342333.0, 188481.0, 304695.0, 106839.0, 344940.0, 867.0], [144227.0, 268046.0, 344930.0, 106384.0, 192973.0, 43010.0, 231345.0, 106725.0, 188481.0, 357266.0, 265375.0, 290159.0, 189462.0, 54718.0, 306013.0, 264550.0, 270201.0, 43010.0, 315390.0, 193637.0, 452.0, 87775.0, 52520.0, 43010.0, 175013.0, 360915.0, 133215.0, 133215.0, 344607.0, 109577.0, 111065.0, 158.0, 320214.0, 324.0, 452.0, 54718.0, 139731.0, 139731.0, 344607.0, 109577.0, 111065.0, 158.0, 158.0, 324.0, 452.0, 174642.0, 294009.0, 360915.0, 71090.0, 43010.0, 331417.0, 289872.0, 94041.0, 268046.0, 144228.0, 188481.0, 357266.0, 265375.0, 189462.0, 188481.0, 236514.0, 346373.0, 60665.0, 52075.0, 34330.0, 158.0, 37502.0, 41.0, 260666.0, 452.0, 11458.0, 41.0, 111018.0, 54718.0, 38601.0, 41.0, 146082.0, 324.0, 54718.0, 341242.0, 342362.0, 452.0, 139731.0, 188481.0, 291883.0, 383772.0, 302204.0, 158.0, 295963.0, 324.0, 42972.0, 42972.0, 42974.0, 867.0, 344607.0, 109577.0, 111065.0, 188481.0, 291887.0, 383772.0, 302204.0, 158.0, 158.0, 324.0, 267462.0, 188481.0, 52075.0, 34330.0, 188481.0, 315390.0, 112045.0, 106384.0, 452.0, 346373.0, 60665.0, 342249.0, 159445.0, 366802.0, 452.0, 175532.0, 334592.0, 452.0, 291887.0, 190828.0, 280598.0, 54718.0, 108302.0, 310214.0, 129440.0, 239302.0, 42972.0, 42972.0, 42974.0, 867.0, 371429.0, 357266.0, 239302.0, 357212.0, 108302.0, 320214.0, 188481.0, 358160.0, 52075.0, 387696.0, 52067.0, 151349.0, 108154.0, 143041.0, 268046.0, 222138.0, 188481.0, 113946.0, 286126.0, 60665.0, 385218.0, 60665.0, 315385.0, 121858.0, 268046.0, 155653.0, 265375.0, 302204.0, 867.0], [397675.0, 52078.0, 58997.0, 106001.0, 374168.0, 60665.0, 357266.0, 154796.0, 101949.0, 151349.0, 383772.0, 108578.0, 265375.0, 149109.0, 302204.0, 452.0, 231117.0, 130319.0, 360915.0, 357354.0, 226394.0, 259875.0, 112400.0, 452.0, 164328.0, 109577.0, 306409.0, 131142.0, 264164.0, 270616.0, 106927.0, 54718.0, 346608.0, 239291.0, 344579.0, 42972.0, 2479.0, 42974.0, 867.0, 121972.0, 178401.0, 109577.0, 306409.0, 62065.0, 264164.0, 270616.0, 355524.0, 158.0, 59937.0, 23607.0, 23607.0, 324.0, 42972.0, 15341.0, 42974.0, 452.0, 398194.0, 52078.0, 274244.0, 377946.0, 300612.0, 386424.0, 142944.0, 360915.0, 355524.0, 43010.0, 147468.0, 184067.0, 119564.0, 119564.0, 358160.0, 192973.0, 54273.0, 142712.0, 302192.0, 452.0, 386474.0, 90548.0, 155499.0, 45071.0, 274238.0, 54718.0, 452.0, 62065.0, 355524.0, 74804.0, 5587.0, 5587.0, 452.0, 289875.0, 218947.0, 360915.0, 125339.0, 268046.0, 357266.0, 154796.0, 310349.0, 452.0, 60665.0, 178617.0, 131142.0, 357266.0, 154958.0, 115959.0, 265375.0, 265375.0, 151349.0, 358160.0, 302476.0, 259972.0, 306262.0, 45882.0, 174642.0, 71814.0, 190181.0, 390001.0, 360915.0, 122447.0, 45129.0, 361409.0, 154808.0, 158.0, 62229.0, 324.0, 867.0, 46226.0, 452.0, 452.0, 110156.0, 52520.0, 294037.0, 155499.0, 137507.0, 188481.0, 109577.0, 281311.0, 131142.0, 264164.0, 270616.0, 106927.0, 136754.0, 357266.0, 122455.0, 268046.0, 154796.0, 61604.0, 151349.0, 377946.0, 178401.0, 178401.0, 867.0], [43010.0, 288917.0, 99771.0, 192973.0, 360915.0, 110481.0, 43010.0, 325899.0, 268046.0, 296998.0, 287518.0, 388711.0, 54273.0, 138590.0, 265557.0, 268046.0, 262536.0, 215898.0, 288242.0, 119365.0, 62065.0, 357266.0, 316998.0, 287518.0, 452.0, 218977.0, 360915.0, 43010.0, 105131.0, 105131.0, 357640.0, 58997.0, 233708.0, 142285.0, 268046.0, 358160.0, 358809.0, 357266.0, 223718.0, 452.0, 81562.0, 188481.0, 356212.0, 268046.0, 357266.0, 249714.0, 363500.0, 374504.0, 108161.0, 156663.0, 158.0, 95906.0, 324.0, 54718.0, 125083.0, 156663.0, 158.0, 122793.0, 324.0, 151982.0, 452.0, 60665.0, 385218.0, 60665.0, 260059.0, 143041.0, 346373.0, 60665.0, 357266.0, 150594.0, 303120.0, 158.0, 152776.0, 324.0, 354634.0, 60665.0, 291763.0, 88126.0, 184570.0, 42972.0, 18987.0, 42974.0, 867.0, 188481.0, 105131.0, 242260.0, 452.0, 386495.0, 250392.0, 222960.0, 270631.0, 90548.0, 71090.0, 142250.0, 190959.0, 188481.0, 358160.0, 325991.0, 121168.0, 269798.0, 357266.0, 99771.0, 268046.0, 296998.0, 452.0, 190955.0, 268046.0, 263650.0, 356212.0, 368711.0, 188992.0, 265592.0, 265592.0, 182573.0, 452.0, 357266.0, 106512.0, 133927.0, 357212.0, 90548.0, 71090.0, 62657.0, 358802.0, 357266.0, 374163.0, 268046.0, 43010.0, 105131.0, 151981.0, 452.0, 139731.0, 162058.0, 357266.0, 291748.0, 268046.0, 43010.0, 123137.0, 236058.0, 236752.0, 452.0, 268345.0, 273345.0, 357266.0, 265592.0, 139198.0, 357212.0, 192973.0, 188997.0, 867.0], [357266.0, 81903.0, 135301.0, 242245.0, 158.0, 72889.0, 324.0, 174032.0, 102471.0, 47006.0, 386424.0, 57844.0, 360915.0, 327393.0, 270896.0, 268046.0, 178519.0, 122511.0, 452.0, 323337.0, 42972.0, 42972.0, 42974.0, 151349.0, 54273.0, 191921.0, 360915.0, 360915.0, 148908.0, 268046.0, 51582.0, 452.0, 72889.0, 305056.0, 270201.0, 269798.0, 43010.0, 348406.0, 348406.0, 336114.0, 357212.0, 357640.0, 192973.0, 262350.0, 258451.0, 360915.0, 231137.0, 54273.0, 54273.0, 380844.0, 380844.0, 131142.0, 357266.0, 327393.0, 270896.0, 270896.0, 249755.0, 452.0, 72889.0, 192973.0, 186348.0, 151349.0, 337201.0, 292803.0, 188481.0, 370838.0, 127215.0, 357212.0, 267452.0, 188481.0, 135242.0, 147810.0, 147810.0, 188481.0, 188481.0, 327393.0, 270896.0, 357266.0, 327393.0, 121482.0, 268046.0, 357266.0, 109891.0, 155212.0, 388711.0, 306501.0, 360915.0, 159832.0, 282016.0, 192973.0, 258454.0, 42972.0, 42972.0, 42974.0, 867.0, 360915.0, 358160.0, 295589.0, 452.0, 384374.0, 374163.0, 357266.0, 46569.0, 57920.0, 54718.0, 337189.0, 357266.0, 292261.0, 54718.0, 357266.0, 46569.0, 81903.0, 375624.0, 292803.0, 388711.0, 388711.0, 357266.0, 61722.0, 222960.0, 350396.0, 268046.0, 138625.0, 58997.0, 120978.0, 54718.0, 54273.0, 45075.0, 354634.0, 452.0, 346373.0, 60665.0, 357266.0, 145460.0, 252695.0, 242245.0, 42972.0, 42972.0, 42974.0, 452.0, 192973.0, 258303.0, 151349.0, 357354.0, 133929.0, 133929.0, 151349.0, 337259.0, 302801.0, 57840.0, 268046.0, 145460.0, 72889.0, 188481.0, 327393.0, 270896.0, 54718.0, 54718.0, 54718.0, 292803.0, 384374.0, 303855.0, 360915.0, 42972.0, 42972.0, 42974.0, 867.0], [142820.0, 345173.0, 268046.0, 357266.0, 131666.0, 268046.0, 189262.0, 91787.0, 62500.0, 188481.0, 166032.0, 174642.0, 71814.0, 136640.0, 88126.0, 357266.0, 302801.0, 293184.0, 188481.0, 188481.0, 364051.0, 135204.0, 243308.0, 158.0, 158.0, 324.0, 91234.0, 268046.0, 268046.0, 268046.0, 357266.0, 142285.0, 188836.0, 188836.0, 267260.0, 268046.0, 357266.0, 151761.0, 54718.0, 55796.0, 268046.0, 268046.0, 119273.0, 42972.0, 2479.0, 42974.0, 452.0, 133480.0, 303120.0, 42972.0, 15687.0, 42974.0, 54718.0, 151761.0, 268046.0, 43010.0, 217449.0, 180518.0, 188481.0, 166032.0, 328003.0, 154323.0, 43010.0, 332395.0, 374903.0, 119263.0, 42972.0, 21828.0, 42974.0, 867.0, 357266.0, 357266.0, 174032.0, 71814.0, 52520.0, 142888.0, 188481.0, 379863.0, 188481.0, 302292.0, 359889.0, 268046.0, 357266.0, 292848.0, 268046.0, 324003.0, 268046.0, 166032.0, 166032.0, 154323.0, 248029.0, 291239.0, 42972.0, 26882.0, 42974.0, 54718.0, 151761.0, 268046.0, 256300.0, 333429.0, 180658.0, 293967.0, 269798.0, 357266.0, 256334.0, 331026.0, 42972.0, 33544.0, 42974.0, 867.0, 69725.0, 269798.0, 269798.0, 267260.0, 268046.0, 363924.0, 268046.0, 335129.0, 148545.0, 166032.0, 149501.0, 191811.0, 155086.0, 452.0, 43010.0, 259972.0, 399910.0, 362070.0, 399913.0, 239301.0, 151349.0, 357266.0, 151761.0, 268046.0, 155086.0, 371152.0, 357266.0, 135204.0, 71177.0, 298719.0, 174032.0, 71814.0, 293583.0, 42972.0, 36169.0, 42974.0, 867.0, 357266.0, 112045.0, 342773.0, 188481.0, 357266.0, 293583.0, 399910.0, 362070.0, 399913.0, 239301.0, 268046.0, 357266.0, 155086.0, 151761.0, 192973.0, 111455.0, 268046.0, 374902.0, 188481.0, 335129.0, 166032.0, 149501.0, 60665.0, 43010.0, 306708.0, 268046.0, 209580.0, 116330.0, 88126.0, 135220.0, 268046.0, 357266.0, 187682.0, 135204.0, 71177.0, 158.0, 158.0, 324.0, 867.0, 357266.0, 346119.0, 151761.0, 268046.0, 280837.0, 62065.0, 357266.0, 374903.0, 333121.0, 258155.0, 357266.0, 133480.0, 303666.0, 357266.0, 265557.0, 268046.0, 116684.0, 80286.0, 54718.0, 365196.0, 357266.0, 114052.0, 292848.0, 268046.0, 166032.0, 149501.0, 191811.0, 43010.0, 103066.0, 155086.0, 344936.0, 42972.0, 36169.0, 42974.0, 867.0, 359056.0, 452.0, 131663.0, 72028.0, 268046.0, 374902.0, 258155.0, 166032.0, 133480.0, 286468.0, 43010.0, 112654.0, 310672.0, 188481.0, 142857.0, 239302.0, 268046.0, 357266.0, 357266.0, 61700.0, 324003.0, 54718.0, 344930.0, 363926.0, 188481.0, 188481.0, 344940.0, 867.0], [188481.0, 51582.0, 357761.0, 345173.0, 452.0, 357266.0, 61728.0, 74651.0, 357266.0, 363985.0, 54718.0, 217910.0, 111065.0, 188481.0, 357266.0, 274242.0, 218659.0, 121186.0, 337259.0, 191138.0, 74651.0, 357266.0, 239291.0, 72028.0, 268046.0, 357266.0, 350362.0, 452.0, 54718.0, 193919.0, 109577.0, 207791.0, 452.0, 87775.0, 126848.0, 264550.0, 294037.0, 43010.0, 102471.0, 371429.0, 268046.0, 357266.0, 250018.0, 268046.0, 357266.0, 242030.0, 42867.0, 274242.0, 191295.0, 131142.0, 357266.0, 109577.0, 292848.0, 452.0, 62065.0, 357266.0, 256300.0, 256300.0, 371429.0, 386984.0, 358160.0, 363985.0, 72028.0, 173067.0, 192973.0, 112045.0, 386424.0, 247392.0, 357266.0, 300964.0, 268046.0, 167701.0, 268046.0, 274242.0, 452.0, 54718.0, 357645.0, 360915.0, 357266.0, 222218.0, 291290.0, 268046.0, 398194.0, 398194.0, 452.0, 54718.0, 370304.0, 360915.0, 357266.0, 315390.0, 268046.0, 265375.0, 290159.0, 290159.0, 262350.0, 247378.0, 387696.0, 71090.0, 106326.0, 388756.0, 43010.0, 256319.0, 371429.0, 268046.0, 386307.0, 192973.0, 163745.0, 269798.0, 131142.0, 131142.0, 359056.0, 452.0, 193716.0, 192973.0, 139904.0, 357212.0, 357266.0, 274242.0, 319932.0, 54718.0, 357266.0, 362050.0, 218662.0, 268046.0, 357266.0, 242030.0, 58997.0, 345171.0, 62065.0, 256300.0, 306450.0, 360915.0, 307133.0, 357266.0, 122129.0, 344930.0, 54718.0, 98017.0, 96737.0, 61722.0, 388711.0, 123811.0, 268046.0, 274289.0, 54718.0, 357266.0, 306716.0, 274238.0, 268046.0, 357266.0, 357266.0, 386501.0, 43010.0, 265557.0, 268046.0, 354635.0, 174642.0, 71814.0, 136616.0, 151349.0, 358160.0, 295589.0, 452.0, 193716.0, 192973.0, 102471.0, 357212.0, 376147.0, 354635.0, 388747.0, 364051.0, 135204.0, 243308.0, 158.0, 355429.0, 324.0, 387696.0, 71090.0, 53909.0, 357266.0, 250392.0, 377842.0, 54718.0, 189838.0, 151349.0, 358160.0, 295589.0, 452.0, 52673.0, 46224.0, 189825.0, 90548.0, 71090.0, 46189.0, 88126.0, 354635.0, 346373.0, 60665.0, 62482.0, 292780.0, 361687.0, 867.0], [188481.0, 358160.0, 389836.0, 452.0, 384374.0, 174642.0, 122450.0, 43010.0, 332120.0, 265592.0, 320539.0, 69725.0, 269798.0, 357266.0, 156663.0, 148545.0, 135301.0, 242245.0, 151349.0, 43010.0, 43010.0, 359889.0, 152797.0, 123811.0, 138623.0, 386474.0, 192217.0, 252664.0, 91615.0, 152797.0, 121483.0, 188481.0, 188481.0, 43010.0, 106326.0, 139198.0, 54431.0, 268046.0, 357266.0, 338556.0, 338556.0, 156663.0, 320539.0, 192973.0, 192973.0, 357266.0, 357607.0, 110728.0, 357266.0, 290457.0, 377946.0, 188273.0, 93018.0, 268046.0, 268046.0, 190165.0, 117493.0, 54718.0, 308561.0, 172466.0, 172466.0, 357266.0, 54431.0, 305056.0, 139908.0, 269798.0, 337259.0, 259972.0, 304372.0, 306717.0, 268046.0, 357266.0, 357266.0, 359889.0, 152797.0, 123811.0, 123811.0, 155499.0, 452.0, 384374.0, 174642.0, 122450.0, 43010.0, 155104.0, 125137.0, 320539.0, 69725.0, 269798.0, 43010.0, 148545.0, 123763.0, 125142.0, 268046.0, 357266.0, 91615.0, 152797.0, 152797.0, 357266.0, 341036.0, 54718.0, 139198.0, 140079.0, 268046.0, 357266.0, 155104.0, 125137.0, 320539.0, 385664.0, 139954.0, 452.0, 294038.0, 357212.0, 357266.0, 337176.0, 192973.0, 192973.0, 357266.0, 143043.0, 265592.0, 142832.0, 188481.0, 188481.0, 54718.0, 54718.0, 155104.0, 107126.0, 272881.0, 108395.0, 54431.0, 42867.0, 357266.0, 136598.0, 108395.0, 300978.0, 48346.0, 385218.0, 388711.0, 357266.0, 357589.0, 291291.0, 151349.0, 81562.0, 335514.0, 54718.0, 54718.0, 117493.0, 867.0]]\n",
            "[[265375 357607 122590 ...   9445   9445   9445]\n",
            " [357266 278014 283048 ...   9445   9445   9445]\n",
            " [360915 106803    452 ...   9445   9445   9445]\n",
            " ...\n",
            " [142820 345173 268046 ...   9445   9445   9445]\n",
            " [188481  51582 357761 ...   9445   9445   9445]\n",
            " [188481 358160 389836 ...   9445   9445   9445]]\n"
          ],
          "name": "stdout"
        }
      ]
    },
    {
      "cell_type": "code",
      "metadata": {
        "colab": {
          "background_save": true,
          "base_uri": "https://localhost:8080/"
        },
        "id": "0NTMLiAz69c-",
        "outputId": "14e4b19e-ac97-405a-8ae5-7ace0b2706eb"
      },
      "source": [
        "print(len(train_tokens))"
      ],
      "execution_count": null,
      "outputs": [
        {
          "output_type": "stream",
          "text": [
            "350\n"
          ],
          "name": "stdout"
        }
      ]
    },
    {
      "cell_type": "code",
      "metadata": {
        "colab": {
          "background_save": true,
          "base_uri": "https://localhost:8080/"
        },
        "id": "39OomnRl7XuP",
        "outputId": "5435d39d-4826-484e-ac9c-a2d4a61be47b"
      },
      "source": [
        "train_tokens.shape"
      ],
      "execution_count": null,
      "outputs": [
        {
          "output_type": "execute_result",
          "data": {
            "text/plain": [
              "(350, 344)"
            ]
          },
          "metadata": {
            "tags": []
          },
          "execution_count": 0
        }
      ]
    },
    {
      "cell_type": "code",
      "metadata": {
        "colab": {
          "background_save": true,
          "base_uri": "https://localhost:8080/"
        },
        "id": "yEgxDnKD7BZB",
        "outputId": "66d54190-d51a-4054-fd87-251853f0c6a1"
      },
      "source": [
        "print(len(train_tags))"
      ],
      "execution_count": null,
      "outputs": [
        {
          "output_type": "stream",
          "text": [
            "350\n"
          ],
          "name": "stdout"
        }
      ]
    },
    {
      "cell_type": "code",
      "metadata": {
        "colab": {
          "background_save": true,
          "base_uri": "https://localhost:8080/"
        },
        "id": "YcvZp2b6LYhl",
        "outputId": "7c462fb0-6a4d-49c7-a0d1-5c7f106e48a6"
      },
      "source": [
        "import numpy as np\n",
        "import tensorflow\n",
        "from tensorflow.keras import Sequential, Model, Input\n",
        "from tensorflow.keras.layers import LSTM, Embedding, Dense, TimeDistributed, Dropout, Bidirectional\n",
        "from tensorflow.keras.utils import plot_model\n",
        "\n",
        "from numpy.random import seed\n",
        "#seed(1)\n",
        "#tensorflow.random.set_seed(2)\n",
        "\n",
        "input_dim = len(list(set(train_dataset['Words'].to_list())))+1\n",
        "\n",
        "output_dim = 64\n",
        "input_length = 344\n",
        "#input_length = max([len(s) for s in data_group['Word_idx'].tolist()])\n",
        "n_tags = len(tag2idx)\n",
        "print('input_dim: ', input_dim, '\\noutput_dim: ', output_dim, '\\ninput_length: ', input_length, '\\nn_tags: ', n_tags)"
      ],
      "execution_count": null,
      "outputs": [
        {
          "output_type": "stream",
          "text": [
            "input_dim:  9447 \n",
            "output_dim:  64 \n",
            "input_length:  344 \n",
            "n_tags:  7\n"
          ],
          "name": "stdout"
        }
      ]
    },
    {
      "cell_type": "code",
      "metadata": {
        "colab": {
          "background_save": true
        },
        "id": "KxbjdYiX-wUl"
      },
      "source": [
        "class make_sentence(object):\n",
        "\n",
        "  def __init__(self, dataset):\n",
        "    self.sent = 1\n",
        "    self.dataset = dataset\n",
        "    self.empty = False\n",
        "    func = lambda s : [(word, tag) for word, tag in zip(s[\"Words\"].values.tolist(),\n",
        "                                                        s[\"Tags\"].values.tolist())]\n",
        "    self.group = self.dataset.groupby(\"Sentence_idx\").apply(func)\n",
        "    self.sentences = [s for s in self.group]\n",
        "\n",
        "  \n",
        "  def get_max(self):\n",
        "    try:\n",
        "      s = self.group[\"Sentence : {}\".format(self.sent)]\n",
        "      self.sent += 1\n",
        "      return s\n",
        "    except :\n",
        "      return None"
      ],
      "execution_count": null,
      "outputs": []
    },
    {
      "cell_type": "code",
      "metadata": {
        "colab": {
          "background_save": true
        },
        "id": "YJBUfI-5-3Vl"
      },
      "source": [
        "getter = make_sentence(train_dataset)\n",
        "sentences_train = getter.sentences"
      ],
      "execution_count": null,
      "outputs": []
    },
    {
      "cell_type": "code",
      "metadata": {
        "colab": {
          "background_save": true,
          "base_uri": "https://localhost:8080/",
          "height": 88
        },
        "id": "2jsKVCqy-5GK",
        "outputId": "06c59f85-8595-45c2-d3ad-4ad87c45f860"
      },
      "source": [
        "\"\"\"\n",
        "maxlen_train = 344\n",
        "\n",
        "X_train = [[w_to_i[w[0]] for w in s] for s in sentences_train]\n",
        "X_train = pad_sequences(maxlen = maxlen_train, sequences = X_train, padding = \"post\",value = n_words_train - 1)\n",
        "\n",
        "Y_train = [[tag2idx_train[w[1]] for w in s] for s in sentences_train]\n",
        "Y_train = pad_sequences(maxlen = maxlen_train, sequences = Y_train, padding = \"post\", value = 6)\n",
        "Y_train = [to_categorical(i, num_classes = n_tags_train) for i in Y_train]\n",
        "\"\"\""
      ],
      "execution_count": null,
      "outputs": [
        {
          "output_type": "execute_result",
          "data": {
            "application/vnd.google.colaboratory.intrinsic+json": {
              "type": "string"
            },
            "text/plain": [
              "'\\nmaxlen_train = 344\\n\\nX_train = [[w_to_i[w[0]] for w in s] for s in sentences_train]\\nX_train = pad_sequences(maxlen = maxlen_train, sequences = X_train, padding = \"post\",value = n_words_train - 1)\\n\\nY_train = [[tag2idx_train[w[1]] for w in s] for s in sentences_train]\\nY_train = pad_sequences(maxlen = maxlen_train, sequences = Y_train, padding = \"post\", value = 6)\\nY_train = [to_categorical(i, num_classes = n_tags_train) for i in Y_train]\\n'"
            ]
          },
          "metadata": {
            "tags": []
          },
          "execution_count": 0
        }
      ]
    },
    {
      "cell_type": "code",
      "metadata": {
        "colab": {
          "background_save": true,
          "base_uri": "https://localhost:8080/",
          "height": 71
        },
        "id": "ThyWAFSUMMPz",
        "outputId": "368a9a86-88a1-4d67-a66a-3fea9bb5f5db"
      },
      "source": [
        "\"\"\"\n",
        "def train_model(X, y, model):\n",
        "    loss = list()\n",
        "    for i in range(25):\n",
        "        # fit model for one epoch on this sequence\n",
        "        hist = model.fit(X, y, batch_size=1000, verbose=1, epochs=1, validation_split=0.2)\n",
        "        loss.append(hist.history['loss'][0])\n",
        "    return loss\n",
        "\"\"\""
      ],
      "execution_count": null,
      "outputs": [
        {
          "output_type": "execute_result",
          "data": {
            "application/vnd.google.colaboratory.intrinsic+json": {
              "type": "string"
            },
            "text/plain": [
              "\"\\ndef train_model(X, y, model):\\n    loss = list()\\n    for i in range(25):\\n        # fit model for one epoch on this sequence\\n        hist = model.fit(X, y, batch_size=1000, verbose=1, epochs=1, validation_split=0.2)\\n        loss.append(hist.history['loss'][0])\\n    return loss\\n\""
            ]
          },
          "metadata": {
            "tags": []
          },
          "execution_count": 0
        }
      ]
    },
    {
      "cell_type": "code",
      "metadata": {
        "colab": {
          "background_save": true,
          "base_uri": "https://localhost:8080/"
        },
        "id": "4dcz1CS2P8Bp",
        "outputId": "57e8b025-3919-45e2-ad2e-29746f92a5a7"
      },
      "source": [
        "# Embedding Layer\n",
        "\n",
        "import keras as k\n",
        "from keras.models import Model, Input\n",
        "from keras.layers import LSTM, Embedding, Dense, TimeDistributed, Dropout, Bidirectional\n",
        "from keras_contrib.layers import CRF\n",
        "from keras.callbacks import ModelCheckpoint\n",
        "from keras.preprocessing.sequence import pad_sequences\n",
        "from keras.utils import to_categorical\n",
        "\n",
        "\n",
        "input = Input(shape = (344, ))\n",
        "word_embedding_size = 210\n",
        "\n",
        "model = Embedding(input_dim = input_dim, output_dim = 210, input_length = 344)(input)\n",
        "\n",
        "# BI-LSTM Layer\n",
        "model = Bidirectional(LSTM(units = word_embedding_size, activation = \"tanh\", recurrent_activation =  \"sigmoid\", \n",
        "                           use_bias = True, kernel_initializer = k.initializers.he_normal(),\n",
        "                           recurrent_initializer = \"orthogonal\", bias_initializer = \"zeros\", return_sequences = True,\n",
        "                           recurrent_dropout = 0.5, dropout = 0.5))(model)\n",
        "\n",
        "model = LSTM(units = word_embedding_size * 2, activation = \"tanh\", recurrent_activation =  \"sigmoid\", \n",
        "                           use_bias = True, kernel_initializer = k.initializers.he_normal(),\n",
        "                           recurrent_initializer = \"orthogonal\", bias_initializer = \"zeros\", return_sequences = True,\n",
        "                           recurrent_dropout = 0.5, dropout = 0.5)(model)\n",
        "\n",
        "                           \n",
        "\n",
        "\n",
        "# TimeDistributed Layer\n",
        "model = TimeDistributed(Dense(n_tags, activation = \"relu\"))(model)     #use_bias\n",
        "\n",
        "# CRF Layer\n",
        "crf = CRF(n_tags)\n",
        "\n",
        "out = crf(model)  # output\n",
        "print(\"----------------------\")\n",
        "print(out)\n",
        "print(\"----------------------\")\n",
        "model = Model(input, out)"
      ],
      "execution_count": null,
      "outputs": [
        {
          "output_type": "stream",
          "text": [
            "WARNING:tensorflow:From /tensorflow-1.15.2/python3.7/tensorflow_core/python/ops/resource_variable_ops.py:1630: calling BaseResourceVariable.__init__ (from tensorflow.python.ops.resource_variable_ops) with constraint is deprecated and will be removed in a future version.\n",
            "Instructions for updating:\n",
            "If using Keras pass *_constraint arguments to layers.\n",
            "----------------------\n",
            "Tensor(\"crf_1/cond/Merge:0\", shape=(?, 344, 7), dtype=float32)\n",
            "----------------------\n"
          ],
          "name": "stdout"
        }
      ]
    },
    {
      "cell_type": "code",
      "metadata": {
        "colab": {
          "background_save": true
        },
        "id": "ucr9H_gHIo1h"
      },
      "source": [
        ""
      ],
      "execution_count": null,
      "outputs": []
    },
    {
      "cell_type": "code",
      "metadata": {
        "colab": {
          "background_save": true,
          "base_uri": "https://localhost:8080/"
        },
        "id": "E8AS1LwHRVX7",
        "outputId": "da1b7ed5-bae2-4b33-8f53-2ee4b0cc6638"
      },
      "source": [
        "adam = k.optimizers.Adam(learning_rate = 0.0005, beta_1 = 0.9, beta_2 = 0.999)\n",
        "\n",
        "# Compile model\n",
        "model.compile(optimizer = adam, loss = crf.loss_function,sample_weight_mode = None , \n",
        "              metrics = [crf.accuracy, 'accuracy'], target_tensors = None)\n",
        "\n",
        "model.summary()\n",
        "\n",
        "# Saving the best model only\n",
        "file_path = \"TA-{val_accuracy:.2f}.hdf5\"\n",
        "\n",
        "checkpoint = ModelCheckpoint(file_path, period = 1, monitor = 'val_accuracy', verbose = 1, save_best_only = True, \n",
        "                             save_weights_only = False, mode = \"max\")     #max --> auto\n",
        "\n",
        "callbacks_list = [checkpoint]\n",
        "\n",
        "# Fit the best model\n",
        "#model_fitting = model.fit(train_tokens, np.array(train_tags), batch_size = 1000, validation_split = 0.2, epochs = 4,\n",
        "                    #      verbose = 1, callbacks = callbacks_list, shuffle = True, initial_epoch = 0, \n",
        "                     #     max_queue_size = 10)"
      ],
      "execution_count": null,
      "outputs": [
        {
          "output_type": "stream",
          "text": [
            "WARNING:tensorflow:From /tensorflow-1.15.2/python3.7/tensorflow_core/python/ops/math_ops.py:2509: where (from tensorflow.python.ops.array_ops) is deprecated and will be removed in a future version.\n",
            "Instructions for updating:\n",
            "Use tf.where in 2.0, which has the same broadcast rule as np.where\n",
            "Model: \"model_1\"\n",
            "_________________________________________________________________\n",
            "Layer (type)                 Output Shape              Param #   \n",
            "=================================================================\n",
            "input_1 (InputLayer)         (None, 344)               0         \n",
            "_________________________________________________________________\n",
            "embedding_1 (Embedding)      (None, 344, 210)          1983870   \n",
            "_________________________________________________________________\n",
            "bidirectional_1 (Bidirection (None, 344, 420)          707280    \n",
            "_________________________________________________________________\n",
            "lstm_2 (LSTM)                (None, 344, 420)          1412880   \n",
            "_________________________________________________________________\n",
            "time_distributed_1 (TimeDist (None, 344, 7)            2947      \n",
            "_________________________________________________________________\n",
            "crf_1 (CRF)                  (None, 344, 7)            119       \n",
            "=================================================================\n",
            "Total params: 4,107,096\n",
            "Trainable params: 4,107,096\n",
            "Non-trainable params: 0\n",
            "_________________________________________________________________\n"
          ],
          "name": "stdout"
        }
      ]
    },
    {
      "cell_type": "code",
      "metadata": {
        "colab": {
          "background_save": true,
          "base_uri": "https://localhost:8080/",
          "height": 71
        },
        "id": "F5m6A2zoRcbT",
        "outputId": "d53899c8-090b-4ce9-fbc6-116a7ff18d6a"
      },
      "source": [
        "\"\"\"\n",
        "model_fitting = model.fit(train_tokens, np.array(train_tags), batch_size = 1000, validation_split = 0.2, epochs = 4,\n",
        "                          verbose = 1, callbacks = callbacks_list, shuffle = True, initial_epoch = 0, \n",
        "                          max_queue_size = 10)\n",
        "\"\"\""
      ],
      "execution_count": null,
      "outputs": [
        {
          "output_type": "execute_result",
          "data": {
            "application/vnd.google.colaboratory.intrinsic+json": {
              "type": "string"
            },
            "text/plain": [
              "'\\nmodel_fitting = model.fit(train_tokens, np.array(train_tags), batch_size = 1000, validation_split = 0.2, epochs = 4,\\n                          verbose = 1, callbacks = callbacks_list, shuffle = True, initial_epoch = 0, \\n                          max_queue_size = 10)\\n'"
            ]
          },
          "metadata": {
            "tags": []
          },
          "execution_count": 0
        }
      ]
    },
    {
      "cell_type": "code",
      "metadata": {
        "colab": {
          "background_save": true
        },
        "id": "ajyD0y4Z_zei"
      },
      "source": [
        "train = [j for i in train_docs for j in i]\n",
        "dev = [j for i in dev_docs for j in i]\n",
        "test = [j for i in test_docs for j in i]"
      ],
      "execution_count": null,
      "outputs": []
    },
    {
      "cell_type": "code",
      "metadata": {
        "colab": {
          "background_save": true
        },
        "id": "b4cLkzsO_0MU"
      },
      "source": [
        "train_dataset = pd.DataFrame(train, columns = [\"Words\", \"Tags\"])\n",
        "test_dataset = pd.DataFrame(test, columns = [\"Words\", \"Tags\"])\n",
        "dev_dataset = pd.DataFrame(dev, columns = [\"Words\", \"Tags\"])"
      ],
      "execution_count": null,
      "outputs": []
    },
    {
      "cell_type": "code",
      "metadata": {
        "colab": {
          "background_save": true,
          "base_uri": "https://localhost:8080/",
          "height": 197
        },
        "id": "x_-1--Zx_0O6",
        "outputId": "c3704d8c-3a3d-483f-db3c-6bd2e9ebfebd"
      },
      "source": [
        "train_dataset.head()"
      ],
      "execution_count": null,
      "outputs": [
        {
          "output_type": "execute_result",
          "data": {
            "text/html": [
              "<div>\n",
              "<style scoped>\n",
              "    .dataframe tbody tr th:only-of-type {\n",
              "        vertical-align: middle;\n",
              "    }\n",
              "\n",
              "    .dataframe tbody tr th {\n",
              "        vertical-align: top;\n",
              "    }\n",
              "\n",
              "    .dataframe thead th {\n",
              "        text-align: right;\n",
              "    }\n",
              "</style>\n",
              "<table border=\"1\" class=\"dataframe\">\n",
              "  <thead>\n",
              "    <tr style=\"text-align: right;\">\n",
              "      <th></th>\n",
              "      <th>Words</th>\n",
              "      <th>Tags</th>\n",
              "    </tr>\n",
              "  </thead>\n",
              "  <tbody>\n",
              "    <tr>\n",
              "      <th>0</th>\n",
              "      <td>Nuclear</td>\n",
              "      <td>B-Task</td>\n",
              "    </tr>\n",
              "    <tr>\n",
              "      <th>1</th>\n",
              "      <td>theory</td>\n",
              "      <td>I-Task</td>\n",
              "    </tr>\n",
              "    <tr>\n",
              "      <th>2</th>\n",
              "      <td>devoted</td>\n",
              "      <td>O</td>\n",
              "    </tr>\n",
              "    <tr>\n",
              "      <th>3</th>\n",
              "      <td>major</td>\n",
              "      <td>O</td>\n",
              "    </tr>\n",
              "    <tr>\n",
              "      <th>4</th>\n",
              "      <td>efforts</td>\n",
              "      <td>O</td>\n",
              "    </tr>\n",
              "  </tbody>\n",
              "</table>\n",
              "</div>"
            ],
            "text/plain": [
              "     Words    Tags\n",
              "0  Nuclear  B-Task\n",
              "1   theory  I-Task\n",
              "2  devoted       O\n",
              "3    major       O\n",
              "4  efforts       O"
            ]
          },
          "metadata": {
            "tags": []
          },
          "execution_count": 0
        }
      ]
    },
    {
      "cell_type": "code",
      "metadata": {
        "colab": {
          "background_save": true,
          "base_uri": "https://localhost:8080/"
        },
        "id": "uIisTmv0_0RU",
        "outputId": "7b5bf688-94d0-4c61-fc46-bc6cd3557507"
      },
      "source": [
        "from itertools import chain\n",
        "count_tags = {}\n",
        "def get_dict_map(data, token_or_tag):\n",
        "    tok2idx = {}\n",
        "    idx2tok = {}\n",
        "    \n",
        "    if token_or_tag == 'token':\n",
        "        vocab = list(set(train_dataset['Words'].to_list()))\n",
        "    else:\n",
        "        vocab = list(set(train_dataset['Tags'].to_list()))\n",
        "        for i in vocab:\n",
        "            if i not in count_tags:\n",
        "                count_tags[i]=0\n",
        "        for i in train_dataset['Tags'].to_list():\n",
        "            count_tags[i] += 1\n",
        "            \n",
        "    for i in count_tags:\n",
        "        print(i, count_tags[i])\n",
        "    idx2tok = {idx:tok for  idx, tok in enumerate(vocab)}\n",
        "    tok2idx = {tok:idx for  idx, tok in enumerate(vocab)}\n",
        "        \n",
        "    return tok2idx, idx2tok\n",
        "\n",
        "\n",
        "token2idx, idx2token = get_dict_map(train_dataset, 'token')\n",
        "tag2idx, idx2tag = get_dict_map(train_dataset, 'tag')"
      ],
      "execution_count": null,
      "outputs": [
        {
          "output_type": "stream",
          "text": [
            "B-Process 2779\n",
            "I-Process 5705\n",
            "I-Task 4294\n",
            "I-Material 2563\n",
            "B-Material 2185\n",
            "B-Task 1100\n",
            "O 43849\n"
          ],
          "name": "stdout"
        }
      ]
    },
    {
      "cell_type": "code",
      "metadata": {
        "colab": {
          "background_save": true,
          "base_uri": "https://localhost:8080/",
          "height": 197
        },
        "id": "NrHvj9sw_0UK",
        "outputId": "afe0d740-1f24-4b77-f0f8-43bed8209403"
      },
      "source": [
        "train_dataset.tail()"
      ],
      "execution_count": null,
      "outputs": [
        {
          "output_type": "execute_result",
          "data": {
            "text/html": [
              "<div>\n",
              "<style scoped>\n",
              "    .dataframe tbody tr th:only-of-type {\n",
              "        vertical-align: middle;\n",
              "    }\n",
              "\n",
              "    .dataframe tbody tr th {\n",
              "        vertical-align: top;\n",
              "    }\n",
              "\n",
              "    .dataframe thead th {\n",
              "        text-align: right;\n",
              "    }\n",
              "</style>\n",
              "<table border=\"1\" class=\"dataframe\">\n",
              "  <thead>\n",
              "    <tr style=\"text-align: right;\">\n",
              "      <th></th>\n",
              "      <th>Words</th>\n",
              "      <th>Tags</th>\n",
              "    </tr>\n",
              "  </thead>\n",
              "  <tbody>\n",
              "    <tr>\n",
              "      <th>62470</th>\n",
              "      <td>smooth</td>\n",
              "      <td>O</td>\n",
              "    </tr>\n",
              "    <tr>\n",
              "      <th>62471</th>\n",
              "      <td>and</td>\n",
              "      <td>O</td>\n",
              "    </tr>\n",
              "    <tr>\n",
              "      <th>62472</th>\n",
              "      <td>nonsmooth</td>\n",
              "      <td>O</td>\n",
              "    </tr>\n",
              "    <tr>\n",
              "      <th>62473</th>\n",
              "      <td>data</td>\n",
              "      <td>O</td>\n",
              "    </tr>\n",
              "    <tr>\n",
              "      <th>62474</th>\n",
              "      <td>.</td>\n",
              "      <td>O</td>\n",
              "    </tr>\n",
              "  </tbody>\n",
              "</table>\n",
              "</div>"
            ],
            "text/plain": [
              "           Words Tags\n",
              "62470     smooth    O\n",
              "62471        and    O\n",
              "62472  nonsmooth    O\n",
              "62473       data    O\n",
              "62474          .    O"
            ]
          },
          "metadata": {
            "tags": []
          },
          "execution_count": 0
        }
      ]
    },
    {
      "cell_type": "code",
      "metadata": {
        "colab": {
          "background_save": true,
          "base_uri": "https://localhost:8080/"
        },
        "id": "3z93rG_G_0Vv",
        "outputId": "ddf4dc48-13e1-4d02-e423-e0c22881485b"
      },
      "source": [
        "train_dataset[\"Tags\"].unique()"
      ],
      "execution_count": null,
      "outputs": [
        {
          "output_type": "execute_result",
          "data": {
            "text/plain": [
              "array(['B-Task', 'I-Task', 'O', 'B-Process', 'I-Process', 'B-Material',\n",
              "       'I-Material'], dtype=object)"
            ]
          },
          "metadata": {
            "tags": []
          },
          "execution_count": 0
        }
      ]
    },
    {
      "cell_type": "code",
      "metadata": {
        "colab": {
          "background_save": true,
          "base_uri": "https://localhost:8080/",
          "height": 197
        },
        "id": "ruQVjBojJhks",
        "outputId": "2384c91a-c5e7-43ef-e7e8-c4ad63b7a362"
      },
      "source": [
        "train_dataset['Word_idx'] = train_dataset['Words'].map(w_to_i)\n",
        "train_dataset['Tag_idx'] = train_dataset['Tags'].map(tag2idx)\n",
        "train_dataset.head()"
      ],
      "execution_count": null,
      "outputs": [
        {
          "output_type": "execute_result",
          "data": {
            "text/html": [
              "<div>\n",
              "<style scoped>\n",
              "    .dataframe tbody tr th:only-of-type {\n",
              "        vertical-align: middle;\n",
              "    }\n",
              "\n",
              "    .dataframe tbody tr th {\n",
              "        vertical-align: top;\n",
              "    }\n",
              "\n",
              "    .dataframe thead th {\n",
              "        text-align: right;\n",
              "    }\n",
              "</style>\n",
              "<table border=\"1\" class=\"dataframe\">\n",
              "  <thead>\n",
              "    <tr style=\"text-align: right;\">\n",
              "      <th></th>\n",
              "      <th>Words</th>\n",
              "      <th>Tags</th>\n",
              "      <th>Word_idx</th>\n",
              "      <th>Tag_idx</th>\n",
              "    </tr>\n",
              "  </thead>\n",
              "  <tbody>\n",
              "    <tr>\n",
              "      <th>0</th>\n",
              "      <td>Nuclear</td>\n",
              "      <td>B-Task</td>\n",
              "      <td>NaN</td>\n",
              "      <td>5</td>\n",
              "    </tr>\n",
              "    <tr>\n",
              "      <th>1</th>\n",
              "      <td>theory</td>\n",
              "      <td>I-Task</td>\n",
              "      <td>357607.0</td>\n",
              "      <td>2</td>\n",
              "    </tr>\n",
              "    <tr>\n",
              "      <th>2</th>\n",
              "      <td>devoted</td>\n",
              "      <td>O</td>\n",
              "      <td>122590.0</td>\n",
              "      <td>6</td>\n",
              "    </tr>\n",
              "    <tr>\n",
              "      <th>3</th>\n",
              "      <td>major</td>\n",
              "      <td>O</td>\n",
              "      <td>231345.0</td>\n",
              "      <td>6</td>\n",
              "    </tr>\n",
              "    <tr>\n",
              "      <th>4</th>\n",
              "      <td>efforts</td>\n",
              "      <td>O</td>\n",
              "      <td>133951.0</td>\n",
              "      <td>6</td>\n",
              "    </tr>\n",
              "  </tbody>\n",
              "</table>\n",
              "</div>"
            ],
            "text/plain": [
              "     Words    Tags  Word_idx  Tag_idx\n",
              "0  Nuclear  B-Task       NaN        5\n",
              "1   theory  I-Task  357607.0        2\n",
              "2  devoted       O  122590.0        6\n",
              "3    major       O  231345.0        6\n",
              "4  efforts       O  133951.0        6"
            ]
          },
          "metadata": {
            "tags": []
          },
          "execution_count": 0
        }
      ]
    },
    {
      "cell_type": "code",
      "metadata": {
        "colab": {
          "background_save": true
        },
        "id": "c1Qlf_yIJh-B"
      },
      "source": [
        "words_train = list(set(train_dataset[\"Words\"].values))\n",
        "words_train = list(train_dataset[\"Words\"].values)\n",
        "n_words_train = len(words_train)\n",
        "\n",
        "tags_train = []\n",
        "for tag_train in set(train_dataset[\"Tags\"].values):\n",
        "  if tag_train is nan or isinstance(tag_train, float):\n",
        "    tags_train.append(\"Unknown\")\n",
        "  else:\n",
        "    tags_train.append(tag_train)\n",
        "\n",
        "n_tags_train  = len(tags_train)"
      ],
      "execution_count": null,
      "outputs": []
    },
    {
      "cell_type": "code",
      "metadata": {
        "colab": {
          "background_save": true,
          "base_uri": "https://localhost:8080/"
        },
        "id": "bqyWHF7tJiAf",
        "outputId": "a77cc62f-0c3e-4a2d-9fd2-5d43e6232245"
      },
      "source": [
        "len(words_train)"
      ],
      "execution_count": null,
      "outputs": [
        {
          "output_type": "execute_result",
          "data": {
            "text/plain": [
              "62475"
            ]
          },
          "metadata": {
            "tags": []
          },
          "execution_count": 0
        }
      ]
    },
    {
      "cell_type": "code",
      "metadata": {
        "colab": {
          "background_save": true,
          "base_uri": "https://localhost:8080/"
        },
        "id": "2kNFr6txJiC4",
        "outputId": "d4040a43-f92a-4d77-ec6c-5b25401c0826"
      },
      "source": [
        "n_words_train"
      ],
      "execution_count": null,
      "outputs": [
        {
          "output_type": "execute_result",
          "data": {
            "text/plain": [
              "62475"
            ]
          },
          "metadata": {
            "tags": []
          },
          "execution_count": 0
        }
      ]
    },
    {
      "cell_type": "code",
      "metadata": {
        "colab": {
          "background_save": true
        },
        "id": "k2tN3Z7EJiE4"
      },
      "source": [
        "class make_sentence(object):\n",
        "\n",
        "  def __init__(self, dataset):\n",
        "    self.sent = 1\n",
        "    self.dataset = dataset\n",
        "    self.empty = False\n",
        "    func = lambda s : [(word, tag) for word, tag in zip(s[\"Words\"].values.tolist(),\n",
        "                                                        s[\"Tags\"].values.tolist())]\n",
        "    self.group = self.dataset.groupby(\"Sentence_idx\").apply(func)\n",
        "    self.sentences = [s for s in self.group]\n",
        "\n",
        "  \n",
        "  def get_max(self):\n",
        "    try:\n",
        "      s = self.group[\"Sentence : {}\".format(self.sent)]\n",
        "      self.sent += 1\n",
        "      return s\n",
        "    except :\n",
        "      return None"
      ],
      "execution_count": null,
      "outputs": []
    },
    {
      "cell_type": "code",
      "metadata": {
        "colab": {
          "background_save": true
        },
        "id": "oOkbcrmMKOTM"
      },
      "source": [
        "r = []\n",
        "for i in range(len(train_docs)):\n",
        "  x = len(train_docs[i])\n",
        "  for j in range(x):\n",
        "    r.append(i+1)\n",
        "\n",
        "train_dataset[\"Sentence_idx\"] = r"
      ],
      "execution_count": null,
      "outputs": []
    },
    {
      "cell_type": "code",
      "metadata": {
        "colab": {
          "background_save": true,
          "base_uri": "https://localhost:8080/",
          "height": 197
        },
        "id": "vYCqqFuxJiIC",
        "outputId": "e55a44ac-5d02-4fd2-b45a-8a102900a418"
      },
      "source": [
        "train_dataset.head()"
      ],
      "execution_count": null,
      "outputs": [
        {
          "output_type": "execute_result",
          "data": {
            "text/html": [
              "<div>\n",
              "<style scoped>\n",
              "    .dataframe tbody tr th:only-of-type {\n",
              "        vertical-align: middle;\n",
              "    }\n",
              "\n",
              "    .dataframe tbody tr th {\n",
              "        vertical-align: top;\n",
              "    }\n",
              "\n",
              "    .dataframe thead th {\n",
              "        text-align: right;\n",
              "    }\n",
              "</style>\n",
              "<table border=\"1\" class=\"dataframe\">\n",
              "  <thead>\n",
              "    <tr style=\"text-align: right;\">\n",
              "      <th></th>\n",
              "      <th>Words</th>\n",
              "      <th>Tags</th>\n",
              "      <th>Word_idx</th>\n",
              "      <th>Tag_idx</th>\n",
              "      <th>Sentence_idx</th>\n",
              "    </tr>\n",
              "  </thead>\n",
              "  <tbody>\n",
              "    <tr>\n",
              "      <th>0</th>\n",
              "      <td>Nuclear</td>\n",
              "      <td>B-Task</td>\n",
              "      <td>NaN</td>\n",
              "      <td>5</td>\n",
              "      <td>1</td>\n",
              "    </tr>\n",
              "    <tr>\n",
              "      <th>1</th>\n",
              "      <td>theory</td>\n",
              "      <td>I-Task</td>\n",
              "      <td>357607.0</td>\n",
              "      <td>2</td>\n",
              "      <td>1</td>\n",
              "    </tr>\n",
              "    <tr>\n",
              "      <th>2</th>\n",
              "      <td>devoted</td>\n",
              "      <td>O</td>\n",
              "      <td>122590.0</td>\n",
              "      <td>6</td>\n",
              "      <td>1</td>\n",
              "    </tr>\n",
              "    <tr>\n",
              "      <th>3</th>\n",
              "      <td>major</td>\n",
              "      <td>O</td>\n",
              "      <td>231345.0</td>\n",
              "      <td>6</td>\n",
              "      <td>1</td>\n",
              "    </tr>\n",
              "    <tr>\n",
              "      <th>4</th>\n",
              "      <td>efforts</td>\n",
              "      <td>O</td>\n",
              "      <td>133951.0</td>\n",
              "      <td>6</td>\n",
              "      <td>1</td>\n",
              "    </tr>\n",
              "  </tbody>\n",
              "</table>\n",
              "</div>"
            ],
            "text/plain": [
              "     Words    Tags  Word_idx  Tag_idx  Sentence_idx\n",
              "0  Nuclear  B-Task       NaN        5             1\n",
              "1   theory  I-Task  357607.0        2             1\n",
              "2  devoted       O  122590.0        6             1\n",
              "3    major       O  231345.0        6             1\n",
              "4  efforts       O  133951.0        6             1"
            ]
          },
          "metadata": {
            "tags": []
          },
          "execution_count": 0
        }
      ]
    },
    {
      "cell_type": "code",
      "metadata": {
        "colab": {
          "background_save": true,
          "base_uri": "https://localhost:8080/",
          "height": 197
        },
        "id": "MiWaU1ynKCbN",
        "outputId": "d3e64e51-713b-4a37-ec54-bc4e74588bdc"
      },
      "source": [
        "train_dataset.tail()"
      ],
      "execution_count": null,
      "outputs": [
        {
          "output_type": "execute_result",
          "data": {
            "text/html": [
              "<div>\n",
              "<style scoped>\n",
              "    .dataframe tbody tr th:only-of-type {\n",
              "        vertical-align: middle;\n",
              "    }\n",
              "\n",
              "    .dataframe tbody tr th {\n",
              "        vertical-align: top;\n",
              "    }\n",
              "\n",
              "    .dataframe thead th {\n",
              "        text-align: right;\n",
              "    }\n",
              "</style>\n",
              "<table border=\"1\" class=\"dataframe\">\n",
              "  <thead>\n",
              "    <tr style=\"text-align: right;\">\n",
              "      <th></th>\n",
              "      <th>Words</th>\n",
              "      <th>Tags</th>\n",
              "      <th>Word_idx</th>\n",
              "      <th>Tag_idx</th>\n",
              "      <th>Sentence_idx</th>\n",
              "    </tr>\n",
              "  </thead>\n",
              "  <tbody>\n",
              "    <tr>\n",
              "      <th>62470</th>\n",
              "      <td>smooth</td>\n",
              "      <td>O</td>\n",
              "      <td>335514.0</td>\n",
              "      <td>6</td>\n",
              "      <td>350</td>\n",
              "    </tr>\n",
              "    <tr>\n",
              "      <th>62471</th>\n",
              "      <td>and</td>\n",
              "      <td>O</td>\n",
              "      <td>54718.0</td>\n",
              "      <td>6</td>\n",
              "      <td>350</td>\n",
              "    </tr>\n",
              "    <tr>\n",
              "      <th>62472</th>\n",
              "      <td>nonsmooth</td>\n",
              "      <td>O</td>\n",
              "      <td>NaN</td>\n",
              "      <td>6</td>\n",
              "      <td>350</td>\n",
              "    </tr>\n",
              "    <tr>\n",
              "      <th>62473</th>\n",
              "      <td>data</td>\n",
              "      <td>O</td>\n",
              "      <td>117493.0</td>\n",
              "      <td>6</td>\n",
              "      <td>350</td>\n",
              "    </tr>\n",
              "    <tr>\n",
              "      <th>62474</th>\n",
              "      <td>.</td>\n",
              "      <td>O</td>\n",
              "      <td>867.0</td>\n",
              "      <td>6</td>\n",
              "      <td>350</td>\n",
              "    </tr>\n",
              "  </tbody>\n",
              "</table>\n",
              "</div>"
            ],
            "text/plain": [
              "           Words Tags  Word_idx  Tag_idx  Sentence_idx\n",
              "62470     smooth    O  335514.0        6           350\n",
              "62471        and    O   54718.0        6           350\n",
              "62472  nonsmooth    O       NaN        6           350\n",
              "62473       data    O  117493.0        6           350\n",
              "62474          .    O     867.0        6           350"
            ]
          },
          "metadata": {
            "tags": []
          },
          "execution_count": 0
        }
      ]
    },
    {
      "cell_type": "code",
      "metadata": {
        "colab": {
          "background_save": true
        },
        "id": "_CAxwlylKHlc"
      },
      "source": [
        "class make_sentence(object):\n",
        "\n",
        "  def __init__(self, dataset):\n",
        "    self.sent = 1\n",
        "    self.dataset = dataset\n",
        "    self.empty = False\n",
        "    func = lambda s : [(word, tag) for word, tag in zip(s[\"Words\"].values.tolist(),\n",
        "                                                        s[\"Tags\"].values.tolist())]\n",
        "    self.group = self.dataset.groupby(\"Sentence_idx\").apply(func)\n",
        "    self.sentences = [s for s in self.group]\n",
        "\n",
        "  \n",
        "  def get_max(self):\n",
        "    try:\n",
        "      s = self.group[\"Sentence : {}\".format(self.sent)]\n",
        "      self.sent += 1\n",
        "      return s\n",
        "    except :\n",
        "      return None\n"
      ],
      "execution_count": null,
      "outputs": []
    },
    {
      "cell_type": "code",
      "metadata": {
        "colab": {
          "background_save": true
        },
        "id": "6SE7nyMbKj1W"
      },
      "source": [
        "getter = make_sentence(train_dataset)\n",
        "sentences_train = getter.sentences"
      ],
      "execution_count": null,
      "outputs": []
    },
    {
      "cell_type": "code",
      "metadata": {
        "colab": {
          "background_save": true,
          "base_uri": "https://localhost:8080/"
        },
        "id": "h2rhlK35KlQ9",
        "outputId": "1bb8409d-2c83-4816-81d9-05e4a5553d07"
      },
      "source": [
        "getter"
      ],
      "execution_count": null,
      "outputs": [
        {
          "output_type": "execute_result",
          "data": {
            "text/plain": [
              "<__main__.make_sentence at 0x7fee0d5bee90>"
            ]
          },
          "metadata": {
            "tags": []
          },
          "execution_count": 0
        }
      ]
    },
    {
      "cell_type": "code",
      "metadata": {
        "colab": {
          "background_save": true,
          "base_uri": "https://localhost:8080/",
          "height": 317
        },
        "id": "JaVt7d05Kl7l",
        "outputId": "c60ae344-91fc-410b-f1f8-41ef2f496b8c"
      },
      "source": [
        "train_dataset[train_dataset[\"Words\"] == \"another\"]"
      ],
      "execution_count": null,
      "outputs": [
        {
          "output_type": "execute_result",
          "data": {
            "text/html": [
              "<div>\n",
              "<style scoped>\n",
              "    .dataframe tbody tr th:only-of-type {\n",
              "        vertical-align: middle;\n",
              "    }\n",
              "\n",
              "    .dataframe tbody tr th {\n",
              "        vertical-align: top;\n",
              "    }\n",
              "\n",
              "    .dataframe thead th {\n",
              "        text-align: right;\n",
              "    }\n",
              "</style>\n",
              "<table border=\"1\" class=\"dataframe\">\n",
              "  <thead>\n",
              "    <tr style=\"text-align: right;\">\n",
              "      <th></th>\n",
              "      <th>Words</th>\n",
              "      <th>Tags</th>\n",
              "      <th>Word_idx</th>\n",
              "      <th>Tag_idx</th>\n",
              "      <th>Sentence_idx</th>\n",
              "    </tr>\n",
              "  </thead>\n",
              "  <tbody>\n",
              "    <tr>\n",
              "      <th>13506</th>\n",
              "      <td>another</td>\n",
              "      <td>O</td>\n",
              "      <td>56041.0</td>\n",
              "      <td>6</td>\n",
              "      <td>69</td>\n",
              "    </tr>\n",
              "    <tr>\n",
              "      <th>32381</th>\n",
              "      <td>another</td>\n",
              "      <td>I-Task</td>\n",
              "      <td>56041.0</td>\n",
              "      <td>2</td>\n",
              "      <td>163</td>\n",
              "    </tr>\n",
              "    <tr>\n",
              "      <th>35031</th>\n",
              "      <td>another</td>\n",
              "      <td>O</td>\n",
              "      <td>56041.0</td>\n",
              "      <td>6</td>\n",
              "      <td>177</td>\n",
              "    </tr>\n",
              "    <tr>\n",
              "      <th>38737</th>\n",
              "      <td>another</td>\n",
              "      <td>O</td>\n",
              "      <td>56041.0</td>\n",
              "      <td>6</td>\n",
              "      <td>198</td>\n",
              "    </tr>\n",
              "    <tr>\n",
              "      <th>38894</th>\n",
              "      <td>another</td>\n",
              "      <td>O</td>\n",
              "      <td>56041.0</td>\n",
              "      <td>6</td>\n",
              "      <td>199</td>\n",
              "    </tr>\n",
              "    <tr>\n",
              "      <th>51966</th>\n",
              "      <td>another</td>\n",
              "      <td>O</td>\n",
              "      <td>56041.0</td>\n",
              "      <td>6</td>\n",
              "      <td>283</td>\n",
              "    </tr>\n",
              "    <tr>\n",
              "      <th>52725</th>\n",
              "      <td>another</td>\n",
              "      <td>O</td>\n",
              "      <td>56041.0</td>\n",
              "      <td>6</td>\n",
              "      <td>289</td>\n",
              "    </tr>\n",
              "    <tr>\n",
              "      <th>53300</th>\n",
              "      <td>another</td>\n",
              "      <td>O</td>\n",
              "      <td>56041.0</td>\n",
              "      <td>6</td>\n",
              "      <td>294</td>\n",
              "    </tr>\n",
              "    <tr>\n",
              "      <th>53385</th>\n",
              "      <td>another</td>\n",
              "      <td>O</td>\n",
              "      <td>56041.0</td>\n",
              "      <td>6</td>\n",
              "      <td>294</td>\n",
              "    </tr>\n",
              "  </tbody>\n",
              "</table>\n",
              "</div>"
            ],
            "text/plain": [
              "         Words    Tags  Word_idx  Tag_idx  Sentence_idx\n",
              "13506  another       O   56041.0        6            69\n",
              "32381  another  I-Task   56041.0        2           163\n",
              "35031  another       O   56041.0        6           177\n",
              "38737  another       O   56041.0        6           198\n",
              "38894  another       O   56041.0        6           199\n",
              "51966  another       O   56041.0        6           283\n",
              "52725  another       O   56041.0        6           289\n",
              "53300  another       O   56041.0        6           294\n",
              "53385  another       O   56041.0        6           294"
            ]
          },
          "metadata": {
            "tags": []
          },
          "execution_count": 0
        }
      ]
    },
    {
      "cell_type": "code",
      "metadata": {
        "colab": {
          "background_save": true
        },
        "id": "esLn8P70KniN"
      },
      "source": [
        "train_dataset.drop_duplicates([\"Words\", \"Tags\"], inplace = True)"
      ],
      "execution_count": null,
      "outputs": []
    },
    {
      "cell_type": "code",
      "metadata": {
        "colab": {
          "background_save": true,
          "base_uri": "https://localhost:8080/"
        },
        "id": "8H_CfIL3K15V",
        "outputId": "5b1bb98c-c597-4808-b366-23be6e571cd6"
      },
      "source": [
        "len(train_dataset)"
      ],
      "execution_count": null,
      "outputs": [
        {
          "output_type": "execute_result",
          "data": {
            "text/plain": [
              "15648"
            ]
          },
          "metadata": {
            "tags": []
          },
          "execution_count": 0
        }
      ]
    },
    {
      "cell_type": "code",
      "metadata": {
        "colab": {
          "background_save": true,
          "base_uri": "https://localhost:8080/",
          "height": 107
        },
        "id": "PAWZEe_vK3Jd",
        "outputId": "2d919bbf-47b1-46ed-f0cc-f46d5ff40e6e"
      },
      "source": [
        "train_dataset[train_dataset[\"Words\"] == \"another\"]"
      ],
      "execution_count": null,
      "outputs": [
        {
          "output_type": "execute_result",
          "data": {
            "text/html": [
              "<div>\n",
              "<style scoped>\n",
              "    .dataframe tbody tr th:only-of-type {\n",
              "        vertical-align: middle;\n",
              "    }\n",
              "\n",
              "    .dataframe tbody tr th {\n",
              "        vertical-align: top;\n",
              "    }\n",
              "\n",
              "    .dataframe thead th {\n",
              "        text-align: right;\n",
              "    }\n",
              "</style>\n",
              "<table border=\"1\" class=\"dataframe\">\n",
              "  <thead>\n",
              "    <tr style=\"text-align: right;\">\n",
              "      <th></th>\n",
              "      <th>Words</th>\n",
              "      <th>Tags</th>\n",
              "      <th>Word_idx</th>\n",
              "      <th>Tag_idx</th>\n",
              "      <th>Sentence_idx</th>\n",
              "    </tr>\n",
              "  </thead>\n",
              "  <tbody>\n",
              "    <tr>\n",
              "      <th>13506</th>\n",
              "      <td>another</td>\n",
              "      <td>O</td>\n",
              "      <td>56041.0</td>\n",
              "      <td>6</td>\n",
              "      <td>69</td>\n",
              "    </tr>\n",
              "    <tr>\n",
              "      <th>32381</th>\n",
              "      <td>another</td>\n",
              "      <td>I-Task</td>\n",
              "      <td>56041.0</td>\n",
              "      <td>2</td>\n",
              "      <td>163</td>\n",
              "    </tr>\n",
              "  </tbody>\n",
              "</table>\n",
              "</div>"
            ],
            "text/plain": [
              "         Words    Tags  Word_idx  Tag_idx  Sentence_idx\n",
              "13506  another       O   56041.0        6            69\n",
              "32381  another  I-Task   56041.0        2           163"
            ]
          },
          "metadata": {
            "tags": []
          },
          "execution_count": 0
        }
      ]
    },
    {
      "cell_type": "code",
      "metadata": {
        "colab": {
          "background_save": true
        },
        "id": "wReVudqMK8sW"
      },
      "source": [
        "word2idx_train = {w: i for i, w in enumerate(words_train)}\n",
        "#tag2idx_train = {t: i for i, t in enumerate(tags_train)}\n",
        "\n",
        "tag2idx_train = {'B-Material': 6,\n",
        " 'B-Process': 4,\n",
        " 'B-Task': 5,\n",
        " 'I-Material': 3,\n",
        " 'I-Process': 0,\n",
        " 'I-Task': 1,\n",
        " 'O': 2}\n",
        "\n",
        "idx2tag_train = {v: k for k, v in iteritems(tag2idx_train)}"
      ],
      "execution_count": null,
      "outputs": []
    },
    {
      "cell_type": "code",
      "metadata": {
        "colab": {
          "background_save": true
        },
        "id": "z1IZ16p1K9Ju"
      },
      "source": [
        "maxlen_train = 344\n",
        "\n",
        "X_train = [[word2idx_train[w[0]] for w in s] for s in sentences_train]\n",
        "X_train = pad_sequences(maxlen = maxlen_train, sequences = X_train, padding = \"post\",value = n_words_train - 1)\n",
        "\n",
        "Y_train = [[tag2idx_train[w[1]] for w in s] for s in sentences_train]\n",
        "Y_train = pad_sequences(maxlen = maxlen_train, sequences = Y_train, padding = \"post\", value = 6)\n",
        "Y_train = [to_categorical(i, num_classes = n_tags_train) for i in Y_train]"
      ],
      "execution_count": null,
      "outputs": []
    },
    {
      "cell_type": "code",
      "metadata": {
        "colab": {
          "background_save": true,
          "base_uri": "https://localhost:8080/"
        },
        "id": "MIJT-6G_K9MO",
        "outputId": "05da8c6a-1f26-4a97-ac80-53aee6419ec6"
      },
      "source": [
        "X_train"
      ],
      "execution_count": null,
      "outputs": [
        {
          "output_type": "execute_result",
          "data": {
            "text/plain": [
              "array([[    0, 62374, 21745, ..., 62474, 62474, 62474],\n",
              "       [62444, 59196, 60527, ..., 62474, 62474, 62474],\n",
              "       [61806, 60792, 62437, ..., 62474, 62474, 62474],\n",
              "       ...,\n",
              "       [61877, 62129, 62430, ..., 62474, 62474, 62474],\n",
              "       [62328, 62127, 62128, ..., 62474, 62474, 62474],\n",
              "       [62328, 62329, 62330, ..., 62474, 62474, 62474]], dtype=int32)"
            ]
          },
          "metadata": {
            "tags": []
          },
          "execution_count": 0
        }
      ]
    },
    {
      "cell_type": "code",
      "metadata": {
        "colab": {
          "background_save": true,
          "base_uri": "https://localhost:8080/"
        },
        "id": "PKoIo47UK9Oy",
        "outputId": "38481310-6e3a-405a-a3e2-a4bbc4df396d"
      },
      "source": [
        "len(Y_train)"
      ],
      "execution_count": null,
      "outputs": [
        {
          "output_type": "execute_result",
          "data": {
            "text/plain": [
              "350"
            ]
          },
          "metadata": {
            "tags": []
          },
          "execution_count": 0
        }
      ]
    },
    {
      "cell_type": "code",
      "metadata": {
        "colab": {
          "background_save": true,
          "base_uri": "https://localhost:8080/"
        },
        "id": "hsB3eRaoK9Q3",
        "outputId": "f38f368a-ac10-4717-b989-ea6fc4a93dc9"
      },
      "source": [
        "input = Input(shape=(344,))\n",
        "word_embedding_size = 210\n",
        "\n",
        "# Embedding Layer\n",
        "model = Embedding(input_dim = n_words_train, output_dim = word_embedding_size, input_length = 344)(input)\n",
        "\n",
        "# BI-LSTM Layer\n",
        "model = Bidirectional(LSTM(units = word_embedding_size,activation = \"tanh\", recurrent_activation =  \"sigmoid\", \n",
        "                           use_bias = True, kernel_initializer = k.initializers.he_normal(),\n",
        "                           recurrent_initializer = \"orthogonal\", bias_initializer = \"zeros\", return_sequences = True,\n",
        "                           recurrent_dropout = 0.5, dropout = 0.5))(model)\n",
        "\n",
        "model = LSTM(units = word_embedding_size * 2, activation = \"tanh\", recurrent_activation =  \"sigmoid\", \n",
        "                           use_bias = True, kernel_initializer = k.initializers.he_normal(),\n",
        "                           recurrent_initializer = \"orthogonal\", bias_initializer = \"zeros\", return_sequences = True,\n",
        "                           recurrent_dropout = 0.5, dropout = 0.5)(model)\n",
        "\n",
        "                           \n",
        "\n",
        "\n",
        "# TimeDistributed Layer\n",
        "model = TimeDistributed(Dense(n_tags_train, activation = \"relu\"))(model)     #use_bias\n",
        "\n",
        "# CRF Layer\n",
        "crf = CRF(n_tags_train)\n",
        "\n",
        "out = crf(model)  # output\n",
        "print(\"----------------------\")\n",
        "print(out)\n",
        "print(\"----------------------\")\n",
        "model = Model(input, out)"
      ],
      "execution_count": null,
      "outputs": [
        {
          "output_type": "stream",
          "text": [
            "----------------------\n",
            "Tensor(\"crf_2/cond/Merge:0\", shape=(?, 344, 7), dtype=float32)\n",
            "----------------------\n"
          ],
          "name": "stdout"
        }
      ]
    },
    {
      "cell_type": "code",
      "metadata": {
        "colab": {
          "background_save": true,
          "base_uri": "https://localhost:8080/"
        },
        "id": "sZOZRtVaK9TH",
        "outputId": "85e43a08-fb2b-4325-d7d2-39b3e53c952e"
      },
      "source": [
        "#Optimiser \n",
        "adam = k.optimizers.Adam(learning_rate = 0.0005, beta_1 = 0.9, beta_2 = 0.999)\n",
        "\n",
        "# Compile model\n",
        "model.compile(optimizer = adam, loss = crf.loss_function,sample_weight_mode = None , \n",
        "              metrics = [crf.accuracy, 'accuracy'], target_tensors = None)\n",
        "\n",
        "model.summary()\n",
        "\n",
        "# Saving the best model only\n",
        "file_path = \"TA-{val_accuracy:.2f}.hdf5\"\n",
        "checkpoint = ModelCheckpoint(file_path, period = 1, monitor = 'val_accuracy', verbose = 1, save_best_only = True, \n",
        "                             save_weights_only = False, mode = \"max\")     #max --> auto\n",
        "callbacks_list = [checkpoint]"
      ],
      "execution_count": null,
      "outputs": [
        {
          "output_type": "stream",
          "text": [
            "Model: \"model_2\"\n",
            "_________________________________________________________________\n",
            "Layer (type)                 Output Shape              Param #   \n",
            "=================================================================\n",
            "input_2 (InputLayer)         (None, 344)               0         \n",
            "_________________________________________________________________\n",
            "embedding_2 (Embedding)      (None, 344, 210)          13119750  \n",
            "_________________________________________________________________\n",
            "bidirectional_2 (Bidirection (None, 344, 420)          707280    \n",
            "_________________________________________________________________\n",
            "lstm_4 (LSTM)                (None, 344, 420)          1412880   \n",
            "_________________________________________________________________\n",
            "time_distributed_2 (TimeDist (None, 344, 7)            2947      \n",
            "_________________________________________________________________\n",
            "crf_2 (CRF)                  (None, 344, 7)            119       \n",
            "=================================================================\n",
            "Total params: 15,242,976\n",
            "Trainable params: 15,242,976\n",
            "Non-trainable params: 0\n",
            "_________________________________________________________________\n"
          ],
          "name": "stdout"
        }
      ]
    },
    {
      "cell_type": "code",
      "metadata": {
        "colab": {
          "background_save": true,
          "base_uri": "https://localhost:8080/"
        },
        "id": "q60emeXeK9VB",
        "outputId": "0613a2fc-1caa-482b-ac14-baa79e678c0e"
      },
      "source": [
        "model_fitting = model.fit(X_train, np.array(Y_train), batch_size = 256, epochs = 4, validation_split = 0.2, verbose = 1, \n",
        "                    callbacks = callbacks_list, shuffle = True, initial_epoch = 0, max_queue_size = 10)"
      ],
      "execution_count": null,
      "outputs": [
        {
          "output_type": "stream",
          "text": [
            "WARNING:tensorflow:From /tensorflow-1.15.2/python3.7/keras/backend/tensorflow_backend.py:422: The name tf.global_variables is deprecated. Please use tf.compat.v1.global_variables instead.\n",
            "\n",
            "Train on 280 samples, validate on 70 samples\n",
            "Epoch 1/4\n",
            "280/280 [==============================] - 41s 147ms/step - loss: 2.1841 - crf_viterbi_accuracy: 0.1574 - accuracy: 0.0481 - val_loss: 1.7585 - val_crf_viterbi_accuracy: 0.2980 - val_accuracy: 0.2980\n",
            "\n",
            "Epoch 00001: val_accuracy improved from -inf to 0.29801, saving model to TA-0.30.hdf5\n",
            "Epoch 2/4\n",
            "280/280 [==============================] - 38s 137ms/step - loss: 1.8524 - crf_viterbi_accuracy: 0.3912 - accuracy: 0.0481 - val_loss: 1.2394 - val_crf_viterbi_accuracy: 0.6595 - val_accuracy: 0.6595\n",
            "\n",
            "Epoch 00002: val_accuracy improved from 0.29801 to 0.65947, saving model to TA-0.66.hdf5\n",
            "Epoch 3/4\n",
            "280/280 [==============================] - 40s 143ms/step - loss: 1.4688 - crf_viterbi_accuracy: 0.5877 - accuracy: 0.0481 - val_loss: 1.0135 - val_crf_viterbi_accuracy: 0.6549 - val_accuracy: 0.6549\n",
            "\n",
            "Epoch 00003: val_accuracy did not improve from 0.65947\n",
            "Epoch 4/4\n",
            "280/280 [==============================] - 39s 140ms/step - loss: 1.2387 - crf_viterbi_accuracy: 0.5837 - accuracy: 0.0481 - val_loss: 0.9747 - val_crf_viterbi_accuracy: 0.6566 - val_accuracy: 0.6566\n",
            "\n",
            "Epoch 00004: val_accuracy did not improve from 0.65947\n"
          ],
          "name": "stdout"
        }
      ]
    },
    {
      "cell_type": "code",
      "metadata": {
        "colab": {
          "background_save": true,
          "base_uri": "https://localhost:8080/",
          "height": 338
        },
        "id": "ncRpAwl9K9XE",
        "outputId": "398fd5be-407d-49bb-d293-cfd848c8a526"
      },
      "source": [
        "plt.style.use('ggplot')\n",
        "\n",
        "def plot_history(history):\n",
        "    accuracy_train = history.history['accuracy']\n",
        "    validation_accuracy_train = history.history['val_accuracy']\n",
        "    loss_train = history.history['loss']\n",
        "    validation_loss_train = history.history['val_loss']\n",
        "    x = range(1, len(accuracy_train) + 1)\n",
        "\n",
        "    plt.figure(figsize = (12, 5))\n",
        "    plt.subplot(1, 2, 1)\n",
        "    plt.plot(x, accuracy_train, 'b', label = 'Training acc')\n",
        "    plt.plot(x, validation_accuracy_train, 'r', label = 'Validation acc')\n",
        "    plt.title('Training and validation accuracy')\n",
        "    plt.legend()\n",
        "    plt.subplot(1, 2, 2)\n",
        "    plt.plot(x, loss_train, 'b', label = 'Training loss')\n",
        "    plt.plot(x, validation_loss_train, 'r', label = 'Validation loss')\n",
        "    plt.title('Training and validation loss')\n",
        "    plt.legend()\n",
        "\n",
        "plot_history(model_fitting)"
      ],
      "execution_count": null,
      "outputs": [
        {
          "output_type": "display_data",
          "data": {
            "image/png": "[encoded data removed]",
            "text/plain": [
              "<Figure size 864x360 with 2 Axes>"
            ]
          },
          "metadata": {
            "tags": []
          }
        }
      ]
    },
    {
      "cell_type": "code",
      "metadata": {
        "colab": {
          "background_save": true
        },
        "id": "gZfY6GmQMuip"
      },
      "source": [
        "test = [j for i in test_docs for j in i]\n",
        "dataset_test = pd.DataFrame(test, columns = [\"Words\", \"Tags\"])"
      ],
      "execution_count": null,
      "outputs": []
    },
    {
      "cell_type": "code",
      "metadata": {
        "colab": {
          "background_save": true
        },
        "id": "JSNKAgPaMula"
      },
      "source": [
        "r = []\n",
        "for i in range(len(test_docs)):\n",
        "    x = len(test_docs[i])\n",
        "    for j in range(x):\n",
        "        r.append(i+1)\n",
        "\n",
        "test_dataset[\"Sentence_idx\"] = r"
      ],
      "execution_count": null,
      "outputs": []
    },
    {
      "cell_type": "code",
      "metadata": {
        "colab": {
          "background_save": true
        },
        "id": "i2UFc-6jMvcQ"
      },
      "source": [
        "class make_sentence(object):\n",
        "\n",
        "  def __init__(self, dataset):\n",
        "    self.sent = 1\n",
        "    self.dataset = dataset\n",
        "    self.empty = False\n",
        "    func = lambda s : [(word, tag) for word, tag in zip(s[\"Words\"].values.tolist(),\n",
        "                                                        s[\"Tags\"].values.tolist())]\n",
        "    self.group = self.dataset.groupby(\"Sentence_idx\").apply(func)\n",
        "    self.sentences = [s for s in self.group]\n",
        "\n",
        "  \n",
        "  def get_max(self):\n",
        "    try:\n",
        "      s = self.group[\"Sentence : {}\".format(self.sent)]\n",
        "      self.sent += 1\n",
        "      return s\n",
        "    except :\n",
        "      return None"
      ],
      "execution_count": null,
      "outputs": []
    },
    {
      "cell_type": "code",
      "metadata": {
        "colab": {
          "background_save": true,
          "base_uri": "https://localhost:8080/",
          "height": 197
        },
        "id": "qLLJuI4_NSzJ",
        "outputId": "e2ab374a-1b8e-4f7b-af3c-1deb3a40048b"
      },
      "source": [
        "dataset_test.head()"
      ],
      "execution_count": null,
      "outputs": [
        {
          "output_type": "execute_result",
          "data": {
            "text/html": [
              "<div>\n",
              "<style scoped>\n",
              "    .dataframe tbody tr th:only-of-type {\n",
              "        vertical-align: middle;\n",
              "    }\n",
              "\n",
              "    .dataframe tbody tr th {\n",
              "        vertical-align: top;\n",
              "    }\n",
              "\n",
              "    .dataframe thead th {\n",
              "        text-align: right;\n",
              "    }\n",
              "</style>\n",
              "<table border=\"1\" class=\"dataframe\">\n",
              "  <thead>\n",
              "    <tr style=\"text-align: right;\">\n",
              "      <th></th>\n",
              "      <th>Words</th>\n",
              "      <th>Tags</th>\n",
              "    </tr>\n",
              "  </thead>\n",
              "  <tbody>\n",
              "    <tr>\n",
              "      <th>0</th>\n",
              "      <td>Three-dimensional</td>\n",
              "      <td>B-Process</td>\n",
              "    </tr>\n",
              "    <tr>\n",
              "      <th>1</th>\n",
              "      <td>digital</td>\n",
              "      <td>I-Process</td>\n",
              "    </tr>\n",
              "    <tr>\n",
              "      <th>2</th>\n",
              "      <td>subtraction</td>\n",
              "      <td>I-Process</td>\n",
              "    </tr>\n",
              "    <tr>\n",
              "      <th>3</th>\n",
              "      <td>angiographic</td>\n",
              "      <td>I-Process</td>\n",
              "    </tr>\n",
              "    <tr>\n",
              "      <th>4</th>\n",
              "      <td>(</td>\n",
              "      <td>O</td>\n",
              "    </tr>\n",
              "  </tbody>\n",
              "</table>\n",
              "</div>"
            ],
            "text/plain": [
              "               Words       Tags\n",
              "0  Three-dimensional  B-Process\n",
              "1            digital  I-Process\n",
              "2        subtraction  I-Process\n",
              "3       angiographic  I-Process\n",
              "4                  (          O"
            ]
          },
          "metadata": {
            "tags": []
          },
          "execution_count": 0
        }
      ]
    },
    {
      "cell_type": "code",
      "metadata": {
        "colab": {
          "background_save": true
        },
        "id": "7zv5VwdyNS13"
      },
      "source": [
        "getter = make_sentence(test_dataset)\n",
        "sentences_test = getter.sentences"
      ],
      "execution_count": null,
      "outputs": []
    },
    {
      "cell_type": "code",
      "metadata": {
        "colab": {
          "background_save": true,
          "base_uri": "https://localhost:8080/",
          "height": 406
        },
        "id": "euK-dLLMNS4D",
        "outputId": "7179a974-3972-40fc-dc5b-936daf0a81e4"
      },
      "source": [
        "dataset_test"
      ],
      "execution_count": null,
      "outputs": [
        {
          "output_type": "execute_result",
          "data": {
            "text/html": [
              "<div>\n",
              "<style scoped>\n",
              "    .dataframe tbody tr th:only-of-type {\n",
              "        vertical-align: middle;\n",
              "    }\n",
              "\n",
              "    .dataframe tbody tr th {\n",
              "        vertical-align: top;\n",
              "    }\n",
              "\n",
              "    .dataframe thead th {\n",
              "        text-align: right;\n",
              "    }\n",
              "</style>\n",
              "<table border=\"1\" class=\"dataframe\">\n",
              "  <thead>\n",
              "    <tr style=\"text-align: right;\">\n",
              "      <th></th>\n",
              "      <th>Words</th>\n",
              "      <th>Tags</th>\n",
              "    </tr>\n",
              "  </thead>\n",
              "  <tbody>\n",
              "    <tr>\n",
              "      <th>0</th>\n",
              "      <td>Three-dimensional</td>\n",
              "      <td>B-Process</td>\n",
              "    </tr>\n",
              "    <tr>\n",
              "      <th>1</th>\n",
              "      <td>digital</td>\n",
              "      <td>I-Process</td>\n",
              "    </tr>\n",
              "    <tr>\n",
              "      <th>2</th>\n",
              "      <td>subtraction</td>\n",
              "      <td>I-Process</td>\n",
              "    </tr>\n",
              "    <tr>\n",
              "      <th>3</th>\n",
              "      <td>angiographic</td>\n",
              "      <td>I-Process</td>\n",
              "    </tr>\n",
              "    <tr>\n",
              "      <th>4</th>\n",
              "      <td>(</td>\n",
              "      <td>O</td>\n",
              "    </tr>\n",
              "    <tr>\n",
              "      <th>...</th>\n",
              "      <td>...</td>\n",
              "      <td>...</td>\n",
              "    </tr>\n",
              "    <tr>\n",
              "      <th>21128</th>\n",
              "      <td>magnetic</td>\n",
              "      <td>O</td>\n",
              "    </tr>\n",
              "    <tr>\n",
              "      <th>21129</th>\n",
              "      <td>moment</td>\n",
              "      <td>O</td>\n",
              "    </tr>\n",
              "    <tr>\n",
              "      <th>21130</th>\n",
              "      <td>of</td>\n",
              "      <td>O</td>\n",
              "    </tr>\n",
              "    <tr>\n",
              "      <th>21131</th>\n",
              "      <td>5×10−11μB</td>\n",
              "      <td>O</td>\n",
              "    </tr>\n",
              "    <tr>\n",
              "      <th>21132</th>\n",
              "      <td>.</td>\n",
              "      <td>O</td>\n",
              "    </tr>\n",
              "  </tbody>\n",
              "</table>\n",
              "<p>21133 rows × 2 columns</p>\n",
              "</div>"
            ],
            "text/plain": [
              "                   Words       Tags\n",
              "0      Three-dimensional  B-Process\n",
              "1                digital  I-Process\n",
              "2            subtraction  I-Process\n",
              "3           angiographic  I-Process\n",
              "4                      (          O\n",
              "...                  ...        ...\n",
              "21128           magnetic          O\n",
              "21129             moment          O\n",
              "21130                 of          O\n",
              "21131          5×10−11μB          O\n",
              "21132                  .          O\n",
              "\n",
              "[21133 rows x 2 columns]"
            ]
          },
          "metadata": {
            "tags": []
          },
          "execution_count": 0
        }
      ]
    },
    {
      "cell_type": "code",
      "metadata": {
        "colab": {
          "background_save": true,
          "base_uri": "https://localhost:8080/"
        },
        "id": "5FwsddndNS6E",
        "outputId": "d3242e91-a26f-4e43-9d17-d4800a16bc34"
      },
      "source": [
        "from itertools import chain\n",
        "count_tags = {}\n",
        "def get_dict_map(data, token_or_tag):\n",
        "    tok2idx = {}\n",
        "    idx2tok = {}\n",
        "    \n",
        "    if token_or_tag == 'token':\n",
        "        vocab = list(set(train_dataset['Words'].to_list()))\n",
        "    else:\n",
        "        vocab = list(set(train_dataset['Tags'].to_list()))\n",
        "        for i in vocab:\n",
        "            if i not in count_tags:\n",
        "                count_tags[i]=0\n",
        "        for i in train_dataset['Tags'].to_list():\n",
        "            count_tags[i] += 1\n",
        "            \n",
        "    for i in count_tags:\n",
        "        print(i, count_tags[i])\n",
        "    idx2tok = {idx:tok for  idx, tok in enumerate(vocab)}\n",
        "    tok2idx = {tok:idx for  idx, tok in enumerate(vocab)}\n",
        "        \n",
        "    return tok2idx, idx2tok\n",
        "\n",
        "\n",
        "token2idx, idx2token = get_dict_map(dataset_test, 'token')\n",
        "tag2idx, idx2tag = get_dict_map(dataset_test, 'tag')"
      ],
      "execution_count": null,
      "outputs": [
        {
          "output_type": "stream",
          "text": [
            "B-Process 1849\n",
            "I-Process 2309\n",
            "I-Task 1831\n",
            "I-Material 1363\n",
            "B-Material 1409\n",
            "B-Task 772\n",
            "O 6115\n"
          ],
          "name": "stdout"
        }
      ]
    },
    {
      "cell_type": "code",
      "metadata": {
        "colab": {
          "background_save": true,
          "base_uri": "https://localhost:8080/",
          "height": 197
        },
        "id": "yvrKgxWLOalo",
        "outputId": "b12a1160-4960-4ed7-b7b5-8d66956f45ac"
      },
      "source": [
        "dataset_test.head()"
      ],
      "execution_count": null,
      "outputs": [
        {
          "output_type": "execute_result",
          "data": {
            "text/html": [
              "<div>\n",
              "<style scoped>\n",
              "    .dataframe tbody tr th:only-of-type {\n",
              "        vertical-align: middle;\n",
              "    }\n",
              "\n",
              "    .dataframe tbody tr th {\n",
              "        vertical-align: top;\n",
              "    }\n",
              "\n",
              "    .dataframe thead th {\n",
              "        text-align: right;\n",
              "    }\n",
              "</style>\n",
              "<table border=\"1\" class=\"dataframe\">\n",
              "  <thead>\n",
              "    <tr style=\"text-align: right;\">\n",
              "      <th></th>\n",
              "      <th>Words</th>\n",
              "      <th>Tags</th>\n",
              "    </tr>\n",
              "  </thead>\n",
              "  <tbody>\n",
              "    <tr>\n",
              "      <th>0</th>\n",
              "      <td>Three-dimensional</td>\n",
              "      <td>B-Process</td>\n",
              "    </tr>\n",
              "    <tr>\n",
              "      <th>1</th>\n",
              "      <td>digital</td>\n",
              "      <td>I-Process</td>\n",
              "    </tr>\n",
              "    <tr>\n",
              "      <th>2</th>\n",
              "      <td>subtraction</td>\n",
              "      <td>I-Process</td>\n",
              "    </tr>\n",
              "    <tr>\n",
              "      <th>3</th>\n",
              "      <td>angiographic</td>\n",
              "      <td>I-Process</td>\n",
              "    </tr>\n",
              "    <tr>\n",
              "      <th>4</th>\n",
              "      <td>(</td>\n",
              "      <td>O</td>\n",
              "    </tr>\n",
              "  </tbody>\n",
              "</table>\n",
              "</div>"
            ],
            "text/plain": [
              "               Words       Tags\n",
              "0  Three-dimensional  B-Process\n",
              "1            digital  I-Process\n",
              "2        subtraction  I-Process\n",
              "3       angiographic  I-Process\n",
              "4                  (          O"
            ]
          },
          "metadata": {
            "tags": []
          },
          "execution_count": 0
        }
      ]
    },
    {
      "cell_type": "code",
      "metadata": {
        "colab": {
          "background_save": true,
          "base_uri": "https://localhost:8080/",
          "height": 197
        },
        "id": "TcNJmJarOaoC",
        "outputId": "efeadac5-f8d4-46e6-9574-4a22c39d5b1c"
      },
      "source": [
        "dataset_test['Word_idx'] = dataset_test['Words'].map(w_to_i)\n",
        "dataset_test['Tag_idx'] = dataset_test['Tags'].map(tag2idx)\n",
        "dataset_test.head()"
      ],
      "execution_count": null,
      "outputs": [
        {
          "output_type": "execute_result",
          "data": {
            "text/html": [
              "<div>\n",
              "<style scoped>\n",
              "    .dataframe tbody tr th:only-of-type {\n",
              "        vertical-align: middle;\n",
              "    }\n",
              "\n",
              "    .dataframe tbody tr th {\n",
              "        vertical-align: top;\n",
              "    }\n",
              "\n",
              "    .dataframe thead th {\n",
              "        text-align: right;\n",
              "    }\n",
              "</style>\n",
              "<table border=\"1\" class=\"dataframe\">\n",
              "  <thead>\n",
              "    <tr style=\"text-align: right;\">\n",
              "      <th></th>\n",
              "      <th>Words</th>\n",
              "      <th>Tags</th>\n",
              "      <th>Word_idx</th>\n",
              "      <th>Tag_idx</th>\n",
              "    </tr>\n",
              "  </thead>\n",
              "  <tbody>\n",
              "    <tr>\n",
              "      <th>0</th>\n",
              "      <td>Three-dimensional</td>\n",
              "      <td>B-Process</td>\n",
              "      <td>NaN</td>\n",
              "      <td>0</td>\n",
              "    </tr>\n",
              "    <tr>\n",
              "      <th>1</th>\n",
              "      <td>digital</td>\n",
              "      <td>I-Process</td>\n",
              "      <td>123911.0</td>\n",
              "      <td>1</td>\n",
              "    </tr>\n",
              "    <tr>\n",
              "      <th>2</th>\n",
              "      <td>subtraction</td>\n",
              "      <td>I-Process</td>\n",
              "      <td>346248.0</td>\n",
              "      <td>1</td>\n",
              "    </tr>\n",
              "    <tr>\n",
              "      <th>3</th>\n",
              "      <td>angiographic</td>\n",
              "      <td>I-Process</td>\n",
              "      <td>55258.0</td>\n",
              "      <td>1</td>\n",
              "    </tr>\n",
              "    <tr>\n",
              "      <th>4</th>\n",
              "      <td>(</td>\n",
              "      <td>O</td>\n",
              "      <td>158.0</td>\n",
              "      <td>6</td>\n",
              "    </tr>\n",
              "  </tbody>\n",
              "</table>\n",
              "</div>"
            ],
            "text/plain": [
              "               Words       Tags  Word_idx  Tag_idx\n",
              "0  Three-dimensional  B-Process       NaN        0\n",
              "1            digital  I-Process  123911.0        1\n",
              "2        subtraction  I-Process  346248.0        1\n",
              "3       angiographic  I-Process   55258.0        1\n",
              "4                  (          O     158.0        6"
            ]
          },
          "metadata": {
            "tags": []
          },
          "execution_count": 0
        }
      ]
    },
    {
      "cell_type": "code",
      "metadata": {
        "colab": {
          "background_save": true
        },
        "id": "W8MKX2uwOaqs"
      },
      "source": [
        "words_test = list(set(dataset_test[\"Words\"].values))\n",
        "words_test = list(dataset_test[\"Words\"].values)\n",
        "n_words_test = len(words_test)\n",
        "\n",
        "tags_test = []\n",
        "for tag_test in set(dataset_test[\"Tags\"].values):\n",
        "  if tag_test is nan or isinstance(tag_test, float):\n",
        "    tags_test.append(\"Unknown\")\n",
        "  else:\n",
        "    tags_test.append(tag_test)\n",
        "\n",
        "n_tags_test  = len(tags_test)"
      ],
      "execution_count": null,
      "outputs": []
    },
    {
      "cell_type": "code",
      "metadata": {
        "colab": {
          "background_save": true,
          "base_uri": "https://localhost:8080/",
          "height": 406
        },
        "id": "WjePeAcZOas7",
        "outputId": "f7b3db9f-e0e5-45c2-85f0-4c6c86becc0a"
      },
      "source": [
        "dataset_test"
      ],
      "execution_count": null,
      "outputs": [
        {
          "output_type": "execute_result",
          "data": {
            "text/html": [
              "<div>\n",
              "<style scoped>\n",
              "    .dataframe tbody tr th:only-of-type {\n",
              "        vertical-align: middle;\n",
              "    }\n",
              "\n",
              "    .dataframe tbody tr th {\n",
              "        vertical-align: top;\n",
              "    }\n",
              "\n",
              "    .dataframe thead th {\n",
              "        text-align: right;\n",
              "    }\n",
              "</style>\n",
              "<table border=\"1\" class=\"dataframe\">\n",
              "  <thead>\n",
              "    <tr style=\"text-align: right;\">\n",
              "      <th></th>\n",
              "      <th>Words</th>\n",
              "      <th>Tags</th>\n",
              "      <th>Word_idx</th>\n",
              "      <th>Tag_idx</th>\n",
              "    </tr>\n",
              "  </thead>\n",
              "  <tbody>\n",
              "    <tr>\n",
              "      <th>0</th>\n",
              "      <td>Three-dimensional</td>\n",
              "      <td>B-Process</td>\n",
              "      <td>NaN</td>\n",
              "      <td>0</td>\n",
              "    </tr>\n",
              "    <tr>\n",
              "      <th>1</th>\n",
              "      <td>digital</td>\n",
              "      <td>I-Process</td>\n",
              "      <td>123911.0</td>\n",
              "      <td>1</td>\n",
              "    </tr>\n",
              "    <tr>\n",
              "      <th>2</th>\n",
              "      <td>subtraction</td>\n",
              "      <td>I-Process</td>\n",
              "      <td>346248.0</td>\n",
              "      <td>1</td>\n",
              "    </tr>\n",
              "    <tr>\n",
              "      <th>3</th>\n",
              "      <td>angiographic</td>\n",
              "      <td>I-Process</td>\n",
              "      <td>55258.0</td>\n",
              "      <td>1</td>\n",
              "    </tr>\n",
              "    <tr>\n",
              "      <th>4</th>\n",
              "      <td>(</td>\n",
              "      <td>O</td>\n",
              "      <td>158.0</td>\n",
              "      <td>6</td>\n",
              "    </tr>\n",
              "    <tr>\n",
              "      <th>...</th>\n",
              "      <td>...</td>\n",
              "      <td>...</td>\n",
              "      <td>...</td>\n",
              "      <td>...</td>\n",
              "    </tr>\n",
              "    <tr>\n",
              "      <th>21128</th>\n",
              "      <td>magnetic</td>\n",
              "      <td>O</td>\n",
              "      <td>230423.0</td>\n",
              "      <td>6</td>\n",
              "    </tr>\n",
              "    <tr>\n",
              "      <th>21129</th>\n",
              "      <td>moment</td>\n",
              "      <td>O</td>\n",
              "      <td>248238.0</td>\n",
              "      <td>6</td>\n",
              "    </tr>\n",
              "    <tr>\n",
              "      <th>21130</th>\n",
              "      <td>of</td>\n",
              "      <td>O</td>\n",
              "      <td>268046.0</td>\n",
              "      <td>6</td>\n",
              "    </tr>\n",
              "    <tr>\n",
              "      <th>21131</th>\n",
              "      <td>5×10−11μB</td>\n",
              "      <td>O</td>\n",
              "      <td>NaN</td>\n",
              "      <td>6</td>\n",
              "    </tr>\n",
              "    <tr>\n",
              "      <th>21132</th>\n",
              "      <td>.</td>\n",
              "      <td>O</td>\n",
              "      <td>867.0</td>\n",
              "      <td>6</td>\n",
              "    </tr>\n",
              "  </tbody>\n",
              "</table>\n",
              "<p>21133 rows × 4 columns</p>\n",
              "</div>"
            ],
            "text/plain": [
              "                   Words       Tags  Word_idx  Tag_idx\n",
              "0      Three-dimensional  B-Process       NaN        0\n",
              "1                digital  I-Process  123911.0        1\n",
              "2            subtraction  I-Process  346248.0        1\n",
              "3           angiographic  I-Process   55258.0        1\n",
              "4                      (          O     158.0        6\n",
              "...                  ...        ...       ...      ...\n",
              "21128           magnetic          O  230423.0        6\n",
              "21129             moment          O  248238.0        6\n",
              "21130                 of          O  268046.0        6\n",
              "21131          5×10−11μB          O       NaN        6\n",
              "21132                  .          O     867.0        6\n",
              "\n",
              "[21133 rows x 4 columns]"
            ]
          },
          "metadata": {
            "tags": []
          },
          "execution_count": 0
        }
      ]
    },
    {
      "cell_type": "code",
      "metadata": {
        "colab": {
          "background_save": true,
          "base_uri": "https://localhost:8080/",
          "height": 406
        },
        "id": "D0uKQfRPR-jx",
        "outputId": "5304f42f-46a9-4676-a606-403597616c3c"
      },
      "source": [
        "train_dataset"
      ],
      "execution_count": null,
      "outputs": [
        {
          "output_type": "execute_result",
          "data": {
            "text/html": [
              "<div>\n",
              "<style scoped>\n",
              "    .dataframe tbody tr th:only-of-type {\n",
              "        vertical-align: middle;\n",
              "    }\n",
              "\n",
              "    .dataframe tbody tr th {\n",
              "        vertical-align: top;\n",
              "    }\n",
              "\n",
              "    .dataframe thead th {\n",
              "        text-align: right;\n",
              "    }\n",
              "</style>\n",
              "<table border=\"1\" class=\"dataframe\">\n",
              "  <thead>\n",
              "    <tr style=\"text-align: right;\">\n",
              "      <th></th>\n",
              "      <th>Words</th>\n",
              "      <th>Tags</th>\n",
              "      <th>Word_idx</th>\n",
              "      <th>Tag_idx</th>\n",
              "      <th>Sentence_idx</th>\n",
              "    </tr>\n",
              "  </thead>\n",
              "  <tbody>\n",
              "    <tr>\n",
              "      <th>0</th>\n",
              "      <td>Nuclear</td>\n",
              "      <td>B-Task</td>\n",
              "      <td>NaN</td>\n",
              "      <td>5</td>\n",
              "      <td>1</td>\n",
              "    </tr>\n",
              "    <tr>\n",
              "      <th>1</th>\n",
              "      <td>theory</td>\n",
              "      <td>I-Task</td>\n",
              "      <td>357607.0</td>\n",
              "      <td>2</td>\n",
              "      <td>1</td>\n",
              "    </tr>\n",
              "    <tr>\n",
              "      <th>2</th>\n",
              "      <td>devoted</td>\n",
              "      <td>O</td>\n",
              "      <td>122590.0</td>\n",
              "      <td>6</td>\n",
              "      <td>1</td>\n",
              "    </tr>\n",
              "    <tr>\n",
              "      <th>3</th>\n",
              "      <td>major</td>\n",
              "      <td>O</td>\n",
              "      <td>231345.0</td>\n",
              "      <td>6</td>\n",
              "      <td>1</td>\n",
              "    </tr>\n",
              "    <tr>\n",
              "      <th>4</th>\n",
              "      <td>efforts</td>\n",
              "      <td>O</td>\n",
              "      <td>133951.0</td>\n",
              "      <td>6</td>\n",
              "      <td>1</td>\n",
              "    </tr>\n",
              "    <tr>\n",
              "      <th>...</th>\n",
              "      <td>...</td>\n",
              "      <td>...</td>\n",
              "      <td>...</td>\n",
              "      <td>...</td>\n",
              "      <td>...</td>\n",
              "    </tr>\n",
              "    <tr>\n",
              "      <th>62424</th>\n",
              "      <td>derivatives.</td>\n",
              "      <td>I-Process</td>\n",
              "      <td>NaN</td>\n",
              "      <td>1</td>\n",
              "      <td>350</td>\n",
              "    </tr>\n",
              "    <tr>\n",
              "      <th>62449</th>\n",
              "      <td>one-</td>\n",
              "      <td>B-Process</td>\n",
              "      <td>NaN</td>\n",
              "      <td>0</td>\n",
              "      <td>350</td>\n",
              "    </tr>\n",
              "    <tr>\n",
              "      <th>62451</th>\n",
              "      <td>two-dimension</td>\n",
              "      <td>I-Process</td>\n",
              "      <td>NaN</td>\n",
              "      <td>1</td>\n",
              "      <td>350</td>\n",
              "    </tr>\n",
              "    <tr>\n",
              "      <th>62459</th>\n",
              "      <td>empirical</td>\n",
              "      <td>B-Material</td>\n",
              "      <td>136598.0</td>\n",
              "      <td>4</td>\n",
              "      <td>350</td>\n",
              "    </tr>\n",
              "    <tr>\n",
              "      <th>62461</th>\n",
              "      <td>rates</td>\n",
              "      <td>I-Material</td>\n",
              "      <td>300978.0</td>\n",
              "      <td>3</td>\n",
              "      <td>350</td>\n",
              "    </tr>\n",
              "  </tbody>\n",
              "</table>\n",
              "<p>15648 rows × 5 columns</p>\n",
              "</div>"
            ],
            "text/plain": [
              "               Words        Tags  Word_idx  Tag_idx  Sentence_idx\n",
              "0            Nuclear      B-Task       NaN        5             1\n",
              "1             theory      I-Task  357607.0        2             1\n",
              "2            devoted           O  122590.0        6             1\n",
              "3              major           O  231345.0        6             1\n",
              "4            efforts           O  133951.0        6             1\n",
              "...              ...         ...       ...      ...           ...\n",
              "62424   derivatives.   I-Process       NaN        1           350\n",
              "62449           one-   B-Process       NaN        0           350\n",
              "62451  two-dimension   I-Process       NaN        1           350\n",
              "62459      empirical  B-Material  136598.0        4           350\n",
              "62461          rates  I-Material  300978.0        3           350\n",
              "\n",
              "[15648 rows x 5 columns]"
            ]
          },
          "metadata": {
            "tags": []
          },
          "execution_count": 0
        }
      ]
    },
    {
      "cell_type": "code",
      "metadata": {
        "colab": {
          "background_save": true
        },
        "id": "wWfGAanGNS8S"
      },
      "source": [
        "r = []\n",
        "for i in range(len(test_docs)):\n",
        "    x = len(test_docs[i])\n",
        "    for j in range(x):\n",
        "        r.append(i+1)\n",
        "\n",
        "dataset_test[\"Sentence_idx\"] = r"
      ],
      "execution_count": null,
      "outputs": []
    },
    {
      "cell_type": "code",
      "metadata": {
        "colab": {
          "background_save": true,
          "base_uri": "https://localhost:8080/",
          "height": 406
        },
        "id": "Ry72wECtPe5a",
        "outputId": "a083db64-7cc5-44d0-9204-3c79d255fa8a"
      },
      "source": [
        "train_dataset"
      ],
      "execution_count": null,
      "outputs": [
        {
          "output_type": "execute_result",
          "data": {
            "text/html": [
              "<div>\n",
              "<style scoped>\n",
              "    .dataframe tbody tr th:only-of-type {\n",
              "        vertical-align: middle;\n",
              "    }\n",
              "\n",
              "    .dataframe tbody tr th {\n",
              "        vertical-align: top;\n",
              "    }\n",
              "\n",
              "    .dataframe thead th {\n",
              "        text-align: right;\n",
              "    }\n",
              "</style>\n",
              "<table border=\"1\" class=\"dataframe\">\n",
              "  <thead>\n",
              "    <tr style=\"text-align: right;\">\n",
              "      <th></th>\n",
              "      <th>Words</th>\n",
              "      <th>Tags</th>\n",
              "      <th>Word_idx</th>\n",
              "      <th>Tag_idx</th>\n",
              "      <th>Sentence_idx</th>\n",
              "    </tr>\n",
              "  </thead>\n",
              "  <tbody>\n",
              "    <tr>\n",
              "      <th>0</th>\n",
              "      <td>Nuclear</td>\n",
              "      <td>B-Task</td>\n",
              "      <td>NaN</td>\n",
              "      <td>5</td>\n",
              "      <td>1</td>\n",
              "    </tr>\n",
              "    <tr>\n",
              "      <th>1</th>\n",
              "      <td>theory</td>\n",
              "      <td>I-Task</td>\n",
              "      <td>357607.0</td>\n",
              "      <td>2</td>\n",
              "      <td>1</td>\n",
              "    </tr>\n",
              "    <tr>\n",
              "      <th>2</th>\n",
              "      <td>devoted</td>\n",
              "      <td>O</td>\n",
              "      <td>122590.0</td>\n",
              "      <td>6</td>\n",
              "      <td>1</td>\n",
              "    </tr>\n",
              "    <tr>\n",
              "      <th>3</th>\n",
              "      <td>major</td>\n",
              "      <td>O</td>\n",
              "      <td>231345.0</td>\n",
              "      <td>6</td>\n",
              "      <td>1</td>\n",
              "    </tr>\n",
              "    <tr>\n",
              "      <th>4</th>\n",
              "      <td>efforts</td>\n",
              "      <td>O</td>\n",
              "      <td>133951.0</td>\n",
              "      <td>6</td>\n",
              "      <td>1</td>\n",
              "    </tr>\n",
              "    <tr>\n",
              "      <th>...</th>\n",
              "      <td>...</td>\n",
              "      <td>...</td>\n",
              "      <td>...</td>\n",
              "      <td>...</td>\n",
              "      <td>...</td>\n",
              "    </tr>\n",
              "    <tr>\n",
              "      <th>62424</th>\n",
              "      <td>derivatives.</td>\n",
              "      <td>I-Process</td>\n",
              "      <td>NaN</td>\n",
              "      <td>1</td>\n",
              "      <td>350</td>\n",
              "    </tr>\n",
              "    <tr>\n",
              "      <th>62449</th>\n",
              "      <td>one-</td>\n",
              "      <td>B-Process</td>\n",
              "      <td>NaN</td>\n",
              "      <td>0</td>\n",
              "      <td>350</td>\n",
              "    </tr>\n",
              "    <tr>\n",
              "      <th>62451</th>\n",
              "      <td>two-dimension</td>\n",
              "      <td>I-Process</td>\n",
              "      <td>NaN</td>\n",
              "      <td>1</td>\n",
              "      <td>350</td>\n",
              "    </tr>\n",
              "    <tr>\n",
              "      <th>62459</th>\n",
              "      <td>empirical</td>\n",
              "      <td>B-Material</td>\n",
              "      <td>136598.0</td>\n",
              "      <td>4</td>\n",
              "      <td>350</td>\n",
              "    </tr>\n",
              "    <tr>\n",
              "      <th>62461</th>\n",
              "      <td>rates</td>\n",
              "      <td>I-Material</td>\n",
              "      <td>300978.0</td>\n",
              "      <td>3</td>\n",
              "      <td>350</td>\n",
              "    </tr>\n",
              "  </tbody>\n",
              "</table>\n",
              "<p>15648 rows × 5 columns</p>\n",
              "</div>"
            ],
            "text/plain": [
              "               Words        Tags  Word_idx  Tag_idx  Sentence_idx\n",
              "0            Nuclear      B-Task       NaN        5             1\n",
              "1             theory      I-Task  357607.0        2             1\n",
              "2            devoted           O  122590.0        6             1\n",
              "3              major           O  231345.0        6             1\n",
              "4            efforts           O  133951.0        6             1\n",
              "...              ...         ...       ...      ...           ...\n",
              "62424   derivatives.   I-Process       NaN        1           350\n",
              "62449           one-   B-Process       NaN        0           350\n",
              "62451  two-dimension   I-Process       NaN        1           350\n",
              "62459      empirical  B-Material  136598.0        4           350\n",
              "62461          rates  I-Material  300978.0        3           350\n",
              "\n",
              "[15648 rows x 5 columns]"
            ]
          },
          "metadata": {
            "tags": []
          },
          "execution_count": 0
        }
      ]
    },
    {
      "cell_type": "code",
      "metadata": {
        "colab": {
          "background_save": true,
          "base_uri": "https://localhost:8080/",
          "height": 406
        },
        "id": "I_Ar8SqZPffY",
        "outputId": "95867440-3f33-44c6-bc84-52921c447cce"
      },
      "source": [
        "dataset_test"
      ],
      "execution_count": null,
      "outputs": [
        {
          "output_type": "execute_result",
          "data": {
            "text/html": [
              "<div>\n",
              "<style scoped>\n",
              "    .dataframe tbody tr th:only-of-type {\n",
              "        vertical-align: middle;\n",
              "    }\n",
              "\n",
              "    .dataframe tbody tr th {\n",
              "        vertical-align: top;\n",
              "    }\n",
              "\n",
              "    .dataframe thead th {\n",
              "        text-align: right;\n",
              "    }\n",
              "</style>\n",
              "<table border=\"1\" class=\"dataframe\">\n",
              "  <thead>\n",
              "    <tr style=\"text-align: right;\">\n",
              "      <th></th>\n",
              "      <th>Words</th>\n",
              "      <th>Tags</th>\n",
              "      <th>Word_idx</th>\n",
              "      <th>Tag_idx</th>\n",
              "      <th>Sentence_idx</th>\n",
              "    </tr>\n",
              "  </thead>\n",
              "  <tbody>\n",
              "    <tr>\n",
              "      <th>0</th>\n",
              "      <td>Three-dimensional</td>\n",
              "      <td>B-Process</td>\n",
              "      <td>NaN</td>\n",
              "      <td>0</td>\n",
              "      <td>1</td>\n",
              "    </tr>\n",
              "    <tr>\n",
              "      <th>1</th>\n",
              "      <td>digital</td>\n",
              "      <td>I-Process</td>\n",
              "      <td>123911.0</td>\n",
              "      <td>1</td>\n",
              "      <td>1</td>\n",
              "    </tr>\n",
              "    <tr>\n",
              "      <th>2</th>\n",
              "      <td>subtraction</td>\n",
              "      <td>I-Process</td>\n",
              "      <td>346248.0</td>\n",
              "      <td>1</td>\n",
              "      <td>1</td>\n",
              "    </tr>\n",
              "    <tr>\n",
              "      <th>3</th>\n",
              "      <td>angiographic</td>\n",
              "      <td>I-Process</td>\n",
              "      <td>55258.0</td>\n",
              "      <td>1</td>\n",
              "      <td>1</td>\n",
              "    </tr>\n",
              "    <tr>\n",
              "      <th>4</th>\n",
              "      <td>(</td>\n",
              "      <td>O</td>\n",
              "      <td>158.0</td>\n",
              "      <td>6</td>\n",
              "      <td>1</td>\n",
              "    </tr>\n",
              "    <tr>\n",
              "      <th>...</th>\n",
              "      <td>...</td>\n",
              "      <td>...</td>\n",
              "      <td>...</td>\n",
              "      <td>...</td>\n",
              "      <td>...</td>\n",
              "    </tr>\n",
              "    <tr>\n",
              "      <th>21128</th>\n",
              "      <td>magnetic</td>\n",
              "      <td>O</td>\n",
              "      <td>230423.0</td>\n",
              "      <td>6</td>\n",
              "      <td>100</td>\n",
              "    </tr>\n",
              "    <tr>\n",
              "      <th>21129</th>\n",
              "      <td>moment</td>\n",
              "      <td>O</td>\n",
              "      <td>248238.0</td>\n",
              "      <td>6</td>\n",
              "      <td>100</td>\n",
              "    </tr>\n",
              "    <tr>\n",
              "      <th>21130</th>\n",
              "      <td>of</td>\n",
              "      <td>O</td>\n",
              "      <td>268046.0</td>\n",
              "      <td>6</td>\n",
              "      <td>100</td>\n",
              "    </tr>\n",
              "    <tr>\n",
              "      <th>21131</th>\n",
              "      <td>5×10−11μB</td>\n",
              "      <td>O</td>\n",
              "      <td>NaN</td>\n",
              "      <td>6</td>\n",
              "      <td>100</td>\n",
              "    </tr>\n",
              "    <tr>\n",
              "      <th>21132</th>\n",
              "      <td>.</td>\n",
              "      <td>O</td>\n",
              "      <td>867.0</td>\n",
              "      <td>6</td>\n",
              "      <td>100</td>\n",
              "    </tr>\n",
              "  </tbody>\n",
              "</table>\n",
              "<p>21133 rows × 5 columns</p>\n",
              "</div>"
            ],
            "text/plain": [
              "                   Words       Tags  Word_idx  Tag_idx  Sentence_idx\n",
              "0      Three-dimensional  B-Process       NaN        0             1\n",
              "1                digital  I-Process  123911.0        1             1\n",
              "2            subtraction  I-Process  346248.0        1             1\n",
              "3           angiographic  I-Process   55258.0        1             1\n",
              "4                      (          O     158.0        6             1\n",
              "...                  ...        ...       ...      ...           ...\n",
              "21128           magnetic          O  230423.0        6           100\n",
              "21129             moment          O  248238.0        6           100\n",
              "21130                 of          O  268046.0        6           100\n",
              "21131          5×10−11μB          O       NaN        6           100\n",
              "21132                  .          O     867.0        6           100\n",
              "\n",
              "[21133 rows x 5 columns]"
            ]
          },
          "metadata": {
            "tags": []
          },
          "execution_count": 0
        }
      ]
    },
    {
      "cell_type": "code",
      "metadata": {
        "colab": {
          "background_save": true
        },
        "id": "EjY4M7dmRDqS"
      },
      "source": [
        "word2idx_test = {w: i for i, w in enumerate(words_test)}\n",
        "\n",
        "tag2idx_test = tag2idx_train\n",
        "\n",
        "#tag2idx_test = {t: i for i, t in enumerate(tags_test)}\n",
        "idx2tag_test = {v: k for k, v in iteritems(tag2idx_test)}\n"
      ],
      "execution_count": null,
      "outputs": []
    },
    {
      "cell_type": "code",
      "metadata": {
        "colab": {
          "background_save": true
        },
        "id": "najkmd4XSZCY"
      },
      "source": [
        "maxlen_test = 344\n",
        "\n",
        "X_test = [[word2idx_test[w[0]] for w in s] for s in sentences_test]\n",
        "X_test = pad_sequences(maxlen = maxlen_test, sequences = X_test, padding = \"post\",value = n_words_test - 1)\n",
        "\n",
        "Y_test = [[tag2idx_test[w[1]] for w in s] for s in sentences_test]\n",
        "Y_test = pad_sequences(maxlen = maxlen_test, sequences = Y_test, padding = \"post\", value = 6)\n",
        "Y_test = [to_categorical(i, num_classes = n_tags_test) for i in Y_test]"
      ],
      "execution_count": null,
      "outputs": []
    },
    {
      "cell_type": "code",
      "metadata": {
        "colab": {
          "background_save": true,
          "base_uri": "https://localhost:8080/"
        },
        "id": "bq_ilwwuPfh6",
        "outputId": "5399b27e-3398-4566-c642-e83cce8416de"
      },
      "source": [
        "def prediction(pred):\n",
        "  output = []\n",
        "  for i in pred:\n",
        "    output_i = []\n",
        "    for p in i:\n",
        "      i = np.argmax(p)\n",
        "      output_i.append(idx2tag_test[i])\n",
        "    output.append(output_i)\n",
        "  return output\n",
        "\n",
        "pred_test = model.predict(X_test, verbose = 1)\n",
        "labels_pred = prediction(pred_test)\n",
        "labels_test = prediction(Y_test)"
      ],
      "execution_count": null,
      "outputs": [
        {
          "output_type": "stream",
          "text": [
            "100/100 [==============================] - 5s 54ms/step\n"
          ],
          "name": "stdout"
        }
      ]
    },
    {
      "cell_type": "code",
      "metadata": {
        "colab": {
          "background_save": true,
          "base_uri": "https://localhost:8080/"
        },
        "id": "IuWPCW59PfkX",
        "outputId": "6d5a2f39-a37a-4114-97c3-a7abdd688c2e"
      },
      "source": [
        "print(\"F1-score: {:.1}\".format(f1_score(labels_test, labels_pred)))"
      ],
      "execution_count": null,
      "outputs": [
        {
          "output_type": "stream",
          "text": [
            "F1-score: 0.2\n"
          ],
          "name": "stdout"
        }
      ]
    },
    {
      "cell_type": "code",
      "metadata": {
        "colab": {
          "background_save": true,
          "base_uri": "https://localhost:8080/",
          "height": 406
        },
        "id": "M2Y3JJ2QPfnK",
        "outputId": "04a6cfbc-208e-462f-db8a-d327e66413a5"
      },
      "source": [
        "train_dataset"
      ],
      "execution_count": null,
      "outputs": [
        {
          "output_type": "execute_result",
          "data": {
            "text/html": [
              "<div>\n",
              "<style scoped>\n",
              "    .dataframe tbody tr th:only-of-type {\n",
              "        vertical-align: middle;\n",
              "    }\n",
              "\n",
              "    .dataframe tbody tr th {\n",
              "        vertical-align: top;\n",
              "    }\n",
              "\n",
              "    .dataframe thead th {\n",
              "        text-align: right;\n",
              "    }\n",
              "</style>\n",
              "<table border=\"1\" class=\"dataframe\">\n",
              "  <thead>\n",
              "    <tr style=\"text-align: right;\">\n",
              "      <th></th>\n",
              "      <th>Words</th>\n",
              "      <th>Tags</th>\n",
              "      <th>Word_idx</th>\n",
              "      <th>Tag_idx</th>\n",
              "      <th>Sentence_idx</th>\n",
              "    </tr>\n",
              "  </thead>\n",
              "  <tbody>\n",
              "    <tr>\n",
              "      <th>0</th>\n",
              "      <td>Nuclear</td>\n",
              "      <td>B-Task</td>\n",
              "      <td>NaN</td>\n",
              "      <td>5</td>\n",
              "      <td>1</td>\n",
              "    </tr>\n",
              "    <tr>\n",
              "      <th>1</th>\n",
              "      <td>theory</td>\n",
              "      <td>I-Task</td>\n",
              "      <td>357607.0</td>\n",
              "      <td>2</td>\n",
              "      <td>1</td>\n",
              "    </tr>\n",
              "    <tr>\n",
              "      <th>2</th>\n",
              "      <td>devoted</td>\n",
              "      <td>O</td>\n",
              "      <td>122590.0</td>\n",
              "      <td>6</td>\n",
              "      <td>1</td>\n",
              "    </tr>\n",
              "    <tr>\n",
              "      <th>3</th>\n",
              "      <td>major</td>\n",
              "      <td>O</td>\n",
              "      <td>231345.0</td>\n",
              "      <td>6</td>\n",
              "      <td>1</td>\n",
              "    </tr>\n",
              "    <tr>\n",
              "      <th>4</th>\n",
              "      <td>efforts</td>\n",
              "      <td>O</td>\n",
              "      <td>133951.0</td>\n",
              "      <td>6</td>\n",
              "      <td>1</td>\n",
              "    </tr>\n",
              "    <tr>\n",
              "      <th>...</th>\n",
              "      <td>...</td>\n",
              "      <td>...</td>\n",
              "      <td>...</td>\n",
              "      <td>...</td>\n",
              "      <td>...</td>\n",
              "    </tr>\n",
              "    <tr>\n",
              "      <th>62424</th>\n",
              "      <td>derivatives.</td>\n",
              "      <td>I-Process</td>\n",
              "      <td>NaN</td>\n",
              "      <td>1</td>\n",
              "      <td>350</td>\n",
              "    </tr>\n",
              "    <tr>\n",
              "      <th>62449</th>\n",
              "      <td>one-</td>\n",
              "      <td>B-Process</td>\n",
              "      <td>NaN</td>\n",
              "      <td>0</td>\n",
              "      <td>350</td>\n",
              "    </tr>\n",
              "    <tr>\n",
              "      <th>62451</th>\n",
              "      <td>two-dimension</td>\n",
              "      <td>I-Process</td>\n",
              "      <td>NaN</td>\n",
              "      <td>1</td>\n",
              "      <td>350</td>\n",
              "    </tr>\n",
              "    <tr>\n",
              "      <th>62459</th>\n",
              "      <td>empirical</td>\n",
              "      <td>B-Material</td>\n",
              "      <td>136598.0</td>\n",
              "      <td>4</td>\n",
              "      <td>350</td>\n",
              "    </tr>\n",
              "    <tr>\n",
              "      <th>62461</th>\n",
              "      <td>rates</td>\n",
              "      <td>I-Material</td>\n",
              "      <td>300978.0</td>\n",
              "      <td>3</td>\n",
              "      <td>350</td>\n",
              "    </tr>\n",
              "  </tbody>\n",
              "</table>\n",
              "<p>15648 rows × 5 columns</p>\n",
              "</div>"
            ],
            "text/plain": [
              "               Words        Tags  Word_idx  Tag_idx  Sentence_idx\n",
              "0            Nuclear      B-Task       NaN        5             1\n",
              "1             theory      I-Task  357607.0        2             1\n",
              "2            devoted           O  122590.0        6             1\n",
              "3              major           O  231345.0        6             1\n",
              "4            efforts           O  133951.0        6             1\n",
              "...              ...         ...       ...      ...           ...\n",
              "62424   derivatives.   I-Process       NaN        1           350\n",
              "62449           one-   B-Process       NaN        0           350\n",
              "62451  two-dimension   I-Process       NaN        1           350\n",
              "62459      empirical  B-Material  136598.0        4           350\n",
              "62461          rates  I-Material  300978.0        3           350\n",
              "\n",
              "[15648 rows x 5 columns]"
            ]
          },
          "metadata": {
            "tags": []
          },
          "execution_count": 0
        }
      ]
    },
    {
      "cell_type": "code",
      "metadata": {
        "colab": {
          "background_save": true,
          "base_uri": "https://localhost:8080/",
          "height": 406
        },
        "id": "Td44Fq9sSg89",
        "outputId": "d632ba61-b58c-44e3-ef94-6a17cc2c72fc"
      },
      "source": [
        "dataset_test"
      ],
      "execution_count": null,
      "outputs": [
        {
          "output_type": "execute_result",
          "data": {
            "text/html": [
              "<div>\n",
              "<style scoped>\n",
              "    .dataframe tbody tr th:only-of-type {\n",
              "        vertical-align: middle;\n",
              "    }\n",
              "\n",
              "    .dataframe tbody tr th {\n",
              "        vertical-align: top;\n",
              "    }\n",
              "\n",
              "    .dataframe thead th {\n",
              "        text-align: right;\n",
              "    }\n",
              "</style>\n",
              "<table border=\"1\" class=\"dataframe\">\n",
              "  <thead>\n",
              "    <tr style=\"text-align: right;\">\n",
              "      <th></th>\n",
              "      <th>Words</th>\n",
              "      <th>Tags</th>\n",
              "      <th>Word_idx</th>\n",
              "      <th>Tag_idx</th>\n",
              "      <th>Sentence_idx</th>\n",
              "    </tr>\n",
              "  </thead>\n",
              "  <tbody>\n",
              "    <tr>\n",
              "      <th>0</th>\n",
              "      <td>Three-dimensional</td>\n",
              "      <td>B-Process</td>\n",
              "      <td>NaN</td>\n",
              "      <td>0</td>\n",
              "      <td>1</td>\n",
              "    </tr>\n",
              "    <tr>\n",
              "      <th>1</th>\n",
              "      <td>digital</td>\n",
              "      <td>I-Process</td>\n",
              "      <td>123911.0</td>\n",
              "      <td>1</td>\n",
              "      <td>1</td>\n",
              "    </tr>\n",
              "    <tr>\n",
              "      <th>2</th>\n",
              "      <td>subtraction</td>\n",
              "      <td>I-Process</td>\n",
              "      <td>346248.0</td>\n",
              "      <td>1</td>\n",
              "      <td>1</td>\n",
              "    </tr>\n",
              "    <tr>\n",
              "      <th>3</th>\n",
              "      <td>angiographic</td>\n",
              "      <td>I-Process</td>\n",
              "      <td>55258.0</td>\n",
              "      <td>1</td>\n",
              "      <td>1</td>\n",
              "    </tr>\n",
              "    <tr>\n",
              "      <th>4</th>\n",
              "      <td>(</td>\n",
              "      <td>O</td>\n",
              "      <td>158.0</td>\n",
              "      <td>6</td>\n",
              "      <td>1</td>\n",
              "    </tr>\n",
              "    <tr>\n",
              "      <th>...</th>\n",
              "      <td>...</td>\n",
              "      <td>...</td>\n",
              "      <td>...</td>\n",
              "      <td>...</td>\n",
              "      <td>...</td>\n",
              "    </tr>\n",
              "    <tr>\n",
              "      <th>21128</th>\n",
              "      <td>magnetic</td>\n",
              "      <td>O</td>\n",
              "      <td>230423.0</td>\n",
              "      <td>6</td>\n",
              "      <td>100</td>\n",
              "    </tr>\n",
              "    <tr>\n",
              "      <th>21129</th>\n",
              "      <td>moment</td>\n",
              "      <td>O</td>\n",
              "      <td>248238.0</td>\n",
              "      <td>6</td>\n",
              "      <td>100</td>\n",
              "    </tr>\n",
              "    <tr>\n",
              "      <th>21130</th>\n",
              "      <td>of</td>\n",
              "      <td>O</td>\n",
              "      <td>268046.0</td>\n",
              "      <td>6</td>\n",
              "      <td>100</td>\n",
              "    </tr>\n",
              "    <tr>\n",
              "      <th>21131</th>\n",
              "      <td>5×10−11μB</td>\n",
              "      <td>O</td>\n",
              "      <td>NaN</td>\n",
              "      <td>6</td>\n",
              "      <td>100</td>\n",
              "    </tr>\n",
              "    <tr>\n",
              "      <th>21132</th>\n",
              "      <td>.</td>\n",
              "      <td>O</td>\n",
              "      <td>867.0</td>\n",
              "      <td>6</td>\n",
              "      <td>100</td>\n",
              "    </tr>\n",
              "  </tbody>\n",
              "</table>\n",
              "<p>21133 rows × 5 columns</p>\n",
              "</div>"
            ],
            "text/plain": [
              "                   Words       Tags  Word_idx  Tag_idx  Sentence_idx\n",
              "0      Three-dimensional  B-Process       NaN        0             1\n",
              "1                digital  I-Process  123911.0        1             1\n",
              "2            subtraction  I-Process  346248.0        1             1\n",
              "3           angiographic  I-Process   55258.0        1             1\n",
              "4                      (          O     158.0        6             1\n",
              "...                  ...        ...       ...      ...           ...\n",
              "21128           magnetic          O  230423.0        6           100\n",
              "21129             moment          O  248238.0        6           100\n",
              "21130                 of          O  268046.0        6           100\n",
              "21131          5×10−11μB          O       NaN        6           100\n",
              "21132                  .          O     867.0        6           100\n",
              "\n",
              "[21133 rows x 5 columns]"
            ]
          },
          "metadata": {
            "tags": []
          },
          "execution_count": 0
        }
      ]
    },
    {
      "cell_type": "code",
      "metadata": {
        "colab": {
          "background_save": true,
          "base_uri": "https://localhost:8080/",
          "height": 564
        },
        "id": "O1l5bCwaSh6l",
        "outputId": "c337086e-86be-4537-b7d7-d11586de77ae"
      },
      "source": [
        "plot_model(model)"
      ],
      "execution_count": null,
      "outputs": [
        {
          "output_type": "execute_result",
          "data": {
            "image/png": "[encoded data removed]",
            "text/plain": [
              "<IPython.core.display.Image object>"
            ]
          },
          "metadata": {
            "tags": []
          },
          "execution_count": 0
        }
      ]
    },
    {
      "cell_type": "code",
      "metadata": {
        "colab": {
          "background_save": true
        },
        "id": "0Cx3djJsYucz"
      },
      "source": [
        ""
      ],
      "execution_count": null,
      "outputs": []
    }
  ]
}