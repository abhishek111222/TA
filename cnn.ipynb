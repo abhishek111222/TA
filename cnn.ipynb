{
 "cells": [
  {
   "cell_type": "code",
   "execution_count": null,
   "metadata": {
    "colab": {
     "base_uri": "https://localhost:8080/"
    },
    "id": "XXC3lfwtvWld",
    "outputId": "6dd647f9-3692-4323-9bca-3918453b1280"
   },
   "outputs": [
    {
     "name": "stdout",
     "output_type": "stream",
     "text": [
      "TensorFlow 1.x selected.\n",
      "Collecting git+https://www.github.com/keras-team/keras-contrib.git\n",
      "  Cloning https://www.github.com/keras-team/keras-contrib.git to /tmp/pip-req-build-wx_5o7x5\n",
      "  Running command git clone -q https://www.github.com/keras-team/keras-contrib.git /tmp/pip-req-build-wx_5o7x5\n",
      "Requirement already satisfied (use --upgrade to upgrade): keras-contrib==2.0.8 from git+https://www.github.com/keras-team/keras-contrib.git in /usr/local/lib/python3.7/dist-packages\n",
      "Requirement already satisfied: keras in /tensorflow-1.15.2/python3.7 (from keras-contrib==2.0.8) (2.3.1)\n",
      "Requirement already satisfied: pyyaml in /usr/local/lib/python3.7/dist-packages (from keras->keras-contrib==2.0.8) (3.13)\n",
      "Requirement already satisfied: scipy>=0.14 in /usr/local/lib/python3.7/dist-packages (from keras->keras-contrib==2.0.8) (1.4.1)\n",
      "Requirement already satisfied: keras-preprocessing>=1.0.5 in /usr/local/lib/python3.7/dist-packages (from keras->keras-contrib==2.0.8) (1.1.2)\n",
      "Requirement already satisfied: numpy>=1.9.1 in /usr/local/lib/python3.7/dist-packages (from keras->keras-contrib==2.0.8) (1.19.5)\n",
      "Requirement already satisfied: h5py in /usr/local/lib/python3.7/dist-packages (from keras->keras-contrib==2.0.8) (2.10.0)\n",
      "Requirement already satisfied: keras-applications>=1.0.6 in /tensorflow-1.15.2/python3.7 (from keras->keras-contrib==2.0.8) (1.0.8)\n",
      "Requirement already satisfied: six>=1.9.0 in /usr/local/lib/python3.7/dist-packages (from keras->keras-contrib==2.0.8) (1.15.0)\n",
      "Building wheels for collected packages: keras-contrib\n",
      "  Building wheel for keras-contrib (setup.py) ... \u001b[?25l\u001b[?25hdone\n",
      "  Created wheel for keras-contrib: filename=keras_contrib-2.0.8-cp37-none-any.whl size=101065 sha256=4cbcc7d7e76f8fbd6b09f807e0d2c470bebaaceda76fd33d763addbd8a5504eb\n",
      "  Stored in directory: /tmp/pip-ephem-wheel-cache-ltbn5nr9/wheels/11/27/c8/4ed56de7b55f4f61244e2dc6ef3cdbaff2692527a2ce6502ba\n",
      "Successfully built keras-contrib\n",
      "Requirement already satisfied: sklearn_crfsuite in /usr/local/lib/python3.7/dist-packages (0.3.6)\n",
      "Requirement already satisfied: tabulate in /usr/local/lib/python3.7/dist-packages (from sklearn_crfsuite) (0.8.9)\n",
      "Requirement already satisfied: six in /usr/local/lib/python3.7/dist-packages (from sklearn_crfsuite) (1.15.0)\n",
      "Requirement already satisfied: python-crfsuite>=0.8.3 in /usr/local/lib/python3.7/dist-packages (from sklearn_crfsuite) (0.9.7)\n",
      "Requirement already satisfied: tqdm>=2.0 in /usr/local/lib/python3.7/dist-packages (from sklearn_crfsuite) (4.41.1)\n",
      "Requirement already satisfied: seqeval in /usr/local/lib/python3.7/dist-packages (1.2.2)\n",
      "Requirement already satisfied: numpy>=1.14.0 in /usr/local/lib/python3.7/dist-packages (from seqeval) (1.19.5)\n",
      "Requirement already satisfied: scikit-learn>=0.21.3 in /usr/local/lib/python3.7/dist-packages (from seqeval) (0.22.2.post1)\n",
      "Requirement already satisfied: joblib>=0.11 in /usr/local/lib/python3.7/dist-packages (from scikit-learn>=0.21.3->seqeval) (1.0.1)\n",
      "Requirement already satisfied: scipy>=0.17.0 in /usr/local/lib/python3.7/dist-packages (from scikit-learn>=0.21.3->seqeval) (1.4.1)\n"
     ]
    },
    {
     "name": "stderr",
     "output_type": "stream",
     "text": [
      "Using TensorFlow backend.\n"
     ]
    }
   ],
   "source": [
    "import time\n",
    "start = time.time()\n",
    "\n",
    "import os\n",
    "import pandas as pd\n",
    "import numpy as np\n",
    "\n",
    "from math import nan\n",
    "from future.utils import iteritems\n",
    "\n",
    "import matplotlib.pyplot as plt\n",
    "import seaborn as sns\n",
    "sns.set_theme(style = \"darkgrid\")\n",
    "\n",
    "%tensorflow_version 1.x\n",
    "\n",
    "!pip install git+https://www.github.com/keras-team/keras-contrib.git\n",
    "!pip install sklearn_crfsuite\n",
    "!pip install seqeval\n",
    "\n",
    "import keras as k\n",
    "from keras.models import Model, Input\n",
    "from keras.layers import LSTM, Dense, TimeDistributed, Dropout, Bidirectional\n",
    "from keras_contrib.layers import CRF\n",
    "from keras.callbacks import ModelCheckpoint\n",
    "from keras.preprocessing.sequence import pad_sequences\n",
    "from keras.utils import to_categorical\n",
    "from keras.layers.embeddings import Embedding\n",
    "\n",
    "from seqeval.metrics import precision_score, recall_score, f1_score, classification_report\n",
    "\n",
    "from sklearn_crfsuite.metrics import flat_classification_report\n",
    "from sklearn.model_selection import train_test_split\n",
    "\n",
    "\n",
    "\n",
    "from keras.layers import merge, Activation, Convolution1D, Dense, Dropout, Lambda, Convolution2D, Convolution3D, concatenate, Concatenate, GlobalMaxPooling1D\n",
    "from keras.models import Sequential\n",
    "\n",
    "\n",
    "\n",
    "import warnings\n",
    "warnings.filterwarnings(\"ignore\")"
   ]
  },
  {
   "cell_type": "code",
   "execution_count": null,
   "metadata": {
    "colab": {
     "base_uri": "https://localhost:8080/"
    },
    "id": "CH8gVB3MtpSK",
    "outputId": "88b9c718-bdf5-4e91-b3e1-30af21c57207"
   },
   "outputs": [
    {
     "name": "stdout",
     "output_type": "stream",
     "text": [
      "Drive already mounted at /content/gdrive/; to attempt to forcibly remount, call drive.mount(\"/content/gdrive/\", force_remount=True).\n"
     ]
    }
   ],
   "source": [
    "from google.colab import drive\n",
    "drive.mount(\"/content/gdrive/\")"
   ]
  },
  {
   "cell_type": "code",
   "execution_count": null,
   "metadata": {
    "colab": {
     "base_uri": "https://localhost:8080/"
    },
    "id": "-ZFWxArmtrZL",
    "outputId": "1051e789-8a20-4349-fd57-a108b91c62df"
   },
   "outputs": [
    {
     "name": "stdout",
     "output_type": "stream",
     "text": [
      "/content/gdrive/MyDrive/coursework\n"
     ]
    }
   ],
   "source": [
    "cd gdrive/MyDrive/coursework"
   ]
  },
  {
   "cell_type": "code",
   "execution_count": null,
   "metadata": {
    "id": "zsjQmUv9t0mA"
   },
   "outputs": [],
   "source": [
    "from scienceie_loader import load_tokenized_data, load_data_with_char_offsets, get_entity_span_from_B_index"
   ]
  },
  {
   "cell_type": "code",
   "execution_count": null,
   "metadata": {
    "id": "dH9ssX3Ft16A"
   },
   "outputs": [],
   "source": [
    "data_root = os.path.join(os.getcwd(), 'original_datasets')\n",
    "data_train = os.path.join(data_root, 'scienceie2017_train/train2')\n",
    "data_dev = os.path.join(data_root, 'scienceie2017_dev/dev')\n",
    "data_test = os.path.join(data_root, 'semeval_articles_test')"
   ]
  },
  {
   "cell_type": "code",
   "execution_count": null,
   "metadata": {
    "id": "0mKipyket3_Q"
   },
   "outputs": [],
   "source": [
    "train_docs, train_rels, _ = load_tokenized_data(data_train)\n",
    "dev_docs, dev_rels, _ = load_tokenized_data(data_dev)\n",
    "test_docs, test_rels, _ = load_tokenized_data(data_test)"
   ]
  },
  {
   "cell_type": "code",
   "execution_count": null,
   "metadata": {
    "id": "NAcSo3Wtt9br"
   },
   "outputs": [],
   "source": [
    "train = [j for i in train_docs for j in i]\n",
    "test = [j for i in test_docs for j in i]"
   ]
  },
  {
   "cell_type": "code",
   "execution_count": null,
   "metadata": {
    "colab": {
     "base_uri": "https://localhost:8080/"
    },
    "id": "HvL14i6ivEGg",
    "outputId": "dba0039b-b83d-44fb-9290-364dfe606d9f"
   },
   "outputs": [
    {
     "data": {
      "text/plain": [
       "62475"
      ]
     },
     "execution_count": 8,
     "metadata": {
      "tags": []
     },
     "output_type": "execute_result"
    }
   ],
   "source": [
    "len(train)"
   ]
  },
  {
   "cell_type": "code",
   "execution_count": null,
   "metadata": {
    "colab": {
     "base_uri": "https://localhost:8080/"
    },
    "id": "sPVQ72MivINQ",
    "outputId": "f997e96b-8268-4a76-c225-b84c9a9160bc"
   },
   "outputs": [
    {
     "data": {
      "text/plain": [
       "21133"
      ]
     },
     "execution_count": 9,
     "metadata": {
      "tags": []
     },
     "output_type": "execute_result"
    }
   ],
   "source": [
    "len(test)"
   ]
  },
  {
   "cell_type": "code",
   "execution_count": null,
   "metadata": {
    "id": "AYE-sU3EvI74"
   },
   "outputs": [],
   "source": [
    "dataset_train = pd.DataFrame(train, columns = [\"Words\", \"Tags\"])\n",
    "dataset_test = pd.DataFrame(test, columns = [\"Words\", \"Tags\"])"
   ]
  },
  {
   "cell_type": "code",
   "execution_count": null,
   "metadata": {
    "id": "8GbRnap0vVJR"
   },
   "outputs": [],
   "source": [
    "ne_tags_train = {tag for word, tag in train}\n",
    "ne_tags_test = {tag for word, tag in train}"
   ]
  },
  {
   "cell_type": "code",
   "execution_count": null,
   "metadata": {
    "id": "pPO5NEnlvkDj"
   },
   "outputs": [],
   "source": [
    "ne_tags_train = list(ne_tags_train)\n",
    "ne_tags_test = list(ne_tags_test)"
   ]
  },
  {
   "cell_type": "code",
   "execution_count": null,
   "metadata": {
    "colab": {
     "base_uri": "https://localhost:8080/",
     "height": 357
    },
    "id": "vV9J5aTqwJx5",
    "outputId": "ee9a176a-0fba-4fcf-dc6f-c9a586725b9d"
   },
   "outputs": [
    {
     "name": "stdout",
     "output_type": "stream",
     "text": [
      "<class 'pandas.core.frame.DataFrame'>\n",
      "RangeIndex: 62475 entries, 0 to 62474\n",
      "Data columns (total 2 columns):\n",
      " #   Column  Non-Null Count  Dtype \n",
      "---  ------  --------------  ----- \n",
      " 0   Words   62475 non-null  object\n",
      " 1   Tags    62475 non-null  object\n",
      "dtypes: object(2)\n",
      "memory usage: 976.3+ KB\n"
     ]
    },
    {
     "data": {
      "text/html": [
       "<div>\n",
       "<style scoped>\n",
       "    .dataframe tbody tr th:only-of-type {\n",
       "        vertical-align: middle;\n",
       "    }\n",
       "\n",
       "    .dataframe tbody tr th {\n",
       "        vertical-align: top;\n",
       "    }\n",
       "\n",
       "    .dataframe thead th {\n",
       "        text-align: right;\n",
       "    }\n",
       "</style>\n",
       "<table border=\"1\" class=\"dataframe\">\n",
       "  <thead>\n",
       "    <tr style=\"text-align: right;\">\n",
       "      <th></th>\n",
       "      <th>Words</th>\n",
       "      <th>Tags</th>\n",
       "    </tr>\n",
       "  </thead>\n",
       "  <tbody>\n",
       "    <tr>\n",
       "      <th>45144</th>\n",
       "      <td>a</td>\n",
       "      <td>I-Material</td>\n",
       "    </tr>\n",
       "    <tr>\n",
       "      <th>29948</th>\n",
       "      <td>the</td>\n",
       "      <td>O</td>\n",
       "    </tr>\n",
       "    <tr>\n",
       "      <th>3693</th>\n",
       "      <td>range</td>\n",
       "      <td>O</td>\n",
       "    </tr>\n",
       "    <tr>\n",
       "      <th>41244</th>\n",
       "      <td>notion</td>\n",
       "      <td>B-Task</td>\n",
       "    </tr>\n",
       "    <tr>\n",
       "      <th>14061</th>\n",
       "      <td>in</td>\n",
       "      <td>O</td>\n",
       "    </tr>\n",
       "  </tbody>\n",
       "</table>\n",
       "</div>"
      ],
      "text/plain": [
       "        Words        Tags\n",
       "45144       a  I-Material\n",
       "29948     the           O\n",
       "3693    range           O\n",
       "41244  notion      B-Task\n",
       "14061      in           O"
      ]
     },
     "execution_count": 13,
     "metadata": {
      "tags": []
     },
     "output_type": "execute_result"
    }
   ],
   "source": [
    "dataset_train.info()\n",
    "dataset_train.sample(5)"
   ]
  },
  {
   "cell_type": "code",
   "execution_count": null,
   "metadata": {
    "id": "qISNM3sswKH5"
   },
   "outputs": [],
   "source": [
    "r = []\n",
    "for i in range(len(train_docs)):\n",
    "    x = len(train_docs[i])\n",
    "    for j in range(x):\n",
    "        r.append(i+1)"
   ]
  },
  {
   "cell_type": "code",
   "execution_count": null,
   "metadata": {
    "id": "jaZBeXQswKSj"
   },
   "outputs": [],
   "source": [
    "dataset_train[\"Sentence_idx\"] = r"
   ]
  },
  {
   "cell_type": "code",
   "execution_count": null,
   "metadata": {
    "id": "S9GZdGfF32s8"
   },
   "outputs": [],
   "source": [
    "class make_Sentence(object):\n",
    "\n",
    "  def __init__(self, dataset):\n",
    "    self.sent = 1\n",
    "    self.dataset = dataset\n",
    "    self.empty = False\n",
    "    func = lambda s : [(word, tag) for word, tag in zip(s[\"Words\"].values.tolist(),\n",
    "                                                        s[\"Tags\"].values.tolist())]\n",
    "    self.group = self.dataset.groupby(\"Sentence_idx\").apply(func)\n",
    "    self.sentences = [s for s in self.group]\n",
    "\n",
    "  def get_next(self):\n",
    "    try:\n",
    "      s = self.group[\"Sentence : {}\".format(self.sent)]\n",
    "      self.sent += 1\n",
    "      return s\n",
    "    except :\n",
    "      return None"
   ]
  },
  {
   "cell_type": "code",
   "execution_count": null,
   "metadata": {
    "id": "6FdwNlOm32w1"
   },
   "outputs": [],
   "source": [
    "getter = make_Sentence(dataset_train)\n",
    "sentences_train = getter.sentences"
   ]
  },
  {
   "cell_type": "code",
   "execution_count": null,
   "metadata": {
    "id": "iedDZlWJ32zl"
   },
   "outputs": [],
   "source": [
    "words_train = list(set(dataset_train[\"Words\"].values))\n",
    "n_words_train = len(words_train)\n",
    "\n",
    "tags_train = []\n",
    "for tag_train in set(dataset_train[\"Tags\"].values):\n",
    "  if tag_train is nan or isinstance(tag_train, float):\n",
    "    tags_train.append(\"Unknown\")\n",
    "  else:\n",
    "    tags_train.append(tag_train)\n",
    "\n",
    "n_tags_train  = len(tags_train)"
   ]
  },
  {
   "cell_type": "code",
   "execution_count": null,
   "metadata": {
    "id": "jzYkrCiu3212"
   },
   "outputs": [],
   "source": [
    "word2idx_train = {w: i for i, w in enumerate(words_train)}\n",
    "tag2idx_train = {t: i for i, t in enumerate(tags_train)}\n",
    "idx2tag_train = {v: k for k, v in iteritems(tag2idx_train)}"
   ]
  },
  {
   "cell_type": "code",
   "execution_count": null,
   "metadata": {
    "id": "NjKcB2m23239"
   },
   "outputs": [],
   "source": [
    "maxlen_train = 344\n",
    "\n",
    "X_train = [[word2idx_train[w[0]] for w in s] for s in sentences_train]\n",
    "X_train = pad_sequences(maxlen = maxlen_train, sequences = X_train, padding = \"post\",value = n_words_train - 1)\n",
    "\n",
    "Y_train = [[tag2idx_train[w[1]] for w in s] for s in sentences_train]\n",
    "Y_train = pad_sequences(maxlen = maxlen_train, sequences = Y_train, padding = \"post\", value = 6)\n",
    "Y_train = [to_categorical(i, num_classes = n_tags_train) for i in Y_train]"
   ]
  },
  {
   "cell_type": "code",
   "execution_count": null,
   "metadata": {
    "id": "tRb4Dy-J326M"
   },
   "outputs": [],
   "source": [
    "input = Input(shape=(344,))\n",
    "word_embedding_size = 210"
   ]
  },
  {
   "cell_type": "code",
   "execution_count": null,
   "metadata": {
    "id": "3CTMyLnywKUb"
   },
   "outputs": [],
   "source": [
    "loss_function = 'categorical_crosswntropy'"
   ]
  },
  {
   "cell_type": "code",
   "execution_count": null,
   "metadata": {
    "id": "p57zc_adwKWd"
   },
   "outputs": [],
   "source": [
    "def build_cnn_char(input_dim, output_dim,nb_filter):\n",
    "    clf = Sequential()\n",
    "    clf.add(Embedding(input_dim=n_words_train, output_dim=word_embedding_size, input_length=344))\n",
    "    clf.add(Convolution1D(filters = 16,\n",
    "                          filter_length = 4,border_mode=\"same\",activation=\"relu\",subsample_length=1))\n",
    "    #clf.add(GlobalMaxPooling1D())\n",
    "    clf.add(Dense(100))\n",
    "    clf.add(Dropout(0.2))\n",
    "    clf.add(Activation(\"tanh\"))\n",
    "    clf.add(Dense(output_dim=output_dim, activation='softmax'))\n",
    "\n",
    "    clf.compile(optimizer='adagrad',\n",
    "                     loss='categorical_crossentropy',\n",
    "                     metrics=['accuracy'])\n",
    "    return clf\n"
   ]
  },
  {
   "cell_type": "code",
   "execution_count": null,
   "metadata": {
    "colab": {
     "base_uri": "https://localhost:8080/"
    },
    "id": "IIScYTFDPOFr",
    "outputId": "968ecb82-1350-43fe-bd89-be9e15ded8c8"
   },
   "outputs": [
    {
     "name": "stdout",
     "output_type": "stream",
     "text": [
      "WARNING:tensorflow:From /tensorflow-1.15.2/python3.7/tensorflow_core/python/ops/resource_variable_ops.py:1630: calling BaseResourceVariable.__init__ (from tensorflow.python.ops.resource_variable_ops) with constraint is deprecated and will be removed in a future version.\n",
      "Instructions for updating:\n",
      "If using Keras pass *_constraint arguments to layers.\n"
     ]
    }
   ],
   "source": [
    "cnn = build_cnn_char(X_train, 7, 210)"
   ]
  },
  {
   "cell_type": "code",
   "execution_count": null,
   "metadata": {
    "id": "De-KweUdN4aS"
   },
   "outputs": [],
   "source": [
    "def max_1d(X):\n",
    "    return K.max(X,axis=1)"
   ]
  },
  {
   "cell_type": "code",
   "execution_count": null,
   "metadata": {
    "id": "J6xPB4o7NWsO"
   },
   "outputs": [],
   "source": [
    "maxlen = 344\n",
    "\n",
    "def build_cnn_char_complex(input_dim, output_dim, nb_filter):\n",
    "    randomEmbeddingLayer = Embedding(input_dim = n_words_train, output_dim = word_embedding_size, input_length = 344)\n",
    "    poolingLayer = Lambda(max_1d, output_shape = (210,))\n",
    "    conv_filters = []\n",
    "    for n_gram in range(2,4):\n",
    "        ngramModel = Sequential()\n",
    "        ngramModel.add(randomEmbeddingLayer)\n",
    "        ngramModel.add(Convolution1D(nb_filter = nb_filter,\n",
    "                                     filter_length = n_gram,\n",
    "                                     border_mode = \"valid\",\n",
    "                                     activation = \"relu\",\n",
    "                                     subsample_length = 1))\n",
    "        ngramModel.add(poolingLayer)\n",
    "        conv_filters.append(ngramModel)\n",
    "    \n",
    "    clf = Sequential()\n",
    "    clf.add(Merge(conv_filters,mode=\"concat\"))\n",
    "    clf.add(Activation(\"relu\"))\n",
    "    clf.add(Dense(100))\n",
    "    clf.add(Dropout(0.1))\n",
    "    clf.add(Activation(\"tanh\"))\n",
    "    clf.add(Dense(output_dim = output_dim, activation = 'softmax'))\n",
    "\n",
    "    clf.compile(optimizer='adagrad',\n",
    "                     loss='categorical_crossentropy',\n",
    "                     metrics=['accuracy'])\n",
    "    return clf"
   ]
  },
  {
   "cell_type": "code",
   "execution_count": null,
   "metadata": {
    "id": "PbTPRXlqwKYR"
   },
   "outputs": [],
   "source": [
    "cnn = build_cnn_char(X_train, 7, 210)\n",
    "#cnn = build_cnn_char_complex(X_train, 7, 210)"
   ]
  },
  {
   "cell_type": "code",
   "execution_count": null,
   "metadata": {
    "colab": {
     "base_uri": "https://localhost:8080/"
    },
    "id": "0TR-v3SjPqAV",
    "outputId": "f0aaeb21-0ce8-4eb7-a951-a04aea7572f9"
   },
   "outputs": [
    {
     "name": "stdout",
     "output_type": "stream",
     "text": [
      "WARNING:tensorflow:From /tensorflow-1.15.2/python3.7/tensorflow_core/python/ops/math_grad.py:1424: where (from tensorflow.python.ops.array_ops) is deprecated and will be removed in a future version.\n",
      "Instructions for updating:\n",
      "Use tf.where in 2.0, which has the same broadcast rule as np.where\n",
      "WARNING:tensorflow:From /tensorflow-1.15.2/python3.7/keras/backend/tensorflow_backend.py:422: The name tf.global_variables is deprecated. Please use tf.compat.v1.global_variables instead.\n",
      "\n",
      "Epoch 1/20\n",
      "350/350 [==============================] - 2s 6ms/step - loss: 0.8152 - accuracy: 0.7783\n",
      "Epoch 2/20\n",
      "350/350 [==============================] - 1s 4ms/step - loss: 0.4547 - accuracy: 0.8468\n",
      "Epoch 3/20\n",
      "350/350 [==============================] - 1s 4ms/step - loss: 0.4102 - accuracy: 0.8570\n",
      "Epoch 4/20\n",
      "350/350 [==============================] - 1s 4ms/step - loss: 0.3772 - accuracy: 0.8655\n",
      "Epoch 5/20\n",
      "350/350 [==============================] - 1s 4ms/step - loss: 0.3469 - accuracy: 0.8750\n",
      "Epoch 6/20\n",
      "350/350 [==============================] - 1s 4ms/step - loss: 0.3178 - accuracy: 0.8849\n",
      "Epoch 7/20\n",
      "350/350 [==============================] - 1s 4ms/step - loss: 0.2885 - accuracy: 0.8975\n",
      "Epoch 8/20\n",
      "350/350 [==============================] - 1s 4ms/step - loss: 0.2618 - accuracy: 0.9091\n",
      "Epoch 9/20\n",
      "350/350 [==============================] - 1s 4ms/step - loss: 0.2370 - accuracy: 0.9206\n",
      "Epoch 10/20\n",
      "350/350 [==============================] - 1s 4ms/step - loss: 0.2150 - accuracy: 0.9309\n",
      "Epoch 11/20\n",
      "350/350 [==============================] - 1s 4ms/step - loss: 0.1962 - accuracy: 0.9402\n",
      "Epoch 12/20\n",
      "350/350 [==============================] - 1s 4ms/step - loss: 0.1791 - accuracy: 0.9460\n",
      "Epoch 13/20\n",
      "350/350 [==============================] - 1s 4ms/step - loss: 0.1655 - accuracy: 0.9509\n",
      "Epoch 14/20\n",
      "350/350 [==============================] - 1s 4ms/step - loss: 0.1532 - accuracy: 0.9548\n",
      "Epoch 15/20\n",
      "350/350 [==============================] - 2s 4ms/step - loss: 0.1430 - accuracy: 0.9575\n",
      "Epoch 16/20\n",
      "350/350 [==============================] - 1s 4ms/step - loss: 0.1341 - accuracy: 0.9602\n",
      "Epoch 17/20\n",
      "350/350 [==============================] - 1s 4ms/step - loss: 0.1262 - accuracy: 0.9624\n",
      "Epoch 18/20\n",
      "350/350 [==============================] - 1s 4ms/step - loss: 0.1191 - accuracy: 0.9643\n",
      "Epoch 19/20\n",
      "350/350 [==============================] - 1s 4ms/step - loss: 0.1122 - accuracy: 0.9665\n",
      "Epoch 20/20\n",
      "350/350 [==============================] - 1s 4ms/step - loss: 0.1073 - accuracy: 0.9677\n"
     ]
    },
    {
     "data": {
      "text/plain": [
       "<keras.callbacks.callbacks.History at 0x7f7361bd53d0>"
      ]
     },
     "execution_count": 28,
     "metadata": {
      "tags": []
     },
     "output_type": "execute_result"
    }
   ],
   "source": [
    "cnn.fit(np.array(X_train),np.array(Y_train),26, epochs = 20)    #'16 --> 26'"
   ]
  },
  {
   "cell_type": "code",
   "execution_count": null,
   "metadata": {
    "colab": {
     "base_uri": "https://localhost:8080/"
    },
    "id": "nJSES3xbCRVE",
    "outputId": "9e954c67-fafb-4cab-af57-4a1efa9c5744"
   },
   "outputs": [
    {
     "name": "stdout",
     "output_type": "stream",
     "text": [
      "Model: \"sequential_2\"\n",
      "_________________________________________________________________\n",
      "Layer (type)                 Output Shape              Param #   \n",
      "=================================================================\n",
      "embedding_2 (Embedding)      (None, 344, 210)          2098740   \n",
      "_________________________________________________________________\n",
      "conv1d_2 (Conv1D)            (None, 344, 16)           13456     \n",
      "_________________________________________________________________\n",
      "dense_3 (Dense)              (None, 344, 100)          1700      \n",
      "_________________________________________________________________\n",
      "dropout_2 (Dropout)          (None, 344, 100)          0         \n",
      "_________________________________________________________________\n",
      "activation_2 (Activation)    (None, 344, 100)          0         \n",
      "_________________________________________________________________\n",
      "dense_4 (Dense)              (None, 344, 7)            707       \n",
      "=================================================================\n",
      "Total params: 2,114,603\n",
      "Trainable params: 2,114,603\n",
      "Non-trainable params: 0\n",
      "_________________________________________________________________\n"
     ]
    }
   ],
   "source": [
    "cnn.summary()"
   ]
  },
  {
   "cell_type": "code",
   "execution_count": null,
   "metadata": {
    "colab": {
     "base_uri": "https://localhost:8080/"
    },
    "id": "sZYbNE-yCSFn",
    "outputId": "ad8c18e0-f5d9-4955-9850-c08c97a2b338"
   },
   "outputs": [
    {
     "name": "stdout",
     "output_type": "stream",
     "text": [
      "Epoch 1/10\n",
      "350/350 [==============================] - 1s 4ms/step - loss: 0.1025 - accuracy: 0.9694\n",
      "Epoch 2/10\n",
      "350/350 [==============================] - 1s 4ms/step - loss: 0.0980 - accuracy: 0.9709\n",
      "Epoch 3/10\n",
      "350/350 [==============================] - 1s 4ms/step - loss: 0.0942 - accuracy: 0.9715\n",
      "Epoch 4/10\n",
      "350/350 [==============================] - 1s 4ms/step - loss: 0.0903 - accuracy: 0.9729\n",
      "Epoch 5/10\n",
      "350/350 [==============================] - 1s 4ms/step - loss: 0.0875 - accuracy: 0.9738\n",
      "Epoch 6/10\n",
      "350/350 [==============================] - 1s 4ms/step - loss: 0.0840 - accuracy: 0.9745\n",
      "Epoch 7/10\n",
      "350/350 [==============================] - 1s 4ms/step - loss: 0.0817 - accuracy: 0.9755\n",
      "Epoch 8/10\n",
      "350/350 [==============================] - 1s 4ms/step - loss: 0.0789 - accuracy: 0.9759\n",
      "Epoch 9/10\n",
      "350/350 [==============================] - 1s 4ms/step - loss: 0.0768 - accuracy: 0.9769\n",
      "Epoch 10/10\n",
      "350/350 [==============================] - 1s 4ms/step - loss: 0.0747 - accuracy: 0.9771\n"
     ]
    },
    {
     "data": {
      "text/plain": [
       "<keras.callbacks.callbacks.History at 0x7f7361a38b90>"
      ]
     },
     "execution_count": 30,
     "metadata": {
      "tags": []
     },
     "output_type": "execute_result"
    }
   ],
   "source": [
    "cnn.fit(np.array(X_train),np.array(Y_train),26, epochs = 10)    #'16 --> 26'"
   ]
  },
  {
   "cell_type": "code",
   "execution_count": null,
   "metadata": {
    "colab": {
     "base_uri": "https://localhost:8080/"
    },
    "id": "z4coVKt0OjRK",
    "outputId": "c3c33842-6ac6-404c-9dc8-d4bd7eb8665c"
   },
   "outputs": [
    {
     "data": {
      "text/plain": [
       "(350, 344)"
      ]
     },
     "execution_count": 31,
     "metadata": {
      "tags": []
     },
     "output_type": "execute_result"
    }
   ],
   "source": [
    "X_train.shape"
   ]
  },
  {
   "cell_type": "code",
   "execution_count": null,
   "metadata": {
    "id": "OFFm5Wl2CSHq"
   },
   "outputs": [],
   "source": []
  },
  {
   "cell_type": "code",
   "execution_count": null,
   "metadata": {
    "id": "Xy1AjzoTCSLp"
   },
   "outputs": [],
   "source": []
  },
  {
   "cell_type": "code",
   "execution_count": null,
   "metadata": {
    "colab": {
     "base_uri": "https://localhost:8080/",
     "height": 419
    },
    "id": "UTj2h5HSCSNj",
    "outputId": "16b679ef-f034-4e7b-d3e6-cd2be3262c5f"
   },
   "outputs": [
    {
     "name": "stdout",
     "output_type": "stream",
     "text": [
      "<class 'pandas.core.frame.DataFrame'>\n",
      "RangeIndex: 21133 entries, 0 to 21132\n",
      "Data columns (total 2 columns):\n",
      " #   Column  Non-Null Count  Dtype \n",
      "---  ------  --------------  ----- \n",
      " 0   Words   21133 non-null  object\n",
      " 1   Tags    21133 non-null  object\n",
      "dtypes: object(2)\n",
      "memory usage: 330.3+ KB\n"
     ]
    },
    {
     "data": {
      "text/html": [
       "<div>\n",
       "<style scoped>\n",
       "    .dataframe tbody tr th:only-of-type {\n",
       "        vertical-align: middle;\n",
       "    }\n",
       "\n",
       "    .dataframe tbody tr th {\n",
       "        vertical-align: top;\n",
       "    }\n",
       "\n",
       "    .dataframe thead th {\n",
       "        text-align: right;\n",
       "    }\n",
       "</style>\n",
       "<table border=\"1\" class=\"dataframe\">\n",
       "  <thead>\n",
       "    <tr style=\"text-align: right;\">\n",
       "      <th></th>\n",
       "      <th>Words</th>\n",
       "      <th>Tags</th>\n",
       "    </tr>\n",
       "  </thead>\n",
       "  <tbody>\n",
       "    <tr>\n",
       "      <th>3397</th>\n",
       "      <td>cuprite</td>\n",
       "      <td>B-Material</td>\n",
       "    </tr>\n",
       "    <tr>\n",
       "      <th>20629</th>\n",
       "      <td>it</td>\n",
       "      <td>O</td>\n",
       "    </tr>\n",
       "    <tr>\n",
       "      <th>7155</th>\n",
       "      <td>previous</td>\n",
       "      <td>O</td>\n",
       "    </tr>\n",
       "    <tr>\n",
       "      <th>11298</th>\n",
       "      <td>resp.</td>\n",
       "      <td>O</td>\n",
       "    </tr>\n",
       "    <tr>\n",
       "      <th>258</th>\n",
       "      <td>number</td>\n",
       "      <td>O</td>\n",
       "    </tr>\n",
       "    <tr>\n",
       "      <th>9842</th>\n",
       "      <td>reactions.</td>\n",
       "      <td>O</td>\n",
       "    </tr>\n",
       "    <tr>\n",
       "      <th>3950</th>\n",
       "      <td>through</td>\n",
       "      <td>O</td>\n",
       "    </tr>\n",
       "  </tbody>\n",
       "</table>\n",
       "</div>"
      ],
      "text/plain": [
       "            Words        Tags\n",
       "3397      cuprite  B-Material\n",
       "20629          it           O\n",
       "7155     previous           O\n",
       "11298       resp.           O\n",
       "258        number           O\n",
       "9842   reactions.           O\n",
       "3950      through           O"
      ]
     },
     "execution_count": 34,
     "metadata": {
      "tags": []
     },
     "output_type": "execute_result"
    }
   ],
   "source": [
    "dataset_test.info()\n",
    "dataset_test.sample(7)"
   ]
  },
  {
   "cell_type": "code",
   "execution_count": null,
   "metadata": {
    "id": "16JWnUl-E1Gn"
   },
   "outputs": [],
   "source": [
    "r = []\n",
    "for i in range(len(test_docs)):\n",
    "    x = len(test_docs[i])\n",
    "    for j in range(x):\n",
    "        r.append(i+1)"
   ]
  },
  {
   "cell_type": "code",
   "execution_count": null,
   "metadata": {
    "id": "HJMl1zWEE1I2"
   },
   "outputs": [],
   "source": [
    "dataset_test[\"Sentence_idx\"] = r"
   ]
  },
  {
   "cell_type": "code",
   "execution_count": null,
   "metadata": {
    "colab": {
     "base_uri": "https://localhost:8080/",
     "height": 374
    },
    "id": "2sRj5IfiE1Kr",
    "outputId": "350d2dec-bd2d-404d-f575-2de927714ca0"
   },
   "outputs": [
    {
     "name": "stdout",
     "output_type": "stream",
     "text": [
      "<class 'pandas.core.frame.DataFrame'>\n",
      "RangeIndex: 21133 entries, 0 to 21132\n",
      "Data columns (total 3 columns):\n",
      " #   Column        Non-Null Count  Dtype \n",
      "---  ------        --------------  ----- \n",
      " 0   Words         21133 non-null  object\n",
      " 1   Tags          21133 non-null  object\n",
      " 2   Sentence_idx  21133 non-null  int64 \n",
      "dtypes: int64(1), object(2)\n",
      "memory usage: 495.4+ KB\n"
     ]
    },
    {
     "data": {
      "text/html": [
       "<div>\n",
       "<style scoped>\n",
       "    .dataframe tbody tr th:only-of-type {\n",
       "        vertical-align: middle;\n",
       "    }\n",
       "\n",
       "    .dataframe tbody tr th {\n",
       "        vertical-align: top;\n",
       "    }\n",
       "\n",
       "    .dataframe thead th {\n",
       "        text-align: right;\n",
       "    }\n",
       "</style>\n",
       "<table border=\"1\" class=\"dataframe\">\n",
       "  <thead>\n",
       "    <tr style=\"text-align: right;\">\n",
       "      <th></th>\n",
       "      <th>Words</th>\n",
       "      <th>Tags</th>\n",
       "      <th>Sentence_idx</th>\n",
       "    </tr>\n",
       "  </thead>\n",
       "  <tbody>\n",
       "    <tr>\n",
       "      <th>19932</th>\n",
       "      <td>,</td>\n",
       "      <td>O</td>\n",
       "      <td>94</td>\n",
       "    </tr>\n",
       "    <tr>\n",
       "      <th>806</th>\n",
       "      <td>overlay</td>\n",
       "      <td>O</td>\n",
       "      <td>4</td>\n",
       "    </tr>\n",
       "    <tr>\n",
       "      <th>7534</th>\n",
       "      <td>so</td>\n",
       "      <td>O</td>\n",
       "      <td>34</td>\n",
       "    </tr>\n",
       "    <tr>\n",
       "      <th>20747</th>\n",
       "      <td>will</td>\n",
       "      <td>O</td>\n",
       "      <td>98</td>\n",
       "    </tr>\n",
       "    <tr>\n",
       "      <th>19828</th>\n",
       "      <td>control</td>\n",
       "      <td>O</td>\n",
       "      <td>93</td>\n",
       "    </tr>\n",
       "  </tbody>\n",
       "</table>\n",
       "</div>"
      ],
      "text/plain": [
       "         Words Tags  Sentence_idx\n",
       "19932        ,    O            94\n",
       "806    overlay    O             4\n",
       "7534        so    O            34\n",
       "20747     will    O            98\n",
       "19828  control    O            93"
      ]
     },
     "execution_count": 37,
     "metadata": {
      "tags": []
     },
     "output_type": "execute_result"
    }
   ],
   "source": [
    "dataset_test.info()\n",
    "dataset_test.sample(5)"
   ]
  },
  {
   "cell_type": "code",
   "execution_count": null,
   "metadata": {
    "id": "97xuZCLXE1PH"
   },
   "outputs": [],
   "source": [
    "getter = make_Sentence(dataset_test)\n",
    "sentences_test = getter.sentences"
   ]
  },
  {
   "cell_type": "code",
   "execution_count": null,
   "metadata": {
    "id": "4GpoVFvzE1RM"
   },
   "outputs": [],
   "source": [
    "words_test = list(set(dataset_test[\"Words\"].values))\n",
    "n_words_test = len(words_test)\n",
    "\n",
    "tags_test = []\n",
    "for tag_test in set(dataset_test[\"Tags\"].values):\n",
    "  if tag_test is nan or isinstance(tag_test, float):\n",
    "    tags_test.append(\"Unknown\")\n",
    "  else:\n",
    "    tags_test.append(tag_test)\n",
    "\n",
    "n_tags_test  = len(tags_test)"
   ]
  },
  {
   "cell_type": "code",
   "execution_count": null,
   "metadata": {
    "id": "0N8LlkYMFB7k"
   },
   "outputs": [],
   "source": [
    "word2idx_test = {w: i for i, w in enumerate(words_test)}\n",
    "tag2idx_test = {t: i for i, t in enumerate(tags_test)}\n",
    "idx2tag_test = {v: k for k, v in iteritems(tag2idx_test)}"
   ]
  },
  {
   "cell_type": "code",
   "execution_count": null,
   "metadata": {
    "id": "BqddoiMaFBxT"
   },
   "outputs": [],
   "source": [
    "maxlen_test = 344\n",
    "\n",
    "X_test = [[word2idx_test[w[0]] for w in s] for s in sentences_test]\n",
    "X_test = pad_sequences(maxlen = maxlen_test, sequences = X_test, padding = \"post\",value = n_words_test - 1)\n",
    "\n",
    "Y_test = [[tag2idx_test[w[1]] for w in s] for s in sentences_test]\n",
    "Y_test = pad_sequences(maxlen = maxlen_test, sequences = Y_test, padding = \"post\", value = 6)\n",
    "Y_test = [to_categorical(i, num_classes = n_tags_test) for i in Y_test]"
   ]
  },
  {
   "cell_type": "code",
   "execution_count": null,
   "metadata": {
    "id": "qRp8gEiAFBzi"
   },
   "outputs": [],
   "source": [
    "x = cnn.predict(X_test)"
   ]
  },
  {
   "cell_type": "code",
   "execution_count": null,
   "metadata": {
    "colab": {
     "base_uri": "https://localhost:8080/"
    },
    "id": "PiFuExFfFB10",
    "outputId": "6c4ac40b-1ceb-4ed0-e1bf-6abb0fd4083e"
   },
   "outputs": [
    {
     "name": "stdout",
     "output_type": "stream",
     "text": [
      "100/100 [==============================] - 0s 672us/step\n"
     ]
    }
   ],
   "source": [
    "def prediction(pred):\n",
    "  output = []\n",
    "  for i in pred:\n",
    "    output_i = []\n",
    "    for p in i:\n",
    "      i = np.argmax(p)\n",
    "      output_i.append(idx2tag_test[i])\n",
    "    output.append(output_i)\n",
    "  return output\n",
    "\n",
    "pred_test = cnn.predict(X_test, verbose = 1)\n",
    "labels_pred = prediction(pred_test)\n",
    "labels_test = prediction(Y_test)"
   ]
  },
  {
   "cell_type": "code",
   "execution_count": null,
   "metadata": {
    "colab": {
     "base_uri": "https://localhost:8080/"
    },
    "id": "654wB92lFB4G",
    "outputId": "5440309a-7198-4614-dc98-9f520aca5d97"
   },
   "outputs": [
    {
     "name": "stdout",
     "output_type": "stream",
     "text": [
      "F1-score: 0.7%\n"
     ]
    }
   ],
   "source": [
    "from seqeval.metrics import precision_score, recall_score, f1_score, classification_report\n",
    "print(\"F1-score: {:.1%}\".format(f1_score(labels_test, labels_pred)))"
   ]
  },
  {
   "cell_type": "code",
   "execution_count": null,
   "metadata": {
    "id": "m1wyJmryFB5x"
   },
   "outputs": [],
   "source": []
  }
 ],
 "metadata": {
  "colab": {
   "name": "model2.ipynb",
   "provenance": []
  },
  "kernelspec": {
   "display_name": "Python 3",
   "language": "python",
   "name": "python3"
  },
  "language_info": {
   "codemirror_mode": {
    "name": "ipython",
    "version": 3
   },
   "file_extension": ".py",
   "mimetype": "text/x-python",
   "name": "python",
   "nbconvert_exporter": "python",
   "pygments_lexer": "ipython3",
   "version": "3.8.5"
  }
 },
 "nbformat": 4,
 "nbformat_minor": 1
}
